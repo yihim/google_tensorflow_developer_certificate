{
 "cells": [
  {
   "cell_type": "code",
   "execution_count": 2,
   "id": "918dc139-f9df-4121-a36c-c4b7b56123bc",
   "metadata": {},
   "outputs": [],
   "source": [
    "import tensorflow as tf\n",
    "from tensorflow.keras import layers"
   ]
  },
  {
   "cell_type": "markdown",
   "id": "01ac6025-964d-490c-8d6a-9c90ddaf968e",
   "metadata": {},
   "source": [
    "# CNN"
   ]
  },
  {
   "cell_type": "code",
   "execution_count": 3,
   "id": "8bbe12e1-9236-48e1-a6a4-37aa125fa3dd",
   "metadata": {},
   "outputs": [],
   "source": [
    "INPUT_SHAPE = (128, 128, 3)\n",
    "img_size = 128"
   ]
  },
  {
   "cell_type": "code",
   "execution_count": 4,
   "id": "a46757c5-ed34-4e47-9d20-8dc2f1a0cf15",
   "metadata": {},
   "outputs": [],
   "source": [
    "def img_augmentation_layer(img_size):\n",
    "    return tf.keras.Sequential([\n",
    "        tf.keras.layers.RandomFlip(\"horizontal\"),\n",
    "        tf.keras.layers.RandomHeight(0.2),\n",
    "        tf.keras.layers.RandomWidth(0.2),\n",
    "        tf.keras.layers.RandomRotation(0.2),\n",
    "        tf.keras.layers.RandomZoom(0.2),\n",
    "        tf.keras.layers.Resizing(img_size, img_size)\n",
    "    ], name=\"img_augmentation_layer\")"
   ]
  },
  {
   "cell_type": "code",
   "execution_count": 5,
   "id": "db6e81e7-f8f5-4923-95fd-d31ac64024c9",
   "metadata": {},
   "outputs": [],
   "source": [
    "data_augmentation = img_augmentation_layer(img_size)"
   ]
  },
  {
   "cell_type": "code",
   "execution_count": 6,
   "id": "5caff5e6-cec4-452a-b318-8e07db5b7150",
   "metadata": {},
   "outputs": [],
   "source": [
    "tf.keras.backend.clear_session()\n",
    "\n",
    "inputs = layers.Input(shape=INPUT_SHAPE, dtype=tf.float32)\n",
    "x = data_augmentation(inputs, training=True)\n",
    "x = layers.Conv2D(10, 3, activation=\"relu\")(x)\n",
    "x = layers.Conv2D(10, 3, activation=\"relu\")(x)\n",
    "x = layers.MaxPool2D(2)(x)\n",
    "x = layers.Conv2D(10, 3, activation=\"relu\")(x)\n",
    "x = layers.Conv2D(10, 3, activation=\"relu\")(x)\n",
    "x = layers.MaxPool2D(2)(x)\n",
    "x = layers.Flatten()(x)\n",
    "outputs = layers.Dense(4, activation=\"softmax\")(x)\n",
    "\n",
    "model_1 = tf.keras.Model(inputs, outputs, name=\"model_1\")"
   ]
  },
  {
   "cell_type": "code",
   "execution_count": 26,
   "id": "f2f48f3e-261e-4e3a-9d06-1f5939a00857",
   "metadata": {},
   "outputs": [],
   "source": [
    "# optimizer=tf.keras.optimizers.Adam()"
   ]
  },
  {
   "cell_type": "code",
   "execution_count": 7,
   "id": "dff374cd-6d7c-43b6-9abf-17a541a19389",
   "metadata": {},
   "outputs": [
    {
     "name": "stdout",
     "output_type": "stream",
     "text": [
      "Model: \"model_1\"\n",
      "_________________________________________________________________\n",
      " Layer (type)                Output Shape              Param #   \n",
      "=================================================================\n",
      " input_1 (InputLayer)        [(None, 128, 128, 3)]     0         \n",
      "                                                                 \n",
      " img_augmentation_layer (Seq  (None, 128, 128, 3)      0         \n",
      " uential)                                                        \n",
      "                                                                 \n",
      " conv2d (Conv2D)             (None, 126, 126, 10)      280       \n",
      "                                                                 \n",
      " conv2d_1 (Conv2D)           (None, 124, 124, 10)      910       \n",
      "                                                                 \n",
      " max_pooling2d (MaxPooling2D  (None, 62, 62, 10)       0         \n",
      " )                                                               \n",
      "                                                                 \n",
      " conv2d_2 (Conv2D)           (None, 60, 60, 10)        910       \n",
      "                                                                 \n",
      " conv2d_3 (Conv2D)           (None, 58, 58, 10)        910       \n",
      "                                                                 \n",
      " max_pooling2d_1 (MaxPooling  (None, 29, 29, 10)       0         \n",
      " 2D)                                                             \n",
      "                                                                 \n",
      " flatten (Flatten)           (None, 8410)              0         \n",
      "                                                                 \n",
      " dense (Dense)               (None, 4)                 33644     \n",
      "                                                                 \n",
      "=================================================================\n",
      "Total params: 36,654\n",
      "Trainable params: 36,654\n",
      "Non-trainable params: 0\n",
      "_________________________________________________________________\n"
     ]
    }
   ],
   "source": [
    "model_1.summary()"
   ]
  },
  {
   "cell_type": "code",
   "execution_count": 8,
   "id": "cead92bc-42a8-4afb-95b5-45b6e7d36f2b",
   "metadata": {},
   "outputs": [],
   "source": [
    "tf.keras.backend.clear_session()\n",
    "\n",
    "inputs = layers.Input(shape=INPUT_SHAPE, dtype=tf.float32)\n",
    "x = data_augmentation(inputs, training=True)\n",
    "x = layers.Conv2D(64, 3, activation=\"relu\")(x)\n",
    "x = layers.MaxPool2D(2)(x)\n",
    "x = layers.Conv2D(64, 3, activation=\"relu\")(x)\n",
    "x = layers.MaxPool2D(2)(x)\n",
    "x = layers.Conv2D(128, 3, activation=\"relu\")(x)\n",
    "x = layers.MaxPool2D(2)(x)\n",
    "x = layers.Conv2D(128, 3, activation=\"relu\")(x)\n",
    "x = layers.MaxPool2D(2)(x)\n",
    "x = layers.Flatten()(x)\n",
    "x = layers.Dropout(0.5)(x)\n",
    "x = layers.Dense(512, activation=\"relu\")(x)\n",
    "outputs = layers.Dense(4, activation=\"softmax\")(x)\n",
    "\n",
    "model_2 = tf.keras.Model(inputs, outputs, name=\"model_2\")"
   ]
  },
  {
   "cell_type": "code",
   "execution_count": 27,
   "id": "7f370a3b-511d-4a0f-aab2-20fc6500f3dc",
   "metadata": {},
   "outputs": [],
   "source": [
    "# optimizer=\"rmsprop\""
   ]
  },
  {
   "cell_type": "code",
   "execution_count": 9,
   "id": "0295d9e2-c41b-4494-899c-f449e583a36c",
   "metadata": {},
   "outputs": [
    {
     "name": "stdout",
     "output_type": "stream",
     "text": [
      "Model: \"model_2\"\n",
      "_________________________________________________________________\n",
      " Layer (type)                Output Shape              Param #   \n",
      "=================================================================\n",
      " input_1 (InputLayer)        [(None, 128, 128, 3)]     0         \n",
      "                                                                 \n",
      " img_augmentation_layer (Seq  (None, 128, 128, 3)      0         \n",
      " uential)                                                        \n",
      "                                                                 \n",
      " conv2d (Conv2D)             (None, 126, 126, 64)      1792      \n",
      "                                                                 \n",
      " max_pooling2d (MaxPooling2D  (None, 63, 63, 64)       0         \n",
      " )                                                               \n",
      "                                                                 \n",
      " conv2d_1 (Conv2D)           (None, 61, 61, 64)        36928     \n",
      "                                                                 \n",
      " max_pooling2d_1 (MaxPooling  (None, 30, 30, 64)       0         \n",
      " 2D)                                                             \n",
      "                                                                 \n",
      " conv2d_2 (Conv2D)           (None, 28, 28, 128)       73856     \n",
      "                                                                 \n",
      " max_pooling2d_2 (MaxPooling  (None, 14, 14, 128)      0         \n",
      " 2D)                                                             \n",
      "                                                                 \n",
      " conv2d_3 (Conv2D)           (None, 12, 12, 128)       147584    \n",
      "                                                                 \n",
      " max_pooling2d_3 (MaxPooling  (None, 6, 6, 128)        0         \n",
      " 2D)                                                             \n",
      "                                                                 \n",
      " flatten (Flatten)           (None, 4608)              0         \n",
      "                                                                 \n",
      " dropout (Dropout)           (None, 4608)              0         \n",
      "                                                                 \n",
      " dense (Dense)               (None, 512)               2359808   \n",
      "                                                                 \n",
      " dense_1 (Dense)             (None, 4)                 2052      \n",
      "                                                                 \n",
      "=================================================================\n",
      "Total params: 2,622,020\n",
      "Trainable params: 2,622,020\n",
      "Non-trainable params: 0\n",
      "_________________________________________________________________\n"
     ]
    }
   ],
   "source": [
    "model_2.summary()"
   ]
  },
  {
   "cell_type": "markdown",
   "id": "55986809-0d1e-4338-bcc3-813f4c1e7ffa",
   "metadata": {},
   "source": [
    "# NLP"
   ]
  },
  {
   "cell_type": "code",
   "execution_count": 10,
   "id": "1471bb08-7b57-41c1-9d82-978cbfe0ff3e",
   "metadata": {},
   "outputs": [],
   "source": [
    "max_vocab_length = 10000\n",
    "# max_length = int(np.percentile(sentence_len, 95))\n",
    "max_length = 45\n",
    "\n",
    "text_vectorizor = layers.TextVectorization(max_tokens=max_vocab_length,\n",
    "                                           output_mode=\"int\",\n",
    "                                           output_sequence_length=max_length)\n",
    "\n",
    "# text_vectorizer.adapt(train_sentences)\n",
    "\n",
    "text_embedding = layers.Embedding(input_dim=max_vocab_length,\n",
    "                                  output_dim=128,\n",
    "                                  input_length=max_length,\n",
    "                                  mask_zero=True)"
   ]
  },
  {
   "cell_type": "code",
   "execution_count": 11,
   "id": "d0ab635c-583b-446e-8fe3-e32b12fedb2d",
   "metadata": {},
   "outputs": [],
   "source": [
    "tf.keras.backend.clear_session()\n",
    "\n",
    "inputs = layers.Input(shape=(1,), dtype=tf.string)\n",
    "x = text_vectorizor(inputs)\n",
    "x = text_embedding(x)\n",
    "x = layers.Conv1D(64, 3, activation=\"relu\")(x)\n",
    "x = layers.Conv1D(64, 3, activation=\"relu\")(x)\n",
    "x = layers.GlobalAveragePooling1D()(x)\n",
    "x = layers.Flatten()(x)\n",
    "x = layers.Dropout(0.5)(x)\n",
    "x = layers.Dense(32, activation=\"relu\")(x)\n",
    "x = layers.Dropout(0.5)(x)\n",
    "outputs = layers.Dense(4, activation=\"softmax\")(x)\n",
    "\n",
    "model_3 = tf.keras.Model(inputs, outputs, name=\"model_3\")"
   ]
  },
  {
   "cell_type": "code",
   "execution_count": null,
   "id": "81fdfded-02fd-4008-90b0-be80b2548613",
   "metadata": {},
   "outputs": [],
   "source": [
    "# optimizer=tf.keras.optimizers.Adam()"
   ]
  },
  {
   "cell_type": "code",
   "execution_count": 12,
   "id": "eaddc90c-fb54-434b-8739-7edc89dc2515",
   "metadata": {},
   "outputs": [
    {
     "name": "stdout",
     "output_type": "stream",
     "text": [
      "Model: \"model_3\"\n",
      "_________________________________________________________________\n",
      " Layer (type)                Output Shape              Param #   \n",
      "=================================================================\n",
      " input_1 (InputLayer)        [(None, 1)]               0         \n",
      "                                                                 \n",
      " text_vectorization (TextVec  (None, 45)               0         \n",
      " torization)                                                     \n",
      "                                                                 \n",
      " embedding (Embedding)       (None, 45, 128)           1280000   \n",
      "                                                                 \n",
      " conv1d (Conv1D)             (None, 43, 64)            24640     \n",
      "                                                                 \n",
      " conv1d_1 (Conv1D)           (None, 41, 64)            12352     \n",
      "                                                                 \n",
      " global_average_pooling1d (G  (None, 64)               0         \n",
      " lobalAveragePooling1D)                                          \n",
      "                                                                 \n",
      " flatten (Flatten)           (None, 64)                0         \n",
      "                                                                 \n",
      " dropout (Dropout)           (None, 64)                0         \n",
      "                                                                 \n",
      " dense (Dense)               (None, 32)                2080      \n",
      "                                                                 \n",
      " dropout_1 (Dropout)         (None, 32)                0         \n",
      "                                                                 \n",
      " dense_1 (Dense)             (None, 4)                 132       \n",
      "                                                                 \n",
      "=================================================================\n",
      "Total params: 1,319,204\n",
      "Trainable params: 1,319,204\n",
      "Non-trainable params: 0\n",
      "_________________________________________________________________\n"
     ]
    }
   ],
   "source": [
    "model_3.summary()"
   ]
  },
  {
   "cell_type": "code",
   "execution_count": 13,
   "id": "ddd8bffa-627c-4bf2-8595-bb8e407dd72b",
   "metadata": {},
   "outputs": [],
   "source": [
    "tf.keras.backend.clear_session()\n",
    "\n",
    "inputs = layers.Input(shape=(1,), dtype=tf.string)\n",
    "x = text_vectorizor(inputs)\n",
    "x = text_embedding(x)\n",
    "x = layers.LSTM(60, return_sequences=True)(x)\n",
    "x = layers.GlobalMaxPool1D()(x)\n",
    "x = layers.Dropout(0.1)(x)\n",
    "x = layers.Dense(50, activation=\"relu\")(x)\n",
    "x = layers.Dropout(0.1)(x)\n",
    "outputs = layers.Dense(4, activation=\"softmax\")(x)\n",
    "\n",
    "model_4 = tf.keras.Model(inputs, outputs, name=\"model_4\")"
   ]
  },
  {
   "cell_type": "code",
   "execution_count": 28,
   "id": "57033c05-78c7-436f-a9fc-5830570d194a",
   "metadata": {},
   "outputs": [],
   "source": [
    "# optimizer=tf.keras.optimizers.Adam()"
   ]
  },
  {
   "cell_type": "code",
   "execution_count": 14,
   "id": "3905f337-96bc-480c-9dc9-609e1b13aae0",
   "metadata": {},
   "outputs": [
    {
     "name": "stdout",
     "output_type": "stream",
     "text": [
      "Model: \"model_4\"\n",
      "_________________________________________________________________\n",
      " Layer (type)                Output Shape              Param #   \n",
      "=================================================================\n",
      " input_1 (InputLayer)        [(None, 1)]               0         \n",
      "                                                                 \n",
      " text_vectorization (TextVec  (None, 45)               0         \n",
      " torization)                                                     \n",
      "                                                                 \n",
      " embedding (Embedding)       (None, 45, 128)           1280000   \n",
      "                                                                 \n",
      " lstm (LSTM)                 (None, 45, 60)            45360     \n",
      "                                                                 \n",
      " global_max_pooling1d (Globa  (None, 60)               0         \n",
      " lMaxPooling1D)                                                  \n",
      "                                                                 \n",
      " dropout (Dropout)           (None, 60)                0         \n",
      "                                                                 \n",
      " dense (Dense)               (None, 50)                3050      \n",
      "                                                                 \n",
      " dropout_1 (Dropout)         (None, 50)                0         \n",
      "                                                                 \n",
      " dense_1 (Dense)             (None, 4)                 204       \n",
      "                                                                 \n",
      "=================================================================\n",
      "Total params: 1,328,614\n",
      "Trainable params: 1,328,614\n",
      "Non-trainable params: 0\n",
      "_________________________________________________________________\n"
     ]
    }
   ],
   "source": [
    "model_4.summary()"
   ]
  },
  {
   "cell_type": "code",
   "execution_count": 15,
   "id": "2f9b456b-a367-4dc3-ad7b-a527cbf132b4",
   "metadata": {},
   "outputs": [],
   "source": [
    "tf.keras.backend.clear_session()\n",
    "\n",
    "inputs = layers.Input(shape=(1,), dtype=tf.string)\n",
    "x = text_vectorizor(inputs)\n",
    "x = text_embedding(x)\n",
    "x = layers.Bidirectional(layers.LSTM(64, return_sequences=True))(x)\n",
    "x = layers.Bidirectional(layers.LSTM(64, return_sequences=True))(x)\n",
    "x = layers.GlobalMaxPool1D()(x)\n",
    "x = layers.Dense(64, activation=\"relu\")(x)\n",
    "x = layers.Dropout(0.1)(x)\n",
    "outputs = layers.Dense(4, activation=\"softmax\")(x)\n",
    "\n",
    "model_5 = tf.keras.Model(inputs, outputs, name=\"model_5\")"
   ]
  },
  {
   "cell_type": "code",
   "execution_count": 29,
   "id": "908186cf-8d9a-4ae4-89bf-222f0e105623",
   "metadata": {},
   "outputs": [],
   "source": [
    "# optimizer=tf.keras.optimizers.Adam()"
   ]
  },
  {
   "cell_type": "code",
   "execution_count": 16,
   "id": "6b7e55a3-4aff-454d-aeac-e15874594d1f",
   "metadata": {},
   "outputs": [
    {
     "name": "stdout",
     "output_type": "stream",
     "text": [
      "Model: \"model_5\"\n",
      "_________________________________________________________________\n",
      " Layer (type)                Output Shape              Param #   \n",
      "=================================================================\n",
      " input_1 (InputLayer)        [(None, 1)]               0         \n",
      "                                                                 \n",
      " text_vectorization (TextVec  (None, 45)               0         \n",
      " torization)                                                     \n",
      "                                                                 \n",
      " embedding (Embedding)       (None, 45, 128)           1280000   \n",
      "                                                                 \n",
      " bidirectional (Bidirectiona  (None, 45, 128)          98816     \n",
      " l)                                                              \n",
      "                                                                 \n",
      " bidirectional_1 (Bidirectio  (None, 45, 128)          98816     \n",
      " nal)                                                            \n",
      "                                                                 \n",
      " global_max_pooling1d (Globa  (None, 128)              0         \n",
      " lMaxPooling1D)                                                  \n",
      "                                                                 \n",
      " dense (Dense)               (None, 64)                8256      \n",
      "                                                                 \n",
      " dropout (Dropout)           (None, 64)                0         \n",
      "                                                                 \n",
      " dense_1 (Dense)             (None, 4)                 260       \n",
      "                                                                 \n",
      "=================================================================\n",
      "Total params: 1,486,148\n",
      "Trainable params: 1,486,148\n",
      "Non-trainable params: 0\n",
      "_________________________________________________________________\n"
     ]
    }
   ],
   "source": [
    "model_5.summary()"
   ]
  },
  {
   "cell_type": "code",
   "execution_count": 17,
   "id": "21d7cbe6-7b81-424d-b374-a133503904c9",
   "metadata": {},
   "outputs": [],
   "source": [
    "tf.keras.backend.clear_session()\n",
    "\n",
    "inputs = layers.Input(shape=(1,), dtype=tf.string)\n",
    "x = text_vectorizor(inputs)\n",
    "x = text_embedding(x)\n",
    "x = layers.Bidirectional(layers.LSTM(128, return_sequences=True, dropout=0.3))(x)\n",
    "x = layers.Bidirectional(layers.LSTM(128, dropout=0.3))(x)\n",
    "x = layers.Dense(512)(x)\n",
    "x = tf.keras.activations.swish(x)\n",
    "x = layers.Dropout(0.5)(x)\n",
    "x = layers.Dense(512)(x)\n",
    "x = tf.keras.activations.swish(x)\n",
    "x = layers.Dropout(0.5)(x)\n",
    "x = layers.Dense(512)(x)\n",
    "x = tf.keras.activations.swish(x)\n",
    "x = layers.Dropout(0.5)(x)\n",
    "outputs = layers.Dense(4, activation=\"softmax\")(x)\n",
    "\n",
    "model_6 = tf.keras.Model(inputs, outputs, name=\"model_6\")"
   ]
  },
  {
   "cell_type": "code",
   "execution_count": 30,
   "id": "f66fe0e9-0923-4a7a-b45b-fa9aff03f73b",
   "metadata": {},
   "outputs": [],
   "source": [
    "# optimizer=\"rmsprop\""
   ]
  },
  {
   "cell_type": "code",
   "execution_count": 18,
   "id": "76dd592b-ae88-4e4a-8630-ba5f61620b7d",
   "metadata": {},
   "outputs": [
    {
     "name": "stdout",
     "output_type": "stream",
     "text": [
      "Model: \"model_6\"\n",
      "_________________________________________________________________\n",
      " Layer (type)                Output Shape              Param #   \n",
      "=================================================================\n",
      " input_1 (InputLayer)        [(None, 1)]               0         \n",
      "                                                                 \n",
      " text_vectorization (TextVec  (None, 45)               0         \n",
      " torization)                                                     \n",
      "                                                                 \n",
      " embedding (Embedding)       (None, 45, 128)           1280000   \n",
      "                                                                 \n",
      " bidirectional (Bidirectiona  (None, 45, 256)          263168    \n",
      " l)                                                              \n",
      "                                                                 \n",
      " bidirectional_1 (Bidirectio  (None, 256)              394240    \n",
      " nal)                                                            \n",
      "                                                                 \n",
      " dense (Dense)               (None, 512)               131584    \n",
      "                                                                 \n",
      " tf.nn.silu (TFOpLambda)     (None, 512)               0         \n",
      "                                                                 \n",
      " dropout (Dropout)           (None, 512)               0         \n",
      "                                                                 \n",
      " dense_1 (Dense)             (None, 512)               262656    \n",
      "                                                                 \n",
      " tf.nn.silu_1 (TFOpLambda)   (None, 512)               0         \n",
      "                                                                 \n",
      " dropout_1 (Dropout)         (None, 512)               0         \n",
      "                                                                 \n",
      " dense_2 (Dense)             (None, 512)               262656    \n",
      "                                                                 \n",
      " tf.nn.silu_2 (TFOpLambda)   (None, 512)               0         \n",
      "                                                                 \n",
      " dropout_2 (Dropout)         (None, 512)               0         \n",
      "                                                                 \n",
      " dense_3 (Dense)             (None, 4)                 2052      \n",
      "                                                                 \n",
      "=================================================================\n",
      "Total params: 2,596,356\n",
      "Trainable params: 2,596,356\n",
      "Non-trainable params: 0\n",
      "_________________________________________________________________\n"
     ]
    }
   ],
   "source": [
    "model_6.summary()"
   ]
  },
  {
   "cell_type": "markdown",
   "id": "1efff6d9-1680-43f0-944a-40bbcee03054",
   "metadata": {},
   "source": [
    "# TS"
   ]
  },
  {
   "cell_type": "code",
   "execution_count": 19,
   "id": "2cf6c633-810e-4a61-9972-97d41debfc9a",
   "metadata": {},
   "outputs": [],
   "source": [
    "num_steps = 24\n",
    "num_features = 2\n",
    "num_future = 1"
   ]
  },
  {
   "cell_type": "code",
   "execution_count": 20,
   "id": "e7047bad-c0fc-4018-9bc0-1b0f2920e5d4",
   "metadata": {},
   "outputs": [
    {
     "name": "stdout",
     "output_type": "stream",
     "text": [
      "WARNING:tensorflow:Layer lstm will not use cuDNN kernels since it doesn't meet the criteria. It will use a generic GPU kernel as fallback when running on GPU.\n",
      "WARNING:tensorflow:Layer lstm will not use cuDNN kernels since it doesn't meet the criteria. It will use a generic GPU kernel as fallback when running on GPU.\n",
      "WARNING:tensorflow:Layer lstm will not use cuDNN kernels since it doesn't meet the criteria. It will use a generic GPU kernel as fallback when running on GPU.\n"
     ]
    }
   ],
   "source": [
    "tf.keras.backend.clear_session()\n",
    "\n",
    "inputs = layers.Input(shape=(num_steps, num_features), dtype=tf.float32)\n",
    "x = layers.Conv1D(16, 3, activation=\"relu\", padding=\"causal\")(inputs)\n",
    "x = layers.Bidirectional(layers.LSTM(16, activation=\"relu\"))(x)\n",
    "x = layers.Dense(16)(x)\n",
    "outputs = layers.Dense(num_future)(x)\n",
    "\n",
    "model_7 = tf.keras.Model(inputs, outputs, name=\"model_7\")"
   ]
  },
  {
   "cell_type": "code",
   "execution_count": 32,
   "id": "39da78aa-1fe8-4ec7-8726-d370adf79fe2",
   "metadata": {},
   "outputs": [],
   "source": [
    "# optimizer=tf.keras.optimizers.Adam(learning_rate=0.001)"
   ]
  },
  {
   "cell_type": "code",
   "execution_count": 21,
   "id": "4360d322-080e-484c-9cff-4915083c2308",
   "metadata": {},
   "outputs": [
    {
     "name": "stdout",
     "output_type": "stream",
     "text": [
      "Model: \"model_7\"\n",
      "_________________________________________________________________\n",
      " Layer (type)                Output Shape              Param #   \n",
      "=================================================================\n",
      " input_1 (InputLayer)        [(None, 24, 2)]           0         \n",
      "                                                                 \n",
      " conv1d (Conv1D)             (None, 24, 16)            112       \n",
      "                                                                 \n",
      " bidirectional (Bidirectiona  (None, 32)               4224      \n",
      " l)                                                              \n",
      "                                                                 \n",
      " dense (Dense)               (None, 16)                528       \n",
      "                                                                 \n",
      " dense_1 (Dense)             (None, 1)                 17        \n",
      "                                                                 \n",
      "=================================================================\n",
      "Total params: 4,881\n",
      "Trainable params: 4,881\n",
      "Non-trainable params: 0\n",
      "_________________________________________________________________\n"
     ]
    }
   ],
   "source": [
    "model_7.summary()"
   ]
  },
  {
   "cell_type": "code",
   "execution_count": 22,
   "id": "35de351c-5bdb-4702-8630-b7370e2507fe",
   "metadata": {},
   "outputs": [
    {
     "name": "stdout",
     "output_type": "stream",
     "text": [
      "WARNING:tensorflow:Layer lstm will not use cuDNN kernels since it doesn't meet the criteria. It will use a generic GPU kernel as fallback when running on GPU.\n",
      "WARNING:tensorflow:Layer lstm_1 will not use cuDNN kernels since it doesn't meet the criteria. It will use a generic GPU kernel as fallback when running on GPU.\n"
     ]
    }
   ],
   "source": [
    "tf.keras.backend.clear_session()\n",
    "\n",
    "inputs = layers.Input(shape=(num_steps, num_features), dtype=tf.float32)\n",
    "x = layers.LSTM(50, activation=\"relu\", return_sequences=True)(inputs)\n",
    "x = layers.LSTM(25, activation=\"relu\")(x)\n",
    "x = layers.Dropout(0.3)(x)\n",
    "outputs = layers.Dense(num_future)(x)\n",
    "\n",
    "model_8 = tf.keras.Model(inputs, outputs, name=\"model_8\")"
   ]
  },
  {
   "cell_type": "code",
   "execution_count": 33,
   "id": "c15981c9-0da7-4d0e-8460-985b5b1d4122",
   "metadata": {},
   "outputs": [],
   "source": [
    "# optimizer=tf.keras.optimizers.Adam(learning_rate=5e-3)"
   ]
  },
  {
   "cell_type": "code",
   "execution_count": 23,
   "id": "2b6df24b-86ae-4048-95e6-159f90ed9808",
   "metadata": {},
   "outputs": [
    {
     "name": "stdout",
     "output_type": "stream",
     "text": [
      "Model: \"model_8\"\n",
      "_________________________________________________________________\n",
      " Layer (type)                Output Shape              Param #   \n",
      "=================================================================\n",
      " input_1 (InputLayer)        [(None, 24, 2)]           0         \n",
      "                                                                 \n",
      " lstm (LSTM)                 (None, 24, 50)            10600     \n",
      "                                                                 \n",
      " lstm_1 (LSTM)               (None, 25)                7600      \n",
      "                                                                 \n",
      " dropout (Dropout)           (None, 25)                0         \n",
      "                                                                 \n",
      " dense (Dense)               (None, 1)                 26        \n",
      "                                                                 \n",
      "=================================================================\n",
      "Total params: 18,226\n",
      "Trainable params: 18,226\n",
      "Non-trainable params: 0\n",
      "_________________________________________________________________\n"
     ]
    }
   ],
   "source": [
    "model_8.summary()"
   ]
  },
  {
   "cell_type": "code",
   "execution_count": 24,
   "id": "5fce4ecd-3ba1-4ffe-ba3d-72939cd6e5e7",
   "metadata": {},
   "outputs": [
    {
     "name": "stdout",
     "output_type": "stream",
     "text": [
      "WARNING:tensorflow:Layer lstm will not use cuDNN kernels since it doesn't meet the criteria. It will use a generic GPU kernel as fallback when running on GPU.\n",
      "WARNING:tensorflow:Layer lstm_1 will not use cuDNN kernels since it doesn't meet the criteria. It will use a generic GPU kernel as fallback when running on GPU.\n"
     ]
    }
   ],
   "source": [
    "tf.keras.backend.clear_session()\n",
    "\n",
    "inputs = layers.Input(shape=(num_steps, num_features), dtype=tf.float32)\n",
    "x = layers.Conv1D(64, 6, activation=\"relu\")(inputs)\n",
    "x = layers.MaxPooling1D(2)(x)\n",
    "x = layers.Conv1D(64, 3, activation=\"relu\")(x)\n",
    "x = layers.MaxPooling1D(2)(x)\n",
    "x = layers.LSTM(72, activation=\"relu\", return_sequences=True)(x)\n",
    "x = layers.LSTM(48, activation=\"relu\")(x)\n",
    "x = layers.Flatten()(x)\n",
    "x = layers.Dropout(0.3)(x)\n",
    "x = layers.Dense(128)(x)\n",
    "x = layers.Dropout(0.3)(x)\n",
    "outputs = layers.Dense(num_future)(x)\n",
    "\n",
    "model_9 = tf.keras.Model(inputs, outputs, name=\"model_9\")"
   ]
  },
  {
   "cell_type": "code",
   "execution_count": 31,
   "id": "dc661b1d-29a0-4ea5-bf76-ee931235b9b4",
   "metadata": {},
   "outputs": [],
   "source": [
    "# optimizer=tf.keras.optimizers.Adam(learning_rate=3e-4)"
   ]
  },
  {
   "cell_type": "code",
   "execution_count": 25,
   "id": "1db99021-d140-425f-a098-4aeac0da8441",
   "metadata": {},
   "outputs": [
    {
     "name": "stdout",
     "output_type": "stream",
     "text": [
      "Model: \"model_9\"\n",
      "_________________________________________________________________\n",
      " Layer (type)                Output Shape              Param #   \n",
      "=================================================================\n",
      " input_1 (InputLayer)        [(None, 24, 2)]           0         \n",
      "                                                                 \n",
      " conv1d (Conv1D)             (None, 19, 64)            832       \n",
      "                                                                 \n",
      " max_pooling1d (MaxPooling1D  (None, 9, 64)            0         \n",
      " )                                                               \n",
      "                                                                 \n",
      " conv1d_1 (Conv1D)           (None, 7, 64)             12352     \n",
      "                                                                 \n",
      " max_pooling1d_1 (MaxPooling  (None, 3, 64)            0         \n",
      " 1D)                                                             \n",
      "                                                                 \n",
      " lstm (LSTM)                 (None, 3, 72)             39456     \n",
      "                                                                 \n",
      " lstm_1 (LSTM)               (None, 48)                23232     \n",
      "                                                                 \n",
      " flatten (Flatten)           (None, 48)                0         \n",
      "                                                                 \n",
      " dropout (Dropout)           (None, 48)                0         \n",
      "                                                                 \n",
      " dense (Dense)               (None, 128)               6272      \n",
      "                                                                 \n",
      " dropout_1 (Dropout)         (None, 128)               0         \n",
      "                                                                 \n",
      " dense_1 (Dense)             (None, 1)                 129       \n",
      "                                                                 \n",
      "=================================================================\n",
      "Total params: 82,273\n",
      "Trainable params: 82,273\n",
      "Non-trainable params: 0\n",
      "_________________________________________________________________\n"
     ]
    }
   ],
   "source": [
    "model_9.summary()"
   ]
  },
  {
   "cell_type": "code",
   "execution_count": null,
   "id": "8d3b1d1a-8e9f-49b7-8ada-71954f50a7c1",
   "metadata": {},
   "outputs": [],
   "source": []
  }
 ],
 "metadata": {
  "kernelspec": {
   "display_name": "mldl",
   "language": "python",
   "name": "mldl"
  },
  "language_info": {
   "codemirror_mode": {
    "name": "ipython",
    "version": 3
   },
   "file_extension": ".py",
   "mimetype": "text/x-python",
   "name": "python",
   "nbconvert_exporter": "python",
   "pygments_lexer": "ipython3",
   "version": "3.9.2"
  }
 },
 "nbformat": 4,
 "nbformat_minor": 5
}
