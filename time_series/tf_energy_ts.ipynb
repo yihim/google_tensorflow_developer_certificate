{
 "cells": [
  {
   "cell_type": "code",
   "execution_count": 1,
   "id": "20e69d17-0010-422d-a910-10ca2a77a8fc",
   "metadata": {},
   "outputs": [],
   "source": [
    "import tensorflow as tf\n",
    "import pandas as pd\n",
    "import numpy as np\n",
    "import matplotlib.pyplot as plt"
   ]
  },
  {
   "cell_type": "code",
   "execution_count": 2,
   "id": "0a764975-30c5-404f-9906-ed80a291089e",
   "metadata": {},
   "outputs": [],
   "source": [
    "gpus = tf.config.list_physical_devices('GPU')\n",
    "\n",
    "if gpus:\n",
    "    for gpu in gpus:\n",
    "        tf.config.experimental.set_memory_growth(gpu, True)"
   ]
  },
  {
   "cell_type": "code",
   "execution_count": 3,
   "id": "6cfd6881-203c-40ee-9942-e661248e603d",
   "metadata": {},
   "outputs": [
    {
     "data": {
      "text/html": [
       "<div>\n",
       "<style scoped>\n",
       "    .dataframe tbody tr th:only-of-type {\n",
       "        vertical-align: middle;\n",
       "    }\n",
       "\n",
       "    .dataframe tbody tr th {\n",
       "        vertical-align: top;\n",
       "    }\n",
       "\n",
       "    .dataframe thead th {\n",
       "        text-align: right;\n",
       "    }\n",
       "</style>\n",
       "<table border=\"1\" class=\"dataframe\">\n",
       "  <thead>\n",
       "    <tr style=\"text-align: right;\">\n",
       "      <th></th>\n",
       "      <th>generation biomass</th>\n",
       "      <th>generation fossil brown coal/lignite</th>\n",
       "      <th>generation fossil coal-derived gas</th>\n",
       "      <th>generation fossil gas</th>\n",
       "      <th>generation fossil hard coal</th>\n",
       "      <th>generation fossil oil</th>\n",
       "      <th>generation fossil oil shale</th>\n",
       "      <th>generation fossil peat</th>\n",
       "      <th>generation geothermal</th>\n",
       "      <th>generation hydro pumped storage aggregated</th>\n",
       "      <th>...</th>\n",
       "      <th>generation waste</th>\n",
       "      <th>generation wind offshore</th>\n",
       "      <th>generation wind onshore</th>\n",
       "      <th>forecast solar day ahead</th>\n",
       "      <th>forecast wind offshore eday ahead</th>\n",
       "      <th>forecast wind onshore day ahead</th>\n",
       "      <th>total load forecast</th>\n",
       "      <th>total load actual</th>\n",
       "      <th>price day ahead</th>\n",
       "      <th>price actual</th>\n",
       "    </tr>\n",
       "    <tr>\n",
       "      <th>time</th>\n",
       "      <th></th>\n",
       "      <th></th>\n",
       "      <th></th>\n",
       "      <th></th>\n",
       "      <th></th>\n",
       "      <th></th>\n",
       "      <th></th>\n",
       "      <th></th>\n",
       "      <th></th>\n",
       "      <th></th>\n",
       "      <th></th>\n",
       "      <th></th>\n",
       "      <th></th>\n",
       "      <th></th>\n",
       "      <th></th>\n",
       "      <th></th>\n",
       "      <th></th>\n",
       "      <th></th>\n",
       "      <th></th>\n",
       "      <th></th>\n",
       "      <th></th>\n",
       "    </tr>\n",
       "  </thead>\n",
       "  <tbody>\n",
       "    <tr>\n",
       "      <th>2015-01-01 00:00:00+01:00</th>\n",
       "      <td>447.0</td>\n",
       "      <td>329.0</td>\n",
       "      <td>0.0</td>\n",
       "      <td>4844.0</td>\n",
       "      <td>4821.0</td>\n",
       "      <td>162.0</td>\n",
       "      <td>0.0</td>\n",
       "      <td>0.0</td>\n",
       "      <td>0.0</td>\n",
       "      <td>NaN</td>\n",
       "      <td>...</td>\n",
       "      <td>196.0</td>\n",
       "      <td>0.0</td>\n",
       "      <td>6378.0</td>\n",
       "      <td>17.0</td>\n",
       "      <td>NaN</td>\n",
       "      <td>6436.0</td>\n",
       "      <td>26118.0</td>\n",
       "      <td>25385.0</td>\n",
       "      <td>50.10</td>\n",
       "      <td>65.41</td>\n",
       "    </tr>\n",
       "    <tr>\n",
       "      <th>2015-01-01 01:00:00+01:00</th>\n",
       "      <td>449.0</td>\n",
       "      <td>328.0</td>\n",
       "      <td>0.0</td>\n",
       "      <td>5196.0</td>\n",
       "      <td>4755.0</td>\n",
       "      <td>158.0</td>\n",
       "      <td>0.0</td>\n",
       "      <td>0.0</td>\n",
       "      <td>0.0</td>\n",
       "      <td>NaN</td>\n",
       "      <td>...</td>\n",
       "      <td>195.0</td>\n",
       "      <td>0.0</td>\n",
       "      <td>5890.0</td>\n",
       "      <td>16.0</td>\n",
       "      <td>NaN</td>\n",
       "      <td>5856.0</td>\n",
       "      <td>24934.0</td>\n",
       "      <td>24382.0</td>\n",
       "      <td>48.10</td>\n",
       "      <td>64.92</td>\n",
       "    </tr>\n",
       "    <tr>\n",
       "      <th>2015-01-01 02:00:00+01:00</th>\n",
       "      <td>448.0</td>\n",
       "      <td>323.0</td>\n",
       "      <td>0.0</td>\n",
       "      <td>4857.0</td>\n",
       "      <td>4581.0</td>\n",
       "      <td>157.0</td>\n",
       "      <td>0.0</td>\n",
       "      <td>0.0</td>\n",
       "      <td>0.0</td>\n",
       "      <td>NaN</td>\n",
       "      <td>...</td>\n",
       "      <td>196.0</td>\n",
       "      <td>0.0</td>\n",
       "      <td>5461.0</td>\n",
       "      <td>8.0</td>\n",
       "      <td>NaN</td>\n",
       "      <td>5454.0</td>\n",
       "      <td>23515.0</td>\n",
       "      <td>22734.0</td>\n",
       "      <td>47.33</td>\n",
       "      <td>64.48</td>\n",
       "    </tr>\n",
       "    <tr>\n",
       "      <th>2015-01-01 03:00:00+01:00</th>\n",
       "      <td>438.0</td>\n",
       "      <td>254.0</td>\n",
       "      <td>0.0</td>\n",
       "      <td>4314.0</td>\n",
       "      <td>4131.0</td>\n",
       "      <td>160.0</td>\n",
       "      <td>0.0</td>\n",
       "      <td>0.0</td>\n",
       "      <td>0.0</td>\n",
       "      <td>NaN</td>\n",
       "      <td>...</td>\n",
       "      <td>191.0</td>\n",
       "      <td>0.0</td>\n",
       "      <td>5238.0</td>\n",
       "      <td>2.0</td>\n",
       "      <td>NaN</td>\n",
       "      <td>5151.0</td>\n",
       "      <td>22642.0</td>\n",
       "      <td>21286.0</td>\n",
       "      <td>42.27</td>\n",
       "      <td>59.32</td>\n",
       "    </tr>\n",
       "    <tr>\n",
       "      <th>2015-01-01 04:00:00+01:00</th>\n",
       "      <td>428.0</td>\n",
       "      <td>187.0</td>\n",
       "      <td>0.0</td>\n",
       "      <td>4130.0</td>\n",
       "      <td>3840.0</td>\n",
       "      <td>156.0</td>\n",
       "      <td>0.0</td>\n",
       "      <td>0.0</td>\n",
       "      <td>0.0</td>\n",
       "      <td>NaN</td>\n",
       "      <td>...</td>\n",
       "      <td>189.0</td>\n",
       "      <td>0.0</td>\n",
       "      <td>4935.0</td>\n",
       "      <td>9.0</td>\n",
       "      <td>NaN</td>\n",
       "      <td>4861.0</td>\n",
       "      <td>21785.0</td>\n",
       "      <td>20264.0</td>\n",
       "      <td>38.41</td>\n",
       "      <td>56.04</td>\n",
       "    </tr>\n",
       "  </tbody>\n",
       "</table>\n",
       "<p>5 rows × 28 columns</p>\n",
       "</div>"
      ],
      "text/plain": [
       "                           generation biomass  \\\n",
       "time                                            \n",
       "2015-01-01 00:00:00+01:00               447.0   \n",
       "2015-01-01 01:00:00+01:00               449.0   \n",
       "2015-01-01 02:00:00+01:00               448.0   \n",
       "2015-01-01 03:00:00+01:00               438.0   \n",
       "2015-01-01 04:00:00+01:00               428.0   \n",
       "\n",
       "                           generation fossil brown coal/lignite  \\\n",
       "time                                                              \n",
       "2015-01-01 00:00:00+01:00                                 329.0   \n",
       "2015-01-01 01:00:00+01:00                                 328.0   \n",
       "2015-01-01 02:00:00+01:00                                 323.0   \n",
       "2015-01-01 03:00:00+01:00                                 254.0   \n",
       "2015-01-01 04:00:00+01:00                                 187.0   \n",
       "\n",
       "                           generation fossil coal-derived gas  \\\n",
       "time                                                            \n",
       "2015-01-01 00:00:00+01:00                                 0.0   \n",
       "2015-01-01 01:00:00+01:00                                 0.0   \n",
       "2015-01-01 02:00:00+01:00                                 0.0   \n",
       "2015-01-01 03:00:00+01:00                                 0.0   \n",
       "2015-01-01 04:00:00+01:00                                 0.0   \n",
       "\n",
       "                           generation fossil gas  generation fossil hard coal  \\\n",
       "time                                                                            \n",
       "2015-01-01 00:00:00+01:00                 4844.0                       4821.0   \n",
       "2015-01-01 01:00:00+01:00                 5196.0                       4755.0   \n",
       "2015-01-01 02:00:00+01:00                 4857.0                       4581.0   \n",
       "2015-01-01 03:00:00+01:00                 4314.0                       4131.0   \n",
       "2015-01-01 04:00:00+01:00                 4130.0                       3840.0   \n",
       "\n",
       "                           generation fossil oil  generation fossil oil shale  \\\n",
       "time                                                                            \n",
       "2015-01-01 00:00:00+01:00                  162.0                          0.0   \n",
       "2015-01-01 01:00:00+01:00                  158.0                          0.0   \n",
       "2015-01-01 02:00:00+01:00                  157.0                          0.0   \n",
       "2015-01-01 03:00:00+01:00                  160.0                          0.0   \n",
       "2015-01-01 04:00:00+01:00                  156.0                          0.0   \n",
       "\n",
       "                           generation fossil peat  generation geothermal  \\\n",
       "time                                                                       \n",
       "2015-01-01 00:00:00+01:00                     0.0                    0.0   \n",
       "2015-01-01 01:00:00+01:00                     0.0                    0.0   \n",
       "2015-01-01 02:00:00+01:00                     0.0                    0.0   \n",
       "2015-01-01 03:00:00+01:00                     0.0                    0.0   \n",
       "2015-01-01 04:00:00+01:00                     0.0                    0.0   \n",
       "\n",
       "                           generation hydro pumped storage aggregated  ...  \\\n",
       "time                                                                   ...   \n",
       "2015-01-01 00:00:00+01:00                                         NaN  ...   \n",
       "2015-01-01 01:00:00+01:00                                         NaN  ...   \n",
       "2015-01-01 02:00:00+01:00                                         NaN  ...   \n",
       "2015-01-01 03:00:00+01:00                                         NaN  ...   \n",
       "2015-01-01 04:00:00+01:00                                         NaN  ...   \n",
       "\n",
       "                           generation waste  generation wind offshore  \\\n",
       "time                                                                    \n",
       "2015-01-01 00:00:00+01:00             196.0                       0.0   \n",
       "2015-01-01 01:00:00+01:00             195.0                       0.0   \n",
       "2015-01-01 02:00:00+01:00             196.0                       0.0   \n",
       "2015-01-01 03:00:00+01:00             191.0                       0.0   \n",
       "2015-01-01 04:00:00+01:00             189.0                       0.0   \n",
       "\n",
       "                           generation wind onshore  forecast solar day ahead  \\\n",
       "time                                                                           \n",
       "2015-01-01 00:00:00+01:00                   6378.0                      17.0   \n",
       "2015-01-01 01:00:00+01:00                   5890.0                      16.0   \n",
       "2015-01-01 02:00:00+01:00                   5461.0                       8.0   \n",
       "2015-01-01 03:00:00+01:00                   5238.0                       2.0   \n",
       "2015-01-01 04:00:00+01:00                   4935.0                       9.0   \n",
       "\n",
       "                           forecast wind offshore eday ahead  \\\n",
       "time                                                           \n",
       "2015-01-01 00:00:00+01:00                                NaN   \n",
       "2015-01-01 01:00:00+01:00                                NaN   \n",
       "2015-01-01 02:00:00+01:00                                NaN   \n",
       "2015-01-01 03:00:00+01:00                                NaN   \n",
       "2015-01-01 04:00:00+01:00                                NaN   \n",
       "\n",
       "                           forecast wind onshore day ahead  \\\n",
       "time                                                         \n",
       "2015-01-01 00:00:00+01:00                           6436.0   \n",
       "2015-01-01 01:00:00+01:00                           5856.0   \n",
       "2015-01-01 02:00:00+01:00                           5454.0   \n",
       "2015-01-01 03:00:00+01:00                           5151.0   \n",
       "2015-01-01 04:00:00+01:00                           4861.0   \n",
       "\n",
       "                           total load forecast  total load actual  \\\n",
       "time                                                                \n",
       "2015-01-01 00:00:00+01:00              26118.0            25385.0   \n",
       "2015-01-01 01:00:00+01:00              24934.0            24382.0   \n",
       "2015-01-01 02:00:00+01:00              23515.0            22734.0   \n",
       "2015-01-01 03:00:00+01:00              22642.0            21286.0   \n",
       "2015-01-01 04:00:00+01:00              21785.0            20264.0   \n",
       "\n",
       "                           price day ahead  price actual  \n",
       "time                                                      \n",
       "2015-01-01 00:00:00+01:00            50.10         65.41  \n",
       "2015-01-01 01:00:00+01:00            48.10         64.92  \n",
       "2015-01-01 02:00:00+01:00            47.33         64.48  \n",
       "2015-01-01 03:00:00+01:00            42.27         59.32  \n",
       "2015-01-01 04:00:00+01:00            38.41         56.04  \n",
       "\n",
       "[5 rows x 28 columns]"
      ]
     },
     "execution_count": 3,
     "metadata": {},
     "output_type": "execute_result"
    }
   ],
   "source": [
    "dataset = pd.read_csv(\"../dataset/time_series/energy/energy_dataset.csv\",\n",
    "                      parse_dates=[\"time\"],\n",
    "                      index_col=[\"time\"])\n",
    "\n",
    "dataset.head()"
   ]
  },
  {
   "cell_type": "code",
   "execution_count": 4,
   "id": "b2ad0bae-f205-418f-9af4-57c274c5732b",
   "metadata": {},
   "outputs": [
    {
     "data": {
      "text/html": [
       "<div>\n",
       "<style scoped>\n",
       "    .dataframe tbody tr th:only-of-type {\n",
       "        vertical-align: middle;\n",
       "    }\n",
       "\n",
       "    .dataframe tbody tr th {\n",
       "        vertical-align: top;\n",
       "    }\n",
       "\n",
       "    .dataframe thead th {\n",
       "        text-align: right;\n",
       "    }\n",
       "</style>\n",
       "<table border=\"1\" class=\"dataframe\">\n",
       "  <thead>\n",
       "    <tr style=\"text-align: right;\">\n",
       "      <th></th>\n",
       "      <th>total load actual</th>\n",
       "      <th>price actual</th>\n",
       "    </tr>\n",
       "    <tr>\n",
       "      <th>time</th>\n",
       "      <th></th>\n",
       "      <th></th>\n",
       "    </tr>\n",
       "  </thead>\n",
       "  <tbody>\n",
       "    <tr>\n",
       "      <th>2015-01-01 00:00:00+01:00</th>\n",
       "      <td>25385.0</td>\n",
       "      <td>65.41</td>\n",
       "    </tr>\n",
       "    <tr>\n",
       "      <th>2015-01-01 01:00:00+01:00</th>\n",
       "      <td>24382.0</td>\n",
       "      <td>64.92</td>\n",
       "    </tr>\n",
       "    <tr>\n",
       "      <th>2015-01-01 02:00:00+01:00</th>\n",
       "      <td>22734.0</td>\n",
       "      <td>64.48</td>\n",
       "    </tr>\n",
       "    <tr>\n",
       "      <th>2015-01-01 03:00:00+01:00</th>\n",
       "      <td>21286.0</td>\n",
       "      <td>59.32</td>\n",
       "    </tr>\n",
       "    <tr>\n",
       "      <th>2015-01-01 04:00:00+01:00</th>\n",
       "      <td>20264.0</td>\n",
       "      <td>56.04</td>\n",
       "    </tr>\n",
       "  </tbody>\n",
       "</table>\n",
       "</div>"
      ],
      "text/plain": [
       "                           total load actual  price actual\n",
       "time                                                      \n",
       "2015-01-01 00:00:00+01:00            25385.0         65.41\n",
       "2015-01-01 01:00:00+01:00            24382.0         64.92\n",
       "2015-01-01 02:00:00+01:00            22734.0         64.48\n",
       "2015-01-01 03:00:00+01:00            21286.0         59.32\n",
       "2015-01-01 04:00:00+01:00            20264.0         56.04"
      ]
     },
     "execution_count": 4,
     "metadata": {},
     "output_type": "execute_result"
    }
   ],
   "source": [
    "dataset = dataset[[\"total load actual\", \"price actual\"]]\n",
    "dataset.head()"
   ]
  },
  {
   "cell_type": "code",
   "execution_count": 5,
   "id": "ce3a3b28-2721-4653-a845-8a3e7d6764e3",
   "metadata": {},
   "outputs": [
    {
     "data": {
      "text/plain": [
       "total load actual    36\n",
       "price actual          0\n",
       "dtype: int64"
      ]
     },
     "execution_count": 5,
     "metadata": {},
     "output_type": "execute_result"
    }
   ],
   "source": [
    "dataset.isna().sum()"
   ]
  },
  {
   "cell_type": "code",
   "execution_count": 6,
   "id": "8c52c5d9-1f9b-46f9-af1b-c01ddcae8107",
   "metadata": {},
   "outputs": [
    {
     "data": {
      "text/plain": [
       "(35064, 2)"
      ]
     },
     "execution_count": 6,
     "metadata": {},
     "output_type": "execute_result"
    }
   ],
   "source": [
    "dataset.shape"
   ]
  },
  {
   "cell_type": "code",
   "execution_count": 7,
   "id": "2c8f0267-84ed-4ff4-8e7b-cf158f1b9b13",
   "metadata": {},
   "outputs": [],
   "source": [
    "dataset[\"total load actual\"] = dataset[\"total load actual\"].interpolate(method=\"linear\")"
   ]
  },
  {
   "cell_type": "code",
   "execution_count": 8,
   "id": "720bba6a-44f2-445a-b226-59527f3acc50",
   "metadata": {},
   "outputs": [
    {
     "data": {
      "text/plain": [
       "total load actual    0\n",
       "price actual         0\n",
       "dtype: int64"
      ]
     },
     "execution_count": 8,
     "metadata": {},
     "output_type": "execute_result"
    }
   ],
   "source": [
    "dataset.isna().sum()"
   ]
  },
  {
   "cell_type": "code",
   "execution_count": 9,
   "id": "4adb4c4b-cb20-4a0f-a4ba-61835b9cb9f3",
   "metadata": {},
   "outputs": [
    {
     "data": {
      "text/html": [
       "<div>\n",
       "<style scoped>\n",
       "    .dataframe tbody tr th:only-of-type {\n",
       "        vertical-align: middle;\n",
       "    }\n",
       "\n",
       "    .dataframe tbody tr th {\n",
       "        vertical-align: top;\n",
       "    }\n",
       "\n",
       "    .dataframe thead th {\n",
       "        text-align: right;\n",
       "    }\n",
       "</style>\n",
       "<table border=\"1\" class=\"dataframe\">\n",
       "  <thead>\n",
       "    <tr style=\"text-align: right;\">\n",
       "      <th></th>\n",
       "      <th>total load actual</th>\n",
       "      <th>price actual</th>\n",
       "    </tr>\n",
       "    <tr>\n",
       "      <th>time</th>\n",
       "      <th></th>\n",
       "      <th></th>\n",
       "    </tr>\n",
       "  </thead>\n",
       "  <tbody>\n",
       "    <tr>\n",
       "      <th>2015-01-01 00:00:00+01:00</th>\n",
       "      <td>25385.0</td>\n",
       "      <td>65.41</td>\n",
       "    </tr>\n",
       "    <tr>\n",
       "      <th>2015-01-01 01:00:00+01:00</th>\n",
       "      <td>24382.0</td>\n",
       "      <td>64.92</td>\n",
       "    </tr>\n",
       "    <tr>\n",
       "      <th>2015-01-01 02:00:00+01:00</th>\n",
       "      <td>22734.0</td>\n",
       "      <td>64.48</td>\n",
       "    </tr>\n",
       "    <tr>\n",
       "      <th>2015-01-01 03:00:00+01:00</th>\n",
       "      <td>21286.0</td>\n",
       "      <td>59.32</td>\n",
       "    </tr>\n",
       "    <tr>\n",
       "      <th>2015-01-01 04:00:00+01:00</th>\n",
       "      <td>20264.0</td>\n",
       "      <td>56.04</td>\n",
       "    </tr>\n",
       "    <tr>\n",
       "      <th>2015-01-01 05:00:00+01:00</th>\n",
       "      <td>19905.0</td>\n",
       "      <td>53.63</td>\n",
       "    </tr>\n",
       "    <tr>\n",
       "      <th>2015-01-01 06:00:00+01:00</th>\n",
       "      <td>20010.0</td>\n",
       "      <td>51.73</td>\n",
       "    </tr>\n",
       "    <tr>\n",
       "      <th>2015-01-01 07:00:00+01:00</th>\n",
       "      <td>20377.0</td>\n",
       "      <td>51.43</td>\n",
       "    </tr>\n",
       "    <tr>\n",
       "      <th>2015-01-01 08:00:00+01:00</th>\n",
       "      <td>20094.0</td>\n",
       "      <td>48.98</td>\n",
       "    </tr>\n",
       "    <tr>\n",
       "      <th>2015-01-01 09:00:00+01:00</th>\n",
       "      <td>20637.0</td>\n",
       "      <td>54.20</td>\n",
       "    </tr>\n",
       "    <tr>\n",
       "      <th>2015-01-01 10:00:00+01:00</th>\n",
       "      <td>22250.0</td>\n",
       "      <td>58.94</td>\n",
       "    </tr>\n",
       "    <tr>\n",
       "      <th>2015-01-01 11:00:00+01:00</th>\n",
       "      <td>23547.0</td>\n",
       "      <td>59.86</td>\n",
       "    </tr>\n",
       "    <tr>\n",
       "      <th>2015-01-01 12:00:00+01:00</th>\n",
       "      <td>24133.0</td>\n",
       "      <td>60.12</td>\n",
       "    </tr>\n",
       "    <tr>\n",
       "      <th>2015-01-01 13:00:00+01:00</th>\n",
       "      <td>24713.0</td>\n",
       "      <td>62.05</td>\n",
       "    </tr>\n",
       "    <tr>\n",
       "      <th>2015-01-01 14:00:00+01:00</th>\n",
       "      <td>24672.0</td>\n",
       "      <td>62.06</td>\n",
       "    </tr>\n",
       "    <tr>\n",
       "      <th>2015-01-01 15:00:00+01:00</th>\n",
       "      <td>23528.0</td>\n",
       "      <td>59.76</td>\n",
       "    </tr>\n",
       "    <tr>\n",
       "      <th>2015-01-01 16:00:00+01:00</th>\n",
       "      <td>23118.0</td>\n",
       "      <td>61.18</td>\n",
       "    </tr>\n",
       "    <tr>\n",
       "      <th>2015-01-01 17:00:00+01:00</th>\n",
       "      <td>23606.0</td>\n",
       "      <td>64.74</td>\n",
       "    </tr>\n",
       "    <tr>\n",
       "      <th>2015-01-01 18:00:00+01:00</th>\n",
       "      <td>26447.0</td>\n",
       "      <td>74.26</td>\n",
       "    </tr>\n",
       "    <tr>\n",
       "      <th>2015-01-01 19:00:00+01:00</th>\n",
       "      <td>28020.0</td>\n",
       "      <td>74.24</td>\n",
       "    </tr>\n",
       "    <tr>\n",
       "      <th>2015-01-01 20:00:00+01:00</th>\n",
       "      <td>29014.0</td>\n",
       "      <td>75.64</td>\n",
       "    </tr>\n",
       "    <tr>\n",
       "      <th>2015-01-01 21:00:00+01:00</th>\n",
       "      <td>29571.0</td>\n",
       "      <td>73.92</td>\n",
       "    </tr>\n",
       "    <tr>\n",
       "      <th>2015-01-01 22:00:00+01:00</th>\n",
       "      <td>29031.0</td>\n",
       "      <td>70.53</td>\n",
       "    </tr>\n",
       "    <tr>\n",
       "      <th>2015-01-01 23:00:00+01:00</th>\n",
       "      <td>26798.0</td>\n",
       "      <td>64.13</td>\n",
       "    </tr>\n",
       "    <tr>\n",
       "      <th>2015-01-02 00:00:00+01:00</th>\n",
       "      <td>27070.0</td>\n",
       "      <td>64.02</td>\n",
       "    </tr>\n",
       "  </tbody>\n",
       "</table>\n",
       "</div>"
      ],
      "text/plain": [
       "                           total load actual  price actual\n",
       "time                                                      \n",
       "2015-01-01 00:00:00+01:00            25385.0         65.41\n",
       "2015-01-01 01:00:00+01:00            24382.0         64.92\n",
       "2015-01-01 02:00:00+01:00            22734.0         64.48\n",
       "2015-01-01 03:00:00+01:00            21286.0         59.32\n",
       "2015-01-01 04:00:00+01:00            20264.0         56.04\n",
       "2015-01-01 05:00:00+01:00            19905.0         53.63\n",
       "2015-01-01 06:00:00+01:00            20010.0         51.73\n",
       "2015-01-01 07:00:00+01:00            20377.0         51.43\n",
       "2015-01-01 08:00:00+01:00            20094.0         48.98\n",
       "2015-01-01 09:00:00+01:00            20637.0         54.20\n",
       "2015-01-01 10:00:00+01:00            22250.0         58.94\n",
       "2015-01-01 11:00:00+01:00            23547.0         59.86\n",
       "2015-01-01 12:00:00+01:00            24133.0         60.12\n",
       "2015-01-01 13:00:00+01:00            24713.0         62.05\n",
       "2015-01-01 14:00:00+01:00            24672.0         62.06\n",
       "2015-01-01 15:00:00+01:00            23528.0         59.76\n",
       "2015-01-01 16:00:00+01:00            23118.0         61.18\n",
       "2015-01-01 17:00:00+01:00            23606.0         64.74\n",
       "2015-01-01 18:00:00+01:00            26447.0         74.26\n",
       "2015-01-01 19:00:00+01:00            28020.0         74.24\n",
       "2015-01-01 20:00:00+01:00            29014.0         75.64\n",
       "2015-01-01 21:00:00+01:00            29571.0         73.92\n",
       "2015-01-01 22:00:00+01:00            29031.0         70.53\n",
       "2015-01-01 23:00:00+01:00            26798.0         64.13\n",
       "2015-01-02 00:00:00+01:00            27070.0         64.02"
      ]
     },
     "execution_count": 9,
     "metadata": {},
     "output_type": "execute_result"
    }
   ],
   "source": [
    "dataset[:25]"
   ]
  },
  {
   "cell_type": "code",
   "execution_count": 10,
   "id": "a8446a6f-9d98-4463-ae8f-17938010343e",
   "metadata": {},
   "outputs": [],
   "source": [
    "WINDOWS = 24\n",
    "HORIZON = 1"
   ]
  },
  {
   "cell_type": "code",
   "execution_count": 11,
   "id": "25839d53-68c7-469c-97c7-7205a85c4db4",
   "metadata": {},
   "outputs": [
    {
     "data": {
      "text/plain": [
       "<Axes: xlabel='time'>"
      ]
     },
     "execution_count": 11,
     "metadata": {},
     "output_type": "execute_result"
    },
    {
     "data": {
      "image/png": "[encoded data removed]",
      "text/plain": [
       "<Figure size 640x480 with 1 Axes>"
      ]
     },
     "metadata": {},
     "output_type": "display_data"
    }
   ],
   "source": [
    "dataset[\"total load actual\"].plot()"
   ]
  },
  {
   "cell_type": "code",
   "execution_count": 12,
   "id": "38e3784c-dfc0-49c8-8bf4-34fb583034fc",
   "metadata": {},
   "outputs": [],
   "source": [
    "dataset_2 = dataset.copy()"
   ]
  },
  {
   "cell_type": "code",
   "execution_count": 13,
   "id": "d1ad3582-b26e-4787-b772-2ca60111f713",
   "metadata": {},
   "outputs": [],
   "source": [
    "dataset_2[\"target_2\"] = dataset_2[\"total load actual\"]"
   ]
  },
  {
   "cell_type": "code",
   "execution_count": 14,
   "id": "51d34ec0-395d-42e9-9f30-9325d1a74401",
   "metadata": {},
   "outputs": [
    {
     "data": {
      "text/html": [
       "<div>\n",
       "<style scoped>\n",
       "    .dataframe tbody tr th:only-of-type {\n",
       "        vertical-align: middle;\n",
       "    }\n",
       "\n",
       "    .dataframe tbody tr th {\n",
       "        vertical-align: top;\n",
       "    }\n",
       "\n",
       "    .dataframe thead th {\n",
       "        text-align: right;\n",
       "    }\n",
       "</style>\n",
       "<table border=\"1\" class=\"dataframe\">\n",
       "  <thead>\n",
       "    <tr style=\"text-align: right;\">\n",
       "      <th></th>\n",
       "      <th>total load actual</th>\n",
       "      <th>price actual</th>\n",
       "      <th>target_2</th>\n",
       "    </tr>\n",
       "    <tr>\n",
       "      <th>time</th>\n",
       "      <th></th>\n",
       "      <th></th>\n",
       "      <th></th>\n",
       "    </tr>\n",
       "  </thead>\n",
       "  <tbody>\n",
       "    <tr>\n",
       "      <th>2015-01-01 00:00:00+01:00</th>\n",
       "      <td>25385.0</td>\n",
       "      <td>65.41</td>\n",
       "      <td>25385.0</td>\n",
       "    </tr>\n",
       "    <tr>\n",
       "      <th>2015-01-01 01:00:00+01:00</th>\n",
       "      <td>24382.0</td>\n",
       "      <td>64.92</td>\n",
       "      <td>24382.0</td>\n",
       "    </tr>\n",
       "    <tr>\n",
       "      <th>2015-01-01 02:00:00+01:00</th>\n",
       "      <td>22734.0</td>\n",
       "      <td>64.48</td>\n",
       "      <td>22734.0</td>\n",
       "    </tr>\n",
       "    <tr>\n",
       "      <th>2015-01-01 03:00:00+01:00</th>\n",
       "      <td>21286.0</td>\n",
       "      <td>59.32</td>\n",
       "      <td>21286.0</td>\n",
       "    </tr>\n",
       "    <tr>\n",
       "      <th>2015-01-01 04:00:00+01:00</th>\n",
       "      <td>20264.0</td>\n",
       "      <td>56.04</td>\n",
       "      <td>20264.0</td>\n",
       "    </tr>\n",
       "    <tr>\n",
       "      <th>2015-01-01 05:00:00+01:00</th>\n",
       "      <td>19905.0</td>\n",
       "      <td>53.63</td>\n",
       "      <td>19905.0</td>\n",
       "    </tr>\n",
       "    <tr>\n",
       "      <th>2015-01-01 06:00:00+01:00</th>\n",
       "      <td>20010.0</td>\n",
       "      <td>51.73</td>\n",
       "      <td>20010.0</td>\n",
       "    </tr>\n",
       "    <tr>\n",
       "      <th>2015-01-01 07:00:00+01:00</th>\n",
       "      <td>20377.0</td>\n",
       "      <td>51.43</td>\n",
       "      <td>20377.0</td>\n",
       "    </tr>\n",
       "    <tr>\n",
       "      <th>2015-01-01 08:00:00+01:00</th>\n",
       "      <td>20094.0</td>\n",
       "      <td>48.98</td>\n",
       "      <td>20094.0</td>\n",
       "    </tr>\n",
       "    <tr>\n",
       "      <th>2015-01-01 09:00:00+01:00</th>\n",
       "      <td>20637.0</td>\n",
       "      <td>54.20</td>\n",
       "      <td>20637.0</td>\n",
       "    </tr>\n",
       "    <tr>\n",
       "      <th>2015-01-01 10:00:00+01:00</th>\n",
       "      <td>22250.0</td>\n",
       "      <td>58.94</td>\n",
       "      <td>22250.0</td>\n",
       "    </tr>\n",
       "    <tr>\n",
       "      <th>2015-01-01 11:00:00+01:00</th>\n",
       "      <td>23547.0</td>\n",
       "      <td>59.86</td>\n",
       "      <td>23547.0</td>\n",
       "    </tr>\n",
       "    <tr>\n",
       "      <th>2015-01-01 12:00:00+01:00</th>\n",
       "      <td>24133.0</td>\n",
       "      <td>60.12</td>\n",
       "      <td>24133.0</td>\n",
       "    </tr>\n",
       "    <tr>\n",
       "      <th>2015-01-01 13:00:00+01:00</th>\n",
       "      <td>24713.0</td>\n",
       "      <td>62.05</td>\n",
       "      <td>24713.0</td>\n",
       "    </tr>\n",
       "    <tr>\n",
       "      <th>2015-01-01 14:00:00+01:00</th>\n",
       "      <td>24672.0</td>\n",
       "      <td>62.06</td>\n",
       "      <td>24672.0</td>\n",
       "    </tr>\n",
       "    <tr>\n",
       "      <th>2015-01-01 15:00:00+01:00</th>\n",
       "      <td>23528.0</td>\n",
       "      <td>59.76</td>\n",
       "      <td>23528.0</td>\n",
       "    </tr>\n",
       "    <tr>\n",
       "      <th>2015-01-01 16:00:00+01:00</th>\n",
       "      <td>23118.0</td>\n",
       "      <td>61.18</td>\n",
       "      <td>23118.0</td>\n",
       "    </tr>\n",
       "    <tr>\n",
       "      <th>2015-01-01 17:00:00+01:00</th>\n",
       "      <td>23606.0</td>\n",
       "      <td>64.74</td>\n",
       "      <td>23606.0</td>\n",
       "    </tr>\n",
       "    <tr>\n",
       "      <th>2015-01-01 18:00:00+01:00</th>\n",
       "      <td>26447.0</td>\n",
       "      <td>74.26</td>\n",
       "      <td>26447.0</td>\n",
       "    </tr>\n",
       "    <tr>\n",
       "      <th>2015-01-01 19:00:00+01:00</th>\n",
       "      <td>28020.0</td>\n",
       "      <td>74.24</td>\n",
       "      <td>28020.0</td>\n",
       "    </tr>\n",
       "    <tr>\n",
       "      <th>2015-01-01 20:00:00+01:00</th>\n",
       "      <td>29014.0</td>\n",
       "      <td>75.64</td>\n",
       "      <td>29014.0</td>\n",
       "    </tr>\n",
       "    <tr>\n",
       "      <th>2015-01-01 21:00:00+01:00</th>\n",
       "      <td>29571.0</td>\n",
       "      <td>73.92</td>\n",
       "      <td>29571.0</td>\n",
       "    </tr>\n",
       "    <tr>\n",
       "      <th>2015-01-01 22:00:00+01:00</th>\n",
       "      <td>29031.0</td>\n",
       "      <td>70.53</td>\n",
       "      <td>29031.0</td>\n",
       "    </tr>\n",
       "    <tr>\n",
       "      <th>2015-01-01 23:00:00+01:00</th>\n",
       "      <td>26798.0</td>\n",
       "      <td>64.13</td>\n",
       "      <td>26798.0</td>\n",
       "    </tr>\n",
       "    <tr>\n",
       "      <th>2015-01-02 00:00:00+01:00</th>\n",
       "      <td>27070.0</td>\n",
       "      <td>64.02</td>\n",
       "      <td>27070.0</td>\n",
       "    </tr>\n",
       "    <tr>\n",
       "      <th>2015-01-02 01:00:00+01:00</th>\n",
       "      <td>24935.0</td>\n",
       "      <td>58.46</td>\n",
       "      <td>24935.0</td>\n",
       "    </tr>\n",
       "    <tr>\n",
       "      <th>2015-01-02 02:00:00+01:00</th>\n",
       "      <td>23214.0</td>\n",
       "      <td>54.70</td>\n",
       "      <td>23214.0</td>\n",
       "    </tr>\n",
       "  </tbody>\n",
       "</table>\n",
       "</div>"
      ],
      "text/plain": [
       "                           total load actual  price actual  target_2\n",
       "time                                                                \n",
       "2015-01-01 00:00:00+01:00            25385.0         65.41   25385.0\n",
       "2015-01-01 01:00:00+01:00            24382.0         64.92   24382.0\n",
       "2015-01-01 02:00:00+01:00            22734.0         64.48   22734.0\n",
       "2015-01-01 03:00:00+01:00            21286.0         59.32   21286.0\n",
       "2015-01-01 04:00:00+01:00            20264.0         56.04   20264.0\n",
       "2015-01-01 05:00:00+01:00            19905.0         53.63   19905.0\n",
       "2015-01-01 06:00:00+01:00            20010.0         51.73   20010.0\n",
       "2015-01-01 07:00:00+01:00            20377.0         51.43   20377.0\n",
       "2015-01-01 08:00:00+01:00            20094.0         48.98   20094.0\n",
       "2015-01-01 09:00:00+01:00            20637.0         54.20   20637.0\n",
       "2015-01-01 10:00:00+01:00            22250.0         58.94   22250.0\n",
       "2015-01-01 11:00:00+01:00            23547.0         59.86   23547.0\n",
       "2015-01-01 12:00:00+01:00            24133.0         60.12   24133.0\n",
       "2015-01-01 13:00:00+01:00            24713.0         62.05   24713.0\n",
       "2015-01-01 14:00:00+01:00            24672.0         62.06   24672.0\n",
       "2015-01-01 15:00:00+01:00            23528.0         59.76   23528.0\n",
       "2015-01-01 16:00:00+01:00            23118.0         61.18   23118.0\n",
       "2015-01-01 17:00:00+01:00            23606.0         64.74   23606.0\n",
       "2015-01-01 18:00:00+01:00            26447.0         74.26   26447.0\n",
       "2015-01-01 19:00:00+01:00            28020.0         74.24   28020.0\n",
       "2015-01-01 20:00:00+01:00            29014.0         75.64   29014.0\n",
       "2015-01-01 21:00:00+01:00            29571.0         73.92   29571.0\n",
       "2015-01-01 22:00:00+01:00            29031.0         70.53   29031.0\n",
       "2015-01-01 23:00:00+01:00            26798.0         64.13   26798.0\n",
       "2015-01-02 00:00:00+01:00            27070.0         64.02   27070.0\n",
       "2015-01-02 01:00:00+01:00            24935.0         58.46   24935.0\n",
       "2015-01-02 02:00:00+01:00            23214.0         54.70   23214.0"
      ]
     },
     "execution_count": 14,
     "metadata": {},
     "output_type": "execute_result"
    }
   ],
   "source": [
    "dataset_2[:27]"
   ]
  },
  {
   "cell_type": "code",
   "execution_count": 15,
   "id": "eaa4a6ea-edad-459d-a35c-4c1f590332ed",
   "metadata": {},
   "outputs": [
    {
     "data": {
      "text/html": [
       "<div>\n",
       "<style scoped>\n",
       "    .dataframe tbody tr th:only-of-type {\n",
       "        vertical-align: middle;\n",
       "    }\n",
       "\n",
       "    .dataframe tbody tr th {\n",
       "        vertical-align: top;\n",
       "    }\n",
       "\n",
       "    .dataframe thead th {\n",
       "        text-align: right;\n",
       "    }\n",
       "</style>\n",
       "<table border=\"1\" class=\"dataframe\">\n",
       "  <thead>\n",
       "    <tr style=\"text-align: right;\">\n",
       "      <th></th>\n",
       "      <th>total load actual</th>\n",
       "      <th>price actual</th>\n",
       "      <th>target_2</th>\n",
       "      <th>target_3</th>\n",
       "    </tr>\n",
       "    <tr>\n",
       "      <th>time</th>\n",
       "      <th></th>\n",
       "      <th></th>\n",
       "      <th></th>\n",
       "      <th></th>\n",
       "    </tr>\n",
       "  </thead>\n",
       "  <tbody>\n",
       "    <tr>\n",
       "      <th>2015-01-01 00:00:00+01:00</th>\n",
       "      <td>25385.0</td>\n",
       "      <td>65.41</td>\n",
       "      <td>25385.0</td>\n",
       "      <td>25385.0</td>\n",
       "    </tr>\n",
       "    <tr>\n",
       "      <th>2015-01-01 01:00:00+01:00</th>\n",
       "      <td>24382.0</td>\n",
       "      <td>64.92</td>\n",
       "      <td>24382.0</td>\n",
       "      <td>24382.0</td>\n",
       "    </tr>\n",
       "    <tr>\n",
       "      <th>2015-01-01 02:00:00+01:00</th>\n",
       "      <td>22734.0</td>\n",
       "      <td>64.48</td>\n",
       "      <td>22734.0</td>\n",
       "      <td>22734.0</td>\n",
       "    </tr>\n",
       "    <tr>\n",
       "      <th>2015-01-01 03:00:00+01:00</th>\n",
       "      <td>21286.0</td>\n",
       "      <td>59.32</td>\n",
       "      <td>21286.0</td>\n",
       "      <td>21286.0</td>\n",
       "    </tr>\n",
       "    <tr>\n",
       "      <th>2015-01-01 04:00:00+01:00</th>\n",
       "      <td>20264.0</td>\n",
       "      <td>56.04</td>\n",
       "      <td>20264.0</td>\n",
       "      <td>20264.0</td>\n",
       "    </tr>\n",
       "  </tbody>\n",
       "</table>\n",
       "</div>"
      ],
      "text/plain": [
       "                           total load actual  price actual  target_2  target_3\n",
       "time                                                                          \n",
       "2015-01-01 00:00:00+01:00            25385.0         65.41   25385.0   25385.0\n",
       "2015-01-01 01:00:00+01:00            24382.0         64.92   24382.0   24382.0\n",
       "2015-01-01 02:00:00+01:00            22734.0         64.48   22734.0   22734.0\n",
       "2015-01-01 03:00:00+01:00            21286.0         59.32   21286.0   21286.0\n",
       "2015-01-01 04:00:00+01:00            20264.0         56.04   20264.0   20264.0"
      ]
     },
     "execution_count": 15,
     "metadata": {},
     "output_type": "execute_result"
    }
   ],
   "source": [
    "dataset_3 = dataset_2.copy()\n",
    "dataset_3[\"target_3\"] = dataset_3[\"target_2\"]\n",
    "dataset_3.head()"
   ]
  },
  {
   "cell_type": "code",
   "execution_count": 16,
   "id": "ec80c788-3d25-43d8-a7a8-83d9c1d22698",
   "metadata": {},
   "outputs": [],
   "source": [
    "def multivariate_trailing_window(data, num_targets, window_size, horizon):\n",
    "    \"\"\"\n",
    "    Generate multivariate trailing windows for time series prediction.\n",
    "\n",
    "    Parameters:\n",
    "    - data: pandas DataFrame, input time series data with columns representing features and targets\n",
    "    - window_size: int, size of the trailing window\n",
    "    - horizon: int, number of steps to forecast into the future\n",
    "    - num_targets: int, number of target variables\n",
    "\n",
    "    Returns:\n",
    "    - X: numpy array, input features (shape: [num_samples - window_size - horizon + 1, window_size, num_features])\n",
    "    - y: numpy array, target values (shape: [num_samples - window_size - horizon + 1, horizon, num_targets])\n",
    "    \"\"\"\n",
    "\n",
    "    num_samples = len(data)\n",
    "    num_features = data.shape[1] - num_targets  # Subtract num_targets for target columns\n",
    "\n",
    "    X, y = [], []\n",
    "\n",
    "    for i in range(num_samples - window_size - horizon + 1):\n",
    "        X.append(data.iloc[i:i + window_size, :-num_targets].values)\n",
    "        y.append(data.iloc[i + window_size:i + window_size + horizon, -num_targets:].values.reshape(-1, num_targets))\n",
    "\n",
    "    return np.array(X), np.array(y)"
   ]
  },
  {
   "cell_type": "code",
   "execution_count": 17,
   "id": "91b51c8b-581c-41a0-ac0a-7e40631a5789",
   "metadata": {},
   "outputs": [],
   "source": [
    "def multivariate_centered_window(data, num_targets, window_size, horizon):\n",
    "    \"\"\"\n",
    "    Generate multivariate centered windows for time series prediction.\n",
    "\n",
    "    Parameters:\n",
    "    - data: pandas DataFrame, input time series data with columns representing features and targets\n",
    "    - window_size: int, size of the centered window (even number)\n",
    "    - horizon: int, number of steps to forecast into the future\n",
    "\n",
    "    Returns:\n",
    "    - X: numpy array, input features (shape: [num_samples - window_size + 1, window_size, num_features])\n",
    "    - y: numpy array, target values (shape: [num_samples - window_size + 1, horizon, num_targets])\n",
    "    \"\"\"\n",
    "\n",
    "    num_samples = len(data)\n",
    "    num_features = data.shape[1] - num_targets  # Subtract num_targets for target columns\n",
    "    num_targets = data.shape[1] - num_features\n",
    "\n",
    "    X, y = [], []\n",
    "\n",
    "    # Ensure the window size is even\n",
    "    if window_size % 2 != 0:\n",
    "        raise ValueError(\"Window size must be an even number for a centered window.\")\n",
    "\n",
    "    half_window = window_size // 2\n",
    "\n",
    "    for i in range(half_window, num_samples - half_window - horizon + 1):\n",
    "        start_idx = i - half_window\n",
    "        end_idx = i + half_window - 1  # Adjust the end index\n",
    "\n",
    "        X.append(data.iloc[start_idx:end_idx + 1, :-num_targets].values)\n",
    "        y.append(data.iloc[i:i + horizon, -num_targets:].values.reshape(-1, num_targets))\n",
    "\n",
    "    return np.array(X), np.array(y)"
   ]
  },
  {
   "cell_type": "code",
   "execution_count": 18,
   "id": "82d40576-c15e-4fbf-b52d-e78c832531d1",
   "metadata": {},
   "outputs": [],
   "source": [
    "test_X_2, test_y_2 = multivariate_trailing_window(dataset_3, 2, 24, 3)"
   ]
  },
  {
   "cell_type": "code",
   "execution_count": 19,
   "id": "0b791cef-cf69-46f4-aaef-2774f2a6e74b",
   "metadata": {},
   "outputs": [
    {
     "data": {
      "text/plain": [
       "((35038, 24, 2), (35038, 3, 2))"
      ]
     },
     "execution_count": 19,
     "metadata": {},
     "output_type": "execute_result"
    }
   ],
   "source": [
    "test_X_2.shape, test_y_2.shape"
   ]
  },
  {
   "cell_type": "code",
   "execution_count": 20,
   "id": "bf2e6ee7-8859-40a4-9815-1d71cf2fb1a5",
   "metadata": {},
   "outputs": [
    {
     "data": {
      "text/plain": [
       "array([[25385.  ,    65.41],\n",
       "       [24382.  ,    64.92],\n",
       "       [22734.  ,    64.48],\n",
       "       [21286.  ,    59.32],\n",
       "       [20264.  ,    56.04],\n",
       "       [19905.  ,    53.63],\n",
       "       [20010.  ,    51.73],\n",
       "       [20377.  ,    51.43],\n",
       "       [20094.  ,    48.98],\n",
       "       [20637.  ,    54.2 ],\n",
       "       [22250.  ,    58.94],\n",
       "       [23547.  ,    59.86],\n",
       "       [24133.  ,    60.12],\n",
       "       [24713.  ,    62.05],\n",
       "       [24672.  ,    62.06],\n",
       "       [23528.  ,    59.76],\n",
       "       [23118.  ,    61.18],\n",
       "       [23606.  ,    64.74],\n",
       "       [26447.  ,    74.26],\n",
       "       [28020.  ,    74.24],\n",
       "       [29014.  ,    75.64],\n",
       "       [29571.  ,    73.92],\n",
       "       [29031.  ,    70.53],\n",
       "       [26798.  ,    64.13]])"
      ]
     },
     "execution_count": 20,
     "metadata": {},
     "output_type": "execute_result"
    }
   ],
   "source": [
    "test_X_2[0]"
   ]
  },
  {
   "cell_type": "code",
   "execution_count": 21,
   "id": "58479263-ca26-460f-90ed-2769a1fd95ee",
   "metadata": {},
   "outputs": [
    {
     "data": {
      "text/plain": [
       "array([[27070., 27070.],\n",
       "       [24935., 24935.],\n",
       "       [23214., 23214.]])"
      ]
     },
     "execution_count": 21,
     "metadata": {},
     "output_type": "execute_result"
    }
   ],
   "source": [
    "test_y_2[0]"
   ]
  },
  {
   "cell_type": "code",
   "execution_count": 22,
   "id": "0b76447a-130b-4661-a871-d1c4db60ce9b",
   "metadata": {},
   "outputs": [],
   "source": [
    "test_X, test_y = multivariate_centered_window(dataset_2, 1, 24, 1)"
   ]
  },
  {
   "cell_type": "code",
   "execution_count": 23,
   "id": "cc27b3c8-56c2-4897-8057-b59850c34442",
   "metadata": {},
   "outputs": [
    {
     "data": {
      "text/plain": [
       "((35040, 24, 2), (35040, 1, 1))"
      ]
     },
     "execution_count": 23,
     "metadata": {},
     "output_type": "execute_result"
    }
   ],
   "source": [
    "test_X.shape, test_y.shape"
   ]
  },
  {
   "cell_type": "code",
   "execution_count": 24,
   "id": "6d886917-18fb-43c2-ada1-7c3897faf060",
   "metadata": {},
   "outputs": [
    {
     "data": {
      "text/plain": [
       "array([[25385.  ,    65.41],\n",
       "       [24382.  ,    64.92],\n",
       "       [22734.  ,    64.48],\n",
       "       [21286.  ,    59.32],\n",
       "       [20264.  ,    56.04],\n",
       "       [19905.  ,    53.63],\n",
       "       [20010.  ,    51.73],\n",
       "       [20377.  ,    51.43],\n",
       "       [20094.  ,    48.98],\n",
       "       [20637.  ,    54.2 ],\n",
       "       [22250.  ,    58.94],\n",
       "       [23547.  ,    59.86],\n",
       "       [24133.  ,    60.12],\n",
       "       [24713.  ,    62.05],\n",
       "       [24672.  ,    62.06],\n",
       "       [23528.  ,    59.76],\n",
       "       [23118.  ,    61.18],\n",
       "       [23606.  ,    64.74],\n",
       "       [26447.  ,    74.26],\n",
       "       [28020.  ,    74.24],\n",
       "       [29014.  ,    75.64],\n",
       "       [29571.  ,    73.92],\n",
       "       [29031.  ,    70.53],\n",
       "       [26798.  ,    64.13]])"
      ]
     },
     "execution_count": 24,
     "metadata": {},
     "output_type": "execute_result"
    }
   ],
   "source": [
    "test_X[0]"
   ]
  },
  {
   "cell_type": "code",
   "execution_count": 25,
   "id": "1cb8549e-0582-4e92-ab41-d3dfc77071a0",
   "metadata": {},
   "outputs": [
    {
     "data": {
      "text/plain": [
       "array([[24133.]])"
      ]
     },
     "execution_count": 25,
     "metadata": {},
     "output_type": "execute_result"
    }
   ],
   "source": [
    "test_y[0]"
   ]
  },
  {
   "cell_type": "code",
   "execution_count": 27,
   "id": "fa10de79-019e-4ade-933a-3f41818382b5",
   "metadata": {},
   "outputs": [],
   "source": [
    "X, y = multivariate_trailing_window(dataset_2, 1, WINDOWS, HORIZON)"
   ]
  },
  {
   "cell_type": "code",
   "execution_count": 28,
   "id": "6d98f6d1-1719-4e9b-9c31-43db80ca676e",
   "metadata": {},
   "outputs": [
    {
     "data": {
      "text/plain": [
       "((35040, 24, 2), (35040, 1, 1))"
      ]
     },
     "execution_count": 28,
     "metadata": {},
     "output_type": "execute_result"
    }
   ],
   "source": [
    "X.shape, y.shape"
   ]
  },
  {
   "cell_type": "code",
   "execution_count": 29,
   "id": "c9409359-253b-4d41-89e1-0d2d3b4a29c5",
   "metadata": {},
   "outputs": [],
   "source": [
    "y = np.squeeze(y, axis=-1)"
   ]
  },
  {
   "cell_type": "code",
   "execution_count": 30,
   "id": "afba9b9f-d826-48b3-80da-0399559637e8",
   "metadata": {},
   "outputs": [
    {
     "data": {
      "text/plain": [
       "(array([[25385.  ,    65.41],\n",
       "        [24382.  ,    64.92],\n",
       "        [22734.  ,    64.48],\n",
       "        [21286.  ,    59.32],\n",
       "        [20264.  ,    56.04],\n",
       "        [19905.  ,    53.63],\n",
       "        [20010.  ,    51.73],\n",
       "        [20377.  ,    51.43],\n",
       "        [20094.  ,    48.98],\n",
       "        [20637.  ,    54.2 ],\n",
       "        [22250.  ,    58.94],\n",
       "        [23547.  ,    59.86],\n",
       "        [24133.  ,    60.12],\n",
       "        [24713.  ,    62.05],\n",
       "        [24672.  ,    62.06],\n",
       "        [23528.  ,    59.76],\n",
       "        [23118.  ,    61.18],\n",
       "        [23606.  ,    64.74],\n",
       "        [26447.  ,    74.26],\n",
       "        [28020.  ,    74.24],\n",
       "        [29014.  ,    75.64],\n",
       "        [29571.  ,    73.92],\n",
       "        [29031.  ,    70.53],\n",
       "        [26798.  ,    64.13]]),\n",
       " array([27070.]))"
      ]
     },
     "execution_count": 30,
     "metadata": {},
     "output_type": "execute_result"
    }
   ],
   "source": [
    "X[0], y[0]"
   ]
  },
  {
   "cell_type": "code",
   "execution_count": 31,
   "id": "9967248e-422d-4886-817a-88f54a52d900",
   "metadata": {},
   "outputs": [],
   "source": [
    "split_size = int(len(X) * 0.8)\n",
    "X_train, y_train = X[:split_size], y[:split_size]\n",
    "X_val, y_val = X[split_size:], y[split_size:]"
   ]
  },
  {
   "cell_type": "code",
   "execution_count": 32,
   "id": "1272d71e-fc63-411c-af50-f686b4b0e83e",
   "metadata": {},
   "outputs": [],
   "source": [
    "from sklearn.preprocessing import MinMaxScaler"
   ]
  },
  {
   "cell_type": "code",
   "execution_count": 33,
   "id": "c79ad5f6-e9b1-4bb8-871e-393a4d19afb2",
   "metadata": {},
   "outputs": [],
   "source": [
    "train_num_samples, train_num_timesteps, train_num_features = X_train.shape\n",
    "X_train = X_train.reshape((train_num_samples * train_num_timesteps, train_num_features))\n",
    "scaler_X = MinMaxScaler().fit(X_train)"
   ]
  },
  {
   "cell_type": "code",
   "execution_count": 34,
   "id": "998da416-e8f7-402d-91a4-f2a94d7707f4",
   "metadata": {},
   "outputs": [],
   "source": [
    "X_train_scaled = scaler_X.transform(X_train)\n",
    "X_train_scaled = X_train_scaled.reshape((train_num_samples, train_num_timesteps, train_num_features))"
   ]
  },
  {
   "cell_type": "code",
   "execution_count": 35,
   "id": "b21bbaa9-3fd3-4411-8fe0-17cb75a99131",
   "metadata": {},
   "outputs": [],
   "source": [
    "val_num_samples, val_num_timesteps, val_num_features = X_val.shape\n",
    "X_val = X_val.reshape((val_num_samples * val_num_timesteps, val_num_features))"
   ]
  },
  {
   "cell_type": "code",
   "execution_count": 36,
   "id": "9a940c45-45b5-43dd-b92a-5fb19c3f4fa9",
   "metadata": {},
   "outputs": [],
   "source": [
    "X_val_scaled = scaler_X.transform(X_val)\n",
    "X_val_scaled = X_val_scaled.reshape((val_num_samples, val_num_timesteps, val_num_features))"
   ]
  },
  {
   "cell_type": "code",
   "execution_count": 37,
   "id": "3c931c45-4913-42d2-9198-c0829bea4c0c",
   "metadata": {},
   "outputs": [
    {
     "data": {
      "text/plain": [
       "((28032, 24, 2), (7008, 24, 2))"
      ]
     },
     "execution_count": 37,
     "metadata": {},
     "output_type": "execute_result"
    }
   ],
   "source": [
    "X_train_scaled.shape, X_val_scaled.shape"
   ]
  },
  {
   "cell_type": "code",
   "execution_count": 38,
   "id": "04f31f25-5ab0-46da-8651-67df980a2a80",
   "metadata": {},
   "outputs": [],
   "source": [
    "scalar_y = MinMaxScaler().fit(y_train)"
   ]
  },
  {
   "cell_type": "code",
   "execution_count": 39,
   "id": "4669f726-83c0-4300-889a-9f3aa1331740",
   "metadata": {},
   "outputs": [],
   "source": [
    "y_train_scaled = scalar_y.transform(y_train)"
   ]
  },
  {
   "cell_type": "code",
   "execution_count": 40,
   "id": "4d3f2304-b0cc-463f-bc1e-ae69955dc5fb",
   "metadata": {},
   "outputs": [
    {
     "data": {
      "text/plain": [
       "array([0.39300949])"
      ]
     },
     "execution_count": 40,
     "metadata": {},
     "output_type": "execute_result"
    }
   ],
   "source": [
    "y_train_scaled[0]"
   ]
  },
  {
   "cell_type": "code",
   "execution_count": 41,
   "id": "bf45964c-8584-435d-8df7-80b8582e396c",
   "metadata": {},
   "outputs": [
    {
     "data": {
      "text/plain": [
       "(28032, 1)"
      ]
     },
     "execution_count": 41,
     "metadata": {},
     "output_type": "execute_result"
    }
   ],
   "source": [
    "y_train_scaled.shape"
   ]
  },
  {
   "cell_type": "code",
   "execution_count": 42,
   "id": "82227cb6-1b61-4596-b309-c4c734e06d49",
   "metadata": {},
   "outputs": [],
   "source": [
    "y_val_scaled = scalar_y.transform(y_val)"
   ]
  },
  {
   "cell_type": "code",
   "execution_count": 43,
   "id": "e5411924-e3c9-4cca-9a44-96cafbd93295",
   "metadata": {},
   "outputs": [
    {
     "data": {
      "text/plain": [
       "array([0.41229216])"
      ]
     },
     "execution_count": 43,
     "metadata": {},
     "output_type": "execute_result"
    }
   ],
   "source": [
    "y_val_scaled[0]"
   ]
  },
  {
   "cell_type": "code",
   "execution_count": 44,
   "id": "d75a4e8e-4e42-4164-b4f2-b68af9374abb",
   "metadata": {},
   "outputs": [],
   "source": [
    "def create_performant_features_targerts(features, targets, batch_size=32, pre=False, func=None, shuffle=False, shuffle_size=None):\n",
    "    \"\"\"\n",
    "    Create performant dataset for escalating efficiency during training/evaluating a model.\n",
    "    \"\"\"\n",
    "    features_tensor = tf.data.Dataset.from_tensor_slices(tf.cast(features, dtype=tf.float32))\n",
    "    targets_tensor = tf.data.Dataset.from_tensor_slices(tf.cast(targets, dtype=tf.float32))\n",
    "    dataset_tensor = tf.data.Dataset.zip((features_tensor, targets_tensor))\n",
    "    if pre:\n",
    "        dataset_tensor = dataset_tensor.map(map_func=func, num_parallel_calls=tf.data.AUTOTUNE)\n",
    "    if shuffle:\n",
    "        dataset_tensor = dataset_tensor.shuffle(shuffle_size)\n",
    "    dataset_tensor = dataset_tensor.batch(batch_size).prefetch(tf.data.AUTOTUNE)\n",
    "\n",
    "    return dataset_tensor"
   ]
  },
  {
   "cell_type": "code",
   "execution_count": 45,
   "id": "a176e780-fef2-4134-9bda-5de2ca52647f",
   "metadata": {},
   "outputs": [],
   "source": [
    "train_dataset = create_performant_features_targerts(X_train_scaled, y_train_scaled)\n",
    "val_dataset = create_performant_features_targerts(X_val_scaled, y_val_scaled)"
   ]
  },
  {
   "cell_type": "code",
   "execution_count": 46,
   "id": "f5c63a56-66ec-4aa7-becc-a3bb3c824127",
   "metadata": {},
   "outputs": [
    {
     "data": {
      "text/plain": [
       "<PrefetchDataset element_spec=(TensorSpec(shape=(None, 24, 2), dtype=tf.float32, name=None), TensorSpec(shape=(None, 1), dtype=tf.float32, name=None))>"
      ]
     },
     "execution_count": 46,
     "metadata": {},
     "output_type": "execute_result"
    }
   ],
   "source": [
    "train_dataset"
   ]
  },
  {
   "cell_type": "code",
   "execution_count": 47,
   "id": "70e3be6d-f140-4dd6-9d5d-2e70c583df15",
   "metadata": {},
   "outputs": [],
   "source": [
    "from tensorflow.keras import layers"
   ]
  },
  {
   "cell_type": "code",
   "execution_count": 147,
   "id": "00dcd5fc-5099-4594-8d14-35bad5328f8c",
   "metadata": {},
   "outputs": [
    {
     "name": "stdout",
     "output_type": "stream",
     "text": [
      "WARNING:tensorflow:Layer lstm will not use cuDNN kernels since it doesn't meet the criteria. It will use a generic GPU kernel as fallback when running on GPU.\n",
      "WARNING:tensorflow:Layer lstm_1 will not use cuDNN kernels since it doesn't meet the criteria. It will use a generic GPU kernel as fallback when running on GPU.\n"
     ]
    }
   ],
   "source": [
    "tf.keras.backend.clear_session()\n",
    "\n",
    "inputs = layers.Input(shape=(train_num_timesteps, train_num_features), dtype=tf.float32)\n",
    "x = layers.Conv1D(64, 6, activation=\"relu\")(inputs)\n",
    "x = layers.MaxPooling1D(2)(x)\n",
    "x = layers.Conv1D(64, 3, activation=\"relu\")(x)\n",
    "x = layers.MaxPooling1D(2)(x)\n",
    "x = layers.LSTM(72, activation=\"relu\", return_sequences=True)(x)\n",
    "x = layers.LSTM(48, activation=\"relu\")(x)\n",
    "x = layers.Flatten()(x)\n",
    "x = layers.Dropout(0.3)(x)\n",
    "x = layers.Dense(128)(x)\n",
    "x = layers.Dropout(0.3)(x)\n",
    "outputs = layers.Dense(HORIZON)(x)\n",
    "\n",
    "model_1 = tf.keras.Model(inputs, outputs, name=\"model_1\")"
   ]
  },
  {
   "cell_type": "code",
   "execution_count": 148,
   "id": "dc0e4683-51d1-4986-8dff-a84017fc027c",
   "metadata": {},
   "outputs": [
    {
     "name": "stdout",
     "output_type": "stream",
     "text": [
      "Model: \"model_1\"\n",
      "_________________________________________________________________\n",
      " Layer (type)                Output Shape              Param #   \n",
      "=================================================================\n",
      " input_1 (InputLayer)        [(None, 24, 2)]           0         \n",
      "                                                                 \n",
      " conv1d (Conv1D)             (None, 19, 64)            832       \n",
      "                                                                 \n",
      " max_pooling1d (MaxPooling1D  (None, 9, 64)            0         \n",
      " )                                                               \n",
      "                                                                 \n",
      " conv1d_1 (Conv1D)           (None, 7, 64)             12352     \n",
      "                                                                 \n",
      " max_pooling1d_1 (MaxPooling  (None, 3, 64)            0         \n",
      " 1D)                                                             \n",
      "                                                                 \n",
      " lstm (LSTM)                 (None, 3, 72)             39456     \n",
      "                                                                 \n",
      " lstm_1 (LSTM)               (None, 48)                23232     \n",
      "                                                                 \n",
      " flatten (Flatten)           (None, 48)                0         \n",
      "                                                                 \n",
      " dropout (Dropout)           (None, 48)                0         \n",
      "                                                                 \n",
      " dense (Dense)               (None, 128)               6272      \n",
      "                                                                 \n",
      " dropout_1 (Dropout)         (None, 128)               0         \n",
      "                                                                 \n",
      " dense_1 (Dense)             (None, 1)                 129       \n",
      "                                                                 \n",
      "=================================================================\n",
      "Total params: 82,273\n",
      "Trainable params: 82,273\n",
      "Non-trainable params: 0\n",
      "_________________________________________________________________\n"
     ]
    }
   ],
   "source": [
    "model_1.summary()"
   ]
  },
  {
   "cell_type": "code",
   "execution_count": 48,
   "id": "23880c32-5d5b-457d-8505-076dd78f312f",
   "metadata": {},
   "outputs": [],
   "source": [
    "import os\n",
    "import random\n",
    "import datetime"
   ]
  },
  {
   "cell_type": "code",
   "execution_count": 49,
   "id": "2ecceccc-b7cb-41f7-a0c6-854613fb1e7f",
   "metadata": {},
   "outputs": [],
   "source": [
    "def tensorboard_cb(dirpath, model_name):\n",
    "    return tf.keras.callbacks.TensorBoard(os.path.join(dirpath, \n",
    "                                                       model_name, \n",
    "                                                       datetime.datetime.now().strftime(\"%Y%m%d-%H%M%S\")))\n",
    "\n",
    "def checkpoint_cb(dirpath, model_name, save_format=None, save_weights=False):\n",
    "    return tf.keras.callbacks.ModelCheckpoint(filepath=os.path.join(dirpath, model_name + save_format), \n",
    "                                              save_best_only=True, \n",
    "                                              save_weights_only=save_weights,\n",
    "                                              monitor=\"val_loss\",\n",
    "                                              verbose=1)\n",
    "\n",
    "def early_stopping_cb(patience):\n",
    "    return tf.keras.callbacks.EarlyStopping(monitor=\"val_loss\", \n",
    "                                            restore_best_weights=True, \n",
    "                                            patience=patience,\n",
    "                                            verbose=1)\n",
    "\n",
    "def reduce_lr_cb(patience, factor):\n",
    "    return tf.keras.callbacks.ReduceLROnPlateau(monitor=\"val_loss\", \n",
    "                                                patience=patience, \n",
    "                                                factor=factor, \n",
    "                                                min_lr=1e-7,\n",
    "                                                verbose=1)"
   ]
  },
  {
   "cell_type": "code",
   "execution_count": 151,
   "id": "850a8212-87f7-4fbc-bd82-c33299d50209",
   "metadata": {
    "scrolled": true
   },
   "outputs": [
    {
     "name": "stdout",
     "output_type": "stream",
     "text": [
      "Epoch 1/150\n",
      "876/876 [==============================] - ETA: 0s - loss: 0.1708\n",
      "Epoch 1: val_loss improved from inf to 0.12544, saving model to h5_models/energy\\model_1.h5\n",
      "876/876 [==============================] - 32s 35ms/step - loss: 0.1708 - val_loss: 0.1254 - lr: 3.0000e-04\n",
      "Epoch 2/150\n",
      "876/876 [==============================] - ETA: 0s - loss: 0.1081\n",
      "Epoch 2: val_loss improved from 0.12544 to 0.08466, saving model to h5_models/energy\\model_1.h5\n",
      "876/876 [==============================] - 32s 37ms/step - loss: 0.1081 - val_loss: 0.0847 - lr: 3.0000e-04\n",
      "Epoch 3/150\n",
      "876/876 [==============================] - ETA: 0s - loss: 0.0881\n",
      "Epoch 3: val_loss improved from 0.08466 to 0.07541, saving model to h5_models/energy\\model_1.h5\n",
      "876/876 [==============================] - 26s 29ms/step - loss: 0.0881 - val_loss: 0.0754 - lr: 3.0000e-04\n",
      "Epoch 4/150\n",
      "875/876 [============================>.] - ETA: 0s - loss: 0.0804\n",
      "Epoch 4: val_loss improved from 0.07541 to 0.06927, saving model to h5_models/energy\\model_1.h5\n",
      "876/876 [==============================] - 26s 29ms/step - loss: 0.0804 - val_loss: 0.0693 - lr: 3.0000e-04\n",
      "Epoch 5/150\n",
      "875/876 [============================>.] - ETA: 0s - loss: 0.0770\n",
      "Epoch 5: val_loss improved from 0.06927 to 0.06595, saving model to h5_models/energy\\model_1.h5\n",
      "876/876 [==============================] - 28s 32ms/step - loss: 0.0769 - val_loss: 0.0659 - lr: 3.0000e-04\n",
      "Epoch 6/150\n",
      "876/876 [==============================] - ETA: 0s - loss: 0.0741\n",
      "Epoch 6: val_loss improved from 0.06595 to 0.06433, saving model to h5_models/energy\\model_1.h5\n",
      "876/876 [==============================] - 31s 35ms/step - loss: 0.0741 - val_loss: 0.0643 - lr: 3.0000e-04\n",
      "Epoch 7/150\n",
      "876/876 [==============================] - ETA: 0s - loss: 0.0722\n",
      "Epoch 7: val_loss improved from 0.06433 to 0.06158, saving model to h5_models/energy\\model_1.h5\n",
      "876/876 [==============================] - 31s 36ms/step - loss: 0.0722 - val_loss: 0.0616 - lr: 3.0000e-04\n",
      "Epoch 8/150\n",
      "876/876 [==============================] - ETA: 0s - loss: 0.0707\n",
      "Epoch 8: val_loss improved from 0.06158 to 0.06043, saving model to h5_models/energy\\model_1.h5\n",
      "876/876 [==============================] - 32s 37ms/step - loss: 0.0707 - val_loss: 0.0604 - lr: 3.0000e-04\n",
      "Epoch 9/150\n",
      "876/876 [==============================] - ETA: 0s - loss: 0.0687\n",
      "Epoch 9: val_loss improved from 0.06043 to 0.05897, saving model to h5_models/energy\\model_1.h5\n",
      "876/876 [==============================] - 31s 36ms/step - loss: 0.0687 - val_loss: 0.0590 - lr: 3.0000e-04\n",
      "Epoch 10/150\n",
      "875/876 [============================>.] - ETA: 0s - loss: 0.0679\n",
      "Epoch 10: val_loss did not improve from 0.05897\n",
      "876/876 [==============================] - 31s 36ms/step - loss: 0.0679 - val_loss: 0.0596 - lr: 3.0000e-04\n",
      "Epoch 11/150\n",
      "875/876 [============================>.] - ETA: 0s - loss: 0.0669\n",
      "Epoch 11: val_loss improved from 0.05897 to 0.05742, saving model to h5_models/energy\\model_1.h5\n",
      "876/876 [==============================] - 32s 37ms/step - loss: 0.0669 - val_loss: 0.0574 - lr: 3.0000e-04\n",
      "Epoch 12/150\n",
      "875/876 [============================>.] - ETA: 0s - loss: 0.0654\n",
      "Epoch 12: val_loss improved from 0.05742 to 0.05719, saving model to h5_models/energy\\model_1.h5\n",
      "876/876 [==============================] - 32s 36ms/step - loss: 0.0654 - val_loss: 0.0572 - lr: 3.0000e-04\n",
      "Epoch 13/150\n",
      "876/876 [==============================] - ETA: 0s - loss: 0.0643\n",
      "Epoch 13: val_loss improved from 0.05719 to 0.05624, saving model to h5_models/energy\\model_1.h5\n",
      "876/876 [==============================] - 32s 36ms/step - loss: 0.0643 - val_loss: 0.0562 - lr: 3.0000e-04\n",
      "Epoch 14/150\n",
      "875/876 [============================>.] - ETA: 0s - loss: 0.0635\n",
      "Epoch 14: val_loss improved from 0.05624 to 0.05612, saving model to h5_models/energy\\model_1.h5\n",
      "876/876 [==============================] - 32s 36ms/step - loss: 0.0635 - val_loss: 0.0561 - lr: 3.0000e-04\n",
      "Epoch 15/150\n",
      "875/876 [============================>.] - ETA: 0s - loss: 0.0624\n",
      "Epoch 15: val_loss improved from 0.05612 to 0.05431, saving model to h5_models/energy\\model_1.h5\n",
      "876/876 [==============================] - 32s 36ms/step - loss: 0.0624 - val_loss: 0.0543 - lr: 3.0000e-04\n",
      "Epoch 16/150\n",
      "876/876 [==============================] - ETA: 0s - loss: 0.0614\n",
      "Epoch 16: val_loss did not improve from 0.05431\n",
      "876/876 [==============================] - 31s 35ms/step - loss: 0.0614 - val_loss: 0.0550 - lr: 3.0000e-04\n",
      "Epoch 17/150\n",
      "875/876 [============================>.] - ETA: 0s - loss: 0.0608\n",
      "Epoch 17: val_loss improved from 0.05431 to 0.05188, saving model to h5_models/energy\\model_1.h5\n",
      "876/876 [==============================] - 34s 39ms/step - loss: 0.0608 - val_loss: 0.0519 - lr: 3.0000e-04\n",
      "Epoch 18/150\n",
      "876/876 [==============================] - ETA: 0s - loss: 0.0601\n",
      "Epoch 18: val_loss did not improve from 0.05188\n",
      "876/876 [==============================] - 34s 39ms/step - loss: 0.0601 - val_loss: 0.0524 - lr: 3.0000e-04\n",
      "Epoch 19/150\n",
      "876/876 [==============================] - ETA: 0s - loss: 0.0594\n",
      "Epoch 19: val_loss improved from 0.05188 to 0.04948, saving model to h5_models/energy\\model_1.h5\n",
      "876/876 [==============================] - 32s 36ms/step - loss: 0.0594 - val_loss: 0.0495 - lr: 3.0000e-04\n",
      "Epoch 20/150\n",
      "876/876 [==============================] - ETA: 0s - loss: 0.0587\n",
      "Epoch 20: val_loss did not improve from 0.04948\n",
      "876/876 [==============================] - 30s 35ms/step - loss: 0.0587 - val_loss: 0.0524 - lr: 3.0000e-04\n",
      "Epoch 21/150\n",
      "876/876 [==============================] - ETA: 0s - loss: 0.0578\n",
      "Epoch 21: val_loss did not improve from 0.04948\n",
      "876/876 [==============================] - 30s 34ms/step - loss: 0.0578 - val_loss: 0.0527 - lr: 3.0000e-04\n",
      "Epoch 22/150\n",
      "875/876 [============================>.] - ETA: 0s - loss: 0.0573\n",
      "Epoch 22: val_loss did not improve from 0.04948\n",
      "\n",
      "Epoch 22: ReduceLROnPlateau reducing learning rate to 3.000000142492354e-05.\n",
      "876/876 [==============================] - 31s 35ms/step - loss: 0.0573 - val_loss: 0.0514 - lr: 3.0000e-04\n",
      "Epoch 23/150\n",
      "875/876 [============================>.] - ETA: 0s - loss: 0.0545\n",
      "Epoch 23: val_loss improved from 0.04948 to 0.04695, saving model to h5_models/energy\\model_1.h5\n",
      "876/876 [==============================] - 28s 32ms/step - loss: 0.0545 - val_loss: 0.0469 - lr: 3.0000e-05\n",
      "Epoch 24/150\n",
      "876/876 [==============================] - ETA: 0s - loss: 0.0538\n",
      "Epoch 24: val_loss improved from 0.04695 to 0.04596, saving model to h5_models/energy\\model_1.h5\n",
      "876/876 [==============================] - 25s 28ms/step - loss: 0.0538 - val_loss: 0.0460 - lr: 3.0000e-05\n",
      "Epoch 25/150\n",
      "876/876 [==============================] - ETA: 0s - loss: 0.0539\n",
      "Epoch 25: val_loss improved from 0.04596 to 0.04575, saving model to h5_models/energy\\model_1.h5\n",
      "876/876 [==============================] - 27s 31ms/step - loss: 0.0539 - val_loss: 0.0458 - lr: 3.0000e-05\n",
      "Epoch 26/150\n",
      "875/876 [============================>.] - ETA: 0s - loss: 0.0536\n",
      "Epoch 26: val_loss improved from 0.04575 to 0.04508, saving model to h5_models/energy\\model_1.h5\n",
      "876/876 [==============================] - 28s 33ms/step - loss: 0.0536 - val_loss: 0.0451 - lr: 3.0000e-05\n",
      "Epoch 27/150\n",
      "875/876 [============================>.] - ETA: 0s - loss: 0.0533\n",
      "Epoch 27: val_loss improved from 0.04508 to 0.04465, saving model to h5_models/energy\\model_1.h5\n",
      "876/876 [==============================] - 32s 37ms/step - loss: 0.0532 - val_loss: 0.0447 - lr: 3.0000e-05\n",
      "Epoch 28/150\n",
      "875/876 [============================>.] - ETA: 0s - loss: 0.0534\n",
      "Epoch 28: val_loss did not improve from 0.04465\n",
      "876/876 [==============================] - 30s 34ms/step - loss: 0.0534 - val_loss: 0.0457 - lr: 3.0000e-05\n",
      "Epoch 29/150\n",
      "875/876 [============================>.] - ETA: 0s - loss: 0.0525\n",
      "Epoch 29: val_loss did not improve from 0.04465\n",
      "876/876 [==============================] - 31s 36ms/step - loss: 0.0525 - val_loss: 0.0450 - lr: 3.0000e-05\n",
      "Epoch 30/150\n",
      "875/876 [============================>.] - ETA: 0s - loss: 0.0527\n",
      "Epoch 30: val_loss did not improve from 0.04465\n",
      "\n",
      "Epoch 30: ReduceLROnPlateau reducing learning rate to 3.000000106112566e-06.\n",
      "876/876 [==============================] - 29s 33ms/step - loss: 0.0527 - val_loss: 0.0452 - lr: 3.0000e-05\n",
      "Epoch 31/150\n",
      "875/876 [============================>.] - ETA: 0s - loss: 0.0527\n",
      "Epoch 31: val_loss improved from 0.04465 to 0.04383, saving model to h5_models/energy\\model_1.h5\n",
      "876/876 [==============================] - 28s 32ms/step - loss: 0.0527 - val_loss: 0.0438 - lr: 3.0000e-06\n",
      "Epoch 32/150\n",
      "875/876 [============================>.] - ETA: 0s - loss: 0.0526\n",
      "Epoch 32: val_loss improved from 0.04383 to 0.04370, saving model to h5_models/energy\\model_1.h5\n",
      "876/876 [==============================] - 28s 32ms/step - loss: 0.0526 - val_loss: 0.0437 - lr: 3.0000e-06\n",
      "Epoch 33/150\n",
      "876/876 [==============================] - ETA: 0s - loss: 0.0528\n",
      "Epoch 33: val_loss improved from 0.04370 to 0.04330, saving model to h5_models/energy\\model_1.h5\n",
      "876/876 [==============================] - 31s 35ms/step - loss: 0.0528 - val_loss: 0.0433 - lr: 3.0000e-06\n",
      "Epoch 34/150\n",
      "876/876 [==============================] - ETA: 0s - loss: 0.0526\n",
      "Epoch 34: val_loss did not improve from 0.04330\n",
      "876/876 [==============================] - 32s 36ms/step - loss: 0.0526 - val_loss: 0.0434 - lr: 3.0000e-06\n",
      "Epoch 35/150\n",
      "875/876 [============================>.] - ETA: 0s - loss: 0.0524\n",
      "Epoch 35: val_loss improved from 0.04330 to 0.04325, saving model to h5_models/energy\\model_1.h5\n",
      "876/876 [==============================] - 32s 36ms/step - loss: 0.0524 - val_loss: 0.0433 - lr: 3.0000e-06\n",
      "Epoch 36/150\n",
      "876/876 [==============================] - ETA: 0s - loss: 0.0522\n",
      "Epoch 36: val_loss improved from 0.04325 to 0.04316, saving model to h5_models/energy\\model_1.h5\n",
      "876/876 [==============================] - 27s 30ms/step - loss: 0.0522 - val_loss: 0.0432 - lr: 3.0000e-06\n",
      "Epoch 37/150\n",
      "876/876 [==============================] - ETA: 0s - loss: 0.0523\n",
      "Epoch 37: val_loss did not improve from 0.04316\n",
      "876/876 [==============================] - 31s 36ms/step - loss: 0.0523 - val_loss: 0.0433 - lr: 3.0000e-06\n",
      "Epoch 38/150\n",
      "876/876 [==============================] - ETA: 0s - loss: 0.0525\n",
      "Epoch 38: val_loss did not improve from 0.04316\n",
      "876/876 [==============================] - 33s 37ms/step - loss: 0.0525 - val_loss: 0.0433 - lr: 3.0000e-06\n",
      "Epoch 39/150\n",
      "876/876 [==============================] - ETA: 0s - loss: 0.0526\n",
      "Epoch 39: val_loss improved from 0.04316 to 0.04303, saving model to h5_models/energy\\model_1.h5\n",
      "876/876 [==============================] - 31s 36ms/step - loss: 0.0526 - val_loss: 0.0430 - lr: 3.0000e-06\n",
      "Epoch 40/150\n",
      "875/876 [============================>.] - ETA: 0s - loss: 0.0526\n",
      "Epoch 40: val_loss did not improve from 0.04303\n",
      "876/876 [==============================] - 31s 36ms/step - loss: 0.0526 - val_loss: 0.0431 - lr: 3.0000e-06\n",
      "Epoch 41/150\n",
      "875/876 [============================>.] - ETA: 0s - loss: 0.0523\n",
      "Epoch 41: val_loss did not improve from 0.04303\n",
      "876/876 [==============================] - 32s 37ms/step - loss: 0.0523 - val_loss: 0.0431 - lr: 3.0000e-06\n",
      "Epoch 42/150\n",
      "876/876 [==============================] - ETA: 0s - loss: 0.0524\n",
      "Epoch 42: val_loss did not improve from 0.04303\n",
      "\n",
      "Epoch 42: ReduceLROnPlateau reducing learning rate to 3.000000106112566e-07.\n",
      "876/876 [==============================] - 32s 37ms/step - loss: 0.0524 - val_loss: 0.0432 - lr: 3.0000e-06\n",
      "Epoch 43/150\n",
      "875/876 [============================>.] - ETA: 0s - loss: 0.0521\n",
      "Epoch 43: val_loss did not improve from 0.04303\n",
      "876/876 [==============================] - 32s 36ms/step - loss: 0.0521 - val_loss: 0.0431 - lr: 3.0000e-07\n",
      "Epoch 44/150\n",
      "876/876 [==============================] - ETA: 0s - loss: 0.0523\n",
      "Epoch 44: val_loss did not improve from 0.04303\n",
      "Restoring model weights from the end of the best epoch: 39.\n",
      "876/876 [==============================] - 32s 36ms/step - loss: 0.0523 - val_loss: 0.0431 - lr: 3.0000e-07\n",
      "Epoch 44: early stopping\n"
     ]
    }
   ],
   "source": [
    "model_1.compile(loss=\"mae\",\n",
    "                optimizer=tf.keras.optimizers.Adam(learning_rate=3e-4))\n",
    "\n",
    "model_1_history = model_1.fit(train_dataset,\n",
    "                              validation_data=val_dataset,\n",
    "                              epochs=150,\n",
    "                              callbacks=[tensorboard_cb(\"model_logs/energy/\", model_1.name),\n",
    "                                         checkpoint_cb(\"h5_models/energy/\", model_1.name, save_format=\".h5\"),\n",
    "                                         early_stopping_cb(patience=5),\n",
    "                                         reduce_lr_cb(patience=3, factor=0.1)])"
   ]
  },
  {
   "cell_type": "code",
   "execution_count": 50,
   "id": "59b64482-51a1-4f2f-b5a1-23238044f729",
   "metadata": {},
   "outputs": [],
   "source": [
    "from sklearn.metrics import mean_absolute_error, mean_squared_error, r2_score"
   ]
  },
  {
   "cell_type": "code",
   "execution_count": 51,
   "id": "33c5ac88-2531-4b61-9447-530dcf03653f",
   "metadata": {},
   "outputs": [],
   "source": [
    "def evaluate_ts_rg_model(actual_values, predicted_values):\n",
    "    \"\"\"\n",
    "    Evaluate a time series/regression model for forecasting population.\n",
    "\n",
    "    Parameters:\n",
    "    - actual_values: 1D array or list of actual population values.\n",
    "    - predicted_values: 1D array or list of predicted population values.\n",
    "\n",
    "    Returns:\n",
    "    - evaluation_results: Dictionary containing evaluation metrics.\n",
    "    \"\"\"\n",
    "    actual_values = np.array(actual_values)\n",
    "    predicted_values = np.array(predicted_values)\n",
    "\n",
    "    # Mean Absolute Error (MAE)\n",
    "    mae = mean_absolute_error(actual_values, predicted_values)\n",
    "\n",
    "    # Mean Squared Error (MSE)\n",
    "    mse = mean_squared_error(actual_values, predicted_values)\n",
    "\n",
    "    # Root Mean Squared Error (RMSE)\n",
    "    rmse = np.sqrt(mse)\n",
    "\n",
    "    # Mean Absolute Percentage Error (MAPE)\n",
    "    mask = actual_values != 0  # Avoid division by zero\n",
    "    mape = np.mean(np.abs((actual_values - predicted_values) / actual_values)[mask]) * 100\n",
    "\n",
    "    # R-squared (R2)\n",
    "    r2 = r2_score(actual_values, predicted_values)\n",
    "\n",
    "    evaluation_results = {\n",
    "        'MAE': mae,\n",
    "        'MSE': mse,\n",
    "        'RMSE': rmse,\n",
    "        'MAPE': mape,\n",
    "        'R2': r2\n",
    "    }\n",
    "\n",
    "    return evaluation_results"
   ]
  },
  {
   "cell_type": "code",
   "execution_count": 52,
   "id": "57e0d196-32f0-4d55-9628-5cd1e7302e60",
   "metadata": {},
   "outputs": [],
   "source": [
    "def plot_ts_rg_preds_interval(y_true, y_preds, offset, figsize=(10, 7)):\n",
    "    \"\"\"\n",
    "    Plot a graph with a defined offset to visualize the 95% confidence of the model's predictions versus actual.\n",
    "    \n",
    "    Parameters:\n",
    "    - y_true: 1D array or list of actual values.\n",
    "    - y_preds: 1D array or list of predicted values.\n",
    "    - offset: The duration to visualize.\n",
    "    \"\"\"\n",
    "    residuals = y_true - y_preds\n",
    "    standard_errors = np.std(residuals)\n",
    "    margin_of_errors = 1.96 * standard_errors\n",
    "    upper = y_preds + margin_of_errors\n",
    "    lower = y_preds - margin_of_errors\n",
    "\n",
    "    plt.figure(figsize=figsize)\n",
    "    plt.plot(y_true[offset:], label=\"Actual\", color=\"green\")\n",
    "    plt.plot(y_preds[offset:], label=\"Preds\", color=\"blue\")\n",
    "    plt.fill_between(range(len(y_true[offset:])), lower[offset:], upper[offset:], color=\"lightgrey\", label=\"Preds Interval\")\n",
    "    plt.grid(True)\n",
    "    plt.legend(fontsize=14)\n",
    "    plt.xlabel(\"Duration\")\n",
    "    plt.ylabel(\"Targets\")"
   ]
  },
  {
   "cell_type": "code",
   "execution_count": 152,
   "id": "7c59d30b-a36b-49ba-936c-8820f1846c1f",
   "metadata": {},
   "outputs": [
    {
     "name": "stdout",
     "output_type": "stream",
     "text": [
      "WARNING:tensorflow:Layer lstm will not use cuDNN kernels since it doesn't meet the criteria. It will use a generic GPU kernel as fallback when running on GPU.\n",
      "WARNING:tensorflow:Layer lstm_1 will not use cuDNN kernels since it doesn't meet the criteria. It will use a generic GPU kernel as fallback when running on GPU.\n"
     ]
    }
   ],
   "source": [
    "model_1_loaded = tf.keras.models.load_model(\"h5_models/energy/model_1.h5\")"
   ]
  },
  {
   "cell_type": "code",
   "execution_count": 153,
   "id": "979cb733-ec7a-47f8-9bc8-8b0eb5f7dbe1",
   "metadata": {},
   "outputs": [
    {
     "data": {
      "text/plain": [
       "array([[0.4079073 ],\n",
       "       [0.32210338],\n",
       "       [0.26808774],\n",
       "       ...,\n",
       "       [0.5566428 ],\n",
       "       [0.47901422],\n",
       "       [0.3515639 ]], dtype=float32)"
      ]
     },
     "execution_count": 153,
     "metadata": {},
     "output_type": "execute_result"
    }
   ],
   "source": [
    "model_1_preds = model_1_loaded.predict(val_dataset)\n",
    "model_1_preds"
   ]
  },
  {
   "cell_type": "code",
   "execution_count": 154,
   "id": "b32dcb9b-e1e2-4878-9423-c6030d8c712b",
   "metadata": {},
   "outputs": [
    {
     "data": {
      "text/plain": [
       "(7008, 1)"
      ]
     },
     "execution_count": 154,
     "metadata": {},
     "output_type": "execute_result"
    }
   ],
   "source": [
    "y_val_scaled.shape"
   ]
  },
  {
   "cell_type": "code",
   "execution_count": 155,
   "id": "130b5e32-7fd5-4f1c-b9d7-095b0996a431",
   "metadata": {},
   "outputs": [
    {
     "data": {
      "text/plain": [
       "(7008, 1)"
      ]
     },
     "execution_count": 155,
     "metadata": {},
     "output_type": "execute_result"
    }
   ],
   "source": [
    "model_1_preds.shape"
   ]
  },
  {
   "cell_type": "code",
   "execution_count": 156,
   "id": "92cf8cdb-49ea-4435-819e-b0c46aeb375a",
   "metadata": {},
   "outputs": [
    {
     "data": {
      "text/plain": [
       "<tf.Tensor: shape=(7008,), dtype=float32, numpy=array([27513., 25726., 24749., ..., 28071., 25801., 24455.], dtype=float32)>"
      ]
     },
     "execution_count": 156,
     "metadata": {},
     "output_type": "execute_result"
    }
   ],
   "source": [
    "y_val_unscaled = tf.cast(tf.squeeze(scalar_y.inverse_transform(y_val_scaled)), dtype=tf.float32)\n",
    "y_val_unscaled"
   ]
  },
  {
   "cell_type": "code",
   "execution_count": 157,
   "id": "16363793-8a70-42f9-a3f0-4bbf3131ccbb",
   "metadata": {},
   "outputs": [
    {
     "data": {
      "text/plain": [
       "<tf.Tensor: shape=(7008,), dtype=float32, numpy=\n",
       "array([27412.262, 25441.004, 24200.049, ..., 30829.312, 29045.871,\n",
       "       26117.83 ], dtype=float32)>"
      ]
     },
     "execution_count": 157,
     "metadata": {},
     "output_type": "execute_result"
    }
   ],
   "source": [
    "model_1_preds_unscaled = tf.squeeze(scalar_y.inverse_transform(model_1_preds))\n",
    "model_1_preds_unscaled"
   ]
  },
  {
   "cell_type": "code",
   "execution_count": 175,
   "id": "5207a31f-56be-4106-9b36-95bfc7a8fc6a",
   "metadata": {},
   "outputs": [
    {
     "data": {
      "text/plain": [
       "{'MAE': 988.64984,\n",
       " 'MSE': 1836809.4,\n",
       " 'RMSE': 1355.2894,\n",
       " 'MAPE': 3.558509051799774,\n",
       " 'R2': 0.910031934024084}"
      ]
     },
     "execution_count": 175,
     "metadata": {},
     "output_type": "execute_result"
    }
   ],
   "source": [
    "model_1_results = evaluate_ts_rg_model(y_val_unscaled, model_1_preds_unscaled)\n",
    "model_1_results"
   ]
  },
  {
   "cell_type": "code",
   "execution_count": 159,
   "id": "2b3b4922-294a-40b3-8013-4a3cdf9984af",
   "metadata": {},
   "outputs": [
    {
     "data": {
      "text/plain": [
       "6960"
      ]
     },
     "execution_count": 159,
     "metadata": {},
     "output_type": "execute_result"
    }
   ],
   "source": [
    "offset = np.abs(48-len(model_1_preds_unscaled))\n",
    "offset"
   ]
  },
  {
   "cell_type": "code",
   "execution_count": 160,
   "id": "3e57264d-ba71-4b05-8dc9-ec16b2ed5f3d",
   "metadata": {},
   "outputs": [
    {
     "data": {
      "image/png": "[encoded data removed]",
      "text/plain": [
       "<Figure size 1000x700 with 1 Axes>"
      ]
     },
     "metadata": {},
     "output_type": "display_data"
    }
   ],
   "source": [
    "plot_ts_rg_preds_interval(y_val_unscaled, model_1_preds_unscaled, offset=offset)"
   ]
  },
  {
   "cell_type": "code",
   "execution_count": 161,
   "id": "eb1f784d-3738-41a4-b470-0e6b90cbd1de",
   "metadata": {},
   "outputs": [],
   "source": [
    "model_1_preds_train = model_1_loaded.predict(train_dataset)\n",
    "model_1_preds_train_unscaled = tf.squeeze(scalar_y.inverse_transform(model_1_preds_train))"
   ]
  },
  {
   "cell_type": "code",
   "execution_count": 162,
   "id": "b4e09c47-6e4c-45b3-903e-f37325812d51",
   "metadata": {},
   "outputs": [],
   "source": [
    "y_train_unscaled = tf.cast(tf.squeeze(scalar_y.inverse_transform(y_train_scaled)), dtype=tf.float32)"
   ]
  },
  {
   "cell_type": "code",
   "execution_count": 173,
   "id": "0b76236f-4c38-4579-bc01-35791d5e8e45",
   "metadata": {},
   "outputs": [],
   "source": [
    "model_1_results_train = evaluate_ts_rg_model(y_train_unscaled, model_1_preds_train_unscaled)"
   ]
  },
  {
   "cell_type": "code",
   "execution_count": 174,
   "id": "d9043356-aff7-4b1b-a517-0704a59e00db",
   "metadata": {},
   "outputs": [
    {
     "data": {
      "text/plain": [
       "{'MAE': 962.48486,\n",
       " 'MSE': 1788992.0,\n",
       " 'RMSE': 1337.5321,\n",
       " 'MAPE': 3.5460393875837326,\n",
       " 'R2': 0.9150155743491506}"
      ]
     },
     "execution_count": 174,
     "metadata": {},
     "output_type": "execute_result"
    }
   ],
   "source": [
    "model_1_results_train"
   ]
  },
  {
   "cell_type": "code",
   "execution_count": 165,
   "id": "5e10a5f3-3f4f-4067-96ed-64e13d314d52",
   "metadata": {},
   "outputs": [
    {
     "data": {
      "text/plain": [
       "28008"
      ]
     },
     "execution_count": 165,
     "metadata": {},
     "output_type": "execute_result"
    }
   ],
   "source": [
    "offset_train = np.abs(24-len(model_1_preds_train_unscaled))\n",
    "offset_train"
   ]
  },
  {
   "cell_type": "code",
   "execution_count": 166,
   "id": "adc88483-e1f0-4c72-8633-e97bd3738fd9",
   "metadata": {},
   "outputs": [
    {
     "data": {
      "image/png": "[encoded data removed]",
      "text/plain": [
       "<Figure size 1000x700 with 1 Axes>"
      ]
     },
     "metadata": {},
     "output_type": "display_data"
    }
   ],
   "source": [
    "plot_ts_rg_preds_interval(y_train_unscaled, model_1_preds_train_unscaled, offset=offset_train)"
   ]
  },
  {
   "cell_type": "code",
   "execution_count": 176,
   "id": "f267d483-6bb7-4ef3-bdde-eea5db24a5a0",
   "metadata": {},
   "outputs": [
    {
     "name": "stdout",
     "output_type": "stream",
     "text": [
      "The tensorboard extension is already loaded. To reload it, use:\n",
      "  %reload_ext tensorboard\n"
     ]
    }
   ],
   "source": [
    "%load_ext tensorboard"
   ]
  },
  {
   "cell_type": "code",
   "execution_count": 177,
   "id": "f0a0d648-6810-4602-bb0c-e4f73e5ed458",
   "metadata": {},
   "outputs": [
    {
     "data": {
      "text/html": [
       "\n",
       "      <iframe id=\"tensorboard-frame-f6a425cf215e0fdf\" width=\"100%\" height=\"800\" frameborder=\"0\">\n",
       "      </iframe>\n",
       "      <script>\n",
       "        (function() {\n",
       "          const frame = document.getElementById(\"tensorboard-frame-f6a425cf215e0fdf\");\n",
       "          const url = new URL(\"/\", window.location);\n",
       "          const port = 8081;\n",
       "          if (port) {\n",
       "            url.port = port;\n",
       "          }\n",
       "          frame.src = url;\n",
       "        })();\n",
       "      </script>\n",
       "    "
      ],
      "text/plain": [
       "<IPython.core.display.HTML object>"
      ]
     },
     "metadata": {},
     "output_type": "display_data"
    }
   ],
   "source": [
    "%tensorboard --logdir model_logs/energy --port 8081"
   ]
  },
  {
   "cell_type": "code",
   "execution_count": 178,
   "id": "a5bbfc5b-3e19-4136-8d46-385f476067ce",
   "metadata": {},
   "outputs": [
    {
     "data": {
      "text/plain": [
       "<Axes: >"
      ]
     },
     "execution_count": 178,
     "metadata": {},
     "output_type": "execute_result"
    },
    {
     "data": {
      "image/png": "[encoded data removed]",
      "text/plain": [
       "<Figure size 640x480 with 1 Axes>"
      ]
     },
     "metadata": {},
     "output_type": "display_data"
    }
   ],
   "source": [
    "pd.DataFrame(model_1_history.history).plot()"
   ]
  },
  {
   "cell_type": "code",
   "execution_count": 377,
   "id": "7f212e6b-d727-432a-a871-ae2ad8f1ebf7",
   "metadata": {},
   "outputs": [
    {
     "name": "stdout",
     "output_type": "stream",
     "text": [
      "WARNING:tensorflow:Layer lstm will not use cuDNN kernels since it doesn't meet the criteria. It will use a generic GPU kernel as fallback when running on GPU.\n",
      "WARNING:tensorflow:Layer lstm_1 will not use cuDNN kernels since it doesn't meet the criteria. It will use a generic GPU kernel as fallback when running on GPU.\n",
      "Epoch 1/150\n",
      "876/876 [==============================] - ETA: 0s - loss: 0.1245\n",
      "Epoch 1: val_loss improved from inf to 0.07892, saving model to h5_models/energy\\model_2.h5\n",
      "876/876 [==============================] - 107s 117ms/step - loss: 0.1245 - val_loss: 0.0789 - lr: 3.0000e-04\n",
      "Epoch 2/150\n",
      "876/876 [==============================] - ETA: 0s - loss: 0.0668\n",
      "Epoch 2: val_loss improved from 0.07892 to 0.04541, saving model to h5_models/energy\\model_2.h5\n",
      "876/876 [==============================] - 108s 124ms/step - loss: 0.0668 - val_loss: 0.0454 - lr: 3.0000e-04\n",
      "Epoch 3/150\n",
      "876/876 [==============================] - ETA: 0s - loss: 0.0565\n",
      "Epoch 3: val_loss improved from 0.04541 to 0.04357, saving model to h5_models/energy\\model_2.h5\n",
      "876/876 [==============================] - 109s 124ms/step - loss: 0.0565 - val_loss: 0.0436 - lr: 3.0000e-04\n",
      "Epoch 4/150\n",
      "876/876 [==============================] - ETA: 0s - loss: 0.0506\n",
      "Epoch 4: val_loss improved from 0.04357 to 0.03222, saving model to h5_models/energy\\model_2.h5\n",
      "876/876 [==============================] - 106s 121ms/step - loss: 0.0506 - val_loss: 0.0322 - lr: 3.0000e-04\n",
      "Epoch 5/150\n",
      "876/876 [==============================] - ETA: 0s - loss: 0.0475\n",
      "Epoch 5: val_loss improved from 0.03222 to 0.03128, saving model to h5_models/energy\\model_2.h5\n",
      "876/876 [==============================] - 106s 121ms/step - loss: 0.0475 - val_loss: 0.0313 - lr: 3.0000e-04\n",
      "Epoch 6/150\n",
      "876/876 [==============================] - ETA: 0s - loss: 0.0450\n",
      "Epoch 6: val_loss improved from 0.03128 to 0.03030, saving model to h5_models/energy\\model_2.h5\n",
      "876/876 [==============================] - 107s 122ms/step - loss: 0.0450 - val_loss: 0.0303 - lr: 3.0000e-04\n",
      "Epoch 7/150\n",
      "876/876 [==============================] - ETA: 0s - loss: 0.0421\n",
      "Epoch 7: val_loss improved from 0.03030 to 0.02418, saving model to h5_models/energy\\model_2.h5\n",
      "876/876 [==============================] - 108s 123ms/step - loss: 0.0421 - val_loss: 0.0242 - lr: 3.0000e-04\n",
      "Epoch 8/150\n",
      "876/876 [==============================] - ETA: 0s - loss: 0.0406\n",
      "Epoch 8: val_loss improved from 0.02418 to 0.02089, saving model to h5_models/energy\\model_2.h5\n",
      "876/876 [==============================] - 106s 121ms/step - loss: 0.0406 - val_loss: 0.0209 - lr: 3.0000e-04\n",
      "Epoch 9/150\n",
      "876/876 [==============================] - ETA: 0s - loss: 0.0385\n",
      "Epoch 9: val_loss did not improve from 0.02089\n",
      "876/876 [==============================] - 104s 118ms/step - loss: 0.0385 - val_loss: 0.0231 - lr: 3.0000e-04\n",
      "Epoch 10/150\n",
      "876/876 [==============================] - ETA: 0s - loss: 0.0380\n",
      "Epoch 10: val_loss did not improve from 0.02089\n",
      "876/876 [==============================] - 103s 118ms/step - loss: 0.0380 - val_loss: 0.0255 - lr: 3.0000e-04\n",
      "Epoch 11/150\n",
      "876/876 [==============================] - ETA: 0s - loss: 0.0364\n",
      "Epoch 11: val_loss improved from 0.02089 to 0.02044, saving model to h5_models/energy\\model_2.h5\n",
      "876/876 [==============================] - 117s 134ms/step - loss: 0.0364 - val_loss: 0.0204 - lr: 3.0000e-04\n",
      "Epoch 12/150\n",
      "876/876 [==============================] - ETA: 0s - loss: 0.0361\n",
      "Epoch 12: val_loss did not improve from 0.02044\n",
      "876/876 [==============================] - 105s 120ms/step - loss: 0.0361 - val_loss: 0.0222 - lr: 3.0000e-04\n",
      "Epoch 13/150\n",
      "876/876 [==============================] - ETA: 0s - loss: 0.0353\n",
      "Epoch 13: val_loss did not improve from 0.02044\n",
      "876/876 [==============================] - 105s 120ms/step - loss: 0.0353 - val_loss: 0.0231 - lr: 3.0000e-04\n",
      "Epoch 14/150\n",
      "876/876 [==============================] - ETA: 0s - loss: 0.0347\n",
      "Epoch 14: val_loss did not improve from 0.02044\n",
      "\n",
      "Epoch 14: ReduceLROnPlateau reducing learning rate to 3.000000142492354e-05.\n",
      "876/876 [==============================] - 103s 117ms/step - loss: 0.0347 - val_loss: 0.0214 - lr: 3.0000e-04\n",
      "Epoch 15/150\n",
      "876/876 [==============================] - ETA: 0s - loss: 0.0330\n",
      "Epoch 15: val_loss improved from 0.02044 to 0.01684, saving model to h5_models/energy\\model_2.h5\n",
      "876/876 [==============================] - 110s 126ms/step - loss: 0.0330 - val_loss: 0.0168 - lr: 3.0000e-05\n",
      "Epoch 16/150\n",
      "876/876 [==============================] - ETA: 0s - loss: 0.0325\n",
      "Epoch 16: val_loss improved from 0.01684 to 0.01659, saving model to h5_models/energy\\model_2.h5\n",
      "876/876 [==============================] - 113s 129ms/step - loss: 0.0325 - val_loss: 0.0166 - lr: 3.0000e-05\n",
      "Epoch 17/150\n",
      "876/876 [==============================] - ETA: 0s - loss: 0.0322\n",
      "Epoch 17: val_loss did not improve from 0.01659\n",
      "876/876 [==============================] - 116s 133ms/step - loss: 0.0322 - val_loss: 0.0169 - lr: 3.0000e-05\n",
      "Epoch 18/150\n",
      "876/876 [==============================] - ETA: 0s - loss: 0.0322\n",
      "Epoch 18: val_loss did not improve from 0.01659\n",
      "876/876 [==============================] - 109s 124ms/step - loss: 0.0322 - val_loss: 0.0167 - lr: 3.0000e-05\n",
      "Epoch 19/150\n",
      "876/876 [==============================] - ETA: 0s - loss: 0.0322\n",
      "Epoch 19: val_loss improved from 0.01659 to 0.01656, saving model to h5_models/energy\\model_2.h5\n",
      "\n",
      "Epoch 19: ReduceLROnPlateau reducing learning rate to 3.000000106112566e-06.\n",
      "876/876 [==============================] - 111s 127ms/step - loss: 0.0322 - val_loss: 0.0166 - lr: 3.0000e-05\n",
      "Epoch 20/150\n",
      "876/876 [==============================] - ETA: 0s - loss: 0.0323\n",
      "Epoch 20: val_loss improved from 0.01656 to 0.01626, saving model to h5_models/energy\\model_2.h5\n",
      "876/876 [==============================] - 110s 126ms/step - loss: 0.0323 - val_loss: 0.0163 - lr: 3.0000e-06\n",
      "Epoch 21/150\n",
      "876/876 [==============================] - ETA: 0s - loss: 0.0321\n",
      "Epoch 21: val_loss did not improve from 0.01626\n",
      "876/876 [==============================] - 107s 122ms/step - loss: 0.0321 - val_loss: 0.0163 - lr: 3.0000e-06\n",
      "Epoch 22/150\n",
      "876/876 [==============================] - ETA: 0s - loss: 0.0317\n",
      "Epoch 22: val_loss improved from 0.01626 to 0.01617, saving model to h5_models/energy\\model_2.h5\n",
      "876/876 [==============================] - 111s 126ms/step - loss: 0.0317 - val_loss: 0.0162 - lr: 3.0000e-06\n",
      "Epoch 23/150\n",
      "876/876 [==============================] - ETA: 0s - loss: 0.0319\n",
      "Epoch 23: val_loss did not improve from 0.01617\n",
      "\n",
      "Epoch 23: ReduceLROnPlateau reducing learning rate to 3.000000106112566e-07.\n",
      "876/876 [==============================] - 107s 123ms/step - loss: 0.0319 - val_loss: 0.0163 - lr: 3.0000e-06\n",
      "Epoch 24/150\n",
      "876/876 [==============================] - ETA: 0s - loss: 0.0317\n",
      "Epoch 24: val_loss did not improve from 0.01617\n",
      "876/876 [==============================] - 109s 124ms/step - loss: 0.0317 - val_loss: 0.0162 - lr: 3.0000e-07\n",
      "Epoch 25/150\n",
      "876/876 [==============================] - ETA: 0s - loss: 0.0319\n",
      "Epoch 25: val_loss did not improve from 0.01617\n",
      "876/876 [==============================] - 104s 119ms/step - loss: 0.0319 - val_loss: 0.0162 - lr: 3.0000e-07\n",
      "Epoch 26/150\n",
      "876/876 [==============================] - ETA: 0s - loss: 0.0318\n",
      "Epoch 26: val_loss did not improve from 0.01617\n",
      "\n",
      "Epoch 26: ReduceLROnPlateau reducing learning rate to 1e-07.\n",
      "876/876 [==============================] - 104s 119ms/step - loss: 0.0318 - val_loss: 0.0163 - lr: 3.0000e-07\n",
      "Epoch 27/150\n",
      "876/876 [==============================] - ETA: 0s - loss: 0.0316\n",
      "Epoch 27: val_loss did not improve from 0.01617\n",
      "Restoring model weights from the end of the best epoch: 22.\n",
      "876/876 [==============================] - 109s 124ms/step - loss: 0.0316 - val_loss: 0.0163 - lr: 1.0000e-07\n",
      "Epoch 27: early stopping\n"
     ]
    }
   ],
   "source": [
    "tf.keras.backend.clear_session()\n",
    "\n",
    "inputs = layers.Input(shape=(train_num_timesteps, train_num_features), dtype=tf.float32)\n",
    "x = layers.Conv1D(64, 6, activation=\"relu\")(inputs)\n",
    "x = layers.Conv1D(64, 3, activation=\"relu\")(x)\n",
    "x = layers.LSTM(72, activation=\"relu\", return_sequences=True)(x)\n",
    "x = layers.LSTM(48, activation=\"relu\")(x)\n",
    "x = layers.Flatten()(x)\n",
    "x = layers.Dropout(0.3)(x)\n",
    "x = layers.Dense(128)(x)\n",
    "x = layers.Dropout(0.3)(x)\n",
    "outputs = layers.Dense(HORIZON)(x)\n",
    "\n",
    "model_2 = tf.keras.Model(inputs, outputs, name=\"model_2\")\n",
    "\n",
    "model_2.compile(loss=\"mae\",\n",
    "                optimizer=tf.keras.optimizers.Adam(learning_rate=3e-4))\n",
    "\n",
    "model_2_history = model_2.fit(train_dataset,\n",
    "                              validation_data=val_dataset,\n",
    "                              epochs=150,\n",
    "                              callbacks=[tensorboard_cb(\"model_logs/energy/\", model_2.name),\n",
    "                                         checkpoint_cb(\"h5_models/energy/\", model_2.name, save_format=\".h5\"),\n",
    "                                         early_stopping_cb(patience=5),\n",
    "                                         reduce_lr_cb(patience=3, factor=0.1)])"
   ]
  },
  {
   "cell_type": "code",
   "execution_count": 379,
   "id": "9bca6469-f805-49cd-8d23-29e2687ea2a1",
   "metadata": {},
   "outputs": [
    {
     "data": {
      "text/plain": [
       "{'MAE': 371.46704,\n",
       " 'MSE': 321584.94,\n",
       " 'RMSE': 567.0846,\n",
       " 'MAPE': 1.3079303316771984,\n",
       " 'R2': 0.9842485669935609}"
      ]
     },
     "execution_count": 379,
     "metadata": {},
     "output_type": "execute_result"
    }
   ],
   "source": [
    "model_2_preds = model_2.predict(val_dataset)\n",
    "model_2_results = evaluate_ts_rg_model(y_val_unscaled, tf.squeeze(scalar_y.inverse_transform(model_2_preds)))\n",
    "model_2_results"
   ]
  },
  {
   "cell_type": "code",
   "execution_count": 383,
   "id": "979fe07b-4cd8-446e-a006-5799d9519c6f",
   "metadata": {},
   "outputs": [
    {
     "name": "stdout",
     "output_type": "stream",
     "text": [
      "876/876 [==============================] - 13s 15ms/step - loss: 0.0170\n",
      "219/219 [==============================] - 3s 14ms/step - loss: 0.0162\n"
     ]
    },
    {
     "data": {
      "text/plain": [
       "(0.016956329345703125, 0.016169017180800438)"
      ]
     },
     "execution_count": 383,
     "metadata": {},
     "output_type": "execute_result"
    }
   ],
   "source": [
    "model_2.evaluate(train_dataset), model_2.evaluate(val_dataset)"
   ]
  },
  {
   "cell_type": "code",
   "execution_count": 386,
   "id": "15fcf2e1-4421-46a9-b7e5-ede5c57cf423",
   "metadata": {},
   "outputs": [
    {
     "name": "stdout",
     "output_type": "stream",
     "text": [
      "Model: \"model_2\"\n",
      "_________________________________________________________________\n",
      " Layer (type)                Output Shape              Param #   \n",
      "=================================================================\n",
      " input_1 (InputLayer)        [(None, 24, 2)]           0         \n",
      "                                                                 \n",
      " conv1d (Conv1D)             (None, 19, 64)            832       \n",
      "                                                                 \n",
      " conv1d_1 (Conv1D)           (None, 17, 64)            12352     \n",
      "                                                                 \n",
      " lstm (LSTM)                 (None, 17, 72)            39456     \n",
      "                                                                 \n",
      " lstm_1 (LSTM)               (None, 48)                23232     \n",
      "                                                                 \n",
      " flatten (Flatten)           (None, 48)                0         \n",
      "                                                                 \n",
      " dropout (Dropout)           (None, 48)                0         \n",
      "                                                                 \n",
      " dense (Dense)               (None, 128)               6272      \n",
      "                                                                 \n",
      " dropout_1 (Dropout)         (None, 128)               0         \n",
      "                                                                 \n",
      " dense_1 (Dense)             (None, 1)                 129       \n",
      "                                                                 \n",
      "=================================================================\n",
      "Total params: 82,273\n",
      "Trainable params: 82,273\n",
      "Non-trainable params: 0\n",
      "_________________________________________________________________\n"
     ]
    }
   ],
   "source": [
    "model_2.summary()"
   ]
  },
  {
   "cell_type": "code",
   "execution_count": 381,
   "id": "ca5737c6-b10f-4d7a-93ee-6ff5918ff4ac",
   "metadata": {
    "scrolled": true
   },
   "outputs": [
    {
     "name": "stdout",
     "output_type": "stream",
     "text": [
      "WARNING:tensorflow:Layer lstm will not use cuDNN kernels since it doesn't meet the criteria. It will use a generic GPU kernel as fallback when running on GPU.\n",
      "WARNING:tensorflow:Layer lstm will not use cuDNN kernels since it doesn't meet the criteria. It will use a generic GPU kernel as fallback when running on GPU.\n",
      "WARNING:tensorflow:Layer lstm will not use cuDNN kernels since it doesn't meet the criteria. It will use a generic GPU kernel as fallback when running on GPU.\n",
      "Epoch 1/150\n",
      "876/876 [==============================] - ETA: 0s - loss: 0.0701\n",
      "Epoch 1: val_loss improved from inf to 0.04712, saving model to h5_models/energy\\model_3.h5\n",
      "876/876 [==============================] - 133s 149ms/step - loss: 0.0701 - val_loss: 0.0471 - lr: 0.0010\n",
      "Epoch 2/150\n",
      "876/876 [==============================] - ETA: 0s - loss: 0.0356\n",
      "Epoch 2: val_loss improved from 0.04712 to 0.03962, saving model to h5_models/energy\\model_3.h5\n",
      "876/876 [==============================] - 139s 159ms/step - loss: 0.0356 - val_loss: 0.0396 - lr: 0.0010\n",
      "Epoch 3/150\n",
      "876/876 [==============================] - ETA: 0s - loss: 0.0285\n",
      "Epoch 3: val_loss improved from 0.03962 to 0.02703, saving model to h5_models/energy\\model_3.h5\n",
      "876/876 [==============================] - 147s 168ms/step - loss: 0.0285 - val_loss: 0.0270 - lr: 0.0010\n",
      "Epoch 4/150\n",
      "876/876 [==============================] - ETA: 0s - loss: 0.0253\n",
      "Epoch 4: val_loss did not improve from 0.02703\n",
      "876/876 [==============================] - 142s 162ms/step - loss: 0.0253 - val_loss: 0.0273 - lr: 0.0010\n",
      "Epoch 5/150\n",
      "876/876 [==============================] - ETA: 0s - loss: 0.0237\n",
      "Epoch 5: val_loss improved from 0.02703 to 0.02432, saving model to h5_models/energy\\model_3.h5\n",
      "876/876 [==============================] - 129s 148ms/step - loss: 0.0237 - val_loss: 0.0243 - lr: 0.0010\n",
      "Epoch 6/150\n",
      "876/876 [==============================] - ETA: 0s - loss: 0.0228\n",
      "Epoch 6: val_loss improved from 0.02432 to 0.02237, saving model to h5_models/energy\\model_3.h5\n",
      "876/876 [==============================] - 138s 157ms/step - loss: 0.0228 - val_loss: 0.0224 - lr: 0.0010\n",
      "Epoch 7/150\n",
      "876/876 [==============================] - ETA: 0s - loss: 0.0220\n",
      "Epoch 7: val_loss improved from 0.02237 to 0.02056, saving model to h5_models/energy\\model_3.h5\n",
      "876/876 [==============================] - 138s 158ms/step - loss: 0.0220 - val_loss: 0.0206 - lr: 0.0010\n",
      "Epoch 8/150\n",
      "876/876 [==============================] - ETA: 0s - loss: 0.0213\n",
      "Epoch 8: val_loss improved from 0.02056 to 0.01940, saving model to h5_models/energy\\model_3.h5\n",
      "876/876 [==============================] - 143s 163ms/step - loss: 0.0213 - val_loss: 0.0194 - lr: 0.0010\n",
      "Epoch 9/150\n",
      "876/876 [==============================] - ETA: 0s - loss: 0.0207\n",
      "Epoch 9: val_loss did not improve from 0.01940\n",
      "876/876 [==============================] - 148s 169ms/step - loss: 0.0207 - val_loss: 0.0218 - lr: 0.0010\n",
      "Epoch 10/150\n",
      "876/876 [==============================] - ETA: 0s - loss: 0.0203\n",
      "Epoch 10: val_loss did not improve from 0.01940\n",
      "876/876 [==============================] - 140s 160ms/step - loss: 0.0203 - val_loss: 0.0194 - lr: 0.0010\n",
      "Epoch 11/150\n",
      "876/876 [==============================] - ETA: 0s - loss: 0.0202\n",
      "Epoch 11: val_loss improved from 0.01940 to 0.01898, saving model to h5_models/energy\\model_3.h5\n",
      "876/876 [==============================] - 140s 160ms/step - loss: 0.0202 - val_loss: 0.0190 - lr: 0.0010\n",
      "Epoch 12/150\n",
      "876/876 [==============================] - ETA: 0s - loss: 0.0195\n",
      "Epoch 12: val_loss improved from 0.01898 to 0.01840, saving model to h5_models/energy\\model_3.h5\n",
      "876/876 [==============================] - 163s 186ms/step - loss: 0.0195 - val_loss: 0.0184 - lr: 0.0010\n",
      "Epoch 13/150\n",
      "876/876 [==============================] - ETA: 0s - loss: 0.0195\n",
      "Epoch 13: val_loss did not improve from 0.01840\n",
      "876/876 [==============================] - 141s 161ms/step - loss: 0.0195 - val_loss: 0.0199 - lr: 0.0010\n",
      "Epoch 14/150\n",
      "876/876 [==============================] - ETA: 0s - loss: 0.0190\n",
      "Epoch 14: val_loss did not improve from 0.01840\n",
      "876/876 [==============================] - 183s 210ms/step - loss: 0.0190 - val_loss: 0.0196 - lr: 0.0010\n",
      "Epoch 15/150\n",
      "876/876 [==============================] - ETA: 0s - loss: 0.0190\n",
      "Epoch 15: val_loss improved from 0.01840 to 0.01795, saving model to h5_models/energy\\model_3.h5\n",
      "876/876 [==============================] - 168s 192ms/step - loss: 0.0190 - val_loss: 0.0179 - lr: 0.0010\n",
      "Epoch 16/150\n",
      "876/876 [==============================] - ETA: 0s - loss: 0.0186\n",
      "Epoch 16: val_loss did not improve from 0.01795\n",
      "876/876 [==============================] - 165s 188ms/step - loss: 0.0186 - val_loss: 0.0184 - lr: 0.0010\n",
      "Epoch 17/150\n",
      "876/876 [==============================] - ETA: 0s - loss: 0.0185\n",
      "Epoch 17: val_loss did not improve from 0.01795\n",
      "876/876 [==============================] - 175s 200ms/step - loss: 0.0185 - val_loss: 0.0180 - lr: 0.0010\n",
      "Epoch 18/150\n",
      "876/876 [==============================] - ETA: 0s - loss: 0.0183\n",
      "Epoch 18: val_loss did not improve from 0.01795\n",
      "\n",
      "Epoch 18: ReduceLROnPlateau reducing learning rate to 0.00010000000474974513.\n",
      "876/876 [==============================] - 163s 186ms/step - loss: 0.0183 - val_loss: 0.0184 - lr: 0.0010\n",
      "Epoch 19/150\n",
      "876/876 [==============================] - ETA: 0s - loss: 0.0173\n",
      "Epoch 19: val_loss improved from 0.01795 to 0.01661, saving model to h5_models/energy\\model_3.h5\n",
      "876/876 [==============================] - 144s 165ms/step - loss: 0.0173 - val_loss: 0.0166 - lr: 1.0000e-04\n",
      "Epoch 20/150\n",
      "876/876 [==============================] - ETA: 0s - loss: 0.0171\n",
      "Epoch 20: val_loss improved from 0.01661 to 0.01652, saving model to h5_models/energy\\model_3.h5\n",
      "876/876 [==============================] - 160s 183ms/step - loss: 0.0171 - val_loss: 0.0165 - lr: 1.0000e-04\n",
      "Epoch 21/150\n",
      "876/876 [==============================] - ETA: 0s - loss: 0.0170\n",
      "Epoch 21: val_loss improved from 0.01652 to 0.01649, saving model to h5_models/energy\\model_3.h5\n",
      "876/876 [==============================] - 145s 165ms/step - loss: 0.0170 - val_loss: 0.0165 - lr: 1.0000e-04\n",
      "Epoch 22/150\n",
      "876/876 [==============================] - ETA: 0s - loss: 0.0170\n",
      "Epoch 22: val_loss improved from 0.01649 to 0.01640, saving model to h5_models/energy\\model_3.h5\n",
      "876/876 [==============================] - 161s 184ms/step - loss: 0.0170 - val_loss: 0.0164 - lr: 1.0000e-04\n",
      "Epoch 23/150\n",
      "876/876 [==============================] - ETA: 0s - loss: 0.0170\n",
      "Epoch 23: val_loss did not improve from 0.01640\n",
      "876/876 [==============================] - 170s 194ms/step - loss: 0.0170 - val_loss: 0.0164 - lr: 1.0000e-04\n",
      "Epoch 24/150\n",
      "876/876 [==============================] - ETA: 0s - loss: 0.0169\n",
      "Epoch 24: val_loss did not improve from 0.01640\n",
      "\n",
      "Epoch 24: ReduceLROnPlateau reducing learning rate to 1.0000000474974514e-05.\n",
      "876/876 [==============================] - 143s 163ms/step - loss: 0.0169 - val_loss: 0.0164 - lr: 1.0000e-04\n",
      "Epoch 25/150\n",
      "876/876 [==============================] - ETA: 0s - loss: 0.0167\n",
      "Epoch 25: val_loss improved from 0.01640 to 0.01622, saving model to h5_models/energy\\model_3.h5\n",
      "876/876 [==============================] - 139s 158ms/step - loss: 0.0167 - val_loss: 0.0162 - lr: 1.0000e-05\n",
      "Epoch 26/150\n",
      "876/876 [==============================] - ETA: 0s - loss: 0.0167\n",
      "Epoch 26: val_loss improved from 0.01622 to 0.01620, saving model to h5_models/energy\\model_3.h5\n",
      "876/876 [==============================] - 143s 164ms/step - loss: 0.0167 - val_loss: 0.0162 - lr: 1.0000e-05\n",
      "Epoch 27/150\n",
      "876/876 [==============================] - ETA: 0s - loss: 0.0167\n",
      "Epoch 27: val_loss improved from 0.01620 to 0.01620, saving model to h5_models/energy\\model_3.h5\n",
      "876/876 [==============================] - 139s 158ms/step - loss: 0.0167 - val_loss: 0.0162 - lr: 1.0000e-05\n",
      "Epoch 28/150\n",
      "876/876 [==============================] - ETA: 0s - loss: 0.0167\n",
      "Epoch 28: val_loss improved from 0.01620 to 0.01619, saving model to h5_models/energy\\model_3.h5\n",
      "\n",
      "Epoch 28: ReduceLROnPlateau reducing learning rate to 1.0000000656873453e-06.\n",
      "876/876 [==============================] - 148s 169ms/step - loss: 0.0167 - val_loss: 0.0162 - lr: 1.0000e-05\n",
      "Epoch 29/150\n",
      "876/876 [==============================] - ETA: 0s - loss: 0.0166\n",
      "Epoch 29: val_loss improved from 0.01619 to 0.01619, saving model to h5_models/energy\\model_3.h5\n",
      "876/876 [==============================] - 167s 190ms/step - loss: 0.0166 - val_loss: 0.0162 - lr: 1.0000e-06\n",
      "Epoch 30/150\n",
      "876/876 [==============================] - ETA: 0s - loss: 0.0166\n",
      "Epoch 30: val_loss improved from 0.01619 to 0.01619, saving model to h5_models/energy\\model_3.h5\n",
      "876/876 [==============================] - 161s 184ms/step - loss: 0.0166 - val_loss: 0.0162 - lr: 1.0000e-06\n",
      "Epoch 31/150\n",
      "876/876 [==============================] - ETA: 0s - loss: 0.0166\n",
      "Epoch 31: val_loss improved from 0.01619 to 0.01619, saving model to h5_models/energy\\model_3.h5\n",
      "\n",
      "Epoch 31: ReduceLROnPlateau reducing learning rate to 1.0000001111620805e-07.\n",
      "876/876 [==============================] - 206s 235ms/step - loss: 0.0166 - val_loss: 0.0162 - lr: 1.0000e-06\n",
      "Epoch 32/150\n",
      "876/876 [==============================] - ETA: 0s - loss: 0.0166\n",
      "Epoch 32: val_loss improved from 0.01619 to 0.01619, saving model to h5_models/energy\\model_3.h5\n",
      "876/876 [==============================] - 154s 175ms/step - loss: 0.0166 - val_loss: 0.0162 - lr: 1.0000e-07\n",
      "Epoch 33/150\n",
      " 16/876 [..............................] - ETA: 2:21 - loss: 0.0171"
     ]
    },
    {
     "ename": "KeyboardInterrupt",
     "evalue": "",
     "output_type": "error",
     "traceback": [
      "\u001b[1;31m---------------------------------------------------------------------------\u001b[0m",
      "\u001b[1;31mKeyboardInterrupt\u001b[0m                         Traceback (most recent call last)",
      "Cell \u001b[1;32mIn[381], line 14\u001b[0m\n\u001b[0;32m      9\u001b[0m model_3 \u001b[38;5;241m=\u001b[39m tf\u001b[38;5;241m.\u001b[39mkeras\u001b[38;5;241m.\u001b[39mModel(inputs, outputs, name\u001b[38;5;241m=\u001b[39m\u001b[38;5;124m\"\u001b[39m\u001b[38;5;124mmodel_3\u001b[39m\u001b[38;5;124m\"\u001b[39m)\n\u001b[0;32m     11\u001b[0m model_3\u001b[38;5;241m.\u001b[39mcompile(loss\u001b[38;5;241m=\u001b[39m\u001b[38;5;124m\"\u001b[39m\u001b[38;5;124mmae\u001b[39m\u001b[38;5;124m\"\u001b[39m,\n\u001b[0;32m     12\u001b[0m                 optimizer\u001b[38;5;241m=\u001b[39mtf\u001b[38;5;241m.\u001b[39mkeras\u001b[38;5;241m.\u001b[39moptimizers\u001b[38;5;241m.\u001b[39mAdam(learning_rate\u001b[38;5;241m=\u001b[39m\u001b[38;5;241m0.001\u001b[39m))\n\u001b[1;32m---> 14\u001b[0m model_3_history \u001b[38;5;241m=\u001b[39m \u001b[43mmodel_3\u001b[49m\u001b[38;5;241;43m.\u001b[39;49m\u001b[43mfit\u001b[49m\u001b[43m(\u001b[49m\u001b[43mtrain_dataset\u001b[49m\u001b[43m,\u001b[49m\n\u001b[0;32m     15\u001b[0m \u001b[43m                              \u001b[49m\u001b[43mvalidation_data\u001b[49m\u001b[38;5;241;43m=\u001b[39;49m\u001b[43mval_dataset\u001b[49m\u001b[43m,\u001b[49m\n\u001b[0;32m     16\u001b[0m \u001b[43m                              \u001b[49m\u001b[43mepochs\u001b[49m\u001b[38;5;241;43m=\u001b[39;49m\u001b[38;5;241;43m150\u001b[39;49m\u001b[43m,\u001b[49m\n\u001b[0;32m     17\u001b[0m \u001b[43m                              \u001b[49m\u001b[43mcallbacks\u001b[49m\u001b[38;5;241;43m=\u001b[39;49m\u001b[43m[\u001b[49m\u001b[43mtensorboard_cb\u001b[49m\u001b[43m(\u001b[49m\u001b[38;5;124;43m\"\u001b[39;49m\u001b[38;5;124;43mmodel_logs/energy/\u001b[39;49m\u001b[38;5;124;43m\"\u001b[39;49m\u001b[43m,\u001b[49m\u001b[43m \u001b[49m\u001b[43mmodel_3\u001b[49m\u001b[38;5;241;43m.\u001b[39;49m\u001b[43mname\u001b[49m\u001b[43m)\u001b[49m\u001b[43m,\u001b[49m\n\u001b[0;32m     18\u001b[0m \u001b[43m                                         \u001b[49m\u001b[43mcheckpoint_cb\u001b[49m\u001b[43m(\u001b[49m\u001b[38;5;124;43m\"\u001b[39;49m\u001b[38;5;124;43mh5_models/energy/\u001b[39;49m\u001b[38;5;124;43m\"\u001b[39;49m\u001b[43m,\u001b[49m\u001b[43m \u001b[49m\u001b[43mmodel_3\u001b[49m\u001b[38;5;241;43m.\u001b[39;49m\u001b[43mname\u001b[49m\u001b[43m,\u001b[49m\u001b[43m \u001b[49m\u001b[43msave_format\u001b[49m\u001b[38;5;241;43m=\u001b[39;49m\u001b[38;5;124;43m\"\u001b[39;49m\u001b[38;5;124;43m.h5\u001b[39;49m\u001b[38;5;124;43m\"\u001b[39;49m\u001b[43m)\u001b[49m\u001b[43m,\u001b[49m\n\u001b[0;32m     19\u001b[0m \u001b[43m                                         \u001b[49m\u001b[43mearly_stopping_cb\u001b[49m\u001b[43m(\u001b[49m\u001b[43mpatience\u001b[49m\u001b[38;5;241;43m=\u001b[39;49m\u001b[38;5;241;43m5\u001b[39;49m\u001b[43m)\u001b[49m\u001b[43m,\u001b[49m\n\u001b[0;32m     20\u001b[0m \u001b[43m                                         \u001b[49m\u001b[43mreduce_lr_cb\u001b[49m\u001b[43m(\u001b[49m\u001b[43mpatience\u001b[49m\u001b[38;5;241;43m=\u001b[39;49m\u001b[38;5;241;43m3\u001b[39;49m\u001b[43m,\u001b[49m\u001b[43m \u001b[49m\u001b[43mfactor\u001b[49m\u001b[38;5;241;43m=\u001b[39;49m\u001b[38;5;241;43m0.1\u001b[39;49m\u001b[43m)\u001b[49m\u001b[43m]\u001b[49m\u001b[43m)\u001b[49m\n",
      "File \u001b[1;32m~\\anaconda3\\envs\\mldl\\lib\\site-packages\\keras\\utils\\traceback_utils.py:64\u001b[0m, in \u001b[0;36mfilter_traceback.<locals>.error_handler\u001b[1;34m(*args, **kwargs)\u001b[0m\n\u001b[0;32m     62\u001b[0m filtered_tb \u001b[38;5;241m=\u001b[39m \u001b[38;5;28;01mNone\u001b[39;00m\n\u001b[0;32m     63\u001b[0m \u001b[38;5;28;01mtry\u001b[39;00m:\n\u001b[1;32m---> 64\u001b[0m   \u001b[38;5;28;01mreturn\u001b[39;00m fn(\u001b[38;5;241m*\u001b[39margs, \u001b[38;5;241m*\u001b[39m\u001b[38;5;241m*\u001b[39mkwargs)\n\u001b[0;32m     65\u001b[0m \u001b[38;5;28;01mexcept\u001b[39;00m \u001b[38;5;167;01mException\u001b[39;00m \u001b[38;5;28;01mas\u001b[39;00m e:  \u001b[38;5;66;03m# pylint: disable=broad-except\u001b[39;00m\n\u001b[0;32m     66\u001b[0m   filtered_tb \u001b[38;5;241m=\u001b[39m _process_traceback_frames(e\u001b[38;5;241m.\u001b[39m__traceback__)\n",
      "File \u001b[1;32m~\\anaconda3\\envs\\mldl\\lib\\site-packages\\keras\\engine\\training.py:1384\u001b[0m, in \u001b[0;36mModel.fit\u001b[1;34m(self, x, y, batch_size, epochs, verbose, callbacks, validation_split, validation_data, shuffle, class_weight, sample_weight, initial_epoch, steps_per_epoch, validation_steps, validation_batch_size, validation_freq, max_queue_size, workers, use_multiprocessing)\u001b[0m\n\u001b[0;32m   1377\u001b[0m \u001b[38;5;28;01mwith\u001b[39;00m tf\u001b[38;5;241m.\u001b[39mprofiler\u001b[38;5;241m.\u001b[39mexperimental\u001b[38;5;241m.\u001b[39mTrace(\n\u001b[0;32m   1378\u001b[0m     \u001b[38;5;124m'\u001b[39m\u001b[38;5;124mtrain\u001b[39m\u001b[38;5;124m'\u001b[39m,\n\u001b[0;32m   1379\u001b[0m     epoch_num\u001b[38;5;241m=\u001b[39mepoch,\n\u001b[0;32m   1380\u001b[0m     step_num\u001b[38;5;241m=\u001b[39mstep,\n\u001b[0;32m   1381\u001b[0m     batch_size\u001b[38;5;241m=\u001b[39mbatch_size,\n\u001b[0;32m   1382\u001b[0m     _r\u001b[38;5;241m=\u001b[39m\u001b[38;5;241m1\u001b[39m):\n\u001b[0;32m   1383\u001b[0m   callbacks\u001b[38;5;241m.\u001b[39mon_train_batch_begin(step)\n\u001b[1;32m-> 1384\u001b[0m   tmp_logs \u001b[38;5;241m=\u001b[39m \u001b[38;5;28;43mself\u001b[39;49m\u001b[38;5;241;43m.\u001b[39;49m\u001b[43mtrain_function\u001b[49m\u001b[43m(\u001b[49m\u001b[43miterator\u001b[49m\u001b[43m)\u001b[49m\n\u001b[0;32m   1385\u001b[0m   \u001b[38;5;28;01mif\u001b[39;00m data_handler\u001b[38;5;241m.\u001b[39mshould_sync:\n\u001b[0;32m   1386\u001b[0m     context\u001b[38;5;241m.\u001b[39masync_wait()\n",
      "File \u001b[1;32m~\\anaconda3\\envs\\mldl\\lib\\site-packages\\tensorflow\\python\\util\\traceback_utils.py:150\u001b[0m, in \u001b[0;36mfilter_traceback.<locals>.error_handler\u001b[1;34m(*args, **kwargs)\u001b[0m\n\u001b[0;32m    148\u001b[0m filtered_tb \u001b[38;5;241m=\u001b[39m \u001b[38;5;28;01mNone\u001b[39;00m\n\u001b[0;32m    149\u001b[0m \u001b[38;5;28;01mtry\u001b[39;00m:\n\u001b[1;32m--> 150\u001b[0m   \u001b[38;5;28;01mreturn\u001b[39;00m fn(\u001b[38;5;241m*\u001b[39margs, \u001b[38;5;241m*\u001b[39m\u001b[38;5;241m*\u001b[39mkwargs)\n\u001b[0;32m    151\u001b[0m \u001b[38;5;28;01mexcept\u001b[39;00m \u001b[38;5;167;01mException\u001b[39;00m \u001b[38;5;28;01mas\u001b[39;00m e:\n\u001b[0;32m    152\u001b[0m   filtered_tb \u001b[38;5;241m=\u001b[39m _process_traceback_frames(e\u001b[38;5;241m.\u001b[39m__traceback__)\n",
      "File \u001b[1;32m~\\anaconda3\\envs\\mldl\\lib\\site-packages\\tensorflow\\python\\eager\\def_function.py:915\u001b[0m, in \u001b[0;36mFunction.__call__\u001b[1;34m(self, *args, **kwds)\u001b[0m\n\u001b[0;32m    912\u001b[0m compiler \u001b[38;5;241m=\u001b[39m \u001b[38;5;124m\"\u001b[39m\u001b[38;5;124mxla\u001b[39m\u001b[38;5;124m\"\u001b[39m \u001b[38;5;28;01mif\u001b[39;00m \u001b[38;5;28mself\u001b[39m\u001b[38;5;241m.\u001b[39m_jit_compile \u001b[38;5;28;01melse\u001b[39;00m \u001b[38;5;124m\"\u001b[39m\u001b[38;5;124mnonXla\u001b[39m\u001b[38;5;124m\"\u001b[39m\n\u001b[0;32m    914\u001b[0m \u001b[38;5;28;01mwith\u001b[39;00m OptionalXlaContext(\u001b[38;5;28mself\u001b[39m\u001b[38;5;241m.\u001b[39m_jit_compile):\n\u001b[1;32m--> 915\u001b[0m   result \u001b[38;5;241m=\u001b[39m \u001b[38;5;28mself\u001b[39m\u001b[38;5;241m.\u001b[39m_call(\u001b[38;5;241m*\u001b[39margs, \u001b[38;5;241m*\u001b[39m\u001b[38;5;241m*\u001b[39mkwds)\n\u001b[0;32m    917\u001b[0m new_tracing_count \u001b[38;5;241m=\u001b[39m \u001b[38;5;28mself\u001b[39m\u001b[38;5;241m.\u001b[39mexperimental_get_tracing_count()\n\u001b[0;32m    918\u001b[0m without_tracing \u001b[38;5;241m=\u001b[39m (tracing_count \u001b[38;5;241m==\u001b[39m new_tracing_count)\n",
      "File \u001b[1;32m~\\anaconda3\\envs\\mldl\\lib\\site-packages\\tensorflow\\python\\eager\\def_function.py:947\u001b[0m, in \u001b[0;36mFunction._call\u001b[1;34m(self, *args, **kwds)\u001b[0m\n\u001b[0;32m    944\u001b[0m   \u001b[38;5;28mself\u001b[39m\u001b[38;5;241m.\u001b[39m_lock\u001b[38;5;241m.\u001b[39mrelease()\n\u001b[0;32m    945\u001b[0m   \u001b[38;5;66;03m# In this case we have created variables on the first call, so we run the\u001b[39;00m\n\u001b[0;32m    946\u001b[0m   \u001b[38;5;66;03m# defunned version which is guaranteed to never create variables.\u001b[39;00m\n\u001b[1;32m--> 947\u001b[0m   \u001b[38;5;28;01mreturn\u001b[39;00m \u001b[38;5;28mself\u001b[39m\u001b[38;5;241m.\u001b[39m_stateless_fn(\u001b[38;5;241m*\u001b[39margs, \u001b[38;5;241m*\u001b[39m\u001b[38;5;241m*\u001b[39mkwds)  \u001b[38;5;66;03m# pylint: disable=not-callable\u001b[39;00m\n\u001b[0;32m    948\u001b[0m \u001b[38;5;28;01melif\u001b[39;00m \u001b[38;5;28mself\u001b[39m\u001b[38;5;241m.\u001b[39m_stateful_fn \u001b[38;5;129;01mis\u001b[39;00m \u001b[38;5;129;01mnot\u001b[39;00m \u001b[38;5;28;01mNone\u001b[39;00m:\n\u001b[0;32m    949\u001b[0m   \u001b[38;5;66;03m# Release the lock early so that multiple threads can perform the call\u001b[39;00m\n\u001b[0;32m    950\u001b[0m   \u001b[38;5;66;03m# in parallel.\u001b[39;00m\n\u001b[0;32m    951\u001b[0m   \u001b[38;5;28mself\u001b[39m\u001b[38;5;241m.\u001b[39m_lock\u001b[38;5;241m.\u001b[39mrelease()\n",
      "File \u001b[1;32m~\\anaconda3\\envs\\mldl\\lib\\site-packages\\tensorflow\\python\\eager\\function.py:2956\u001b[0m, in \u001b[0;36mFunction.__call__\u001b[1;34m(self, *args, **kwargs)\u001b[0m\n\u001b[0;32m   2953\u001b[0m \u001b[38;5;28;01mwith\u001b[39;00m \u001b[38;5;28mself\u001b[39m\u001b[38;5;241m.\u001b[39m_lock:\n\u001b[0;32m   2954\u001b[0m   (graph_function,\n\u001b[0;32m   2955\u001b[0m    filtered_flat_args) \u001b[38;5;241m=\u001b[39m \u001b[38;5;28mself\u001b[39m\u001b[38;5;241m.\u001b[39m_maybe_define_function(args, kwargs)\n\u001b[1;32m-> 2956\u001b[0m \u001b[38;5;28;01mreturn\u001b[39;00m \u001b[43mgraph_function\u001b[49m\u001b[38;5;241;43m.\u001b[39;49m\u001b[43m_call_flat\u001b[49m\u001b[43m(\u001b[49m\n\u001b[0;32m   2957\u001b[0m \u001b[43m    \u001b[49m\u001b[43mfiltered_flat_args\u001b[49m\u001b[43m,\u001b[49m\u001b[43m \u001b[49m\u001b[43mcaptured_inputs\u001b[49m\u001b[38;5;241;43m=\u001b[39;49m\u001b[43mgraph_function\u001b[49m\u001b[38;5;241;43m.\u001b[39;49m\u001b[43mcaptured_inputs\u001b[49m\u001b[43m)\u001b[49m\n",
      "File \u001b[1;32m~\\anaconda3\\envs\\mldl\\lib\\site-packages\\tensorflow\\python\\eager\\function.py:1853\u001b[0m, in \u001b[0;36mConcreteFunction._call_flat\u001b[1;34m(self, args, captured_inputs, cancellation_manager)\u001b[0m\n\u001b[0;32m   1849\u001b[0m possible_gradient_type \u001b[38;5;241m=\u001b[39m gradients_util\u001b[38;5;241m.\u001b[39mPossibleTapeGradientTypes(args)\n\u001b[0;32m   1850\u001b[0m \u001b[38;5;28;01mif\u001b[39;00m (possible_gradient_type \u001b[38;5;241m==\u001b[39m gradients_util\u001b[38;5;241m.\u001b[39mPOSSIBLE_GRADIENT_TYPES_NONE\n\u001b[0;32m   1851\u001b[0m     \u001b[38;5;129;01mand\u001b[39;00m executing_eagerly):\n\u001b[0;32m   1852\u001b[0m   \u001b[38;5;66;03m# No tape is watching; skip to running the function.\u001b[39;00m\n\u001b[1;32m-> 1853\u001b[0m   \u001b[38;5;28;01mreturn\u001b[39;00m \u001b[38;5;28mself\u001b[39m\u001b[38;5;241m.\u001b[39m_build_call_outputs(\u001b[38;5;28;43mself\u001b[39;49m\u001b[38;5;241;43m.\u001b[39;49m\u001b[43m_inference_function\u001b[49m\u001b[38;5;241;43m.\u001b[39;49m\u001b[43mcall\u001b[49m\u001b[43m(\u001b[49m\n\u001b[0;32m   1854\u001b[0m \u001b[43m      \u001b[49m\u001b[43mctx\u001b[49m\u001b[43m,\u001b[49m\u001b[43m \u001b[49m\u001b[43margs\u001b[49m\u001b[43m,\u001b[49m\u001b[43m \u001b[49m\u001b[43mcancellation_manager\u001b[49m\u001b[38;5;241;43m=\u001b[39;49m\u001b[43mcancellation_manager\u001b[49m\u001b[43m)\u001b[49m)\n\u001b[0;32m   1855\u001b[0m forward_backward \u001b[38;5;241m=\u001b[39m \u001b[38;5;28mself\u001b[39m\u001b[38;5;241m.\u001b[39m_select_forward_and_backward_functions(\n\u001b[0;32m   1856\u001b[0m     args,\n\u001b[0;32m   1857\u001b[0m     possible_gradient_type,\n\u001b[0;32m   1858\u001b[0m     executing_eagerly)\n\u001b[0;32m   1859\u001b[0m forward_function, args_with_tangents \u001b[38;5;241m=\u001b[39m forward_backward\u001b[38;5;241m.\u001b[39mforward()\n",
      "File \u001b[1;32m~\\anaconda3\\envs\\mldl\\lib\\site-packages\\tensorflow\\python\\eager\\function.py:499\u001b[0m, in \u001b[0;36m_EagerDefinedFunction.call\u001b[1;34m(self, ctx, args, cancellation_manager)\u001b[0m\n\u001b[0;32m    497\u001b[0m \u001b[38;5;28;01mwith\u001b[39;00m _InterpolateFunctionError(\u001b[38;5;28mself\u001b[39m):\n\u001b[0;32m    498\u001b[0m   \u001b[38;5;28;01mif\u001b[39;00m cancellation_manager \u001b[38;5;129;01mis\u001b[39;00m \u001b[38;5;28;01mNone\u001b[39;00m:\n\u001b[1;32m--> 499\u001b[0m     outputs \u001b[38;5;241m=\u001b[39m \u001b[43mexecute\u001b[49m\u001b[38;5;241;43m.\u001b[39;49m\u001b[43mexecute\u001b[49m\u001b[43m(\u001b[49m\n\u001b[0;32m    500\u001b[0m \u001b[43m        \u001b[49m\u001b[38;5;28;43mstr\u001b[39;49m\u001b[43m(\u001b[49m\u001b[38;5;28;43mself\u001b[39;49m\u001b[38;5;241;43m.\u001b[39;49m\u001b[43msignature\u001b[49m\u001b[38;5;241;43m.\u001b[39;49m\u001b[43mname\u001b[49m\u001b[43m)\u001b[49m\u001b[43m,\u001b[49m\n\u001b[0;32m    501\u001b[0m \u001b[43m        \u001b[49m\u001b[43mnum_outputs\u001b[49m\u001b[38;5;241;43m=\u001b[39;49m\u001b[38;5;28;43mself\u001b[39;49m\u001b[38;5;241;43m.\u001b[39;49m\u001b[43m_num_outputs\u001b[49m\u001b[43m,\u001b[49m\n\u001b[0;32m    502\u001b[0m \u001b[43m        \u001b[49m\u001b[43minputs\u001b[49m\u001b[38;5;241;43m=\u001b[39;49m\u001b[43margs\u001b[49m\u001b[43m,\u001b[49m\n\u001b[0;32m    503\u001b[0m \u001b[43m        \u001b[49m\u001b[43mattrs\u001b[49m\u001b[38;5;241;43m=\u001b[39;49m\u001b[43mattrs\u001b[49m\u001b[43m,\u001b[49m\n\u001b[0;32m    504\u001b[0m \u001b[43m        \u001b[49m\u001b[43mctx\u001b[49m\u001b[38;5;241;43m=\u001b[39;49m\u001b[43mctx\u001b[49m\u001b[43m)\u001b[49m\n\u001b[0;32m    505\u001b[0m   \u001b[38;5;28;01melse\u001b[39;00m:\n\u001b[0;32m    506\u001b[0m     outputs \u001b[38;5;241m=\u001b[39m execute\u001b[38;5;241m.\u001b[39mexecute_with_cancellation(\n\u001b[0;32m    507\u001b[0m         \u001b[38;5;28mstr\u001b[39m(\u001b[38;5;28mself\u001b[39m\u001b[38;5;241m.\u001b[39msignature\u001b[38;5;241m.\u001b[39mname),\n\u001b[0;32m    508\u001b[0m         num_outputs\u001b[38;5;241m=\u001b[39m\u001b[38;5;28mself\u001b[39m\u001b[38;5;241m.\u001b[39m_num_outputs,\n\u001b[1;32m   (...)\u001b[0m\n\u001b[0;32m    511\u001b[0m         ctx\u001b[38;5;241m=\u001b[39mctx,\n\u001b[0;32m    512\u001b[0m         cancellation_manager\u001b[38;5;241m=\u001b[39mcancellation_manager)\n",
      "File \u001b[1;32m~\\anaconda3\\envs\\mldl\\lib\\site-packages\\tensorflow\\python\\eager\\execute.py:54\u001b[0m, in \u001b[0;36mquick_execute\u001b[1;34m(op_name, num_outputs, inputs, attrs, ctx, name)\u001b[0m\n\u001b[0;32m     52\u001b[0m \u001b[38;5;28;01mtry\u001b[39;00m:\n\u001b[0;32m     53\u001b[0m   ctx\u001b[38;5;241m.\u001b[39mensure_initialized()\n\u001b[1;32m---> 54\u001b[0m   tensors \u001b[38;5;241m=\u001b[39m \u001b[43mpywrap_tfe\u001b[49m\u001b[38;5;241;43m.\u001b[39;49m\u001b[43mTFE_Py_Execute\u001b[49m\u001b[43m(\u001b[49m\u001b[43mctx\u001b[49m\u001b[38;5;241;43m.\u001b[39;49m\u001b[43m_handle\u001b[49m\u001b[43m,\u001b[49m\u001b[43m \u001b[49m\u001b[43mdevice_name\u001b[49m\u001b[43m,\u001b[49m\u001b[43m \u001b[49m\u001b[43mop_name\u001b[49m\u001b[43m,\u001b[49m\n\u001b[0;32m     55\u001b[0m \u001b[43m                                      \u001b[49m\u001b[43minputs\u001b[49m\u001b[43m,\u001b[49m\u001b[43m \u001b[49m\u001b[43mattrs\u001b[49m\u001b[43m,\u001b[49m\u001b[43m \u001b[49m\u001b[43mnum_outputs\u001b[49m\u001b[43m)\u001b[49m\n\u001b[0;32m     56\u001b[0m \u001b[38;5;28;01mexcept\u001b[39;00m core\u001b[38;5;241m.\u001b[39m_NotOkStatusException \u001b[38;5;28;01mas\u001b[39;00m e:\n\u001b[0;32m     57\u001b[0m   \u001b[38;5;28;01mif\u001b[39;00m name \u001b[38;5;129;01mis\u001b[39;00m \u001b[38;5;129;01mnot\u001b[39;00m \u001b[38;5;28;01mNone\u001b[39;00m:\n",
      "\u001b[1;31mKeyboardInterrupt\u001b[0m: "
     ]
    }
   ],
   "source": [
    "tf.keras.backend.clear_session()\n",
    "\n",
    "inputs = layers.Input(shape=(train_num_timesteps, train_num_features), dtype=tf.float32)\n",
    "x = layers.Conv1D(16, 3, activation=\"relu\", padding=\"causal\")(inputs)\n",
    "x = layers.Bidirectional(layers.LSTM(16, activation=\"relu\"))(x)\n",
    "x = layers.Dense(16)(x)\n",
    "outputs = layers.Dense(HORIZON)(x)\n",
    "\n",
    "model_3 = tf.keras.Model(inputs, outputs, name=\"model_3\")\n",
    "\n",
    "model_3.compile(loss=\"mae\",\n",
    "                optimizer=tf.keras.optimizers.Adam(learning_rate=0.001))\n",
    "\n",
    "model_3_history = model_3.fit(train_dataset,\n",
    "                              validation_data=val_dataset,\n",
    "                              epochs=150,\n",
    "                              callbacks=[tensorboard_cb(\"model_logs/energy/\", model_3.name),\n",
    "                                         checkpoint_cb(\"h5_models/energy/\", model_3.name, save_format=\".h5\"),\n",
    "                                         early_stopping_cb(patience=5),\n",
    "                                         reduce_lr_cb(patience=3, factor=0.1)])"
   ]
  },
  {
   "cell_type": "code",
   "execution_count": 382,
   "id": "89cc41ff-1f2d-4189-80a4-3006c59706c5",
   "metadata": {},
   "outputs": [
    {
     "name": "stdout",
     "output_type": "stream",
     "text": [
      "WARNING:tensorflow:Layer lstm will not use cuDNN kernels since it doesn't meet the criteria. It will use a generic GPU kernel as fallback when running on GPU.\n",
      "WARNING:tensorflow:Layer lstm will not use cuDNN kernels since it doesn't meet the criteria. It will use a generic GPU kernel as fallback when running on GPU.\n",
      "WARNING:tensorflow:Layer lstm will not use cuDNN kernels since it doesn't meet the criteria. It will use a generic GPU kernel as fallback when running on GPU.\n"
     ]
    },
    {
     "data": {
      "text/plain": [
       "{'MAE': 371.90076,\n",
       " 'MSE': 345130.94,\n",
       " 'RMSE': 587.47845,\n",
       " 'MAPE': 1.2999387457966805,\n",
       " 'R2': 0.983095271639994}"
      ]
     },
     "execution_count": 382,
     "metadata": {},
     "output_type": "execute_result"
    }
   ],
   "source": [
    "model_3_loaded  = tf.keras.models.load_model(\"h5_models/energy/model_3.h5\")\n",
    "model_3_preds = model_3_loaded.predict(val_dataset)\n",
    "model_3_results = evaluate_ts_rg_model(y_val_unscaled, tf.squeeze(scalar_y.inverse_transform(model_3_preds)))\n",
    "model_3_results"
   ]
  },
  {
   "cell_type": "code",
   "execution_count": 384,
   "id": "f9da0a4e-bdae-4b00-8872-9edbd18f9b16",
   "metadata": {},
   "outputs": [
    {
     "name": "stdout",
     "output_type": "stream",
     "text": [
      "876/876 [==============================] - 16s 18ms/step - loss: 0.0166\n",
      "219/219 [==============================] - 4s 17ms/step - loss: 0.0162\n"
     ]
    },
    {
     "data": {
      "text/plain": [
       "(0.016639500856399536, 0.016187895089387894)"
      ]
     },
     "execution_count": 384,
     "metadata": {},
     "output_type": "execute_result"
    }
   ],
   "source": [
    "model_3_loaded.evaluate(train_dataset), model_3_loaded.evaluate(val_dataset)"
   ]
  },
  {
   "cell_type": "code",
   "execution_count": 387,
   "id": "d9cd179c-e315-421a-8fce-05dcc7c4923b",
   "metadata": {},
   "outputs": [
    {
     "name": "stdout",
     "output_type": "stream",
     "text": [
      "Model: \"model_3\"\n",
      "_________________________________________________________________\n",
      " Layer (type)                Output Shape              Param #   \n",
      "=================================================================\n",
      " input_1 (InputLayer)        [(None, 24, 2)]           0         \n",
      "                                                                 \n",
      " conv1d (Conv1D)             (None, 24, 16)            112       \n",
      "                                                                 \n",
      " bidirectional (Bidirectiona  (None, 32)               4224      \n",
      " l)                                                              \n",
      "                                                                 \n",
      " dense (Dense)               (None, 16)                528       \n",
      "                                                                 \n",
      " dense_1 (Dense)             (None, 1)                 17        \n",
      "                                                                 \n",
      "=================================================================\n",
      "Total params: 4,881\n",
      "Trainable params: 4,881\n",
      "Non-trainable params: 0\n",
      "_________________________________________________________________\n"
     ]
    }
   ],
   "source": [
    "model_3_loaded.summary()"
   ]
  },
  {
   "cell_type": "code",
   "execution_count": 53,
   "id": "7ae139d2-8bb1-4e64-9f46-c7a3e9fbc39d",
   "metadata": {
    "scrolled": true
   },
   "outputs": [
    {
     "name": "stdout",
     "output_type": "stream",
     "text": [
      "WARNING:tensorflow:Layer lstm will not use cuDNN kernels since it doesn't meet the criteria. It will use a generic GPU kernel as fallback when running on GPU.\n",
      "WARNING:tensorflow:Layer lstm_1 will not use cuDNN kernels since it doesn't meet the criteria. It will use a generic GPU kernel as fallback when running on GPU.\n",
      "Epoch 1/150\n",
      "876/876 [==============================] - ETA: 0s - loss: 0.0864\n",
      "Epoch 1: val_loss improved from inf to 0.03055, saving model to h5_models/energy\\model_4.h5\n",
      "876/876 [==============================] - 135s 151ms/step - loss: 0.0864 - val_loss: 0.0306 - lr: 0.0050\n",
      "Epoch 2/150\n",
      "876/876 [==============================] - ETA: 0s - loss: 0.0501\n",
      "Epoch 2: val_loss did not improve from 0.03055\n",
      "876/876 [==============================] - 139s 158ms/step - loss: 0.0501 - val_loss: 0.0358 - lr: 0.0050\n",
      "Epoch 3/150\n",
      "876/876 [==============================] - ETA: 0s - loss: 0.0468\n",
      "Epoch 3: val_loss did not improve from 0.03055\n",
      "876/876 [==============================] - 159s 182ms/step - loss: 0.0468 - val_loss: 0.0410 - lr: 0.0050\n",
      "Epoch 4/150\n",
      "876/876 [==============================] - ETA: 0s - loss: 0.0449\n",
      "Epoch 4: val_loss improved from 0.03055 to 0.02906, saving model to h5_models/energy\\model_4.h5\n",
      "876/876 [==============================] - 141s 162ms/step - loss: 0.0449 - val_loss: 0.0291 - lr: 0.0050\n",
      "Epoch 5/150\n",
      "876/876 [==============================] - ETA: 0s - loss: 0.0441\n",
      "Epoch 5: val_loss improved from 0.02906 to 0.02653, saving model to h5_models/energy\\model_4.h5\n",
      "876/876 [==============================] - 138s 158ms/step - loss: 0.0441 - val_loss: 0.0265 - lr: 0.0050\n",
      "Epoch 6/150\n",
      "876/876 [==============================] - ETA: 0s - loss: 0.0440\n",
      "Epoch 6: val_loss improved from 0.02653 to 0.02617, saving model to h5_models/energy\\model_4.h5\n",
      "876/876 [==============================] - 158s 180ms/step - loss: 0.0440 - val_loss: 0.0262 - lr: 0.0050\n",
      "Epoch 7/150\n",
      "876/876 [==============================] - ETA: 0s - loss: 0.0432\n",
      "Epoch 7: val_loss did not improve from 0.02617\n",
      "876/876 [==============================] - 155s 177ms/step - loss: 0.0432 - val_loss: 0.0273 - lr: 0.0050\n",
      "Epoch 8/150\n",
      "876/876 [==============================] - ETA: 0s - loss: 0.0428\n",
      "Epoch 8: val_loss did not improve from 0.02617\n",
      "876/876 [==============================] - 145s 166ms/step - loss: 0.0428 - val_loss: 0.0285 - lr: 0.0050\n",
      "Epoch 9/150\n",
      "876/876 [==============================] - ETA: 0s - loss: 0.0424\n",
      "Epoch 9: val_loss did not improve from 0.02617\n",
      "\n",
      "Epoch 9: ReduceLROnPlateau reducing learning rate to 0.0004999999888241291.\n",
      "876/876 [==============================] - 136s 155ms/step - loss: 0.0424 - val_loss: 0.0267 - lr: 0.0050\n",
      "Epoch 10/150\n",
      "876/876 [==============================] - ETA: 0s - loss: 0.0404\n",
      "Epoch 10: val_loss improved from 0.02617 to 0.02571, saving model to h5_models/energy\\model_4.h5\n",
      "876/876 [==============================] - 137s 156ms/step - loss: 0.0404 - val_loss: 0.0257 - lr: 5.0000e-04\n",
      "Epoch 11/150\n",
      "876/876 [==============================] - ETA: 0s - loss: 0.0405\n",
      "Epoch 11: val_loss improved from 0.02571 to 0.02262, saving model to h5_models/energy\\model_4.h5\n",
      "876/876 [==============================] - 140s 160ms/step - loss: 0.0405 - val_loss: 0.0226 - lr: 5.0000e-04\n",
      "Epoch 12/150\n",
      "876/876 [==============================] - ETA: 0s - loss: 0.0400\n",
      "Epoch 12: val_loss did not improve from 0.02262\n",
      "876/876 [==============================] - 157s 179ms/step - loss: 0.0400 - val_loss: 0.0242 - lr: 5.0000e-04\n",
      "Epoch 13/150\n",
      "876/876 [==============================] - ETA: 0s - loss: 0.0399\n",
      "Epoch 13: val_loss did not improve from 0.02262\n",
      "876/876 [==============================] - 151s 172ms/step - loss: 0.0399 - val_loss: 0.0243 - lr: 5.0000e-04\n",
      "Epoch 14/150\n",
      "876/876 [==============================] - ETA: 0s - loss: 0.0401\n",
      "Epoch 14: val_loss improved from 0.02262 to 0.02258, saving model to h5_models/energy\\model_4.h5\n",
      "\n",
      "Epoch 14: ReduceLROnPlateau reducing learning rate to 4.9999996554106475e-05.\n",
      "876/876 [==============================] - 145s 166ms/step - loss: 0.0401 - val_loss: 0.0226 - lr: 5.0000e-04\n",
      "Epoch 15/150\n",
      "876/876 [==============================] - ETA: 0s - loss: 0.0396\n",
      "Epoch 15: val_loss improved from 0.02258 to 0.02208, saving model to h5_models/energy\\model_4.h5\n",
      "876/876 [==============================] - 135s 155ms/step - loss: 0.0396 - val_loss: 0.0221 - lr: 5.0000e-05\n",
      "Epoch 16/150\n",
      "876/876 [==============================] - ETA: 0s - loss: 0.0396\n",
      "Epoch 16: val_loss improved from 0.02208 to 0.02201, saving model to h5_models/energy\\model_4.h5\n",
      "876/876 [==============================] - 136s 155ms/step - loss: 0.0396 - val_loss: 0.0220 - lr: 5.0000e-05\n",
      "Epoch 17/150\n",
      " 93/876 [==>...........................] - ETA: 2:01 - loss: 0.0412"
     ]
    },
    {
     "ename": "KeyboardInterrupt",
     "evalue": "",
     "output_type": "error",
     "traceback": [
      "\u001b[1;31m---------------------------------------------------------------------------\u001b[0m",
      "\u001b[1;31mKeyboardInterrupt\u001b[0m                         Traceback (most recent call last)",
      "Cell \u001b[1;32mIn[53], line 14\u001b[0m\n\u001b[0;32m      9\u001b[0m model_4 \u001b[38;5;241m=\u001b[39m tf\u001b[38;5;241m.\u001b[39mkeras\u001b[38;5;241m.\u001b[39mModel(inputs, outputs, name\u001b[38;5;241m=\u001b[39m\u001b[38;5;124m\"\u001b[39m\u001b[38;5;124mmodel_4\u001b[39m\u001b[38;5;124m\"\u001b[39m)\n\u001b[0;32m     11\u001b[0m model_4\u001b[38;5;241m.\u001b[39mcompile(loss\u001b[38;5;241m=\u001b[39m\u001b[38;5;124m\"\u001b[39m\u001b[38;5;124mmae\u001b[39m\u001b[38;5;124m\"\u001b[39m,\n\u001b[0;32m     12\u001b[0m                 optimizer\u001b[38;5;241m=\u001b[39mtf\u001b[38;5;241m.\u001b[39mkeras\u001b[38;5;241m.\u001b[39moptimizers\u001b[38;5;241m.\u001b[39mAdam(learning_rate\u001b[38;5;241m=\u001b[39m\u001b[38;5;241m5e-3\u001b[39m))\n\u001b[1;32m---> 14\u001b[0m model_4_history \u001b[38;5;241m=\u001b[39m \u001b[43mmodel_4\u001b[49m\u001b[38;5;241;43m.\u001b[39;49m\u001b[43mfit\u001b[49m\u001b[43m(\u001b[49m\u001b[43mtrain_dataset\u001b[49m\u001b[43m,\u001b[49m\n\u001b[0;32m     15\u001b[0m \u001b[43m                              \u001b[49m\u001b[43mvalidation_data\u001b[49m\u001b[38;5;241;43m=\u001b[39;49m\u001b[43mval_dataset\u001b[49m\u001b[43m,\u001b[49m\n\u001b[0;32m     16\u001b[0m \u001b[43m                              \u001b[49m\u001b[43mepochs\u001b[49m\u001b[38;5;241;43m=\u001b[39;49m\u001b[38;5;241;43m150\u001b[39;49m\u001b[43m,\u001b[49m\n\u001b[0;32m     17\u001b[0m \u001b[43m                              \u001b[49m\u001b[43mcallbacks\u001b[49m\u001b[38;5;241;43m=\u001b[39;49m\u001b[43m[\u001b[49m\u001b[43mtensorboard_cb\u001b[49m\u001b[43m(\u001b[49m\u001b[38;5;124;43m\"\u001b[39;49m\u001b[38;5;124;43mmodel_logs/energy/\u001b[39;49m\u001b[38;5;124;43m\"\u001b[39;49m\u001b[43m,\u001b[49m\u001b[43m \u001b[49m\u001b[43mmodel_4\u001b[49m\u001b[38;5;241;43m.\u001b[39;49m\u001b[43mname\u001b[49m\u001b[43m)\u001b[49m\u001b[43m,\u001b[49m\n\u001b[0;32m     18\u001b[0m \u001b[43m                                         \u001b[49m\u001b[43mcheckpoint_cb\u001b[49m\u001b[43m(\u001b[49m\u001b[38;5;124;43m\"\u001b[39;49m\u001b[38;5;124;43mh5_models/energy/\u001b[39;49m\u001b[38;5;124;43m\"\u001b[39;49m\u001b[43m,\u001b[49m\u001b[43m \u001b[49m\u001b[43mmodel_4\u001b[49m\u001b[38;5;241;43m.\u001b[39;49m\u001b[43mname\u001b[49m\u001b[43m,\u001b[49m\u001b[43m \u001b[49m\u001b[43msave_format\u001b[49m\u001b[38;5;241;43m=\u001b[39;49m\u001b[38;5;124;43m\"\u001b[39;49m\u001b[38;5;124;43m.h5\u001b[39;49m\u001b[38;5;124;43m\"\u001b[39;49m\u001b[43m)\u001b[49m\u001b[43m,\u001b[49m\n\u001b[0;32m     19\u001b[0m \u001b[43m                                         \u001b[49m\u001b[43mearly_stopping_cb\u001b[49m\u001b[43m(\u001b[49m\u001b[43mpatience\u001b[49m\u001b[38;5;241;43m=\u001b[39;49m\u001b[38;5;241;43m5\u001b[39;49m\u001b[43m)\u001b[49m\u001b[43m,\u001b[49m\n\u001b[0;32m     20\u001b[0m \u001b[43m                                         \u001b[49m\u001b[43mreduce_lr_cb\u001b[49m\u001b[43m(\u001b[49m\u001b[43mpatience\u001b[49m\u001b[38;5;241;43m=\u001b[39;49m\u001b[38;5;241;43m3\u001b[39;49m\u001b[43m,\u001b[49m\u001b[43m \u001b[49m\u001b[43mfactor\u001b[49m\u001b[38;5;241;43m=\u001b[39;49m\u001b[38;5;241;43m0.1\u001b[39;49m\u001b[43m)\u001b[49m\u001b[43m]\u001b[49m\u001b[43m)\u001b[49m\n",
      "File \u001b[1;32m~\\anaconda3\\envs\\mldl\\lib\\site-packages\\keras\\utils\\traceback_utils.py:64\u001b[0m, in \u001b[0;36mfilter_traceback.<locals>.error_handler\u001b[1;34m(*args, **kwargs)\u001b[0m\n\u001b[0;32m     62\u001b[0m filtered_tb \u001b[38;5;241m=\u001b[39m \u001b[38;5;28;01mNone\u001b[39;00m\n\u001b[0;32m     63\u001b[0m \u001b[38;5;28;01mtry\u001b[39;00m:\n\u001b[1;32m---> 64\u001b[0m   \u001b[38;5;28;01mreturn\u001b[39;00m fn(\u001b[38;5;241m*\u001b[39margs, \u001b[38;5;241m*\u001b[39m\u001b[38;5;241m*\u001b[39mkwargs)\n\u001b[0;32m     65\u001b[0m \u001b[38;5;28;01mexcept\u001b[39;00m \u001b[38;5;167;01mException\u001b[39;00m \u001b[38;5;28;01mas\u001b[39;00m e:  \u001b[38;5;66;03m# pylint: disable=broad-except\u001b[39;00m\n\u001b[0;32m     66\u001b[0m   filtered_tb \u001b[38;5;241m=\u001b[39m _process_traceback_frames(e\u001b[38;5;241m.\u001b[39m__traceback__)\n",
      "File \u001b[1;32m~\\anaconda3\\envs\\mldl\\lib\\site-packages\\keras\\engine\\training.py:1384\u001b[0m, in \u001b[0;36mModel.fit\u001b[1;34m(self, x, y, batch_size, epochs, verbose, callbacks, validation_split, validation_data, shuffle, class_weight, sample_weight, initial_epoch, steps_per_epoch, validation_steps, validation_batch_size, validation_freq, max_queue_size, workers, use_multiprocessing)\u001b[0m\n\u001b[0;32m   1377\u001b[0m \u001b[38;5;28;01mwith\u001b[39;00m tf\u001b[38;5;241m.\u001b[39mprofiler\u001b[38;5;241m.\u001b[39mexperimental\u001b[38;5;241m.\u001b[39mTrace(\n\u001b[0;32m   1378\u001b[0m     \u001b[38;5;124m'\u001b[39m\u001b[38;5;124mtrain\u001b[39m\u001b[38;5;124m'\u001b[39m,\n\u001b[0;32m   1379\u001b[0m     epoch_num\u001b[38;5;241m=\u001b[39mepoch,\n\u001b[0;32m   1380\u001b[0m     step_num\u001b[38;5;241m=\u001b[39mstep,\n\u001b[0;32m   1381\u001b[0m     batch_size\u001b[38;5;241m=\u001b[39mbatch_size,\n\u001b[0;32m   1382\u001b[0m     _r\u001b[38;5;241m=\u001b[39m\u001b[38;5;241m1\u001b[39m):\n\u001b[0;32m   1383\u001b[0m   callbacks\u001b[38;5;241m.\u001b[39mon_train_batch_begin(step)\n\u001b[1;32m-> 1384\u001b[0m   tmp_logs \u001b[38;5;241m=\u001b[39m \u001b[38;5;28;43mself\u001b[39;49m\u001b[38;5;241;43m.\u001b[39;49m\u001b[43mtrain_function\u001b[49m\u001b[43m(\u001b[49m\u001b[43miterator\u001b[49m\u001b[43m)\u001b[49m\n\u001b[0;32m   1385\u001b[0m   \u001b[38;5;28;01mif\u001b[39;00m data_handler\u001b[38;5;241m.\u001b[39mshould_sync:\n\u001b[0;32m   1386\u001b[0m     context\u001b[38;5;241m.\u001b[39masync_wait()\n",
      "File \u001b[1;32m~\\anaconda3\\envs\\mldl\\lib\\site-packages\\tensorflow\\python\\util\\traceback_utils.py:150\u001b[0m, in \u001b[0;36mfilter_traceback.<locals>.error_handler\u001b[1;34m(*args, **kwargs)\u001b[0m\n\u001b[0;32m    148\u001b[0m filtered_tb \u001b[38;5;241m=\u001b[39m \u001b[38;5;28;01mNone\u001b[39;00m\n\u001b[0;32m    149\u001b[0m \u001b[38;5;28;01mtry\u001b[39;00m:\n\u001b[1;32m--> 150\u001b[0m   \u001b[38;5;28;01mreturn\u001b[39;00m fn(\u001b[38;5;241m*\u001b[39margs, \u001b[38;5;241m*\u001b[39m\u001b[38;5;241m*\u001b[39mkwargs)\n\u001b[0;32m    151\u001b[0m \u001b[38;5;28;01mexcept\u001b[39;00m \u001b[38;5;167;01mException\u001b[39;00m \u001b[38;5;28;01mas\u001b[39;00m e:\n\u001b[0;32m    152\u001b[0m   filtered_tb \u001b[38;5;241m=\u001b[39m _process_traceback_frames(e\u001b[38;5;241m.\u001b[39m__traceback__)\n",
      "File \u001b[1;32m~\\anaconda3\\envs\\mldl\\lib\\site-packages\\tensorflow\\python\\eager\\def_function.py:915\u001b[0m, in \u001b[0;36mFunction.__call__\u001b[1;34m(self, *args, **kwds)\u001b[0m\n\u001b[0;32m    912\u001b[0m compiler \u001b[38;5;241m=\u001b[39m \u001b[38;5;124m\"\u001b[39m\u001b[38;5;124mxla\u001b[39m\u001b[38;5;124m\"\u001b[39m \u001b[38;5;28;01mif\u001b[39;00m \u001b[38;5;28mself\u001b[39m\u001b[38;5;241m.\u001b[39m_jit_compile \u001b[38;5;28;01melse\u001b[39;00m \u001b[38;5;124m\"\u001b[39m\u001b[38;5;124mnonXla\u001b[39m\u001b[38;5;124m\"\u001b[39m\n\u001b[0;32m    914\u001b[0m \u001b[38;5;28;01mwith\u001b[39;00m OptionalXlaContext(\u001b[38;5;28mself\u001b[39m\u001b[38;5;241m.\u001b[39m_jit_compile):\n\u001b[1;32m--> 915\u001b[0m   result \u001b[38;5;241m=\u001b[39m \u001b[38;5;28mself\u001b[39m\u001b[38;5;241m.\u001b[39m_call(\u001b[38;5;241m*\u001b[39margs, \u001b[38;5;241m*\u001b[39m\u001b[38;5;241m*\u001b[39mkwds)\n\u001b[0;32m    917\u001b[0m new_tracing_count \u001b[38;5;241m=\u001b[39m \u001b[38;5;28mself\u001b[39m\u001b[38;5;241m.\u001b[39mexperimental_get_tracing_count()\n\u001b[0;32m    918\u001b[0m without_tracing \u001b[38;5;241m=\u001b[39m (tracing_count \u001b[38;5;241m==\u001b[39m new_tracing_count)\n",
      "File \u001b[1;32m~\\anaconda3\\envs\\mldl\\lib\\site-packages\\tensorflow\\python\\eager\\def_function.py:947\u001b[0m, in \u001b[0;36mFunction._call\u001b[1;34m(self, *args, **kwds)\u001b[0m\n\u001b[0;32m    944\u001b[0m   \u001b[38;5;28mself\u001b[39m\u001b[38;5;241m.\u001b[39m_lock\u001b[38;5;241m.\u001b[39mrelease()\n\u001b[0;32m    945\u001b[0m   \u001b[38;5;66;03m# In this case we have created variables on the first call, so we run the\u001b[39;00m\n\u001b[0;32m    946\u001b[0m   \u001b[38;5;66;03m# defunned version which is guaranteed to never create variables.\u001b[39;00m\n\u001b[1;32m--> 947\u001b[0m   \u001b[38;5;28;01mreturn\u001b[39;00m \u001b[38;5;28mself\u001b[39m\u001b[38;5;241m.\u001b[39m_stateless_fn(\u001b[38;5;241m*\u001b[39margs, \u001b[38;5;241m*\u001b[39m\u001b[38;5;241m*\u001b[39mkwds)  \u001b[38;5;66;03m# pylint: disable=not-callable\u001b[39;00m\n\u001b[0;32m    948\u001b[0m \u001b[38;5;28;01melif\u001b[39;00m \u001b[38;5;28mself\u001b[39m\u001b[38;5;241m.\u001b[39m_stateful_fn \u001b[38;5;129;01mis\u001b[39;00m \u001b[38;5;129;01mnot\u001b[39;00m \u001b[38;5;28;01mNone\u001b[39;00m:\n\u001b[0;32m    949\u001b[0m   \u001b[38;5;66;03m# Release the lock early so that multiple threads can perform the call\u001b[39;00m\n\u001b[0;32m    950\u001b[0m   \u001b[38;5;66;03m# in parallel.\u001b[39;00m\n\u001b[0;32m    951\u001b[0m   \u001b[38;5;28mself\u001b[39m\u001b[38;5;241m.\u001b[39m_lock\u001b[38;5;241m.\u001b[39mrelease()\n",
      "File \u001b[1;32m~\\anaconda3\\envs\\mldl\\lib\\site-packages\\tensorflow\\python\\eager\\function.py:2956\u001b[0m, in \u001b[0;36mFunction.__call__\u001b[1;34m(self, *args, **kwargs)\u001b[0m\n\u001b[0;32m   2953\u001b[0m \u001b[38;5;28;01mwith\u001b[39;00m \u001b[38;5;28mself\u001b[39m\u001b[38;5;241m.\u001b[39m_lock:\n\u001b[0;32m   2954\u001b[0m   (graph_function,\n\u001b[0;32m   2955\u001b[0m    filtered_flat_args) \u001b[38;5;241m=\u001b[39m \u001b[38;5;28mself\u001b[39m\u001b[38;5;241m.\u001b[39m_maybe_define_function(args, kwargs)\n\u001b[1;32m-> 2956\u001b[0m \u001b[38;5;28;01mreturn\u001b[39;00m \u001b[43mgraph_function\u001b[49m\u001b[38;5;241;43m.\u001b[39;49m\u001b[43m_call_flat\u001b[49m\u001b[43m(\u001b[49m\n\u001b[0;32m   2957\u001b[0m \u001b[43m    \u001b[49m\u001b[43mfiltered_flat_args\u001b[49m\u001b[43m,\u001b[49m\u001b[43m \u001b[49m\u001b[43mcaptured_inputs\u001b[49m\u001b[38;5;241;43m=\u001b[39;49m\u001b[43mgraph_function\u001b[49m\u001b[38;5;241;43m.\u001b[39;49m\u001b[43mcaptured_inputs\u001b[49m\u001b[43m)\u001b[49m\n",
      "File \u001b[1;32m~\\anaconda3\\envs\\mldl\\lib\\site-packages\\tensorflow\\python\\eager\\function.py:1853\u001b[0m, in \u001b[0;36mConcreteFunction._call_flat\u001b[1;34m(self, args, captured_inputs, cancellation_manager)\u001b[0m\n\u001b[0;32m   1849\u001b[0m possible_gradient_type \u001b[38;5;241m=\u001b[39m gradients_util\u001b[38;5;241m.\u001b[39mPossibleTapeGradientTypes(args)\n\u001b[0;32m   1850\u001b[0m \u001b[38;5;28;01mif\u001b[39;00m (possible_gradient_type \u001b[38;5;241m==\u001b[39m gradients_util\u001b[38;5;241m.\u001b[39mPOSSIBLE_GRADIENT_TYPES_NONE\n\u001b[0;32m   1851\u001b[0m     \u001b[38;5;129;01mand\u001b[39;00m executing_eagerly):\n\u001b[0;32m   1852\u001b[0m   \u001b[38;5;66;03m# No tape is watching; skip to running the function.\u001b[39;00m\n\u001b[1;32m-> 1853\u001b[0m   \u001b[38;5;28;01mreturn\u001b[39;00m \u001b[38;5;28mself\u001b[39m\u001b[38;5;241m.\u001b[39m_build_call_outputs(\u001b[38;5;28;43mself\u001b[39;49m\u001b[38;5;241;43m.\u001b[39;49m\u001b[43m_inference_function\u001b[49m\u001b[38;5;241;43m.\u001b[39;49m\u001b[43mcall\u001b[49m\u001b[43m(\u001b[49m\n\u001b[0;32m   1854\u001b[0m \u001b[43m      \u001b[49m\u001b[43mctx\u001b[49m\u001b[43m,\u001b[49m\u001b[43m \u001b[49m\u001b[43margs\u001b[49m\u001b[43m,\u001b[49m\u001b[43m \u001b[49m\u001b[43mcancellation_manager\u001b[49m\u001b[38;5;241;43m=\u001b[39;49m\u001b[43mcancellation_manager\u001b[49m\u001b[43m)\u001b[49m)\n\u001b[0;32m   1855\u001b[0m forward_backward \u001b[38;5;241m=\u001b[39m \u001b[38;5;28mself\u001b[39m\u001b[38;5;241m.\u001b[39m_select_forward_and_backward_functions(\n\u001b[0;32m   1856\u001b[0m     args,\n\u001b[0;32m   1857\u001b[0m     possible_gradient_type,\n\u001b[0;32m   1858\u001b[0m     executing_eagerly)\n\u001b[0;32m   1859\u001b[0m forward_function, args_with_tangents \u001b[38;5;241m=\u001b[39m forward_backward\u001b[38;5;241m.\u001b[39mforward()\n",
      "File \u001b[1;32m~\\anaconda3\\envs\\mldl\\lib\\site-packages\\tensorflow\\python\\eager\\function.py:499\u001b[0m, in \u001b[0;36m_EagerDefinedFunction.call\u001b[1;34m(self, ctx, args, cancellation_manager)\u001b[0m\n\u001b[0;32m    497\u001b[0m \u001b[38;5;28;01mwith\u001b[39;00m _InterpolateFunctionError(\u001b[38;5;28mself\u001b[39m):\n\u001b[0;32m    498\u001b[0m   \u001b[38;5;28;01mif\u001b[39;00m cancellation_manager \u001b[38;5;129;01mis\u001b[39;00m \u001b[38;5;28;01mNone\u001b[39;00m:\n\u001b[1;32m--> 499\u001b[0m     outputs \u001b[38;5;241m=\u001b[39m \u001b[43mexecute\u001b[49m\u001b[38;5;241;43m.\u001b[39;49m\u001b[43mexecute\u001b[49m\u001b[43m(\u001b[49m\n\u001b[0;32m    500\u001b[0m \u001b[43m        \u001b[49m\u001b[38;5;28;43mstr\u001b[39;49m\u001b[43m(\u001b[49m\u001b[38;5;28;43mself\u001b[39;49m\u001b[38;5;241;43m.\u001b[39;49m\u001b[43msignature\u001b[49m\u001b[38;5;241;43m.\u001b[39;49m\u001b[43mname\u001b[49m\u001b[43m)\u001b[49m\u001b[43m,\u001b[49m\n\u001b[0;32m    501\u001b[0m \u001b[43m        \u001b[49m\u001b[43mnum_outputs\u001b[49m\u001b[38;5;241;43m=\u001b[39;49m\u001b[38;5;28;43mself\u001b[39;49m\u001b[38;5;241;43m.\u001b[39;49m\u001b[43m_num_outputs\u001b[49m\u001b[43m,\u001b[49m\n\u001b[0;32m    502\u001b[0m \u001b[43m        \u001b[49m\u001b[43minputs\u001b[49m\u001b[38;5;241;43m=\u001b[39;49m\u001b[43margs\u001b[49m\u001b[43m,\u001b[49m\n\u001b[0;32m    503\u001b[0m \u001b[43m        \u001b[49m\u001b[43mattrs\u001b[49m\u001b[38;5;241;43m=\u001b[39;49m\u001b[43mattrs\u001b[49m\u001b[43m,\u001b[49m\n\u001b[0;32m    504\u001b[0m \u001b[43m        \u001b[49m\u001b[43mctx\u001b[49m\u001b[38;5;241;43m=\u001b[39;49m\u001b[43mctx\u001b[49m\u001b[43m)\u001b[49m\n\u001b[0;32m    505\u001b[0m   \u001b[38;5;28;01melse\u001b[39;00m:\n\u001b[0;32m    506\u001b[0m     outputs \u001b[38;5;241m=\u001b[39m execute\u001b[38;5;241m.\u001b[39mexecute_with_cancellation(\n\u001b[0;32m    507\u001b[0m         \u001b[38;5;28mstr\u001b[39m(\u001b[38;5;28mself\u001b[39m\u001b[38;5;241m.\u001b[39msignature\u001b[38;5;241m.\u001b[39mname),\n\u001b[0;32m    508\u001b[0m         num_outputs\u001b[38;5;241m=\u001b[39m\u001b[38;5;28mself\u001b[39m\u001b[38;5;241m.\u001b[39m_num_outputs,\n\u001b[1;32m   (...)\u001b[0m\n\u001b[0;32m    511\u001b[0m         ctx\u001b[38;5;241m=\u001b[39mctx,\n\u001b[0;32m    512\u001b[0m         cancellation_manager\u001b[38;5;241m=\u001b[39mcancellation_manager)\n",
      "File \u001b[1;32m~\\anaconda3\\envs\\mldl\\lib\\site-packages\\tensorflow\\python\\eager\\execute.py:54\u001b[0m, in \u001b[0;36mquick_execute\u001b[1;34m(op_name, num_outputs, inputs, attrs, ctx, name)\u001b[0m\n\u001b[0;32m     52\u001b[0m \u001b[38;5;28;01mtry\u001b[39;00m:\n\u001b[0;32m     53\u001b[0m   ctx\u001b[38;5;241m.\u001b[39mensure_initialized()\n\u001b[1;32m---> 54\u001b[0m   tensors \u001b[38;5;241m=\u001b[39m \u001b[43mpywrap_tfe\u001b[49m\u001b[38;5;241;43m.\u001b[39;49m\u001b[43mTFE_Py_Execute\u001b[49m\u001b[43m(\u001b[49m\u001b[43mctx\u001b[49m\u001b[38;5;241;43m.\u001b[39;49m\u001b[43m_handle\u001b[49m\u001b[43m,\u001b[49m\u001b[43m \u001b[49m\u001b[43mdevice_name\u001b[49m\u001b[43m,\u001b[49m\u001b[43m \u001b[49m\u001b[43mop_name\u001b[49m\u001b[43m,\u001b[49m\n\u001b[0;32m     55\u001b[0m \u001b[43m                                      \u001b[49m\u001b[43minputs\u001b[49m\u001b[43m,\u001b[49m\u001b[43m \u001b[49m\u001b[43mattrs\u001b[49m\u001b[43m,\u001b[49m\u001b[43m \u001b[49m\u001b[43mnum_outputs\u001b[49m\u001b[43m)\u001b[49m\n\u001b[0;32m     56\u001b[0m \u001b[38;5;28;01mexcept\u001b[39;00m core\u001b[38;5;241m.\u001b[39m_NotOkStatusException \u001b[38;5;28;01mas\u001b[39;00m e:\n\u001b[0;32m     57\u001b[0m   \u001b[38;5;28;01mif\u001b[39;00m name \u001b[38;5;129;01mis\u001b[39;00m \u001b[38;5;129;01mnot\u001b[39;00m \u001b[38;5;28;01mNone\u001b[39;00m:\n",
      "\u001b[1;31mKeyboardInterrupt\u001b[0m: "
     ]
    }
   ],
   "source": [
    "tf.keras.backend.clear_session()\n",
    "\n",
    "inputs = layers.Input(shape=(train_num_timesteps, train_num_features), dtype=tf.float32)\n",
    "x = layers.LSTM(50, activation=\"relu\", return_sequences=True)(inputs)\n",
    "x = layers.LSTM(25, activation=\"relu\")(x)\n",
    "x = layers.Dropout(0.3)(x)\n",
    "outputs = layers.Dense(HORIZON)(x)\n",
    "\n",
    "model_4 = tf.keras.Model(inputs, outputs, name=\"model_4\")\n",
    "\n",
    "model_4.compile(loss=\"mae\",\n",
    "                optimizer=tf.keras.optimizers.Adam(learning_rate=5e-3))\n",
    "\n",
    "model_4_history = model_4.fit(train_dataset,\n",
    "                              validation_data=val_dataset,\n",
    "                              epochs=150,\n",
    "                              callbacks=[tensorboard_cb(\"model_logs/energy/\", model_4.name),\n",
    "                                         checkpoint_cb(\"h5_models/energy/\", model_4.name, save_format=\".h5\"),\n",
    "                                         early_stopping_cb(patience=5),\n",
    "                                         reduce_lr_cb(patience=3, factor=0.1)])"
   ]
  },
  {
   "cell_type": "code",
   "execution_count": 54,
   "id": "2734b310-22a2-4efa-a7bc-0da1a8184b3c",
   "metadata": {},
   "outputs": [
    {
     "name": "stdout",
     "output_type": "stream",
     "text": [
      "WARNING:tensorflow:Layer lstm will not use cuDNN kernels since it doesn't meet the criteria. It will use a generic GPU kernel as fallback when running on GPU.\n",
      "WARNING:tensorflow:Layer lstm_1 will not use cuDNN kernels since it doesn't meet the criteria. It will use a generic GPU kernel as fallback when running on GPU.\n"
     ]
    },
    {
     "data": {
      "text/plain": [
       "{'MAE': 505.5469549867116,\n",
       " 'MSE': 480774.49751305854,\n",
       " 'RMSE': 693.3790431741203,\n",
       " 'MAPE': 1.86847290045257,\n",
       " 'R2': 0.9764513650164208}"
      ]
     },
     "execution_count": 54,
     "metadata": {},
     "output_type": "execute_result"
    }
   ],
   "source": [
    "model_4_loaded = tf.keras.models.load_model(\"h5_models/energy/model_4.h5\")\n",
    "model_4_preds = model_4_loaded.predict(val_dataset)\n",
    "model_4_results = evaluate_ts_rg_model(y_val, scalar_y.inverse_transform(model_4_preds))\n",
    "model_4_results"
   ]
  },
  {
   "cell_type": "code",
   "execution_count": 204,
   "id": "e4f757cf-e6b5-4a1c-9403-3b504b71bce9",
   "metadata": {},
   "outputs": [],
   "source": [
    "testing = []\n",
    "array_1 = [[[\"1a\", \"1b\"],\n",
    "            [\"2a\", \"2b\"],\n",
    "            [\"3a\", \"3b\"]]]\n",
    "\n",
    "array_2 = [[[\"4a\", \"4b\"],\n",
    "            [\"5a\", \"5b\"],\n",
    "            [\"6a\", \"6b\"]]]\n",
    "\n",
    "testing.append(array_1)\n",
    "testing.append(array_2)"
   ]
  },
  {
   "cell_type": "code",
   "execution_count": 205,
   "id": "586db487-04a5-4195-9b69-614398dcf491",
   "metadata": {},
   "outputs": [],
   "source": [
    "testing = np.array(testing)"
   ]
  },
  {
   "cell_type": "code",
   "execution_count": 206,
   "id": "9350127a-c60d-467b-852e-1f8113e8a024",
   "metadata": {},
   "outputs": [
    {
     "data": {
      "text/plain": [
       "(2, 1, 3, 2)"
      ]
     },
     "execution_count": 206,
     "metadata": {},
     "output_type": "execute_result"
    }
   ],
   "source": [
    "testing.shape"
   ]
  },
  {
   "cell_type": "code",
   "execution_count": 208,
   "id": "fc6eb42f-3523-4a1e-8c36-2302f1510f38",
   "metadata": {},
   "outputs": [
    {
     "data": {
      "text/plain": [
       "(2, 3, 2)"
      ]
     },
     "execution_count": 208,
     "metadata": {},
     "output_type": "execute_result"
    }
   ],
   "source": [
    "np.squeeze(testing).shape"
   ]
  },
  {
   "cell_type": "code",
   "execution_count": 229,
   "id": "2fbaa5d8-3984-4e43-b8f9-31836ac00b67",
   "metadata": {},
   "outputs": [
    {
     "data": {
      "text/plain": [
       "array([[['1a', '1b'],\n",
       "        ['2a', '2b'],\n",
       "        ['3a', '3b']],\n",
       "\n",
       "       [['4a', '4b'],\n",
       "        ['5a', '5b'],\n",
       "        ['6a', '6b']]], dtype='<U2')"
      ]
     },
     "execution_count": 229,
     "metadata": {},
     "output_type": "execute_result"
    }
   ],
   "source": [
    "np.squeeze(testing)"
   ]
  },
  {
   "cell_type": "code",
   "execution_count": 224,
   "id": "0cd60cb4-d9ea-4ed5-9321-ab34cb6c9ade",
   "metadata": {},
   "outputs": [
    {
     "name": "stdout",
     "output_type": "stream",
     "text": [
      "(1, 3, 2)\n"
     ]
    }
   ],
   "source": [
    "series = pd.Series([\"1a\", \"1b\", \"2a\", \"2b\", \"3a\", \"3b\"])\n",
    "\n",
    "# Convert the Series to a NumPy array and reshape to (1, 3, 2)\n",
    "numpy_array = np.array(series).reshape(1, 3, 2)\n",
    "\n",
    "print(numpy_array.shape)"
   ]
  },
  {
   "cell_type": "code",
   "execution_count": 225,
   "id": "db212e4b-16c6-4ba2-9dfb-051e5d64e66a",
   "metadata": {},
   "outputs": [],
   "source": [
    "testing_2 = []\n",
    "testing_2.append(numpy_array)"
   ]
  },
  {
   "cell_type": "code",
   "execution_count": 226,
   "id": "83618991-8eeb-4e59-a4a7-46ef8abf462d",
   "metadata": {},
   "outputs": [],
   "source": [
    "testing_2 = np.squeeze(np.array(testing_2), axis=0)"
   ]
  },
  {
   "cell_type": "code",
   "execution_count": 227,
   "id": "9164d4f8-ce7f-4eeb-9522-7520c64573c5",
   "metadata": {},
   "outputs": [
    {
     "data": {
      "text/plain": [
       "(1, 3, 2)"
      ]
     },
     "execution_count": 227,
     "metadata": {},
     "output_type": "execute_result"
    }
   ],
   "source": [
    "testing_2.shape"
   ]
  },
  {
   "cell_type": "code",
   "execution_count": 228,
   "id": "d2f26285-f139-4b98-a50f-37abfa9f2924",
   "metadata": {},
   "outputs": [
    {
     "data": {
      "text/plain": [
       "array([[['1a', '1b'],\n",
       "        ['2a', '2b'],\n",
       "        ['3a', '3b']]], dtype=object)"
      ]
     },
     "execution_count": 228,
     "metadata": {},
     "output_type": "execute_result"
    }
   ],
   "source": [
    "testing_2"
   ]
  },
  {
   "cell_type": "code",
   "execution_count": 231,
   "id": "7a85bc21-f8f4-4dd0-8be6-f00c30018aca",
   "metadata": {},
   "outputs": [],
   "source": [
    "array_3 = np.array([[ 1,  2,  3,  4,  5,  6,  7,  8,  9, 10, 11, 12],\n",
    " [ 2,  3,  4,  5,  6,  7,  8,  9, 10, 11, 12, 13],\n",
    " [ 3,  4,  5,  6,  7,  8 , 9, 10, 11, 12, 13, 14],\n",
    " [ 4,  5,  6,  7,  8 , 9 ,10, 11, 12, 13, 14, 15],\n",
    " [ 5,  6,  7,  8 , 9 ,10, 11, 12, 13, 14, 15, 16],\n",
    " [ 6,  7,  8,  9, 10, 11, 12, 13, 14, 15, 16, 17],\n",
    " [ 7,  8,  9, 10 ,11, 12 ,13 ,14, 15, 16, 17, 18],\n",
    " [ 8,  9, 10, 11, 12, 13, 14, 15, 16, 17, 18, 19]])"
   ]
  },
  {
   "cell_type": "code",
   "execution_count": 232,
   "id": "620180e4-1b15-41d6-89d7-926d3be8e7f2",
   "metadata": {},
   "outputs": [
    {
     "data": {
      "text/plain": [
       "(8, 12)"
      ]
     },
     "execution_count": 232,
     "metadata": {},
     "output_type": "execute_result"
    }
   ],
   "source": [
    "array_3.shape"
   ]
  },
  {
   "cell_type": "code",
   "execution_count": 236,
   "id": "464c1bd1-62c6-4c8e-b6eb-5e4c3f455430",
   "metadata": {
    "scrolled": true
   },
   "outputs": [
    {
     "data": {
      "text/plain": [
       "(array([[[ 1],\n",
       "         [ 2],\n",
       "         [ 3],\n",
       "         [ 4],\n",
       "         [ 5],\n",
       "         [ 6],\n",
       "         [ 7],\n",
       "         [ 8],\n",
       "         [ 9],\n",
       "         [10],\n",
       "         [11],\n",
       "         [12]],\n",
       " \n",
       "        [[ 2],\n",
       "         [ 3],\n",
       "         [ 4],\n",
       "         [ 5],\n",
       "         [ 6],\n",
       "         [ 7],\n",
       "         [ 8],\n",
       "         [ 9],\n",
       "         [10],\n",
       "         [11],\n",
       "         [12],\n",
       "         [13]],\n",
       " \n",
       "        [[ 3],\n",
       "         [ 4],\n",
       "         [ 5],\n",
       "         [ 6],\n",
       "         [ 7],\n",
       "         [ 8],\n",
       "         [ 9],\n",
       "         [10],\n",
       "         [11],\n",
       "         [12],\n",
       "         [13],\n",
       "         [14]],\n",
       " \n",
       "        [[ 4],\n",
       "         [ 5],\n",
       "         [ 6],\n",
       "         [ 7],\n",
       "         [ 8],\n",
       "         [ 9],\n",
       "         [10],\n",
       "         [11],\n",
       "         [12],\n",
       "         [13],\n",
       "         [14],\n",
       "         [15]],\n",
       " \n",
       "        [[ 5],\n",
       "         [ 6],\n",
       "         [ 7],\n",
       "         [ 8],\n",
       "         [ 9],\n",
       "         [10],\n",
       "         [11],\n",
       "         [12],\n",
       "         [13],\n",
       "         [14],\n",
       "         [15],\n",
       "         [16]],\n",
       " \n",
       "        [[ 6],\n",
       "         [ 7],\n",
       "         [ 8],\n",
       "         [ 9],\n",
       "         [10],\n",
       "         [11],\n",
       "         [12],\n",
       "         [13],\n",
       "         [14],\n",
       "         [15],\n",
       "         [16],\n",
       "         [17]],\n",
       " \n",
       "        [[ 7],\n",
       "         [ 8],\n",
       "         [ 9],\n",
       "         [10],\n",
       "         [11],\n",
       "         [12],\n",
       "         [13],\n",
       "         [14],\n",
       "         [15],\n",
       "         [16],\n",
       "         [17],\n",
       "         [18]],\n",
       " \n",
       "        [[ 8],\n",
       "         [ 9],\n",
       "         [10],\n",
       "         [11],\n",
       "         [12],\n",
       "         [13],\n",
       "         [14],\n",
       "         [15],\n",
       "         [16],\n",
       "         [17],\n",
       "         [18],\n",
       "         [19]]]),\n",
       " (8, 12, 1))"
      ]
     },
     "execution_count": 236,
     "metadata": {},
     "output_type": "execute_result"
    }
   ],
   "source": [
    "np.expand_dims(array_3, axis=-1), np.expand_dims(array_3, axis=-1).shape"
   ]
  },
  {
   "cell_type": "code",
   "execution_count": null,
   "id": "c9f32e6e-7d8d-4a53-916f-b7fc57766e03",
   "metadata": {},
   "outputs": [],
   "source": []
  }
 ],
 "metadata": {
  "kernelspec": {
   "display_name": "mldl",
   "language": "python",
   "name": "mldl"
  },
  "language_info": {
   "codemirror_mode": {
    "name": "ipython",
    "version": 3
   },
   "file_extension": ".py",
   "mimetype": "text/x-python",
   "name": "python",
   "nbconvert_exporter": "python",
   "pygments_lexer": "ipython3",
   "version": "3.9.2"
  }
 },
 "nbformat": 4,
 "nbformat_minor": 5
}
