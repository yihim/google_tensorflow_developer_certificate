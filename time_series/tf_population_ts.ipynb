{
 "cells": [
  {
   "cell_type": "code",
   "execution_count": 1,
   "id": "55b2224d-6ec0-4917-ac3c-7124779f8e35",
   "metadata": {},
   "outputs": [],
   "source": [
    "import tensorflow as tf\n",
    "import pandas as pd\n",
    "import numpy as np\n",
    "import matplotlib.pyplot as plt\n",
    "import seaborn as sns\n",
    "from tensorflow.keras import layers"
   ]
  },
  {
   "cell_type": "code",
   "execution_count": 2,
   "id": "b17ebedf-ae6b-47b9-acc9-b81342995cf3",
   "metadata": {},
   "outputs": [
    {
     "name": "stdout",
     "output_type": "stream",
     "text": [
      "2.8.0\n"
     ]
    }
   ],
   "source": [
    "print(tf.__version__)"
   ]
  },
  {
   "cell_type": "code",
   "execution_count": 3,
   "id": "1f4a5afe-baff-488e-ae8b-b05d888f1b48",
   "metadata": {},
   "outputs": [],
   "source": [
    "gpus = tf.config.list_physical_devices('GPU')\n",
    "if gpus:\n",
    "    for gpu in gpus:\n",
    "        tf.config.experimental.set_memory_growth(gpu, True)"
   ]
  },
  {
   "cell_type": "code",
   "execution_count": 7,
   "id": "bcde3640-0544-4e15-9b50-595ca925f471",
   "metadata": {},
   "outputs": [
    {
     "data": {
      "text/plain": [
       "816"
      ]
     },
     "execution_count": 7,
     "metadata": {},
     "output_type": "execute_result"
    }
   ],
   "source": [
    "dataset = pd.read_csv(\"dataset/time_series/Population/POP.csv\")\n",
    "len(dataset)"
   ]
  },
  {
   "cell_type": "code",
   "execution_count": 8,
   "id": "3ec5092a-e20f-40cf-a87d-3869b07b7c70",
   "metadata": {},
   "outputs": [
    {
     "data": {
      "text/plain": [
       "realtime_start    0\n",
       "value             0\n",
       "date              0\n",
       "realtime_end      0\n",
       "dtype: int64"
      ]
     },
     "execution_count": 8,
     "metadata": {},
     "output_type": "execute_result"
    }
   ],
   "source": [
    "dataset.isna().sum()"
   ]
  },
  {
   "cell_type": "code",
   "execution_count": 9,
   "id": "0056954d-bb1b-4485-8e08-c33204e3ff62",
   "metadata": {},
   "outputs": [
    {
     "data": {
      "text/html": [
       "<div>\n",
       "<style scoped>\n",
       "    .dataframe tbody tr th:only-of-type {\n",
       "        vertical-align: middle;\n",
       "    }\n",
       "\n",
       "    .dataframe tbody tr th {\n",
       "        vertical-align: top;\n",
       "    }\n",
       "\n",
       "    .dataframe thead th {\n",
       "        text-align: right;\n",
       "    }\n",
       "</style>\n",
       "<table border=\"1\" class=\"dataframe\">\n",
       "  <thead>\n",
       "    <tr style=\"text-align: right;\">\n",
       "      <th></th>\n",
       "      <th>realtime_start</th>\n",
       "      <th>value</th>\n",
       "      <th>date</th>\n",
       "      <th>realtime_end</th>\n",
       "    </tr>\n",
       "  </thead>\n",
       "  <tbody>\n",
       "    <tr>\n",
       "      <th>0</th>\n",
       "      <td>2019-12-06</td>\n",
       "      <td>156309.0</td>\n",
       "      <td>1952-01-01</td>\n",
       "      <td>2019-12-06</td>\n",
       "    </tr>\n",
       "    <tr>\n",
       "      <th>1</th>\n",
       "      <td>2019-12-06</td>\n",
       "      <td>156527.0</td>\n",
       "      <td>1952-02-01</td>\n",
       "      <td>2019-12-06</td>\n",
       "    </tr>\n",
       "    <tr>\n",
       "      <th>2</th>\n",
       "      <td>2019-12-06</td>\n",
       "      <td>156731.0</td>\n",
       "      <td>1952-03-01</td>\n",
       "      <td>2019-12-06</td>\n",
       "    </tr>\n",
       "    <tr>\n",
       "      <th>3</th>\n",
       "      <td>2019-12-06</td>\n",
       "      <td>156943.0</td>\n",
       "      <td>1952-04-01</td>\n",
       "      <td>2019-12-06</td>\n",
       "    </tr>\n",
       "    <tr>\n",
       "      <th>4</th>\n",
       "      <td>2019-12-06</td>\n",
       "      <td>157140.0</td>\n",
       "      <td>1952-05-01</td>\n",
       "      <td>2019-12-06</td>\n",
       "    </tr>\n",
       "  </tbody>\n",
       "</table>\n",
       "</div>"
      ],
      "text/plain": [
       "  realtime_start     value        date realtime_end\n",
       "0     2019-12-06  156309.0  1952-01-01   2019-12-06\n",
       "1     2019-12-06  156527.0  1952-02-01   2019-12-06\n",
       "2     2019-12-06  156731.0  1952-03-01   2019-12-06\n",
       "3     2019-12-06  156943.0  1952-04-01   2019-12-06\n",
       "4     2019-12-06  157140.0  1952-05-01   2019-12-06"
      ]
     },
     "execution_count": 9,
     "metadata": {},
     "output_type": "execute_result"
    }
   ],
   "source": [
    "dataset.head()"
   ]
  },
  {
   "cell_type": "code",
   "execution_count": 10,
   "id": "5cdf2554-1e28-41fc-8173-ca0021d46e9c",
   "metadata": {},
   "outputs": [
    {
     "data": {
      "text/html": [
       "<div>\n",
       "<style scoped>\n",
       "    .dataframe tbody tr th:only-of-type {\n",
       "        vertical-align: middle;\n",
       "    }\n",
       "\n",
       "    .dataframe tbody tr th {\n",
       "        vertical-align: top;\n",
       "    }\n",
       "\n",
       "    .dataframe thead th {\n",
       "        text-align: right;\n",
       "    }\n",
       "</style>\n",
       "<table border=\"1\" class=\"dataframe\">\n",
       "  <thead>\n",
       "    <tr style=\"text-align: right;\">\n",
       "      <th></th>\n",
       "      <th>value</th>\n",
       "      <th>date</th>\n",
       "    </tr>\n",
       "  </thead>\n",
       "  <tbody>\n",
       "    <tr>\n",
       "      <th>0</th>\n",
       "      <td>156309.0</td>\n",
       "      <td>1952-01-01</td>\n",
       "    </tr>\n",
       "    <tr>\n",
       "      <th>1</th>\n",
       "      <td>156527.0</td>\n",
       "      <td>1952-02-01</td>\n",
       "    </tr>\n",
       "    <tr>\n",
       "      <th>2</th>\n",
       "      <td>156731.0</td>\n",
       "      <td>1952-03-01</td>\n",
       "    </tr>\n",
       "    <tr>\n",
       "      <th>3</th>\n",
       "      <td>156943.0</td>\n",
       "      <td>1952-04-01</td>\n",
       "    </tr>\n",
       "    <tr>\n",
       "      <th>4</th>\n",
       "      <td>157140.0</td>\n",
       "      <td>1952-05-01</td>\n",
       "    </tr>\n",
       "  </tbody>\n",
       "</table>\n",
       "</div>"
      ],
      "text/plain": [
       "      value        date\n",
       "0  156309.0  1952-01-01\n",
       "1  156527.0  1952-02-01\n",
       "2  156731.0  1952-03-01\n",
       "3  156943.0  1952-04-01\n",
       "4  157140.0  1952-05-01"
      ]
     },
     "execution_count": 10,
     "metadata": {},
     "output_type": "execute_result"
    }
   ],
   "source": [
    "dataset = dataset[[\"value\", \"date\"]]\n",
    "dataset.head()"
   ]
  },
  {
   "cell_type": "code",
   "execution_count": 16,
   "id": "80255c9c-8905-4e72-8b55-920e2715c428",
   "metadata": {},
   "outputs": [],
   "source": [
    "offset = len(dataset) - 24"
   ]
  },
  {
   "cell_type": "code",
   "execution_count": 17,
   "id": "b52a3a10-b035-4e37-8551-bbcf5a703564",
   "metadata": {},
   "outputs": [
    {
     "data": {
      "image/png": "[encoded data removed]",
      "text/plain": [
       "<Figure size 1000x700 with 1 Axes>"
      ]
     },
     "metadata": {},
     "output_type": "display_data"
    }
   ],
   "source": [
    "plt.figure(figsize=(10, 7))\n",
    "plt.plot(dataset[\"date\"][offset:], dataset[\"value\"][offset:])\n",
    "plt.xlabel(\"Time\")\n",
    "plt.ylabel(\"Total Population\")\n",
    "plt.xticks(rotation=90)\n",
    "plt.show()"
   ]
  },
  {
   "cell_type": "code",
   "execution_count": 18,
   "id": "e4c78361-1145-410f-8039-f1331947ff3d",
   "metadata": {},
   "outputs": [],
   "source": [
    "WINDOW = 12\n",
    "HORIZON = 1"
   ]
  },
  {
   "cell_type": "code",
   "execution_count": 20,
   "id": "a2a865e9-f3ef-48e5-b60d-d6b64d03dac7",
   "metadata": {},
   "outputs": [
    {
     "data": {
      "text/html": [
       "<div>\n",
       "<style scoped>\n",
       "    .dataframe tbody tr th:only-of-type {\n",
       "        vertical-align: middle;\n",
       "    }\n",
       "\n",
       "    .dataframe tbody tr th {\n",
       "        vertical-align: top;\n",
       "    }\n",
       "\n",
       "    .dataframe thead th {\n",
       "        text-align: right;\n",
       "    }\n",
       "</style>\n",
       "<table border=\"1\" class=\"dataframe\">\n",
       "  <thead>\n",
       "    <tr style=\"text-align: right;\">\n",
       "      <th></th>\n",
       "      <th>date</th>\n",
       "      <th>value</th>\n",
       "    </tr>\n",
       "  </thead>\n",
       "  <tbody>\n",
       "    <tr>\n",
       "      <th>0</th>\n",
       "      <td>1952-01-01</td>\n",
       "      <td>156309.0</td>\n",
       "    </tr>\n",
       "    <tr>\n",
       "      <th>1</th>\n",
       "      <td>1952-02-01</td>\n",
       "      <td>156527.0</td>\n",
       "    </tr>\n",
       "    <tr>\n",
       "      <th>2</th>\n",
       "      <td>1952-03-01</td>\n",
       "      <td>156731.0</td>\n",
       "    </tr>\n",
       "    <tr>\n",
       "      <th>3</th>\n",
       "      <td>1952-04-01</td>\n",
       "      <td>156943.0</td>\n",
       "    </tr>\n",
       "    <tr>\n",
       "      <th>4</th>\n",
       "      <td>1952-05-01</td>\n",
       "      <td>157140.0</td>\n",
       "    </tr>\n",
       "  </tbody>\n",
       "</table>\n",
       "</div>"
      ],
      "text/plain": [
       "         date     value\n",
       "0  1952-01-01  156309.0\n",
       "1  1952-02-01  156527.0\n",
       "2  1952-03-01  156731.0\n",
       "3  1952-04-01  156943.0\n",
       "4  1952-05-01  157140.0"
      ]
     },
     "execution_count": 20,
     "metadata": {},
     "output_type": "execute_result"
    }
   ],
   "source": [
    "dataset = dataset[[\"date\", \"value\"]]\n",
    "dataset.head()"
   ]
  },
  {
   "cell_type": "code",
   "execution_count": 22,
   "id": "baa22113-4853-419f-9168-5ba5ad6b3215",
   "metadata": {},
   "outputs": [
    {
     "data": {
      "text/html": [
       "<div>\n",
       "<style scoped>\n",
       "    .dataframe tbody tr th:only-of-type {\n",
       "        vertical-align: middle;\n",
       "    }\n",
       "\n",
       "    .dataframe tbody tr th {\n",
       "        vertical-align: top;\n",
       "    }\n",
       "\n",
       "    .dataframe thead th {\n",
       "        text-align: right;\n",
       "    }\n",
       "</style>\n",
       "<table border=\"1\" class=\"dataframe\">\n",
       "  <thead>\n",
       "    <tr style=\"text-align: right;\">\n",
       "      <th></th>\n",
       "      <th>date</th>\n",
       "      <th>value</th>\n",
       "      <th>value_1</th>\n",
       "      <th>value_2</th>\n",
       "      <th>value_3</th>\n",
       "      <th>value_4</th>\n",
       "      <th>value_5</th>\n",
       "      <th>value_6</th>\n",
       "      <th>value_7</th>\n",
       "      <th>value_8</th>\n",
       "      <th>value_9</th>\n",
       "      <th>value_10</th>\n",
       "      <th>value_11</th>\n",
       "      <th>value_12</th>\n",
       "    </tr>\n",
       "  </thead>\n",
       "  <tbody>\n",
       "    <tr>\n",
       "      <th>0</th>\n",
       "      <td>1952-01-01</td>\n",
       "      <td>156309.0</td>\n",
       "      <td>NaN</td>\n",
       "      <td>NaN</td>\n",
       "      <td>NaN</td>\n",
       "      <td>NaN</td>\n",
       "      <td>NaN</td>\n",
       "      <td>NaN</td>\n",
       "      <td>NaN</td>\n",
       "      <td>NaN</td>\n",
       "      <td>NaN</td>\n",
       "      <td>NaN</td>\n",
       "      <td>NaN</td>\n",
       "      <td>NaN</td>\n",
       "    </tr>\n",
       "    <tr>\n",
       "      <th>1</th>\n",
       "      <td>1952-02-01</td>\n",
       "      <td>156527.0</td>\n",
       "      <td>156309.0</td>\n",
       "      <td>NaN</td>\n",
       "      <td>NaN</td>\n",
       "      <td>NaN</td>\n",
       "      <td>NaN</td>\n",
       "      <td>NaN</td>\n",
       "      <td>NaN</td>\n",
       "      <td>NaN</td>\n",
       "      <td>NaN</td>\n",
       "      <td>NaN</td>\n",
       "      <td>NaN</td>\n",
       "      <td>NaN</td>\n",
       "    </tr>\n",
       "    <tr>\n",
       "      <th>2</th>\n",
       "      <td>1952-03-01</td>\n",
       "      <td>156731.0</td>\n",
       "      <td>156527.0</td>\n",
       "      <td>156309.0</td>\n",
       "      <td>NaN</td>\n",
       "      <td>NaN</td>\n",
       "      <td>NaN</td>\n",
       "      <td>NaN</td>\n",
       "      <td>NaN</td>\n",
       "      <td>NaN</td>\n",
       "      <td>NaN</td>\n",
       "      <td>NaN</td>\n",
       "      <td>NaN</td>\n",
       "      <td>NaN</td>\n",
       "    </tr>\n",
       "    <tr>\n",
       "      <th>3</th>\n",
       "      <td>1952-04-01</td>\n",
       "      <td>156943.0</td>\n",
       "      <td>156731.0</td>\n",
       "      <td>156527.0</td>\n",
       "      <td>156309.0</td>\n",
       "      <td>NaN</td>\n",
       "      <td>NaN</td>\n",
       "      <td>NaN</td>\n",
       "      <td>NaN</td>\n",
       "      <td>NaN</td>\n",
       "      <td>NaN</td>\n",
       "      <td>NaN</td>\n",
       "      <td>NaN</td>\n",
       "      <td>NaN</td>\n",
       "    </tr>\n",
       "    <tr>\n",
       "      <th>4</th>\n",
       "      <td>1952-05-01</td>\n",
       "      <td>157140.0</td>\n",
       "      <td>156943.0</td>\n",
       "      <td>156731.0</td>\n",
       "      <td>156527.0</td>\n",
       "      <td>156309.0</td>\n",
       "      <td>NaN</td>\n",
       "      <td>NaN</td>\n",
       "      <td>NaN</td>\n",
       "      <td>NaN</td>\n",
       "      <td>NaN</td>\n",
       "      <td>NaN</td>\n",
       "      <td>NaN</td>\n",
       "      <td>NaN</td>\n",
       "    </tr>\n",
       "    <tr>\n",
       "      <th>5</th>\n",
       "      <td>1952-06-01</td>\n",
       "      <td>157343.0</td>\n",
       "      <td>157140.0</td>\n",
       "      <td>156943.0</td>\n",
       "      <td>156731.0</td>\n",
       "      <td>156527.0</td>\n",
       "      <td>156309.0</td>\n",
       "      <td>NaN</td>\n",
       "      <td>NaN</td>\n",
       "      <td>NaN</td>\n",
       "      <td>NaN</td>\n",
       "      <td>NaN</td>\n",
       "      <td>NaN</td>\n",
       "      <td>NaN</td>\n",
       "    </tr>\n",
       "    <tr>\n",
       "      <th>6</th>\n",
       "      <td>1952-07-01</td>\n",
       "      <td>157553.0</td>\n",
       "      <td>157343.0</td>\n",
       "      <td>157140.0</td>\n",
       "      <td>156943.0</td>\n",
       "      <td>156731.0</td>\n",
       "      <td>156527.0</td>\n",
       "      <td>156309.0</td>\n",
       "      <td>NaN</td>\n",
       "      <td>NaN</td>\n",
       "      <td>NaN</td>\n",
       "      <td>NaN</td>\n",
       "      <td>NaN</td>\n",
       "      <td>NaN</td>\n",
       "    </tr>\n",
       "    <tr>\n",
       "      <th>7</th>\n",
       "      <td>1952-08-01</td>\n",
       "      <td>157798.0</td>\n",
       "      <td>157553.0</td>\n",
       "      <td>157343.0</td>\n",
       "      <td>157140.0</td>\n",
       "      <td>156943.0</td>\n",
       "      <td>156731.0</td>\n",
       "      <td>156527.0</td>\n",
       "      <td>156309.0</td>\n",
       "      <td>NaN</td>\n",
       "      <td>NaN</td>\n",
       "      <td>NaN</td>\n",
       "      <td>NaN</td>\n",
       "      <td>NaN</td>\n",
       "    </tr>\n",
       "    <tr>\n",
       "      <th>8</th>\n",
       "      <td>1952-09-01</td>\n",
       "      <td>158053.0</td>\n",
       "      <td>157798.0</td>\n",
       "      <td>157553.0</td>\n",
       "      <td>157343.0</td>\n",
       "      <td>157140.0</td>\n",
       "      <td>156943.0</td>\n",
       "      <td>156731.0</td>\n",
       "      <td>156527.0</td>\n",
       "      <td>156309.0</td>\n",
       "      <td>NaN</td>\n",
       "      <td>NaN</td>\n",
       "      <td>NaN</td>\n",
       "      <td>NaN</td>\n",
       "    </tr>\n",
       "    <tr>\n",
       "      <th>9</th>\n",
       "      <td>1952-10-01</td>\n",
       "      <td>158306.0</td>\n",
       "      <td>158053.0</td>\n",
       "      <td>157798.0</td>\n",
       "      <td>157553.0</td>\n",
       "      <td>157343.0</td>\n",
       "      <td>157140.0</td>\n",
       "      <td>156943.0</td>\n",
       "      <td>156731.0</td>\n",
       "      <td>156527.0</td>\n",
       "      <td>156309.0</td>\n",
       "      <td>NaN</td>\n",
       "      <td>NaN</td>\n",
       "      <td>NaN</td>\n",
       "    </tr>\n",
       "    <tr>\n",
       "      <th>10</th>\n",
       "      <td>1952-11-01</td>\n",
       "      <td>158451.0</td>\n",
       "      <td>158306.0</td>\n",
       "      <td>158053.0</td>\n",
       "      <td>157798.0</td>\n",
       "      <td>157553.0</td>\n",
       "      <td>157343.0</td>\n",
       "      <td>157140.0</td>\n",
       "      <td>156943.0</td>\n",
       "      <td>156731.0</td>\n",
       "      <td>156527.0</td>\n",
       "      <td>156309.0</td>\n",
       "      <td>NaN</td>\n",
       "      <td>NaN</td>\n",
       "    </tr>\n",
       "    <tr>\n",
       "      <th>11</th>\n",
       "      <td>1952-12-01</td>\n",
       "      <td>158757.0</td>\n",
       "      <td>158451.0</td>\n",
       "      <td>158306.0</td>\n",
       "      <td>158053.0</td>\n",
       "      <td>157798.0</td>\n",
       "      <td>157553.0</td>\n",
       "      <td>157343.0</td>\n",
       "      <td>157140.0</td>\n",
       "      <td>156943.0</td>\n",
       "      <td>156731.0</td>\n",
       "      <td>156527.0</td>\n",
       "      <td>156309.0</td>\n",
       "      <td>NaN</td>\n",
       "    </tr>\n",
       "    <tr>\n",
       "      <th>12</th>\n",
       "      <td>1953-01-01</td>\n",
       "      <td>158973.0</td>\n",
       "      <td>158757.0</td>\n",
       "      <td>158451.0</td>\n",
       "      <td>158306.0</td>\n",
       "      <td>158053.0</td>\n",
       "      <td>157798.0</td>\n",
       "      <td>157553.0</td>\n",
       "      <td>157343.0</td>\n",
       "      <td>157140.0</td>\n",
       "      <td>156943.0</td>\n",
       "      <td>156731.0</td>\n",
       "      <td>156527.0</td>\n",
       "      <td>156309.0</td>\n",
       "    </tr>\n",
       "    <tr>\n",
       "      <th>13</th>\n",
       "      <td>1953-02-01</td>\n",
       "      <td>159170.0</td>\n",
       "      <td>158973.0</td>\n",
       "      <td>158757.0</td>\n",
       "      <td>158451.0</td>\n",
       "      <td>158306.0</td>\n",
       "      <td>158053.0</td>\n",
       "      <td>157798.0</td>\n",
       "      <td>157553.0</td>\n",
       "      <td>157343.0</td>\n",
       "      <td>157140.0</td>\n",
       "      <td>156943.0</td>\n",
       "      <td>156731.0</td>\n",
       "      <td>156527.0</td>\n",
       "    </tr>\n",
       "    <tr>\n",
       "      <th>14</th>\n",
       "      <td>1953-03-01</td>\n",
       "      <td>159349.0</td>\n",
       "      <td>159170.0</td>\n",
       "      <td>158973.0</td>\n",
       "      <td>158757.0</td>\n",
       "      <td>158451.0</td>\n",
       "      <td>158306.0</td>\n",
       "      <td>158053.0</td>\n",
       "      <td>157798.0</td>\n",
       "      <td>157553.0</td>\n",
       "      <td>157343.0</td>\n",
       "      <td>157140.0</td>\n",
       "      <td>156943.0</td>\n",
       "      <td>156731.0</td>\n",
       "    </tr>\n",
       "    <tr>\n",
       "      <th>15</th>\n",
       "      <td>1953-04-01</td>\n",
       "      <td>159556.0</td>\n",
       "      <td>159349.0</td>\n",
       "      <td>159170.0</td>\n",
       "      <td>158973.0</td>\n",
       "      <td>158757.0</td>\n",
       "      <td>158451.0</td>\n",
       "      <td>158306.0</td>\n",
       "      <td>158053.0</td>\n",
       "      <td>157798.0</td>\n",
       "      <td>157553.0</td>\n",
       "      <td>157343.0</td>\n",
       "      <td>157140.0</td>\n",
       "      <td>156943.0</td>\n",
       "    </tr>\n",
       "    <tr>\n",
       "      <th>16</th>\n",
       "      <td>1953-05-01</td>\n",
       "      <td>159745.0</td>\n",
       "      <td>159556.0</td>\n",
       "      <td>159349.0</td>\n",
       "      <td>159170.0</td>\n",
       "      <td>158973.0</td>\n",
       "      <td>158757.0</td>\n",
       "      <td>158451.0</td>\n",
       "      <td>158306.0</td>\n",
       "      <td>158053.0</td>\n",
       "      <td>157798.0</td>\n",
       "      <td>157553.0</td>\n",
       "      <td>157343.0</td>\n",
       "      <td>157140.0</td>\n",
       "    </tr>\n",
       "    <tr>\n",
       "      <th>17</th>\n",
       "      <td>1953-06-01</td>\n",
       "      <td>159956.0</td>\n",
       "      <td>159745.0</td>\n",
       "      <td>159556.0</td>\n",
       "      <td>159349.0</td>\n",
       "      <td>159170.0</td>\n",
       "      <td>158973.0</td>\n",
       "      <td>158757.0</td>\n",
       "      <td>158451.0</td>\n",
       "      <td>158306.0</td>\n",
       "      <td>158053.0</td>\n",
       "      <td>157798.0</td>\n",
       "      <td>157553.0</td>\n",
       "      <td>157343.0</td>\n",
       "    </tr>\n",
       "    <tr>\n",
       "      <th>18</th>\n",
       "      <td>1953-07-01</td>\n",
       "      <td>160184.0</td>\n",
       "      <td>159956.0</td>\n",
       "      <td>159745.0</td>\n",
       "      <td>159556.0</td>\n",
       "      <td>159349.0</td>\n",
       "      <td>159170.0</td>\n",
       "      <td>158973.0</td>\n",
       "      <td>158757.0</td>\n",
       "      <td>158451.0</td>\n",
       "      <td>158306.0</td>\n",
       "      <td>158053.0</td>\n",
       "      <td>157798.0</td>\n",
       "      <td>157553.0</td>\n",
       "    </tr>\n",
       "    <tr>\n",
       "      <th>19</th>\n",
       "      <td>1953-08-01</td>\n",
       "      <td>160449.0</td>\n",
       "      <td>160184.0</td>\n",
       "      <td>159956.0</td>\n",
       "      <td>159745.0</td>\n",
       "      <td>159556.0</td>\n",
       "      <td>159349.0</td>\n",
       "      <td>159170.0</td>\n",
       "      <td>158973.0</td>\n",
       "      <td>158757.0</td>\n",
       "      <td>158451.0</td>\n",
       "      <td>158306.0</td>\n",
       "      <td>158053.0</td>\n",
       "      <td>157798.0</td>\n",
       "    </tr>\n",
       "  </tbody>\n",
       "</table>\n",
       "</div>"
      ],
      "text/plain": [
       "          date     value   value_1   value_2   value_3   value_4   value_5  \\\n",
       "0   1952-01-01  156309.0       NaN       NaN       NaN       NaN       NaN   \n",
       "1   1952-02-01  156527.0  156309.0       NaN       NaN       NaN       NaN   \n",
       "2   1952-03-01  156731.0  156527.0  156309.0       NaN       NaN       NaN   \n",
       "3   1952-04-01  156943.0  156731.0  156527.0  156309.0       NaN       NaN   \n",
       "4   1952-05-01  157140.0  156943.0  156731.0  156527.0  156309.0       NaN   \n",
       "5   1952-06-01  157343.0  157140.0  156943.0  156731.0  156527.0  156309.0   \n",
       "6   1952-07-01  157553.0  157343.0  157140.0  156943.0  156731.0  156527.0   \n",
       "7   1952-08-01  157798.0  157553.0  157343.0  157140.0  156943.0  156731.0   \n",
       "8   1952-09-01  158053.0  157798.0  157553.0  157343.0  157140.0  156943.0   \n",
       "9   1952-10-01  158306.0  158053.0  157798.0  157553.0  157343.0  157140.0   \n",
       "10  1952-11-01  158451.0  158306.0  158053.0  157798.0  157553.0  157343.0   \n",
       "11  1952-12-01  158757.0  158451.0  158306.0  158053.0  157798.0  157553.0   \n",
       "12  1953-01-01  158973.0  158757.0  158451.0  158306.0  158053.0  157798.0   \n",
       "13  1953-02-01  159170.0  158973.0  158757.0  158451.0  158306.0  158053.0   \n",
       "14  1953-03-01  159349.0  159170.0  158973.0  158757.0  158451.0  158306.0   \n",
       "15  1953-04-01  159556.0  159349.0  159170.0  158973.0  158757.0  158451.0   \n",
       "16  1953-05-01  159745.0  159556.0  159349.0  159170.0  158973.0  158757.0   \n",
       "17  1953-06-01  159956.0  159745.0  159556.0  159349.0  159170.0  158973.0   \n",
       "18  1953-07-01  160184.0  159956.0  159745.0  159556.0  159349.0  159170.0   \n",
       "19  1953-08-01  160449.0  160184.0  159956.0  159745.0  159556.0  159349.0   \n",
       "\n",
       "     value_6   value_7   value_8   value_9  value_10  value_11  value_12  \n",
       "0        NaN       NaN       NaN       NaN       NaN       NaN       NaN  \n",
       "1        NaN       NaN       NaN       NaN       NaN       NaN       NaN  \n",
       "2        NaN       NaN       NaN       NaN       NaN       NaN       NaN  \n",
       "3        NaN       NaN       NaN       NaN       NaN       NaN       NaN  \n",
       "4        NaN       NaN       NaN       NaN       NaN       NaN       NaN  \n",
       "5        NaN       NaN       NaN       NaN       NaN       NaN       NaN  \n",
       "6   156309.0       NaN       NaN       NaN       NaN       NaN       NaN  \n",
       "7   156527.0  156309.0       NaN       NaN       NaN       NaN       NaN  \n",
       "8   156731.0  156527.0  156309.0       NaN       NaN       NaN       NaN  \n",
       "9   156943.0  156731.0  156527.0  156309.0       NaN       NaN       NaN  \n",
       "10  157140.0  156943.0  156731.0  156527.0  156309.0       NaN       NaN  \n",
       "11  157343.0  157140.0  156943.0  156731.0  156527.0  156309.0       NaN  \n",
       "12  157553.0  157343.0  157140.0  156943.0  156731.0  156527.0  156309.0  \n",
       "13  157798.0  157553.0  157343.0  157140.0  156943.0  156731.0  156527.0  \n",
       "14  158053.0  157798.0  157553.0  157343.0  157140.0  156943.0  156731.0  \n",
       "15  158306.0  158053.0  157798.0  157553.0  157343.0  157140.0  156943.0  \n",
       "16  158451.0  158306.0  158053.0  157798.0  157553.0  157343.0  157140.0  \n",
       "17  158757.0  158451.0  158306.0  158053.0  157798.0  157553.0  157343.0  \n",
       "18  158973.0  158757.0  158451.0  158306.0  158053.0  157798.0  157553.0  \n",
       "19  159170.0  158973.0  158757.0  158451.0  158306.0  158053.0  157798.0  "
      ]
     },
     "execution_count": 22,
     "metadata": {},
     "output_type": "execute_result"
    }
   ],
   "source": [
    "dataset_windowed = dataset.copy()\n",
    "for i in range(WINDOW):\n",
    "    dataset_windowed[f\"value_{i+1}\"] = dataset_windowed[\"value\"].shift(periods=i+1)\n",
    "dataset_windowed.head(20)"
   ]
  },
  {
   "cell_type": "code",
   "execution_count": 23,
   "id": "ad8094fd-945f-4b7c-b4ca-938967efdcb4",
   "metadata": {},
   "outputs": [
    {
     "data": {
      "text/plain": [
       "816"
      ]
     },
     "execution_count": 23,
     "metadata": {},
     "output_type": "execute_result"
    }
   ],
   "source": [
    "len(dataset_windowed)"
   ]
  },
  {
   "cell_type": "code",
   "execution_count": 25,
   "id": "75a3bf4e-7a6a-404a-a5fb-e3b296fb5b93",
   "metadata": {},
   "outputs": [],
   "source": [
    "X = dataset_windowed.dropna().drop([\"date\", \"value\"], axis = 1).to_numpy()\n",
    "y = dataset_windowed.dropna()[\"value\"].to_numpy()"
   ]
  },
  {
   "cell_type": "code",
   "execution_count": 26,
   "id": "5043024d-ccf4-4305-8478-6216375f1ddc",
   "metadata": {},
   "outputs": [
    {
     "data": {
      "text/plain": [
       "(804, 804)"
      ]
     },
     "execution_count": 26,
     "metadata": {},
     "output_type": "execute_result"
    }
   ],
   "source": [
    "len(X), len(y)"
   ]
  },
  {
   "cell_type": "code",
   "execution_count": 27,
   "id": "cb33f2c6-afbb-4e14-8b2f-fd1a142520c3",
   "metadata": {},
   "outputs": [],
   "source": [
    "split_size = int(len(X) * 0.8)\n",
    "X_train, y_train = tf.cast(X[:split_size], dtype=tf.float32), tf.cast(y[:split_size], dtype=tf.float32)\n",
    "X_test, y_test = tf.cast(X[split_size:], dtype=tf.float32), tf.cast(y[split_size:], dtype=tf.float32)"
   ]
  },
  {
   "cell_type": "code",
   "execution_count": 28,
   "id": "d2fa45b9-7843-45aa-8cdd-633474dcbb7c",
   "metadata": {},
   "outputs": [
    {
     "data": {
      "text/plain": [
       "(643, 643, 161, 161)"
      ]
     },
     "execution_count": 28,
     "metadata": {},
     "output_type": "execute_result"
    }
   ],
   "source": [
    "len(X_train), len(y_train), len(X_test), len(y_test)"
   ]
  },
  {
   "cell_type": "code",
   "execution_count": 29,
   "id": "3fcff879-b0fa-4e56-a1fe-dc189e51e601",
   "metadata": {},
   "outputs": [
    {
     "data": {
      "text/plain": [
       "<tf.Tensor: shape=(5, 12), dtype=float32, numpy=\n",
       "array([[158757., 158451., 158306., 158053., 157798., 157553., 157343.,\n",
       "        157140., 156943., 156731., 156527., 156309.],\n",
       "       [158973., 158757., 158451., 158306., 158053., 157798., 157553.,\n",
       "        157343., 157140., 156943., 156731., 156527.],\n",
       "       [159170., 158973., 158757., 158451., 158306., 158053., 157798.,\n",
       "        157553., 157343., 157140., 156943., 156731.],\n",
       "       [159349., 159170., 158973., 158757., 158451., 158306., 158053.,\n",
       "        157798., 157553., 157343., 157140., 156943.],\n",
       "       [159556., 159349., 159170., 158973., 158757., 158451., 158306.,\n",
       "        158053., 157798., 157553., 157343., 157140.]], dtype=float32)>"
      ]
     },
     "execution_count": 29,
     "metadata": {},
     "output_type": "execute_result"
    }
   ],
   "source": [
    "X_train[:5]"
   ]
  },
  {
   "cell_type": "code",
   "execution_count": 30,
   "id": "c3e3c663-8611-4632-88da-3e41d4b84e34",
   "metadata": {},
   "outputs": [
    {
     "data": {
      "text/plain": [
       "<tf.Tensor: shape=(5,), dtype=float32, numpy=array([158973., 159170., 159349., 159556., 159745.], dtype=float32)>"
      ]
     },
     "execution_count": 30,
     "metadata": {},
     "output_type": "execute_result"
    }
   ],
   "source": [
    "y_train[:5]"
   ]
  },
  {
   "cell_type": "markdown",
   "id": "773dba34-33bd-469a-b66c-8b99a3402ed3",
   "metadata": {},
   "source": [
    "## Trailing window vs Centered Window"
   ]
  },
  {
   "cell_type": "code",
   "execution_count": 36,
   "id": "3b25c21e-d61c-47d4-ba59-0887c50ca95f",
   "metadata": {},
   "outputs": [
    {
     "name": "stdout",
     "output_type": "stream",
     "text": [
      "Trailing Windows:\n",
      " [[ 1  2  3  4  5  6  7  8  9 10 11 12]\n",
      " [ 2  3  4  5  6  7  8  9 10 11 12 13]\n",
      " [ 3  4  5  6  7  8  9 10 11 12 13 14]\n",
      " [ 4  5  6  7  8  9 10 11 12 13 14 15]\n",
      " [ 5  6  7  8  9 10 11 12 13 14 15 16]\n",
      " [ 6  7  8  9 10 11 12 13 14 15 16 17]\n",
      " [ 7  8  9 10 11 12 13 14 15 16 17 18]\n",
      " [ 8  9 10 11 12 13 14 15 16 17 18 19]]\n",
      "Trailing Targets: [13 14 15 16 17 18 19 20]\n",
      "Centered Windows:\n",
      " [[ 1  2  3  4  5  6  7  8  9 10 11 12 13]\n",
      " [ 2  3  4  5  6  7  8  9 10 11 12 13 14]\n",
      " [ 3  4  5  6  7  8  9 10 11 12 13 14 15]\n",
      " [ 4  5  6  7  8  9 10 11 12 13 14 15 16]\n",
      " [ 5  6  7  8  9 10 11 12 13 14 15 16 17]\n",
      " [ 6  7  8  9 10 11 12 13 14 15 16 17 18]\n",
      " [ 7  8  9 10 11 12 13 14 15 16 17 18 19]\n",
      " [ 8  9 10 11 12 13 14 15 16 17 18 19 20]]\n",
      "Centered Targets: [ 7  8  9 10 11 12 13 14]\n"
     ]
    }
   ],
   "source": [
    "def create_trailing_window(data, window_size, horizon):\n",
    "    \"\"\"\n",
    "    Creates trailing windows and corresponding horizons.\n",
    "\n",
    "    Parameters:\n",
    "    - data: list or array, the input time series data.\n",
    "    - window_size: int, size of the trailing window.\n",
    "    - horizon: int, the number of steps to look ahead.\n",
    "\n",
    "    Returns:\n",
    "    - windows: list of arrays, trailing windows.\n",
    "    - horizons: list, corresponding horizons.\n",
    "    \"\"\"\n",
    "    windows = []\n",
    "    horizons = []\n",
    "\n",
    "    for i in range(len(data) - window_size - horizon + 1):\n",
    "        window = data[i:i + window_size]\n",
    "        target = data[i + window_size:i + window_size + horizon]\n",
    "\n",
    "        windows.append(window)\n",
    "        horizons.append(target)\n",
    "\n",
    "    return windows, horizons\n",
    "\n",
    "def create_centered_window(data, window_size, horizon):\n",
    "    \"\"\"\n",
    "    Creates centered windows and corresponding horizons.\n",
    "\n",
    "    Parameters:\n",
    "    - data: list or array, the input time series data.\n",
    "    - window_size: int, size of the centered window.\n",
    "    - horizon: int, the number of steps to look ahead.\n",
    "\n",
    "    Returns:\n",
    "    - windows: list of arrays, centered windows.\n",
    "    - horizons: list, corresponding horizons.\n",
    "    \"\"\"\n",
    "    windows = []\n",
    "    horizons = []\n",
    "\n",
    "    for i in range(len(data) - window_size - horizon + 1):\n",
    "        center_index = i + window_size // 2\n",
    "        window = data[center_index - window_size // 2:center_index + window_size // 2]\n",
    "        target = data[center_index:center_index + horizon]\n",
    "\n",
    "        windows.append(window)\n",
    "        horizons.append(target)\n",
    "\n",
    "    return windows, horizons\n",
    "\n",
    "# Example usage:\n",
    "time_series_data = np.array([1, 2, 3, 4, 5, 6, 7, 8, 9, 10, 11, 12, 13, 14, 15, 16, 17, 18, 19, 20])\n",
    "\n",
    "window_size = 12\n",
    "horizon = 1\n",
    "\n",
    "trailing_windows, trailing_targets = create_trailing_window(time_series_data, window_size, horizon)\n",
    "centered_windows, centered_targets = create_centered_window(time_series_data, window_size, horizon)\n",
    "\n",
    "print(\"\\nTrailing Windows\\n\")\n",
    "for trailing_windows, trailing_targets in zip(trailing_windows, trailing_targets):\n",
    "    print(\"Window:\", trailing_windows, \"| Target:\", trailing_targets)\n",
    "\n",
    "print(\"\\nCentered Windows\\n\")\n",
    "for centered_windows, centered_targets in zip(centered_windows, centered_targets):\n",
    "    print(\"Window:\", centered_windows, \"| Target:\", centered_targets)"
   ]
  },
  {
   "cell_type": "code",
   "execution_count": 37,
   "id": "59752079-2e1e-4578-8da8-c146a24ea0f7",
   "metadata": {},
   "outputs": [
    {
     "data": {
      "text/plain": [
       "array([156309., 156527., 156731.])"
      ]
     },
     "execution_count": 37,
     "metadata": {},
     "output_type": "execute_result"
    }
   ],
   "source": [
    "population_value = dataset[\"value\"].to_numpy()\n",
    "population_value[:3]"
   ]
  },
  {
   "cell_type": "code",
   "execution_count": 42,
   "id": "0438563c-1264-4673-beb2-13dfedf9e5a2",
   "metadata": {},
   "outputs": [],
   "source": [
    "population_value_centered_windows, population_value_centered_targets = create_centered_window(population_value, WINDOW, HORIZON)"
   ]
  },
  {
   "cell_type": "code",
   "execution_count": 43,
   "id": "f6b014a8-5d04-4ddb-8203-68cad0ab6663",
   "metadata": {},
   "outputs": [
    {
     "data": {
      "text/plain": [
       "array([157553., 157798., 158053., 158306., 158451.])"
      ]
     },
     "execution_count": 43,
     "metadata": {},
     "output_type": "execute_result"
    }
   ],
   "source": [
    "population_value_centered_targets[:5]"
   ]
  },
  {
   "cell_type": "code",
   "execution_count": 104,
   "id": "25836ad4-fd7e-4dd0-bb61-66a62c05bd5f",
   "metadata": {},
   "outputs": [],
   "source": [
    "# Callbacks\n",
    "import os\n",
    "import datetime\n",
    "\n",
    "LOGS_PATH = \"model_logs/population\"\n",
    "CHECKPOINT_PATH = \"model_experiments/population\"\n",
    "\n",
    "def tensorboard(model_name):\n",
    "    return tf.keras.callbacks.TensorBoard(os.path.join(LOGS_PATH, \n",
    "                                                       model_name, \n",
    "                                                       datetime.datetime.now().strftime(\"%Y%m%d-%H%M%S\")))\n",
    "\n",
    "def checkpoint(model_name):\n",
    "    return tf.keras.callbacks.ModelCheckpoint(filepath=os.path.join(CHECKPOINT_PATH, model_name), \n",
    "                                              save_best_only=True, \n",
    "                                              monitor=\"val_loss\")\n",
    "\n",
    "early_stopping = tf.keras.callbacks.EarlyStopping(monitor=\"val_loss\", \n",
    "                                                  patience=10, \n",
    "                                                  restore_best_weights=True)\n",
    "\n",
    "reduce_lr = tf.keras.callbacks.ReduceLROnPlateau(monitor=\"val_loss\", \n",
    "                                                 factor=0.2, \n",
    "                                                 min_lr=1e-5, \n",
    "                                                 patience=5)\n",
    "\n",
    "lr_scheduler = tf.keras.callbacks.LearningRateScheduler(lambda epoch: 1e-4 * 10 ** (epoch/20))"
   ]
  },
  {
   "cell_type": "code",
   "execution_count": 45,
   "id": "92d1a531-1049-46d6-bbfd-90ac511ea509",
   "metadata": {
    "scrolled": true
   },
   "outputs": [
    {
     "name": "stdout",
     "output_type": "stream",
     "text": [
      "Epoch 1/100\n",
      "21/21 [==============================] - ETA: 0s - loss: 68578.0000INFO:tensorflow:Assets written to: model_experiments/population\\model_1\\assets\n",
      "21/21 [==============================] - 2s 51ms/step - loss: 68578.0000 - val_loss: 24332.5801 - lr: 0.0010\n",
      "Epoch 2/100\n",
      "16/21 [=====================>........] - ETA: 0s - loss: 5854.6860 INFO:tensorflow:Assets written to: model_experiments/population\\model_1\\assets\n",
      "21/21 [==============================] - 1s 28ms/step - loss: 5020.1406 - val_loss: 2899.8564 - lr: 0.0010\n",
      "Epoch 3/100\n",
      "21/21 [==============================] - 0s 6ms/step - loss: 1782.1257 - val_loss: 4281.7393 - lr: 0.0010\n",
      "Epoch 4/100\n",
      "20/21 [===========================>..] - ETA: 0s - loss: 3562.1375INFO:tensorflow:Assets written to: model_experiments/population\\model_1\\assets\n",
      "21/21 [==============================] - 1s 27ms/step - loss: 3558.4785 - val_loss: 2330.8562 - lr: 0.0010\n",
      "Epoch 5/100\n",
      "21/21 [==============================] - 0s 6ms/step - loss: 1664.8369 - val_loss: 4399.5063 - lr: 0.0010\n",
      "Epoch 6/100\n",
      "21/21 [==============================] - 0s 5ms/step - loss: 1680.7930 - val_loss: 2829.6218 - lr: 0.0010\n",
      "Epoch 7/100\n",
      "19/21 [==========================>...] - ETA: 0s - loss: 1613.3381INFO:tensorflow:Assets written to: model_experiments/population\\model_1\\assets\n",
      "21/21 [==============================] - 1s 29ms/step - loss: 1609.2433 - val_loss: 1909.8767 - lr: 0.0010\n",
      "Epoch 8/100\n",
      "21/21 [==============================] - 0s 6ms/step - loss: 2509.4109 - val_loss: 8260.8203 - lr: 0.0010\n",
      "Epoch 9/100\n",
      "21/21 [==============================] - 0s 6ms/step - loss: 4599.0942 - val_loss: 11411.8340 - lr: 0.0010\n",
      "Epoch 10/100\n",
      "21/21 [==============================] - 0s 6ms/step - loss: 4576.7505 - val_loss: 2950.1526 - lr: 0.0010\n",
      "Epoch 11/100\n",
      "14/21 [===================>..........] - ETA: 0s - loss: 1168.6865INFO:tensorflow:Assets written to: model_experiments/population\\model_1\\assets\n",
      "21/21 [==============================] - 1s 29ms/step - loss: 958.8627 - val_loss: 1045.8204 - lr: 2.0000e-04\n",
      "Epoch 12/100\n",
      "17/21 [=======================>......] - ETA: 0s - loss: 354.4889INFO:tensorflow:Assets written to: model_experiments/population\\model_1\\assets\n",
      "21/21 [==============================] - 1s 28ms/step - loss: 354.8683 - val_loss: 944.8748 - lr: 2.0000e-04\n",
      "Epoch 13/100\n",
      "21/21 [==============================] - 0s 6ms/step - loss: 335.3794 - val_loss: 976.3230 - lr: 2.0000e-04\n",
      "Epoch 14/100\n",
      "16/21 [=====================>........] - ETA: 0s - loss: 303.0492INFO:tensorflow:Assets written to: model_experiments/population\\model_1\\assets\n",
      "21/21 [==============================] - 1s 29ms/step - loss: 298.4188 - val_loss: 379.7946 - lr: 2.0000e-04\n",
      "Epoch 15/100\n",
      "16/21 [=====================>........] - ETA: 0s - loss: 303.3060INFO:tensorflow:Assets written to: model_experiments/population\\model_1\\assets\n",
      "21/21 [==============================] - 1s 29ms/step - loss: 320.4136 - val_loss: 174.3395 - lr: 2.0000e-04\n",
      "Epoch 16/100\n",
      "21/21 [==============================] - 0s 6ms/step - loss: 487.2373 - val_loss: 1062.5707 - lr: 2.0000e-04\n",
      "Epoch 17/100\n",
      "15/21 [====================>.........] - ETA: 0s - loss: 652.2802INFO:tensorflow:Assets written to: model_experiments/population\\model_1\\assets\n",
      "21/21 [==============================] - 1s 29ms/step - loss: 683.2313 - val_loss: 167.0825 - lr: 2.0000e-04\n",
      "Epoch 18/100\n",
      "21/21 [==============================] - 0s 7ms/step - loss: 410.0289 - val_loss: 783.0181 - lr: 2.0000e-04\n",
      "Epoch 19/100\n",
      "21/21 [==============================] - 0s 6ms/step - loss: 300.7034 - val_loss: 697.2260 - lr: 2.0000e-04\n",
      "Epoch 20/100\n",
      "21/21 [==============================] - 0s 6ms/step - loss: 296.6152 - val_loss: 1210.7799 - lr: 2.0000e-04\n",
      "Epoch 21/100\n",
      "21/21 [==============================] - 0s 8ms/step - loss: 299.0117 - val_loss: 918.3647 - lr: 4.0000e-05\n",
      "Epoch 22/100\n",
      "21/21 [==============================] - 0s 7ms/step - loss: 317.4448 - val_loss: 925.8430 - lr: 4.0000e-05\n"
     ]
    }
   ],
   "source": [
    "tf.keras.backend.clear_session()\n",
    "\n",
    "inputs = layers.Input(shape=(WINDOW), dtype=tf.float32)\n",
    "x = layers.Dense(128, activation=\"relu\")(inputs)\n",
    "x = layers.Dense(128, activation=\"relu\")(x)\n",
    "outputs = layers.Dense(HORIZON, activation=None)(x)\n",
    "\n",
    "model_1 = tf.keras.Model(inputs, outputs, name=\"model_1\")\n",
    "\n",
    "model_1.compile(loss=\"mae\",\n",
    "                optimizer=\"adam\")\n",
    "\n",
    "model_1_history = model_1.fit(x=X_train,\n",
    "                              y=y_train,\n",
    "                              validation_data=(X_test, y_test),\n",
    "                              epochs=100,\n",
    "                              callbacks=[tensorboard(model_1.name),\n",
    "                                         checkpoint(model_1.name),\n",
    "                                         early_stopping,\n",
    "                                         reduce_lr])"
   ]
  },
  {
   "cell_type": "code",
   "execution_count": 46,
   "id": "730e0fd3-1d9e-412f-adb1-881af645429c",
   "metadata": {},
   "outputs": [
    {
     "name": "stdout",
     "output_type": "stream",
     "text": [
      "21/21 [==============================] - 0s 2ms/step - loss: 595.8044\n",
      "6/6 [==============================] - 0s 3ms/step - loss: 167.0825\n"
     ]
    },
    {
     "data": {
      "text/plain": [
       "(595.804443359375, 167.08248901367188)"
      ]
     },
     "execution_count": 46,
     "metadata": {},
     "output_type": "execute_result"
    }
   ],
   "source": [
    "model_1.evaluate(X_train, y_train), model_1.evaluate(X_test, y_test)"
   ]
  },
  {
   "cell_type": "code",
   "execution_count": 47,
   "id": "7fc29f04-e0a1-4bbe-b3d6-6b6f9b02aa08",
   "metadata": {},
   "outputs": [
    {
     "name": "stdout",
     "output_type": "stream",
     "text": [
      "Model: \"model_1\"\n",
      "_________________________________________________________________\n",
      " Layer (type)                Output Shape              Param #   \n",
      "=================================================================\n",
      " input_1 (InputLayer)        [(None, 12)]              0         \n",
      "                                                                 \n",
      " dense (Dense)               (None, 128)               1664      \n",
      "                                                                 \n",
      " dense_1 (Dense)             (None, 128)               16512     \n",
      "                                                                 \n",
      " dense_2 (Dense)             (None, 1)                 129       \n",
      "                                                                 \n",
      "=================================================================\n",
      "Total params: 18,305\n",
      "Trainable params: 18,305\n",
      "Non-trainable params: 0\n",
      "_________________________________________________________________\n"
     ]
    }
   ],
   "source": [
    "model_1.summary()"
   ]
  },
  {
   "cell_type": "code",
   "execution_count": 55,
   "id": "1875d266-70be-4773-bf01-1743e51142cd",
   "metadata": {},
   "outputs": [
    {
     "name": "stdout",
     "output_type": "stream",
     "text": [
      "WARNING:tensorflow:Layer lstm_12 will not use cuDNN kernels since it doesn't meet the criteria. It will use a generic GPU kernel as fallback when running on GPU.\n"
     ]
    },
    {
     "name": "stderr",
     "output_type": "stream",
     "text": [
      "WARNING:tensorflow:Layer lstm_12 will not use cuDNN kernels since it doesn't meet the criteria. It will use a generic GPU kernel as fallback when running on GPU.\n"
     ]
    },
    {
     "name": "stdout",
     "output_type": "stream",
     "text": [
      "Model: \"model_2\"\n",
      "_________________________________________________________________\n",
      " Layer (type)                Output Shape              Param #   \n",
      "=================================================================\n",
      " lambda_5 (Lambda)           (None, 1, 12)             0         \n",
      "                                                                 \n",
      " lstm_12 (LSTM)              (None, 128)               72192     \n",
      "                                                                 \n",
      " dense_9 (Dense)             (None, 1)                 129       \n",
      "                                                                 \n",
      "=================================================================\n",
      "Total params: 72,321\n",
      "Trainable params: 72,321\n",
      "Non-trainable params: 0\n",
      "_________________________________________________________________\n"
     ]
    }
   ],
   "source": [
    "model_2 = tf.keras.Sequential([\n",
    "    layers.Input(shape=(WINDOW), dtype=tf.float32),\n",
    "    layers.Lambda(lambda x: tf.expand_dims(x, axis=1)),\n",
    "    layers.LSTM(128, activation=\"relu\"),\n",
    "    layers.Dense(HORIZON, activation=None)\n",
    "], name=\"model_2\")\n",
    "\n",
    "model_2.summary()"
   ]
  },
  {
   "cell_type": "code",
   "execution_count": 56,
   "id": "42c11379-2603-4f3c-ac97-298bfebf213f",
   "metadata": {
    "scrolled": true
   },
   "outputs": [
    {
     "name": "stdout",
     "output_type": "stream",
     "text": [
      "Epoch 1/100\n",
      "21/21 [==============================] - ETA: 0s - loss: 223696.7188"
     ]
    },
    {
     "name": "stderr",
     "output_type": "stream",
     "text": [
      "WARNING:absl:<keras.layers.recurrent.LSTMCell object at 0x000002ADED4B6790> has the same name 'LSTMCell' as a built-in Keras object. Consider renaming <class 'keras.layers.recurrent.LSTMCell'> to avoid naming conflicts when loading with `tf.keras.models.load_model`. If renaming is not possible, pass the object in the `custom_objects` parameter of the load function.\n"
     ]
    },
    {
     "name": "stdout",
     "output_type": "stream",
     "text": [
      "21/21 [==============================] - 3s 101ms/step - loss: 223696.7188 - val_loss: 248361.4844 - lr: 0.0010\n",
      "Epoch 2/100\n",
      "16/21 [=====================>........] - ETA: 0s - loss: 157060.7656"
     ]
    },
    {
     "name": "stderr",
     "output_type": "stream",
     "text": [
      "WARNING:absl:<keras.layers.recurrent.LSTMCell object at 0x000002ADED4B6790> has the same name 'LSTMCell' as a built-in Keras object. Consider renaming <class 'keras.layers.recurrent.LSTMCell'> to avoid naming conflicts when loading with `tf.keras.models.load_model`. If renaming is not possible, pass the object in the `custom_objects` parameter of the load function.\n"
     ]
    },
    {
     "name": "stdout",
     "output_type": "stream",
     "text": [
      "21/21 [==============================] - 2s 90ms/step - loss: 151445.1406 - val_loss: 164914.8750 - lr: 0.0010\n",
      "Epoch 3/100\n",
      "16/21 [=====================>........] - ETA: 0s - loss: 94555.9453 "
     ]
    },
    {
     "name": "stderr",
     "output_type": "stream",
     "text": [
      "WARNING:absl:<keras.layers.recurrent.LSTMCell object at 0x000002ADED4B6790> has the same name 'LSTMCell' as a built-in Keras object. Consider renaming <class 'keras.layers.recurrent.LSTMCell'> to avoid naming conflicts when loading with `tf.keras.models.load_model`. If renaming is not possible, pass the object in the `custom_objects` parameter of the load function.\n"
     ]
    },
    {
     "name": "stdout",
     "output_type": "stream",
     "text": [
      "21/21 [==============================] - 2s 106ms/step - loss: 87189.3594 - val_loss: 60805.8516 - lr: 0.0010\n",
      "Epoch 4/100\n",
      "20/21 [===========================>..] - ETA: 0s - loss: 16775.5625"
     ]
    },
    {
     "name": "stderr",
     "output_type": "stream",
     "text": [
      "WARNING:absl:<keras.layers.recurrent.LSTMCell object at 0x000002ADED4B6790> has the same name 'LSTMCell' as a built-in Keras object. Consider renaming <class 'keras.layers.recurrent.LSTMCell'> to avoid naming conflicts when loading with `tf.keras.models.load_model`. If renaming is not possible, pass the object in the `custom_objects` parameter of the load function.\n"
     ]
    },
    {
     "name": "stdout",
     "output_type": "stream",
     "text": [
      "21/21 [==============================] - 2s 99ms/step - loss: 16730.8730 - val_loss: 8683.4453 - lr: 0.0010\n",
      "Epoch 5/100\n",
      "15/21 [====================>.........] - ETA: 0s - loss: 3500.3264"
     ]
    },
    {
     "name": "stderr",
     "output_type": "stream",
     "text": [
      "WARNING:absl:<keras.layers.recurrent.LSTMCell object at 0x000002ADED4B6790> has the same name 'LSTMCell' as a built-in Keras object. Consider renaming <class 'keras.layers.recurrent.LSTMCell'> to avoid naming conflicts when loading with `tf.keras.models.load_model`. If renaming is not possible, pass the object in the `custom_objects` parameter of the load function.\n"
     ]
    },
    {
     "name": "stdout",
     "output_type": "stream",
     "text": [
      "21/21 [==============================] - 2s 89ms/step - loss: 3142.4531 - val_loss: 1814.0769 - lr: 0.0010\n",
      "Epoch 6/100\n",
      "15/21 [====================>.........] - ETA: 0s - loss: 963.8524 "
     ]
    },
    {
     "name": "stderr",
     "output_type": "stream",
     "text": [
      "WARNING:absl:<keras.layers.recurrent.LSTMCell object at 0x000002ADED4B6790> has the same name 'LSTMCell' as a built-in Keras object. Consider renaming <class 'keras.layers.recurrent.LSTMCell'> to avoid naming conflicts when loading with `tf.keras.models.load_model`. If renaming is not possible, pass the object in the `custom_objects` parameter of the load function.\n"
     ]
    },
    {
     "name": "stdout",
     "output_type": "stream",
     "text": [
      "21/21 [==============================] - 2s 100ms/step - loss: 821.8055 - val_loss: 541.8633 - lr: 0.0010\n",
      "Epoch 7/100\n",
      "21/21 [==============================] - 0s 11ms/step - loss: 273.1161 - val_loss: 684.4581 - lr: 0.0010\n",
      "Epoch 8/100\n",
      "21/21 [==============================] - 0s 11ms/step - loss: 271.9267 - val_loss: 543.6582 - lr: 0.0010\n",
      "Epoch 9/100\n",
      "21/21 [==============================] - 0s 10ms/step - loss: 470.9265 - val_loss: 1132.8888 - lr: 0.0010\n",
      "Epoch 10/100\n",
      "17/21 [=======================>......] - ETA: 0s - loss: 317.7041"
     ]
    },
    {
     "name": "stderr",
     "output_type": "stream",
     "text": [
      "WARNING:absl:<keras.layers.recurrent.LSTMCell object at 0x000002ADED4B6790> has the same name 'LSTMCell' as a built-in Keras object. Consider renaming <class 'keras.layers.recurrent.LSTMCell'> to avoid naming conflicts when loading with `tf.keras.models.load_model`. If renaming is not possible, pass the object in the `custom_objects` parameter of the load function.\n"
     ]
    },
    {
     "name": "stdout",
     "output_type": "stream",
     "text": [
      "21/21 [==============================] - 2s 89ms/step - loss: 309.9008 - val_loss: 382.9185 - lr: 2.0000e-04\n",
      "Epoch 11/100\n",
      "21/21 [==============================] - 0s 10ms/step - loss: 238.8614 - val_loss: 651.4022 - lr: 2.0000e-04\n",
      "Epoch 12/100\n",
      "21/21 [==============================] - 0s 10ms/step - loss: 247.5227 - val_loss: 464.3034 - lr: 2.0000e-04\n",
      "Epoch 13/100\n",
      "21/21 [==============================] - 0s 10ms/step - loss: 244.1484 - val_loss: 533.7888 - lr: 2.0000e-04\n",
      "Epoch 14/100\n",
      "21/21 [==============================] - 0s 10ms/step - loss: 238.3204 - val_loss: 534.8226 - lr: 4.0000e-05\n",
      "Epoch 15/100\n",
      "21/21 [==============================] - 0s 13ms/step - loss: 249.2293 - val_loss: 508.7521 - lr: 4.0000e-05\n"
     ]
    }
   ],
   "source": [
    "tf.get_logger().setLevel('ERROR')\n",
    "\n",
    "model_2.compile(loss=\"mae\",\n",
    "                optimizer=\"adam\")\n",
    "\n",
    "model_2_history = model_2.fit(x=X_train,\n",
    "                              y=y_train,\n",
    "                              epochs=100,\n",
    "                              validation_data=(X_test, y_test),\n",
    "                              callbacks=[tensorboard(model_2.name),\n",
    "                                         checkpoint(model_2.name),\n",
    "                                         reduce_lr,\n",
    "                                         early_stopping])"
   ]
  },
  {
   "cell_type": "code",
   "execution_count": 57,
   "id": "b9f2d6c1-7e65-484e-9032-721ec63d3db5",
   "metadata": {},
   "outputs": [
    {
     "name": "stdout",
     "output_type": "stream",
     "text": [
      "21/21 [==============================] - 0s 4ms/step - loss: 256.4669\n",
      "6/6 [==============================] - 0s 7ms/step - loss: 382.9185\n"
     ]
    },
    {
     "data": {
      "text/plain": [
       "(256.4668884277344, 382.9184875488281)"
      ]
     },
     "execution_count": 57,
     "metadata": {},
     "output_type": "execute_result"
    }
   ],
   "source": [
    "model_2.evaluate(X_train, y_train), model_2.evaluate(X_test, y_test)"
   ]
  },
  {
   "cell_type": "code",
   "execution_count": 125,
   "id": "c362fe9e-6493-4ee1-95b2-ca3e5934644b",
   "metadata": {},
   "outputs": [
    {
     "name": "stdout",
     "output_type": "stream",
     "text": [
      "Model: \"model_3\"\n",
      "_________________________________________________________________\n",
      " Layer (type)                Output Shape              Param #   \n",
      "=================================================================\n",
      " lambda_12 (Lambda)          (None, 1, 12)             0         \n",
      "                                                                 \n",
      " conv1d_14 (Conv1D)          (None, 1, 128)            18560     \n",
      "                                                                 \n",
      " global_average_pooling1d_9   (None, 128)              0         \n",
      " (GlobalAveragePooling1D)                                        \n",
      "                                                                 \n",
      " dense_16 (Dense)            (None, 1)                 129       \n",
      "                                                                 \n",
      "=================================================================\n",
      "Total params: 18,689\n",
      "Trainable params: 18,689\n",
      "Non-trainable params: 0\n",
      "_________________________________________________________________\n"
     ]
    }
   ],
   "source": [
    "model_3 = tf.keras.Sequential([\n",
    "    layers.Input(shape=(WINDOW), dtype=tf.float32),\n",
    "    layers.Lambda(lambda x: tf.expand_dims(x, axis=1)),\n",
    "    layers.Conv1D(128, 12, activation=\"relu\", padding=\"causal\"),\n",
    "    layers.GlobalAveragePooling1D(),\n",
    "    layers.Dense(HORIZON)\n",
    "], name=\"model_3\")\n",
    "\n",
    "model_3.summary()"
   ]
  },
  {
   "cell_type": "code",
   "execution_count": 126,
   "id": "64fb621a-59f8-4b54-b54a-e616f0c18101",
   "metadata": {
    "scrolled": true
   },
   "outputs": [
    {
     "name": "stdout",
     "output_type": "stream",
     "text": [
      "Epoch 1/100\n",
      "21/21 [==============================] - 1s 41ms/step - loss: 93776.1094 - val_loss: 33979.8477 - lr: 0.0010\n",
      "Epoch 2/100\n",
      "21/21 [==============================] - 1s 36ms/step - loss: 8183.7480 - val_loss: 6888.6353 - lr: 0.0010\n",
      "Epoch 3/100\n",
      "21/21 [==============================] - 1s 37ms/step - loss: 2246.7595 - val_loss: 2840.9265 - lr: 0.0010\n",
      "Epoch 4/100\n",
      "21/21 [==============================] - 1s 42ms/step - loss: 1095.0273 - val_loss: 542.2490 - lr: 0.0010\n",
      "Epoch 5/100\n",
      "21/21 [==============================] - 0s 9ms/step - loss: 354.0774 - val_loss: 1948.8848 - lr: 0.0010\n",
      "Epoch 6/100\n",
      "21/21 [==============================] - 0s 9ms/step - loss: 621.4032 - val_loss: 1158.7665 - lr: 0.0010\n",
      "Epoch 7/100\n",
      "21/21 [==============================] - 0s 10ms/step - loss: 1287.3170 - val_loss: 4718.7246 - lr: 0.0010\n",
      "Epoch 8/100\n",
      "21/21 [==============================] - 0s 11ms/step - loss: 3125.3950 - val_loss: 2797.4958 - lr: 0.0010\n",
      "Epoch 9/100\n",
      "21/21 [==============================] - 1s 37ms/step - loss: 1229.6180 - val_loss: 468.2420 - lr: 0.0010\n",
      "Epoch 10/100\n",
      "21/21 [==============================] - 0s 15ms/step - loss: 1273.3010 - val_loss: 2029.2504 - lr: 0.0010\n",
      "Epoch 11/100\n",
      "21/21 [==============================] - 0s 10ms/step - loss: 1128.5737 - val_loss: 852.9451 - lr: 0.0010\n",
      "Epoch 12/100\n",
      "21/21 [==============================] - 0s 9ms/step - loss: 618.2912 - val_loss: 1974.4454 - lr: 0.0010\n",
      "Epoch 13/100\n",
      "21/21 [==============================] - 0s 7ms/step - loss: 755.1555 - val_loss: 2386.1277 - lr: 0.0010\n",
      "Epoch 14/100\n",
      "21/21 [==============================] - 0s 7ms/step - loss: 1354.1224 - val_loss: 1450.1129 - lr: 0.0010\n",
      "Epoch 15/100\n",
      "21/21 [==============================] - 0s 7ms/step - loss: 351.8000 - val_loss: 622.5250 - lr: 2.0000e-04\n",
      "Epoch 16/100\n",
      "21/21 [==============================] - 0s 7ms/step - loss: 294.3507 - val_loss: 907.5889 - lr: 2.0000e-04\n",
      "Epoch 17/100\n",
      "21/21 [==============================] - 1s 36ms/step - loss: 292.5278 - val_loss: 262.0615 - lr: 2.0000e-04\n",
      "Epoch 18/100\n",
      "21/21 [==============================] - 0s 7ms/step - loss: 315.7009 - val_loss: 439.5489 - lr: 2.0000e-04\n",
      "Epoch 19/100\n",
      "21/21 [==============================] - 0s 7ms/step - loss: 280.1337 - val_loss: 739.1396 - lr: 2.0000e-04\n",
      "Epoch 20/100\n",
      "21/21 [==============================] - 1s 35ms/step - loss: 269.3987 - val_loss: 205.2255 - lr: 2.0000e-04\n",
      "Epoch 21/100\n",
      "21/21 [==============================] - 0s 8ms/step - loss: 307.3908 - val_loss: 304.3643 - lr: 2.0000e-04\n",
      "Epoch 22/100\n",
      "21/21 [==============================] - 0s 7ms/step - loss: 272.1949 - val_loss: 1044.0289 - lr: 2.0000e-04\n",
      "Epoch 23/100\n",
      "21/21 [==============================] - 0s 8ms/step - loss: 325.3440 - val_loss: 624.9944 - lr: 2.0000e-04\n",
      "Epoch 24/100\n",
      "21/21 [==============================] - 0s 8ms/step - loss: 275.4828 - val_loss: 606.1791 - lr: 2.0000e-04\n",
      "Epoch 25/100\n",
      "21/21 [==============================] - 0s 7ms/step - loss: 326.5522 - val_loss: 226.9794 - lr: 2.0000e-04\n",
      "Epoch 26/100\n",
      "21/21 [==============================] - 0s 7ms/step - loss: 280.7682 - val_loss: 577.7589 - lr: 4.0000e-05\n",
      "Epoch 27/100\n",
      "21/21 [==============================] - 0s 7ms/step - loss: 251.3077 - val_loss: 550.8618 - lr: 4.0000e-05\n",
      "Epoch 28/100\n",
      "21/21 [==============================] - 0s 9ms/step - loss: 251.5692 - val_loss: 602.6869 - lr: 4.0000e-05\n",
      "Epoch 29/100\n",
      "21/21 [==============================] - 0s 7ms/step - loss: 248.3795 - val_loss: 733.7007 - lr: 4.0000e-05\n",
      "Epoch 30/100\n",
      "21/21 [==============================] - 0s 8ms/step - loss: 258.7370 - val_loss: 652.4573 - lr: 4.0000e-05\n"
     ]
    }
   ],
   "source": [
    "model_3.compile(loss=\"mae\",\n",
    "                optimizer=\"adam\")\n",
    "\n",
    "model_3_history = model_3.fit(x=X_train,\n",
    "                              y=y_train,\n",
    "                              validation_data=(X_test, y_test),\n",
    "                              epochs=100,\n",
    "                              callbacks=[tensorboard(model_3.name),\n",
    "                                         checkpoint(model_3.name),\n",
    "                                         reduce_lr,\n",
    "                                         early_stopping])"
   ]
  },
  {
   "cell_type": "code",
   "execution_count": 127,
   "id": "43e4fc46-64e1-4d20-a2ee-e2a8c235adba",
   "metadata": {},
   "outputs": [
    {
     "name": "stdout",
     "output_type": "stream",
     "text": [
      "21/21 [==============================] - 0s 5ms/step - loss: 442.7014\n",
      "6/6 [==============================] - 0s 3ms/step - loss: 205.2255\n"
     ]
    },
    {
     "data": {
      "text/plain": [
       "(442.70135498046875, 205.2255401611328)"
      ]
     },
     "execution_count": 127,
     "metadata": {},
     "output_type": "execute_result"
    }
   ],
   "source": [
    "model_3.evaluate(X_train, y_train), model_3.evaluate(X_test, y_test)"
   ]
  },
  {
   "cell_type": "code",
   "execution_count": 62,
   "id": "a2b8c705-1291-4a32-a29f-420b063e2538",
   "metadata": {},
   "outputs": [
    {
     "name": "stdout",
     "output_type": "stream",
     "text": [
      "Model: \"model_4\"\n",
      "_________________________________________________________________\n",
      " Layer (type)                Output Shape              Param #   \n",
      "=================================================================\n",
      " lambda_7 (Lambda)           (None, 1, 12)             0         \n",
      "                                                                 \n",
      " bidirectional (Bidirectiona  (None, 128)              39424     \n",
      " l)                                                              \n",
      "                                                                 \n",
      " dense_11 (Dense)            (None, 1)                 129       \n",
      "                                                                 \n",
      "=================================================================\n",
      "Total params: 39,553\n",
      "Trainable params: 39,553\n",
      "Non-trainable params: 0\n",
      "_________________________________________________________________\n"
     ]
    }
   ],
   "source": [
    "model_4 = tf.keras.Sequential([\n",
    "    layers.Input(shape=(WINDOW), dtype=tf.float32),\n",
    "    layers.Lambda(lambda x: tf.expand_dims(x, axis=1)),\n",
    "    layers.Bidirectional(layers.LSTM(64, activation=\"relu\")),\n",
    "    layers.Dense(HORIZON)\n",
    "], name=\"model_4\")\n",
    "\n",
    "model_4.summary()"
   ]
  },
  {
   "cell_type": "code",
   "execution_count": 63,
   "id": "46d9dca0-f514-44fb-8a48-6b0ab59d5768",
   "metadata": {
    "scrolled": true
   },
   "outputs": [
    {
     "name": "stdout",
     "output_type": "stream",
     "text": [
      "Epoch 1/100\n",
      "18/21 [========================>.....] - ETA: 0s - loss: 164158.1562"
     ]
    },
    {
     "name": "stderr",
     "output_type": "stream",
     "text": [
      "WARNING:absl:<keras.layers.recurrent.LSTMCell object at 0x000002AE1F219C70> has the same name 'LSTMCell' as a built-in Keras object. Consider renaming <class 'keras.layers.recurrent.LSTMCell'> to avoid naming conflicts when loading with `tf.keras.models.load_model`. If renaming is not possible, pass the object in the `custom_objects` parameter of the load function.\n",
      "WARNING:absl:<keras.layers.recurrent.LSTMCell object at 0x000002AE1EC26250> has the same name 'LSTMCell' as a built-in Keras object. Consider renaming <class 'keras.layers.recurrent.LSTMCell'> to avoid naming conflicts when loading with `tf.keras.models.load_model`. If renaming is not possible, pass the object in the `custom_objects` parameter of the load function.\n"
     ]
    },
    {
     "name": "stdout",
     "output_type": "stream",
     "text": [
      "21/21 [==============================] - 7s 213ms/step - loss: 160376.6719 - val_loss: 161593.8125 - lr: 0.0010\n",
      "Epoch 2/100\n",
      "17/21 [=======================>......] - ETA: 0s - loss: 83761.6406"
     ]
    },
    {
     "name": "stderr",
     "output_type": "stream",
     "text": [
      "WARNING:absl:<keras.layers.recurrent.LSTMCell object at 0x000002AE1F219C70> has the same name 'LSTMCell' as a built-in Keras object. Consider renaming <class 'keras.layers.recurrent.LSTMCell'> to avoid naming conflicts when loading with `tf.keras.models.load_model`. If renaming is not possible, pass the object in the `custom_objects` parameter of the load function.\n",
      "WARNING:absl:<keras.layers.recurrent.LSTMCell object at 0x000002AE1EC26250> has the same name 'LSTMCell' as a built-in Keras object. Consider renaming <class 'keras.layers.recurrent.LSTMCell'> to avoid naming conflicts when loading with `tf.keras.models.load_model`. If renaming is not possible, pass the object in the `custom_objects` parameter of the load function.\n"
     ]
    },
    {
     "name": "stdout",
     "output_type": "stream",
     "text": [
      "21/21 [==============================] - 4s 201ms/step - loss: 76849.7266 - val_loss: 34137.1758 - lr: 0.0010\n",
      "Epoch 3/100\n",
      "17/21 [=======================>......] - ETA: 0s - loss: 10487.9160"
     ]
    },
    {
     "name": "stderr",
     "output_type": "stream",
     "text": [
      "WARNING:absl:<keras.layers.recurrent.LSTMCell object at 0x000002AE1F219C70> has the same name 'LSTMCell' as a built-in Keras object. Consider renaming <class 'keras.layers.recurrent.LSTMCell'> to avoid naming conflicts when loading with `tf.keras.models.load_model`. If renaming is not possible, pass the object in the `custom_objects` parameter of the load function.\n",
      "WARNING:absl:<keras.layers.recurrent.LSTMCell object at 0x000002AE1EC26250> has the same name 'LSTMCell' as a built-in Keras object. Consider renaming <class 'keras.layers.recurrent.LSTMCell'> to avoid naming conflicts when loading with `tf.keras.models.load_model`. If renaming is not possible, pass the object in the `custom_objects` parameter of the load function.\n"
     ]
    },
    {
     "name": "stdout",
     "output_type": "stream",
     "text": [
      "21/21 [==============================] - 4s 210ms/step - loss: 9167.0098 - val_loss: 5806.6802 - lr: 0.0010\n",
      "Epoch 4/100\n",
      "18/21 [========================>.....] - ETA: 0s - loss: 1926.7433"
     ]
    },
    {
     "name": "stderr",
     "output_type": "stream",
     "text": [
      "WARNING:absl:<keras.layers.recurrent.LSTMCell object at 0x000002AE1F219C70> has the same name 'LSTMCell' as a built-in Keras object. Consider renaming <class 'keras.layers.recurrent.LSTMCell'> to avoid naming conflicts when loading with `tf.keras.models.load_model`. If renaming is not possible, pass the object in the `custom_objects` parameter of the load function.\n",
      "WARNING:absl:<keras.layers.recurrent.LSTMCell object at 0x000002AE1EC26250> has the same name 'LSTMCell' as a built-in Keras object. Consider renaming <class 'keras.layers.recurrent.LSTMCell'> to avoid naming conflicts when loading with `tf.keras.models.load_model`. If renaming is not possible, pass the object in the `custom_objects` parameter of the load function.\n"
     ]
    },
    {
     "name": "stdout",
     "output_type": "stream",
     "text": [
      "21/21 [==============================] - 4s 211ms/step - loss: 1856.0222 - val_loss: 685.0390 - lr: 0.0010\n",
      "Epoch 5/100\n",
      "20/21 [===========================>..] - ETA: 0s - loss: 658.7214"
     ]
    },
    {
     "name": "stderr",
     "output_type": "stream",
     "text": [
      "WARNING:absl:<keras.layers.recurrent.LSTMCell object at 0x000002AE1F219C70> has the same name 'LSTMCell' as a built-in Keras object. Consider renaming <class 'keras.layers.recurrent.LSTMCell'> to avoid naming conflicts when loading with `tf.keras.models.load_model`. If renaming is not possible, pass the object in the `custom_objects` parameter of the load function.\n",
      "WARNING:absl:<keras.layers.recurrent.LSTMCell object at 0x000002AE1EC26250> has the same name 'LSTMCell' as a built-in Keras object. Consider renaming <class 'keras.layers.recurrent.LSTMCell'> to avoid naming conflicts when loading with `tf.keras.models.load_model`. If renaming is not possible, pass the object in the `custom_objects` parameter of the load function.\n"
     ]
    },
    {
     "name": "stdout",
     "output_type": "stream",
     "text": [
      "21/21 [==============================] - 4s 221ms/step - loss: 658.6646 - val_loss: 137.1908 - lr: 0.0010\n",
      "Epoch 6/100\n",
      "21/21 [==============================] - 0s 16ms/step - loss: 594.0055 - val_loss: 243.7690 - lr: 0.0010\n",
      "Epoch 7/100\n",
      "21/21 [==============================] - 0s 20ms/step - loss: 251.3223 - val_loss: 342.1859 - lr: 0.0010\n",
      "Epoch 8/100\n",
      "21/21 [==============================] - 0s 20ms/step - loss: 234.0967 - val_loss: 140.5734 - lr: 0.0010\n",
      "Epoch 9/100\n",
      "21/21 [==============================] - 0s 18ms/step - loss: 266.9892 - val_loss: 383.0049 - lr: 2.0000e-04\n",
      "Epoch 10/100\n",
      "21/21 [==============================] - 0s 16ms/step - loss: 221.3830 - val_loss: 210.2659 - lr: 2.0000e-04\n"
     ]
    }
   ],
   "source": [
    "model_4.compile(loss=\"mae\",\n",
    "                optimizer=\"adam\")\n",
    "\n",
    "model_4_history = model_4.fit(x=X_train,\n",
    "                              y=y_train,\n",
    "                              validation_data=(X_test, y_test),\n",
    "                              epochs=100,\n",
    "                              callbacks=[tensorboard(model_4.name),\n",
    "                                         checkpoint(model_4.name),\n",
    "                                         early_stopping,\n",
    "                                         reduce_lr])"
   ]
  },
  {
   "cell_type": "code",
   "execution_count": 65,
   "id": "1459d0a6-f136-471a-9823-cf71dbe3e523",
   "metadata": {},
   "outputs": [
    {
     "name": "stdout",
     "output_type": "stream",
     "text": [
      "21/21 [==============================] - 0s 3ms/step - loss: 480.6370\n",
      "6/6 [==============================] - 0s 4ms/step - loss: 137.1908\n"
     ]
    },
    {
     "data": {
      "text/plain": [
       "(480.636962890625, 137.1907958984375)"
      ]
     },
     "execution_count": 65,
     "metadata": {},
     "output_type": "execute_result"
    }
   ],
   "source": [
    "model_4.evaluate(X_train, y_train), model_4.evaluate(X_test, y_test)"
   ]
  },
  {
   "cell_type": "code",
   "execution_count": 66,
   "id": "a598d7fb-de27-409c-a1d8-a9f2e0a8c75f",
   "metadata": {},
   "outputs": [
    {
     "name": "stdout",
     "output_type": "stream",
     "text": [
      "Model: \"model_5\"\n",
      "_________________________________________________________________\n",
      " Layer (type)                Output Shape              Param #   \n",
      "=================================================================\n",
      " rescaling (Rescaling)       (None, 12)                0         \n",
      "                                                                 \n",
      " dense_12 (Dense)            (None, 128)               1664      \n",
      "                                                                 \n",
      " dense_13 (Dense)            (None, 128)               16512     \n",
      "                                                                 \n",
      " dense_14 (Dense)            (None, 1)                 129       \n",
      "                                                                 \n",
      "=================================================================\n",
      "Total params: 18,305\n",
      "Trainable params: 18,305\n",
      "Non-trainable params: 0\n",
      "_________________________________________________________________\n"
     ]
    }
   ],
   "source": [
    "model_5 = tf.keras.Sequential([\n",
    "    layers.Input(shape=(WINDOW), dtype=tf.float32),\n",
    "    layers.Rescaling(1/255.),\n",
    "    layers.Dense(128, activation=\"relu\"),\n",
    "    layers.Dense(128, activation=\"relu\"),\n",
    "    layers.Dense(HORIZON)\n",
    "], name=\"model_5\")\n",
    "\n",
    "model_5.summary()"
   ]
  },
  {
   "cell_type": "code",
   "execution_count": 67,
   "id": "557c8939-8b4e-4f81-bd50-8970f55af983",
   "metadata": {
    "scrolled": true
   },
   "outputs": [
    {
     "name": "stdout",
     "output_type": "stream",
     "text": [
      "Epoch 1/100\n",
      "21/21 [==============================] - 1s 44ms/step - loss: 226234.3750 - val_loss: 311217.4062 - lr: 0.0010\n",
      "Epoch 2/100\n",
      "21/21 [==============================] - 1s 37ms/step - loss: 221393.5000 - val_loss: 300808.7812 - lr: 0.0010\n",
      "Epoch 3/100\n",
      "21/21 [==============================] - 1s 38ms/step - loss: 209953.1719 - val_loss: 276448.5000 - lr: 0.0010\n",
      "Epoch 4/100\n",
      "21/21 [==============================] - 2s 98ms/step - loss: 185022.3750 - val_loss: 226697.4844 - lr: 0.0010\n",
      "Epoch 5/100\n",
      "21/21 [==============================] - 1s 40ms/step - loss: 137360.9688 - val_loss: 138302.8750 - lr: 0.0010\n",
      "Epoch 6/100\n",
      "21/21 [==============================] - 1s 37ms/step - loss: 57373.3945 - val_loss: 2957.2605 - lr: 0.0010\n",
      "Epoch 7/100\n",
      "21/21 [==============================] - 1s 36ms/step - loss: 7674.9619 - val_loss: 2394.9536 - lr: 0.0010\n",
      "Epoch 8/100\n",
      "21/21 [==============================] - 1s 39ms/step - loss: 1880.5865 - val_loss: 893.1011 - lr: 0.0010\n",
      "Epoch 9/100\n",
      "21/21 [==============================] - 1s 37ms/step - loss: 887.8241 - val_loss: 659.8865 - lr: 0.0010\n",
      "Epoch 10/100\n",
      "21/21 [==============================] - 0s 7ms/step - loss: 605.8076 - val_loss: 716.0402 - lr: 0.0010\n",
      "Epoch 11/100\n",
      "21/21 [==============================] - 0s 8ms/step - loss: 636.2575 - val_loss: 828.7079 - lr: 0.0010\n",
      "Epoch 12/100\n",
      "21/21 [==============================] - 0s 7ms/step - loss: 270.5237 - val_loss: 684.3306 - lr: 0.0010\n",
      "Epoch 13/100\n",
      "21/21 [==============================] - 1s 37ms/step - loss: 248.9626 - val_loss: 629.5868 - lr: 2.0000e-04\n",
      "Epoch 14/100\n",
      "21/21 [==============================] - 1s 37ms/step - loss: 244.8396 - val_loss: 544.6951 - lr: 2.0000e-04\n",
      "Epoch 15/100\n",
      "21/21 [==============================] - 0s 7ms/step - loss: 244.5243 - val_loss: 566.9551 - lr: 2.0000e-04\n",
      "Epoch 16/100\n",
      "21/21 [==============================] - 0s 8ms/step - loss: 255.6095 - val_loss: 592.3245 - lr: 2.0000e-04\n",
      "Epoch 17/100\n",
      "21/21 [==============================] - 0s 7ms/step - loss: 244.8057 - val_loss: 581.9556 - lr: 2.0000e-04\n",
      "Epoch 18/100\n",
      "21/21 [==============================] - 0s 7ms/step - loss: 244.9182 - val_loss: 744.4330 - lr: 4.0000e-05\n",
      "Epoch 19/100\n",
      "21/21 [==============================] - 1s 34ms/step - loss: 245.1747 - val_loss: 527.3888 - lr: 4.0000e-05\n",
      "Epoch 20/100\n",
      "21/21 [==============================] - 0s 7ms/step - loss: 241.6782 - val_loss: 590.4969 - lr: 4.0000e-05\n",
      "Epoch 21/100\n",
      "21/21 [==============================] - 0s 7ms/step - loss: 242.1796 - val_loss: 531.9059 - lr: 4.0000e-05\n",
      "Epoch 22/100\n",
      "21/21 [==============================] - 0s 7ms/step - loss: 243.0096 - val_loss: 551.2783 - lr: 4.0000e-05\n",
      "Epoch 23/100\n",
      "21/21 [==============================] - 0s 8ms/step - loss: 241.2880 - val_loss: 578.1617 - lr: 1.0000e-05\n",
      "Epoch 24/100\n",
      "21/21 [==============================] - 0s 8ms/step - loss: 241.3722 - val_loss: 571.9462 - lr: 1.0000e-05\n"
     ]
    }
   ],
   "source": [
    "model_5.compile(loss=\"mae\",\n",
    "                optimizer=\"adam\")\n",
    "\n",
    "model_5_history = model_5.fit(x=X_train,\n",
    "                              y=y_train,\n",
    "                              validation_data=(X_test, y_test),\n",
    "                              epochs=100,\n",
    "                              callbacks=[tensorboard(model_5.name),\n",
    "                                         checkpoint(model_5.name),\n",
    "                                         reduce_lr,\n",
    "                                         early_stopping])"
   ]
  },
  {
   "cell_type": "code",
   "execution_count": 68,
   "id": "4b9fd6ce-5c94-4c31-9336-7253c9250988",
   "metadata": {},
   "outputs": [
    {
     "name": "stdout",
     "output_type": "stream",
     "text": [
      "21/21 [==============================] - 0s 4ms/step - loss: 242.1124\n",
      "6/6 [==============================] - 0s 3ms/step - loss: 527.3888\n"
     ]
    },
    {
     "data": {
      "text/plain": [
       "(242.1123809814453, 527.3887939453125)"
      ]
     },
     "execution_count": 68,
     "metadata": {},
     "output_type": "execute_result"
    }
   ],
   "source": [
    "model_5.evaluate(X_train, y_train), model_5.evaluate(X_test, y_test)"
   ]
  },
  {
   "cell_type": "code",
   "execution_count": 69,
   "id": "a2f9e9c3-b295-4b72-92a2-b5f50d924ef5",
   "metadata": {},
   "outputs": [
    {
     "name": "stdout",
     "output_type": "stream",
     "text": [
      "Model: \"model_6\"\n",
      "_________________________________________________________________\n",
      " Layer (type)                Output Shape              Param #   \n",
      "=================================================================\n",
      " lambda_8 (Lambda)           (None, 1, 12)             0         \n",
      "                                                                 \n",
      " gru (GRU)                   (None, 128)               54528     \n",
      "                                                                 \n",
      " dense_15 (Dense)            (None, 1)                 129       \n",
      "                                                                 \n",
      "=================================================================\n",
      "Total params: 54,657\n",
      "Trainable params: 54,657\n",
      "Non-trainable params: 0\n",
      "_________________________________________________________________\n"
     ]
    }
   ],
   "source": [
    "model_6 = tf.keras.Sequential([\n",
    "    layers.Input(shape=(WINDOW), dtype=tf.float32),\n",
    "    layers.Lambda(lambda x: tf.expand_dims(x, axis=1)),\n",
    "    layers.GRU(128, activation=\"relu\"),\n",
    "    layers.Dense(HORIZON)\n",
    "], name=\"model_6\")\n",
    "\n",
    "model_6.summary()"
   ]
  },
  {
   "cell_type": "code",
   "execution_count": 71,
   "id": "d21e9c2f-2a3a-4610-87ef-7c2dcb635dbd",
   "metadata": {
    "scrolled": true
   },
   "outputs": [
    {
     "name": "stdout",
     "output_type": "stream",
     "text": [
      "Epoch 1/100\n",
      "20/21 [===========================>..] - ETA: 0s - loss: 90660.0156 "
     ]
    },
    {
     "name": "stderr",
     "output_type": "stream",
     "text": [
      "WARNING:absl:<keras.layers.recurrent.GRUCell object at 0x000002AE17E31640> has the same name 'GRUCell' as a built-in Keras object. Consider renaming <class 'keras.layers.recurrent.GRUCell'> to avoid naming conflicts when loading with `tf.keras.models.load_model`. If renaming is not possible, pass the object in the `custom_objects` parameter of the load function.\n"
     ]
    },
    {
     "name": "stdout",
     "output_type": "stream",
     "text": [
      "21/21 [==============================] - 3s 106ms/step - loss: 90320.6250 - val_loss: 28183.4219 - lr: 0.0010\n",
      "Epoch 2/100\n",
      "15/21 [====================>.........] - ETA: 0s - loss: 13781.0742"
     ]
    },
    {
     "name": "stderr",
     "output_type": "stream",
     "text": [
      "WARNING:absl:<keras.layers.recurrent.GRUCell object at 0x000002AE17E31640> has the same name 'GRUCell' as a built-in Keras object. Consider renaming <class 'keras.layers.recurrent.GRUCell'> to avoid naming conflicts when loading with `tf.keras.models.load_model`. If renaming is not possible, pass the object in the `custom_objects` parameter of the load function.\n"
     ]
    },
    {
     "name": "stdout",
     "output_type": "stream",
     "text": [
      "21/21 [==============================] - 2s 91ms/step - loss: 11955.8760 - val_loss: 10249.5566 - lr: 0.0010\n",
      "Epoch 3/100\n",
      "21/21 [==============================] - ETA: 0s - loss: 4590.0317"
     ]
    },
    {
     "name": "stderr",
     "output_type": "stream",
     "text": [
      "WARNING:absl:<keras.layers.recurrent.GRUCell object at 0x000002AE17E31640> has the same name 'GRUCell' as a built-in Keras object. Consider renaming <class 'keras.layers.recurrent.GRUCell'> to avoid naming conflicts when loading with `tf.keras.models.load_model`. If renaming is not possible, pass the object in the `custom_objects` parameter of the load function.\n"
     ]
    },
    {
     "name": "stdout",
     "output_type": "stream",
     "text": [
      "21/21 [==============================] - 2s 99ms/step - loss: 4590.0317 - val_loss: 4509.2930 - lr: 0.0010\n",
      "Epoch 4/100\n",
      "18/21 [========================>.....] - ETA: 0s - loss: 1584.6891"
     ]
    },
    {
     "name": "stderr",
     "output_type": "stream",
     "text": [
      "WARNING:absl:<keras.layers.recurrent.GRUCell object at 0x000002AE17E31640> has the same name 'GRUCell' as a built-in Keras object. Consider renaming <class 'keras.layers.recurrent.GRUCell'> to avoid naming conflicts when loading with `tf.keras.models.load_model`. If renaming is not possible, pass the object in the `custom_objects` parameter of the load function.\n"
     ]
    },
    {
     "name": "stdout",
     "output_type": "stream",
     "text": [
      "21/21 [==============================] - 2s 102ms/step - loss: 1512.7029 - val_loss: 206.1495 - lr: 0.0010\n",
      "Epoch 5/100\n",
      "21/21 [==============================] - 0s 12ms/step - loss: 642.8911 - val_loss: 1829.2937 - lr: 0.0010\n",
      "Epoch 6/100\n",
      "21/21 [==============================] - 0s 12ms/step - loss: 1566.8762 - val_loss: 4089.0413 - lr: 0.0010\n",
      "Epoch 7/100\n",
      "21/21 [==============================] - 0s 13ms/step - loss: 877.0242 - val_loss: 991.5035 - lr: 0.0010\n",
      "Epoch 8/100\n",
      "21/21 [==============================] - 0s 12ms/step - loss: 266.4718 - val_loss: 484.6553 - lr: 2.0000e-04\n",
      "Epoch 9/100\n",
      "21/21 [==============================] - 0s 13ms/step - loss: 248.1446 - val_loss: 956.3525 - lr: 2.0000e-04\n"
     ]
    }
   ],
   "source": [
    "model_6.compile(loss=\"mae\",\n",
    "                optimizer=\"adam\")\n",
    "\n",
    "model_6_history = model_6.fit(x=X_train,\n",
    "                              y=y_train,\n",
    "                              validation_data=(X_test, y_test),\n",
    "                              epochs=100,\n",
    "                              callbacks=[tensorboard(model_6.name),\n",
    "                                         checkpoint(model_6.name),\n",
    "                                         reduce_lr,\n",
    "                                         early_stopping])"
   ]
  },
  {
   "cell_type": "code",
   "execution_count": 72,
   "id": "b83c64ef-e70b-4040-b047-100f7651291f",
   "metadata": {},
   "outputs": [
    {
     "name": "stdout",
     "output_type": "stream",
     "text": [
      "21/21 [==============================] - 0s 4ms/step - loss: 633.1328\n",
      "6/6 [==============================] - 0s 4ms/step - loss: 206.1495\n"
     ]
    },
    {
     "data": {
      "text/plain": [
       "(633.1328125, 206.1494598388672)"
      ]
     },
     "execution_count": 72,
     "metadata": {},
     "output_type": "execute_result"
    }
   ],
   "source": [
    "model_6.evaluate(X_train, y_train), model_6.evaluate(X_test, y_test)"
   ]
  },
  {
   "cell_type": "code",
   "execution_count": 73,
   "id": "494f7d59-1ead-4906-9ab6-6ed084f81783",
   "metadata": {},
   "outputs": [
    {
     "data": {
      "text/html": [
       "\n",
       "      <iframe id=\"tensorboard-frame-75f4811c5f64c84a\" width=\"100%\" height=\"800\" frameborder=\"0\">\n",
       "      </iframe>\n",
       "      <script>\n",
       "        (function() {\n",
       "          const frame = document.getElementById(\"tensorboard-frame-75f4811c5f64c84a\");\n",
       "          const url = new URL(\"/\", window.location);\n",
       "          const port = 8080;\n",
       "          if (port) {\n",
       "            url.port = port;\n",
       "          }\n",
       "          frame.src = url;\n",
       "        })();\n",
       "      </script>\n",
       "    "
      ],
      "text/plain": [
       "<IPython.core.display.HTML object>"
      ]
     },
     "metadata": {},
     "output_type": "display_data"
    }
   ],
   "source": [
    "%load_ext tensorboard\n",
    "%tensorboard --logdir model_logs/population --port 8080"
   ]
  },
  {
   "cell_type": "code",
   "execution_count": 102,
   "id": "85d7ac3a-a918-48d9-ba11-c358430f873d",
   "metadata": {},
   "outputs": [],
   "source": [
    "inputs = layers.Input(shape=(WINDOW), dtype=tf.float32)\n",
    "x = layers.Lambda(lambda x: tf.expand_dims(x, axis=1))(inputs)\n",
    "x = layers.Bidirectional(layers.LSTM(64, activation=\"relu\", return_sequences=True))(x)\n",
    "x = layers.Bidirectional(layers.LSTM(64, activation=\"relu\"))(x)\n",
    "x = layers.Dense(64, activation=\"relu\")(x)\n",
    "x = layers.Dropout(0.5)(x)\n",
    "x = layers.Dense(64, activation=\"relu\")(x)\n",
    "x = layers.Dropout(0.5)(x)\n",
    "outputs = layers.Dense(HORIZON)(x)\n",
    "\n",
    "model_7 = tf.keras.Model(inputs, outputs, name=\"model_7\")"
   ]
  },
  {
   "cell_type": "code",
   "execution_count": 100,
   "id": "965d23b4-3fc1-4a02-b8c0-cbbc06f4e2a4",
   "metadata": {},
   "outputs": [
    {
     "name": "stdout",
     "output_type": "stream",
     "text": [
      "Model: \"model_7\"\n",
      "_________________________________________________________________\n",
      " Layer (type)                Output Shape              Param #   \n",
      "=================================================================\n",
      " input_1 (InputLayer)        [(None, 12)]              0         \n",
      "                                                                 \n",
      " lambda (Lambda)             (None, 1, 12)             0         \n",
      "                                                                 \n",
      " bidirectional (Bidirectiona  (None, 1, 128)           39424     \n",
      " l)                                                              \n",
      "                                                                 \n",
      " bidirectional_1 (Bidirectio  (None, 128)              98816     \n",
      " nal)                                                            \n",
      "                                                                 \n",
      " dense (Dense)               (None, 64)                8256      \n",
      "                                                                 \n",
      " dropout (Dropout)           (None, 64)                0         \n",
      "                                                                 \n",
      " dense_1 (Dense)             (None, 64)                4160      \n",
      "                                                                 \n",
      " dropout_1 (Dropout)         (None, 64)                0         \n",
      "                                                                 \n",
      " dense_2 (Dense)             (None, 1)                 65        \n",
      "                                                                 \n",
      "=================================================================\n",
      "Total params: 150,721\n",
      "Trainable params: 150,721\n",
      "Non-trainable params: 0\n",
      "_________________________________________________________________\n"
     ]
    }
   ],
   "source": [
    "model_7.summary()"
   ]
  },
  {
   "cell_type": "code",
   "execution_count": 103,
   "id": "fb5e6cc4-2e26-41ae-b3e3-012d0f00d5a2",
   "metadata": {},
   "outputs": [
    {
     "name": "stdout",
     "output_type": "stream",
     "text": [
      "Epoch 1/100\n",
      "19/21 [==========================>...] - ETA: 0s - loss: 173941.5156"
     ]
    },
    {
     "name": "stderr",
     "output_type": "stream",
     "text": [
      "WARNING:absl:<keras.layers.recurrent.LSTMCell object at 0x000002AE304462E0> has the same name 'LSTMCell' as a built-in Keras object. Consider renaming <class 'keras.layers.recurrent.LSTMCell'> to avoid naming conflicts when loading with `tf.keras.models.load_model`. If renaming is not possible, pass the object in the `custom_objects` parameter of the load function.\n",
      "WARNING:absl:<keras.layers.recurrent.LSTMCell object at 0x000002AE28393EB0> has the same name 'LSTMCell' as a built-in Keras object. Consider renaming <class 'keras.layers.recurrent.LSTMCell'> to avoid naming conflicts when loading with `tf.keras.models.load_model`. If renaming is not possible, pass the object in the `custom_objects` parameter of the load function.\n",
      "WARNING:absl:<keras.layers.recurrent.LSTMCell object at 0x000002AE2F2E6CA0> has the same name 'LSTMCell' as a built-in Keras object. Consider renaming <class 'keras.layers.recurrent.LSTMCell'> to avoid naming conflicts when loading with `tf.keras.models.load_model`. If renaming is not possible, pass the object in the `custom_objects` parameter of the load function.\n",
      "WARNING:absl:<keras.layers.recurrent.LSTMCell object at 0x000002AE28380D60> has the same name 'LSTMCell' as a built-in Keras object. Consider renaming <class 'keras.layers.recurrent.LSTMCell'> to avoid naming conflicts when loading with `tf.keras.models.load_model`. If renaming is not possible, pass the object in the `custom_objects` parameter of the load function.\n"
     ]
    },
    {
     "name": "stdout",
     "output_type": "stream",
     "text": [
      "21/21 [==============================] - 13s 439ms/step - loss: 170119.2656 - val_loss: 87034.6406\n",
      "Epoch 2/100\n",
      "21/21 [==============================] - ETA: 0s - loss: 69324.5859"
     ]
    },
    {
     "name": "stderr",
     "output_type": "stream",
     "text": [
      "WARNING:absl:<keras.layers.recurrent.LSTMCell object at 0x000002AE304462E0> has the same name 'LSTMCell' as a built-in Keras object. Consider renaming <class 'keras.layers.recurrent.LSTMCell'> to avoid naming conflicts when loading with `tf.keras.models.load_model`. If renaming is not possible, pass the object in the `custom_objects` parameter of the load function.\n",
      "WARNING:absl:<keras.layers.recurrent.LSTMCell object at 0x000002AE28393EB0> has the same name 'LSTMCell' as a built-in Keras object. Consider renaming <class 'keras.layers.recurrent.LSTMCell'> to avoid naming conflicts when loading with `tf.keras.models.load_model`. If renaming is not possible, pass the object in the `custom_objects` parameter of the load function.\n",
      "WARNING:absl:<keras.layers.recurrent.LSTMCell object at 0x000002AE2F2E6CA0> has the same name 'LSTMCell' as a built-in Keras object. Consider renaming <class 'keras.layers.recurrent.LSTMCell'> to avoid naming conflicts when loading with `tf.keras.models.load_model`. If renaming is not possible, pass the object in the `custom_objects` parameter of the load function.\n",
      "WARNING:absl:<keras.layers.recurrent.LSTMCell object at 0x000002AE28380D60> has the same name 'LSTMCell' as a built-in Keras object. Consider renaming <class 'keras.layers.recurrent.LSTMCell'> to avoid naming conflicts when loading with `tf.keras.models.load_model`. If renaming is not possible, pass the object in the `custom_objects` parameter of the load function.\n"
     ]
    },
    {
     "name": "stdout",
     "output_type": "stream",
     "text": [
      "21/21 [==============================] - 9s 462ms/step - loss: 69324.5859 - val_loss: 36937.3867\n",
      "Epoch 3/100\n",
      "21/21 [==============================] - 1s 27ms/step - loss: 62233.6875 - val_loss: 37437.9922\n",
      "Epoch 4/100\n",
      "21/21 [==============================] - 1s 28ms/step - loss: 54729.2812 - val_loss: 56382.8516\n",
      "Epoch 5/100\n",
      "21/21 [==============================] - 1s 25ms/step - loss: 56977.7344 - val_loss: 42820.8398\n",
      "Epoch 6/100\n",
      "21/21 [==============================] - ETA: 0s - loss: 52206.7266"
     ]
    },
    {
     "name": "stderr",
     "output_type": "stream",
     "text": [
      "WARNING:absl:<keras.layers.recurrent.LSTMCell object at 0x000002AE304462E0> has the same name 'LSTMCell' as a built-in Keras object. Consider renaming <class 'keras.layers.recurrent.LSTMCell'> to avoid naming conflicts when loading with `tf.keras.models.load_model`. If renaming is not possible, pass the object in the `custom_objects` parameter of the load function.\n",
      "WARNING:absl:<keras.layers.recurrent.LSTMCell object at 0x000002AE28393EB0> has the same name 'LSTMCell' as a built-in Keras object. Consider renaming <class 'keras.layers.recurrent.LSTMCell'> to avoid naming conflicts when loading with `tf.keras.models.load_model`. If renaming is not possible, pass the object in the `custom_objects` parameter of the load function.\n",
      "WARNING:absl:<keras.layers.recurrent.LSTMCell object at 0x000002AE2F2E6CA0> has the same name 'LSTMCell' as a built-in Keras object. Consider renaming <class 'keras.layers.recurrent.LSTMCell'> to avoid naming conflicts when loading with `tf.keras.models.load_model`. If renaming is not possible, pass the object in the `custom_objects` parameter of the load function.\n",
      "WARNING:absl:<keras.layers.recurrent.LSTMCell object at 0x000002AE28380D60> has the same name 'LSTMCell' as a built-in Keras object. Consider renaming <class 'keras.layers.recurrent.LSTMCell'> to avoid naming conflicts when loading with `tf.keras.models.load_model`. If renaming is not possible, pass the object in the `custom_objects` parameter of the load function.\n"
     ]
    },
    {
     "name": "stdout",
     "output_type": "stream",
     "text": [
      "21/21 [==============================] - 9s 437ms/step - loss: 52206.7266 - val_loss: 8819.4033\n",
      "Epoch 7/100\n",
      "21/21 [==============================] - 1s 27ms/step - loss: 50992.6328 - val_loss: 31279.7168\n",
      "Epoch 8/100\n",
      "21/21 [==============================] - 1s 27ms/step - loss: 51182.1055 - val_loss: 37309.6211\n",
      "Epoch 9/100\n",
      "21/21 [==============================] - 1s 30ms/step - loss: 49949.6406 - val_loss: 33738.2891\n",
      "Epoch 10/100\n",
      "21/21 [==============================] - 1s 32ms/step - loss: 48074.2812 - val_loss: 45662.9648\n",
      "Epoch 11/100\n",
      "21/21 [==============================] - 1s 31ms/step - loss: 47527.6016 - val_loss: 27265.9277\n",
      "Epoch 12/100\n",
      "21/21 [==============================] - 1s 31ms/step - loss: 48076.1562 - val_loss: 23254.7871\n",
      "Epoch 13/100\n",
      "21/21 [==============================] - 1s 33ms/step - loss: 46227.5156 - val_loss: 41186.5859\n",
      "Epoch 14/100\n",
      "21/21 [==============================] - 1s 29ms/step - loss: 46572.1289 - val_loss: 33430.3008\n",
      "Epoch 15/100\n",
      "21/21 [==============================] - 1s 28ms/step - loss: 44967.1094 - val_loss: 36582.4375\n",
      "Epoch 16/100\n",
      "21/21 [==============================] - 1s 26ms/step - loss: 47095.6719 - val_loss: 15550.0439\n",
      "Epoch 17/100\n",
      "21/21 [==============================] - 1s 29ms/step - loss: 48941.1680 - val_loss: 30950.0430\n",
      "Epoch 18/100\n",
      "19/21 [==========================>...] - ETA: 0s - loss: 44959.7695"
     ]
    },
    {
     "name": "stderr",
     "output_type": "stream",
     "text": [
      "WARNING:absl:<keras.layers.recurrent.LSTMCell object at 0x000002AE304462E0> has the same name 'LSTMCell' as a built-in Keras object. Consider renaming <class 'keras.layers.recurrent.LSTMCell'> to avoid naming conflicts when loading with `tf.keras.models.load_model`. If renaming is not possible, pass the object in the `custom_objects` parameter of the load function.\n",
      "WARNING:absl:<keras.layers.recurrent.LSTMCell object at 0x000002AE28393EB0> has the same name 'LSTMCell' as a built-in Keras object. Consider renaming <class 'keras.layers.recurrent.LSTMCell'> to avoid naming conflicts when loading with `tf.keras.models.load_model`. If renaming is not possible, pass the object in the `custom_objects` parameter of the load function.\n",
      "WARNING:absl:<keras.layers.recurrent.LSTMCell object at 0x000002AE2F2E6CA0> has the same name 'LSTMCell' as a built-in Keras object. Consider renaming <class 'keras.layers.recurrent.LSTMCell'> to avoid naming conflicts when loading with `tf.keras.models.load_model`. If renaming is not possible, pass the object in the `custom_objects` parameter of the load function.\n",
      "WARNING:absl:<keras.layers.recurrent.LSTMCell object at 0x000002AE28380D60> has the same name 'LSTMCell' as a built-in Keras object. Consider renaming <class 'keras.layers.recurrent.LSTMCell'> to avoid naming conflicts when loading with `tf.keras.models.load_model`. If renaming is not possible, pass the object in the `custom_objects` parameter of the load function.\n"
     ]
    },
    {
     "name": "stdout",
     "output_type": "stream",
     "text": [
      "21/21 [==============================] - 10s 518ms/step - loss: 45479.9766 - val_loss: 8086.4458\n",
      "Epoch 19/100\n",
      "21/21 [==============================] - 1s 39ms/step - loss: 49444.8594 - val_loss: 28919.5039\n",
      "Epoch 20/100\n",
      "21/21 [==============================] - 1s 48ms/step - loss: 46828.0391 - val_loss: 43882.2812\n",
      "Epoch 21/100\n",
      "21/21 [==============================] - 1s 31ms/step - loss: 45457.0938 - val_loss: 37626.6289\n",
      "Epoch 22/100\n",
      "21/21 [==============================] - 1s 35ms/step - loss: 44725.5391 - val_loss: 36643.7695\n",
      "Epoch 23/100\n",
      "21/21 [==============================] - 1s 31ms/step - loss: 44975.0156 - val_loss: 16889.7598\n",
      "Epoch 24/100\n",
      "21/21 [==============================] - 1s 25ms/step - loss: 42476.2656 - val_loss: 40437.9766\n",
      "Epoch 25/100\n",
      "21/21 [==============================] - 1s 27ms/step - loss: 46202.2656 - val_loss: 36539.9609\n",
      "Epoch 26/100\n",
      "21/21 [==============================] - 1s 27ms/step - loss: 44618.4062 - val_loss: 16910.3516\n",
      "Epoch 27/100\n",
      "21/21 [==============================] - 1s 26ms/step - loss: 43758.1797 - val_loss: 31285.5488\n",
      "Epoch 28/100\n",
      "21/21 [==============================] - 1s 29ms/step - loss: 43175.7344 - val_loss: 38026.3789\n",
      "Epoch 29/100\n",
      "21/21 [==============================] - 1s 25ms/step - loss: 43871.4727 - val_loss: 26555.1016\n",
      "Epoch 30/100\n",
      "21/21 [==============================] - 1s 24ms/step - loss: 43114.4219 - val_loss: 34888.6602\n",
      "Epoch 31/100\n",
      "21/21 [==============================] - 1s 25ms/step - loss: 45107.6523 - val_loss: 21239.0215\n",
      "Epoch 32/100\n",
      "21/21 [==============================] - 1s 25ms/step - loss: 42355.2852 - val_loss: 20027.9355\n",
      "Epoch 33/100\n",
      "21/21 [==============================] - 1s 24ms/step - loss: 44901.6367 - val_loss: 19205.5312\n",
      "Epoch 34/100\n",
      "21/21 [==============================] - 1s 25ms/step - loss: 42722.9062 - val_loss: 25252.8203\n",
      "Epoch 35/100\n",
      "21/21 [==============================] - ETA: 0s - loss: 39666.0977"
     ]
    },
    {
     "name": "stderr",
     "output_type": "stream",
     "text": [
      "WARNING:absl:<keras.layers.recurrent.LSTMCell object at 0x000002AE304462E0> has the same name 'LSTMCell' as a built-in Keras object. Consider renaming <class 'keras.layers.recurrent.LSTMCell'> to avoid naming conflicts when loading with `tf.keras.models.load_model`. If renaming is not possible, pass the object in the `custom_objects` parameter of the load function.\n",
      "WARNING:absl:<keras.layers.recurrent.LSTMCell object at 0x000002AE28393EB0> has the same name 'LSTMCell' as a built-in Keras object. Consider renaming <class 'keras.layers.recurrent.LSTMCell'> to avoid naming conflicts when loading with `tf.keras.models.load_model`. If renaming is not possible, pass the object in the `custom_objects` parameter of the load function.\n",
      "WARNING:absl:<keras.layers.recurrent.LSTMCell object at 0x000002AE2F2E6CA0> has the same name 'LSTMCell' as a built-in Keras object. Consider renaming <class 'keras.layers.recurrent.LSTMCell'> to avoid naming conflicts when loading with `tf.keras.models.load_model`. If renaming is not possible, pass the object in the `custom_objects` parameter of the load function.\n",
      "WARNING:absl:<keras.layers.recurrent.LSTMCell object at 0x000002AE28380D60> has the same name 'LSTMCell' as a built-in Keras object. Consider renaming <class 'keras.layers.recurrent.LSTMCell'> to avoid naming conflicts when loading with `tf.keras.models.load_model`. If renaming is not possible, pass the object in the `custom_objects` parameter of the load function.\n"
     ]
    },
    {
     "name": "stdout",
     "output_type": "stream",
     "text": [
      "21/21 [==============================] - 9s 439ms/step - loss: 39666.0977 - val_loss: 4754.7686\n",
      "Epoch 36/100\n",
      "21/21 [==============================] - 1s 26ms/step - loss: 43646.5820 - val_loss: 21734.5215\n",
      "Epoch 37/100\n",
      "21/21 [==============================] - 1s 24ms/step - loss: 43879.4492 - val_loss: 38185.2695\n",
      "Epoch 38/100\n",
      "21/21 [==============================] - 0s 24ms/step - loss: 43477.4023 - val_loss: 32931.2695\n",
      "Epoch 39/100\n",
      "21/21 [==============================] - 1s 24ms/step - loss: 42668.3125 - val_loss: 5859.6025\n",
      "Epoch 40/100\n",
      "21/21 [==============================] - 1s 25ms/step - loss: 43362.7148 - val_loss: 22580.7754\n",
      "Epoch 41/100\n",
      "21/21 [==============================] - 1s 24ms/step - loss: 41529.6719 - val_loss: 22059.1934\n",
      "Epoch 42/100\n",
      "19/21 [==========================>...] - ETA: 0s - loss: 45067.2500"
     ]
    },
    {
     "name": "stderr",
     "output_type": "stream",
     "text": [
      "WARNING:absl:<keras.layers.recurrent.LSTMCell object at 0x000002AE304462E0> has the same name 'LSTMCell' as a built-in Keras object. Consider renaming <class 'keras.layers.recurrent.LSTMCell'> to avoid naming conflicts when loading with `tf.keras.models.load_model`. If renaming is not possible, pass the object in the `custom_objects` parameter of the load function.\n",
      "WARNING:absl:<keras.layers.recurrent.LSTMCell object at 0x000002AE28393EB0> has the same name 'LSTMCell' as a built-in Keras object. Consider renaming <class 'keras.layers.recurrent.LSTMCell'> to avoid naming conflicts when loading with `tf.keras.models.load_model`. If renaming is not possible, pass the object in the `custom_objects` parameter of the load function.\n",
      "WARNING:absl:<keras.layers.recurrent.LSTMCell object at 0x000002AE2F2E6CA0> has the same name 'LSTMCell' as a built-in Keras object. Consider renaming <class 'keras.layers.recurrent.LSTMCell'> to avoid naming conflicts when loading with `tf.keras.models.load_model`. If renaming is not possible, pass the object in the `custom_objects` parameter of the load function.\n",
      "WARNING:absl:<keras.layers.recurrent.LSTMCell object at 0x000002AE28380D60> has the same name 'LSTMCell' as a built-in Keras object. Consider renaming <class 'keras.layers.recurrent.LSTMCell'> to avoid naming conflicts when loading with `tf.keras.models.load_model`. If renaming is not possible, pass the object in the `custom_objects` parameter of the load function.\n"
     ]
    },
    {
     "name": "stdout",
     "output_type": "stream",
     "text": [
      "21/21 [==============================] - 9s 445ms/step - loss: 44727.7461 - val_loss: 538.5370\n",
      "Epoch 43/100\n",
      "21/21 [==============================] - 0s 22ms/step - loss: 43655.5273 - val_loss: 17160.7539\n",
      "Epoch 44/100\n",
      "21/21 [==============================] - 1s 25ms/step - loss: 43110.2266 - val_loss: 13966.1387\n",
      "Epoch 45/100\n",
      "21/21 [==============================] - 0s 23ms/step - loss: 42850.8711 - val_loss: 38760.7578\n",
      "Epoch 46/100\n",
      "21/21 [==============================] - 1s 26ms/step - loss: 42269.0391 - val_loss: 34870.1602\n",
      "Epoch 47/100\n",
      "21/21 [==============================] - 1s 29ms/step - loss: 44673.9609 - val_loss: 4659.4839\n",
      "Epoch 48/100\n",
      "21/21 [==============================] - 1s 28ms/step - loss: 40777.6367 - val_loss: 6636.8604\n",
      "Epoch 49/100\n",
      "21/21 [==============================] - 1s 27ms/step - loss: 46170.9453 - val_loss: 24582.4199\n",
      "Epoch 50/100\n",
      "21/21 [==============================] - 1s 29ms/step - loss: 43591.7266 - val_loss: 6624.6221\n",
      "Epoch 51/100\n",
      "21/21 [==============================] - 1s 24ms/step - loss: 44369.3047 - val_loss: 22343.1582\n",
      "Epoch 52/100\n",
      "21/21 [==============================] - 1s 26ms/step - loss: 43872.2656 - val_loss: 24058.2148\n",
      "Epoch 53/100\n",
      "21/21 [==============================] - 1s 27ms/step - loss: 40858.3242 - val_loss: 25125.1934\n",
      "Epoch 54/100\n",
      "21/21 [==============================] - 1s 27ms/step - loss: 41619.8750 - val_loss: 14361.5508\n",
      "Epoch 55/100\n",
      "21/21 [==============================] - 1s 30ms/step - loss: 44889.7891 - val_loss: 12480.4082\n",
      "Epoch 56/100\n",
      "21/21 [==============================] - 1s 30ms/step - loss: 43201.2344 - val_loss: 15392.8086\n",
      "Epoch 57/100\n",
      "21/21 [==============================] - 1s 24ms/step - loss: 40931.5664 - val_loss: 30125.1855\n",
      "Epoch 58/100\n",
      "21/21 [==============================] - 1s 26ms/step - loss: 43050.7695 - val_loss: 20514.1738\n",
      "Epoch 59/100\n",
      "21/21 [==============================] - 1s 26ms/step - loss: 40160.1133 - val_loss: 17520.2227\n",
      "Epoch 60/100\n",
      "21/21 [==============================] - 1s 26ms/step - loss: 44107.6406 - val_loss: 7647.5254\n",
      "Epoch 61/100\n",
      "21/21 [==============================] - 1s 26ms/step - loss: 43052.7969 - val_loss: 18399.6406\n",
      "Epoch 62/100\n",
      "21/21 [==============================] - 1s 27ms/step - loss: 41777.8242 - val_loss: 26144.8535\n",
      "Epoch 63/100\n",
      "21/21 [==============================] - 1s 26ms/step - loss: 41681.8477 - val_loss: 16050.9531\n",
      "Epoch 64/100\n",
      "21/21 [==============================] - 1s 26ms/step - loss: 39752.8164 - val_loss: 25031.4434\n",
      "Epoch 65/100\n",
      "21/21 [==============================] - 1s 26ms/step - loss: 41914.3828 - val_loss: 6427.4092\n",
      "Epoch 66/100\n",
      "21/21 [==============================] - 1s 27ms/step - loss: 41456.4531 - val_loss: 14543.6230\n",
      "Epoch 67/100\n",
      "21/21 [==============================] - 1s 28ms/step - loss: 41546.8125 - val_loss: 10564.9434\n",
      "Epoch 68/100\n",
      "21/21 [==============================] - 1s 24ms/step - loss: 42458.6992 - val_loss: 9236.4385\n",
      "Epoch 69/100\n",
      "21/21 [==============================] - 0s 24ms/step - loss: 42601.2266 - val_loss: 15941.4971\n",
      "Epoch 70/100\n",
      "21/21 [==============================] - 1s 25ms/step - loss: 43018.9414 - val_loss: 3820.5894\n",
      "Epoch 71/100\n",
      "21/21 [==============================] - 1s 27ms/step - loss: 43316.4336 - val_loss: 11361.8311\n",
      "Epoch 72/100\n",
      "21/21 [==============================] - 1s 26ms/step - loss: 42962.8711 - val_loss: 13754.6348\n",
      "Epoch 73/100\n",
      "21/21 [==============================] - 1s 26ms/step - loss: 41801.5742 - val_loss: 15917.3867\n",
      "Epoch 74/100\n",
      "21/21 [==============================] - 1s 26ms/step - loss: 42477.2461 - val_loss: 19824.0391\n",
      "Epoch 75/100\n",
      "21/21 [==============================] - 1s 30ms/step - loss: 42607.7305 - val_loss: 14622.1523\n",
      "Epoch 76/100\n",
      "21/21 [==============================] - 1s 32ms/step - loss: 41308.0273 - val_loss: 20564.8066\n",
      "Epoch 77/100\n",
      "21/21 [==============================] - 1s 31ms/step - loss: 42225.2305 - val_loss: 16474.9199\n",
      "Epoch 78/100\n",
      "21/21 [==============================] - 1s 31ms/step - loss: 40776.6367 - val_loss: 13960.6719\n",
      "Epoch 79/100\n",
      "21/21 [==============================] - 1s 30ms/step - loss: 42827.5195 - val_loss: 14235.0420\n",
      "Epoch 80/100\n",
      "21/21 [==============================] - 1s 27ms/step - loss: 41741.5508 - val_loss: 19131.9785\n",
      "Epoch 81/100\n",
      "21/21 [==============================] - 1s 27ms/step - loss: 39832.3281 - val_loss: 4208.7622\n",
      "Epoch 82/100\n",
      "21/21 [==============================] - 1s 28ms/step - loss: 41242.7031 - val_loss: 30147.8672\n",
      "Epoch 83/100\n",
      "21/21 [==============================] - 1s 27ms/step - loss: 41279.8047 - val_loss: 24317.1621\n",
      "Epoch 84/100\n",
      "21/21 [==============================] - 1s 27ms/step - loss: 41397.0508 - val_loss: 16504.4766\n",
      "Epoch 85/100\n",
      "21/21 [==============================] - 1s 28ms/step - loss: 41293.6562 - val_loss: 37421.1719\n",
      "Epoch 86/100\n",
      "21/21 [==============================] - 1s 29ms/step - loss: 42185.9297 - val_loss: 32174.2461\n",
      "Epoch 87/100\n",
      "21/21 [==============================] - 1s 30ms/step - loss: 40430.2773 - val_loss: 11241.8535\n",
      "Epoch 88/100\n",
      "21/21 [==============================] - 1s 32ms/step - loss: 41768.9375 - val_loss: 18743.5762\n",
      "Epoch 89/100\n",
      "21/21 [==============================] - 1s 31ms/step - loss: 39121.3672 - val_loss: 19721.2422\n",
      "Epoch 90/100\n",
      "21/21 [==============================] - 1s 31ms/step - loss: 44361.4375 - val_loss: 9366.9785\n",
      "Epoch 91/100\n",
      "21/21 [==============================] - 1s 33ms/step - loss: 40789.3164 - val_loss: 17979.9453\n",
      "Epoch 92/100\n",
      "21/21 [==============================] - 1s 33ms/step - loss: 43176.0430 - val_loss: 30063.4961\n",
      "Epoch 93/100\n",
      "21/21 [==============================] - 1s 31ms/step - loss: 45266.1289 - val_loss: 44658.6250\n",
      "Epoch 94/100\n",
      "21/21 [==============================] - 1s 28ms/step - loss: 43787.5664 - val_loss: 7795.2617\n",
      "Epoch 95/100\n",
      "21/21 [==============================] - 1s 28ms/step - loss: 41761.0586 - val_loss: 41628.7578\n",
      "Epoch 96/100\n",
      "21/21 [==============================] - 1s 27ms/step - loss: 42530.0859 - val_loss: 24286.7051\n",
      "Epoch 97/100\n",
      "21/21 [==============================] - 1s 30ms/step - loss: 40598.0078 - val_loss: 23699.0293\n",
      "Epoch 98/100\n",
      "21/21 [==============================] - 1s 29ms/step - loss: 41498.6523 - val_loss: 45446.7344\n",
      "Epoch 99/100\n",
      "21/21 [==============================] - 1s 30ms/step - loss: 40455.6016 - val_loss: 21694.2441\n",
      "Epoch 100/100\n",
      "21/21 [==============================] - 1s 29ms/step - loss: 40679.3164 - val_loss: 39499.3242\n"
     ]
    }
   ],
   "source": [
    "model_7.compile(loss=\"mae\",\n",
    "                optimizer=\"adam\")\n",
    "\n",
    "model_7_history = model_7.fit(x=X_train,\n",
    "                              y=y_train,\n",
    "                              validation_data=(X_test, y_test),\n",
    "                              epochs=100,\n",
    "                              callbacks=[tensorboard(model_7.name),\n",
    "                                         checkpoint(model_7.name)])"
   ]
  },
  {
   "cell_type": "code",
   "execution_count": 105,
   "id": "51ad09ec-1050-4443-accd-fc6da0689806",
   "metadata": {},
   "outputs": [
    {
     "name": "stdout",
     "output_type": "stream",
     "text": [
      "Epoch 1/100\n",
      "20/21 [===========================>..] - ETA: 0s - loss: 215650.9062"
     ]
    },
    {
     "name": "stderr",
     "output_type": "stream",
     "text": [
      "WARNING:absl:<keras.layers.recurrent.LSTMCell object at 0x000002AE3ECC8A90> has the same name 'LSTMCell' as a built-in Keras object. Consider renaming <class 'keras.layers.recurrent.LSTMCell'> to avoid naming conflicts when loading with `tf.keras.models.load_model`. If renaming is not possible, pass the object in the `custom_objects` parameter of the load function.\n",
      "WARNING:absl:<keras.layers.recurrent.LSTMCell object at 0x000002AE2CE17AC0> has the same name 'LSTMCell' as a built-in Keras object. Consider renaming <class 'keras.layers.recurrent.LSTMCell'> to avoid naming conflicts when loading with `tf.keras.models.load_model`. If renaming is not possible, pass the object in the `custom_objects` parameter of the load function.\n",
      "WARNING:absl:<keras.layers.recurrent.LSTMCell object at 0x000002AE261AAFD0> has the same name 'LSTMCell' as a built-in Keras object. Consider renaming <class 'keras.layers.recurrent.LSTMCell'> to avoid naming conflicts when loading with `tf.keras.models.load_model`. If renaming is not possible, pass the object in the `custom_objects` parameter of the load function.\n",
      "WARNING:absl:<keras.layers.recurrent.LSTMCell object at 0x000002AE23BB0A00> has the same name 'LSTMCell' as a built-in Keras object. Consider renaming <class 'keras.layers.recurrent.LSTMCell'> to avoid naming conflicts when loading with `tf.keras.models.load_model`. If renaming is not possible, pass the object in the `custom_objects` parameter of the load function.\n"
     ]
    },
    {
     "name": "stdout",
     "output_type": "stream",
     "text": [
      "21/21 [==============================] - 13s 416ms/step - loss: 215542.7188 - val_loss: 277938.4062 - lr: 0.0010\n",
      "Epoch 2/100\n",
      "20/21 [===========================>..] - ETA: 0s - loss: 191462.2812"
     ]
    },
    {
     "name": "stderr",
     "output_type": "stream",
     "text": [
      "WARNING:absl:<keras.layers.recurrent.LSTMCell object at 0x000002AE3ECC8A90> has the same name 'LSTMCell' as a built-in Keras object. Consider renaming <class 'keras.layers.recurrent.LSTMCell'> to avoid naming conflicts when loading with `tf.keras.models.load_model`. If renaming is not possible, pass the object in the `custom_objects` parameter of the load function.\n",
      "WARNING:absl:<keras.layers.recurrent.LSTMCell object at 0x000002AE2CE17AC0> has the same name 'LSTMCell' as a built-in Keras object. Consider renaming <class 'keras.layers.recurrent.LSTMCell'> to avoid naming conflicts when loading with `tf.keras.models.load_model`. If renaming is not possible, pass the object in the `custom_objects` parameter of the load function.\n",
      "WARNING:absl:<keras.layers.recurrent.LSTMCell object at 0x000002AE261AAFD0> has the same name 'LSTMCell' as a built-in Keras object. Consider renaming <class 'keras.layers.recurrent.LSTMCell'> to avoid naming conflicts when loading with `tf.keras.models.load_model`. If renaming is not possible, pass the object in the `custom_objects` parameter of the load function.\n",
      "WARNING:absl:<keras.layers.recurrent.LSTMCell object at 0x000002AE23BB0A00> has the same name 'LSTMCell' as a built-in Keras object. Consider renaming <class 'keras.layers.recurrent.LSTMCell'> to avoid naming conflicts when loading with `tf.keras.models.load_model`. If renaming is not possible, pass the object in the `custom_objects` parameter of the load function.\n"
     ]
    },
    {
     "name": "stdout",
     "output_type": "stream",
     "text": [
      "21/21 [==============================] - 8s 376ms/step - loss: 191339.6250 - val_loss: 254794.1406 - lr: 0.0010\n",
      "Epoch 3/100\n",
      "21/21 [==============================] - ETA: 0s - loss: 166584.2969"
     ]
    },
    {
     "name": "stderr",
     "output_type": "stream",
     "text": [
      "WARNING:absl:<keras.layers.recurrent.LSTMCell object at 0x000002AE3ECC8A90> has the same name 'LSTMCell' as a built-in Keras object. Consider renaming <class 'keras.layers.recurrent.LSTMCell'> to avoid naming conflicts when loading with `tf.keras.models.load_model`. If renaming is not possible, pass the object in the `custom_objects` parameter of the load function.\n",
      "WARNING:absl:<keras.layers.recurrent.LSTMCell object at 0x000002AE2CE17AC0> has the same name 'LSTMCell' as a built-in Keras object. Consider renaming <class 'keras.layers.recurrent.LSTMCell'> to avoid naming conflicts when loading with `tf.keras.models.load_model`. If renaming is not possible, pass the object in the `custom_objects` parameter of the load function.\n",
      "WARNING:absl:<keras.layers.recurrent.LSTMCell object at 0x000002AE261AAFD0> has the same name 'LSTMCell' as a built-in Keras object. Consider renaming <class 'keras.layers.recurrent.LSTMCell'> to avoid naming conflicts when loading with `tf.keras.models.load_model`. If renaming is not possible, pass the object in the `custom_objects` parameter of the load function.\n",
      "WARNING:absl:<keras.layers.recurrent.LSTMCell object at 0x000002AE23BB0A00> has the same name 'LSTMCell' as a built-in Keras object. Consider renaming <class 'keras.layers.recurrent.LSTMCell'> to avoid naming conflicts when loading with `tf.keras.models.load_model`. If renaming is not possible, pass the object in the `custom_objects` parameter of the load function.\n"
     ]
    },
    {
     "name": "stdout",
     "output_type": "stream",
     "text": [
      "21/21 [==============================] - 8s 403ms/step - loss: 166584.2969 - val_loss: 197279.3125 - lr: 0.0010\n",
      "Epoch 4/100\n",
      "21/21 [==============================] - ETA: 0s - loss: 132379.5000"
     ]
    },
    {
     "name": "stderr",
     "output_type": "stream",
     "text": [
      "WARNING:absl:<keras.layers.recurrent.LSTMCell object at 0x000002AE3ECC8A90> has the same name 'LSTMCell' as a built-in Keras object. Consider renaming <class 'keras.layers.recurrent.LSTMCell'> to avoid naming conflicts when loading with `tf.keras.models.load_model`. If renaming is not possible, pass the object in the `custom_objects` parameter of the load function.\n",
      "WARNING:absl:<keras.layers.recurrent.LSTMCell object at 0x000002AE2CE17AC0> has the same name 'LSTMCell' as a built-in Keras object. Consider renaming <class 'keras.layers.recurrent.LSTMCell'> to avoid naming conflicts when loading with `tf.keras.models.load_model`. If renaming is not possible, pass the object in the `custom_objects` parameter of the load function.\n",
      "WARNING:absl:<keras.layers.recurrent.LSTMCell object at 0x000002AE261AAFD0> has the same name 'LSTMCell' as a built-in Keras object. Consider renaming <class 'keras.layers.recurrent.LSTMCell'> to avoid naming conflicts when loading with `tf.keras.models.load_model`. If renaming is not possible, pass the object in the `custom_objects` parameter of the load function.\n",
      "WARNING:absl:<keras.layers.recurrent.LSTMCell object at 0x000002AE23BB0A00> has the same name 'LSTMCell' as a built-in Keras object. Consider renaming <class 'keras.layers.recurrent.LSTMCell'> to avoid naming conflicts when loading with `tf.keras.models.load_model`. If renaming is not possible, pass the object in the `custom_objects` parameter of the load function.\n"
     ]
    },
    {
     "name": "stdout",
     "output_type": "stream",
     "text": [
      "21/21 [==============================] - 9s 446ms/step - loss: 132379.5000 - val_loss: 140410.9688 - lr: 0.0010\n",
      "Epoch 5/100\n",
      "21/21 [==============================] - ETA: 0s - loss: 64887.1836"
     ]
    },
    {
     "name": "stderr",
     "output_type": "stream",
     "text": [
      "WARNING:absl:<keras.layers.recurrent.LSTMCell object at 0x000002AE3ECC8A90> has the same name 'LSTMCell' as a built-in Keras object. Consider renaming <class 'keras.layers.recurrent.LSTMCell'> to avoid naming conflicts when loading with `tf.keras.models.load_model`. If renaming is not possible, pass the object in the `custom_objects` parameter of the load function.\n",
      "WARNING:absl:<keras.layers.recurrent.LSTMCell object at 0x000002AE2CE17AC0> has the same name 'LSTMCell' as a built-in Keras object. Consider renaming <class 'keras.layers.recurrent.LSTMCell'> to avoid naming conflicts when loading with `tf.keras.models.load_model`. If renaming is not possible, pass the object in the `custom_objects` parameter of the load function.\n",
      "WARNING:absl:<keras.layers.recurrent.LSTMCell object at 0x000002AE261AAFD0> has the same name 'LSTMCell' as a built-in Keras object. Consider renaming <class 'keras.layers.recurrent.LSTMCell'> to avoid naming conflicts when loading with `tf.keras.models.load_model`. If renaming is not possible, pass the object in the `custom_objects` parameter of the load function.\n",
      "WARNING:absl:<keras.layers.recurrent.LSTMCell object at 0x000002AE23BB0A00> has the same name 'LSTMCell' as a built-in Keras object. Consider renaming <class 'keras.layers.recurrent.LSTMCell'> to avoid naming conflicts when loading with `tf.keras.models.load_model`. If renaming is not possible, pass the object in the `custom_objects` parameter of the load function.\n"
     ]
    },
    {
     "name": "stdout",
     "output_type": "stream",
     "text": [
      "21/21 [==============================] - 8s 403ms/step - loss: 64887.1836 - val_loss: 16187.6553 - lr: 0.0010\n",
      "Epoch 6/100\n",
      "20/21 [===========================>..] - ETA: 0s - loss: 9435.6074 "
     ]
    },
    {
     "name": "stderr",
     "output_type": "stream",
     "text": [
      "WARNING:absl:<keras.layers.recurrent.LSTMCell object at 0x000002AE3ECC8A90> has the same name 'LSTMCell' as a built-in Keras object. Consider renaming <class 'keras.layers.recurrent.LSTMCell'> to avoid naming conflicts when loading with `tf.keras.models.load_model`. If renaming is not possible, pass the object in the `custom_objects` parameter of the load function.\n",
      "WARNING:absl:<keras.layers.recurrent.LSTMCell object at 0x000002AE2CE17AC0> has the same name 'LSTMCell' as a built-in Keras object. Consider renaming <class 'keras.layers.recurrent.LSTMCell'> to avoid naming conflicts when loading with `tf.keras.models.load_model`. If renaming is not possible, pass the object in the `custom_objects` parameter of the load function.\n",
      "WARNING:absl:<keras.layers.recurrent.LSTMCell object at 0x000002AE261AAFD0> has the same name 'LSTMCell' as a built-in Keras object. Consider renaming <class 'keras.layers.recurrent.LSTMCell'> to avoid naming conflicts when loading with `tf.keras.models.load_model`. If renaming is not possible, pass the object in the `custom_objects` parameter of the load function.\n",
      "WARNING:absl:<keras.layers.recurrent.LSTMCell object at 0x000002AE23BB0A00> has the same name 'LSTMCell' as a built-in Keras object. Consider renaming <class 'keras.layers.recurrent.LSTMCell'> to avoid naming conflicts when loading with `tf.keras.models.load_model`. If renaming is not possible, pass the object in the `custom_objects` parameter of the load function.\n"
     ]
    },
    {
     "name": "stdout",
     "output_type": "stream",
     "text": [
      "21/21 [==============================] - 8s 394ms/step - loss: 9423.1016 - val_loss: 9705.7559 - lr: 0.0010\n",
      "Epoch 7/100\n",
      "20/21 [===========================>..] - ETA: 0s - loss: 2800.0132"
     ]
    },
    {
     "name": "stderr",
     "output_type": "stream",
     "text": [
      "WARNING:absl:<keras.layers.recurrent.LSTMCell object at 0x000002AE3ECC8A90> has the same name 'LSTMCell' as a built-in Keras object. Consider renaming <class 'keras.layers.recurrent.LSTMCell'> to avoid naming conflicts when loading with `tf.keras.models.load_model`. If renaming is not possible, pass the object in the `custom_objects` parameter of the load function.\n",
      "WARNING:absl:<keras.layers.recurrent.LSTMCell object at 0x000002AE2CE17AC0> has the same name 'LSTMCell' as a built-in Keras object. Consider renaming <class 'keras.layers.recurrent.LSTMCell'> to avoid naming conflicts when loading with `tf.keras.models.load_model`. If renaming is not possible, pass the object in the `custom_objects` parameter of the load function.\n",
      "WARNING:absl:<keras.layers.recurrent.LSTMCell object at 0x000002AE261AAFD0> has the same name 'LSTMCell' as a built-in Keras object. Consider renaming <class 'keras.layers.recurrent.LSTMCell'> to avoid naming conflicts when loading with `tf.keras.models.load_model`. If renaming is not possible, pass the object in the `custom_objects` parameter of the load function.\n",
      "WARNING:absl:<keras.layers.recurrent.LSTMCell object at 0x000002AE23BB0A00> has the same name 'LSTMCell' as a built-in Keras object. Consider renaming <class 'keras.layers.recurrent.LSTMCell'> to avoid naming conflicts when loading with `tf.keras.models.load_model`. If renaming is not possible, pass the object in the `custom_objects` parameter of the load function.\n"
     ]
    },
    {
     "name": "stdout",
     "output_type": "stream",
     "text": [
      "21/21 [==============================] - 8s 400ms/step - loss: 2793.2009 - val_loss: 2232.5500 - lr: 0.0010\n",
      "Epoch 8/100\n",
      "20/21 [===========================>..] - ETA: 0s - loss: 665.9797"
     ]
    },
    {
     "name": "stderr",
     "output_type": "stream",
     "text": [
      "WARNING:absl:<keras.layers.recurrent.LSTMCell object at 0x000002AE3ECC8A90> has the same name 'LSTMCell' as a built-in Keras object. Consider renaming <class 'keras.layers.recurrent.LSTMCell'> to avoid naming conflicts when loading with `tf.keras.models.load_model`. If renaming is not possible, pass the object in the `custom_objects` parameter of the load function.\n",
      "WARNING:absl:<keras.layers.recurrent.LSTMCell object at 0x000002AE2CE17AC0> has the same name 'LSTMCell' as a built-in Keras object. Consider renaming <class 'keras.layers.recurrent.LSTMCell'> to avoid naming conflicts when loading with `tf.keras.models.load_model`. If renaming is not possible, pass the object in the `custom_objects` parameter of the load function.\n",
      "WARNING:absl:<keras.layers.recurrent.LSTMCell object at 0x000002AE261AAFD0> has the same name 'LSTMCell' as a built-in Keras object. Consider renaming <class 'keras.layers.recurrent.LSTMCell'> to avoid naming conflicts when loading with `tf.keras.models.load_model`. If renaming is not possible, pass the object in the `custom_objects` parameter of the load function.\n",
      "WARNING:absl:<keras.layers.recurrent.LSTMCell object at 0x000002AE23BB0A00> has the same name 'LSTMCell' as a built-in Keras object. Consider renaming <class 'keras.layers.recurrent.LSTMCell'> to avoid naming conflicts when loading with `tf.keras.models.load_model`. If renaming is not possible, pass the object in the `custom_objects` parameter of the load function.\n"
     ]
    },
    {
     "name": "stdout",
     "output_type": "stream",
     "text": [
      "21/21 [==============================] - 10s 473ms/step - loss: 665.7933 - val_loss: 1479.5609 - lr: 0.0010\n",
      "Epoch 9/100\n",
      "21/21 [==============================] - ETA: 0s - loss: 398.4339"
     ]
    },
    {
     "name": "stderr",
     "output_type": "stream",
     "text": [
      "WARNING:absl:<keras.layers.recurrent.LSTMCell object at 0x000002AE3ECC8A90> has the same name 'LSTMCell' as a built-in Keras object. Consider renaming <class 'keras.layers.recurrent.LSTMCell'> to avoid naming conflicts when loading with `tf.keras.models.load_model`. If renaming is not possible, pass the object in the `custom_objects` parameter of the load function.\n",
      "WARNING:absl:<keras.layers.recurrent.LSTMCell object at 0x000002AE2CE17AC0> has the same name 'LSTMCell' as a built-in Keras object. Consider renaming <class 'keras.layers.recurrent.LSTMCell'> to avoid naming conflicts when loading with `tf.keras.models.load_model`. If renaming is not possible, pass the object in the `custom_objects` parameter of the load function.\n",
      "WARNING:absl:<keras.layers.recurrent.LSTMCell object at 0x000002AE261AAFD0> has the same name 'LSTMCell' as a built-in Keras object. Consider renaming <class 'keras.layers.recurrent.LSTMCell'> to avoid naming conflicts when loading with `tf.keras.models.load_model`. If renaming is not possible, pass the object in the `custom_objects` parameter of the load function.\n",
      "WARNING:absl:<keras.layers.recurrent.LSTMCell object at 0x000002AE23BB0A00> has the same name 'LSTMCell' as a built-in Keras object. Consider renaming <class 'keras.layers.recurrent.LSTMCell'> to avoid naming conflicts when loading with `tf.keras.models.load_model`. If renaming is not possible, pass the object in the `custom_objects` parameter of the load function.\n"
     ]
    },
    {
     "name": "stdout",
     "output_type": "stream",
     "text": [
      "21/21 [==============================] - 8s 398ms/step - loss: 398.4339 - val_loss: 964.4410 - lr: 0.0010\n",
      "Epoch 10/100\n",
      "19/21 [==========================>...] - ETA: 0s - loss: 332.8620"
     ]
    },
    {
     "name": "stderr",
     "output_type": "stream",
     "text": [
      "WARNING:absl:<keras.layers.recurrent.LSTMCell object at 0x000002AE3ECC8A90> has the same name 'LSTMCell' as a built-in Keras object. Consider renaming <class 'keras.layers.recurrent.LSTMCell'> to avoid naming conflicts when loading with `tf.keras.models.load_model`. If renaming is not possible, pass the object in the `custom_objects` parameter of the load function.\n",
      "WARNING:absl:<keras.layers.recurrent.LSTMCell object at 0x000002AE2CE17AC0> has the same name 'LSTMCell' as a built-in Keras object. Consider renaming <class 'keras.layers.recurrent.LSTMCell'> to avoid naming conflicts when loading with `tf.keras.models.load_model`. If renaming is not possible, pass the object in the `custom_objects` parameter of the load function.\n",
      "WARNING:absl:<keras.layers.recurrent.LSTMCell object at 0x000002AE261AAFD0> has the same name 'LSTMCell' as a built-in Keras object. Consider renaming <class 'keras.layers.recurrent.LSTMCell'> to avoid naming conflicts when loading with `tf.keras.models.load_model`. If renaming is not possible, pass the object in the `custom_objects` parameter of the load function.\n",
      "WARNING:absl:<keras.layers.recurrent.LSTMCell object at 0x000002AE23BB0A00> has the same name 'LSTMCell' as a built-in Keras object. Consider renaming <class 'keras.layers.recurrent.LSTMCell'> to avoid naming conflicts when loading with `tf.keras.models.load_model`. If renaming is not possible, pass the object in the `custom_objects` parameter of the load function.\n"
     ]
    },
    {
     "name": "stdout",
     "output_type": "stream",
     "text": [
      "21/21 [==============================] - 8s 385ms/step - loss: 328.3969 - val_loss: 386.4441 - lr: 0.0010\n",
      "Epoch 11/100\n",
      "21/21 [==============================] - 0s 23ms/step - loss: 299.4533 - val_loss: 394.1213 - lr: 0.0010\n",
      "Epoch 12/100\n",
      "21/21 [==============================] - 0s 24ms/step - loss: 277.3365 - val_loss: 833.4208 - lr: 0.0010\n",
      "Epoch 13/100\n",
      "21/21 [==============================] - 1s 27ms/step - loss: 262.2451 - val_loss: 1005.3744 - lr: 0.0010\n",
      "Epoch 14/100\n",
      "21/21 [==============================] - 1s 26ms/step - loss: 263.7004 - val_loss: 903.8915 - lr: 0.0010\n",
      "Epoch 15/100\n",
      "21/21 [==============================] - 1s 28ms/step - loss: 279.2913 - val_loss: 476.9284 - lr: 0.0010\n",
      "Epoch 16/100\n",
      "21/21 [==============================] - 1s 27ms/step - loss: 243.0707 - val_loss: 608.1916 - lr: 2.0000e-04\n",
      "Epoch 17/100\n",
      "21/21 [==============================] - 1s 28ms/step - loss: 251.0130 - val_loss: 398.6601 - lr: 2.0000e-04\n",
      "Epoch 18/100\n",
      "21/21 [==============================] - 1s 26ms/step - loss: 243.8809 - val_loss: 571.6147 - lr: 2.0000e-04\n",
      "Epoch 19/100\n",
      "21/21 [==============================] - 0s 23ms/step - loss: 241.7782 - val_loss: 433.0687 - lr: 2.0000e-04\n",
      "Epoch 20/100\n",
      "21/21 [==============================] - 1s 28ms/step - loss: 248.5634 - val_loss: 410.8197 - lr: 2.0000e-04\n"
     ]
    }
   ],
   "source": [
    "inputs = layers.Input(shape=(WINDOW), dtype=tf.float32)\n",
    "x = layers.Lambda(lambda x: tf.expand_dims(x, axis=1))(inputs)\n",
    "x = layers.Bidirectional(layers.LSTM(64, activation=\"relu\", return_sequences=True))(x)\n",
    "x = layers.Bidirectional(layers.LSTM(64, activation=\"relu\"))(x)\n",
    "outputs = layers.Dense(HORIZON)(x)\n",
    "\n",
    "model_8 = tf.keras.Model(inputs, outputs, name=\"model_8\")\n",
    "\n",
    "model_8.compile(loss=\"mae\",\n",
    "                optimizer=\"adam\")\n",
    "\n",
    "model_8_history = model_8.fit(x=X_train,\n",
    "                              y=y_train,\n",
    "                              validation_data=(X_test, y_test),\n",
    "                              epochs=100,\n",
    "                              callbacks=[tensorboard(model_8.name),\n",
    "                                         checkpoint(model_8.name),\n",
    "                                         reduce_lr,\n",
    "                                         early_stopping])"
   ]
  },
  {
   "cell_type": "code",
   "execution_count": 106,
   "id": "54b0212c-a0b6-4341-9b6a-54996b5c7c85",
   "metadata": {},
   "outputs": [
    {
     "name": "stdout",
     "output_type": "stream",
     "text": [
      "21/21 [==============================] - 0s 4ms/step - loss: 261.8871\n",
      "6/6 [==============================] - 0s 4ms/step - loss: 386.4441\n"
     ]
    },
    {
     "data": {
      "text/plain": [
       "(261.8870544433594, 386.444091796875)"
      ]
     },
     "execution_count": 106,
     "metadata": {},
     "output_type": "execute_result"
    }
   ],
   "source": [
    "model_8.evaluate(X_train, y_train), model_8.evaluate(X_test, y_test)"
   ]
  },
  {
   "cell_type": "code",
   "execution_count": 117,
   "id": "c24d1c95-eabc-44d2-a738-8e5d59db9d89",
   "metadata": {},
   "outputs": [],
   "source": [
    "model_9 = tf.keras.Sequential([\n",
    "    layers.Input(shape=(WINDOW), dtype=tf.float32),\n",
    "    layers.Lambda(lambda x: tf.expand_dims(x, axis=1)),\n",
    "    layers.Conv1D(128, 12, activation=\"relu\", padding=\"causal\"),\n",
    "    layers.Conv1D(128, 12, activation=\"relu\", padding=\"causal\"),\n",
    "    layers.GlobalAveragePooling1D(),\n",
    "    layers.Dense(HORIZON)\n",
    "], name=\"model_9\")"
   ]
  },
  {
   "cell_type": "code",
   "execution_count": 118,
   "id": "dead01d1-092d-4e0b-acec-d8ef78efaf8a",
   "metadata": {},
   "outputs": [
    {
     "name": "stdout",
     "output_type": "stream",
     "text": [
      "Model: \"model_9\"\n",
      "_________________________________________________________________\n",
      " Layer (type)                Output Shape              Param #   \n",
      "=================================================================\n",
      " lambda_10 (Lambda)          (None, 1, 12)             0         \n",
      "                                                                 \n",
      " conv1d_11 (Conv1D)          (None, 1, 128)            18560     \n",
      "                                                                 \n",
      " conv1d_12 (Conv1D)          (None, 1, 128)            196736    \n",
      "                                                                 \n",
      " global_average_pooling1d_7   (None, 128)              0         \n",
      " (GlobalAveragePooling1D)                                        \n",
      "                                                                 \n",
      " dense_14 (Dense)            (None, 1)                 129       \n",
      "                                                                 \n",
      "=================================================================\n",
      "Total params: 215,425\n",
      "Trainable params: 215,425\n",
      "Non-trainable params: 0\n",
      "_________________________________________________________________\n"
     ]
    }
   ],
   "source": [
    "model_9.summary()"
   ]
  },
  {
   "cell_type": "code",
   "execution_count": 119,
   "id": "8d56e091-a039-4515-aebb-dbc42a4efc3f",
   "metadata": {
    "scrolled": true
   },
   "outputs": [
    {
     "name": "stdout",
     "output_type": "stream",
     "text": [
      "Epoch 1/100\n",
      "21/21 [==============================] - 3s 51ms/step - loss: 88873.5469 - val_loss: 26003.5625 - lr: 0.0010\n",
      "Epoch 2/100\n",
      "21/21 [==============================] - 1s 42ms/step - loss: 15801.1182 - val_loss: 9596.4834 - lr: 0.0010\n",
      "Epoch 3/100\n",
      "21/21 [==============================] - 1s 43ms/step - loss: 8349.4180 - val_loss: 3545.0901 - lr: 0.0010\n",
      "Epoch 4/100\n",
      "21/21 [==============================] - 0s 12ms/step - loss: 2323.0793 - val_loss: 6191.4951 - lr: 0.0010\n",
      "Epoch 5/100\n",
      "21/21 [==============================] - 0s 10ms/step - loss: 2762.0593 - val_loss: 4056.4429 - lr: 0.0010\n",
      "Epoch 6/100\n",
      "21/21 [==============================] - 0s 10ms/step - loss: 2559.8342 - val_loss: 4661.4829 - lr: 0.0010\n",
      "Epoch 7/100\n",
      "21/21 [==============================] - 1s 45ms/step - loss: 1781.8960 - val_loss: 2281.2751 - lr: 0.0010\n",
      "Epoch 8/100\n",
      "21/21 [==============================] - 0s 11ms/step - loss: 2099.2224 - val_loss: 10401.9053 - lr: 0.0010\n",
      "Epoch 9/100\n",
      "21/21 [==============================] - 1s 42ms/step - loss: 4012.7048 - val_loss: 245.2999 - lr: 0.0010\n",
      "Epoch 10/100\n",
      "21/21 [==============================] - 0s 10ms/step - loss: 1404.3054 - val_loss: 1696.3098 - lr: 0.0010\n",
      "Epoch 11/100\n",
      "21/21 [==============================] - 0s 9ms/step - loss: 1383.3981 - val_loss: 2343.9346 - lr: 0.0010\n",
      "Epoch 12/100\n",
      "21/21 [==============================] - 0s 8ms/step - loss: 1238.5984 - val_loss: 1241.2924 - lr: 0.0010\n",
      "Epoch 13/100\n",
      "21/21 [==============================] - 0s 9ms/step - loss: 1163.2880 - val_loss: 2381.4092 - lr: 0.0010\n",
      "Epoch 14/100\n",
      "21/21 [==============================] - 0s 9ms/step - loss: 1066.1042 - val_loss: 3038.6333 - lr: 0.0010\n",
      "Epoch 15/100\n",
      "21/21 [==============================] - 0s 9ms/step - loss: 747.8597 - val_loss: 1476.2415 - lr: 2.0000e-04\n",
      "Epoch 16/100\n",
      "21/21 [==============================] - 1s 40ms/step - loss: 467.0971 - val_loss: 188.5637 - lr: 2.0000e-04\n",
      "Epoch 17/100\n",
      "21/21 [==============================] - 0s 9ms/step - loss: 427.9120 - val_loss: 1019.5528 - lr: 2.0000e-04\n",
      "Epoch 18/100\n",
      "21/21 [==============================] - 1s 43ms/step - loss: 536.0120 - val_loss: 155.5547 - lr: 2.0000e-04\n",
      "Epoch 19/100\n",
      "21/21 [==============================] - 0s 11ms/step - loss: 343.7005 - val_loss: 1940.8812 - lr: 2.0000e-04\n",
      "Epoch 20/100\n",
      "21/21 [==============================] - 0s 10ms/step - loss: 696.7236 - val_loss: 306.0181 - lr: 2.0000e-04\n",
      "Epoch 21/100\n",
      "21/21 [==============================] - 0s 10ms/step - loss: 287.5364 - val_loss: 983.2515 - lr: 2.0000e-04\n",
      "Epoch 22/100\n",
      "21/21 [==============================] - 0s 10ms/step - loss: 319.0079 - val_loss: 290.9519 - lr: 2.0000e-04\n",
      "Epoch 23/100\n",
      "21/21 [==============================] - 0s 10ms/step - loss: 300.6337 - val_loss: 919.8824 - lr: 2.0000e-04\n",
      "Epoch 24/100\n",
      "21/21 [==============================] - 0s 10ms/step - loss: 270.4359 - val_loss: 665.6776 - lr: 4.0000e-05\n",
      "Epoch 25/100\n",
      "21/21 [==============================] - 0s 10ms/step - loss: 254.8580 - val_loss: 412.1275 - lr: 4.0000e-05\n",
      "Epoch 26/100\n",
      "21/21 [==============================] - 0s 10ms/step - loss: 257.9252 - val_loss: 742.1592 - lr: 4.0000e-05\n",
      "Epoch 27/100\n",
      "21/21 [==============================] - 0s 11ms/step - loss: 259.9850 - val_loss: 871.0359 - lr: 4.0000e-05\n",
      "Epoch 28/100\n",
      "21/21 [==============================] - 0s 12ms/step - loss: 274.7363 - val_loss: 897.7523 - lr: 4.0000e-05\n"
     ]
    }
   ],
   "source": [
    "model_9.compile(loss=\"mae\",\n",
    "                optimizer=\"adam\")\n",
    "\n",
    "model_9_history = model_9.fit(x=X_train,\n",
    "                              y=y_train,\n",
    "                              validation_data=(X_test, y_test),\n",
    "                              epochs=100,\n",
    "                              callbacks=[tensorboard(model_9.name),\n",
    "                                         checkpoint(model_9.name),\n",
    "                                         reduce_lr,\n",
    "                                         early_stopping])"
   ]
  },
  {
   "cell_type": "code",
   "execution_count": 122,
   "id": "c4667218-f1e1-4457-96e5-f159399d0af4",
   "metadata": {},
   "outputs": [
    {
     "name": "stdout",
     "output_type": "stream",
     "text": [
      "21/21 [==============================] - 0s 6ms/step - loss: 554.1080\n",
      "6/6 [==============================] - 0s 5ms/step - loss: 155.5547\n"
     ]
    },
    {
     "data": {
      "text/plain": [
       "(554.1079711914062, 155.5547332763672)"
      ]
     },
     "execution_count": 122,
     "metadata": {},
     "output_type": "execute_result"
    }
   ],
   "source": [
    "model_9.evaluate(X_train, y_train), model_9.evaluate(X_test, y_test)"
   ]
  },
  {
   "cell_type": "code",
   "execution_count": 129,
   "id": "5a4baea8-ccc2-456e-824a-6884065ce1e3",
   "metadata": {
    "scrolled": true
   },
   "outputs": [
    {
     "name": "stdout",
     "output_type": "stream",
     "text": [
      "Epoch 1/100\n",
      "21/21 [==============================] - 1s 42ms/step - loss: 131708.5156 - val_loss: 26256.9219 - lr: 0.0010\n",
      "Epoch 2/100\n",
      "21/21 [==============================] - 1s 32ms/step - loss: 15949.4092 - val_loss: 6302.9609 - lr: 0.0010\n",
      "Epoch 3/100\n",
      "21/21 [==============================] - 1s 35ms/step - loss: 1897.9164 - val_loss: 1438.6593 - lr: 0.0010\n",
      "Epoch 4/100\n",
      "21/21 [==============================] - 0s 8ms/step - loss: 680.7670 - val_loss: 2180.8882 - lr: 0.0010\n",
      "Epoch 5/100\n",
      "21/21 [==============================] - 0s 8ms/step - loss: 1135.2068 - val_loss: 2110.2126 - lr: 0.0010\n",
      "Epoch 6/100\n",
      "21/21 [==============================] - 1s 33ms/step - loss: 1117.1543 - val_loss: 1071.4858 - lr: 0.0010\n",
      "Epoch 7/100\n",
      "21/21 [==============================] - 1s 32ms/step - loss: 950.8594 - val_loss: 509.5775 - lr: 0.0010\n",
      "Epoch 8/100\n",
      "21/21 [==============================] - 0s 7ms/step - loss: 1712.5844 - val_loss: 1495.9454 - lr: 0.0010\n",
      "Epoch 9/100\n",
      "21/21 [==============================] - 0s 7ms/step - loss: 1565.7421 - val_loss: 4859.6392 - lr: 0.0010\n",
      "Epoch 10/100\n",
      "21/21 [==============================] - 0s 7ms/step - loss: 1667.4279 - val_loss: 4571.4707 - lr: 0.0010\n",
      "Epoch 11/100\n",
      "21/21 [==============================] - 0s 8ms/step - loss: 2048.1897 - val_loss: 3462.3789 - lr: 0.0010\n",
      "Epoch 12/100\n",
      "21/21 [==============================] - 0s 9ms/step - loss: 2114.7119 - val_loss: 1812.6322 - lr: 0.0010\n",
      "Epoch 13/100\n",
      "21/21 [==============================] - 0s 7ms/step - loss: 662.3217 - val_loss: 564.4229 - lr: 2.0000e-04\n",
      "Epoch 14/100\n",
      "21/21 [==============================] - 1s 37ms/step - loss: 226.7389 - val_loss: 137.3494 - lr: 2.0000e-04\n",
      "Epoch 15/100\n",
      "21/21 [==============================] - 0s 7ms/step - loss: 194.8552 - val_loss: 465.6797 - lr: 2.0000e-04\n",
      "Epoch 16/100\n",
      "21/21 [==============================] - 0s 7ms/step - loss: 175.4950 - val_loss: 493.2323 - lr: 2.0000e-04\n",
      "Epoch 17/100\n",
      "21/21 [==============================] - 0s 7ms/step - loss: 188.9307 - val_loss: 247.2242 - lr: 2.0000e-04\n",
      "Epoch 18/100\n",
      "21/21 [==============================] - 0s 9ms/step - loss: 178.3232 - val_loss: 412.1046 - lr: 2.0000e-04\n",
      "Epoch 19/100\n",
      "21/21 [==============================] - 0s 9ms/step - loss: 174.0590 - val_loss: 397.8185 - lr: 2.0000e-04\n",
      "Epoch 20/100\n",
      "21/21 [==============================] - 0s 10ms/step - loss: 168.3721 - val_loss: 523.8201 - lr: 4.0000e-05\n",
      "Epoch 21/100\n",
      "21/21 [==============================] - 0s 9ms/step - loss: 174.9144 - val_loss: 408.3220 - lr: 4.0000e-05\n",
      "Epoch 22/100\n",
      "21/21 [==============================] - 0s 9ms/step - loss: 168.6782 - val_loss: 475.8527 - lr: 4.0000e-05\n",
      "Epoch 23/100\n",
      "21/21 [==============================] - 0s 8ms/step - loss: 172.6379 - val_loss: 351.2319 - lr: 4.0000e-05\n",
      "Epoch 24/100\n",
      "21/21 [==============================] - 0s 9ms/step - loss: 174.2169 - val_loss: 308.5567 - lr: 4.0000e-05\n"
     ]
    }
   ],
   "source": [
    "tf.keras.backend.clear_session()\n",
    "\n",
    "model_10 = tf.keras.Sequential([\n",
    "    layers.Input(shape=(WINDOW), dtype=tf.float32),\n",
    "    layers.Lambda(lambda x: tf.expand_dims(x, axis=1)),\n",
    "    layers.Conv1D(64, 3, activation=\"relu\", padding=\"causal\"),\n",
    "    layers.GlobalAveragePooling1D(),\n",
    "    layers.Dense(HORIZON)\n",
    "], name=\"model_10\")\n",
    "\n",
    "model_10.compile(loss=\"mae\",\n",
    "                optimizer=\"adam\")\n",
    "\n",
    "model_10_history = model_10.fit(x=X_train,\n",
    "                              y=y_train,\n",
    "                              validation_data=(X_test, y_test),\n",
    "                              epochs=100,\n",
    "                              callbacks=[tensorboard(model_10.name),\n",
    "                                         checkpoint(model_10.name),\n",
    "                                         reduce_lr,\n",
    "                                         early_stopping])"
   ]
  },
  {
   "cell_type": "code",
   "execution_count": 130,
   "id": "4598b76b-5d79-4d6f-a0bb-a03353993ddc",
   "metadata": {},
   "outputs": [
    {
     "name": "stdout",
     "output_type": "stream",
     "text": [
      "21/21 [==============================] - 0s 4ms/step - loss: 294.7295\n",
      "6/6 [==============================] - 0s 3ms/step - loss: 137.3494\n"
     ]
    },
    {
     "data": {
      "text/plain": [
       "(294.7295227050781, 137.34938049316406)"
      ]
     },
     "execution_count": 130,
     "metadata": {},
     "output_type": "execute_result"
    }
   ],
   "source": [
    "model_10.evaluate(X_train, y_train), model_10.evaluate(X_test, y_test)"
   ]
  },
  {
   "cell_type": "code",
   "execution_count": 132,
   "id": "6bbf4833-09c3-4315-a615-5bc69140dd46",
   "metadata": {},
   "outputs": [
    {
     "data": {
      "image/png": "[encoded data removed]",
      "text/plain": [
       "<Figure size 1000x700 with 1 Axes>"
      ]
     },
     "metadata": {},
     "output_type": "display_data"
    }
   ],
   "source": [
    "plt.figure(figsize=(10, 7))\n",
    "plt.plot(model_10_history.history[\"loss\"], label=\"Training Loss\")\n",
    "plt.plot(model_10_history.history[\"val_loss\"], label=\"Evaluation Loss\")\n",
    "plt.xlabel(\"Epoch\")\n",
    "plt.ylabel(\"Loss\")\n",
    "plt.legend()\n",
    "plt.show()"
   ]
  },
  {
   "cell_type": "code",
   "execution_count": 134,
   "id": "651bcc0f-ed67-48f8-99e8-74471536b2fb",
   "metadata": {
    "scrolled": true
   },
   "outputs": [
    {
     "data": {
      "text/plain": [
       "{'loss': [131708.515625,\n",
       "  15949.4091796875,\n",
       "  1897.9163818359375,\n",
       "  680.7669677734375,\n",
       "  1135.206787109375,\n",
       "  1117.154296875,\n",
       "  950.859375,\n",
       "  1712.5843505859375,\n",
       "  1565.7420654296875,\n",
       "  1667.4278564453125,\n",
       "  2048.189697265625,\n",
       "  2114.7119140625,\n",
       "  662.3217163085938,\n",
       "  226.73887634277344,\n",
       "  194.85523986816406,\n",
       "  175.49496459960938,\n",
       "  188.9307403564453,\n",
       "  178.3231658935547,\n",
       "  174.05897521972656,\n",
       "  168.37208557128906,\n",
       "  174.91441345214844,\n",
       "  168.67822265625,\n",
       "  172.63790893554688,\n",
       "  174.21694946289062],\n",
       " 'val_loss': [26256.921875,\n",
       "  6302.9609375,\n",
       "  1438.6593017578125,\n",
       "  2180.88818359375,\n",
       "  2110.212646484375,\n",
       "  1071.48583984375,\n",
       "  509.57745361328125,\n",
       "  1495.9454345703125,\n",
       "  4859.63916015625,\n",
       "  4571.470703125,\n",
       "  3462.37890625,\n",
       "  1812.6322021484375,\n",
       "  564.4229125976562,\n",
       "  137.34938049316406,\n",
       "  465.67974853515625,\n",
       "  493.2323303222656,\n",
       "  247.22418212890625,\n",
       "  412.1046142578125,\n",
       "  397.8185119628906,\n",
       "  523.820068359375,\n",
       "  408.322021484375,\n",
       "  475.8526916503906,\n",
       "  351.23193359375,\n",
       "  308.5566711425781],\n",
       " 'lr': [0.001,\n",
       "  0.001,\n",
       "  0.001,\n",
       "  0.001,\n",
       "  0.001,\n",
       "  0.001,\n",
       "  0.001,\n",
       "  0.001,\n",
       "  0.001,\n",
       "  0.001,\n",
       "  0.001,\n",
       "  0.001,\n",
       "  0.00020000001,\n",
       "  0.00020000001,\n",
       "  0.00020000001,\n",
       "  0.00020000001,\n",
       "  0.00020000001,\n",
       "  0.00020000001,\n",
       "  0.00020000001,\n",
       "  4.0000003e-05,\n",
       "  4.0000003e-05,\n",
       "  4.0000003e-05,\n",
       "  4.0000003e-05,\n",
       "  4.0000003e-05]}"
      ]
     },
     "execution_count": 134,
     "metadata": {},
     "output_type": "execute_result"
    }
   ],
   "source": [
    "model_10_history.history"
   ]
  },
  {
   "cell_type": "code",
   "execution_count": 139,
   "id": "6bf85594-aa00-4cd5-b1ad-11d99908832e",
   "metadata": {},
   "outputs": [],
   "source": [
    "from sklearn.metrics import mean_absolute_error, mean_squared_error, r2_score\n",
    "\n",
    "def evaluate_time_series_model(actual_values, predicted_values):\n",
    "    \"\"\"\n",
    "    Evaluate a time series model for forecasting population.\n",
    "\n",
    "    Parameters:\n",
    "    - actual_values: 1D array or list of actual population values.\n",
    "    - predicted_values: 1D array or list of predicted population values.\n",
    "\n",
    "    Returns:\n",
    "    - evaluation_results: Dictionary containing evaluation metrics.\n",
    "    \"\"\"\n",
    "    actual_values = np.array(actual_values)\n",
    "    predicted_values = np.array(predicted_values)\n",
    "\n",
    "    # Mean Absolute Error (MAE)\n",
    "    mae = mean_absolute_error(actual_values, predicted_values)\n",
    "\n",
    "    # Mean Squared Error (MSE)\n",
    "    mse = mean_squared_error(actual_values, predicted_values)\n",
    "\n",
    "    # Root Mean Squared Error (RMSE)\n",
    "    rmse = np.sqrt(mse)\n",
    "\n",
    "    # Mean Absolute Percentage Error (MAPE)\n",
    "    mask = actual_values != 0  # Avoid division by zero\n",
    "    mape = np.mean(np.abs((actual_values - predicted_values) / actual_values)[mask]) * 100\n",
    "\n",
    "    # R-squared (R2)\n",
    "    r2 = r2_score(actual_values, predicted_values)\n",
    "\n",
    "    evaluation_results = {\n",
    "        'MAE': mae,\n",
    "        'MSE': mse,\n",
    "        'RMSE': rmse,\n",
    "        'MAPE': mape,\n",
    "        'R2': r2\n",
    "    }\n",
    "\n",
    "    return evaluation_results"
   ]
  },
  {
   "cell_type": "code",
   "execution_count": 161,
   "id": "f55b68df-2e3e-487e-94e4-a00ed5f3f006",
   "metadata": {},
   "outputs": [
    {
     "data": {
      "text/plain": [
       "<tf.Tensor: shape=(10,), dtype=float32, numpy=\n",
       "array([299075.1 , 299314.34, 299564.97, 299825.7 , 300087.28, 300344.9 ,\n",
       "       300601.84, 300843.62, 301085.03, 301324.8 ], dtype=float32)>"
      ]
     },
     "execution_count": 161,
     "metadata": {},
     "output_type": "execute_result"
    }
   ],
   "source": [
    "model_10_preds = tf.squeeze(model_10.predict(X_test))\n",
    "model_10_preds[:10]"
   ]
  },
  {
   "cell_type": "code",
   "execution_count": 162,
   "id": "fed3880c-ce54-490a-81ab-0670155e2fed",
   "metadata": {},
   "outputs": [
    {
     "data": {
      "text/plain": [
       "{'MAE': 137.34938,\n",
       " 'MSE': 24053.213,\n",
       " 'RMSE': 155.09099,\n",
       " 'MAPE': 0.043445645133033395,\n",
       " 'R2': 0.9996930145529435}"
      ]
     },
     "execution_count": 162,
     "metadata": {},
     "output_type": "execute_result"
    }
   ],
   "source": [
    "model_10_results = evaluate_time_series_model(y_test, model_10_preds)\n",
    "model_10_results"
   ]
  },
  {
   "cell_type": "code",
   "execution_count": 141,
   "id": "66ff2c54-ab47-4d05-aaf0-f78a61565a77",
   "metadata": {},
   "outputs": [
    {
     "data": {
      "text/plain": [
       "Reusing TensorBoard on port 8080 (pid 30792), started 3:48:08 ago. (Use '!kill 30792' to kill it.)"
      ]
     },
     "metadata": {},
     "output_type": "display_data"
    },
    {
     "data": {
      "text/html": [
       "\n",
       "      <iframe id=\"tensorboard-frame-6a978c5719385e2\" width=\"100%\" height=\"800\" frameborder=\"0\">\n",
       "      </iframe>\n",
       "      <script>\n",
       "        (function() {\n",
       "          const frame = document.getElementById(\"tensorboard-frame-6a978c5719385e2\");\n",
       "          const url = new URL(\"/\", window.location);\n",
       "          const port = 8080;\n",
       "          if (port) {\n",
       "            url.port = port;\n",
       "          }\n",
       "          frame.src = url;\n",
       "        })();\n",
       "      </script>\n",
       "    "
      ],
      "text/plain": [
       "<IPython.core.display.HTML object>"
      ]
     },
     "metadata": {},
     "output_type": "display_data"
    }
   ],
   "source": [
    "%tensorboard --logdir model_logs/population --port 8080"
   ]
  },
  {
   "cell_type": "code",
   "execution_count": 163,
   "id": "cf2cd455-01f6-474c-bd9d-8409245be591",
   "metadata": {
    "scrolled": true
   },
   "outputs": [
    {
     "data": {
      "text/plain": [
       "<tf.Tensor: shape=(161,), dtype=float32, numpy=\n",
       "array([ 187.90625,  239.65625,  270.03125,  268.3125 ,  252.71875,\n",
       "        229.09375,  200.15625,  177.375  ,  168.96875,  158.1875 ,\n",
       "        179.6875 ,  205.3125 ,  221.40625,  248.5625 ,  251.5    ,\n",
       "        238.25   ,  212.96875,  180.96875,  136.90625,  100.90625,\n",
       "         82.84375,   65.28125,   82.65625,  103.15625,  124.40625,\n",
       "        156.75   ,  164.34375,  153.65625,  130.65625,  100.28125,\n",
       "         62.65625,   32.875  ,   17.71875,    5.53125,   24.21875,\n",
       "         47.4375 ,   79.46875,  118.5625 ,  131.71875,  124.9375 ,\n",
       "        103.59375,   73.65625,   41.59375,   14.125  , -218.09375,\n",
       "       -219.375  , -194.90625, -158.15625,  -96.09375,  -64.15625,\n",
       "        -52.59375,  -43.34375,  -35.1875 ,  -93.75   , -105.21875,\n",
       "       -148.40625, -140.21875, -145.125  , -133.625  ,  -99.8125 ,\n",
       "        -78.53125,  -43.5    ,  -22.15625,  -41.9375 ,  -63.46875,\n",
       "        -84.28125, -120.03125, -139.75   , -147.40625, -161.9375 ,\n",
       "       -144.21875, -124.53125,  -95.8125 ,  -55.71875,  -42.15625,\n",
       "        -44.     ,  -64.6875 , -105.03125, -164.3125 , -195.6875 ,\n",
       "       -209.21875, -203.4375 , -175.15625, -157.4375 , -110.71875,\n",
       "        -67.96875,  -43.34375,  -39.90625,  -58.4375 ,  -76.90625,\n",
       "       -109.3125 , -130.34375, -143.125  , -138.46875, -122.8125 ,\n",
       "       -105.46875,  -61.8125 ,  -27.75   ,   -0.4375 ,   -2.8125 ,\n",
       "        -33.90625,  -60.8125 , -114.03125, -146.125  , -157.25   ,\n",
       "       -149.78125, -138.25   , -111.5625 ,  -76.75   ,  -48.8125 ,\n",
       "        -19.90625,  -29.5    ,  -50.9375 ,  -66.25   ,  -98.84375,\n",
       "       -138.0625 , -152.84375, -154.375  , -145.09375, -119.125  ,\n",
       "        -97.6875 ,  -84.28125,  -67.6875 ,  -82.     , -113.96875,\n",
       "       -142.34375, -184.8125 , -227.90625, -245.1875 , -249.125  ,\n",
       "       -241.90625, -217.8125 , -185.59375, -161.8125 , -139.     ,\n",
       "       -147.15625, -175.53125, -201.59375, -227.21875, -256.5    ,\n",
       "       -264.25   , -259.21875, -247.6875 , -219.65625, -190.78125,\n",
       "       -170.71875, -152.5625 , -161.46875, -191.46875, -218.1875 ,\n",
       "       -245.90625, -276.4375 , -284.40625, -280.78125, -269.4375 ,\n",
       "       -241.9375 , -209.3125 , -185.90625, -165.25   , -172.28125,\n",
       "       -201.15625], dtype=float32)>"
      ]
     },
     "execution_count": 163,
     "metadata": {},
     "output_type": "execute_result"
    }
   ],
   "source": [
    "residuals = y_test - model_10_preds\n",
    "residuals"
   ]
  },
  {
   "cell_type": "code",
   "execution_count": 164,
   "id": "704cf362-1be4-4c46-acbf-4c9ae83ab69b",
   "metadata": {},
   "outputs": [
    {
     "data": {
      "text/plain": [
       "142.72287"
      ]
     },
     "execution_count": 164,
     "metadata": {},
     "output_type": "execute_result"
    }
   ],
   "source": [
    "standard_errors = np.std(residuals)\n",
    "standard_errors"
   ]
  },
  {
   "cell_type": "code",
   "execution_count": 165,
   "id": "f9dda56d-49a0-49dc-b1e6-9320ececd5ba",
   "metadata": {},
   "outputs": [],
   "source": [
    "margin_of_error = 1.96 * standard_errors\n",
    "lower = model_10_preds - margin_of_error\n",
    "upper = model_10_preds + margin_of_error"
   ]
  },
  {
   "cell_type": "code",
   "execution_count": 178,
   "id": "c2bb3c36-24ac-4350-8d19-737af35c11e5",
   "metadata": {},
   "outputs": [
    {
     "data": {
      "text/plain": [
       "155"
      ]
     },
     "execution_count": 178,
     "metadata": {},
     "output_type": "execute_result"
    }
   ],
   "source": [
    "offset = np.abs(6-len(model_10_preds))\n",
    "offset"
   ]
  },
  {
   "cell_type": "code",
   "execution_count": 179,
   "id": "5f820a50-9055-4e85-8ae6-24e83ffcb8c7",
   "metadata": {},
   "outputs": [
    {
     "data": {
      "image/png": "[encoded data removed]",
      "text/plain": [
       "<Figure size 640x480 with 1 Axes>"
      ]
     },
     "metadata": {},
     "output_type": "display_data"
    }
   ],
   "source": [
    "plt.plot(y_test[offset:], label='Actual', color='blue')\n",
    "plt.plot(model_10_preds[offset:], label='Predicted', color='green')\n",
    "plt.fill_between(range(len(model_10_preds[offset:])), lower[offset:], upper[offset:], color='lightgray', label='Prediction Interval')\n",
    "\n",
    "plt.xlabel('Month(s)')\n",
    "plt.ylabel('Population')\n",
    "plt.legend()\n",
    "plt.show()"
   ]
  },
  {
   "cell_type": "code",
   "execution_count": 175,
   "id": "4ca1dd60-3f57-4bdd-b079-a1fddabbaa5f",
   "metadata": {},
   "outputs": [
    {
     "data": {
      "text/plain": [
       "<tf.Tensor: shape=(161,), dtype=float32, numpy=\n",
       "array([299075.1 , 299314.34, 299564.97, 299825.7 , 300087.28, 300344.9 ,\n",
       "       300601.84, 300843.62, 301085.03, 301324.8 , 301559.3 , 301798.7 ,\n",
       "       302045.6 , 302297.44, 302555.5 , 302815.75, 303074.03, 303325.03,\n",
       "       303574.1 , 303806.1 , 304034.16, 304257.72, 304473.34, 304694.84,\n",
       "       304920.6 , 305152.25, 305389.66, 305632.34, 305873.34, 306107.72,\n",
       "       306339.34, 306555.12, 306769.28, 306978.47, 307181.78, 307391.56,\n",
       "       307605.53, 307827.44, 308057.28, 308293.06, 308529.4 , 308759.34,\n",
       "       308985.4 , 309197.88, 309409.3 , 309588.44, 309743.4 , 309903.84,\n",
       "       310053.88, 310240.62, 310452.56, 310639.1 , 310816.9 , 311054.5 ,\n",
       "       311218.6 , 311413.8 , 311576.47, 311752.22, 311924.84, 312096.88,\n",
       "       312283.9 , 312472.62, 312666.3 , 312871.47, 313073.2 , 313267.47,\n",
       "       313459.  , 313639.12, 313814.53, 313992.47, 314161.8 , 314335.3 ,\n",
       "       314518.16, 314702.47, 314896.12, 315097.88, 315297.44, 315494.62,\n",
       "       315684.47, 315857.9 , 316027.06, 316187.1 , 316346.2 , 316516.22,\n",
       "       316691.03, 316874.1 , 317065.62, 317267.94, 317470.  , 317670.84,\n",
       "       317863.2 , 318047.53, 318232.34, 318407.97, 318586.97, 318767.84,\n",
       "       318955.6 , 319153.03, 319354.16, 319567.03, 319780.06, 319989.47,\n",
       "       320188.53, 320376.9 , 320559.53, 320733.75, 320911.8 , 321089.78,\n",
       "       321279.2 , 321476.44, 321672.94, 321885.75, 322094.  , 322299.12,\n",
       "       322496.94, 322689.53, 322874.06, 323054.38, 323233.56, 323410.16,\n",
       "       323599.06, 323794.12, 323987.4 , 324188.53, 324388.88, 324580.53,\n",
       "       324766.3 , 324941.88, 325106.94, 325268.3 , 325428.16, 325585.44,\n",
       "       325753.3 , 325927.84, 326104.94, 326289.78, 326476.94, 326655.72,\n",
       "       326828.03, 326993.2 , 327152.12, 327307.94, 327466.8 , 327623.56,\n",
       "       327791.03, 327965.5 , 328143.5 , 328325.34, 328510.34, 328686.  ,\n",
       "       328856.66, 329019.28, 329174.66, 329328.1 , 329483.44, 329636.94,\n",
       "       329800.66, 329971.78, 330147.28, 330327.22, 330511.1 ],\n",
       "      dtype=float32)>"
      ]
     },
     "execution_count": 175,
     "metadata": {},
     "output_type": "execute_result"
    }
   ],
   "source": [
    "model_10_preds"
   ]
  },
  {
   "cell_type": "code",
   "execution_count": 183,
   "id": "37a4b8bc-f24d-422e-9226-4f6c3b005fa7",
   "metadata": {},
   "outputs": [
    {
     "data": {
      "image/png": "[encoded data removed]",
      "text/plain": [
       "<Figure size 640x480 with 1 Axes>"
      ]
     },
     "metadata": {},
     "output_type": "display_data"
    }
   ],
   "source": [
    "plt.plot(model_10_preds[offset:], marker='o', linestyle='-', color='b')\n",
    "plt.xlabel('Month(s)')\n",
    "plt.ylabel('Predicted Values')\n",
    "plt.title('Predictions')\n",
    "plt.grid(True)\n",
    "plt.show()"
   ]
  },
  {
   "cell_type": "code",
   "execution_count": null,
   "id": "a46bd2cf-ae93-4431-84f1-8288df8a2cd3",
   "metadata": {},
   "outputs": [],
   "source": []
  }
 ],
 "metadata": {
  "kernelspec": {
   "display_name": "mldl",
   "language": "python",
   "name": "mldl"
  },
  "language_info": {
   "codemirror_mode": {
    "name": "ipython",
    "version": 3
   },
   "file_extension": ".py",
   "mimetype": "text/x-python",
   "name": "python",
   "nbconvert_exporter": "python",
   "pygments_lexer": "ipython3",
   "version": "3.9.2"
  }
 },
 "nbformat": 4,
 "nbformat_minor": 5
}
