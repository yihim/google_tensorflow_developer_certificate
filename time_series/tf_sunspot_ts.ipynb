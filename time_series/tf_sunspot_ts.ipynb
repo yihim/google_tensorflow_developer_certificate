{
 "cells": [
  {
   "cell_type": "code",
   "execution_count": 28,
   "id": "1250bbfa-cb27-4d4f-b051-5ff7573f7e62",
   "metadata": {},
   "outputs": [],
   "source": [
    "import tensorflow as tf\n",
    "import pandas as pd\n",
    "import numpy as np\n",
    "import matplotlib.pyplot as plt\n",
    "import random\n",
    "import os\n",
    "import datetime"
   ]
  },
  {
   "cell_type": "code",
   "execution_count": 29,
   "id": "bb987318-c674-4a22-9bde-e6f9ae25655f",
   "metadata": {},
   "outputs": [],
   "source": [
    "gpus = tf.config.list_physical_devices('GPU')\n",
    "if gpus:\n",
    "    for gpu in gpus:\n",
    "        tf.config.experimental.set_memory_growth(gpu, True)"
   ]
  },
  {
   "cell_type": "code",
   "execution_count": 30,
   "id": "f3beccf2-97e2-4618-b1fc-3ac35a1aa50a",
   "metadata": {},
   "outputs": [
    {
     "data": {
      "text/html": [
       "<div>\n",
       "<style scoped>\n",
       "    .dataframe tbody tr th:only-of-type {\n",
       "        vertical-align: middle;\n",
       "    }\n",
       "\n",
       "    .dataframe tbody tr th {\n",
       "        vertical-align: top;\n",
       "    }\n",
       "\n",
       "    .dataframe thead th {\n",
       "        text-align: right;\n",
       "    }\n",
       "</style>\n",
       "<table border=\"1\" class=\"dataframe\">\n",
       "  <thead>\n",
       "    <tr style=\"text-align: right;\">\n",
       "      <th></th>\n",
       "      <th>Unnamed: 0</th>\n",
       "      <th>Monthly Mean Total Sunspot Number</th>\n",
       "    </tr>\n",
       "    <tr>\n",
       "      <th>Date</th>\n",
       "      <th></th>\n",
       "      <th></th>\n",
       "    </tr>\n",
       "  </thead>\n",
       "  <tbody>\n",
       "    <tr>\n",
       "      <th>1749-01-31</th>\n",
       "      <td>0</td>\n",
       "      <td>96.7</td>\n",
       "    </tr>\n",
       "    <tr>\n",
       "      <th>1749-02-28</th>\n",
       "      <td>1</td>\n",
       "      <td>104.3</td>\n",
       "    </tr>\n",
       "    <tr>\n",
       "      <th>1749-03-31</th>\n",
       "      <td>2</td>\n",
       "      <td>116.7</td>\n",
       "    </tr>\n",
       "    <tr>\n",
       "      <th>1749-04-30</th>\n",
       "      <td>3</td>\n",
       "      <td>92.8</td>\n",
       "    </tr>\n",
       "    <tr>\n",
       "      <th>1749-05-31</th>\n",
       "      <td>4</td>\n",
       "      <td>141.7</td>\n",
       "    </tr>\n",
       "  </tbody>\n",
       "</table>\n",
       "</div>"
      ],
      "text/plain": [
       "            Unnamed: 0  Monthly Mean Total Sunspot Number\n",
       "Date                                                     \n",
       "1749-01-31           0                               96.7\n",
       "1749-02-28           1                              104.3\n",
       "1749-03-31           2                              116.7\n",
       "1749-04-30           3                               92.8\n",
       "1749-05-31           4                              141.7"
      ]
     },
     "execution_count": 30,
     "metadata": {},
     "output_type": "execute_result"
    }
   ],
   "source": [
    "dataset = pd.read_csv('../dataset/time_series/sunspots/Sunspots.csv', \n",
    "                      parse_dates=[\"Date\"], \n",
    "                      index_col=[\"Date\"])\n",
    "\n",
    "dataset.head()"
   ]
  },
  {
   "cell_type": "code",
   "execution_count": 31,
   "id": "41ba1805-2663-4e63-b015-fbb3778faa2a",
   "metadata": {},
   "outputs": [
    {
     "data": {
      "text/plain": [
       "Index(['Unnamed: 0', 'Monthly Mean Total Sunspot Number'], dtype='object')"
      ]
     },
     "execution_count": 31,
     "metadata": {},
     "output_type": "execute_result"
    }
   ],
   "source": [
    "dataset.columns"
   ]
  },
  {
   "cell_type": "code",
   "execution_count": 32,
   "id": "222f889a-1425-4709-a9f3-7b171fd2f87c",
   "metadata": {},
   "outputs": [],
   "source": [
    "dataset.drop(dataset.columns[0], axis=1, inplace=True)"
   ]
  },
  {
   "cell_type": "code",
   "execution_count": 33,
   "id": "bc7c8be7-0bf6-4555-ba21-28da48a18a65",
   "metadata": {},
   "outputs": [
    {
     "data": {
      "text/html": [
       "<div>\n",
       "<style scoped>\n",
       "    .dataframe tbody tr th:only-of-type {\n",
       "        vertical-align: middle;\n",
       "    }\n",
       "\n",
       "    .dataframe tbody tr th {\n",
       "        vertical-align: top;\n",
       "    }\n",
       "\n",
       "    .dataframe thead th {\n",
       "        text-align: right;\n",
       "    }\n",
       "</style>\n",
       "<table border=\"1\" class=\"dataframe\">\n",
       "  <thead>\n",
       "    <tr style=\"text-align: right;\">\n",
       "      <th></th>\n",
       "      <th>Monthly Mean Total Sunspot Number</th>\n",
       "    </tr>\n",
       "    <tr>\n",
       "      <th>Date</th>\n",
       "      <th></th>\n",
       "    </tr>\n",
       "  </thead>\n",
       "  <tbody>\n",
       "    <tr>\n",
       "      <th>1749-01-31</th>\n",
       "      <td>96.7</td>\n",
       "    </tr>\n",
       "    <tr>\n",
       "      <th>1749-02-28</th>\n",
       "      <td>104.3</td>\n",
       "    </tr>\n",
       "    <tr>\n",
       "      <th>1749-03-31</th>\n",
       "      <td>116.7</td>\n",
       "    </tr>\n",
       "    <tr>\n",
       "      <th>1749-04-30</th>\n",
       "      <td>92.8</td>\n",
       "    </tr>\n",
       "    <tr>\n",
       "      <th>1749-05-31</th>\n",
       "      <td>141.7</td>\n",
       "    </tr>\n",
       "  </tbody>\n",
       "</table>\n",
       "</div>"
      ],
      "text/plain": [
       "            Monthly Mean Total Sunspot Number\n",
       "Date                                         \n",
       "1749-01-31                               96.7\n",
       "1749-02-28                              104.3\n",
       "1749-03-31                              116.7\n",
       "1749-04-30                               92.8\n",
       "1749-05-31                              141.7"
      ]
     },
     "execution_count": 33,
     "metadata": {},
     "output_type": "execute_result"
    }
   ],
   "source": [
    "dataset.head()"
   ]
  },
  {
   "cell_type": "code",
   "execution_count": 34,
   "id": "336fc9b8-71ab-477b-84de-aae38a77d4cf",
   "metadata": {},
   "outputs": [
    {
     "data": {
      "text/plain": [
       "Monthly Mean Total Sunspot Number    0\n",
       "dtype: int64"
      ]
     },
     "execution_count": 34,
     "metadata": {},
     "output_type": "execute_result"
    }
   ],
   "source": [
    "dataset.isna().sum()"
   ]
  },
  {
   "cell_type": "code",
   "execution_count": 35,
   "id": "b62a6b1b-8e06-480b-baa7-8031751dc452",
   "metadata": {},
   "outputs": [],
   "source": [
    "dataset[\"target\"] = dataset[\"Monthly Mean Total Sunspot Number\"]"
   ]
  },
  {
   "cell_type": "code",
   "execution_count": 36,
   "id": "b0149f3a-404f-465e-a16d-57f439a46fca",
   "metadata": {},
   "outputs": [
    {
     "data": {
      "text/html": [
       "<div>\n",
       "<style scoped>\n",
       "    .dataframe tbody tr th:only-of-type {\n",
       "        vertical-align: middle;\n",
       "    }\n",
       "\n",
       "    .dataframe tbody tr th {\n",
       "        vertical-align: top;\n",
       "    }\n",
       "\n",
       "    .dataframe thead th {\n",
       "        text-align: right;\n",
       "    }\n",
       "</style>\n",
       "<table border=\"1\" class=\"dataframe\">\n",
       "  <thead>\n",
       "    <tr style=\"text-align: right;\">\n",
       "      <th></th>\n",
       "      <th>Monthly Mean Total Sunspot Number</th>\n",
       "      <th>target</th>\n",
       "    </tr>\n",
       "    <tr>\n",
       "      <th>Date</th>\n",
       "      <th></th>\n",
       "      <th></th>\n",
       "    </tr>\n",
       "  </thead>\n",
       "  <tbody>\n",
       "    <tr>\n",
       "      <th>1749-01-31</th>\n",
       "      <td>96.7</td>\n",
       "      <td>96.7</td>\n",
       "    </tr>\n",
       "    <tr>\n",
       "      <th>1749-02-28</th>\n",
       "      <td>104.3</td>\n",
       "      <td>104.3</td>\n",
       "    </tr>\n",
       "    <tr>\n",
       "      <th>1749-03-31</th>\n",
       "      <td>116.7</td>\n",
       "      <td>116.7</td>\n",
       "    </tr>\n",
       "    <tr>\n",
       "      <th>1749-04-30</th>\n",
       "      <td>92.8</td>\n",
       "      <td>92.8</td>\n",
       "    </tr>\n",
       "    <tr>\n",
       "      <th>1749-05-31</th>\n",
       "      <td>141.7</td>\n",
       "      <td>141.7</td>\n",
       "    </tr>\n",
       "  </tbody>\n",
       "</table>\n",
       "</div>"
      ],
      "text/plain": [
       "            Monthly Mean Total Sunspot Number  target\n",
       "Date                                                 \n",
       "1749-01-31                               96.7    96.7\n",
       "1749-02-28                              104.3   104.3\n",
       "1749-03-31                              116.7   116.7\n",
       "1749-04-30                               92.8    92.8\n",
       "1749-05-31                              141.7   141.7"
      ]
     },
     "execution_count": 36,
     "metadata": {},
     "output_type": "execute_result"
    }
   ],
   "source": [
    "dataset.head()"
   ]
  },
  {
   "cell_type": "code",
   "execution_count": 37,
   "id": "be50b5da-c454-4162-8b26-d99bea79abf1",
   "metadata": {},
   "outputs": [],
   "source": [
    "dataset.rename(columns={dataset.columns[0]:\"mean_sunspot\"}, inplace=True)"
   ]
  },
  {
   "cell_type": "code",
   "execution_count": 38,
   "id": "6f815cc8-6d5d-4b77-97aa-4bcb8be5e7cb",
   "metadata": {},
   "outputs": [
    {
     "data": {
      "text/html": [
       "<div>\n",
       "<style scoped>\n",
       "    .dataframe tbody tr th:only-of-type {\n",
       "        vertical-align: middle;\n",
       "    }\n",
       "\n",
       "    .dataframe tbody tr th {\n",
       "        vertical-align: top;\n",
       "    }\n",
       "\n",
       "    .dataframe thead th {\n",
       "        text-align: right;\n",
       "    }\n",
       "</style>\n",
       "<table border=\"1\" class=\"dataframe\">\n",
       "  <thead>\n",
       "    <tr style=\"text-align: right;\">\n",
       "      <th></th>\n",
       "      <th>mean_sunspot</th>\n",
       "      <th>target</th>\n",
       "    </tr>\n",
       "    <tr>\n",
       "      <th>Date</th>\n",
       "      <th></th>\n",
       "      <th></th>\n",
       "    </tr>\n",
       "  </thead>\n",
       "  <tbody>\n",
       "    <tr>\n",
       "      <th>1749-01-31</th>\n",
       "      <td>96.7</td>\n",
       "      <td>96.7</td>\n",
       "    </tr>\n",
       "    <tr>\n",
       "      <th>1749-02-28</th>\n",
       "      <td>104.3</td>\n",
       "      <td>104.3</td>\n",
       "    </tr>\n",
       "    <tr>\n",
       "      <th>1749-03-31</th>\n",
       "      <td>116.7</td>\n",
       "      <td>116.7</td>\n",
       "    </tr>\n",
       "    <tr>\n",
       "      <th>1749-04-30</th>\n",
       "      <td>92.8</td>\n",
       "      <td>92.8</td>\n",
       "    </tr>\n",
       "    <tr>\n",
       "      <th>1749-05-31</th>\n",
       "      <td>141.7</td>\n",
       "      <td>141.7</td>\n",
       "    </tr>\n",
       "  </tbody>\n",
       "</table>\n",
       "</div>"
      ],
      "text/plain": [
       "            mean_sunspot  target\n",
       "Date                            \n",
       "1749-01-31          96.7    96.7\n",
       "1749-02-28         104.3   104.3\n",
       "1749-03-31         116.7   116.7\n",
       "1749-04-30          92.8    92.8\n",
       "1749-05-31         141.7   141.7"
      ]
     },
     "execution_count": 38,
     "metadata": {},
     "output_type": "execute_result"
    }
   ],
   "source": [
    "dataset.head()"
   ]
  },
  {
   "cell_type": "code",
   "execution_count": 39,
   "id": "e7669c3d-53a6-4cf3-871c-fe75fc71d3f8",
   "metadata": {},
   "outputs": [],
   "source": [
    "def multivariate_trailing_window(data, num_targets, window_size, horizon):\n",
    "    \"\"\"\n",
    "    Generate multivariate trailing windows for time series prediction.\n",
    "\n",
    "    Parameters:\n",
    "    - data: pandas DataFrame, input time series data with columns representing features and targets\n",
    "    - window_size: int, size of the trailing window\n",
    "    - horizon: int, number of steps to forecast into the future\n",
    "    - num_targets: int, number of target variables\n",
    "\n",
    "    Returns:\n",
    "    - X: numpy array, input features (shape: [num_samples - window_size - horizon + 1, window_size, num_features])\n",
    "    - y: numpy array, target values (shape: [num_samples - window_size - horizon + 1, horizon, num_targets])\n",
    "    \"\"\"\n",
    "\n",
    "    num_samples = len(data)\n",
    "    num_features = data.shape[1] - num_targets  # Subtract num_targets for target columns\n",
    "\n",
    "    X, y = [], []\n",
    "\n",
    "    for i in range(num_samples - window_size - horizon + 1):\n",
    "        X.append(data.iloc[i:i + window_size, :-num_targets].values)\n",
    "        y.append(data.iloc[i + window_size:i + window_size + horizon, -num_targets:].values.reshape(-1, num_targets))\n",
    "\n",
    "    return np.array(X), np.array(y)"
   ]
  },
  {
   "cell_type": "code",
   "execution_count": 40,
   "id": "00eebfab-f1af-4932-965a-a6e805664c60",
   "metadata": {},
   "outputs": [],
   "source": [
    "# Callbacks\n",
    "\n",
    "def tensorboard_cb(dirpath, model_name):\n",
    "    return tf.keras.callbacks.TensorBoard(os.path.join(dirpath, \n",
    "                                                       model_name, \n",
    "                                                       datetime.datetime.now().strftime(\"%Y%m%d-%H%M%S\")))\n",
    "\n",
    "def checkpoint_cb(dirpath, model_name, save_format=None, save_weights=False):\n",
    "    return tf.keras.callbacks.ModelCheckpoint(filepath=os.path.join(dirpath, model_name + save_format), \n",
    "                                              save_best_only=True, \n",
    "                                              save_weights_only=save_weights,\n",
    "                                              monitor=\"val_loss\",\n",
    "                                              verbose=1)\n",
    "\n",
    "def early_stopping_cb(patience):\n",
    "    return tf.keras.callbacks.EarlyStopping(monitor=\"val_loss\", \n",
    "                                            restore_best_weights=True, \n",
    "                                            patience=patience,\n",
    "                                            verbose=1)\n",
    "\n",
    "def reduce_lr_cb(patience, factor):\n",
    "    return tf.keras.callbacks.ReduceLROnPlateau(monitor=\"val_loss\", \n",
    "                                                patience=patience, \n",
    "                                                factor=factor, \n",
    "                                                min_lr=1e-7,\n",
    "                                                verbose=1)\n",
    "\n",
    "def lr_scheduler_cb(lr_init, lr_div):\n",
    "    return tf.keras.callbacks.LearningRateScheduler(lambda epoch: lr_init * 10 ** (epoch/lr_div))"
   ]
  },
  {
   "cell_type": "code",
   "execution_count": 41,
   "id": "309c06a0-8dea-4335-b0ea-4b3e159c3d51",
   "metadata": {},
   "outputs": [],
   "source": [
    "WINDOW = 36\n",
    "HORIZON = 1"
   ]
  },
  {
   "cell_type": "code",
   "execution_count": 42,
   "id": "8591d3a0-8ee6-40fb-b579-6959ae9924a2",
   "metadata": {},
   "outputs": [],
   "source": [
    "X, y = multivariate_trailing_window(dataset, 1, WINDOW, HORIZON)"
   ]
  },
  {
   "cell_type": "code",
   "execution_count": 43,
   "id": "95e84012-9c01-4a0b-b33e-5377ec59592e",
   "metadata": {},
   "outputs": [
    {
     "data": {
      "text/plain": [
       "((3199, 36, 1), (3199, 1, 1))"
      ]
     },
     "execution_count": 43,
     "metadata": {},
     "output_type": "execute_result"
    }
   ],
   "source": [
    "X.shape, y.shape"
   ]
  },
  {
   "cell_type": "code",
   "execution_count": 44,
   "id": "7030d085-6f1b-4aee-b053-1ac44c911252",
   "metadata": {
    "scrolled": true
   },
   "outputs": [
    {
     "data": {
      "text/plain": [
       "array([[ 96.7],\n",
       "       [104.3],\n",
       "       [116.7],\n",
       "       [ 92.8],\n",
       "       [141.7],\n",
       "       [139.2],\n",
       "       [158. ],\n",
       "       [110.5],\n",
       "       [126.5],\n",
       "       [125.8],\n",
       "       [264.3],\n",
       "       [142. ],\n",
       "       [122.2],\n",
       "       [126.5],\n",
       "       [148.7],\n",
       "       [147.2],\n",
       "       [150. ],\n",
       "       [166.7],\n",
       "       [142.3],\n",
       "       [171.7],\n",
       "       [152. ],\n",
       "       [109.5],\n",
       "       [105.5],\n",
       "       [125.7],\n",
       "       [116.7],\n",
       "       [ 72.5],\n",
       "       [ 75.5],\n",
       "       [ 94. ],\n",
       "       [101.2],\n",
       "       [ 84.5],\n",
       "       [110.5],\n",
       "       [ 99.7],\n",
       "       [ 39.2],\n",
       "       [ 38.7],\n",
       "       [ 47.5],\n",
       "       [ 73.3]])"
      ]
     },
     "execution_count": 44,
     "metadata": {},
     "output_type": "execute_result"
    }
   ],
   "source": [
    "X[0]"
   ]
  },
  {
   "cell_type": "code",
   "execution_count": 45,
   "id": "ea58ad8a-118d-484e-a9be-73e2787c83cf",
   "metadata": {},
   "outputs": [],
   "source": [
    "y = np.squeeze(y, axis=-1)"
   ]
  },
  {
   "cell_type": "code",
   "execution_count": 46,
   "id": "6a6b0823-f240-4035-a2c8-6b1665e55b6c",
   "metadata": {},
   "outputs": [
    {
     "data": {
      "text/plain": [
       "(3199, 1)"
      ]
     },
     "execution_count": 46,
     "metadata": {},
     "output_type": "execute_result"
    }
   ],
   "source": [
    "y.shape"
   ]
  },
  {
   "cell_type": "code",
   "execution_count": 47,
   "id": "9604d095-a72d-4e97-ad4f-548c1ed80230",
   "metadata": {},
   "outputs": [
    {
     "data": {
      "text/plain": [
       "array([58.3])"
      ]
     },
     "execution_count": 47,
     "metadata": {},
     "output_type": "execute_result"
    }
   ],
   "source": [
    "y[0]"
   ]
  },
  {
   "cell_type": "code",
   "execution_count": 48,
   "id": "e3c20017-f1cc-4c9d-934a-fce3e264559c",
   "metadata": {},
   "outputs": [
    {
     "data": {
      "text/plain": [
       "array([[ 58.3],\n",
       "       [ 83.3],\n",
       "       [118.3]])"
      ]
     },
     "execution_count": 48,
     "metadata": {},
     "output_type": "execute_result"
    }
   ],
   "source": [
    "y[:3]"
   ]
  },
  {
   "cell_type": "code",
   "execution_count": 49,
   "id": "b79950a3-34c7-4e1a-929b-3398ea01dce4",
   "metadata": {},
   "outputs": [],
   "source": [
    "split_size = int(len(X) * 0.8)\n",
    "X_train, y_train = X[:split_size], y[:split_size]\n",
    "X_val, y_val = X[split_size:], y[split_size:]"
   ]
  },
  {
   "cell_type": "code",
   "execution_count": 51,
   "id": "05ba4ec7-6e11-4eaa-b4c9-eb5bec09aff9",
   "metadata": {},
   "outputs": [],
   "source": [
    "from sklearn.preprocessing import MinMaxScaler, StandardScaler"
   ]
  },
  {
   "cell_type": "code",
   "execution_count": 50,
   "id": "9ec13ed1-e280-4301-ba2c-b8d86361e0ef",
   "metadata": {},
   "outputs": [],
   "source": [
    "def scale_2d_3d_data(data, scaler=None, norm=False, stand=False):\n",
    "    \"\"\"\n",
    "    Scale 2D or 3D data using Min-Max scaling or standardization.\n",
    "\n",
    "    Parameters:\n",
    "    - data: numpy array, input data (2D or 3D)\n",
    "    - norm: bool, whether to perform Min-Max scaling\n",
    "    - stand: bool, whether to perform standardization\n",
    "\n",
    "    Returns:\n",
    "    - If norm=True: Tuple of (scaler, scaled_data)\n",
    "    - If stand=True: Tuple of (scaler, standardized_data)\n",
    "    - If neither norm nor stand is True: None\n",
    "    \"\"\"\n",
    "\n",
    "    original_shape = data.shape if len(data.shape) == 3 else None\n",
    "\n",
    "    # Check if the input data is 3D, and reshape to 2D if necessary\n",
    "    if original_shape:\n",
    "        data = data.reshape((original_shape[0] * original_shape[1], original_shape[2]))\n",
    "\n",
    "    scaler = scaler\n",
    "    scaled_data = None\n",
    "\n",
    "    if norm:\n",
    "        if scaler is None:\n",
    "            # Min-Max scaling\n",
    "            scaler = MinMaxScaler().fit(data)\n",
    "        scaled_data = scaler.transform(data)\n",
    "\n",
    "    elif stand:\n",
    "        if scaler is None:\n",
    "            # Standardization\n",
    "            scaler = StandardScaler().fit(data)\n",
    "        scaled_data = scaler.transform(data)\n",
    "\n",
    "    # Reshape the scaled data back to 3D if the input was originally 3D\n",
    "    if original_shape and scaled_data is not None:\n",
    "        scaled_data = scaled_data.reshape(original_shape)\n",
    "\n",
    "    return scaler, scaled_data"
   ]
  },
  {
   "cell_type": "code",
   "execution_count": 52,
   "id": "90c4690c-8d07-4a6c-9fb7-04a9da8ba11d",
   "metadata": {},
   "outputs": [],
   "source": [
    "x_scalar, X_train_scaled = scale_2d_3d_data(X_train, norm=True)\n",
    "y_scalar, y_train_scaled = scale_2d_3d_data(y_train, norm=True)"
   ]
  },
  {
   "cell_type": "code",
   "execution_count": 53,
   "id": "560a6094-75ad-4095-89ea-d6611b11e5bf",
   "metadata": {},
   "outputs": [],
   "source": [
    "_, X_val_scaled = scale_2d_3d_data(X_val, scaler=x_scalar, norm=True)\n",
    "_, y_val_scaled = scale_2d_3d_data(y_val, scaler=y_scalar, norm=True)"
   ]
  },
  {
   "cell_type": "code",
   "execution_count": 64,
   "id": "3eea354a-60ab-465f-95e6-3d483984eb77",
   "metadata": {},
   "outputs": [
    {
     "data": {
      "text/plain": [
       "((2559, 36, 1), (2559, 1))"
      ]
     },
     "execution_count": 64,
     "metadata": {},
     "output_type": "execute_result"
    }
   ],
   "source": [
    "X_train_scaled.shape, y_train_scaled.shape"
   ]
  },
  {
   "cell_type": "code",
   "execution_count": 65,
   "id": "271ef1d2-c92d-4577-ba61-17341556ce34",
   "metadata": {},
   "outputs": [
    {
     "data": {
      "text/plain": [
       "((640, 36, 1), (640, 1))"
      ]
     },
     "execution_count": 65,
     "metadata": {},
     "output_type": "execute_result"
    }
   ],
   "source": [
    "X_val_scaled.shape, y_val_scaled.shape"
   ]
  },
  {
   "cell_type": "code",
   "execution_count": 66,
   "id": "9cae5ec1-bcb5-467a-aae8-505f7b5afb03",
   "metadata": {},
   "outputs": [
    {
     "data": {
      "text/plain": [
       "array([0.02561527])"
      ]
     },
     "execution_count": 66,
     "metadata": {},
     "output_type": "execute_result"
    }
   ],
   "source": [
    "y_val_scaled[0]"
   ]
  },
  {
   "cell_type": "code",
   "execution_count": 67,
   "id": "b40e892e-09d3-46b7-bf83-355c73d69b52",
   "metadata": {
    "scrolled": true
   },
   "outputs": [
    {
     "data": {
      "text/plain": [
       "array([[0.16549473],\n",
       "       [0.15544952],\n",
       "       [0.14967353],\n",
       "       [0.07885485],\n",
       "       [0.07910598],\n",
       "       [0.18257157],\n",
       "       [0.14088398],\n",
       "       [0.09743847],\n",
       "       [0.08337519],\n",
       "       [0.07207433],\n",
       "       [0.08839779],\n",
       "       [0.06228026],\n",
       "       [0.10472125],\n",
       "       [0.15344048],\n",
       "       [0.1285786 ],\n",
       "       [0.07207433],\n",
       "       [0.11928679],\n",
       "       [0.13862381],\n",
       "       [0.12581617],\n",
       "       [0.08463084],\n",
       "       [0.0542441 ],\n",
       "       [0.0567554 ],\n",
       "       [0.06353591],\n",
       "       [0.06052235],\n",
       "       [0.03239578],\n",
       "       [0.0359116 ],\n",
       "       [0.03390256],\n",
       "       [0.01205424],\n",
       "       [0.03465595],\n",
       "       [0.01757911],\n",
       "       [0.02310397],\n",
       "       [0.02787544],\n",
       "       [0.05549975],\n",
       "       [0.06378704],\n",
       "       [0.05223506],\n",
       "       [0.04394776]])"
      ]
     },
     "execution_count": 67,
     "metadata": {},
     "output_type": "execute_result"
    }
   ],
   "source": [
    "X_val_scaled[0]"
   ]
  },
  {
   "cell_type": "code",
   "execution_count": 54,
   "id": "3dc897c2-8e9e-4735-80ea-0b27961b3d43",
   "metadata": {},
   "outputs": [],
   "source": [
    "def create_performant_features_targerts(features, targets, batch_size=32, pre=False, func=None, shuffle=False, shuffle_size=None):\n",
    "    \"\"\"\n",
    "    Create performant dataset for escalating efficiency during training/evaluating a model.\n",
    "    \"\"\"\n",
    "    features_tensor = tf.data.Dataset.from_tensor_slices(tf.cast(features, dtype=tf.float32))\n",
    "    targets_tensor = tf.data.Dataset.from_tensor_slices(tf.cast(targets, dtype=tf.float32))\n",
    "    dataset_tensor = tf.data.Dataset.zip((features_tensor, targets_tensor))\n",
    "    if pre:\n",
    "        dataset_tensor = dataset_tensor.map(map_func=func, num_parallel_calls=tf.data.AUTOTUNE)\n",
    "    if shuffle:\n",
    "        dataset_tensor = dataset_tensor.shuffle(shuffle_size)\n",
    "    dataset_tensor = dataset_tensor.batch(batch_size).prefetch(tf.data.AUTOTUNE)\n",
    "\n",
    "    return dataset_tensor"
   ]
  },
  {
   "cell_type": "code",
   "execution_count": 55,
   "id": "781e4c4a-2b32-479b-b182-bb05f8ee47e8",
   "metadata": {},
   "outputs": [],
   "source": [
    "train_dataset = create_performant_features_targerts(X_train_scaled, y_train_scaled)\n",
    "val_dataset = create_performant_features_targerts(X_val_scaled, y_val_scaled)"
   ]
  },
  {
   "cell_type": "code",
   "execution_count": 56,
   "id": "c19da929-1422-4899-a52c-9984c00f09b3",
   "metadata": {},
   "outputs": [
    {
     "data": {
      "text/plain": [
       "<PrefetchDataset element_spec=(TensorSpec(shape=(None, 36, 1), dtype=tf.float32, name=None), TensorSpec(shape=(None, 1), dtype=tf.float32, name=None))>"
      ]
     },
     "execution_count": 56,
     "metadata": {},
     "output_type": "execute_result"
    }
   ],
   "source": [
    "train_dataset"
   ]
  },
  {
   "cell_type": "code",
   "execution_count": 57,
   "id": "aa498d8a-9970-4557-8079-eb0d6ae7ca1f",
   "metadata": {},
   "outputs": [
    {
     "data": {
      "text/plain": [
       "<PrefetchDataset element_spec=(TensorSpec(shape=(None, 36, 1), dtype=tf.float32, name=None), TensorSpec(shape=(None, 1), dtype=tf.float32, name=None))>"
      ]
     },
     "execution_count": 57,
     "metadata": {},
     "output_type": "execute_result"
    }
   ],
   "source": [
    "val_dataset"
   ]
  },
  {
   "cell_type": "code",
   "execution_count": 37,
   "id": "b9fa8def-5226-421c-9605-fdeb8bbbba4d",
   "metadata": {},
   "outputs": [],
   "source": [
    "tf.keras.backend.clear_session()"
   ]
  },
  {
   "cell_type": "code",
   "execution_count": 38,
   "id": "c17ccfc2-025f-4acb-aa5f-6b5c4fc9159a",
   "metadata": {},
   "outputs": [],
   "source": [
    "from tensorflow.keras import layers"
   ]
  },
  {
   "cell_type": "code",
   "execution_count": 42,
   "id": "6aef9992-26f6-4d1e-943e-08103d3972c6",
   "metadata": {},
   "outputs": [
    {
     "name": "stdout",
     "output_type": "stream",
     "text": [
      "WARNING:tensorflow:Layer lstm_2 will not use cuDNN kernels since it doesn't meet the criteria. It will use a generic GPU kernel as fallback when running on GPU.\n",
      "WARNING:tensorflow:Layer lstm_3 will not use cuDNN kernels since it doesn't meet the criteria. It will use a generic GPU kernel as fallback when running on GPU.\n"
     ]
    }
   ],
   "source": [
    "inputs = layers.Input(shape=(WINDOW, 1), dtype=tf.float32)\n",
    "x = layers.Conv1D(64, 3, activation=\"relu\")(inputs)\n",
    "x = layers.MaxPooling1D(2)(x)\n",
    "x = layers.Conv1D(64, 3, activation=\"relu\")(x)\n",
    "x = layers.MaxPooling1D(2)(x)\n",
    "x = layers.LSTM(72, activation=\"relu\", return_sequences=True)(x)\n",
    "x = layers.LSTM(48, activation=\"relu\")(x)\n",
    "x = layers.Flatten()(x)\n",
    "x = layers.Dropout(0.3)(x)\n",
    "x = layers.Dense(128)(x)\n",
    "x = layers.Dropout(0.3)(x)\n",
    "outputs = layers.Dense(HORIZON)(x)\n",
    "\n",
    "model_1 = tf.keras.Model(inputs, outputs, name=\"model_1\")"
   ]
  },
  {
   "cell_type": "code",
   "execution_count": 43,
   "id": "7670f54a-be5a-4aa8-8896-54d68f7f54cf",
   "metadata": {},
   "outputs": [
    {
     "name": "stdout",
     "output_type": "stream",
     "text": [
      "Model: \"model_1\"\n",
      "_________________________________________________________________\n",
      " Layer (type)                Output Shape              Param #   \n",
      "=================================================================\n",
      " input_2 (InputLayer)        [(None, 36, 1)]           0         \n",
      "                                                                 \n",
      " conv1d_2 (Conv1D)           (None, 34, 64)            256       \n",
      "                                                                 \n",
      " max_pooling1d_2 (MaxPooling  (None, 17, 64)           0         \n",
      " 1D)                                                             \n",
      "                                                                 \n",
      " conv1d_3 (Conv1D)           (None, 15, 64)            12352     \n",
      "                                                                 \n",
      " max_pooling1d_3 (MaxPooling  (None, 7, 64)            0         \n",
      " 1D)                                                             \n",
      "                                                                 \n",
      " lstm_2 (LSTM)               (None, 7, 72)             39456     \n",
      "                                                                 \n",
      " lstm_3 (LSTM)               (None, 48)                23232     \n",
      "                                                                 \n",
      " flatten_1 (Flatten)         (None, 48)                0         \n",
      "                                                                 \n",
      " dropout_2 (Dropout)         (None, 48)                0         \n",
      "                                                                 \n",
      " dense_2 (Dense)             (None, 128)               6272      \n",
      "                                                                 \n",
      " dropout_3 (Dropout)         (None, 128)               0         \n",
      "                                                                 \n",
      " dense_3 (Dense)             (None, 1)                 129       \n",
      "                                                                 \n",
      "=================================================================\n",
      "Total params: 81,697\n",
      "Trainable params: 81,697\n",
      "Non-trainable params: 0\n",
      "_________________________________________________________________\n"
     ]
    }
   ],
   "source": [
    "model_1.summary()"
   ]
  },
  {
   "cell_type": "code",
   "execution_count": 44,
   "id": "b518a05a-6793-4ff4-aeb4-59271a97675e",
   "metadata": {
    "scrolled": true
   },
   "outputs": [
    {
     "name": "stdout",
     "output_type": "stream",
     "text": [
      "Epoch 1/150\n",
      "80/80 [==============================] - ETA: 0s - loss: 0.1319\n",
      "Epoch 1: val_loss improved from inf to 0.11924, saving model to h5_models/sunspot\\model_1.h5\n",
      "80/80 [==============================] - 8s 55ms/step - loss: 0.1319 - val_loss: 0.1192 - lr: 3.0000e-04\n",
      "Epoch 2/150\n",
      "80/80 [==============================] - ETA: 0s - loss: 0.1071\n",
      "Epoch 2: val_loss improved from 0.11924 to 0.10623, saving model to h5_models/sunspot\\model_1.h5\n",
      "80/80 [==============================] - 4s 49ms/step - loss: 0.1071 - val_loss: 0.1062 - lr: 3.0000e-04\n",
      "Epoch 3/150\n",
      "79/80 [============================>.] - ETA: 0s - loss: 0.0978\n",
      "Epoch 3: val_loss improved from 0.10623 to 0.09854, saving model to h5_models/sunspot\\model_1.h5\n",
      "80/80 [==============================] - 4s 51ms/step - loss: 0.0971 - val_loss: 0.0985 - lr: 3.0000e-04\n",
      "Epoch 4/150\n",
      "79/80 [============================>.] - ETA: 0s - loss: 0.0910\n",
      "Epoch 4: val_loss improved from 0.09854 to 0.08727, saving model to h5_models/sunspot\\model_1.h5\n",
      "80/80 [==============================] - 5s 57ms/step - loss: 0.0903 - val_loss: 0.0873 - lr: 3.0000e-04\n",
      "Epoch 5/150\n",
      "80/80 [==============================] - ETA: 0s - loss: 0.0797\n",
      "Epoch 5: val_loss improved from 0.08727 to 0.06480, saving model to h5_models/sunspot\\model_1.h5\n",
      "80/80 [==============================] - 4s 53ms/step - loss: 0.0797 - val_loss: 0.0648 - lr: 3.0000e-04\n",
      "Epoch 6/150\n",
      "80/80 [==============================] - ETA: 0s - loss: 0.0757\n",
      "Epoch 6: val_loss improved from 0.06480 to 0.06165, saving model to h5_models/sunspot\\model_1.h5\n",
      "80/80 [==============================] - 4s 54ms/step - loss: 0.0757 - val_loss: 0.0616 - lr: 3.0000e-04\n",
      "Epoch 7/150\n",
      "80/80 [==============================] - ETA: 0s - loss: 0.0711\n",
      "Epoch 7: val_loss improved from 0.06165 to 0.06069, saving model to h5_models/sunspot\\model_1.h5\n",
      "80/80 [==============================] - 4s 54ms/step - loss: 0.0711 - val_loss: 0.0607 - lr: 3.0000e-04\n",
      "Epoch 8/150\n",
      "80/80 [==============================] - ETA: 0s - loss: 0.0718\n",
      "Epoch 8: val_loss improved from 0.06069 to 0.05986, saving model to h5_models/sunspot\\model_1.h5\n",
      "80/80 [==============================] - 4s 51ms/step - loss: 0.0718 - val_loss: 0.0599 - lr: 3.0000e-04\n",
      "Epoch 9/150\n",
      "79/80 [============================>.] - ETA: 0s - loss: 0.0683\n",
      "Epoch 9: val_loss improved from 0.05986 to 0.05874, saving model to h5_models/sunspot\\model_1.h5\n",
      "80/80 [==============================] - 4s 54ms/step - loss: 0.0679 - val_loss: 0.0587 - lr: 3.0000e-04\n",
      "Epoch 10/150\n",
      "80/80 [==============================] - ETA: 0s - loss: 0.0680\n",
      "Epoch 10: val_loss did not improve from 0.05874\n",
      "80/80 [==============================] - 4s 53ms/step - loss: 0.0680 - val_loss: 0.0622 - lr: 3.0000e-04\n",
      "Epoch 11/150\n",
      "79/80 [============================>.] - ETA: 0s - loss: 0.0679\n",
      "Epoch 11: val_loss improved from 0.05874 to 0.05735, saving model to h5_models/sunspot\\model_1.h5\n",
      "80/80 [==============================] - 5s 57ms/step - loss: 0.0675 - val_loss: 0.0574 - lr: 3.0000e-04\n",
      "Epoch 12/150\n",
      "79/80 [============================>.] - ETA: 0s - loss: 0.0663\n",
      "Epoch 12: val_loss did not improve from 0.05735\n",
      "80/80 [==============================] - 4s 54ms/step - loss: 0.0660 - val_loss: 0.0578 - lr: 3.0000e-04\n",
      "Epoch 13/150\n",
      "80/80 [==============================] - ETA: 0s - loss: 0.0649\n",
      "Epoch 13: val_loss did not improve from 0.05735\n",
      "80/80 [==============================] - 5s 58ms/step - loss: 0.0649 - val_loss: 0.0574 - lr: 3.0000e-04\n",
      "Epoch 14/150\n",
      "80/80 [==============================] - ETA: 0s - loss: 0.0653\n",
      "Epoch 14: val_loss did not improve from 0.05735\n",
      "\n",
      "Epoch 14: ReduceLROnPlateau reducing learning rate to 3.000000142492354e-05.\n",
      "80/80 [==============================] - 4s 55ms/step - loss: 0.0653 - val_loss: 0.0575 - lr: 3.0000e-04\n",
      "Epoch 15/150\n",
      "79/80 [============================>.] - ETA: 0s - loss: 0.0622\n",
      "Epoch 15: val_loss improved from 0.05735 to 0.05695, saving model to h5_models/sunspot\\model_1.h5\n",
      "80/80 [==============================] - 4s 54ms/step - loss: 0.0618 - val_loss: 0.0570 - lr: 3.0000e-05\n",
      "Epoch 16/150\n",
      "80/80 [==============================] - ETA: 0s - loss: 0.0619\n",
      "Epoch 16: val_loss improved from 0.05695 to 0.05576, saving model to h5_models/sunspot\\model_1.h5\n",
      "80/80 [==============================] - 5s 57ms/step - loss: 0.0619 - val_loss: 0.0558 - lr: 3.0000e-05\n",
      "Epoch 17/150\n",
      "79/80 [============================>.] - ETA: 0s - loss: 0.0616\n",
      "Epoch 17: val_loss did not improve from 0.05576\n",
      "80/80 [==============================] - 5s 59ms/step - loss: 0.0613 - val_loss: 0.0562 - lr: 3.0000e-05\n",
      "Epoch 18/150\n",
      "80/80 [==============================] - ETA: 0s - loss: 0.0621\n",
      "Epoch 18: val_loss did not improve from 0.05576\n",
      "80/80 [==============================] - 5s 56ms/step - loss: 0.0621 - val_loss: 0.0563 - lr: 3.0000e-05\n",
      "Epoch 19/150\n",
      "80/80 [==============================] - ETA: 0s - loss: 0.0616\n",
      "Epoch 19: val_loss did not improve from 0.05576\n",
      "\n",
      "Epoch 19: ReduceLROnPlateau reducing learning rate to 3.000000106112566e-06.\n",
      "80/80 [==============================] - 5s 60ms/step - loss: 0.0616 - val_loss: 0.0559 - lr: 3.0000e-05\n",
      "Epoch 20/150\n",
      "80/80 [==============================] - ETA: 0s - loss: 0.0604\n",
      "Epoch 20: val_loss did not improve from 0.05576\n",
      "80/80 [==============================] - 5s 62ms/step - loss: 0.0604 - val_loss: 0.0558 - lr: 3.0000e-06\n",
      "Epoch 21/150\n",
      "79/80 [============================>.] - ETA: 0s - loss: 0.0613\n",
      "Epoch 21: val_loss did not improve from 0.05576\n",
      "Restoring model weights from the end of the best epoch: 16.\n",
      "80/80 [==============================] - 5s 60ms/step - loss: 0.0609 - val_loss: 0.0558 - lr: 3.0000e-06\n",
      "Epoch 21: early stopping\n"
     ]
    }
   ],
   "source": [
    "model_1.compile(loss=\"mae\",\n",
    "                optimizer=tf.keras.optimizers.Adam(learning_rate=3e-4))\n",
    "\n",
    "model_1_history = model_1.fit(train_dataset,\n",
    "                              validation_data=val_dataset,\n",
    "                              epochs=150,\n",
    "                              callbacks=[tensorboard_cb(\"model_logs/sunspot/\", model_1.name),\n",
    "                                         checkpoint_cb(\"h5_models/sunspot/\", model_1.name, save_format=\".h5\"),\n",
    "                                         reduce_lr_cb(patience=3, factor=0.1),\n",
    "                                         early_stopping_cb(patience=5)])"
   ]
  },
  {
   "cell_type": "code",
   "execution_count": 45,
   "id": "97db29b7-e802-4d67-a25a-4f40e63c7ef4",
   "metadata": {},
   "outputs": [
    {
     "name": "stdout",
     "output_type": "stream",
     "text": [
      "80/80 [==============================] - 1s 10ms/step - loss: 0.0546\n",
      "20/20 [==============================] - 0s 8ms/step - loss: 0.0558\n"
     ]
    },
    {
     "data": {
      "text/plain": [
       "(0.054604820907115936, 0.05575523525476456)"
      ]
     },
     "execution_count": 45,
     "metadata": {},
     "output_type": "execute_result"
    }
   ],
   "source": [
    "model_1.evaluate(train_dataset), model_1.evaluate(val_dataset)"
   ]
  },
  {
   "cell_type": "code",
   "execution_count": 46,
   "id": "4363c542-12c2-410f-ac6f-d63870954607",
   "metadata": {},
   "outputs": [
    {
     "data": {
      "text/plain": [
       "dtype('float64')"
      ]
     },
     "execution_count": 46,
     "metadata": {},
     "output_type": "execute_result"
    }
   ],
   "source": [
    "y_val_scaled.dtype"
   ]
  },
  {
   "cell_type": "code",
   "execution_count": 47,
   "id": "320111c2-dde3-405a-81c2-c8e6b45f076b",
   "metadata": {},
   "outputs": [
    {
     "data": {
      "text/plain": [
       "dtype('float32')"
      ]
     },
     "execution_count": 47,
     "metadata": {},
     "output_type": "execute_result"
    }
   ],
   "source": [
    "model_1_preds = model_1.predict(val_dataset)\n",
    "model_1_preds.dtype"
   ]
  },
  {
   "cell_type": "code",
   "execution_count": 48,
   "id": "818b00dd-397c-410a-ab92-cb27b2f6be14",
   "metadata": {},
   "outputs": [],
   "source": [
    "from sklearn.metrics import mean_absolute_error, mean_squared_error, r2_score"
   ]
  },
  {
   "cell_type": "code",
   "execution_count": 49,
   "id": "a687396b-f49b-44f1-a207-644187f79379",
   "metadata": {},
   "outputs": [],
   "source": [
    "def evaluate_ts_rg_model(actual_values, predicted_values):\n",
    "    \"\"\"\n",
    "    Evaluate a time series/regression model for forecasting population.\n",
    "\n",
    "    Parameters:\n",
    "    - actual_values: 1D array or list of actual population values.\n",
    "    - predicted_values: 1D array or list of predicted population values.\n",
    "\n",
    "    Returns:\n",
    "    - evaluation_results: Dictionary containing evaluation metrics.\n",
    "    \"\"\"\n",
    "    actual_values = np.array(actual_values)\n",
    "    predicted_values = np.array(predicted_values)\n",
    "\n",
    "    # Mean Absolute Error (MAE)\n",
    "    mae = mean_absolute_error(actual_values, predicted_values)\n",
    "\n",
    "    # Mean Squared Error (MSE)\n",
    "    mse = mean_squared_error(actual_values, predicted_values)\n",
    "\n",
    "    # Root Mean Squared Error (RMSE)\n",
    "    rmse = np.sqrt(mse)\n",
    "\n",
    "    # Mean Absolute Percentage Error (MAPE)\n",
    "    mask = actual_values != 0  # Avoid division by zero\n",
    "    mape = np.mean(np.abs((actual_values - predicted_values) / actual_values)[mask]) * 100\n",
    "\n",
    "    # R-squared (R2)\n",
    "    r2 = r2_score(actual_values, predicted_values)\n",
    "\n",
    "    evaluation_results = {\n",
    "        'MAE': mae,\n",
    "        'MSE': mse,\n",
    "        'RMSE': rmse,\n",
    "        'MAPE': mape,\n",
    "        'R2': r2\n",
    "    }\n",
    "\n",
    "    return evaluation_results"
   ]
  },
  {
   "cell_type": "code",
   "execution_count": 50,
   "id": "b57db376-85c9-45d0-be02-d711a543d7a4",
   "metadata": {},
   "outputs": [
    {
     "name": "stderr",
     "output_type": "stream",
     "text": [
      "C:\\Users\\yihim\\AppData\\Local\\Temp\\ipykernel_3832\\3564251472.py:26: RuntimeWarning: divide by zero encountered in divide\n",
      "  mape = np.mean(np.abs((actual_values - predicted_values) / actual_values)[mask]) * 100\n"
     ]
    },
    {
     "data": {
      "text/plain": [
       "{'MAE': 0.05575524,\n",
       " 'MSE': 0.0056552673,\n",
       " 'RMSE': 0.07520151,\n",
       " 'MAPE': 67.3210859298706,\n",
       " 'R2': 0.8073095350923589}"
      ]
     },
     "execution_count": 50,
     "metadata": {},
     "output_type": "execute_result"
    }
   ],
   "source": [
    "model_1_results_scaled = evaluate_ts_rg_model(tf.cast(tf.squeeze(y_val_scaled), dtype=tf.float32), tf.squeeze(model_1_preds))\n",
    "model_1_results_scaled"
   ]
  },
  {
   "cell_type": "code",
   "execution_count": 51,
   "id": "9a569fdb-6891-4a91-8ffc-305f879a97cf",
   "metadata": {},
   "outputs": [
    {
     "name": "stderr",
     "output_type": "stream",
     "text": [
      "C:\\Users\\yihim\\AppData\\Local\\Temp\\ipykernel_3832\\3564251472.py:26: RuntimeWarning: divide by zero encountered in divide\n",
      "  mape = np.mean(np.abs((actual_values - predicted_values) / actual_values)[mask]) * 100\n"
     ]
    },
    {
     "data": {
      "text/plain": [
       "{'MAE': 22.201736,\n",
       " 'MSE': 896.71747,\n",
       " 'RMSE': 29.945242,\n",
       " 'MAPE': 67.32107996940613,\n",
       " 'R2': 0.807309535156548}"
      ]
     },
     "execution_count": 51,
     "metadata": {},
     "output_type": "execute_result"
    }
   ],
   "source": [
    "model_1_results = evaluate_ts_rg_model(tf.cast(tf.squeeze(y_scalar.inverse_transform(y_val_scaled)), dtype=tf.float32), tf.squeeze(y_scalar.inverse_transform(model_1_preds)))\n",
    "model_1_results"
   ]
  },
  {
   "cell_type": "code",
   "execution_count": 52,
   "id": "476d347a-d2cf-4885-8034-c863faab7c30",
   "metadata": {},
   "outputs": [
    {
     "data": {
      "text/plain": [
       "616"
      ]
     },
     "execution_count": 52,
     "metadata": {},
     "output_type": "execute_result"
    }
   ],
   "source": [
    "offset = np.abs(24-len(model_1_preds))\n",
    "offset"
   ]
  },
  {
   "cell_type": "code",
   "execution_count": 53,
   "id": "3fa3c40b-a6d6-4e1d-83a1-d8b8624424b2",
   "metadata": {},
   "outputs": [],
   "source": [
    "def plot_ts_rg_preds_interval(y_true, y_preds, offset, figsize=(10, 7)):\n",
    "    \"\"\"\n",
    "    Plot a graph with a defined offset to visualize the 95% confidence of the model's predictions versus actual.\n",
    "    \n",
    "    Parameters:\n",
    "    - y_true: 1D array or list of actual values.\n",
    "    - y_preds: 1D array or list of predicted values.\n",
    "    - offset: The duration to visualize.\n",
    "    \"\"\"\n",
    "    residuals = y_true - y_preds\n",
    "    standard_errors = np.std(residuals)\n",
    "    margin_of_errors = 1.96 * standard_errors\n",
    "    upper = y_preds + margin_of_errors\n",
    "    lower = y_preds - margin_of_errors\n",
    "\n",
    "    plt.figure(figsize=figsize)\n",
    "    plt.plot(y_true[offset:], label=\"Actual\", color=\"green\")\n",
    "    plt.plot(y_preds[offset:], label=\"Preds\", color=\"blue\")\n",
    "    plt.fill_between(range(len(y_true[offset:])), lower[offset:], upper[offset:], color=\"lightgrey\", label=\"Preds Interval\")\n",
    "    plt.grid(True)\n",
    "    plt.legend(fontsize=14)\n",
    "    plt.xlabel(\"Duration\")\n",
    "    plt.ylabel(\"Targets\")"
   ]
  },
  {
   "cell_type": "code",
   "execution_count": 54,
   "id": "9a0d6385-fcd6-445c-b964-2c2a8bbeb3eb",
   "metadata": {},
   "outputs": [],
   "source": [
    "y_val_unscaled = tf.cast(tf.squeeze(y_scalar.inverse_transform(y_val_scaled)), dtype=tf.float32)\n",
    "model_1_preds_unscaled = tf.squeeze(y_scalar.inverse_transform(model_1_preds))"
   ]
  },
  {
   "cell_type": "code",
   "execution_count": 55,
   "id": "2df56073-dcdb-4c28-a73b-1aaba017a754",
   "metadata": {},
   "outputs": [
    {
     "data": {
      "text/plain": [
       "<tf.Tensor: shape=(5,), dtype=float32, numpy=array([10.2, 34.5, 23.3, 17.3, 13.3], dtype=float32)>"
      ]
     },
     "execution_count": 55,
     "metadata": {},
     "output_type": "execute_result"
    }
   ],
   "source": [
    "y_val_unscaled[:5]"
   ]
  },
  {
   "cell_type": "code",
   "execution_count": 56,
   "id": "a19fd52a-4988-4a8e-bdb8-f634a201f5ad",
   "metadata": {},
   "outputs": [
    {
     "data": {
      "text/plain": [
       "<tf.Tensor: shape=(5,), dtype=float32, numpy=\n",
       "array([16.042837 , 15.335711 , 14.735879 , 14.198435 , 13.8411045],\n",
       "      dtype=float32)>"
      ]
     },
     "execution_count": 56,
     "metadata": {},
     "output_type": "execute_result"
    }
   ],
   "source": [
    "model_1_preds_unscaled[:5]"
   ]
  },
  {
   "cell_type": "code",
   "execution_count": 57,
   "id": "557ddf1c-2a73-40b1-a25a-001aa00d5df3",
   "metadata": {},
   "outputs": [
    {
     "data": {
      "image/png": "[encoded data removed]",
      "text/plain": [
       "<Figure size 1000x700 with 1 Axes>"
      ]
     },
     "metadata": {},
     "output_type": "display_data"
    }
   ],
   "source": [
    "plot_ts_rg_preds_interval(y_val_unscaled, model_1_preds_unscaled, offset)"
   ]
  },
  {
   "cell_type": "code",
   "execution_count": 58,
   "id": "8c081c6b-ed86-41ef-9ef3-92b4b629203d",
   "metadata": {
    "scrolled": true
   },
   "outputs": [
    {
     "name": "stdout",
     "output_type": "stream",
     "text": [
      "WARNING:tensorflow:Layer lstm will not use cuDNN kernels since it doesn't meet the criteria. It will use a generic GPU kernel as fallback when running on GPU.\n",
      "WARNING:tensorflow:Layer lstm_1 will not use cuDNN kernels since it doesn't meet the criteria. It will use a generic GPU kernel as fallback when running on GPU.\n",
      "Epoch 1/100\n",
      "80/80 [==============================] - 6s 49ms/step - loss: 0.2012 - val_loss: 0.2236 - lr: 1.0000e-08\n",
      "Epoch 2/100\n",
      "80/80 [==============================] - 4s 46ms/step - loss: 0.2011 - val_loss: 0.2236 - lr: 1.1220e-08\n",
      "Epoch 3/100\n",
      "80/80 [==============================] - 4s 47ms/step - loss: 0.2011 - val_loss: 0.2236 - lr: 1.2589e-08\n",
      "Epoch 4/100\n",
      "80/80 [==============================] - 4s 48ms/step - loss: 0.2009 - val_loss: 0.2235 - lr: 1.4125e-08\n",
      "Epoch 5/100\n",
      "80/80 [==============================] - 4s 48ms/step - loss: 0.2010 - val_loss: 0.2235 - lr: 1.5849e-08\n",
      "Epoch 6/100\n",
      "80/80 [==============================] - 4s 49ms/step - loss: 0.2009 - val_loss: 0.2235 - lr: 1.7783e-08\n",
      "Epoch 7/100\n",
      "80/80 [==============================] - 4s 50ms/step - loss: 0.2010 - val_loss: 0.2234 - lr: 1.9953e-08\n",
      "Epoch 8/100\n",
      "80/80 [==============================] - 4s 53ms/step - loss: 0.2010 - val_loss: 0.2234 - lr: 2.2387e-08\n",
      "Epoch 9/100\n",
      "80/80 [==============================] - 4s 51ms/step - loss: 0.2008 - val_loss: 0.2233 - lr: 2.5119e-08\n",
      "Epoch 10/100\n",
      "80/80 [==============================] - 4s 51ms/step - loss: 0.2007 - val_loss: 0.2233 - lr: 2.8184e-08\n",
      "Epoch 11/100\n",
      "80/80 [==============================] - 4s 50ms/step - loss: 0.2007 - val_loss: 0.2232 - lr: 3.1623e-08\n",
      "Epoch 12/100\n",
      "80/80 [==============================] - 4s 53ms/step - loss: 0.2006 - val_loss: 0.2232 - lr: 3.5481e-08\n",
      "Epoch 13/100\n",
      "80/80 [==============================] - 4s 52ms/step - loss: 0.2007 - val_loss: 0.2231 - lr: 3.9811e-08\n",
      "Epoch 14/100\n",
      "80/80 [==============================] - 4s 55ms/step - loss: 0.2006 - val_loss: 0.2230 - lr: 4.4668e-08\n",
      "Epoch 15/100\n",
      "80/80 [==============================] - 4s 49ms/step - loss: 0.2005 - val_loss: 0.2229 - lr: 5.0119e-08\n",
      "Epoch 16/100\n",
      "80/80 [==============================] - 4s 55ms/step - loss: 0.2004 - val_loss: 0.2228 - lr: 5.6234e-08\n",
      "Epoch 17/100\n",
      "80/80 [==============================] - 4s 53ms/step - loss: 0.2004 - val_loss: 0.2227 - lr: 6.3096e-08\n",
      "Epoch 18/100\n",
      "80/80 [==============================] - 4s 53ms/step - loss: 0.2003 - val_loss: 0.2226 - lr: 7.0795e-08\n",
      "Epoch 19/100\n",
      "80/80 [==============================] - 5s 58ms/step - loss: 0.2002 - val_loss: 0.2225 - lr: 7.9433e-08\n",
      "Epoch 20/100\n",
      "80/80 [==============================] - 5s 62ms/step - loss: 0.2000 - val_loss: 0.2223 - lr: 8.9125e-08\n",
      "Epoch 21/100\n",
      "80/80 [==============================] - 5s 61ms/step - loss: 0.1999 - val_loss: 0.2222 - lr: 1.0000e-07\n",
      "Epoch 22/100\n",
      "80/80 [==============================] - 5s 64ms/step - loss: 0.1996 - val_loss: 0.2220 - lr: 1.1220e-07\n",
      "Epoch 23/100\n",
      "80/80 [==============================] - 5s 62ms/step - loss: 0.1995 - val_loss: 0.2217 - lr: 1.2589e-07\n",
      "Epoch 24/100\n",
      "80/80 [==============================] - 5s 65ms/step - loss: 0.1991 - val_loss: 0.2215 - lr: 1.4125e-07\n",
      "Epoch 25/100\n",
      "80/80 [==============================] - 5s 60ms/step - loss: 0.1990 - val_loss: 0.2212 - lr: 1.5849e-07\n",
      "Epoch 26/100\n",
      "80/80 [==============================] - 5s 61ms/step - loss: 0.1987 - val_loss: 0.2209 - lr: 1.7783e-07\n",
      "Epoch 27/100\n",
      "80/80 [==============================] - 5s 63ms/step - loss: 0.1984 - val_loss: 0.2206 - lr: 1.9953e-07\n",
      "Epoch 28/100\n",
      "80/80 [==============================] - 5s 61ms/step - loss: 0.1981 - val_loss: 0.2202 - lr: 2.2387e-07\n",
      "Epoch 29/100\n",
      "80/80 [==============================] - 5s 65ms/step - loss: 0.1977 - val_loss: 0.2198 - lr: 2.5119e-07\n",
      "Epoch 30/100\n",
      "80/80 [==============================] - 5s 62ms/step - loss: 0.1973 - val_loss: 0.2193 - lr: 2.8184e-07\n",
      "Epoch 31/100\n",
      "80/80 [==============================] - 5s 62ms/step - loss: 0.1966 - val_loss: 0.2188 - lr: 3.1623e-07\n",
      "Epoch 32/100\n",
      "80/80 [==============================] - 5s 62ms/step - loss: 0.1962 - val_loss: 0.2182 - lr: 3.5481e-07\n",
      "Epoch 33/100\n",
      "80/80 [==============================] - 5s 65ms/step - loss: 0.1957 - val_loss: 0.2175 - lr: 3.9811e-07\n",
      "Epoch 34/100\n",
      "80/80 [==============================] - 5s 58ms/step - loss: 0.1949 - val_loss: 0.2167 - lr: 4.4668e-07\n",
      "Epoch 35/100\n",
      "80/80 [==============================] - 4s 53ms/step - loss: 0.1942 - val_loss: 0.2159 - lr: 5.0119e-07\n",
      "Epoch 36/100\n",
      "80/80 [==============================] - 4s 52ms/step - loss: 0.1935 - val_loss: 0.2150 - lr: 5.6234e-07\n",
      "Epoch 37/100\n",
      "80/80 [==============================] - 4s 52ms/step - loss: 0.1926 - val_loss: 0.2140 - lr: 6.3096e-07\n",
      "Epoch 38/100\n",
      "80/80 [==============================] - 4s 53ms/step - loss: 0.1916 - val_loss: 0.2128 - lr: 7.0795e-07\n",
      "Epoch 39/100\n",
      "80/80 [==============================] - 4s 53ms/step - loss: 0.1904 - val_loss: 0.2115 - lr: 7.9433e-07\n",
      "Epoch 40/100\n",
      "80/80 [==============================] - 4s 51ms/step - loss: 0.1891 - val_loss: 0.2101 - lr: 8.9125e-07\n",
      "Epoch 41/100\n",
      "80/80 [==============================] - 4s 52ms/step - loss: 0.1875 - val_loss: 0.2085 - lr: 1.0000e-06\n",
      "Epoch 42/100\n",
      "80/80 [==============================] - 4s 53ms/step - loss: 0.1860 - val_loss: 0.2067 - lr: 1.1220e-06\n",
      "Epoch 43/100\n",
      "80/80 [==============================] - 4s 52ms/step - loss: 0.1842 - val_loss: 0.2046 - lr: 1.2589e-06\n",
      "Epoch 44/100\n",
      "80/80 [==============================] - 4s 53ms/step - loss: 0.1824 - val_loss: 0.2024 - lr: 1.4125e-06\n",
      "Epoch 45/100\n",
      "80/80 [==============================] - 4s 52ms/step - loss: 0.1801 - val_loss: 0.1999 - lr: 1.5849e-06\n",
      "Epoch 46/100\n",
      "80/80 [==============================] - 4s 53ms/step - loss: 0.1778 - val_loss: 0.1971 - lr: 1.7783e-06\n",
      "Epoch 47/100\n",
      "80/80 [==============================] - 4s 54ms/step - loss: 0.1751 - val_loss: 0.1939 - lr: 1.9953e-06\n",
      "Epoch 48/100\n",
      "80/80 [==============================] - 4s 52ms/step - loss: 0.1721 - val_loss: 0.1903 - lr: 2.2387e-06\n",
      "Epoch 49/100\n",
      "80/80 [==============================] - 5s 65ms/step - loss: 0.1688 - val_loss: 0.1864 - lr: 2.5119e-06\n",
      "Epoch 50/100\n",
      "80/80 [==============================] - 5s 63ms/step - loss: 0.1651 - val_loss: 0.1820 - lr: 2.8184e-06\n",
      "Epoch 51/100\n",
      "80/80 [==============================] - 5s 63ms/step - loss: 0.1612 - val_loss: 0.1772 - lr: 3.1623e-06\n",
      "Epoch 52/100\n",
      "80/80 [==============================] - 5s 64ms/step - loss: 0.1567 - val_loss: 0.1716 - lr: 3.5481e-06\n",
      "Epoch 53/100\n",
      "80/80 [==============================] - 5s 63ms/step - loss: 0.1513 - val_loss: 0.1652 - lr: 3.9811e-06\n",
      "Epoch 54/100\n",
      "80/80 [==============================] - 5s 64ms/step - loss: 0.1451 - val_loss: 0.1584 - lr: 4.4668e-06\n",
      "Epoch 55/100\n",
      "80/80 [==============================] - 5s 64ms/step - loss: 0.1392 - val_loss: 0.1515 - lr: 5.0119e-06\n",
      "Epoch 56/100\n",
      "80/80 [==============================] - 5s 65ms/step - loss: 0.1324 - val_loss: 0.1449 - lr: 5.6234e-06\n",
      "Epoch 57/100\n",
      "80/80 [==============================] - 6s 73ms/step - loss: 0.1280 - val_loss: 0.1389 - lr: 6.3096e-06\n",
      "Epoch 58/100\n",
      "80/80 [==============================] - 5s 63ms/step - loss: 0.1236 - val_loss: 0.1335 - lr: 7.0795e-06\n",
      "Epoch 59/100\n",
      "80/80 [==============================] - 5s 64ms/step - loss: 0.1204 - val_loss: 0.1296 - lr: 7.9433e-06\n",
      "Epoch 60/100\n",
      "80/80 [==============================] - 5s 63ms/step - loss: 0.1185 - val_loss: 0.1269 - lr: 8.9125e-06\n",
      "Epoch 61/100\n",
      "80/80 [==============================] - 5s 64ms/step - loss: 0.1154 - val_loss: 0.1252 - lr: 1.0000e-05\n",
      "Epoch 62/100\n",
      "80/80 [==============================] - 5s 64ms/step - loss: 0.1163 - val_loss: 0.1239 - lr: 1.1220e-05\n",
      "Epoch 63/100\n",
      "80/80 [==============================] - 5s 66ms/step - loss: 0.1146 - val_loss: 0.1227 - lr: 1.2589e-05\n",
      "Epoch 64/100\n",
      "80/80 [==============================] - 5s 63ms/step - loss: 0.1145 - val_loss: 0.1217 - lr: 1.4125e-05\n",
      "Epoch 65/100\n",
      "80/80 [==============================] - 5s 65ms/step - loss: 0.1134 - val_loss: 0.1207 - lr: 1.5849e-05\n",
      "Epoch 66/100\n",
      "80/80 [==============================] - 5s 59ms/step - loss: 0.1115 - val_loss: 0.1197 - lr: 1.7783e-05\n",
      "Epoch 67/100\n",
      "80/80 [==============================] - 5s 61ms/step - loss: 0.1112 - val_loss: 0.1186 - lr: 1.9953e-05\n",
      "Epoch 68/100\n",
      "80/80 [==============================] - 5s 60ms/step - loss: 0.1094 - val_loss: 0.1175 - lr: 2.2387e-05\n",
      "Epoch 69/100\n",
      "80/80 [==============================] - 5s 64ms/step - loss: 0.1083 - val_loss: 0.1160 - lr: 2.5119e-05\n",
      "Epoch 70/100\n",
      "80/80 [==============================] - 5s 62ms/step - loss: 0.1082 - val_loss: 0.1148 - lr: 2.8184e-05\n",
      "Epoch 71/100\n",
      "80/80 [==============================] - 5s 62ms/step - loss: 0.1059 - val_loss: 0.1132 - lr: 3.1623e-05\n",
      "Epoch 72/100\n",
      "80/80 [==============================] - 5s 61ms/step - loss: 0.1046 - val_loss: 0.1116 - lr: 3.5481e-05\n",
      "Epoch 73/100\n",
      "80/80 [==============================] - 5s 62ms/step - loss: 0.1036 - val_loss: 0.1094 - lr: 3.9811e-05\n",
      "Epoch 74/100\n",
      "80/80 [==============================] - 5s 62ms/step - loss: 0.1026 - val_loss: 0.1068 - lr: 4.4668e-05\n",
      "Epoch 75/100\n",
      "80/80 [==============================] - 5s 65ms/step - loss: 0.1001 - val_loss: 0.1032 - lr: 5.0119e-05\n",
      "Epoch 76/100\n",
      "80/80 [==============================] - 5s 66ms/step - loss: 0.0962 - val_loss: 0.0992 - lr: 5.6234e-05\n",
      "Epoch 77/100\n",
      "80/80 [==============================] - 5s 65ms/step - loss: 0.0935 - val_loss: 0.0936 - lr: 6.3096e-05\n",
      "Epoch 78/100\n",
      "80/80 [==============================] - 5s 65ms/step - loss: 0.0884 - val_loss: 0.0853 - lr: 7.0795e-05\n",
      "Epoch 79/100\n",
      "80/80 [==============================] - 5s 67ms/step - loss: 0.0857 - val_loss: 0.0764 - lr: 7.9433e-05\n",
      "Epoch 80/100\n",
      "80/80 [==============================] - 5s 69ms/step - loss: 0.0813 - val_loss: 0.0691 - lr: 8.9125e-05\n",
      "Epoch 81/100\n",
      "80/80 [==============================] - 5s 65ms/step - loss: 0.0782 - val_loss: 0.0656 - lr: 1.0000e-04\n",
      "Epoch 82/100\n",
      "80/80 [==============================] - 5s 67ms/step - loss: 0.0763 - val_loss: 0.0625 - lr: 1.1220e-04\n",
      "Epoch 83/100\n",
      "80/80 [==============================] - 5s 65ms/step - loss: 0.0770 - val_loss: 0.0627 - lr: 1.2589e-04\n",
      "Epoch 84/100\n",
      "80/80 [==============================] - 5s 63ms/step - loss: 0.0742 - val_loss: 0.0586 - lr: 1.4125e-04\n",
      "Epoch 85/100\n",
      "80/80 [==============================] - 5s 67ms/step - loss: 0.0776 - val_loss: 0.0597 - lr: 1.5849e-04\n",
      "Epoch 86/100\n",
      "80/80 [==============================] - 5s 65ms/step - loss: 0.0756 - val_loss: 0.0583 - lr: 1.7783e-04\n",
      "Epoch 87/100\n",
      "80/80 [==============================] - 5s 66ms/step - loss: 0.0731 - val_loss: 0.0571 - lr: 1.9953e-04\n",
      "Epoch 88/100\n",
      "80/80 [==============================] - 5s 64ms/step - loss: 0.0695 - val_loss: 0.0566 - lr: 2.2387e-04\n",
      "Epoch 89/100\n",
      "80/80 [==============================] - 5s 68ms/step - loss: 0.0677 - val_loss: 0.0553 - lr: 2.5119e-04\n",
      "Epoch 90/100\n",
      "80/80 [==============================] - 5s 67ms/step - loss: 0.0700 - val_loss: 0.0539 - lr: 2.8184e-04\n",
      "Epoch 91/100\n",
      "80/80 [==============================] - 5s 64ms/step - loss: 0.0680 - val_loss: 0.0579 - lr: 3.1623e-04\n",
      "Epoch 92/100\n",
      "80/80 [==============================] - 6s 69ms/step - loss: 0.0663 - val_loss: 0.0564 - lr: 3.5481e-04\n",
      "Epoch 93/100\n",
      "80/80 [==============================] - 5s 66ms/step - loss: 0.0644 - val_loss: 0.0549 - lr: 3.9811e-04\n",
      "Epoch 94/100\n",
      "80/80 [==============================] - 5s 59ms/step - loss: 0.0653 - val_loss: 0.0560 - lr: 4.4668e-04\n",
      "Epoch 95/100\n",
      "80/80 [==============================] - 5s 58ms/step - loss: 0.0667 - val_loss: 0.0564 - lr: 5.0119e-04\n",
      "Epoch 96/100\n",
      "80/80 [==============================] - 4s 54ms/step - loss: 0.0674 - val_loss: 0.0528 - lr: 5.6234e-04\n",
      "Epoch 97/100\n",
      "80/80 [==============================] - 4s 53ms/step - loss: 0.0636 - val_loss: 0.0545 - lr: 6.3096e-04\n",
      "Epoch 98/100\n",
      "80/80 [==============================] - 4s 55ms/step - loss: 0.0632 - val_loss: 0.0532 - lr: 7.0795e-04\n",
      "Epoch 99/100\n",
      "80/80 [==============================] - 5s 57ms/step - loss: 0.0633 - val_loss: 0.0557 - lr: 7.9433e-04\n",
      "Epoch 100/100\n",
      "80/80 [==============================] - 6s 70ms/step - loss: 0.0655 - val_loss: 0.0556 - lr: 8.9125e-04\n"
     ]
    }
   ],
   "source": [
    "tf.keras.backend.clear_session()\n",
    "inputs = layers.Input(shape=(WINDOW, 1), dtype=tf.float32)\n",
    "x = layers.Conv1D(64, 3, activation=\"relu\")(inputs)\n",
    "x = layers.MaxPooling1D(2)(x)\n",
    "x = layers.Conv1D(64, 3, activation=\"relu\")(x)\n",
    "x = layers.MaxPooling1D(2)(x)\n",
    "x = layers.LSTM(72, activation=\"relu\", return_sequences=True)(x)\n",
    "x = layers.LSTM(48, activation=\"relu\")(x)\n",
    "x = layers.Flatten()(x)\n",
    "x = layers.Dropout(0.3)(x)\n",
    "x = layers.Dense(128)(x)\n",
    "x = layers.Dropout(0.3)(x)\n",
    "outputs = layers.Dense(HORIZON)(x)\n",
    "\n",
    "model_2 = tf.keras.Model(inputs, outputs, name=\"model_2\")\n",
    "\n",
    "model_2_init_weights = model_2.get_weights()\n",
    "\n",
    "model_2.compile(loss=\"mae\",\n",
    "                optimizer=tf.keras.optimizers.Adam())\n",
    "\n",
    "model_2_history = model_2.fit(train_dataset,\n",
    "                              validation_data=val_dataset,\n",
    "                              epochs=100,\n",
    "                              callbacks=[lr_scheduler_cb(1e-8, 20)])"
   ]
  },
  {
   "cell_type": "code",
   "execution_count": 59,
   "id": "b133fa77-df8d-4c26-978d-a071a2d0aff1",
   "metadata": {},
   "outputs": [
    {
     "data": {
      "text/plain": [
       "[<matplotlib.lines.Line2D at 0x24011786a60>]"
      ]
     },
     "execution_count": 59,
     "metadata": {},
     "output_type": "execute_result"
    },
    {
     "data": {
      "image/png": "[encoded data removed]",
      "text/plain": [
       "<Figure size 640x480 with 1 Axes>"
      ]
     },
     "metadata": {},
     "output_type": "display_data"
    }
   ],
   "source": [
    "lrs = 1e-8 * 10 ** (tf.range(100)/20)\n",
    "plt.semilogx(lrs, model_2_history.history[\"val_loss\"])"
   ]
  },
  {
   "cell_type": "code",
   "execution_count": 60,
   "id": "d27efbd9-68b4-4a6a-9804-67ee1738b28c",
   "metadata": {
    "scrolled": true
   },
   "outputs": [
    {
     "name": "stdout",
     "output_type": "stream",
     "text": [
      "Epoch 1/150\n",
      "80/80 [==============================] - ETA: 0s - loss: 0.1488\n",
      "Epoch 1: val_loss improved from inf to 0.12993, saving model to h5_models/sunspot\\model_2.h5\n",
      "80/80 [==============================] - 6s 50ms/step - loss: 0.1488 - val_loss: 0.1299 - lr: 1.0000e-04\n",
      "Epoch 2/150\n",
      "79/80 [============================>.] - ETA: 0s - loss: 0.1172\n",
      "Epoch 2: val_loss improved from 0.12993 to 0.12191, saving model to h5_models/sunspot\\model_2.h5\n",
      "80/80 [==============================] - 4s 46ms/step - loss: 0.1168 - val_loss: 0.1219 - lr: 1.0000e-04\n",
      "Epoch 3/150\n",
      "80/80 [==============================] - ETA: 0s - loss: 0.1117\n",
      "Epoch 3: val_loss improved from 0.12191 to 0.11736, saving model to h5_models/sunspot\\model_2.h5\n",
      "80/80 [==============================] - 4s 50ms/step - loss: 0.1117 - val_loss: 0.1174 - lr: 1.0000e-04\n",
      "Epoch 4/150\n",
      "79/80 [============================>.] - ETA: 0s - loss: 0.1082\n",
      "Epoch 4: val_loss improved from 0.11736 to 0.11242, saving model to h5_models/sunspot\\model_2.h5\n",
      "80/80 [==============================] - 4s 53ms/step - loss: 0.1076 - val_loss: 0.1124 - lr: 1.0000e-04\n",
      "Epoch 5/150\n",
      "80/80 [==============================] - ETA: 0s - loss: 0.1026\n",
      "Epoch 5: val_loss improved from 0.11242 to 0.10746, saving model to h5_models/sunspot\\model_2.h5\n",
      "80/80 [==============================] - 4s 53ms/step - loss: 0.1026 - val_loss: 0.1075 - lr: 1.0000e-04\n",
      "Epoch 6/150\n",
      "80/80 [==============================] - ETA: 0s - loss: 0.0993\n",
      "Epoch 6: val_loss improved from 0.10746 to 0.10178, saving model to h5_models/sunspot\\model_2.h5\n",
      "80/80 [==============================] - 4s 50ms/step - loss: 0.0993 - val_loss: 0.1018 - lr: 1.0000e-04\n",
      "Epoch 7/150\n",
      "80/80 [==============================] - ETA: 0s - loss: 0.0933\n",
      "Epoch 7: val_loss improved from 0.10178 to 0.09303, saving model to h5_models/sunspot\\model_2.h5\n",
      "80/80 [==============================] - 4s 51ms/step - loss: 0.0933 - val_loss: 0.0930 - lr: 1.0000e-04\n",
      "Epoch 8/150\n",
      "80/80 [==============================] - ETA: 0s - loss: 0.0873\n",
      "Epoch 8: val_loss improved from 0.09303 to 0.08139, saving model to h5_models/sunspot\\model_2.h5\n",
      "80/80 [==============================] - 4s 51ms/step - loss: 0.0873 - val_loss: 0.0814 - lr: 1.0000e-04\n",
      "Epoch 9/150\n",
      "80/80 [==============================] - ETA: 0s - loss: 0.0799\n",
      "Epoch 9: val_loss improved from 0.08139 to 0.07224, saving model to h5_models/sunspot\\model_2.h5\n",
      "80/80 [==============================] - 4s 52ms/step - loss: 0.0799 - val_loss: 0.0722 - lr: 1.0000e-04\n",
      "Epoch 10/150\n",
      "80/80 [==============================] - ETA: 0s - loss: 0.0782\n",
      "Epoch 10: val_loss improved from 0.07224 to 0.06493, saving model to h5_models/sunspot\\model_2.h5\n",
      "80/80 [==============================] - 4s 51ms/step - loss: 0.0782 - val_loss: 0.0649 - lr: 1.0000e-04\n",
      "Epoch 11/150\n",
      "80/80 [==============================] - ETA: 0s - loss: 0.0756\n",
      "Epoch 11: val_loss improved from 0.06493 to 0.06168, saving model to h5_models/sunspot\\model_2.h5\n",
      "80/80 [==============================] - 4s 54ms/step - loss: 0.0756 - val_loss: 0.0617 - lr: 1.0000e-04\n",
      "Epoch 12/150\n",
      "79/80 [============================>.] - ETA: 0s - loss: 0.0722\n",
      "Epoch 12: val_loss improved from 0.06168 to 0.05997, saving model to h5_models/sunspot\\model_2.h5\n",
      "80/80 [==============================] - 5s 56ms/step - loss: 0.0717 - val_loss: 0.0600 - lr: 1.0000e-04\n",
      "Epoch 13/150\n",
      "80/80 [==============================] - ETA: 0s - loss: 0.0711\n",
      "Epoch 13: val_loss improved from 0.05997 to 0.05955, saving model to h5_models/sunspot\\model_2.h5\n",
      "80/80 [==============================] - 5s 57ms/step - loss: 0.0711 - val_loss: 0.0595 - lr: 1.0000e-04\n",
      "Epoch 14/150\n",
      "79/80 [============================>.] - ETA: 0s - loss: 0.0711\n",
      "Epoch 14: val_loss improved from 0.05955 to 0.05872, saving model to h5_models/sunspot\\model_2.h5\n",
      "80/80 [==============================] - 5s 57ms/step - loss: 0.0707 - val_loss: 0.0587 - lr: 1.0000e-04\n",
      "Epoch 15/150\n",
      "80/80 [==============================] - ETA: 0s - loss: 0.0687\n",
      "Epoch 15: val_loss improved from 0.05872 to 0.05855, saving model to h5_models/sunspot\\model_2.h5\n",
      "80/80 [==============================] - 4s 53ms/step - loss: 0.0687 - val_loss: 0.0586 - lr: 1.0000e-04\n",
      "Epoch 16/150\n",
      "80/80 [==============================] - ETA: 0s - loss: 0.0686\n",
      "Epoch 16: val_loss improved from 0.05855 to 0.05675, saving model to h5_models/sunspot\\model_2.h5\n",
      "80/80 [==============================] - 5s 56ms/step - loss: 0.0686 - val_loss: 0.0567 - lr: 1.0000e-04\n",
      "Epoch 17/150\n",
      "80/80 [==============================] - ETA: 0s - loss: 0.0690\n",
      "Epoch 17: val_loss did not improve from 0.05675\n",
      "80/80 [==============================] - 4s 52ms/step - loss: 0.0690 - val_loss: 0.0571 - lr: 1.0000e-04\n",
      "Epoch 18/150\n",
      "80/80 [==============================] - ETA: 0s - loss: 0.0667\n",
      "Epoch 18: val_loss did not improve from 0.05675\n",
      "80/80 [==============================] - 5s 59ms/step - loss: 0.0667 - val_loss: 0.0571 - lr: 1.0000e-04\n",
      "Epoch 19/150\n",
      "80/80 [==============================] - ETA: 0s - loss: 0.0673\n",
      "Epoch 19: val_loss did not improve from 0.05675\n",
      "\n",
      "Epoch 19: ReduceLROnPlateau reducing learning rate to 9.999999747378752e-06.\n",
      "80/80 [==============================] - 5s 59ms/step - loss: 0.0673 - val_loss: 0.0573 - lr: 1.0000e-04\n",
      "Epoch 20/150\n",
      "80/80 [==============================] - ETA: 0s - loss: 0.0646\n",
      "Epoch 20: val_loss did not improve from 0.05675\n",
      "80/80 [==============================] - 4s 56ms/step - loss: 0.0646 - val_loss: 0.0573 - lr: 1.0000e-05\n",
      "Epoch 21/150\n",
      "80/80 [==============================] - ETA: 0s - loss: 0.0644\n",
      "Epoch 21: val_loss did not improve from 0.05675\n",
      "Restoring model weights from the end of the best epoch: 16.\n",
      "80/80 [==============================] - 5s 57ms/step - loss: 0.0644 - val_loss: 0.0570 - lr: 1.0000e-05\n",
      "Epoch 21: early stopping\n"
     ]
    }
   ],
   "source": [
    "model_2.set_weights(model_2_init_weights)\n",
    "\n",
    "model_2.compile(loss=\"mae\",\n",
    "                optimizer=tf.keras.optimizers.Adam(learning_rate=0.0001))\n",
    "\n",
    "model_2_history = model_2.fit(train_dataset,\n",
    "                              validation_data=val_dataset,\n",
    "                              epochs=150,\n",
    "                              callbacks=[tensorboard_cb(\"model_logs/sunspot/\", model_2.name),\n",
    "                                         checkpoint_cb(\"h5_models/sunspot/\", model_2.name, save_format=\".h5\"),\n",
    "                                         reduce_lr_cb(patience=3, factor=0.1),\n",
    "                                         early_stopping_cb(patience=5)])"
   ]
  },
  {
   "cell_type": "code",
   "execution_count": 154,
   "id": "1ffdb84e-adef-4f3b-9441-8986583818ae",
   "metadata": {
    "scrolled": true
   },
   "outputs": [
    {
     "name": "stdout",
     "output_type": "stream",
     "text": [
      "WARNING:tensorflow:Layer lstm will not use cuDNN kernels since it doesn't meet the criteria. It will use a generic GPU kernel as fallback when running on GPU.\n",
      "WARNING:tensorflow:Layer lstm_1 will not use cuDNN kernels since it doesn't meet the criteria. It will use a generic GPU kernel as fallback when running on GPU.\n",
      "Epoch 1/150\n",
      "80/80 [==============================] - ETA: 0s - loss: 0.1143\n",
      "Epoch 1: val_loss improved from inf to 0.07189, saving model to h5_models/sunspot\\model_3.h5\n",
      "80/80 [==============================] - 19s 211ms/step - loss: 0.1143 - val_loss: 0.0719 - lr: 0.0010\n",
      "Epoch 2/150\n",
      "80/80 [==============================] - ETA: 0s - loss: 0.0729\n",
      "Epoch 2: val_loss improved from 0.07189 to 0.05933, saving model to h5_models/sunspot\\model_3.h5\n",
      "80/80 [==============================] - 17s 214ms/step - loss: 0.0729 - val_loss: 0.0593 - lr: 0.0010\n",
      "Epoch 3/150\n",
      "80/80 [==============================] - ETA: 0s - loss: 0.0663\n",
      "Epoch 3: val_loss improved from 0.05933 to 0.05368, saving model to h5_models/sunspot\\model_3.h5\n",
      "80/80 [==============================] - 20s 257ms/step - loss: 0.0663 - val_loss: 0.0537 - lr: 0.0010\n",
      "Epoch 4/150\n",
      "80/80 [==============================] - ETA: 0s - loss: 0.0643\n",
      "Epoch 4: val_loss did not improve from 0.05368\n",
      "80/80 [==============================] - 20s 256ms/step - loss: 0.0643 - val_loss: 0.0597 - lr: 0.0010\n",
      "Epoch 5/150\n",
      "80/80 [==============================] - ETA: 0s - loss: 0.0638\n",
      "Epoch 5: val_loss improved from 0.05368 to 0.05069, saving model to h5_models/sunspot\\model_3.h5\n",
      "80/80 [==============================] - 21s 258ms/step - loss: 0.0638 - val_loss: 0.0507 - lr: 0.0010\n",
      "Epoch 6/150\n",
      "80/80 [==============================] - ETA: 0s - loss: 0.0625\n",
      "Epoch 6: val_loss improved from 0.05069 to 0.05029, saving model to h5_models/sunspot\\model_3.h5\n",
      "80/80 [==============================] - 20s 253ms/step - loss: 0.0625 - val_loss: 0.0503 - lr: 0.0010\n",
      "Epoch 7/150\n",
      "80/80 [==============================] - ETA: 0s - loss: 0.0589\n",
      "Epoch 7: val_loss did not improve from 0.05029\n",
      "80/80 [==============================] - 21s 264ms/step - loss: 0.0589 - val_loss: 0.0509 - lr: 0.0010\n",
      "Epoch 8/150\n",
      "80/80 [==============================] - ETA: 0s - loss: 0.0592\n",
      "Epoch 8: val_loss improved from 0.05029 to 0.05012, saving model to h5_models/sunspot\\model_3.h5\n",
      "80/80 [==============================] - 21s 265ms/step - loss: 0.0592 - val_loss: 0.0501 - lr: 0.0010\n",
      "Epoch 9/150\n",
      "80/80 [==============================] - ETA: 0s - loss: 0.0577\n",
      "Epoch 9: val_loss did not improve from 0.05012\n",
      "80/80 [==============================] - 21s 263ms/step - loss: 0.0577 - val_loss: 0.0520 - lr: 0.0010\n",
      "Epoch 10/150\n",
      "80/80 [==============================] - ETA: 0s - loss: 0.0594\n",
      "Epoch 10: val_loss did not improve from 0.05012\n",
      "80/80 [==============================] - 20s 253ms/step - loss: 0.0594 - val_loss: 0.0534 - lr: 0.0010\n",
      "Epoch 11/150\n",
      "80/80 [==============================] - ETA: 0s - loss: 0.0575\n",
      "Epoch 11: val_loss improved from 0.05012 to 0.04658, saving model to h5_models/sunspot\\model_3.h5\n",
      "80/80 [==============================] - 20s 251ms/step - loss: 0.0575 - val_loss: 0.0466 - lr: 0.0010\n",
      "Epoch 12/150\n",
      "80/80 [==============================] - ETA: 0s - loss: 0.0574\n",
      "Epoch 12: val_loss improved from 0.04658 to 0.04595, saving model to h5_models/sunspot\\model_3.h5\n",
      "80/80 [==============================] - 17s 209ms/step - loss: 0.0574 - val_loss: 0.0460 - lr: 0.0010\n",
      "Epoch 13/150\n",
      "80/80 [==============================] - ETA: 0s - loss: 0.0553\n",
      "Epoch 13: val_loss did not improve from 0.04595\n",
      "80/80 [==============================] - 16s 201ms/step - loss: 0.0553 - val_loss: 0.0492 - lr: 0.0010\n",
      "Epoch 14/150\n",
      "80/80 [==============================] - ETA: 0s - loss: 0.0568\n",
      "Epoch 14: val_loss improved from 0.04595 to 0.04470, saving model to h5_models/sunspot\\model_3.h5\n",
      "80/80 [==============================] - 16s 205ms/step - loss: 0.0568 - val_loss: 0.0447 - lr: 0.0010\n",
      "Epoch 15/150\n",
      "80/80 [==============================] - ETA: 0s - loss: 0.0552\n",
      "Epoch 15: val_loss did not improve from 0.04470\n",
      "80/80 [==============================] - 18s 223ms/step - loss: 0.0552 - val_loss: 0.0453 - lr: 0.0010\n",
      "Epoch 16/150\n",
      "80/80 [==============================] - ETA: 0s - loss: 0.0546\n",
      "Epoch 16: val_loss did not improve from 0.04470\n",
      "80/80 [==============================] - 16s 203ms/step - loss: 0.0546 - val_loss: 0.0453 - lr: 0.0010\n",
      "Epoch 17/150\n",
      "80/80 [==============================] - ETA: 0s - loss: 0.0528\n",
      "Epoch 17: val_loss did not improve from 0.04470\n",
      "\n",
      "Epoch 17: ReduceLROnPlateau reducing learning rate to 0.00010000000474974513.\n",
      "80/80 [==============================] - 17s 207ms/step - loss: 0.0528 - val_loss: 0.0457 - lr: 0.0010\n",
      "Epoch 18/150\n",
      "80/80 [==============================] - ETA: 0s - loss: 0.0520\n",
      "Epoch 18: val_loss improved from 0.04470 to 0.04332, saving model to h5_models/sunspot\\model_3.h5\n",
      "80/80 [==============================] - 17s 213ms/step - loss: 0.0520 - val_loss: 0.0433 - lr: 1.0000e-04\n",
      "Epoch 19/150\n",
      "80/80 [==============================] - ETA: 0s - loss: 0.0506\n",
      "Epoch 19: val_loss improved from 0.04332 to 0.04301, saving model to h5_models/sunspot\\model_3.h5\n",
      "80/80 [==============================] - 17s 215ms/step - loss: 0.0506 - val_loss: 0.0430 - lr: 1.0000e-04\n",
      "Epoch 20/150\n",
      "80/80 [==============================] - ETA: 0s - loss: 0.0505\n",
      "Epoch 20: val_loss did not improve from 0.04301\n",
      "80/80 [==============================] - 18s 221ms/step - loss: 0.0505 - val_loss: 0.0431 - lr: 1.0000e-04\n",
      "Epoch 21/150\n",
      "80/80 [==============================] - ETA: 0s - loss: 0.0517\n",
      "Epoch 21: val_loss did not improve from 0.04301\n",
      "80/80 [==============================] - 17s 211ms/step - loss: 0.0517 - val_loss: 0.0432 - lr: 1.0000e-04\n",
      "Epoch 22/150\n",
      "80/80 [==============================] - ETA: 0s - loss: 0.0506\n",
      "Epoch 22: val_loss did not improve from 0.04301\n",
      "\n",
      "Epoch 22: ReduceLROnPlateau reducing learning rate to 1.0000000474974514e-05.\n",
      "80/80 [==============================] - 16s 205ms/step - loss: 0.0506 - val_loss: 0.0431 - lr: 1.0000e-04\n",
      "Epoch 23/150\n",
      "80/80 [==============================] - ETA: 0s - loss: 0.0509\n",
      "Epoch 23: val_loss did not improve from 0.04301\n",
      "80/80 [==============================] - 16s 205ms/step - loss: 0.0509 - val_loss: 0.0431 - lr: 1.0000e-05\n",
      "Epoch 24/150\n",
      "80/80 [==============================] - ETA: 0s - loss: 0.0504\n",
      "Epoch 24: val_loss did not improve from 0.04301\n",
      "Restoring model weights from the end of the best epoch: 19.\n",
      "80/80 [==============================] - 16s 196ms/step - loss: 0.0504 - val_loss: 0.0431 - lr: 1.0000e-05\n",
      "Epoch 24: early stopping\n"
     ]
    }
   ],
   "source": [
    "tf.keras.backend.clear_session()\n",
    "inputs = layers.Input(shape=(WINDOW, 1), dtype=tf.float32)\n",
    "x = layers.Conv1D(64, 6, activation=\"relu\")(inputs)\n",
    "x = layers.Conv1D(64, 3, activation=\"relu\")(x)\n",
    "x = layers.LSTM(72, activation=\"relu\", return_sequences=True)(x)\n",
    "x = layers.LSTM(48, activation=\"relu\")(x)\n",
    "x = layers.Flatten()(x)\n",
    "x = layers.Dropout(0.3)(x)\n",
    "x = layers.Dense(128)(x)\n",
    "x = layers.Dropout(0.3)(x)\n",
    "outputs = layers.Dense(HORIZON)(x)\n",
    "\n",
    "model_3 = tf.keras.Model(inputs, outputs, name=\"model_3\")\n",
    "\n",
    "model_3_init_weights = model_2.get_weights()\n",
    "\n",
    "model_3.compile(loss=\"mae\",\n",
    "                optimizer=tf.keras.optimizers.Adam())\n",
    "\n",
    "model_3_history = model_3.fit(train_dataset,\n",
    "                              validation_data=val_dataset,\n",
    "                              epochs=150,\n",
    "                              callbacks=[tensorboard_cb(\"model_logs/sunspot/\", model_3.name),\n",
    "                                         checkpoint_cb(\"h5_models/sunspot/\", model_3.name, save_format=\".h5\"),\n",
    "                                         reduce_lr_cb(patience=3, factor=0.1),\n",
    "                                         early_stopping_cb(patience=5)])"
   ]
  },
  {
   "cell_type": "code",
   "execution_count": 158,
   "id": "fbb1f291-2db9-48eb-ac9e-6530baa6c5dd",
   "metadata": {},
   "outputs": [
    {
     "name": "stderr",
     "output_type": "stream",
     "text": [
      "C:\\Users\\yihim\\AppData\\Local\\Temp\\ipykernel_3832\\3564251472.py:26: RuntimeWarning: divide by zero encountered in divide\n",
      "  mape = np.mean(np.abs((actual_values - predicted_values) / actual_values)[mask]) * 100\n"
     ]
    },
    {
     "data": {
      "text/plain": [
       "{'MAE': 0.043008756,\n",
       " 'MSE': 0.0034863502,\n",
       " 'RMSE': 0.059045322,\n",
       " 'MAPE': 52.85371541976929,\n",
       " 'R2': 0.881210497278466}"
      ]
     },
     "execution_count": 158,
     "metadata": {},
     "output_type": "execute_result"
    }
   ],
   "source": [
    "model_3_preds = model_3.predict(val_dataset)\n",
    "model_3_results_scaled = evaluate_ts_rg_model(tf.cast(tf.squeeze(y_val_scaled), dtype=tf.float32), \n",
    "                                              tf.squeeze(model_3_preds))\n",
    "model_3_results_scaled"
   ]
  },
  {
   "cell_type": "code",
   "execution_count": 159,
   "id": "f7ac5665-c1fa-4ece-99e2-7590870ff8aa",
   "metadata": {},
   "outputs": [
    {
     "name": "stderr",
     "output_type": "stream",
     "text": [
      "C:\\Users\\yihim\\AppData\\Local\\Temp\\ipykernel_3832\\3564251472.py:26: RuntimeWarning: divide by zero encountered in divide\n",
      "  mape = np.mean(np.abs((actual_values - predicted_values) / actual_values)[mask]) * 100\n"
     ]
    }
   ],
   "source": [
    "model_3_results_unscaled = evaluate_ts_rg_model(tf.cast(tf.squeeze(y_scalar.inverse_transform(y_val_scaled)), dtype=tf.float32), tf.squeeze(y_scalar.inverse_transform(model_3_preds)))"
   ]
  },
  {
   "cell_type": "code",
   "execution_count": 160,
   "id": "f0ac2aca-efc4-4eae-becd-f50a63238ffa",
   "metadata": {},
   "outputs": [
    {
     "data": {
      "text/plain": [
       "{'MAE': 17.126087,\n",
       " 'MSE': 552.80695,\n",
       " 'RMSE': 23.511847,\n",
       " 'MAPE': 52.85371541976929,\n",
       " 'R2': 0.8812104989731928}"
      ]
     },
     "execution_count": 160,
     "metadata": {},
     "output_type": "execute_result"
    }
   ],
   "source": [
    "model_3_results_unscaled"
   ]
  },
  {
   "cell_type": "code",
   "execution_count": 168,
   "id": "7facd59f-9c8c-46a4-ac4e-716107cba466",
   "metadata": {},
   "outputs": [
    {
     "data": {
      "text/plain": [
       "580"
      ]
     },
     "execution_count": 168,
     "metadata": {},
     "output_type": "execute_result"
    }
   ],
   "source": [
    "offset = np.abs(60-len(tf.squeeze(model_3_preds)))\n",
    "offset"
   ]
  },
  {
   "cell_type": "code",
   "execution_count": 169,
   "id": "15380ff2-6020-49a8-a9c2-53d806ff867e",
   "metadata": {},
   "outputs": [
    {
     "data": {
      "image/png": "[encoded data removed]",
      "text/plain": [
       "<Figure size 1000x700 with 1 Axes>"
      ]
     },
     "metadata": {},
     "output_type": "display_data"
    }
   ],
   "source": [
    "plot_ts_rg_preds_interval(tf.cast(tf.squeeze(y_scalar.inverse_transform(y_val_scaled)), dtype=tf.float32), \n",
    "                          tf.squeeze(y_scalar.inverse_transform(model_3_preds)),\n",
    "                          offset)"
   ]
  },
  {
   "cell_type": "code",
   "execution_count": 171,
   "id": "4570a147-9b67-4920-9e03-f95abe9a2ac7",
   "metadata": {
    "scrolled": true
   },
   "outputs": [
    {
     "name": "stdout",
     "output_type": "stream",
     "text": [
      "WARNING:tensorflow:Layer lstm will not use cuDNN kernels since it doesn't meet the criteria. It will use a generic GPU kernel as fallback when running on GPU.\n",
      "WARNING:tensorflow:Layer lstm will not use cuDNN kernels since it doesn't meet the criteria. It will use a generic GPU kernel as fallback when running on GPU.\n",
      "WARNING:tensorflow:Layer lstm will not use cuDNN kernels since it doesn't meet the criteria. It will use a generic GPU kernel as fallback when running on GPU.\n",
      "Epoch 1/150\n",
      "80/80 [==============================] - ETA: 0s - loss: 0.1009\n",
      "Epoch 1: val_loss improved from inf to 0.06495, saving model to h5_models/sunspot\\model_4.h5\n",
      "80/80 [==============================] - 21s 233ms/step - loss: 0.1009 - val_loss: 0.0649 - lr: 0.0010\n",
      "Epoch 2/150\n",
      "80/80 [==============================] - ETA: 0s - loss: 0.0547\n",
      "Epoch 2: val_loss improved from 0.06495 to 0.04664, saving model to h5_models/sunspot\\model_4.h5\n",
      "80/80 [==============================] - 19s 232ms/step - loss: 0.0547 - val_loss: 0.0466 - lr: 0.0010\n",
      "Epoch 3/150\n",
      "80/80 [==============================] - ETA: 0s - loss: 0.0513\n",
      "Epoch 3: val_loss improved from 0.04664 to 0.04658, saving model to h5_models/sunspot\\model_4.h5\n",
      "80/80 [==============================] - 20s 252ms/step - loss: 0.0513 - val_loss: 0.0466 - lr: 0.0010\n",
      "Epoch 4/150\n",
      "80/80 [==============================] - ETA: 0s - loss: 0.0517\n",
      "Epoch 4: val_loss did not improve from 0.04658\n",
      "80/80 [==============================] - 20s 247ms/step - loss: 0.0517 - val_loss: 0.0476 - lr: 0.0010\n",
      "Epoch 5/150\n",
      "80/80 [==============================] - ETA: 0s - loss: 0.0509\n",
      "Epoch 5: val_loss did not improve from 0.04658\n",
      "\n",
      "Epoch 5: ReduceLROnPlateau reducing learning rate to 0.00010000000474974513.\n",
      "80/80 [==============================] - 20s 246ms/step - loss: 0.0509 - val_loss: 0.0493 - lr: 0.0010\n",
      "Epoch 6/150\n",
      "80/80 [==============================] - ETA: 0s - loss: 0.0492\n",
      "Epoch 6: val_loss improved from 0.04658 to 0.04390, saving model to h5_models/sunspot\\model_4.h5\n",
      "80/80 [==============================] - 19s 241ms/step - loss: 0.0492 - val_loss: 0.0439 - lr: 1.0000e-04\n",
      "Epoch 7/150\n",
      "80/80 [==============================] - ETA: 0s - loss: 0.0481\n",
      "Epoch 7: val_loss improved from 0.04390 to 0.04388, saving model to h5_models/sunspot\\model_4.h5\n",
      "80/80 [==============================] - 19s 232ms/step - loss: 0.0481 - val_loss: 0.0439 - lr: 1.0000e-04\n",
      "Epoch 8/150\n",
      "80/80 [==============================] - ETA: 0s - loss: 0.0478\n",
      "Epoch 8: val_loss improved from 0.04388 to 0.04385, saving model to h5_models/sunspot\\model_4.h5\n",
      "80/80 [==============================] - 19s 233ms/step - loss: 0.0478 - val_loss: 0.0439 - lr: 1.0000e-04\n",
      "Epoch 9/150\n",
      "80/80 [==============================] - ETA: 0s - loss: 0.0477\n",
      "Epoch 9: val_loss did not improve from 0.04385\n",
      "\n",
      "Epoch 9: ReduceLROnPlateau reducing learning rate to 1.0000000474974514e-05.\n",
      "80/80 [==============================] - 20s 247ms/step - loss: 0.0477 - val_loss: 0.0439 - lr: 1.0000e-04\n",
      "Epoch 10/150\n",
      "80/80 [==============================] - ETA: 0s - loss: 0.0473\n",
      "Epoch 10: val_loss improved from 0.04385 to 0.04383, saving model to h5_models/sunspot\\model_4.h5\n",
      "80/80 [==============================] - 20s 242ms/step - loss: 0.0473 - val_loss: 0.0438 - lr: 1.0000e-05\n",
      "Epoch 11/150\n",
      "80/80 [==============================] - ETA: 0s - loss: 0.0473\n",
      "Epoch 11: val_loss improved from 0.04383 to 0.04382, saving model to h5_models/sunspot\\model_4.h5\n",
      "80/80 [==============================] - 19s 242ms/step - loss: 0.0473 - val_loss: 0.0438 - lr: 1.0000e-05\n",
      "Epoch 12/150\n",
      "80/80 [==============================] - ETA: 0s - loss: 0.0473\n",
      "Epoch 12: val_loss improved from 0.04382 to 0.04381, saving model to h5_models/sunspot\\model_4.h5\n",
      "\n",
      "Epoch 12: ReduceLROnPlateau reducing learning rate to 1.0000000656873453e-06.\n",
      "80/80 [==============================] - 19s 240ms/step - loss: 0.0473 - val_loss: 0.0438 - lr: 1.0000e-05\n",
      "Epoch 13/150\n",
      "80/80 [==============================] - ETA: 0s - loss: 0.0472\n",
      "Epoch 13: val_loss improved from 0.04381 to 0.04381, saving model to h5_models/sunspot\\model_4.h5\n",
      "80/80 [==============================] - 19s 238ms/step - loss: 0.0472 - val_loss: 0.0438 - lr: 1.0000e-06\n",
      "Epoch 14/150\n",
      "80/80 [==============================] - ETA: 0s - loss: 0.0472\n",
      "Epoch 14: val_loss improved from 0.04381 to 0.04381, saving model to h5_models/sunspot\\model_4.h5\n",
      "80/80 [==============================] - 18s 229ms/step - loss: 0.0472 - val_loss: 0.0438 - lr: 1.0000e-06\n",
      "Epoch 15/150\n",
      "80/80 [==============================] - ETA: 0s - loss: 0.0472\n",
      "Epoch 15: val_loss improved from 0.04381 to 0.04381, saving model to h5_models/sunspot\\model_4.h5\n",
      "\n",
      "Epoch 15: ReduceLROnPlateau reducing learning rate to 1.0000001111620805e-07.\n",
      "80/80 [==============================] - 19s 240ms/step - loss: 0.0472 - val_loss: 0.0438 - lr: 1.0000e-06\n",
      "Epoch 16/150\n",
      "80/80 [==============================] - ETA: 0s - loss: 0.0472\n",
      "Epoch 16: val_loss improved from 0.04381 to 0.04381, saving model to h5_models/sunspot\\model_4.h5\n",
      "80/80 [==============================] - 19s 241ms/step - loss: 0.0472 - val_loss: 0.0438 - lr: 1.0000e-07\n",
      "Epoch 17/150\n",
      "80/80 [==============================] - ETA: 0s - loss: 0.0472\n",
      "Epoch 17: val_loss improved from 0.04381 to 0.04381, saving model to h5_models/sunspot\\model_4.h5\n",
      "80/80 [==============================] - 19s 237ms/step - loss: 0.0472 - val_loss: 0.0438 - lr: 1.0000e-07\n",
      "Epoch 18/150\n",
      "80/80 [==============================] - ETA: 0s - loss: 0.0472\n",
      "Epoch 18: val_loss improved from 0.04381 to 0.04381, saving model to h5_models/sunspot\\model_4.h5\n",
      "\n",
      "Epoch 18: ReduceLROnPlateau reducing learning rate to 1e-07.\n",
      "80/80 [==============================] - 20s 244ms/step - loss: 0.0472 - val_loss: 0.0438 - lr: 1.0000e-07\n",
      "Epoch 19/150\n",
      "80/80 [==============================] - ETA: 0s - loss: 0.0472\n",
      "Epoch 19: val_loss improved from 0.04381 to 0.04381, saving model to h5_models/sunspot\\model_4.h5\n",
      "80/80 [==============================] - 19s 242ms/step - loss: 0.0472 - val_loss: 0.0438 - lr: 1.0000e-07\n",
      "Epoch 20/150\n",
      "22/80 [=======>......................] - ETA: 14s - loss: 0.0455"
     ]
    },
    {
     "ename": "KeyboardInterrupt",
     "evalue": "",
     "output_type": "error",
     "traceback": [
      "\u001b[1;31m---------------------------------------------------------------------------\u001b[0m",
      "\u001b[1;31mKeyboardInterrupt\u001b[0m                         Traceback (most recent call last)",
      "Cell \u001b[1;32mIn[171], line 14\u001b[0m\n\u001b[0;32m      9\u001b[0m model_4 \u001b[38;5;241m=\u001b[39m tf\u001b[38;5;241m.\u001b[39mkeras\u001b[38;5;241m.\u001b[39mModel(inputs, outputs, name\u001b[38;5;241m=\u001b[39m\u001b[38;5;124m\"\u001b[39m\u001b[38;5;124mmodel_4\u001b[39m\u001b[38;5;124m\"\u001b[39m)\n\u001b[0;32m     11\u001b[0m model_4\u001b[38;5;241m.\u001b[39mcompile(loss\u001b[38;5;241m=\u001b[39m\u001b[38;5;124m\"\u001b[39m\u001b[38;5;124mmae\u001b[39m\u001b[38;5;124m\"\u001b[39m,\n\u001b[0;32m     12\u001b[0m                 optimizer\u001b[38;5;241m=\u001b[39mtf\u001b[38;5;241m.\u001b[39mkeras\u001b[38;5;241m.\u001b[39moptimizers\u001b[38;5;241m.\u001b[39mAdam(learning_rate\u001b[38;5;241m=\u001b[39m\u001b[38;5;241m0.001\u001b[39m))\n\u001b[1;32m---> 14\u001b[0m model_4_history \u001b[38;5;241m=\u001b[39m \u001b[43mmodel_4\u001b[49m\u001b[38;5;241;43m.\u001b[39;49m\u001b[43mfit\u001b[49m\u001b[43m(\u001b[49m\u001b[43mtrain_dataset\u001b[49m\u001b[43m,\u001b[49m\n\u001b[0;32m     15\u001b[0m \u001b[43m                              \u001b[49m\u001b[43mvalidation_data\u001b[49m\u001b[38;5;241;43m=\u001b[39;49m\u001b[43mval_dataset\u001b[49m\u001b[43m,\u001b[49m\n\u001b[0;32m     16\u001b[0m \u001b[43m                              \u001b[49m\u001b[43mepochs\u001b[49m\u001b[38;5;241;43m=\u001b[39;49m\u001b[38;5;241;43m150\u001b[39;49m\u001b[43m,\u001b[49m\n\u001b[0;32m     17\u001b[0m \u001b[43m                              \u001b[49m\u001b[43mcallbacks\u001b[49m\u001b[38;5;241;43m=\u001b[39;49m\u001b[43m[\u001b[49m\u001b[43mtensorboard_cb\u001b[49m\u001b[43m(\u001b[49m\u001b[38;5;124;43m\"\u001b[39;49m\u001b[38;5;124;43mmodel_logs/sunspot/\u001b[39;49m\u001b[38;5;124;43m\"\u001b[39;49m\u001b[43m,\u001b[49m\u001b[43m \u001b[49m\u001b[43mmodel_4\u001b[49m\u001b[38;5;241;43m.\u001b[39;49m\u001b[43mname\u001b[49m\u001b[43m)\u001b[49m\u001b[43m,\u001b[49m\n\u001b[0;32m     18\u001b[0m \u001b[43m                                         \u001b[49m\u001b[43mcheckpoint_cb\u001b[49m\u001b[43m(\u001b[49m\u001b[38;5;124;43m\"\u001b[39;49m\u001b[38;5;124;43mh5_models/sunspot/\u001b[39;49m\u001b[38;5;124;43m\"\u001b[39;49m\u001b[43m,\u001b[49m\u001b[43m \u001b[49m\u001b[43mmodel_4\u001b[49m\u001b[38;5;241;43m.\u001b[39;49m\u001b[43mname\u001b[49m\u001b[43m,\u001b[49m\u001b[43m \u001b[49m\u001b[43msave_format\u001b[49m\u001b[38;5;241;43m=\u001b[39;49m\u001b[38;5;124;43m\"\u001b[39;49m\u001b[38;5;124;43m.h5\u001b[39;49m\u001b[38;5;124;43m\"\u001b[39;49m\u001b[43m)\u001b[49m\u001b[43m,\u001b[49m\n\u001b[0;32m     19\u001b[0m \u001b[43m                                         \u001b[49m\u001b[43mearly_stopping_cb\u001b[49m\u001b[43m(\u001b[49m\u001b[43mpatience\u001b[49m\u001b[38;5;241;43m=\u001b[39;49m\u001b[38;5;241;43m5\u001b[39;49m\u001b[43m)\u001b[49m\u001b[43m,\u001b[49m\n\u001b[0;32m     20\u001b[0m \u001b[43m                                         \u001b[49m\u001b[43mreduce_lr_cb\u001b[49m\u001b[43m(\u001b[49m\u001b[43mpatience\u001b[49m\u001b[38;5;241;43m=\u001b[39;49m\u001b[38;5;241;43m3\u001b[39;49m\u001b[43m,\u001b[49m\u001b[43m \u001b[49m\u001b[43mfactor\u001b[49m\u001b[38;5;241;43m=\u001b[39;49m\u001b[38;5;241;43m0.1\u001b[39;49m\u001b[43m)\u001b[49m\u001b[43m]\u001b[49m\u001b[43m)\u001b[49m\n",
      "File \u001b[1;32m~\\anaconda3\\envs\\mldl\\lib\\site-packages\\keras\\utils\\traceback_utils.py:64\u001b[0m, in \u001b[0;36mfilter_traceback.<locals>.error_handler\u001b[1;34m(*args, **kwargs)\u001b[0m\n\u001b[0;32m     62\u001b[0m filtered_tb \u001b[38;5;241m=\u001b[39m \u001b[38;5;28;01mNone\u001b[39;00m\n\u001b[0;32m     63\u001b[0m \u001b[38;5;28;01mtry\u001b[39;00m:\n\u001b[1;32m---> 64\u001b[0m   \u001b[38;5;28;01mreturn\u001b[39;00m fn(\u001b[38;5;241m*\u001b[39margs, \u001b[38;5;241m*\u001b[39m\u001b[38;5;241m*\u001b[39mkwargs)\n\u001b[0;32m     65\u001b[0m \u001b[38;5;28;01mexcept\u001b[39;00m \u001b[38;5;167;01mException\u001b[39;00m \u001b[38;5;28;01mas\u001b[39;00m e:  \u001b[38;5;66;03m# pylint: disable=broad-except\u001b[39;00m\n\u001b[0;32m     66\u001b[0m   filtered_tb \u001b[38;5;241m=\u001b[39m _process_traceback_frames(e\u001b[38;5;241m.\u001b[39m__traceback__)\n",
      "File \u001b[1;32m~\\anaconda3\\envs\\mldl\\lib\\site-packages\\keras\\engine\\training.py:1384\u001b[0m, in \u001b[0;36mModel.fit\u001b[1;34m(self, x, y, batch_size, epochs, verbose, callbacks, validation_split, validation_data, shuffle, class_weight, sample_weight, initial_epoch, steps_per_epoch, validation_steps, validation_batch_size, validation_freq, max_queue_size, workers, use_multiprocessing)\u001b[0m\n\u001b[0;32m   1377\u001b[0m \u001b[38;5;28;01mwith\u001b[39;00m tf\u001b[38;5;241m.\u001b[39mprofiler\u001b[38;5;241m.\u001b[39mexperimental\u001b[38;5;241m.\u001b[39mTrace(\n\u001b[0;32m   1378\u001b[0m     \u001b[38;5;124m'\u001b[39m\u001b[38;5;124mtrain\u001b[39m\u001b[38;5;124m'\u001b[39m,\n\u001b[0;32m   1379\u001b[0m     epoch_num\u001b[38;5;241m=\u001b[39mepoch,\n\u001b[0;32m   1380\u001b[0m     step_num\u001b[38;5;241m=\u001b[39mstep,\n\u001b[0;32m   1381\u001b[0m     batch_size\u001b[38;5;241m=\u001b[39mbatch_size,\n\u001b[0;32m   1382\u001b[0m     _r\u001b[38;5;241m=\u001b[39m\u001b[38;5;241m1\u001b[39m):\n\u001b[0;32m   1383\u001b[0m   callbacks\u001b[38;5;241m.\u001b[39mon_train_batch_begin(step)\n\u001b[1;32m-> 1384\u001b[0m   tmp_logs \u001b[38;5;241m=\u001b[39m \u001b[38;5;28;43mself\u001b[39;49m\u001b[38;5;241;43m.\u001b[39;49m\u001b[43mtrain_function\u001b[49m\u001b[43m(\u001b[49m\u001b[43miterator\u001b[49m\u001b[43m)\u001b[49m\n\u001b[0;32m   1385\u001b[0m   \u001b[38;5;28;01mif\u001b[39;00m data_handler\u001b[38;5;241m.\u001b[39mshould_sync:\n\u001b[0;32m   1386\u001b[0m     context\u001b[38;5;241m.\u001b[39masync_wait()\n",
      "File \u001b[1;32m~\\anaconda3\\envs\\mldl\\lib\\site-packages\\tensorflow\\python\\util\\traceback_utils.py:150\u001b[0m, in \u001b[0;36mfilter_traceback.<locals>.error_handler\u001b[1;34m(*args, **kwargs)\u001b[0m\n\u001b[0;32m    148\u001b[0m filtered_tb \u001b[38;5;241m=\u001b[39m \u001b[38;5;28;01mNone\u001b[39;00m\n\u001b[0;32m    149\u001b[0m \u001b[38;5;28;01mtry\u001b[39;00m:\n\u001b[1;32m--> 150\u001b[0m   \u001b[38;5;28;01mreturn\u001b[39;00m fn(\u001b[38;5;241m*\u001b[39margs, \u001b[38;5;241m*\u001b[39m\u001b[38;5;241m*\u001b[39mkwargs)\n\u001b[0;32m    151\u001b[0m \u001b[38;5;28;01mexcept\u001b[39;00m \u001b[38;5;167;01mException\u001b[39;00m \u001b[38;5;28;01mas\u001b[39;00m e:\n\u001b[0;32m    152\u001b[0m   filtered_tb \u001b[38;5;241m=\u001b[39m _process_traceback_frames(e\u001b[38;5;241m.\u001b[39m__traceback__)\n",
      "File \u001b[1;32m~\\anaconda3\\envs\\mldl\\lib\\site-packages\\tensorflow\\python\\eager\\def_function.py:915\u001b[0m, in \u001b[0;36mFunction.__call__\u001b[1;34m(self, *args, **kwds)\u001b[0m\n\u001b[0;32m    912\u001b[0m compiler \u001b[38;5;241m=\u001b[39m \u001b[38;5;124m\"\u001b[39m\u001b[38;5;124mxla\u001b[39m\u001b[38;5;124m\"\u001b[39m \u001b[38;5;28;01mif\u001b[39;00m \u001b[38;5;28mself\u001b[39m\u001b[38;5;241m.\u001b[39m_jit_compile \u001b[38;5;28;01melse\u001b[39;00m \u001b[38;5;124m\"\u001b[39m\u001b[38;5;124mnonXla\u001b[39m\u001b[38;5;124m\"\u001b[39m\n\u001b[0;32m    914\u001b[0m \u001b[38;5;28;01mwith\u001b[39;00m OptionalXlaContext(\u001b[38;5;28mself\u001b[39m\u001b[38;5;241m.\u001b[39m_jit_compile):\n\u001b[1;32m--> 915\u001b[0m   result \u001b[38;5;241m=\u001b[39m \u001b[38;5;28mself\u001b[39m\u001b[38;5;241m.\u001b[39m_call(\u001b[38;5;241m*\u001b[39margs, \u001b[38;5;241m*\u001b[39m\u001b[38;5;241m*\u001b[39mkwds)\n\u001b[0;32m    917\u001b[0m new_tracing_count \u001b[38;5;241m=\u001b[39m \u001b[38;5;28mself\u001b[39m\u001b[38;5;241m.\u001b[39mexperimental_get_tracing_count()\n\u001b[0;32m    918\u001b[0m without_tracing \u001b[38;5;241m=\u001b[39m (tracing_count \u001b[38;5;241m==\u001b[39m new_tracing_count)\n",
      "File \u001b[1;32m~\\anaconda3\\envs\\mldl\\lib\\site-packages\\tensorflow\\python\\eager\\def_function.py:947\u001b[0m, in \u001b[0;36mFunction._call\u001b[1;34m(self, *args, **kwds)\u001b[0m\n\u001b[0;32m    944\u001b[0m   \u001b[38;5;28mself\u001b[39m\u001b[38;5;241m.\u001b[39m_lock\u001b[38;5;241m.\u001b[39mrelease()\n\u001b[0;32m    945\u001b[0m   \u001b[38;5;66;03m# In this case we have created variables on the first call, so we run the\u001b[39;00m\n\u001b[0;32m    946\u001b[0m   \u001b[38;5;66;03m# defunned version which is guaranteed to never create variables.\u001b[39;00m\n\u001b[1;32m--> 947\u001b[0m   \u001b[38;5;28;01mreturn\u001b[39;00m \u001b[38;5;28mself\u001b[39m\u001b[38;5;241m.\u001b[39m_stateless_fn(\u001b[38;5;241m*\u001b[39margs, \u001b[38;5;241m*\u001b[39m\u001b[38;5;241m*\u001b[39mkwds)  \u001b[38;5;66;03m# pylint: disable=not-callable\u001b[39;00m\n\u001b[0;32m    948\u001b[0m \u001b[38;5;28;01melif\u001b[39;00m \u001b[38;5;28mself\u001b[39m\u001b[38;5;241m.\u001b[39m_stateful_fn \u001b[38;5;129;01mis\u001b[39;00m \u001b[38;5;129;01mnot\u001b[39;00m \u001b[38;5;28;01mNone\u001b[39;00m:\n\u001b[0;32m    949\u001b[0m   \u001b[38;5;66;03m# Release the lock early so that multiple threads can perform the call\u001b[39;00m\n\u001b[0;32m    950\u001b[0m   \u001b[38;5;66;03m# in parallel.\u001b[39;00m\n\u001b[0;32m    951\u001b[0m   \u001b[38;5;28mself\u001b[39m\u001b[38;5;241m.\u001b[39m_lock\u001b[38;5;241m.\u001b[39mrelease()\n",
      "File \u001b[1;32m~\\anaconda3\\envs\\mldl\\lib\\site-packages\\tensorflow\\python\\eager\\function.py:2956\u001b[0m, in \u001b[0;36mFunction.__call__\u001b[1;34m(self, *args, **kwargs)\u001b[0m\n\u001b[0;32m   2953\u001b[0m \u001b[38;5;28;01mwith\u001b[39;00m \u001b[38;5;28mself\u001b[39m\u001b[38;5;241m.\u001b[39m_lock:\n\u001b[0;32m   2954\u001b[0m   (graph_function,\n\u001b[0;32m   2955\u001b[0m    filtered_flat_args) \u001b[38;5;241m=\u001b[39m \u001b[38;5;28mself\u001b[39m\u001b[38;5;241m.\u001b[39m_maybe_define_function(args, kwargs)\n\u001b[1;32m-> 2956\u001b[0m \u001b[38;5;28;01mreturn\u001b[39;00m \u001b[43mgraph_function\u001b[49m\u001b[38;5;241;43m.\u001b[39;49m\u001b[43m_call_flat\u001b[49m\u001b[43m(\u001b[49m\n\u001b[0;32m   2957\u001b[0m \u001b[43m    \u001b[49m\u001b[43mfiltered_flat_args\u001b[49m\u001b[43m,\u001b[49m\u001b[43m \u001b[49m\u001b[43mcaptured_inputs\u001b[49m\u001b[38;5;241;43m=\u001b[39;49m\u001b[43mgraph_function\u001b[49m\u001b[38;5;241;43m.\u001b[39;49m\u001b[43mcaptured_inputs\u001b[49m\u001b[43m)\u001b[49m\n",
      "File \u001b[1;32m~\\anaconda3\\envs\\mldl\\lib\\site-packages\\tensorflow\\python\\eager\\function.py:1853\u001b[0m, in \u001b[0;36mConcreteFunction._call_flat\u001b[1;34m(self, args, captured_inputs, cancellation_manager)\u001b[0m\n\u001b[0;32m   1849\u001b[0m possible_gradient_type \u001b[38;5;241m=\u001b[39m gradients_util\u001b[38;5;241m.\u001b[39mPossibleTapeGradientTypes(args)\n\u001b[0;32m   1850\u001b[0m \u001b[38;5;28;01mif\u001b[39;00m (possible_gradient_type \u001b[38;5;241m==\u001b[39m gradients_util\u001b[38;5;241m.\u001b[39mPOSSIBLE_GRADIENT_TYPES_NONE\n\u001b[0;32m   1851\u001b[0m     \u001b[38;5;129;01mand\u001b[39;00m executing_eagerly):\n\u001b[0;32m   1852\u001b[0m   \u001b[38;5;66;03m# No tape is watching; skip to running the function.\u001b[39;00m\n\u001b[1;32m-> 1853\u001b[0m   \u001b[38;5;28;01mreturn\u001b[39;00m \u001b[38;5;28mself\u001b[39m\u001b[38;5;241m.\u001b[39m_build_call_outputs(\u001b[38;5;28;43mself\u001b[39;49m\u001b[38;5;241;43m.\u001b[39;49m\u001b[43m_inference_function\u001b[49m\u001b[38;5;241;43m.\u001b[39;49m\u001b[43mcall\u001b[49m\u001b[43m(\u001b[49m\n\u001b[0;32m   1854\u001b[0m \u001b[43m      \u001b[49m\u001b[43mctx\u001b[49m\u001b[43m,\u001b[49m\u001b[43m \u001b[49m\u001b[43margs\u001b[49m\u001b[43m,\u001b[49m\u001b[43m \u001b[49m\u001b[43mcancellation_manager\u001b[49m\u001b[38;5;241;43m=\u001b[39;49m\u001b[43mcancellation_manager\u001b[49m\u001b[43m)\u001b[49m)\n\u001b[0;32m   1855\u001b[0m forward_backward \u001b[38;5;241m=\u001b[39m \u001b[38;5;28mself\u001b[39m\u001b[38;5;241m.\u001b[39m_select_forward_and_backward_functions(\n\u001b[0;32m   1856\u001b[0m     args,\n\u001b[0;32m   1857\u001b[0m     possible_gradient_type,\n\u001b[0;32m   1858\u001b[0m     executing_eagerly)\n\u001b[0;32m   1859\u001b[0m forward_function, args_with_tangents \u001b[38;5;241m=\u001b[39m forward_backward\u001b[38;5;241m.\u001b[39mforward()\n",
      "File \u001b[1;32m~\\anaconda3\\envs\\mldl\\lib\\site-packages\\tensorflow\\python\\eager\\function.py:499\u001b[0m, in \u001b[0;36m_EagerDefinedFunction.call\u001b[1;34m(self, ctx, args, cancellation_manager)\u001b[0m\n\u001b[0;32m    497\u001b[0m \u001b[38;5;28;01mwith\u001b[39;00m _InterpolateFunctionError(\u001b[38;5;28mself\u001b[39m):\n\u001b[0;32m    498\u001b[0m   \u001b[38;5;28;01mif\u001b[39;00m cancellation_manager \u001b[38;5;129;01mis\u001b[39;00m \u001b[38;5;28;01mNone\u001b[39;00m:\n\u001b[1;32m--> 499\u001b[0m     outputs \u001b[38;5;241m=\u001b[39m \u001b[43mexecute\u001b[49m\u001b[38;5;241;43m.\u001b[39;49m\u001b[43mexecute\u001b[49m\u001b[43m(\u001b[49m\n\u001b[0;32m    500\u001b[0m \u001b[43m        \u001b[49m\u001b[38;5;28;43mstr\u001b[39;49m\u001b[43m(\u001b[49m\u001b[38;5;28;43mself\u001b[39;49m\u001b[38;5;241;43m.\u001b[39;49m\u001b[43msignature\u001b[49m\u001b[38;5;241;43m.\u001b[39;49m\u001b[43mname\u001b[49m\u001b[43m)\u001b[49m\u001b[43m,\u001b[49m\n\u001b[0;32m    501\u001b[0m \u001b[43m        \u001b[49m\u001b[43mnum_outputs\u001b[49m\u001b[38;5;241;43m=\u001b[39;49m\u001b[38;5;28;43mself\u001b[39;49m\u001b[38;5;241;43m.\u001b[39;49m\u001b[43m_num_outputs\u001b[49m\u001b[43m,\u001b[49m\n\u001b[0;32m    502\u001b[0m \u001b[43m        \u001b[49m\u001b[43minputs\u001b[49m\u001b[38;5;241;43m=\u001b[39;49m\u001b[43margs\u001b[49m\u001b[43m,\u001b[49m\n\u001b[0;32m    503\u001b[0m \u001b[43m        \u001b[49m\u001b[43mattrs\u001b[49m\u001b[38;5;241;43m=\u001b[39;49m\u001b[43mattrs\u001b[49m\u001b[43m,\u001b[49m\n\u001b[0;32m    504\u001b[0m \u001b[43m        \u001b[49m\u001b[43mctx\u001b[49m\u001b[38;5;241;43m=\u001b[39;49m\u001b[43mctx\u001b[49m\u001b[43m)\u001b[49m\n\u001b[0;32m    505\u001b[0m   \u001b[38;5;28;01melse\u001b[39;00m:\n\u001b[0;32m    506\u001b[0m     outputs \u001b[38;5;241m=\u001b[39m execute\u001b[38;5;241m.\u001b[39mexecute_with_cancellation(\n\u001b[0;32m    507\u001b[0m         \u001b[38;5;28mstr\u001b[39m(\u001b[38;5;28mself\u001b[39m\u001b[38;5;241m.\u001b[39msignature\u001b[38;5;241m.\u001b[39mname),\n\u001b[0;32m    508\u001b[0m         num_outputs\u001b[38;5;241m=\u001b[39m\u001b[38;5;28mself\u001b[39m\u001b[38;5;241m.\u001b[39m_num_outputs,\n\u001b[1;32m   (...)\u001b[0m\n\u001b[0;32m    511\u001b[0m         ctx\u001b[38;5;241m=\u001b[39mctx,\n\u001b[0;32m    512\u001b[0m         cancellation_manager\u001b[38;5;241m=\u001b[39mcancellation_manager)\n",
      "File \u001b[1;32m~\\anaconda3\\envs\\mldl\\lib\\site-packages\\tensorflow\\python\\eager\\execute.py:54\u001b[0m, in \u001b[0;36mquick_execute\u001b[1;34m(op_name, num_outputs, inputs, attrs, ctx, name)\u001b[0m\n\u001b[0;32m     52\u001b[0m \u001b[38;5;28;01mtry\u001b[39;00m:\n\u001b[0;32m     53\u001b[0m   ctx\u001b[38;5;241m.\u001b[39mensure_initialized()\n\u001b[1;32m---> 54\u001b[0m   tensors \u001b[38;5;241m=\u001b[39m \u001b[43mpywrap_tfe\u001b[49m\u001b[38;5;241;43m.\u001b[39;49m\u001b[43mTFE_Py_Execute\u001b[49m\u001b[43m(\u001b[49m\u001b[43mctx\u001b[49m\u001b[38;5;241;43m.\u001b[39;49m\u001b[43m_handle\u001b[49m\u001b[43m,\u001b[49m\u001b[43m \u001b[49m\u001b[43mdevice_name\u001b[49m\u001b[43m,\u001b[49m\u001b[43m \u001b[49m\u001b[43mop_name\u001b[49m\u001b[43m,\u001b[49m\n\u001b[0;32m     55\u001b[0m \u001b[43m                                      \u001b[49m\u001b[43minputs\u001b[49m\u001b[43m,\u001b[49m\u001b[43m \u001b[49m\u001b[43mattrs\u001b[49m\u001b[43m,\u001b[49m\u001b[43m \u001b[49m\u001b[43mnum_outputs\u001b[49m\u001b[43m)\u001b[49m\n\u001b[0;32m     56\u001b[0m \u001b[38;5;28;01mexcept\u001b[39;00m core\u001b[38;5;241m.\u001b[39m_NotOkStatusException \u001b[38;5;28;01mas\u001b[39;00m e:\n\u001b[0;32m     57\u001b[0m   \u001b[38;5;28;01mif\u001b[39;00m name \u001b[38;5;129;01mis\u001b[39;00m \u001b[38;5;129;01mnot\u001b[39;00m \u001b[38;5;28;01mNone\u001b[39;00m:\n",
      "\u001b[1;31mKeyboardInterrupt\u001b[0m: "
     ]
    }
   ],
   "source": [
    "tf.keras.backend.clear_session()\n",
    "\n",
    "inputs = layers.Input(shape=(WINDOW, 1), dtype=tf.float32)\n",
    "x = layers.Conv1D(16, 3, activation=\"relu\", padding=\"causal\")(inputs)\n",
    "x = layers.Bidirectional(layers.LSTM(16, activation=\"relu\"))(x)\n",
    "x = layers.Dense(16)(x)\n",
    "outputs = layers.Dense(HORIZON)(x)\n",
    "\n",
    "model_4 = tf.keras.Model(inputs, outputs, name=\"model_4\")\n",
    "\n",
    "model_4.compile(loss=\"mae\",\n",
    "                optimizer=tf.keras.optimizers.Adam(learning_rate=0.001))\n",
    "\n",
    "model_4_history = model_4.fit(train_dataset,\n",
    "                              validation_data=val_dataset,\n",
    "                              epochs=150,\n",
    "                              callbacks=[tensorboard_cb(\"model_logs/sunspot/\", model_4.name),\n",
    "                                         checkpoint_cb(\"h5_models/sunspot/\", model_4.name, save_format=\".h5\"),\n",
    "                                         early_stopping_cb(patience=5),\n",
    "                                         reduce_lr_cb(patience=3, factor=0.1)])"
   ]
  },
  {
   "cell_type": "code",
   "execution_count": 172,
   "id": "4c823f14-1766-4cc6-ae40-aefaae9d2175",
   "metadata": {},
   "outputs": [
    {
     "name": "stdout",
     "output_type": "stream",
     "text": [
      "WARNING:tensorflow:Layer lstm will not use cuDNN kernels since it doesn't meet the criteria. It will use a generic GPU kernel as fallback when running on GPU.\n",
      "WARNING:tensorflow:Layer lstm will not use cuDNN kernels since it doesn't meet the criteria. It will use a generic GPU kernel as fallback when running on GPU.\n",
      "WARNING:tensorflow:Layer lstm will not use cuDNN kernels since it doesn't meet the criteria. It will use a generic GPU kernel as fallback when running on GPU.\n"
     ]
    },
    {
     "name": "stderr",
     "output_type": "stream",
     "text": [
      "C:\\Users\\yihim\\AppData\\Local\\Temp\\ipykernel_3832\\3564251472.py:26: RuntimeWarning: divide by zero encountered in divide\n",
      "  mape = np.mean(np.abs((actual_values - predicted_values) / actual_values)[mask]) * 100\n"
     ]
    }
   ],
   "source": [
    "model_4_loaded = tf.keras.models.load_model(\"h5_models/sunspot/model_4.h5\")\n",
    "model_4_preds = model_4.predict(val_dataset)\n",
    "model_4_results_unscaled = evaluate_ts_rg_model(tf.cast(tf.squeeze(y_scalar.inverse_transform(y_val_scaled)), \n",
    "                                                        dtype=tf.float32), \n",
    "                                                tf.squeeze(y_scalar.inverse_transform(model_4_preds)))"
   ]
  },
  {
   "cell_type": "code",
   "execution_count": 173,
   "id": "42dc3a13-1d1a-44ea-ae63-5de12920e98a",
   "metadata": {},
   "outputs": [
    {
     "data": {
      "text/plain": [
       "{'MAE': 17.445255,\n",
       " 'MSE': 563.61426,\n",
       " 'RMSE': 23.74056,\n",
       " 'MAPE': 46.36359512805939,\n",
       " 'R2': 0.8788881799061055}"
      ]
     },
     "execution_count": 173,
     "metadata": {},
     "output_type": "execute_result"
    }
   ],
   "source": [
    "model_4_results_unscaled"
   ]
  },
  {
   "cell_type": "code",
   "execution_count": 175,
   "id": "38ef5333-39d8-4609-a0ff-dd8976cecb36",
   "metadata": {
    "scrolled": true
   },
   "outputs": [
    {
     "name": "stdout",
     "output_type": "stream",
     "text": [
      "WARNING:tensorflow:Layer lstm will not use cuDNN kernels since it doesn't meet the criteria. It will use a generic GPU kernel as fallback when running on GPU.\n",
      "WARNING:tensorflow:Layer lstm_1 will not use cuDNN kernels since it doesn't meet the criteria. It will use a generic GPU kernel as fallback when running on GPU.\n",
      "Epoch 1/150\n",
      "80/80 [==============================] - ETA: 0s - loss: 0.0907\n",
      "Epoch 1: val_loss improved from inf to 0.05753, saving model to h5_models/sunspot\\model_5.h5\n",
      "80/80 [==============================] - 21s 239ms/step - loss: 0.0907 - val_loss: 0.0575 - lr: 0.0050\n",
      "Epoch 2/150\n",
      "80/80 [==============================] - ETA: 0s - loss: 0.0669\n",
      "Epoch 2: val_loss improved from 0.05753 to 0.05262, saving model to h5_models/sunspot\\model_5.h5\n",
      "80/80 [==============================] - 20s 248ms/step - loss: 0.0669 - val_loss: 0.0526 - lr: 0.0050\n",
      "Epoch 3/150\n",
      "80/80 [==============================] - ETA: 0s - loss: 0.0630\n",
      "Epoch 3: val_loss improved from 0.05262 to 0.04997, saving model to h5_models/sunspot\\model_5.h5\n",
      "80/80 [==============================] - 19s 237ms/step - loss: 0.0630 - val_loss: 0.0500 - lr: 0.0050\n",
      "Epoch 4/150\n",
      "80/80 [==============================] - ETA: 0s - loss: 0.0600\n",
      "Epoch 4: val_loss did not improve from 0.04997\n",
      "80/80 [==============================] - 19s 244ms/step - loss: 0.0600 - val_loss: 0.0505 - lr: 0.0050\n",
      "Epoch 5/150\n",
      "80/80 [==============================] - ETA: 0s - loss: 0.0625\n",
      "Epoch 5: val_loss improved from 0.04997 to 0.04655, saving model to h5_models/sunspot\\model_5.h5\n",
      "80/80 [==============================] - 21s 262ms/step - loss: 0.0625 - val_loss: 0.0465 - lr: 0.0050\n",
      "Epoch 6/150\n",
      "80/80 [==============================] - ETA: 0s - loss: 0.0593\n",
      "Epoch 6: val_loss did not improve from 0.04655\n",
      "80/80 [==============================] - 19s 242ms/step - loss: 0.0593 - val_loss: 0.0470 - lr: 0.0050\n",
      "Epoch 7/150\n",
      "80/80 [==============================] - ETA: 0s - loss: 0.0584\n",
      "Epoch 7: val_loss did not improve from 0.04655\n",
      "80/80 [==============================] - 20s 246ms/step - loss: 0.0584 - val_loss: 0.0469 - lr: 0.0050\n",
      "Epoch 8/150\n",
      "80/80 [==============================] - ETA: 0s - loss: 0.0580\n",
      "Epoch 8: val_loss did not improve from 0.04655\n",
      "\n",
      "Epoch 8: ReduceLROnPlateau reducing learning rate to 0.0004999999888241291.\n",
      "80/80 [==============================] - 20s 245ms/step - loss: 0.0580 - val_loss: 0.0476 - lr: 0.0050\n",
      "Epoch 9/150\n",
      "80/80 [==============================] - ETA: 0s - loss: 0.0555\n",
      "Epoch 9: val_loss improved from 0.04655 to 0.04502, saving model to h5_models/sunspot\\model_5.h5\n",
      "80/80 [==============================] - 19s 236ms/step - loss: 0.0555 - val_loss: 0.0450 - lr: 5.0000e-04\n",
      "Epoch 10/150\n",
      "80/80 [==============================] - ETA: 0s - loss: 0.0564\n",
      "Epoch 10: val_loss did not improve from 0.04502\n",
      "80/80 [==============================] - 18s 228ms/step - loss: 0.0564 - val_loss: 0.0451 - lr: 5.0000e-04\n",
      "Epoch 11/150\n",
      "80/80 [==============================] - ETA: 0s - loss: 0.0567\n",
      "Epoch 11: val_loss improved from 0.04502 to 0.04394, saving model to h5_models/sunspot\\model_5.h5\n",
      "80/80 [==============================] - 20s 246ms/step - loss: 0.0567 - val_loss: 0.0439 - lr: 5.0000e-04\n",
      "Epoch 12/150\n",
      "80/80 [==============================] - ETA: 0s - loss: 0.0564\n",
      "Epoch 12: val_loss did not improve from 0.04394\n",
      "80/80 [==============================] - 19s 237ms/step - loss: 0.0564 - val_loss: 0.0439 - lr: 5.0000e-04\n",
      "Epoch 13/150\n",
      "80/80 [==============================] - ETA: 0s - loss: 0.0571\n",
      "Epoch 13: val_loss did not improve from 0.04394\n",
      "80/80 [==============================] - 18s 225ms/step - loss: 0.0571 - val_loss: 0.0440 - lr: 5.0000e-04\n",
      "Epoch 14/150\n",
      "80/80 [==============================] - ETA: 0s - loss: 0.0557\n",
      "Epoch 14: val_loss improved from 0.04394 to 0.04336, saving model to h5_models/sunspot\\model_5.h5\n",
      "80/80 [==============================] - 18s 231ms/step - loss: 0.0557 - val_loss: 0.0434 - lr: 5.0000e-04\n",
      "Epoch 15/150\n",
      "80/80 [==============================] - ETA: 0s - loss: 0.0560\n",
      "Epoch 15: val_loss did not improve from 0.04336\n",
      "80/80 [==============================] - 19s 243ms/step - loss: 0.0560 - val_loss: 0.0434 - lr: 5.0000e-04\n",
      "Epoch 16/150\n",
      "80/80 [==============================] - ETA: 0s - loss: 0.0569\n",
      "Epoch 16: val_loss did not improve from 0.04336\n",
      "80/80 [==============================] - 19s 236ms/step - loss: 0.0569 - val_loss: 0.0442 - lr: 5.0000e-04\n",
      "Epoch 17/150\n",
      "80/80 [==============================] - ETA: 0s - loss: 0.0558\n",
      "Epoch 17: val_loss did not improve from 0.04336\n",
      "\n",
      "Epoch 17: ReduceLROnPlateau reducing learning rate to 4.9999996554106475e-05.\n",
      "80/80 [==============================] - 19s 235ms/step - loss: 0.0558 - val_loss: 0.0436 - lr: 5.0000e-04\n",
      "Epoch 18/150\n",
      "75/80 [===========================>..] - ETA: 1s - loss: 0.0551"
     ]
    },
    {
     "ename": "KeyboardInterrupt",
     "evalue": "",
     "output_type": "error",
     "traceback": [
      "\u001b[1;31m---------------------------------------------------------------------------\u001b[0m",
      "\u001b[1;31mKeyboardInterrupt\u001b[0m                         Traceback (most recent call last)",
      "Cell \u001b[1;32mIn[175], line 14\u001b[0m\n\u001b[0;32m      9\u001b[0m model_5 \u001b[38;5;241m=\u001b[39m tf\u001b[38;5;241m.\u001b[39mkeras\u001b[38;5;241m.\u001b[39mModel(inputs, outputs, name\u001b[38;5;241m=\u001b[39m\u001b[38;5;124m\"\u001b[39m\u001b[38;5;124mmodel_5\u001b[39m\u001b[38;5;124m\"\u001b[39m)\n\u001b[0;32m     11\u001b[0m model_5\u001b[38;5;241m.\u001b[39mcompile(loss\u001b[38;5;241m=\u001b[39m\u001b[38;5;124m\"\u001b[39m\u001b[38;5;124mmae\u001b[39m\u001b[38;5;124m\"\u001b[39m,\n\u001b[0;32m     12\u001b[0m                 optimizer\u001b[38;5;241m=\u001b[39mtf\u001b[38;5;241m.\u001b[39mkeras\u001b[38;5;241m.\u001b[39moptimizers\u001b[38;5;241m.\u001b[39mAdam(learning_rate\u001b[38;5;241m=\u001b[39m\u001b[38;5;241m5e-3\u001b[39m))\n\u001b[1;32m---> 14\u001b[0m model_5_history \u001b[38;5;241m=\u001b[39m \u001b[43mmodel_5\u001b[49m\u001b[38;5;241;43m.\u001b[39;49m\u001b[43mfit\u001b[49m\u001b[43m(\u001b[49m\u001b[43mtrain_dataset\u001b[49m\u001b[43m,\u001b[49m\n\u001b[0;32m     15\u001b[0m \u001b[43m                              \u001b[49m\u001b[43mvalidation_data\u001b[49m\u001b[38;5;241;43m=\u001b[39;49m\u001b[43mval_dataset\u001b[49m\u001b[43m,\u001b[49m\n\u001b[0;32m     16\u001b[0m \u001b[43m                              \u001b[49m\u001b[43mepochs\u001b[49m\u001b[38;5;241;43m=\u001b[39;49m\u001b[38;5;241;43m150\u001b[39;49m\u001b[43m,\u001b[49m\n\u001b[0;32m     17\u001b[0m \u001b[43m                              \u001b[49m\u001b[43mcallbacks\u001b[49m\u001b[38;5;241;43m=\u001b[39;49m\u001b[43m[\u001b[49m\u001b[43mtensorboard_cb\u001b[49m\u001b[43m(\u001b[49m\u001b[38;5;124;43m\"\u001b[39;49m\u001b[38;5;124;43mmodel_logs/sunspot/\u001b[39;49m\u001b[38;5;124;43m\"\u001b[39;49m\u001b[43m,\u001b[49m\u001b[43m \u001b[49m\u001b[43mmodel_5\u001b[49m\u001b[38;5;241;43m.\u001b[39;49m\u001b[43mname\u001b[49m\u001b[43m)\u001b[49m\u001b[43m,\u001b[49m\n\u001b[0;32m     18\u001b[0m \u001b[43m                                         \u001b[49m\u001b[43mcheckpoint_cb\u001b[49m\u001b[43m(\u001b[49m\u001b[38;5;124;43m\"\u001b[39;49m\u001b[38;5;124;43mh5_models/sunspot/\u001b[39;49m\u001b[38;5;124;43m\"\u001b[39;49m\u001b[43m,\u001b[49m\u001b[43m \u001b[49m\u001b[43mmodel_5\u001b[49m\u001b[38;5;241;43m.\u001b[39;49m\u001b[43mname\u001b[49m\u001b[43m,\u001b[49m\u001b[43m \u001b[49m\u001b[43msave_format\u001b[49m\u001b[38;5;241;43m=\u001b[39;49m\u001b[38;5;124;43m\"\u001b[39;49m\u001b[38;5;124;43m.h5\u001b[39;49m\u001b[38;5;124;43m\"\u001b[39;49m\u001b[43m)\u001b[49m\u001b[43m,\u001b[49m\n\u001b[0;32m     19\u001b[0m \u001b[43m                                         \u001b[49m\u001b[43mearly_stopping_cb\u001b[49m\u001b[43m(\u001b[49m\u001b[43mpatience\u001b[49m\u001b[38;5;241;43m=\u001b[39;49m\u001b[38;5;241;43m5\u001b[39;49m\u001b[43m)\u001b[49m\u001b[43m,\u001b[49m\n\u001b[0;32m     20\u001b[0m \u001b[43m                                         \u001b[49m\u001b[43mreduce_lr_cb\u001b[49m\u001b[43m(\u001b[49m\u001b[43mpatience\u001b[49m\u001b[38;5;241;43m=\u001b[39;49m\u001b[38;5;241;43m3\u001b[39;49m\u001b[43m,\u001b[49m\u001b[43m \u001b[49m\u001b[43mfactor\u001b[49m\u001b[38;5;241;43m=\u001b[39;49m\u001b[38;5;241;43m0.1\u001b[39;49m\u001b[43m)\u001b[49m\u001b[43m]\u001b[49m\u001b[43m)\u001b[49m\n",
      "File \u001b[1;32m~\\anaconda3\\envs\\mldl\\lib\\site-packages\\keras\\utils\\traceback_utils.py:64\u001b[0m, in \u001b[0;36mfilter_traceback.<locals>.error_handler\u001b[1;34m(*args, **kwargs)\u001b[0m\n\u001b[0;32m     62\u001b[0m filtered_tb \u001b[38;5;241m=\u001b[39m \u001b[38;5;28;01mNone\u001b[39;00m\n\u001b[0;32m     63\u001b[0m \u001b[38;5;28;01mtry\u001b[39;00m:\n\u001b[1;32m---> 64\u001b[0m   \u001b[38;5;28;01mreturn\u001b[39;00m fn(\u001b[38;5;241m*\u001b[39margs, \u001b[38;5;241m*\u001b[39m\u001b[38;5;241m*\u001b[39mkwargs)\n\u001b[0;32m     65\u001b[0m \u001b[38;5;28;01mexcept\u001b[39;00m \u001b[38;5;167;01mException\u001b[39;00m \u001b[38;5;28;01mas\u001b[39;00m e:  \u001b[38;5;66;03m# pylint: disable=broad-except\u001b[39;00m\n\u001b[0;32m     66\u001b[0m   filtered_tb \u001b[38;5;241m=\u001b[39m _process_traceback_frames(e\u001b[38;5;241m.\u001b[39m__traceback__)\n",
      "File \u001b[1;32m~\\anaconda3\\envs\\mldl\\lib\\site-packages\\keras\\engine\\training.py:1384\u001b[0m, in \u001b[0;36mModel.fit\u001b[1;34m(self, x, y, batch_size, epochs, verbose, callbacks, validation_split, validation_data, shuffle, class_weight, sample_weight, initial_epoch, steps_per_epoch, validation_steps, validation_batch_size, validation_freq, max_queue_size, workers, use_multiprocessing)\u001b[0m\n\u001b[0;32m   1377\u001b[0m \u001b[38;5;28;01mwith\u001b[39;00m tf\u001b[38;5;241m.\u001b[39mprofiler\u001b[38;5;241m.\u001b[39mexperimental\u001b[38;5;241m.\u001b[39mTrace(\n\u001b[0;32m   1378\u001b[0m     \u001b[38;5;124m'\u001b[39m\u001b[38;5;124mtrain\u001b[39m\u001b[38;5;124m'\u001b[39m,\n\u001b[0;32m   1379\u001b[0m     epoch_num\u001b[38;5;241m=\u001b[39mepoch,\n\u001b[0;32m   1380\u001b[0m     step_num\u001b[38;5;241m=\u001b[39mstep,\n\u001b[0;32m   1381\u001b[0m     batch_size\u001b[38;5;241m=\u001b[39mbatch_size,\n\u001b[0;32m   1382\u001b[0m     _r\u001b[38;5;241m=\u001b[39m\u001b[38;5;241m1\u001b[39m):\n\u001b[0;32m   1383\u001b[0m   callbacks\u001b[38;5;241m.\u001b[39mon_train_batch_begin(step)\n\u001b[1;32m-> 1384\u001b[0m   tmp_logs \u001b[38;5;241m=\u001b[39m \u001b[38;5;28;43mself\u001b[39;49m\u001b[38;5;241;43m.\u001b[39;49m\u001b[43mtrain_function\u001b[49m\u001b[43m(\u001b[49m\u001b[43miterator\u001b[49m\u001b[43m)\u001b[49m\n\u001b[0;32m   1385\u001b[0m   \u001b[38;5;28;01mif\u001b[39;00m data_handler\u001b[38;5;241m.\u001b[39mshould_sync:\n\u001b[0;32m   1386\u001b[0m     context\u001b[38;5;241m.\u001b[39masync_wait()\n",
      "File \u001b[1;32m~\\anaconda3\\envs\\mldl\\lib\\site-packages\\tensorflow\\python\\util\\traceback_utils.py:150\u001b[0m, in \u001b[0;36mfilter_traceback.<locals>.error_handler\u001b[1;34m(*args, **kwargs)\u001b[0m\n\u001b[0;32m    148\u001b[0m filtered_tb \u001b[38;5;241m=\u001b[39m \u001b[38;5;28;01mNone\u001b[39;00m\n\u001b[0;32m    149\u001b[0m \u001b[38;5;28;01mtry\u001b[39;00m:\n\u001b[1;32m--> 150\u001b[0m   \u001b[38;5;28;01mreturn\u001b[39;00m fn(\u001b[38;5;241m*\u001b[39margs, \u001b[38;5;241m*\u001b[39m\u001b[38;5;241m*\u001b[39mkwargs)\n\u001b[0;32m    151\u001b[0m \u001b[38;5;28;01mexcept\u001b[39;00m \u001b[38;5;167;01mException\u001b[39;00m \u001b[38;5;28;01mas\u001b[39;00m e:\n\u001b[0;32m    152\u001b[0m   filtered_tb \u001b[38;5;241m=\u001b[39m _process_traceback_frames(e\u001b[38;5;241m.\u001b[39m__traceback__)\n",
      "File \u001b[1;32m~\\anaconda3\\envs\\mldl\\lib\\site-packages\\tensorflow\\python\\eager\\def_function.py:915\u001b[0m, in \u001b[0;36mFunction.__call__\u001b[1;34m(self, *args, **kwds)\u001b[0m\n\u001b[0;32m    912\u001b[0m compiler \u001b[38;5;241m=\u001b[39m \u001b[38;5;124m\"\u001b[39m\u001b[38;5;124mxla\u001b[39m\u001b[38;5;124m\"\u001b[39m \u001b[38;5;28;01mif\u001b[39;00m \u001b[38;5;28mself\u001b[39m\u001b[38;5;241m.\u001b[39m_jit_compile \u001b[38;5;28;01melse\u001b[39;00m \u001b[38;5;124m\"\u001b[39m\u001b[38;5;124mnonXla\u001b[39m\u001b[38;5;124m\"\u001b[39m\n\u001b[0;32m    914\u001b[0m \u001b[38;5;28;01mwith\u001b[39;00m OptionalXlaContext(\u001b[38;5;28mself\u001b[39m\u001b[38;5;241m.\u001b[39m_jit_compile):\n\u001b[1;32m--> 915\u001b[0m   result \u001b[38;5;241m=\u001b[39m \u001b[38;5;28mself\u001b[39m\u001b[38;5;241m.\u001b[39m_call(\u001b[38;5;241m*\u001b[39margs, \u001b[38;5;241m*\u001b[39m\u001b[38;5;241m*\u001b[39mkwds)\n\u001b[0;32m    917\u001b[0m new_tracing_count \u001b[38;5;241m=\u001b[39m \u001b[38;5;28mself\u001b[39m\u001b[38;5;241m.\u001b[39mexperimental_get_tracing_count()\n\u001b[0;32m    918\u001b[0m without_tracing \u001b[38;5;241m=\u001b[39m (tracing_count \u001b[38;5;241m==\u001b[39m new_tracing_count)\n",
      "File \u001b[1;32m~\\anaconda3\\envs\\mldl\\lib\\site-packages\\tensorflow\\python\\eager\\def_function.py:947\u001b[0m, in \u001b[0;36mFunction._call\u001b[1;34m(self, *args, **kwds)\u001b[0m\n\u001b[0;32m    944\u001b[0m   \u001b[38;5;28mself\u001b[39m\u001b[38;5;241m.\u001b[39m_lock\u001b[38;5;241m.\u001b[39mrelease()\n\u001b[0;32m    945\u001b[0m   \u001b[38;5;66;03m# In this case we have created variables on the first call, so we run the\u001b[39;00m\n\u001b[0;32m    946\u001b[0m   \u001b[38;5;66;03m# defunned version which is guaranteed to never create variables.\u001b[39;00m\n\u001b[1;32m--> 947\u001b[0m   \u001b[38;5;28;01mreturn\u001b[39;00m \u001b[38;5;28mself\u001b[39m\u001b[38;5;241m.\u001b[39m_stateless_fn(\u001b[38;5;241m*\u001b[39margs, \u001b[38;5;241m*\u001b[39m\u001b[38;5;241m*\u001b[39mkwds)  \u001b[38;5;66;03m# pylint: disable=not-callable\u001b[39;00m\n\u001b[0;32m    948\u001b[0m \u001b[38;5;28;01melif\u001b[39;00m \u001b[38;5;28mself\u001b[39m\u001b[38;5;241m.\u001b[39m_stateful_fn \u001b[38;5;129;01mis\u001b[39;00m \u001b[38;5;129;01mnot\u001b[39;00m \u001b[38;5;28;01mNone\u001b[39;00m:\n\u001b[0;32m    949\u001b[0m   \u001b[38;5;66;03m# Release the lock early so that multiple threads can perform the call\u001b[39;00m\n\u001b[0;32m    950\u001b[0m   \u001b[38;5;66;03m# in parallel.\u001b[39;00m\n\u001b[0;32m    951\u001b[0m   \u001b[38;5;28mself\u001b[39m\u001b[38;5;241m.\u001b[39m_lock\u001b[38;5;241m.\u001b[39mrelease()\n",
      "File \u001b[1;32m~\\anaconda3\\envs\\mldl\\lib\\site-packages\\tensorflow\\python\\eager\\function.py:2956\u001b[0m, in \u001b[0;36mFunction.__call__\u001b[1;34m(self, *args, **kwargs)\u001b[0m\n\u001b[0;32m   2953\u001b[0m \u001b[38;5;28;01mwith\u001b[39;00m \u001b[38;5;28mself\u001b[39m\u001b[38;5;241m.\u001b[39m_lock:\n\u001b[0;32m   2954\u001b[0m   (graph_function,\n\u001b[0;32m   2955\u001b[0m    filtered_flat_args) \u001b[38;5;241m=\u001b[39m \u001b[38;5;28mself\u001b[39m\u001b[38;5;241m.\u001b[39m_maybe_define_function(args, kwargs)\n\u001b[1;32m-> 2956\u001b[0m \u001b[38;5;28;01mreturn\u001b[39;00m \u001b[43mgraph_function\u001b[49m\u001b[38;5;241;43m.\u001b[39;49m\u001b[43m_call_flat\u001b[49m\u001b[43m(\u001b[49m\n\u001b[0;32m   2957\u001b[0m \u001b[43m    \u001b[49m\u001b[43mfiltered_flat_args\u001b[49m\u001b[43m,\u001b[49m\u001b[43m \u001b[49m\u001b[43mcaptured_inputs\u001b[49m\u001b[38;5;241;43m=\u001b[39;49m\u001b[43mgraph_function\u001b[49m\u001b[38;5;241;43m.\u001b[39;49m\u001b[43mcaptured_inputs\u001b[49m\u001b[43m)\u001b[49m\n",
      "File \u001b[1;32m~\\anaconda3\\envs\\mldl\\lib\\site-packages\\tensorflow\\python\\eager\\function.py:1853\u001b[0m, in \u001b[0;36mConcreteFunction._call_flat\u001b[1;34m(self, args, captured_inputs, cancellation_manager)\u001b[0m\n\u001b[0;32m   1849\u001b[0m possible_gradient_type \u001b[38;5;241m=\u001b[39m gradients_util\u001b[38;5;241m.\u001b[39mPossibleTapeGradientTypes(args)\n\u001b[0;32m   1850\u001b[0m \u001b[38;5;28;01mif\u001b[39;00m (possible_gradient_type \u001b[38;5;241m==\u001b[39m gradients_util\u001b[38;5;241m.\u001b[39mPOSSIBLE_GRADIENT_TYPES_NONE\n\u001b[0;32m   1851\u001b[0m     \u001b[38;5;129;01mand\u001b[39;00m executing_eagerly):\n\u001b[0;32m   1852\u001b[0m   \u001b[38;5;66;03m# No tape is watching; skip to running the function.\u001b[39;00m\n\u001b[1;32m-> 1853\u001b[0m   \u001b[38;5;28;01mreturn\u001b[39;00m \u001b[38;5;28mself\u001b[39m\u001b[38;5;241m.\u001b[39m_build_call_outputs(\u001b[38;5;28;43mself\u001b[39;49m\u001b[38;5;241;43m.\u001b[39;49m\u001b[43m_inference_function\u001b[49m\u001b[38;5;241;43m.\u001b[39;49m\u001b[43mcall\u001b[49m\u001b[43m(\u001b[49m\n\u001b[0;32m   1854\u001b[0m \u001b[43m      \u001b[49m\u001b[43mctx\u001b[49m\u001b[43m,\u001b[49m\u001b[43m \u001b[49m\u001b[43margs\u001b[49m\u001b[43m,\u001b[49m\u001b[43m \u001b[49m\u001b[43mcancellation_manager\u001b[49m\u001b[38;5;241;43m=\u001b[39;49m\u001b[43mcancellation_manager\u001b[49m\u001b[43m)\u001b[49m)\n\u001b[0;32m   1855\u001b[0m forward_backward \u001b[38;5;241m=\u001b[39m \u001b[38;5;28mself\u001b[39m\u001b[38;5;241m.\u001b[39m_select_forward_and_backward_functions(\n\u001b[0;32m   1856\u001b[0m     args,\n\u001b[0;32m   1857\u001b[0m     possible_gradient_type,\n\u001b[0;32m   1858\u001b[0m     executing_eagerly)\n\u001b[0;32m   1859\u001b[0m forward_function, args_with_tangents \u001b[38;5;241m=\u001b[39m forward_backward\u001b[38;5;241m.\u001b[39mforward()\n",
      "File \u001b[1;32m~\\anaconda3\\envs\\mldl\\lib\\site-packages\\tensorflow\\python\\eager\\function.py:499\u001b[0m, in \u001b[0;36m_EagerDefinedFunction.call\u001b[1;34m(self, ctx, args, cancellation_manager)\u001b[0m\n\u001b[0;32m    497\u001b[0m \u001b[38;5;28;01mwith\u001b[39;00m _InterpolateFunctionError(\u001b[38;5;28mself\u001b[39m):\n\u001b[0;32m    498\u001b[0m   \u001b[38;5;28;01mif\u001b[39;00m cancellation_manager \u001b[38;5;129;01mis\u001b[39;00m \u001b[38;5;28;01mNone\u001b[39;00m:\n\u001b[1;32m--> 499\u001b[0m     outputs \u001b[38;5;241m=\u001b[39m \u001b[43mexecute\u001b[49m\u001b[38;5;241;43m.\u001b[39;49m\u001b[43mexecute\u001b[49m\u001b[43m(\u001b[49m\n\u001b[0;32m    500\u001b[0m \u001b[43m        \u001b[49m\u001b[38;5;28;43mstr\u001b[39;49m\u001b[43m(\u001b[49m\u001b[38;5;28;43mself\u001b[39;49m\u001b[38;5;241;43m.\u001b[39;49m\u001b[43msignature\u001b[49m\u001b[38;5;241;43m.\u001b[39;49m\u001b[43mname\u001b[49m\u001b[43m)\u001b[49m\u001b[43m,\u001b[49m\n\u001b[0;32m    501\u001b[0m \u001b[43m        \u001b[49m\u001b[43mnum_outputs\u001b[49m\u001b[38;5;241;43m=\u001b[39;49m\u001b[38;5;28;43mself\u001b[39;49m\u001b[38;5;241;43m.\u001b[39;49m\u001b[43m_num_outputs\u001b[49m\u001b[43m,\u001b[49m\n\u001b[0;32m    502\u001b[0m \u001b[43m        \u001b[49m\u001b[43minputs\u001b[49m\u001b[38;5;241;43m=\u001b[39;49m\u001b[43margs\u001b[49m\u001b[43m,\u001b[49m\n\u001b[0;32m    503\u001b[0m \u001b[43m        \u001b[49m\u001b[43mattrs\u001b[49m\u001b[38;5;241;43m=\u001b[39;49m\u001b[43mattrs\u001b[49m\u001b[43m,\u001b[49m\n\u001b[0;32m    504\u001b[0m \u001b[43m        \u001b[49m\u001b[43mctx\u001b[49m\u001b[38;5;241;43m=\u001b[39;49m\u001b[43mctx\u001b[49m\u001b[43m)\u001b[49m\n\u001b[0;32m    505\u001b[0m   \u001b[38;5;28;01melse\u001b[39;00m:\n\u001b[0;32m    506\u001b[0m     outputs \u001b[38;5;241m=\u001b[39m execute\u001b[38;5;241m.\u001b[39mexecute_with_cancellation(\n\u001b[0;32m    507\u001b[0m         \u001b[38;5;28mstr\u001b[39m(\u001b[38;5;28mself\u001b[39m\u001b[38;5;241m.\u001b[39msignature\u001b[38;5;241m.\u001b[39mname),\n\u001b[0;32m    508\u001b[0m         num_outputs\u001b[38;5;241m=\u001b[39m\u001b[38;5;28mself\u001b[39m\u001b[38;5;241m.\u001b[39m_num_outputs,\n\u001b[1;32m   (...)\u001b[0m\n\u001b[0;32m    511\u001b[0m         ctx\u001b[38;5;241m=\u001b[39mctx,\n\u001b[0;32m    512\u001b[0m         cancellation_manager\u001b[38;5;241m=\u001b[39mcancellation_manager)\n",
      "File \u001b[1;32m~\\anaconda3\\envs\\mldl\\lib\\site-packages\\tensorflow\\python\\eager\\execute.py:54\u001b[0m, in \u001b[0;36mquick_execute\u001b[1;34m(op_name, num_outputs, inputs, attrs, ctx, name)\u001b[0m\n\u001b[0;32m     52\u001b[0m \u001b[38;5;28;01mtry\u001b[39;00m:\n\u001b[0;32m     53\u001b[0m   ctx\u001b[38;5;241m.\u001b[39mensure_initialized()\n\u001b[1;32m---> 54\u001b[0m   tensors \u001b[38;5;241m=\u001b[39m \u001b[43mpywrap_tfe\u001b[49m\u001b[38;5;241;43m.\u001b[39;49m\u001b[43mTFE_Py_Execute\u001b[49m\u001b[43m(\u001b[49m\u001b[43mctx\u001b[49m\u001b[38;5;241;43m.\u001b[39;49m\u001b[43m_handle\u001b[49m\u001b[43m,\u001b[49m\u001b[43m \u001b[49m\u001b[43mdevice_name\u001b[49m\u001b[43m,\u001b[49m\u001b[43m \u001b[49m\u001b[43mop_name\u001b[49m\u001b[43m,\u001b[49m\n\u001b[0;32m     55\u001b[0m \u001b[43m                                      \u001b[49m\u001b[43minputs\u001b[49m\u001b[43m,\u001b[49m\u001b[43m \u001b[49m\u001b[43mattrs\u001b[49m\u001b[43m,\u001b[49m\u001b[43m \u001b[49m\u001b[43mnum_outputs\u001b[49m\u001b[43m)\u001b[49m\n\u001b[0;32m     56\u001b[0m \u001b[38;5;28;01mexcept\u001b[39;00m core\u001b[38;5;241m.\u001b[39m_NotOkStatusException \u001b[38;5;28;01mas\u001b[39;00m e:\n\u001b[0;32m     57\u001b[0m   \u001b[38;5;28;01mif\u001b[39;00m name \u001b[38;5;129;01mis\u001b[39;00m \u001b[38;5;129;01mnot\u001b[39;00m \u001b[38;5;28;01mNone\u001b[39;00m:\n",
      "\u001b[1;31mKeyboardInterrupt\u001b[0m: "
     ]
    }
   ],
   "source": [
    "tf.keras.backend.clear_session()\n",
    "\n",
    "inputs = layers.Input(shape=(WINDOW, 1), dtype=tf.float32)\n",
    "x = layers.LSTM(50, activation=\"relu\", return_sequences=True)(inputs)\n",
    "x = layers.LSTM(25, activation=\"relu\")(x)\n",
    "x = layers.Dropout(0.3)(x)\n",
    "outputs = layers.Dense(HORIZON)(x)\n",
    "\n",
    "model_5 = tf.keras.Model(inputs, outputs, name=\"model_5\")\n",
    "\n",
    "model_5.compile(loss=\"mae\",\n",
    "                optimizer=tf.keras.optimizers.Adam(learning_rate=5e-3))\n",
    "\n",
    "model_5_history = model_5.fit(train_dataset,\n",
    "                              validation_data=val_dataset,\n",
    "                              epochs=150,\n",
    "                              callbacks=[tensorboard_cb(\"model_logs/sunspot/\", model_5.name),\n",
    "                                         checkpoint_cb(\"h5_models/sunspot/\", model_5.name, save_format=\".h5\"),\n",
    "                                         early_stopping_cb(patience=5),\n",
    "                                         reduce_lr_cb(patience=3, factor=0.1)])"
   ]
  },
  {
   "cell_type": "code",
   "execution_count": 176,
   "id": "ae81d6ee-6f2e-448c-b376-663b96bea87f",
   "metadata": {},
   "outputs": [
    {
     "name": "stdout",
     "output_type": "stream",
     "text": [
      "WARNING:tensorflow:Layer lstm will not use cuDNN kernels since it doesn't meet the criteria. It will use a generic GPU kernel as fallback when running on GPU.\n",
      "WARNING:tensorflow:Layer lstm_1 will not use cuDNN kernels since it doesn't meet the criteria. It will use a generic GPU kernel as fallback when running on GPU.\n"
     ]
    },
    {
     "name": "stderr",
     "output_type": "stream",
     "text": [
      "C:\\Users\\yihim\\AppData\\Local\\Temp\\ipykernel_3832\\3564251472.py:26: RuntimeWarning: divide by zero encountered in divide\n",
      "  mape = np.mean(np.abs((actual_values - predicted_values) / actual_values)[mask]) * 100\n"
     ]
    }
   ],
   "source": [
    "model_5_loaded = tf.keras.models.load_model(\"h5_models/sunspot/model_5.h5\")\n",
    "model_5_preds = model_5_loaded.predict(val_dataset)\n",
    "model_5_results_unscaled = evaluate_ts_rg_model(tf.cast(tf.squeeze(y_scalar.inverse_transform(y_val_scaled)), \n",
    "                                                        dtype=tf.float32), \n",
    "                                                tf.squeeze(y_scalar.inverse_transform(model_5_preds)))"
   ]
  },
  {
   "cell_type": "code",
   "execution_count": 177,
   "id": "3811debc-d39b-465b-91a1-e48dbad403c7",
   "metadata": {},
   "outputs": [
    {
     "data": {
      "text/plain": [
       "{'MAE': 17.267925,\n",
       " 'MSE': 550.7806,\n",
       " 'RMSE': 23.468716,\n",
       " 'MAPE': 66.19118452072144,\n",
       " 'R2': 0.8816459347713131}"
      ]
     },
     "execution_count": 177,
     "metadata": {},
     "output_type": "execute_result"
    }
   ],
   "source": [
    "model_5_results_unscaled"
   ]
  },
  {
   "cell_type": "code",
   "execution_count": 68,
   "id": "b0fd05ba-9eb1-4dab-8f10-172533848159",
   "metadata": {},
   "outputs": [],
   "source": [
    "from tensorflow.keras import layers\n",
    "\n",
    "def create_cv_nn():\n",
    "    tf.keras.backend.clear_session()\n",
    "\n",
    "    inputs = layers.Input(shape=(WINDOW, 1), dtype=tf.float32)\n",
    "    x = layers.Conv1D(16, 3, activation=\"relu\", padding=\"causal\")(inputs)\n",
    "    x = layers.Bidirectional(layers.LSTM(16, activation=\"relu\"))(x)\n",
    "    x = layers.Dense(16)(x)\n",
    "    outputs = layers.Dense(HORIZON)(x)\n",
    "    \n",
    "    model = tf.keras.Model(inputs, outputs, name=\"model\")\n",
    "\n",
    "    model.compile(loss=\"mae\",\n",
    "                  optimizer=tf.keras.optimizers.Adam(learning_rate=5e-3))\n",
    "\n",
    "    return model"
   ]
  },
  {
   "cell_type": "code",
   "execution_count": 71,
   "id": "b371f376-cf99-4d06-ad21-2aa8c18e5839",
   "metadata": {
    "scrolled": true
   },
   "outputs": [
    {
     "name": "stdout",
     "output_type": "stream",
     "text": [
      "Train indices: [  0   1   2   3   4   5   6   7   8   9  10  11  12  13  14  15  16  17\n",
      "  18  19  20  21  22  23  24  25  26  27  28  29  30  31  32  33  34  35\n",
      "  36  37  38  39  40  41  42  43  44  45  46  47  48  49  50  51  52  53\n",
      "  54  55  56  57  58  59  60  61  62  63  64  65  66  67  68  69  70  71\n",
      "  72  73  74  75  76  77  78  79  80  81  82  83  84  85  86  87  88  89\n",
      "  90  91  92  93  94  95  96  97  98  99 100 101 102 103 104 105 106 107\n",
      " 108 109 110 111 112 113 114 115 116 117 118 119 120 121 122 123 124 125\n",
      " 126 127 128 129 130 131 132 133 134 135 136 137 138 139 140 141 142 143\n",
      " 144 145 146 147 148 149 150 151 152 153 154 155 156 157 158 159 160 161\n",
      " 162 163 164 165 166 167 168 169 170 171 172 173 174 175 176 177 178 179\n",
      " 180 181 182 183 184 185 186 187 188 189 190 191 192 193 194 195 196 197\n",
      " 198 199 200 201 202 203 204 205 206 207 208 209 210 211 212 213 214 215\n",
      " 216 217 218 219 220 221 222 223 224 225 226 227 228 229 230 231 232 233\n",
      " 234 235 236 237 238 239 240 241 242 243 244 245 246 247 248 249 250 251\n",
      " 252 253 254 255 256 257 258 259 260 261 262 263 264 265 266 267 268 269\n",
      " 270 271 272 273 274 275 276 277 278 279 280 281 282 283 284 285 286 287\n",
      " 288 289 290 291 292 293 294 295 296 297 298 299 300 301 302 303 304 305\n",
      " 306 307 308 309 310 311 312 313 314 315 316 317 318 319 320 321 322 323\n",
      " 324 325 326 327 328 329 330 331 332 333 334 335 336 337 338 339 340 341\n",
      " 342 343 344 345 346 347 348 349 350 351 352 353 354 355 356 357 358 359\n",
      " 360 361 362 363 364 365 366 367 368 369 370 371 372 373 374 375 376 377\n",
      " 378 379 380 381 382 383 384 385 386 387 388 389 390 391 392 393 394 395\n",
      " 396 397 398 399 400 401 402 403 404 405 406 407 408 409 410 411 412 413\n",
      " 414 415 416 417 418 419 420 421 422 423 424 425 426 427 428]\n",
      "\n",
      "Test indices: [429 430 431 432 433 434 435 436 437 438 439 440 441 442 443 444 445 446\n",
      " 447 448 449 450 451 452 453 454 455 456 457 458 459 460 461 462 463 464\n",
      " 465 466 467 468 469 470 471 472 473 474 475 476 477 478 479 480 481 482\n",
      " 483 484 485 486 487 488 489 490 491 492 493 494 495 496 497 498 499 500\n",
      " 501 502 503 504 505 506 507 508 509 510 511 512 513 514 515 516 517 518\n",
      " 519 520 521 522 523 524 525 526 527 528 529 530 531 532 533 534 535 536\n",
      " 537 538 539 540 541 542 543 544 545 546 547 548 549 550 551 552 553 554\n",
      " 555 556 557 558 559 560 561 562 563 564 565 566 567 568 569 570 571 572\n",
      " 573 574 575 576 577 578 579 580 581 582 583 584 585 586 587 588 589 590\n",
      " 591 592 593 594 595 596 597 598 599 600 601 602 603 604 605 606 607 608\n",
      " 609 610 611 612 613 614 615 616 617 618 619 620 621 622 623 624 625 626\n",
      " 627 628 629 630 631 632 633 634 635 636 637 638 639 640 641 642 643 644\n",
      " 645 646 647 648 649 650 651 652 653 654 655 656 657 658 659 660 661 662\n",
      " 663 664 665 666 667 668 669 670 671 672 673 674 675 676 677 678 679 680\n",
      " 681 682 683 684 685 686 687 688 689 690 691 692 693 694 695 696 697 698\n",
      " 699 700 701 702 703 704 705 706 707 708 709 710 711 712 713 714 715 716\n",
      " 717 718 719 720 721 722 723 724 725 726 727 728 729 730 731 732 733 734\n",
      " 735 736 737 738 739 740 741 742 743 744 745 746 747 748 749 750 751 752\n",
      " 753 754 755 756 757 758 759 760 761 762 763 764 765 766 767 768 769 770\n",
      " 771 772 773 774 775 776 777 778 779 780 781 782 783 784 785 786 787 788\n",
      " 789 790 791 792 793 794 795 796 797 798 799 800 801 802 803 804 805 806\n",
      " 807 808 809 810 811 812 813 814 815 816 817 818 819 820 821 822 823 824\n",
      " 825 826 827 828 829 830 831 832 833 834 835 836 837 838 839 840 841 842\n",
      " 843 844 845 846 847 848 849 850 851 852 853 854]\n",
      "WARNING:tensorflow:Layer lstm will not use cuDNN kernels since it doesn't meet the criteria. It will use a generic GPU kernel as fallback when running on GPU.\n",
      "WARNING:tensorflow:Layer lstm will not use cuDNN kernels since it doesn't meet the criteria. It will use a generic GPU kernel as fallback when running on GPU.\n",
      "WARNING:tensorflow:Layer lstm will not use cuDNN kernels since it doesn't meet the criteria. It will use a generic GPU kernel as fallback when running on GPU.\n",
      "Epoch 1/10\n",
      "14/14 [==============================] - 5s 248ms/step - loss: 0.1304 - val_loss: 0.0630\n",
      "Epoch 2/10\n",
      "14/14 [==============================] - 3s 224ms/step - loss: 0.0694 - val_loss: 0.0425\n",
      "Epoch 3/10\n",
      "14/14 [==============================] - 3s 215ms/step - loss: 0.0614 - val_loss: 0.0703\n",
      "Epoch 4/10\n",
      "14/14 [==============================] - 3s 214ms/step - loss: 0.0620 - val_loss: 0.0386\n",
      "Epoch 5/10\n",
      "14/14 [==============================] - 3s 238ms/step - loss: 0.0609 - val_loss: 0.0442\n",
      "Epoch 6/10\n",
      "14/14 [==============================] - 3s 215ms/step - loss: 0.0575 - val_loss: 0.0454\n",
      "Epoch 7/10\n",
      "14/14 [==============================] - 3s 241ms/step - loss: 0.0577 - val_loss: 0.0403\n",
      "Epoch 8/10\n",
      "14/14 [==============================] - 3s 238ms/step - loss: 0.0590 - val_loss: 0.0593\n",
      "Epoch 9/10\n",
      "14/14 [==============================] - 3s 227ms/step - loss: 0.0544 - val_loss: 0.0424\n",
      "Epoch 10/10\n",
      "14/14 [==============================] - 3s 245ms/step - loss: 0.0549 - val_loss: 0.0433\n",
      "\n",
      "Train loss: 0.06200368329882622\n",
      "\n",
      "Val loss: 0.03861187770962715\n",
      "\n",
      "Train indices: [  0   1   2   3   4   5   6   7   8   9  10  11  12  13  14  15  16  17\n",
      "  18  19  20  21  22  23  24  25  26  27  28  29  30  31  32  33  34  35\n",
      "  36  37  38  39  40  41  42  43  44  45  46  47  48  49  50  51  52  53\n",
      "  54  55  56  57  58  59  60  61  62  63  64  65  66  67  68  69  70  71\n",
      "  72  73  74  75  76  77  78  79  80  81  82  83  84  85  86  87  88  89\n",
      "  90  91  92  93  94  95  96  97  98  99 100 101 102 103 104 105 106 107\n",
      " 108 109 110 111 112 113 114 115 116 117 118 119 120 121 122 123 124 125\n",
      " 126 127 128 129 130 131 132 133 134 135 136 137 138 139 140 141 142 143\n",
      " 144 145 146 147 148 149 150 151 152 153 154 155 156 157 158 159 160 161\n",
      " 162 163 164 165 166 167 168 169 170 171 172 173 174 175 176 177 178 179\n",
      " 180 181 182 183 184 185 186 187 188 189 190 191 192 193 194 195 196 197\n",
      " 198 199 200 201 202 203 204 205 206 207 208 209 210 211 212 213 214 215\n",
      " 216 217 218 219 220 221 222 223 224 225 226 227 228 229 230 231 232 233\n",
      " 234 235 236 237 238 239 240 241 242 243 244 245 246 247 248 249 250 251\n",
      " 252 253 254 255 256 257 258 259 260 261 262 263 264 265 266 267 268 269\n",
      " 270 271 272 273 274 275 276 277 278 279 280 281 282 283 284 285 286 287\n",
      " 288 289 290 291 292 293 294 295 296 297 298 299 300 301 302 303 304 305\n",
      " 306 307 308 309 310 311 312 313 314 315 316 317 318 319 320 321 322 323\n",
      " 324 325 326 327 328 329 330 331 332 333 334 335 336 337 338 339 340 341\n",
      " 342 343 344 345 346 347 348 349 350 351 352 353 354 355 356 357 358 359\n",
      " 360 361 362 363 364 365 366 367 368 369 370 371 372 373 374 375 376 377\n",
      " 378 379 380 381 382 383 384 385 386 387 388 389 390 391 392 393 394 395\n",
      " 396 397 398 399 400 401 402 403 404 405 406 407 408 409 410 411 412 413\n",
      " 414 415 416 417 418 419 420 421 422 423 424 425 426 427 428 429 430 431\n",
      " 432 433 434 435 436 437 438 439 440 441 442 443 444 445 446 447 448 449\n",
      " 450 451 452 453 454 455 456 457 458 459 460 461 462 463 464 465 466 467\n",
      " 468 469 470 471 472 473 474 475 476 477 478 479 480 481 482 483 484 485\n",
      " 486 487 488 489 490 491 492 493 494 495 496 497 498 499 500 501 502 503\n",
      " 504 505 506 507 508 509 510 511 512 513 514 515 516 517 518 519 520 521\n",
      " 522 523 524 525 526 527 528 529 530 531 532 533 534 535 536 537 538 539\n",
      " 540 541 542 543 544 545 546 547 548 549 550 551 552 553 554 555 556 557\n",
      " 558 559 560 561 562 563 564 565 566 567 568 569 570 571 572 573 574 575\n",
      " 576 577 578 579 580 581 582 583 584 585 586 587 588 589 590 591 592 593\n",
      " 594 595 596 597 598 599 600 601 602 603 604 605 606 607 608 609 610 611\n",
      " 612 613 614 615 616 617 618 619 620 621 622 623 624 625 626 627 628 629\n",
      " 630 631 632 633 634 635 636 637 638 639 640 641 642 643 644 645 646 647\n",
      " 648 649 650 651 652 653 654 655 656 657 658 659 660 661 662 663 664 665\n",
      " 666 667 668 669 670 671 672 673 674 675 676 677 678 679 680 681 682 683\n",
      " 684 685 686 687 688 689 690 691 692 693 694 695 696 697 698 699 700 701\n",
      " 702 703 704 705 706 707 708 709 710 711 712 713 714 715 716 717 718 719\n",
      " 720 721 722 723 724 725 726 727 728 729 730 731 732 733 734 735 736 737\n",
      " 738 739 740 741 742 743 744 745 746 747 748 749 750 751 752 753 754 755\n",
      " 756 757 758 759 760 761 762 763 764 765 766 767 768 769 770 771 772 773\n",
      " 774 775 776 777 778 779 780 781 782 783 784 785 786 787 788 789 790 791\n",
      " 792 793 794 795 796 797 798 799 800 801 802 803 804 805 806 807 808 809\n",
      " 810 811 812 813 814 815 816 817 818 819 820 821 822 823 824 825 826 827\n",
      " 828 829 830 831 832 833 834 835 836 837 838 839 840 841 842 843 844 845\n",
      " 846 847 848 849 850 851 852 853 854]\n",
      "\n",
      "Test indices: [ 855  856  857  858  859  860  861  862  863  864  865  866  867  868\n",
      "  869  870  871  872  873  874  875  876  877  878  879  880  881  882\n",
      "  883  884  885  886  887  888  889  890  891  892  893  894  895  896\n",
      "  897  898  899  900  901  902  903  904  905  906  907  908  909  910\n",
      "  911  912  913  914  915  916  917  918  919  920  921  922  923  924\n",
      "  925  926  927  928  929  930  931  932  933  934  935  936  937  938\n",
      "  939  940  941  942  943  944  945  946  947  948  949  950  951  952\n",
      "  953  954  955  956  957  958  959  960  961  962  963  964  965  966\n",
      "  967  968  969  970  971  972  973  974  975  976  977  978  979  980\n",
      "  981  982  983  984  985  986  987  988  989  990  991  992  993  994\n",
      "  995  996  997  998  999 1000 1001 1002 1003 1004 1005 1006 1007 1008\n",
      " 1009 1010 1011 1012 1013 1014 1015 1016 1017 1018 1019 1020 1021 1022\n",
      " 1023 1024 1025 1026 1027 1028 1029 1030 1031 1032 1033 1034 1035 1036\n",
      " 1037 1038 1039 1040 1041 1042 1043 1044 1045 1046 1047 1048 1049 1050\n",
      " 1051 1052 1053 1054 1055 1056 1057 1058 1059 1060 1061 1062 1063 1064\n",
      " 1065 1066 1067 1068 1069 1070 1071 1072 1073 1074 1075 1076 1077 1078\n",
      " 1079 1080 1081 1082 1083 1084 1085 1086 1087 1088 1089 1090 1091 1092\n",
      " 1093 1094 1095 1096 1097 1098 1099 1100 1101 1102 1103 1104 1105 1106\n",
      " 1107 1108 1109 1110 1111 1112 1113 1114 1115 1116 1117 1118 1119 1120\n",
      " 1121 1122 1123 1124 1125 1126 1127 1128 1129 1130 1131 1132 1133 1134\n",
      " 1135 1136 1137 1138 1139 1140 1141 1142 1143 1144 1145 1146 1147 1148\n",
      " 1149 1150 1151 1152 1153 1154 1155 1156 1157 1158 1159 1160 1161 1162\n",
      " 1163 1164 1165 1166 1167 1168 1169 1170 1171 1172 1173 1174 1175 1176\n",
      " 1177 1178 1179 1180 1181 1182 1183 1184 1185 1186 1187 1188 1189 1190\n",
      " 1191 1192 1193 1194 1195 1196 1197 1198 1199 1200 1201 1202 1203 1204\n",
      " 1205 1206 1207 1208 1209 1210 1211 1212 1213 1214 1215 1216 1217 1218\n",
      " 1219 1220 1221 1222 1223 1224 1225 1226 1227 1228 1229 1230 1231 1232\n",
      " 1233 1234 1235 1236 1237 1238 1239 1240 1241 1242 1243 1244 1245 1246\n",
      " 1247 1248 1249 1250 1251 1252 1253 1254 1255 1256 1257 1258 1259 1260\n",
      " 1261 1262 1263 1264 1265 1266 1267 1268 1269 1270 1271 1272 1273 1274\n",
      " 1275 1276 1277 1278 1279 1280]\n",
      "WARNING:tensorflow:Layer lstm will not use cuDNN kernels since it doesn't meet the criteria. It will use a generic GPU kernel as fallback when running on GPU.\n",
      "WARNING:tensorflow:Layer lstm will not use cuDNN kernels since it doesn't meet the criteria. It will use a generic GPU kernel as fallback when running on GPU.\n",
      "WARNING:tensorflow:Layer lstm will not use cuDNN kernels since it doesn't meet the criteria. It will use a generic GPU kernel as fallback when running on GPU.\n",
      "Epoch 1/10\n",
      "27/27 [==============================] - 8s 225ms/step - loss: 0.0635 - val_loss: 0.0554\n",
      "Epoch 2/10\n",
      "27/27 [==============================] - 6s 230ms/step - loss: 0.0470 - val_loss: 0.0555\n",
      "Epoch 3/10\n",
      "27/27 [==============================] - 6s 226ms/step - loss: 0.0462 - val_loss: 0.0578\n",
      "Epoch 4/10\n",
      "27/27 [==============================] - 7s 267ms/step - loss: 0.0456 - val_loss: 0.0537\n",
      "Epoch 5/10\n",
      "27/27 [==============================] - 7s 258ms/step - loss: 0.0433 - val_loss: 0.0534\n",
      "Epoch 6/10\n",
      "27/27 [==============================] - 7s 261ms/step - loss: 0.0438 - val_loss: 0.0531\n",
      "Epoch 7/10\n",
      "27/27 [==============================] - 6s 227ms/step - loss: 0.0431 - val_loss: 0.0541\n",
      "Epoch 8/10\n",
      "27/27 [==============================] - 6s 223ms/step - loss: 0.0440 - val_loss: 0.0543\n",
      "Epoch 9/10\n",
      "27/27 [==============================] - 6s 237ms/step - loss: 0.0434 - val_loss: 0.0537\n",
      "Epoch 10/10\n",
      "27/27 [==============================] - 6s 239ms/step - loss: 0.0447 - val_loss: 0.0565\n",
      "\n",
      "Train loss: 0.04378543049097061\n",
      "\n",
      "Val loss: 0.05306527018547058\n",
      "\n",
      "Train indices: [   0    1    2 ... 1278 1279 1280]\n",
      "\n",
      "Test indices: [1281 1282 1283 1284 1285 1286 1287 1288 1289 1290 1291 1292 1293 1294\n",
      " 1295 1296 1297 1298 1299 1300 1301 1302 1303 1304 1305 1306 1307 1308\n",
      " 1309 1310 1311 1312 1313 1314 1315 1316 1317 1318 1319 1320 1321 1322\n",
      " 1323 1324 1325 1326 1327 1328 1329 1330 1331 1332 1333 1334 1335 1336\n",
      " 1337 1338 1339 1340 1341 1342 1343 1344 1345 1346 1347 1348 1349 1350\n",
      " 1351 1352 1353 1354 1355 1356 1357 1358 1359 1360 1361 1362 1363 1364\n",
      " 1365 1366 1367 1368 1369 1370 1371 1372 1373 1374 1375 1376 1377 1378\n",
      " 1379 1380 1381 1382 1383 1384 1385 1386 1387 1388 1389 1390 1391 1392\n",
      " 1393 1394 1395 1396 1397 1398 1399 1400 1401 1402 1403 1404 1405 1406\n",
      " 1407 1408 1409 1410 1411 1412 1413 1414 1415 1416 1417 1418 1419 1420\n",
      " 1421 1422 1423 1424 1425 1426 1427 1428 1429 1430 1431 1432 1433 1434\n",
      " 1435 1436 1437 1438 1439 1440 1441 1442 1443 1444 1445 1446 1447 1448\n",
      " 1449 1450 1451 1452 1453 1454 1455 1456 1457 1458 1459 1460 1461 1462\n",
      " 1463 1464 1465 1466 1467 1468 1469 1470 1471 1472 1473 1474 1475 1476\n",
      " 1477 1478 1479 1480 1481 1482 1483 1484 1485 1486 1487 1488 1489 1490\n",
      " 1491 1492 1493 1494 1495 1496 1497 1498 1499 1500 1501 1502 1503 1504\n",
      " 1505 1506 1507 1508 1509 1510 1511 1512 1513 1514 1515 1516 1517 1518\n",
      " 1519 1520 1521 1522 1523 1524 1525 1526 1527 1528 1529 1530 1531 1532\n",
      " 1533 1534 1535 1536 1537 1538 1539 1540 1541 1542 1543 1544 1545 1546\n",
      " 1547 1548 1549 1550 1551 1552 1553 1554 1555 1556 1557 1558 1559 1560\n",
      " 1561 1562 1563 1564 1565 1566 1567 1568 1569 1570 1571 1572 1573 1574\n",
      " 1575 1576 1577 1578 1579 1580 1581 1582 1583 1584 1585 1586 1587 1588\n",
      " 1589 1590 1591 1592 1593 1594 1595 1596 1597 1598 1599 1600 1601 1602\n",
      " 1603 1604 1605 1606 1607 1608 1609 1610 1611 1612 1613 1614 1615 1616\n",
      " 1617 1618 1619 1620 1621 1622 1623 1624 1625 1626 1627 1628 1629 1630\n",
      " 1631 1632 1633 1634 1635 1636 1637 1638 1639 1640 1641 1642 1643 1644\n",
      " 1645 1646 1647 1648 1649 1650 1651 1652 1653 1654 1655 1656 1657 1658\n",
      " 1659 1660 1661 1662 1663 1664 1665 1666 1667 1668 1669 1670 1671 1672\n",
      " 1673 1674 1675 1676 1677 1678 1679 1680 1681 1682 1683 1684 1685 1686\n",
      " 1687 1688 1689 1690 1691 1692 1693 1694 1695 1696 1697 1698 1699 1700\n",
      " 1701 1702 1703 1704 1705 1706]\n",
      "WARNING:tensorflow:Layer lstm will not use cuDNN kernels since it doesn't meet the criteria. It will use a generic GPU kernel as fallback when running on GPU.\n",
      "WARNING:tensorflow:Layer lstm will not use cuDNN kernels since it doesn't meet the criteria. It will use a generic GPU kernel as fallback when running on GPU.\n",
      "WARNING:tensorflow:Layer lstm will not use cuDNN kernels since it doesn't meet the criteria. It will use a generic GPU kernel as fallback when running on GPU.\n",
      "Epoch 1/10\n",
      "41/41 [==============================] - 11s 232ms/step - loss: 0.0655 - val_loss: 0.0615\n",
      "Epoch 2/10\n",
      "41/41 [==============================] - 11s 267ms/step - loss: 0.0519 - val_loss: 0.0617\n",
      "Epoch 3/10\n",
      "41/41 [==============================] - 13s 323ms/step - loss: 0.0554 - val_loss: 0.0523\n",
      "Epoch 4/10\n",
      "41/41 [==============================] - 11s 274ms/step - loss: 0.0524 - val_loss: 0.0499\n",
      "Epoch 5/10\n",
      "41/41 [==============================] - 11s 274ms/step - loss: 0.0498 - val_loss: 0.0481\n",
      "Epoch 6/10\n",
      "41/41 [==============================] - 10s 246ms/step - loss: 0.0485 - val_loss: 0.0611\n",
      "Epoch 7/10\n",
      "41/41 [==============================] - 10s 251ms/step - loss: 0.0510 - val_loss: 0.0578\n",
      "Epoch 8/10\n",
      "41/41 [==============================] - 10s 235ms/step - loss: 0.0502 - val_loss: 0.0598\n",
      "Epoch 9/10\n",
      "41/41 [==============================] - 10s 239ms/step - loss: 0.0499 - val_loss: 0.0467\n",
      "Epoch 10/10\n",
      "41/41 [==============================] - 9s 232ms/step - loss: 0.0475 - val_loss: 0.0461\n",
      "\n",
      "Train loss: 0.04753585532307625\n",
      "\n",
      "Val loss: 0.04611498862504959\n",
      "\n",
      "Train indices: [   0    1    2 ... 1704 1705 1706]\n",
      "\n",
      "Test indices: [1707 1708 1709 1710 1711 1712 1713 1714 1715 1716 1717 1718 1719 1720\n",
      " 1721 1722 1723 1724 1725 1726 1727 1728 1729 1730 1731 1732 1733 1734\n",
      " 1735 1736 1737 1738 1739 1740 1741 1742 1743 1744 1745 1746 1747 1748\n",
      " 1749 1750 1751 1752 1753 1754 1755 1756 1757 1758 1759 1760 1761 1762\n",
      " 1763 1764 1765 1766 1767 1768 1769 1770 1771 1772 1773 1774 1775 1776\n",
      " 1777 1778 1779 1780 1781 1782 1783 1784 1785 1786 1787 1788 1789 1790\n",
      " 1791 1792 1793 1794 1795 1796 1797 1798 1799 1800 1801 1802 1803 1804\n",
      " 1805 1806 1807 1808 1809 1810 1811 1812 1813 1814 1815 1816 1817 1818\n",
      " 1819 1820 1821 1822 1823 1824 1825 1826 1827 1828 1829 1830 1831 1832\n",
      " 1833 1834 1835 1836 1837 1838 1839 1840 1841 1842 1843 1844 1845 1846\n",
      " 1847 1848 1849 1850 1851 1852 1853 1854 1855 1856 1857 1858 1859 1860\n",
      " 1861 1862 1863 1864 1865 1866 1867 1868 1869 1870 1871 1872 1873 1874\n",
      " 1875 1876 1877 1878 1879 1880 1881 1882 1883 1884 1885 1886 1887 1888\n",
      " 1889 1890 1891 1892 1893 1894 1895 1896 1897 1898 1899 1900 1901 1902\n",
      " 1903 1904 1905 1906 1907 1908 1909 1910 1911 1912 1913 1914 1915 1916\n",
      " 1917 1918 1919 1920 1921 1922 1923 1924 1925 1926 1927 1928 1929 1930\n",
      " 1931 1932 1933 1934 1935 1936 1937 1938 1939 1940 1941 1942 1943 1944\n",
      " 1945 1946 1947 1948 1949 1950 1951 1952 1953 1954 1955 1956 1957 1958\n",
      " 1959 1960 1961 1962 1963 1964 1965 1966 1967 1968 1969 1970 1971 1972\n",
      " 1973 1974 1975 1976 1977 1978 1979 1980 1981 1982 1983 1984 1985 1986\n",
      " 1987 1988 1989 1990 1991 1992 1993 1994 1995 1996 1997 1998 1999 2000\n",
      " 2001 2002 2003 2004 2005 2006 2007 2008 2009 2010 2011 2012 2013 2014\n",
      " 2015 2016 2017 2018 2019 2020 2021 2022 2023 2024 2025 2026 2027 2028\n",
      " 2029 2030 2031 2032 2033 2034 2035 2036 2037 2038 2039 2040 2041 2042\n",
      " 2043 2044 2045 2046 2047 2048 2049 2050 2051 2052 2053 2054 2055 2056\n",
      " 2057 2058 2059 2060 2061 2062 2063 2064 2065 2066 2067 2068 2069 2070\n",
      " 2071 2072 2073 2074 2075 2076 2077 2078 2079 2080 2081 2082 2083 2084\n",
      " 2085 2086 2087 2088 2089 2090 2091 2092 2093 2094 2095 2096 2097 2098\n",
      " 2099 2100 2101 2102 2103 2104 2105 2106 2107 2108 2109 2110 2111 2112\n",
      " 2113 2114 2115 2116 2117 2118 2119 2120 2121 2122 2123 2124 2125 2126\n",
      " 2127 2128 2129 2130 2131 2132]\n",
      "WARNING:tensorflow:Layer lstm will not use cuDNN kernels since it doesn't meet the criteria. It will use a generic GPU kernel as fallback when running on GPU.\n",
      "WARNING:tensorflow:Layer lstm will not use cuDNN kernels since it doesn't meet the criteria. It will use a generic GPU kernel as fallback when running on GPU.\n",
      "WARNING:tensorflow:Layer lstm will not use cuDNN kernels since it doesn't meet the criteria. It will use a generic GPU kernel as fallback when running on GPU.\n",
      "Epoch 1/10\n",
      "54/54 [==============================] - 15s 249ms/step - loss: 0.0722 - val_loss: 0.0505\n",
      "Epoch 2/10\n",
      "54/54 [==============================] - 12s 231ms/step - loss: 0.0510 - val_loss: 0.0473\n",
      "Epoch 3/10\n",
      "54/54 [==============================] - 14s 270ms/step - loss: 0.0478 - val_loss: 0.0468\n",
      "Epoch 4/10\n",
      "54/54 [==============================] - 15s 285ms/step - loss: 0.0479 - val_loss: 0.0454\n",
      "Epoch 5/10\n",
      "54/54 [==============================] - 16s 293ms/step - loss: 0.0490 - val_loss: 0.0447\n",
      "Epoch 6/10\n",
      "54/54 [==============================] - 16s 292ms/step - loss: 0.0499 - val_loss: 0.0439\n",
      "Epoch 7/10\n",
      "54/54 [==============================] - 16s 289ms/step - loss: 0.0468 - val_loss: 0.0457\n",
      "Epoch 8/10\n",
      "54/54 [==============================] - 16s 297ms/step - loss: 0.0457 - val_loss: 0.0441\n",
      "Epoch 9/10\n",
      "54/54 [==============================] - 15s 283ms/step - loss: 0.0464 - val_loss: 0.0434\n",
      "Epoch 10/10\n",
      "54/54 [==============================] - 15s 283ms/step - loss: 0.0466 - val_loss: 0.0508\n",
      "\n",
      "Train loss: 0.04641886055469513\n",
      "\n",
      "Val loss: 0.04338580742478371\n",
      "\n",
      "Train indices: [   0    1    2 ... 2130 2131 2132]\n",
      "\n",
      "Test indices: [2133 2134 2135 2136 2137 2138 2139 2140 2141 2142 2143 2144 2145 2146\n",
      " 2147 2148 2149 2150 2151 2152 2153 2154 2155 2156 2157 2158 2159 2160\n",
      " 2161 2162 2163 2164 2165 2166 2167 2168 2169 2170 2171 2172 2173 2174\n",
      " 2175 2176 2177 2178 2179 2180 2181 2182 2183 2184 2185 2186 2187 2188\n",
      " 2189 2190 2191 2192 2193 2194 2195 2196 2197 2198 2199 2200 2201 2202\n",
      " 2203 2204 2205 2206 2207 2208 2209 2210 2211 2212 2213 2214 2215 2216\n",
      " 2217 2218 2219 2220 2221 2222 2223 2224 2225 2226 2227 2228 2229 2230\n",
      " 2231 2232 2233 2234 2235 2236 2237 2238 2239 2240 2241 2242 2243 2244\n",
      " 2245 2246 2247 2248 2249 2250 2251 2252 2253 2254 2255 2256 2257 2258\n",
      " 2259 2260 2261 2262 2263 2264 2265 2266 2267 2268 2269 2270 2271 2272\n",
      " 2273 2274 2275 2276 2277 2278 2279 2280 2281 2282 2283 2284 2285 2286\n",
      " 2287 2288 2289 2290 2291 2292 2293 2294 2295 2296 2297 2298 2299 2300\n",
      " 2301 2302 2303 2304 2305 2306 2307 2308 2309 2310 2311 2312 2313 2314\n",
      " 2315 2316 2317 2318 2319 2320 2321 2322 2323 2324 2325 2326 2327 2328\n",
      " 2329 2330 2331 2332 2333 2334 2335 2336 2337 2338 2339 2340 2341 2342\n",
      " 2343 2344 2345 2346 2347 2348 2349 2350 2351 2352 2353 2354 2355 2356\n",
      " 2357 2358 2359 2360 2361 2362 2363 2364 2365 2366 2367 2368 2369 2370\n",
      " 2371 2372 2373 2374 2375 2376 2377 2378 2379 2380 2381 2382 2383 2384\n",
      " 2385 2386 2387 2388 2389 2390 2391 2392 2393 2394 2395 2396 2397 2398\n",
      " 2399 2400 2401 2402 2403 2404 2405 2406 2407 2408 2409 2410 2411 2412\n",
      " 2413 2414 2415 2416 2417 2418 2419 2420 2421 2422 2423 2424 2425 2426\n",
      " 2427 2428 2429 2430 2431 2432 2433 2434 2435 2436 2437 2438 2439 2440\n",
      " 2441 2442 2443 2444 2445 2446 2447 2448 2449 2450 2451 2452 2453 2454\n",
      " 2455 2456 2457 2458 2459 2460 2461 2462 2463 2464 2465 2466 2467 2468\n",
      " 2469 2470 2471 2472 2473 2474 2475 2476 2477 2478 2479 2480 2481 2482\n",
      " 2483 2484 2485 2486 2487 2488 2489 2490 2491 2492 2493 2494 2495 2496\n",
      " 2497 2498 2499 2500 2501 2502 2503 2504 2505 2506 2507 2508 2509 2510\n",
      " 2511 2512 2513 2514 2515 2516 2517 2518 2519 2520 2521 2522 2523 2524\n",
      " 2525 2526 2527 2528 2529 2530 2531 2532 2533 2534 2535 2536 2537 2538\n",
      " 2539 2540 2541 2542 2543 2544 2545 2546 2547 2548 2549 2550 2551 2552\n",
      " 2553 2554 2555 2556 2557 2558]\n",
      "WARNING:tensorflow:Layer lstm will not use cuDNN kernels since it doesn't meet the criteria. It will use a generic GPU kernel as fallback when running on GPU.\n",
      "WARNING:tensorflow:Layer lstm will not use cuDNN kernels since it doesn't meet the criteria. It will use a generic GPU kernel as fallback when running on GPU.\n",
      "WARNING:tensorflow:Layer lstm will not use cuDNN kernels since it doesn't meet the criteria. It will use a generic GPU kernel as fallback when running on GPU.\n",
      "Epoch 1/10\n",
      "67/67 [==============================] - 22s 296ms/step - loss: 0.0571 - val_loss: 0.0562\n",
      "Epoch 2/10\n",
      "67/67 [==============================] - 19s 287ms/step - loss: 0.0498 - val_loss: 0.0556\n",
      "Epoch 3/10\n",
      "67/67 [==============================] - 18s 268ms/step - loss: 0.0461 - val_loss: 0.0517\n",
      "Epoch 4/10\n",
      "67/67 [==============================] - 16s 244ms/step - loss: 0.0455 - val_loss: 0.0490\n",
      "Epoch 5/10\n",
      "67/67 [==============================] - 17s 247ms/step - loss: 0.0458 - val_loss: 0.0535\n",
      "Epoch 6/10\n",
      "67/67 [==============================] - 15s 229ms/step - loss: 0.0462 - val_loss: 0.0510\n",
      "Epoch 7/10\n",
      "67/67 [==============================] - 16s 245ms/step - loss: 0.0458 - val_loss: 0.0610\n",
      "Epoch 8/10\n",
      "67/67 [==============================] - 16s 243ms/step - loss: 0.0452 - val_loss: 0.0493\n",
      "Epoch 9/10\n",
      "67/67 [==============================] - 17s 252ms/step - loss: 0.0455 - val_loss: 0.0520\n",
      "Epoch 10/10\n",
      "67/67 [==============================] - 17s 259ms/step - loss: 0.0453 - val_loss: 0.0499\n",
      "\n",
      "Train loss: 0.045513447374105453\n",
      "\n",
      "Val loss: 0.04904100298881531\n",
      "\n"
     ]
    }
   ],
   "source": [
    "from sklearn.model_selection import TimeSeriesSplit\n",
    "\n",
    "tscv = TimeSeriesSplit(n_splits=5)\n",
    "\n",
    "train_loss = []\n",
    "val_loss = []\n",
    "\n",
    "for train_index, test_index in tscv.split(X_train_scaled):\n",
    "    print(\"Train indices:\", train_index)\n",
    "    print(\"\\nTest indices:\", test_index)\n",
    "\n",
    "    X_train_split, X_test_split = X_train_scaled[train_index], X_train_scaled[test_index]\n",
    "    y_train_split, y_test_split = y_train_scaled[train_index], y_train_scaled[test_index]\n",
    "\n",
    "    model = create_cv_nn()\n",
    "    \n",
    "    model_history = model.fit(X_train_split, y_train_split, validation_data=(X_test_split, y_test_split), epochs=10)\n",
    "    min_index = tf.argmin(model_history.history[\"val_loss\"])\n",
    "    tl = model_history.history[\"loss\"][min_index]\n",
    "    vl = model_history.history[\"val_loss\"][min_index]\n",
    "    train_loss.append(tl)\n",
    "    val_loss.append(vl)\n",
    "    print(f\"\\nTrain loss: {tl}\\n\")\n",
    "    print(f\"Val loss: {vl}\\n\")\n",
    "    "
   ]
  },
  {
   "cell_type": "code",
   "execution_count": 75,
   "id": "5eca3623-9654-41f1-b6d2-8de2ec124720",
   "metadata": {},
   "outputs": [
    {
     "name": "stdout",
     "output_type": "stream",
     "text": [
      "Train loss: 0.049051455408334735 +- 0.006591453950224358\n",
      "Val loss: 0.046043789386749266 +- 0.004910961832501545\n"
     ]
    }
   ],
   "source": [
    "print(f\"Train loss: {np.mean(train_loss)} +- {np.std(train_loss)}\")\n",
    "print(f\"Val loss: {np.mean(val_loss)} +- {np.std(val_loss)}\")"
   ]
  },
  {
   "cell_type": "code",
   "execution_count": 73,
   "id": "8c2f52d3-9467-42e8-884b-c32690830aa0",
   "metadata": {},
   "outputs": [
    {
     "data": {
      "text/plain": [
       "[0.06200368329882622,\n",
       " 0.04378543049097061,\n",
       " 0.04753585532307625,\n",
       " 0.04641886055469513,\n",
       " 0.045513447374105453]"
      ]
     },
     "execution_count": 73,
     "metadata": {},
     "output_type": "execute_result"
    }
   ],
   "source": [
    "train_loss"
   ]
  },
  {
   "cell_type": "code",
   "execution_count": 74,
   "id": "f3a38190-6cd5-4aec-9c83-600b8529f1f7",
   "metadata": {},
   "outputs": [
    {
     "data": {
      "text/plain": [
       "[0.03861187770962715,\n",
       " 0.05306527018547058,\n",
       " 0.04611498862504959,\n",
       " 0.04338580742478371,\n",
       " 0.04904100298881531]"
      ]
     },
     "execution_count": 74,
     "metadata": {},
     "output_type": "execute_result"
    }
   ],
   "source": [
    "val_loss"
   ]
  },
  {
   "cell_type": "code",
   "execution_count": null,
   "id": "8353f59a-1c2e-4f89-a12b-cc7889f612ee",
   "metadata": {},
   "outputs": [],
   "source": []
  }
 ],
 "metadata": {
  "kernelspec": {
   "display_name": "mldl",
   "language": "python",
   "name": "mldl"
  },
  "language_info": {
   "codemirror_mode": {
    "name": "ipython",
    "version": 3
   },
   "file_extension": ".py",
   "mimetype": "text/x-python",
   "name": "python",
   "nbconvert_exporter": "python",
   "pygments_lexer": "ipython3",
   "version": "3.9.2"
  }
 },
 "nbformat": 4,
 "nbformat_minor": 5
}
