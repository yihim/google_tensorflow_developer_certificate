{
 "cells": [
  {
   "cell_type": "code",
   "execution_count": 1,
   "id": "6a4b16b2-c27d-49cb-8964-0c4a4862d1aa",
   "metadata": {},
   "outputs": [],
   "source": [
    "import tensorflow as tf\n",
    "import tensorflow_datasets as tfds\n",
    "import numpy as np\n",
    "import matplotlib.pyplot as plt\n",
    "import pandas as pd\n",
    "from tensorflow.keras import layers\n",
    "from skopt.utils import use_named_args\n",
    "from skopt.space import Real, Categorical, Integer\n",
    "from skopt import gp_minimize\n",
    "from skopt.plots import plot_convergence, plot_objective, plot_evaluations"
   ]
  },
  {
   "cell_type": "code",
   "execution_count": 2,
   "id": "c3dae54e-cbb7-4a6b-85c9-e64a9588691f",
   "metadata": {},
   "outputs": [
    {
     "name": "stdout",
     "output_type": "stream",
     "text": [
      "2.8.0\n"
     ]
    }
   ],
   "source": [
    "print(tf.__version__)"
   ]
  },
  {
   "cell_type": "code",
   "execution_count": 3,
   "id": "9d4fbcc1-e2f5-4bbc-86f4-9dd69f5fdab2",
   "metadata": {},
   "outputs": [],
   "source": [
    "gpus = tf.config.list_physical_devices('GPU')\n",
    "if gpus:\n",
    "    for gpu in gpus:\n",
    "        tf.config.experimental.set_memory_growth(gpu, True)"
   ]
  },
  {
   "cell_type": "code",
   "execution_count": 4,
   "id": "a9b05e9a-e1d2-41fd-9da4-9e79fb08c1d1",
   "metadata": {},
   "outputs": [],
   "source": [
    "tf.keras.backend.clear_session()"
   ]
  },
  {
   "cell_type": "code",
   "execution_count": 5,
   "id": "c43bbd63-1df4-4c67-9937-a432cbafc04c",
   "metadata": {},
   "outputs": [],
   "source": [
    "# Load the dataset from tensorflow datasets\n",
    "(training_data, testing_data), metadata = tfds.load(name=\"mnist\",\n",
    "                                                    shuffle_files=False, \n",
    "                                                    as_supervised=True, \n",
    "                                                    with_info=True,\n",
    "                                                    split=[\"train\", \"test\"])"
   ]
  },
  {
   "cell_type": "code",
   "execution_count": 6,
   "id": "7e7eac37-6b9c-485a-94c7-2b9648e4eb03",
   "metadata": {},
   "outputs": [
    {
     "data": {
      "text/plain": [
       "60000"
      ]
     },
     "execution_count": 6,
     "metadata": {},
     "output_type": "execute_result"
    }
   ],
   "source": [
    "num_examples = metadata.splits[\"train\"].num_examples\n",
    "num_examples"
   ]
  },
  {
   "cell_type": "code",
   "execution_count": 7,
   "id": "1e1faf8d-94ad-4447-a8d6-ce6cf53516a7",
   "metadata": {},
   "outputs": [],
   "source": [
    "split_size = int(0.8 * num_examples)\n",
    "train_data = training_data.take(split_size)\n",
    "val_data = training_data.skip(split_size)"
   ]
  },
  {
   "cell_type": "code",
   "execution_count": 8,
   "id": "c1924b21-fa11-49c0-b508-65a65965eb37",
   "metadata": {},
   "outputs": [
    {
     "data": {
      "text/plain": [
       "(48000, 12000, 10000)"
      ]
     },
     "execution_count": 8,
     "metadata": {},
     "output_type": "execute_result"
    }
   ],
   "source": [
    "len(train_data), len(val_data), len(testing_data)"
   ]
  },
  {
   "cell_type": "code",
   "execution_count": 9,
   "id": "b3ab47c6-fa4f-447c-9fa1-42eb3db1f9aa",
   "metadata": {},
   "outputs": [],
   "source": [
    "train_images = []\n",
    "train_labels = []\n",
    "val_images = []\n",
    "val_labels = []\n",
    "test_images = []\n",
    "test_labels = []"
   ]
  },
  {
   "cell_type": "code",
   "execution_count": 10,
   "id": "900ff039-11c6-4f48-980e-c6fb0db4d220",
   "metadata": {},
   "outputs": [],
   "source": [
    "for data in train_data:\n",
    "    image, label = data\n",
    "    train_images.append(image)\n",
    "    train_labels.append(label)\n",
    "\n",
    "for data in val_data:\n",
    "    image, label = data\n",
    "    val_images.append(image)\n",
    "    val_labels.append(label)\n",
    "\n",
    "for data in testing_data:\n",
    "    image, label = data\n",
    "    test_images.append(image)\n",
    "    test_labels.append(label)"
   ]
  },
  {
   "cell_type": "code",
   "execution_count": 11,
   "id": "01c36dcd-4114-49c0-8466-09787e1eac17",
   "metadata": {},
   "outputs": [
    {
     "data": {
      "text/plain": [
       "(48000, 48000, 12000, 12000, 10000, 10000)"
      ]
     },
     "execution_count": 11,
     "metadata": {},
     "output_type": "execute_result"
    }
   ],
   "source": [
    "len(train_images), len(train_labels), len(val_images), len(val_labels), len(test_images), len(test_labels)"
   ]
  },
  {
   "cell_type": "code",
   "execution_count": 12,
   "id": "f1c2f821-02b8-485d-b87d-aa0142087108",
   "metadata": {},
   "outputs": [
    {
     "data": {
      "text/plain": [
       "<tf.Tensor: shape=(48000, 28, 28, 1), dtype=uint8, numpy=\n",
       "array([[[[0],\n",
       "         [0],\n",
       "         [0],\n",
       "         ...,\n",
       "         [0],\n",
       "         [0],\n",
       "         [0]],\n",
       "\n",
       "        [[0],\n",
       "         [0],\n",
       "         [0],\n",
       "         ...,\n",
       "         [0],\n",
       "         [0],\n",
       "         [0]],\n",
       "\n",
       "        [[0],\n",
       "         [0],\n",
       "         [0],\n",
       "         ...,\n",
       "         [0],\n",
       "         [0],\n",
       "         [0]],\n",
       "\n",
       "        ...,\n",
       "\n",
       "        [[0],\n",
       "         [0],\n",
       "         [0],\n",
       "         ...,\n",
       "         [0],\n",
       "         [0],\n",
       "         [0]],\n",
       "\n",
       "        [[0],\n",
       "         [0],\n",
       "         [0],\n",
       "         ...,\n",
       "         [0],\n",
       "         [0],\n",
       "         [0]],\n",
       "\n",
       "        [[0],\n",
       "         [0],\n",
       "         [0],\n",
       "         ...,\n",
       "         [0],\n",
       "         [0],\n",
       "         [0]]],\n",
       "\n",
       "\n",
       "       [[[0],\n",
       "         [0],\n",
       "         [0],\n",
       "         ...,\n",
       "         [0],\n",
       "         [0],\n",
       "         [0]],\n",
       "\n",
       "        [[0],\n",
       "         [0],\n",
       "         [0],\n",
       "         ...,\n",
       "         [0],\n",
       "         [0],\n",
       "         [0]],\n",
       "\n",
       "        [[0],\n",
       "         [0],\n",
       "         [0],\n",
       "         ...,\n",
       "         [0],\n",
       "         [0],\n",
       "         [0]],\n",
       "\n",
       "        ...,\n",
       "\n",
       "        [[0],\n",
       "         [0],\n",
       "         [0],\n",
       "         ...,\n",
       "         [0],\n",
       "         [0],\n",
       "         [0]],\n",
       "\n",
       "        [[0],\n",
       "         [0],\n",
       "         [0],\n",
       "         ...,\n",
       "         [0],\n",
       "         [0],\n",
       "         [0]],\n",
       "\n",
       "        [[0],\n",
       "         [0],\n",
       "         [0],\n",
       "         ...,\n",
       "         [0],\n",
       "         [0],\n",
       "         [0]]],\n",
       "\n",
       "\n",
       "       [[[0],\n",
       "         [0],\n",
       "         [0],\n",
       "         ...,\n",
       "         [0],\n",
       "         [0],\n",
       "         [0]],\n",
       "\n",
       "        [[0],\n",
       "         [0],\n",
       "         [0],\n",
       "         ...,\n",
       "         [0],\n",
       "         [0],\n",
       "         [0]],\n",
       "\n",
       "        [[0],\n",
       "         [0],\n",
       "         [0],\n",
       "         ...,\n",
       "         [0],\n",
       "         [0],\n",
       "         [0]],\n",
       "\n",
       "        ...,\n",
       "\n",
       "        [[0],\n",
       "         [0],\n",
       "         [0],\n",
       "         ...,\n",
       "         [0],\n",
       "         [0],\n",
       "         [0]],\n",
       "\n",
       "        [[0],\n",
       "         [0],\n",
       "         [0],\n",
       "         ...,\n",
       "         [0],\n",
       "         [0],\n",
       "         [0]],\n",
       "\n",
       "        [[0],\n",
       "         [0],\n",
       "         [0],\n",
       "         ...,\n",
       "         [0],\n",
       "         [0],\n",
       "         [0]]],\n",
       "\n",
       "\n",
       "       ...,\n",
       "\n",
       "\n",
       "       [[[0],\n",
       "         [0],\n",
       "         [0],\n",
       "         ...,\n",
       "         [0],\n",
       "         [0],\n",
       "         [0]],\n",
       "\n",
       "        [[0],\n",
       "         [0],\n",
       "         [0],\n",
       "         ...,\n",
       "         [0],\n",
       "         [0],\n",
       "         [0]],\n",
       "\n",
       "        [[0],\n",
       "         [0],\n",
       "         [0],\n",
       "         ...,\n",
       "         [0],\n",
       "         [0],\n",
       "         [0]],\n",
       "\n",
       "        ...,\n",
       "\n",
       "        [[0],\n",
       "         [0],\n",
       "         [0],\n",
       "         ...,\n",
       "         [0],\n",
       "         [0],\n",
       "         [0]],\n",
       "\n",
       "        [[0],\n",
       "         [0],\n",
       "         [0],\n",
       "         ...,\n",
       "         [0],\n",
       "         [0],\n",
       "         [0]],\n",
       "\n",
       "        [[0],\n",
       "         [0],\n",
       "         [0],\n",
       "         ...,\n",
       "         [0],\n",
       "         [0],\n",
       "         [0]]],\n",
       "\n",
       "\n",
       "       [[[0],\n",
       "         [0],\n",
       "         [0],\n",
       "         ...,\n",
       "         [0],\n",
       "         [0],\n",
       "         [0]],\n",
       "\n",
       "        [[0],\n",
       "         [0],\n",
       "         [0],\n",
       "         ...,\n",
       "         [0],\n",
       "         [0],\n",
       "         [0]],\n",
       "\n",
       "        [[0],\n",
       "         [0],\n",
       "         [0],\n",
       "         ...,\n",
       "         [0],\n",
       "         [0],\n",
       "         [0]],\n",
       "\n",
       "        ...,\n",
       "\n",
       "        [[0],\n",
       "         [0],\n",
       "         [0],\n",
       "         ...,\n",
       "         [0],\n",
       "         [0],\n",
       "         [0]],\n",
       "\n",
       "        [[0],\n",
       "         [0],\n",
       "         [0],\n",
       "         ...,\n",
       "         [0],\n",
       "         [0],\n",
       "         [0]],\n",
       "\n",
       "        [[0],\n",
       "         [0],\n",
       "         [0],\n",
       "         ...,\n",
       "         [0],\n",
       "         [0],\n",
       "         [0]]],\n",
       "\n",
       "\n",
       "       [[[0],\n",
       "         [0],\n",
       "         [0],\n",
       "         ...,\n",
       "         [0],\n",
       "         [0],\n",
       "         [0]],\n",
       "\n",
       "        [[0],\n",
       "         [0],\n",
       "         [0],\n",
       "         ...,\n",
       "         [0],\n",
       "         [0],\n",
       "         [0]],\n",
       "\n",
       "        [[0],\n",
       "         [0],\n",
       "         [0],\n",
       "         ...,\n",
       "         [0],\n",
       "         [0],\n",
       "         [0]],\n",
       "\n",
       "        ...,\n",
       "\n",
       "        [[0],\n",
       "         [0],\n",
       "         [0],\n",
       "         ...,\n",
       "         [0],\n",
       "         [0],\n",
       "         [0]],\n",
       "\n",
       "        [[0],\n",
       "         [0],\n",
       "         [0],\n",
       "         ...,\n",
       "         [0],\n",
       "         [0],\n",
       "         [0]],\n",
       "\n",
       "        [[0],\n",
       "         [0],\n",
       "         [0],\n",
       "         ...,\n",
       "         [0],\n",
       "         [0],\n",
       "         [0]]]], dtype=uint8)>"
      ]
     },
     "execution_count": 12,
     "metadata": {},
     "output_type": "execute_result"
    }
   ],
   "source": [
    "train_images = tf.constant(np.array(train_images))\n",
    "train_images"
   ]
  },
  {
   "cell_type": "code",
   "execution_count": 13,
   "id": "833544e7-f2cf-4a11-b65e-fc325d296d61",
   "metadata": {},
   "outputs": [],
   "source": [
    "train_labels = tf.constant(np.array(train_labels))\n",
    "val_images = tf.constant(np.array(val_images))\n",
    "val_labels = tf.constant(np.array(val_labels))\n",
    "test_images = tf.constant(np.array(test_images))\n",
    "test_labels = tf.constant(np.array(test_labels))"
   ]
  },
  {
   "cell_type": "code",
   "execution_count": 14,
   "id": "330d392d-da87-4b60-8b2d-04cda8bc0c40",
   "metadata": {},
   "outputs": [
    {
     "data": {
      "text/plain": [
       "['0', '1', '2', '3', '4', '5', '6', '7', '8', '9']"
      ]
     },
     "execution_count": 14,
     "metadata": {},
     "output_type": "execute_result"
    }
   ],
   "source": [
    "class_names = metadata.features['label'].names\n",
    "class_names"
   ]
  },
  {
   "cell_type": "code",
   "execution_count": 15,
   "id": "64ebe77c-0deb-4e58-ac4f-732967c95efa",
   "metadata": {},
   "outputs": [],
   "source": [
    "import random\n",
    "def view_random_dataset_images(images, labels):\n",
    "    random_num = random.randint(0, len(images)-1)\n",
    "    random_img = images[random_num]\n",
    "    random_label = labels[random_num]\n",
    "    random_class = class_names[random_label]\n",
    "    plt.figure(figsize=(10, 7))\n",
    "    plt.imshow(random_img)\n",
    "    plt.title(f\"Class name: {random_class}\")\n",
    "    plt.axis(False)"
   ]
  },
  {
   "cell_type": "code",
   "execution_count": 16,
   "id": "21e20a8b-d6bb-4429-8966-a17b8ee27db8",
   "metadata": {},
   "outputs": [
    {
     "data": {
      "image/png": "[encoded data removed]",
      "text/plain": [
       "<Figure size 1000x700 with 1 Axes>"
      ]
     },
     "metadata": {},
     "output_type": "display_data"
    }
   ],
   "source": [
    "view_random_dataset_images(train_images, train_labels)"
   ]
  },
  {
   "cell_type": "code",
   "execution_count": 17,
   "id": "5c4ab7ab-7f6f-4f1e-98d8-6913b2d472f2",
   "metadata": {},
   "outputs": [
    {
     "data": {
      "text/plain": [
       "TensorShape([28, 28, 1])"
      ]
     },
     "execution_count": 17,
     "metadata": {},
     "output_type": "execute_result"
    }
   ],
   "source": [
    "train_images[0].shape"
   ]
  },
  {
   "cell_type": "code",
   "execution_count": 18,
   "id": "ac5e9ac2-c3bf-4107-bc97-cceeb4468a78",
   "metadata": {},
   "outputs": [],
   "source": [
    "def preprocess_image(images):\n",
    "    return tf.cast(images, dtype=tf.float32) / 255."
   ]
  },
  {
   "cell_type": "code",
   "execution_count": 19,
   "id": "7369cfcc-a7a3-4dc4-b7bf-8bab0fb047f2",
   "metadata": {},
   "outputs": [],
   "source": [
    "train_images = preprocess_image(train_images)\n",
    "val_images = preprocess_image(val_images)\n",
    "test_images = preprocess_image(test_images)"
   ]
  },
  {
   "cell_type": "code",
   "execution_count": null,
   "id": "d42ab1e0-bada-457b-8596-cee6c15e471a",
   "metadata": {},
   "outputs": [],
   "source": [
    "# Callbacks\n",
    "import datetime\n",
    "import os\n",
    "\n",
    "CHECKPOINT_PATH = \"model_experiments_mnist_clf\"\n",
    "LOG_PATH = \"model_logs_mnist_clf\"\n",
    "\n",
    "early_stopping = tf.keras.callbacks.EarlyStopping(monitor=\"val_loss\", patience=5, restore_best_weights=True, verbose=1)\n",
    "\n",
    "reduce_lr = tf.keras.callbacks.ReduceLROnPlateau(monitor=\"val_loss\", patience=3, min_lr=1e-6, factor=0.1, verbose=1)\n",
    "\n",
    "def tensorboard(model_name):\n",
    "    log_dir = os.path.join(LOG_PATH, model_name, datetime.datetime.now().strftime(\"%Y%m%d-%H%M%S\"))\n",
    "    return tf.keras.callbacks.TensorBoard(log_dir)\n",
    "\n",
    "def checkpoint(model_name):\n",
    "    return tf.keras.callbacks.ModelCheckpoint(filepath= os.path.join(CHECKPOINT_PATH, model_name) , monitor=\"val_loss\", save_best_only=True, verbose=1)\n",
    "\n",
    "lr_scheduler = tf.keras.callbacks.LearningRateScheduler(lambda epoch: 1e-5 * 10 ** (epoch/20), verbose=1)"
   ]
  },
  {
   "cell_type": "code",
   "execution_count": 21,
   "id": "4b8b2de0-f38b-4dc1-a434-11a0d451ce96",
   "metadata": {},
   "outputs": [],
   "source": [
    "model_1 = tf.keras.Sequential([\n",
    "    layers.Input(shape=(28, 28, 1)),\n",
    "    layers.Flatten(),\n",
    "    layers.Dense(120, activation=\"relu\"),\n",
    "    layers.Dense(120, activation=\"relu\"),\n",
    "    layers.Dense(len(class_names), activation=\"softmax\")\n",
    "], name=\"model_1_mnist_clf\")\n",
    "\n",
    "model_1.compile(loss=tf.keras.losses.SparseCategoricalCrossentropy(),\n",
    "                optimizer=tf.keras.optimizers.Adam(),\n",
    "                metrics=[\"accuracy\"])"
   ]
  },
  {
   "cell_type": "code",
   "execution_count": 22,
   "id": "18a00260-44b7-4318-8899-5536c409679e",
   "metadata": {
    "scrolled": true
   },
   "outputs": [
    {
     "name": "stdout",
     "output_type": "stream",
     "text": [
      "Epoch 1/15\n",
      "748/750 [============================>.] - ETA: 0s - loss: 0.2975 - accuracy: 0.9155\n",
      "Epoch 1: val_loss improved from inf to 0.16088, saving model to model_experiments\\model_1_mnist_clf\n",
      "INFO:tensorflow:Assets written to: model_experiments\\model_1_mnist_clf\\assets\n"
     ]
    },
    {
     "name": "stderr",
     "output_type": "stream",
     "text": [
      "INFO:tensorflow:Assets written to: model_experiments\\model_1_mnist_clf\\assets\n"
     ]
    },
    {
     "name": "stdout",
     "output_type": "stream",
     "text": [
      "750/750 [==============================] - 6s 6ms/step - loss: 0.2975 - accuracy: 0.9155 - val_loss: 0.1609 - val_accuracy: 0.9529 - lr: 0.0010\n",
      "Epoch 2/15\n",
      "744/750 [============================>.] - ETA: 0s - loss: 0.1191 - accuracy: 0.9645\n",
      "Epoch 2: val_loss improved from 0.16088 to 0.11808, saving model to model_experiments\\model_1_mnist_clf\n",
      "INFO:tensorflow:Assets written to: model_experiments\\model_1_mnist_clf\\assets\n"
     ]
    },
    {
     "name": "stderr",
     "output_type": "stream",
     "text": [
      "INFO:tensorflow:Assets written to: model_experiments\\model_1_mnist_clf\\assets\n"
     ]
    },
    {
     "name": "stdout",
     "output_type": "stream",
     "text": [
      "750/750 [==============================] - 4s 5ms/step - loss: 0.1188 - accuracy: 0.9645 - val_loss: 0.1181 - val_accuracy: 0.9647 - lr: 0.0010\n",
      "Epoch 3/15\n",
      "747/750 [============================>.] - ETA: 0s - loss: 0.0820 - accuracy: 0.9746\n",
      "Epoch 3: val_loss improved from 0.11808 to 0.10867, saving model to model_experiments\\model_1_mnist_clf\n",
      "INFO:tensorflow:Assets written to: model_experiments\\model_1_mnist_clf\\assets\n"
     ]
    },
    {
     "name": "stderr",
     "output_type": "stream",
     "text": [
      "INFO:tensorflow:Assets written to: model_experiments\\model_1_mnist_clf\\assets\n"
     ]
    },
    {
     "name": "stdout",
     "output_type": "stream",
     "text": [
      "750/750 [==============================] - 5s 6ms/step - loss: 0.0820 - accuracy: 0.9746 - val_loss: 0.1087 - val_accuracy: 0.9664 - lr: 0.0010\n",
      "Epoch 4/15\n",
      "750/750 [==============================] - ETA: 0s - loss: 0.0605 - accuracy: 0.9812\n",
      "Epoch 4: val_loss improved from 0.10867 to 0.09480, saving model to model_experiments\\model_1_mnist_clf\n",
      "INFO:tensorflow:Assets written to: model_experiments\\model_1_mnist_clf\\assets\n"
     ]
    },
    {
     "name": "stderr",
     "output_type": "stream",
     "text": [
      "INFO:tensorflow:Assets written to: model_experiments\\model_1_mnist_clf\\assets\n"
     ]
    },
    {
     "name": "stdout",
     "output_type": "stream",
     "text": [
      "750/750 [==============================] - 4s 6ms/step - loss: 0.0605 - accuracy: 0.9812 - val_loss: 0.0948 - val_accuracy: 0.9713 - lr: 0.0010\n",
      "Epoch 5/15\n",
      "736/750 [============================>.] - ETA: 0s - loss: 0.0459 - accuracy: 0.9858\n",
      "Epoch 5: val_loss improved from 0.09480 to 0.08817, saving model to model_experiments\\model_1_mnist_clf\n",
      "INFO:tensorflow:Assets written to: model_experiments\\model_1_mnist_clf\\assets\n"
     ]
    },
    {
     "name": "stderr",
     "output_type": "stream",
     "text": [
      "INFO:tensorflow:Assets written to: model_experiments\\model_1_mnist_clf\\assets\n"
     ]
    },
    {
     "name": "stdout",
     "output_type": "stream",
     "text": [
      "750/750 [==============================] - 4s 5ms/step - loss: 0.0463 - accuracy: 0.9857 - val_loss: 0.0882 - val_accuracy: 0.9733 - lr: 0.0010\n",
      "Epoch 6/15\n",
      "750/750 [==============================] - ETA: 0s - loss: 0.0376 - accuracy: 0.9885\n",
      "Epoch 6: val_loss did not improve from 0.08817\n",
      "750/750 [==============================] - 3s 4ms/step - loss: 0.0376 - accuracy: 0.9885 - val_loss: 0.0892 - val_accuracy: 0.9750 - lr: 0.0010\n",
      "Epoch 7/15\n",
      "745/750 [============================>.] - ETA: 0s - loss: 0.0307 - accuracy: 0.9904\n",
      "Epoch 7: val_loss did not improve from 0.08817\n",
      "750/750 [==============================] - 4s 5ms/step - loss: 0.0307 - accuracy: 0.9904 - val_loss: 0.1023 - val_accuracy: 0.9722 - lr: 0.0010\n",
      "Epoch 8/15\n",
      "748/750 [============================>.] - ETA: 0s - loss: 0.0241 - accuracy: 0.9926\n",
      "Epoch 8: val_loss did not improve from 0.08817\n",
      "\n",
      "Epoch 8: ReduceLROnPlateau reducing learning rate to 0.00010000000474974513.\n",
      "750/750 [==============================] - 4s 5ms/step - loss: 0.0240 - accuracy: 0.9926 - val_loss: 0.0963 - val_accuracy: 0.9737 - lr: 0.0010\n",
      "Epoch 9/15\n",
      "743/750 [============================>.] - ETA: 0s - loss: 0.0095 - accuracy: 0.9976\n",
      "Epoch 9: val_loss improved from 0.08817 to 0.07645, saving model to model_experiments\\model_1_mnist_clf\n",
      "INFO:tensorflow:Assets written to: model_experiments\\model_1_mnist_clf\\assets\n"
     ]
    },
    {
     "name": "stderr",
     "output_type": "stream",
     "text": [
      "INFO:tensorflow:Assets written to: model_experiments\\model_1_mnist_clf\\assets\n"
     ]
    },
    {
     "name": "stdout",
     "output_type": "stream",
     "text": [
      "750/750 [==============================] - 4s 6ms/step - loss: 0.0095 - accuracy: 0.9976 - val_loss: 0.0765 - val_accuracy: 0.9793 - lr: 1.0000e-04\n",
      "Epoch 10/15\n",
      "748/750 [============================>.] - ETA: 0s - loss: 0.0059 - accuracy: 0.9990\n",
      "Epoch 10: val_loss improved from 0.07645 to 0.07591, saving model to model_experiments\\model_1_mnist_clf\n",
      "INFO:tensorflow:Assets written to: model_experiments\\model_1_mnist_clf\\assets\n"
     ]
    },
    {
     "name": "stderr",
     "output_type": "stream",
     "text": [
      "INFO:tensorflow:Assets written to: model_experiments\\model_1_mnist_clf\\assets\n"
     ]
    },
    {
     "name": "stdout",
     "output_type": "stream",
     "text": [
      "750/750 [==============================] - 4s 6ms/step - loss: 0.0059 - accuracy: 0.9990 - val_loss: 0.0759 - val_accuracy: 0.9797 - lr: 1.0000e-04\n",
      "Epoch 11/15\n",
      "746/750 [============================>.] - ETA: 0s - loss: 0.0047 - accuracy: 0.9994\n",
      "Epoch 11: val_loss did not improve from 0.07591\n",
      "750/750 [==============================] - 4s 5ms/step - loss: 0.0047 - accuracy: 0.9994 - val_loss: 0.0771 - val_accuracy: 0.9794 - lr: 1.0000e-04\n",
      "Epoch 12/15\n",
      "743/750 [============================>.] - ETA: 0s - loss: 0.0041 - accuracy: 0.9995\n",
      "Epoch 12: val_loss did not improve from 0.07591\n",
      "750/750 [==============================] - 4s 5ms/step - loss: 0.0041 - accuracy: 0.9995 - val_loss: 0.0777 - val_accuracy: 0.9803 - lr: 1.0000e-04\n",
      "Epoch 13/15\n",
      "743/750 [============================>.] - ETA: 0s - loss: 0.0035 - accuracy: 0.9997\n",
      "Epoch 13: val_loss did not improve from 0.07591\n",
      "\n",
      "Epoch 13: ReduceLROnPlateau reducing learning rate to 1.0000000474974514e-05.\n",
      "750/750 [==============================] - 5s 6ms/step - loss: 0.0035 - accuracy: 0.9997 - val_loss: 0.0784 - val_accuracy: 0.9803 - lr: 1.0000e-04\n",
      "Epoch 14/15\n",
      "742/750 [============================>.] - ETA: 0s - loss: 0.0027 - accuracy: 0.9999\n",
      "Epoch 14: val_loss did not improve from 0.07591\n",
      "750/750 [==============================] - 4s 5ms/step - loss: 0.0027 - accuracy: 0.9999 - val_loss: 0.0780 - val_accuracy: 0.9799 - lr: 1.0000e-05\n",
      "Epoch 15/15\n",
      "744/750 [============================>.] - ETA: 0s - loss: 0.0026 - accuracy: 0.9999\n",
      "Epoch 15: val_loss did not improve from 0.07591\n",
      "Restoring model weights from the end of the best epoch: 10.\n",
      "750/750 [==============================] - 5s 6ms/step - loss: 0.0026 - accuracy: 0.9999 - val_loss: 0.0782 - val_accuracy: 0.9800 - lr: 1.0000e-05\n",
      "Epoch 15: early stopping\n"
     ]
    }
   ],
   "source": [
    "model_1_history = model_1.fit(train_images,\n",
    "                              train_labels,\n",
    "                              epochs=15,\n",
    "                              validation_data=(val_images, val_labels),\n",
    "                              batch_size=64,\n",
    "                              validation_batch_size=64,\n",
    "                              shuffle=True,\n",
    "                              callbacks=[tensorboard(model_1.name),\n",
    "                                         checkpoint(model_1.name),\n",
    "                                         early_stopping,\n",
    "                                         reduce_lr])"
   ]
  },
  {
   "cell_type": "code",
   "execution_count": 23,
   "id": "0ad45e11-9d50-40ba-9e6b-a45e95cadcf8",
   "metadata": {},
   "outputs": [
    {
     "name": "stdout",
     "output_type": "stream",
     "text": [
      "375/375 [==============================] - 2s 4ms/step - loss: 0.0759 - accuracy: 0.9797\n"
     ]
    },
    {
     "data": {
      "text/plain": [
       "[0.07590775191783905, 0.9797499775886536]"
      ]
     },
     "execution_count": 23,
     "metadata": {},
     "output_type": "execute_result"
    }
   ],
   "source": [
    "model_1.evaluate(val_images, val_labels)"
   ]
  },
  {
   "cell_type": "code",
   "execution_count": 24,
   "id": "0a53b7d4-b5b7-43cb-a1f0-f21f61e6c458",
   "metadata": {},
   "outputs": [
    {
     "name": "stdout",
     "output_type": "stream",
     "text": [
      "1500/1500 [==============================] - 5s 3ms/step - loss: 0.0046 - accuracy: 0.9995\n"
     ]
    },
    {
     "data": {
      "text/plain": [
       "[0.0045860749669373035, 0.9995208382606506]"
      ]
     },
     "execution_count": 24,
     "metadata": {},
     "output_type": "execute_result"
    }
   ],
   "source": [
    "model_1.evaluate(train_images, train_labels)"
   ]
  },
  {
   "cell_type": "code",
   "execution_count": 26,
   "id": "2bf1389b-385a-4cd2-8bb2-f2f56dfb577f",
   "metadata": {},
   "outputs": [
    {
     "name": "stdout",
     "output_type": "stream",
     "text": [
      "313/313 [==============================] - 1s 4ms/step - loss: 0.0758 - accuracy: 0.9804\n"
     ]
    },
    {
     "data": {
      "text/plain": [
       "[0.07582416385412216, 0.980400025844574]"
      ]
     },
     "execution_count": 26,
     "metadata": {},
     "output_type": "execute_result"
    }
   ],
   "source": [
    "model_1.evaluate(test_images, test_labels)"
   ]
  },
  {
   "cell_type": "code",
   "execution_count": 27,
   "id": "989244c2-827f-48da-885e-5cdbe97cca8d",
   "metadata": {},
   "outputs": [],
   "source": [
    "%load_ext tensorboard"
   ]
  },
  {
   "cell_type": "code",
   "execution_count": 29,
   "id": "0ba23066-2525-4adc-8e55-ddd68685454a",
   "metadata": {},
   "outputs": [
    {
     "data": {
      "text/html": [
       "\n",
       "      <iframe id=\"tensorboard-frame-63bf5539ed746984\" width=\"100%\" height=\"800\" frameborder=\"0\">\n",
       "      </iframe>\n",
       "      <script>\n",
       "        (function() {\n",
       "          const frame = document.getElementById(\"tensorboard-frame-63bf5539ed746984\");\n",
       "          const url = new URL(\"/\", window.location);\n",
       "          const port = 8086;\n",
       "          if (port) {\n",
       "            url.port = port;\n",
       "          }\n",
       "          frame.src = url;\n",
       "        })();\n",
       "      </script>\n",
       "    "
      ],
      "text/plain": [
       "<IPython.core.display.HTML object>"
      ]
     },
     "metadata": {},
     "output_type": "display_data"
    }
   ],
   "source": [
    "%tensorboard --logdir model_logs --port 8086"
   ]
  },
  {
   "cell_type": "code",
   "execution_count": 30,
   "id": "67e6b7cd-fdac-44af-bd9d-320fbc466f81",
   "metadata": {},
   "outputs": [],
   "source": [
    "model_1_loaded = tf.keras.models.load_model(CHECKPOINT_PATH + \"/\" + model_1.name)"
   ]
  },
  {
   "cell_type": "code",
   "execution_count": 31,
   "id": "4f2d8f01-9c68-448c-a609-128801e4a9b9",
   "metadata": {},
   "outputs": [
    {
     "name": "stdout",
     "output_type": "stream",
     "text": [
      "313/313 [==============================] - 1s 3ms/step - loss: 0.0758 - accuracy: 0.9804\n"
     ]
    },
    {
     "data": {
      "text/plain": [
       "[0.07582416385412216, 0.980400025844574]"
      ]
     },
     "execution_count": 31,
     "metadata": {},
     "output_type": "execute_result"
    }
   ],
   "source": [
    "model_1_loaded.evaluate(test_images, test_labels)"
   ]
  },
  {
   "cell_type": "code",
   "execution_count": null,
   "id": "3d227a6c-d118-431f-aece-e769c1b50394",
   "metadata": {},
   "outputs": [],
   "source": []
  }
 ],
 "metadata": {
  "kernelspec": {
   "display_name": "mldl",
   "language": "python",
   "name": "mldl"
  },
  "language_info": {
   "codemirror_mode": {
    "name": "ipython",
    "version": 3
   },
   "file_extension": ".py",
   "mimetype": "text/x-python",
   "name": "python",
   "nbconvert_exporter": "python",
   "pygments_lexer": "ipython3",
   "version": "3.9.2"
  }
 },
 "nbformat": 4,
 "nbformat_minor": 5
}
