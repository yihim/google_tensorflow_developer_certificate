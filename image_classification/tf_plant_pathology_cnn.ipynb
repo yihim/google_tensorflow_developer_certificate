{
 "cells": [
  {
   "cell_type": "code",
   "execution_count": 1,
   "id": "71014ea6-c650-4e36-b29e-1f1484b8de3d",
   "metadata": {},
   "outputs": [],
   "source": [
    "import tensorflow as tf\n",
    "import pandas as pd\n",
    "import numpy as np\n",
    "import matplotlib.pyplot as plt\n",
    "from tensorflow.keras import layers\n",
    "import random\n",
    "import os"
   ]
  },
  {
   "cell_type": "code",
   "execution_count": 2,
   "id": "67a7d497-4a49-4656-9fc9-152c92fe1170",
   "metadata": {},
   "outputs": [
    {
     "name": "stdout",
     "output_type": "stream",
     "text": [
      "2.8.0\n"
     ]
    }
   ],
   "source": [
    "print(tf.__version__)"
   ]
  },
  {
   "cell_type": "code",
   "execution_count": 3,
   "id": "a1b8b99d-cff5-48eb-8641-186ecdc68507",
   "metadata": {},
   "outputs": [],
   "source": [
    "gpus = tf.config.list_physical_devices('GPU')\n",
    "if gpus:\n",
    "    for gpu in gpus:\n",
    "        tf.config.experimental.set_memory_growth(gpu, True)"
   ]
  },
  {
   "cell_type": "code",
   "execution_count": 4,
   "id": "6b67d333-4dac-43c8-81b7-4f1fc120954a",
   "metadata": {},
   "outputs": [
    {
     "data": {
      "text/html": [
       "<div>\n",
       "<style scoped>\n",
       "    .dataframe tbody tr th:only-of-type {\n",
       "        vertical-align: middle;\n",
       "    }\n",
       "\n",
       "    .dataframe tbody tr th {\n",
       "        vertical-align: top;\n",
       "    }\n",
       "\n",
       "    .dataframe thead th {\n",
       "        text-align: right;\n",
       "    }\n",
       "</style>\n",
       "<table border=\"1\" class=\"dataframe\">\n",
       "  <thead>\n",
       "    <tr style=\"text-align: right;\">\n",
       "      <th></th>\n",
       "      <th>image_id</th>\n",
       "      <th>healthy</th>\n",
       "      <th>multiple_diseases</th>\n",
       "      <th>rust</th>\n",
       "      <th>scab</th>\n",
       "    </tr>\n",
       "  </thead>\n",
       "  <tbody>\n",
       "    <tr>\n",
       "      <th>0</th>\n",
       "      <td>Train_0</td>\n",
       "      <td>0</td>\n",
       "      <td>0</td>\n",
       "      <td>0</td>\n",
       "      <td>1</td>\n",
       "    </tr>\n",
       "    <tr>\n",
       "      <th>1</th>\n",
       "      <td>Train_1</td>\n",
       "      <td>0</td>\n",
       "      <td>1</td>\n",
       "      <td>0</td>\n",
       "      <td>0</td>\n",
       "    </tr>\n",
       "    <tr>\n",
       "      <th>2</th>\n",
       "      <td>Train_2</td>\n",
       "      <td>1</td>\n",
       "      <td>0</td>\n",
       "      <td>0</td>\n",
       "      <td>0</td>\n",
       "    </tr>\n",
       "    <tr>\n",
       "      <th>3</th>\n",
       "      <td>Train_3</td>\n",
       "      <td>0</td>\n",
       "      <td>0</td>\n",
       "      <td>1</td>\n",
       "      <td>0</td>\n",
       "    </tr>\n",
       "    <tr>\n",
       "      <th>4</th>\n",
       "      <td>Train_4</td>\n",
       "      <td>1</td>\n",
       "      <td>0</td>\n",
       "      <td>0</td>\n",
       "      <td>0</td>\n",
       "    </tr>\n",
       "  </tbody>\n",
       "</table>\n",
       "</div>"
      ],
      "text/plain": [
       "  image_id  healthy  multiple_diseases  rust  scab\n",
       "0  Train_0        0                  0     0     1\n",
       "1  Train_1        0                  1     0     0\n",
       "2  Train_2        1                  0     0     0\n",
       "3  Train_3        0                  0     1     0\n",
       "4  Train_4        1                  0     0     0"
      ]
     },
     "execution_count": 4,
     "metadata": {},
     "output_type": "execute_result"
    }
   ],
   "source": [
    "train_data = pd.read_csv(\"dataset/image_classification/plant_pathology/train.csv\")\n",
    "train_data.head()"
   ]
  },
  {
   "cell_type": "code",
   "execution_count": 5,
   "id": "10bd6b84-8600-4953-86cb-03a7507e176a",
   "metadata": {},
   "outputs": [],
   "source": [
    "img_path = \"dataset/image_classification/plant_pathology/images\""
   ]
  },
  {
   "cell_type": "code",
   "execution_count": 6,
   "id": "09626da3-60fb-465f-83e7-d4a6dfbb4431",
   "metadata": {},
   "outputs": [
    {
     "data": {
      "text/plain": [
       "array(['Train_0', 'Train_1', 'Train_2', ..., 'Train_1818', 'Train_1819',\n",
       "       'Train_1820'], dtype=object)"
      ]
     },
     "execution_count": 6,
     "metadata": {},
     "output_type": "execute_result"
    }
   ],
   "source": [
    "train_data[\"image_id\"].to_numpy()"
   ]
  },
  {
   "cell_type": "code",
   "execution_count": 7,
   "id": "a9368f34-4b08-4526-9ca1-f71d9bc32884",
   "metadata": {},
   "outputs": [],
   "source": [
    "img_path = [os.path.join(img_path, filename + \".jpg\") for filename in train_data[\"image_id\"].to_numpy()]"
   ]
  },
  {
   "cell_type": "code",
   "execution_count": 8,
   "id": "c8a2c239-7bb3-42de-b880-5b39002a440e",
   "metadata": {},
   "outputs": [
    {
     "data": {
      "text/plain": [
       "'dataset/image_classification/plant_pathology/images\\\\Train_0.jpg'"
      ]
     },
     "execution_count": 8,
     "metadata": {},
     "output_type": "execute_result"
    }
   ],
   "source": [
    "img_path[0]"
   ]
  },
  {
   "cell_type": "code",
   "execution_count": 9,
   "id": "000e3ee5-886a-4e48-b436-1796062a5086",
   "metadata": {},
   "outputs": [
    {
     "data": {
      "text/plain": [
       "array([0, 0, 0, 1], dtype=int64)"
      ]
     },
     "execution_count": 9,
     "metadata": {},
     "output_type": "execute_result"
    }
   ],
   "source": [
    "img_targets = train_data.drop(\"image_id\", axis=1).to_numpy()\n",
    "img_targets[0]"
   ]
  },
  {
   "cell_type": "code",
   "execution_count": 10,
   "id": "9d009d5d-7f3b-4e1f-8bc9-b4671ce42117",
   "metadata": {},
   "outputs": [],
   "source": [
    "IMG_SIZE = 128\n",
    "def load_and_preprocess_image(image_path, label, img_size=IMG_SIZE):\n",
    "    image = tf.io.read_file(image_path)\n",
    "    image = tf.image.decode_jpeg(image, channels=3)\n",
    "    image = tf.image.convert_image_dtype(image, tf.float32)\n",
    "    image = tf.image.resize(image, size=[img_size, img_size])\n",
    "    return image, label"
   ]
  },
  {
   "cell_type": "code",
   "execution_count": 11,
   "id": "d7265a5b-38d2-475c-a54a-d2aba5041e0d",
   "metadata": {},
   "outputs": [],
   "source": [
    "data_augmentation = tf.keras.Sequential([\n",
    "    layers.RandomFlip(\"horizontal\"),\n",
    "    layers.RandomRotation(0.2),\n",
    "    layers.RandomZoom(0.2),\n",
    "    layers.RandomHeight(0.2),\n",
    "    layers.RandomWidth(0.2),\n",
    "    layers.Resizing(128, 128)\n",
    "], name=\"data_augmentation_layer\")"
   ]
  },
  {
   "cell_type": "code",
   "execution_count": 12,
   "id": "26619b39-97bf-4c04-8820-d7445569e15a",
   "metadata": {
    "scrolled": true
   },
   "outputs": [
    {
     "data": {
      "text/plain": [
       "(<tf.Tensor: shape=(128, 128, 3), dtype=float32, numpy=\n",
       " array([[[0.13333334, 0.20392159, 0.05490196],\n",
       "         [0.13725491, 0.21960786, 0.05882353],\n",
       "         [0.15294118, 0.22352943, 0.05882353],\n",
       "         ...,\n",
       "         [0.1627451 , 0.20588237, 0.08039216],\n",
       "         [0.19869794, 0.24183519, 0.10850184],\n",
       "         [0.18594517, 0.22908244, 0.09574909]],\n",
       " \n",
       "        [[0.12646294, 0.19316025, 0.0460861 ],\n",
       "         [0.1323606 , 0.21471356, 0.05392923],\n",
       "         [0.14997703, 0.22056527, 0.05585938],\n",
       "         ...,\n",
       "         [0.15292586, 0.19606313, 0.07446385],\n",
       "         [0.19312961, 0.23237593, 0.10487899],\n",
       "         [0.18826595, 0.2314032 , 0.10001533]],\n",
       " \n",
       "        [[0.1137255 , 0.19607845, 0.04313726],\n",
       "         [0.12941177, 0.21176472, 0.0509804 ],\n",
       "         [0.14509805, 0.21568629, 0.0509804 ],\n",
       "         ...,\n",
       "         [0.13725491, 0.20392159, 0.07843138],\n",
       "         [0.1467448 , 0.20556834, 0.07615656],\n",
       "         [0.15717678, 0.22776502, 0.07090227]],\n",
       " \n",
       "        ...,\n",
       " \n",
       "        [[0.7117647 , 0.6921569 , 0.42878374],\n",
       "         [0.6960784 , 0.67678463, 0.4483916 ],\n",
       "         [0.6921569 , 0.65129447, 0.46407786],\n",
       "         ...,\n",
       "         [0.6741192 , 0.7630592 , 0.51897985],\n",
       "         [0.73630524, 0.81442255, 0.58743876],\n",
       "         [0.8094057 , 0.85842526, 0.5721507 ]],\n",
       " \n",
       "        [[0.71960783, 0.6843138 , 0.45686278],\n",
       "         [0.7078432 , 0.6686275 , 0.4647059 ],\n",
       "         [0.6960784 , 0.63725495, 0.46862748],\n",
       "         ...,\n",
       "         [0.68835783, 0.7412837 , 0.5599955 ],\n",
       "         [0.7529259 , 0.83526355, 0.58817405],\n",
       "         [0.74895835, 0.8107767 , 0.5243796 ]],\n",
       " \n",
       "        [[0.70817256, 0.6637178 , 0.4637332 ],\n",
       "         [0.7130821 , 0.65228254, 0.48563117],\n",
       "         [0.7114507 , 0.6261489 , 0.48858   ],\n",
       "         ...,\n",
       "         [0.80318636, 0.8469823 , 0.67830884],\n",
       "         [0.8451287 , 0.8885954 , 0.75930613],\n",
       "         [0.74610144, 0.8186505 , 0.5755438 ]]], dtype=float32)>,\n",
       " array([0, 0, 0, 1], dtype=int64))"
      ]
     },
     "execution_count": 12,
     "metadata": {},
     "output_type": "execute_result"
    }
   ],
   "source": [
    "image = load_and_preprocess_image(img_path[0], img_targets[0])\n",
    "image"
   ]
  },
  {
   "cell_type": "code",
   "execution_count": 13,
   "id": "a93bc561-a535-434c-9503-d0bc431f5a83",
   "metadata": {},
   "outputs": [],
   "source": [
    "from sklearn.model_selection import train_test_split"
   ]
  },
  {
   "cell_type": "code",
   "execution_count": 14,
   "id": "0b86816d-c9c5-4004-860f-50b59fac5e2f",
   "metadata": {},
   "outputs": [],
   "source": [
    "train_img, val_img, train_labels, val_labels = train_test_split(img_path, \n",
    "                                                                img_targets, \n",
    "                                                                test_size=0.2,\n",
    "                                                                random_state=42)"
   ]
  },
  {
   "cell_type": "code",
   "execution_count": 15,
   "id": "79a19b73-eb68-4c15-9c89-3f9660bad273",
   "metadata": {},
   "outputs": [
    {
     "data": {
      "text/plain": [
       "(1456, 365, 1456, 365)"
      ]
     },
     "execution_count": 15,
     "metadata": {},
     "output_type": "execute_result"
    }
   ],
   "source": [
    "len(train_img), len(val_img), len(train_labels), len(val_labels)"
   ]
  },
  {
   "cell_type": "code",
   "execution_count": 16,
   "id": "cdac3768-19fc-41e4-8d40-a7d774765c5c",
   "metadata": {},
   "outputs": [
    {
     "data": {
      "text/plain": [
       "'dataset/image_classification/plant_pathology/images\\\\Train_1455.jpg'"
      ]
     },
     "execution_count": 16,
     "metadata": {},
     "output_type": "execute_result"
    }
   ],
   "source": [
    "train_img[0]"
   ]
  },
  {
   "cell_type": "code",
   "execution_count": 17,
   "id": "49c36085-670e-4b9f-8ed8-13d8f0f8b050",
   "metadata": {},
   "outputs": [
    {
     "data": {
      "text/plain": [
       "array([0, 0, 1, 0], dtype=int64)"
      ]
     },
     "execution_count": 17,
     "metadata": {},
     "output_type": "execute_result"
    }
   ],
   "source": [
    "train_labels[0]"
   ]
  },
  {
   "cell_type": "code",
   "execution_count": 18,
   "id": "384dff29-39e7-418b-90eb-ed88787b964a",
   "metadata": {},
   "outputs": [
    {
     "data": {
      "text/plain": [
       "0  1  2  3\n",
       "0  0  0  1    127\n",
       "      1  0    120\n",
       "1  0  0  0    100\n",
       "0  1  0  0     18\n",
       "Name: count, dtype: int64"
      ]
     },
     "execution_count": 18,
     "metadata": {},
     "output_type": "execute_result"
    }
   ],
   "source": [
    "pd.DataFrame(val_labels).value_counts()"
   ]
  },
  {
   "cell_type": "code",
   "execution_count": 19,
   "id": "a0482b75-66dd-41bd-bc53-d2b3c5d82c7f",
   "metadata": {
    "scrolled": true
   },
   "outputs": [
    {
     "data": {
      "text/plain": [
       "<PrefetchDataset element_spec=(TensorSpec(shape=(None, 128, 128, 3), dtype=tf.float32, name=None), TensorSpec(shape=(None, 4), dtype=tf.int64, name=None))>"
      ]
     },
     "execution_count": 19,
     "metadata": {},
     "output_type": "execute_result"
    }
   ],
   "source": [
    "train_dataset = tf.data.Dataset.from_tensor_slices((train_img, train_labels))\n",
    "train_dataset = train_dataset.map(load_and_preprocess_image, num_parallel_calls=tf.data.AUTOTUNE)\n",
    "train_dataset = train_dataset.batch(32).prefetch(tf.data.AUTOTUNE)\n",
    "train_dataset"
   ]
  },
  {
   "cell_type": "code",
   "execution_count": 20,
   "id": "d0b46c17-65a3-487e-8e1e-e0220444c8eb",
   "metadata": {},
   "outputs": [
    {
     "data": {
      "text/plain": [
       "<PrefetchDataset element_spec=(TensorSpec(shape=(None, 128, 128, 3), dtype=tf.float32, name=None), TensorSpec(shape=(None, 4), dtype=tf.int64, name=None))>"
      ]
     },
     "execution_count": 20,
     "metadata": {},
     "output_type": "execute_result"
    }
   ],
   "source": [
    "val_dataset = tf.data.Dataset.from_tensor_slices((val_img, val_labels))\n",
    "val_dataset = val_dataset.map(load_and_preprocess_image, num_parallel_calls=tf.data.AUTOTUNE)\n",
    "val_dataset = val_dataset.batch(32).prefetch(tf.data.AUTOTUNE)\n",
    "val_dataset"
   ]
  },
  {
   "cell_type": "code",
   "execution_count": 21,
   "id": "c191cf91-da00-47f4-9824-44897b3ee97b",
   "metadata": {},
   "outputs": [
    {
     "data": {
      "text/plain": [
       "(46, 12)"
      ]
     },
     "execution_count": 21,
     "metadata": {},
     "output_type": "execute_result"
    }
   ],
   "source": [
    "len(train_dataset), len(val_dataset)"
   ]
  },
  {
   "cell_type": "code",
   "execution_count": 22,
   "id": "d2c538a9-b498-4d11-a2af-16991c033a61",
   "metadata": {},
   "outputs": [],
   "source": [
    "INPUT_SHAPE = (128, 128, 3)"
   ]
  },
  {
   "cell_type": "code",
   "execution_count": 22,
   "id": "8980832a-d588-4048-b5d2-156dd5e03e13",
   "metadata": {},
   "outputs": [],
   "source": [
    "tf.keras.backend.clear_session()\n",
    "\n",
    "inputs = layers.Input(shape=INPUT_SHAPE, dtype=tf.float32)\n",
    "x = layers.Conv2D(10, 3, activation=\"relu\")(inputs)\n",
    "x = layers.Conv2D(10, 3, activation=\"relu\")(x)\n",
    "x = layers.MaxPool2D(2)(x)\n",
    "x = layers.Conv2D(10, 3, activation=\"relu\")(x)\n",
    "x = layers.Conv2D(10, 3, activation=\"relu\")(x)\n",
    "x = layers.MaxPool2D(2)(x)\n",
    "x = layers.Flatten()(x)\n",
    "outputs = layers.Dense(4, activation=\"softmax\")(x)\n",
    "\n",
    "model_1 = tf.keras.Model(inputs, outputs, name=\"model_1\")"
   ]
  },
  {
   "cell_type": "code",
   "execution_count": 23,
   "id": "42010b32-95ae-4902-b9b5-f5fedbea46f7",
   "metadata": {},
   "outputs": [
    {
     "name": "stdout",
     "output_type": "stream",
     "text": [
      "Model: \"model_1\"\n",
      "_________________________________________________________________\n",
      " Layer (type)                Output Shape              Param #   \n",
      "=================================================================\n",
      " input_1 (InputLayer)        [(None, 224, 224, 3)]     0         \n",
      "                                                                 \n",
      " conv2d (Conv2D)             (None, 222, 222, 10)      280       \n",
      "                                                                 \n",
      " conv2d_1 (Conv2D)           (None, 220, 220, 10)      910       \n",
      "                                                                 \n",
      " max_pooling2d (MaxPooling2D  (None, 110, 110, 10)     0         \n",
      " )                                                               \n",
      "                                                                 \n",
      " conv2d_2 (Conv2D)           (None, 108, 108, 10)      910       \n",
      "                                                                 \n",
      " conv2d_3 (Conv2D)           (None, 106, 106, 10)      910       \n",
      "                                                                 \n",
      " max_pooling2d_1 (MaxPooling  (None, 53, 53, 10)       0         \n",
      " 2D)                                                             \n",
      "                                                                 \n",
      " flatten (Flatten)           (None, 28090)             0         \n",
      "                                                                 \n",
      " dense (Dense)               (None, 4)                 112364    \n",
      "                                                                 \n",
      "=================================================================\n",
      "Total params: 115,374\n",
      "Trainable params: 115,374\n",
      "Non-trainable params: 0\n",
      "_________________________________________________________________\n"
     ]
    }
   ],
   "source": [
    "model_1.summary()"
   ]
  },
  {
   "cell_type": "code",
   "execution_count": 24,
   "id": "6f4efa8e-2f71-415a-84f6-2408c3c0bf6d",
   "metadata": {},
   "outputs": [],
   "source": [
    "model_1_init_weights = model_1.get_weights()"
   ]
  },
  {
   "cell_type": "code",
   "execution_count": 25,
   "id": "25299ba3-acb2-4409-b7eb-bea115cf2c4e",
   "metadata": {},
   "outputs": [],
   "source": [
    "model_1.compile(loss=tf.keras.losses.CategoricalCrossentropy(),\n",
    "                optimizer=tf.keras.optimizers.Adam(),\n",
    "                metrics=[\"accuracy\"])"
   ]
  },
  {
   "cell_type": "code",
   "execution_count": 26,
   "id": "6c08d25f-56b2-49c7-85b7-dbf82e66b1be",
   "metadata": {},
   "outputs": [
    {
     "name": "stdout",
     "output_type": "stream",
     "text": [
      "Epoch 1/5\n",
      "46/46 [==============================] - 27s 539ms/step - loss: 1.2829 - accuracy: 0.3242 - val_loss: 1.2121 - val_accuracy: 0.5000\n",
      "Epoch 2/5\n",
      "46/46 [==============================] - 26s 568ms/step - loss: 1.2219 - accuracy: 0.4107 - val_loss: 1.1791 - val_accuracy: 0.4375\n",
      "Epoch 3/5\n",
      "46/46 [==============================] - 26s 570ms/step - loss: 1.1528 - accuracy: 0.4643 - val_loss: 1.1298 - val_accuracy: 0.4375\n",
      "Epoch 4/5\n",
      "46/46 [==============================] - 27s 576ms/step - loss: 0.9947 - accuracy: 0.5749 - val_loss: 1.2165 - val_accuracy: 0.4375\n",
      "Epoch 5/5\n",
      "46/46 [==============================] - 27s 574ms/step - loss: 0.7424 - accuracy: 0.7067 - val_loss: 1.4582 - val_accuracy: 0.4375\n"
     ]
    }
   ],
   "source": [
    "model_1_history = model_1.fit(train_dataset,\n",
    "                              validation_data=val_dataset,\n",
    "                              epochs=5,\n",
    "                              validation_steps=int(len(val_dataset) * 0.1))"
   ]
  },
  {
   "cell_type": "code",
   "execution_count": 27,
   "id": "a47663dc-6bb6-49dd-baa6-e4c8145df611",
   "metadata": {},
   "outputs": [
    {
     "name": "stdout",
     "output_type": "stream",
     "text": [
      "12/12 [==============================] - 7s 524ms/step - loss: 1.4151 - accuracy: 0.4384\n"
     ]
    },
    {
     "data": {
      "text/plain": [
       "[1.4150738716125488, 0.4383561611175537]"
      ]
     },
     "execution_count": 27,
     "metadata": {},
     "output_type": "execute_result"
    }
   ],
   "source": [
    "model_1.evaluate(val_dataset)"
   ]
  },
  {
   "cell_type": "code",
   "execution_count": 28,
   "id": "2c5c025e-f05b-4c7e-99a2-fdb25035fc10",
   "metadata": {},
   "outputs": [
    {
     "name": "stdout",
     "output_type": "stream",
     "text": [
      "46/46 [==============================] - 26s 553ms/step - loss: 0.5141 - accuracy: 0.8029\n"
     ]
    },
    {
     "data": {
      "text/plain": [
       "[0.5140912532806396, 0.8028846383094788]"
      ]
     },
     "execution_count": 28,
     "metadata": {},
     "output_type": "execute_result"
    }
   ],
   "source": [
    "model_1.evaluate(train_dataset)"
   ]
  },
  {
   "cell_type": "code",
   "execution_count": 29,
   "id": "ef572a78-03b4-44da-9415-4e908145f32a",
   "metadata": {},
   "outputs": [],
   "source": [
    "tf.keras.backend.clear_session()"
   ]
  },
  {
   "cell_type": "code",
   "execution_count": 30,
   "id": "dde40478-1aa6-419b-92be-c262ea07ff74",
   "metadata": {},
   "outputs": [],
   "source": [
    "inputs = layers.Input(shape=INPUT_SHAPE, dtype=tf.float32)\n",
    "x = data_augmentation(inputs)\n",
    "x = layers.Conv2D(10, 3, activation=\"relu\")(x)\n",
    "x = layers.Conv2D(10, 3, activation=\"relu\")(x)\n",
    "x = layers.MaxPool2D(2)(x)\n",
    "x = layers.Conv2D(10, 3, activation=\"relu\")(x)\n",
    "x = layers.Conv2D(10, 3, activation=\"relu\")(x)\n",
    "x = layers.MaxPool2D(2)(x)\n",
    "x = layers.Flatten()(x)\n",
    "outputs = layers.Dense(4, activation=\"softmax\")(x)\n",
    "\n",
    "model_2 = tf.keras.Model(inputs, outputs, name=\"model_2\")"
   ]
  },
  {
   "cell_type": "code",
   "execution_count": 31,
   "id": "7ad05712-3691-4fdf-a279-35408153c06e",
   "metadata": {},
   "outputs": [
    {
     "name": "stdout",
     "output_type": "stream",
     "text": [
      "Model: \"model_2\"\n",
      "_________________________________________________________________\n",
      " Layer (type)                Output Shape              Param #   \n",
      "=================================================================\n",
      " input_1 (InputLayer)        [(None, 224, 224, 3)]     0         \n",
      "                                                                 \n",
      " data_augmentation_layer (Se  (None, 224, 224, 3)      0         \n",
      " quential)                                                       \n",
      "                                                                 \n",
      " conv2d (Conv2D)             (None, 222, 222, 10)      280       \n",
      "                                                                 \n",
      " conv2d_1 (Conv2D)           (None, 220, 220, 10)      910       \n",
      "                                                                 \n",
      " max_pooling2d (MaxPooling2D  (None, 110, 110, 10)     0         \n",
      " )                                                               \n",
      "                                                                 \n",
      " conv2d_2 (Conv2D)           (None, 108, 108, 10)      910       \n",
      "                                                                 \n",
      " conv2d_3 (Conv2D)           (None, 106, 106, 10)      910       \n",
      "                                                                 \n",
      " max_pooling2d_1 (MaxPooling  (None, 53, 53, 10)       0         \n",
      " 2D)                                                             \n",
      "                                                                 \n",
      " flatten (Flatten)           (None, 28090)             0         \n",
      "                                                                 \n",
      " dense (Dense)               (None, 4)                 112364    \n",
      "                                                                 \n",
      "=================================================================\n",
      "Total params: 115,374\n",
      "Trainable params: 115,374\n",
      "Non-trainable params: 0\n",
      "_________________________________________________________________\n"
     ]
    }
   ],
   "source": [
    "model_2.summary()"
   ]
  },
  {
   "cell_type": "code",
   "execution_count": 32,
   "id": "218ed76f-5df9-46f6-95d3-ad330a7786e2",
   "metadata": {},
   "outputs": [
    {
     "name": "stdout",
     "output_type": "stream",
     "text": [
      "Epoch 1/5\n",
      "46/46 [==============================] - 28s 582ms/step - loss: 1.2468 - accuracy: 0.3956 - val_loss: 1.1438 - val_accuracy: 0.7500\n",
      "Epoch 2/5\n",
      "46/46 [==============================] - 29s 617ms/step - loss: 1.0815 - accuracy: 0.5742 - val_loss: 0.8433 - val_accuracy: 0.7500\n",
      "Epoch 3/5\n",
      "46/46 [==============================] - 28s 599ms/step - loss: 0.9645 - accuracy: 0.6319 - val_loss: 0.8160 - val_accuracy: 0.6562\n",
      "Epoch 4/5\n",
      "46/46 [==============================] - 28s 603ms/step - loss: 0.9057 - accuracy: 0.6717 - val_loss: 0.7366 - val_accuracy: 0.6875\n",
      "Epoch 5/5\n",
      "46/46 [==============================] - 28s 611ms/step - loss: 0.8275 - accuracy: 0.6930 - val_loss: 0.6847 - val_accuracy: 0.7500\n"
     ]
    }
   ],
   "source": [
    "model_2.compile(loss=tf.keras.losses.CategoricalCrossentropy(),\n",
    "                optimizer=tf.keras.optimizers.Adam(),\n",
    "                metrics=[\"accuracy\"])\n",
    "\n",
    "model_2_history = model_2.fit(train_dataset,\n",
    "                              validation_data=val_dataset,\n",
    "                              validation_steps=int(len(val_dataset) * 0.1),\n",
    "                              epochs=5)"
   ]
  },
  {
   "cell_type": "code",
   "execution_count": 33,
   "id": "799e87d8-8817-43ba-9043-11e0992d477b",
   "metadata": {},
   "outputs": [
    {
     "name": "stdout",
     "output_type": "stream",
     "text": [
      "46/46 [==============================] - 28s 607ms/step - loss: 0.7703 - accuracy: 0.7198\n",
      "12/12 [==============================] - 7s 550ms/step - loss: 0.8299 - accuracy: 0.6795\n"
     ]
    },
    {
     "data": {
      "text/plain": [
       "([0.7703270316123962, 0.7197802066802979],\n",
       " [0.8299142718315125, 0.6794520616531372])"
      ]
     },
     "execution_count": 33,
     "metadata": {},
     "output_type": "execute_result"
    }
   ],
   "source": [
    "model_2.evaluate(train_dataset), model_2.evaluate(val_dataset)"
   ]
  },
  {
   "cell_type": "code",
   "execution_count": 37,
   "id": "c6486840-f67f-4976-9eb9-20d3ffab6307",
   "metadata": {},
   "outputs": [],
   "source": [
    "inputs = layers.Input(shape=INPUT_SHAPE, dtype=tf.float32)\n",
    "x = data_augmentation(inputs)\n",
    "x = layers.Conv2D(32, 3, activation=\"relu\")(x)\n",
    "x = layers.Conv2D(32, 3, activation=\"relu\")(x)\n",
    "x = layers.MaxPool2D(2)(x)\n",
    "x = layers.Conv2D(32, 3, activation=\"relu\")(x)\n",
    "x = layers.Conv2D(32, 3, activation=\"relu\")(x)\n",
    "x = layers.MaxPool2D(2)(x)\n",
    "x = layers.Flatten()(x)\n",
    "outputs = layers.Dense(4, activation=\"softmax\")(x)\n",
    "\n",
    "model_3 = tf.keras.Model(inputs, outputs, name=\"model_3\")"
   ]
  },
  {
   "cell_type": "code",
   "execution_count": 38,
   "id": "89e496df-92f4-40ad-b00f-49d9c2c5beed",
   "metadata": {},
   "outputs": [
    {
     "name": "stdout",
     "output_type": "stream",
     "text": [
      "Model: \"model_3\"\n",
      "_________________________________________________________________\n",
      " Layer (type)                Output Shape              Param #   \n",
      "=================================================================\n",
      " input_3 (InputLayer)        [(None, 224, 224, 3)]     0         \n",
      "                                                                 \n",
      " data_augmentation_layer (Se  (None, 224, 224, 3)      0         \n",
      " quential)                                                       \n",
      "                                                                 \n",
      " conv2d_8 (Conv2D)           (None, 222, 222, 32)      896       \n",
      "                                                                 \n",
      " conv2d_9 (Conv2D)           (None, 220, 220, 32)      9248      \n",
      "                                                                 \n",
      " max_pooling2d_4 (MaxPooling  (None, 110, 110, 32)     0         \n",
      " 2D)                                                             \n",
      "                                                                 \n",
      " conv2d_10 (Conv2D)          (None, 108, 108, 32)      9248      \n",
      "                                                                 \n",
      " conv2d_11 (Conv2D)          (None, 106, 106, 32)      9248      \n",
      "                                                                 \n",
      " max_pooling2d_5 (MaxPooling  (None, 53, 53, 32)       0         \n",
      " 2D)                                                             \n",
      "                                                                 \n",
      " flatten_2 (Flatten)         (None, 89888)             0         \n",
      "                                                                 \n",
      " dense_2 (Dense)             (None, 4)                 359556    \n",
      "                                                                 \n",
      "=================================================================\n",
      "Total params: 388,196\n",
      "Trainable params: 388,196\n",
      "Non-trainable params: 0\n",
      "_________________________________________________________________\n"
     ]
    }
   ],
   "source": [
    "model_3.summary()"
   ]
  },
  {
   "cell_type": "code",
   "execution_count": 39,
   "id": "dfa82f97-c321-4050-baec-6ea854edef51",
   "metadata": {},
   "outputs": [
    {
     "name": "stdout",
     "output_type": "stream",
     "text": [
      "Epoch 1/5\n",
      "46/46 [==============================] - 30s 589ms/step - loss: 1.2660 - accuracy: 0.3242 - val_loss: 1.2072 - val_accuracy: 0.3750\n",
      "Epoch 2/5\n",
      "46/46 [==============================] - 28s 598ms/step - loss: 1.2429 - accuracy: 0.3537 - val_loss: 1.1793 - val_accuracy: 0.3125\n",
      "Epoch 3/5\n",
      "46/46 [==============================] - 27s 575ms/step - loss: 1.2165 - accuracy: 0.3956 - val_loss: 1.1417 - val_accuracy: 0.4062\n",
      "Epoch 4/5\n",
      "46/46 [==============================] - 26s 567ms/step - loss: 1.2036 - accuracy: 0.4093 - val_loss: 1.1237 - val_accuracy: 0.3750\n",
      "Epoch 5/5\n",
      "46/46 [==============================] - 28s 603ms/step - loss: 1.2215 - accuracy: 0.4045 - val_loss: 1.2142 - val_accuracy: 0.3750\n"
     ]
    }
   ],
   "source": [
    "model_3.compile(loss=tf.keras.losses.CategoricalCrossentropy(),\n",
    "                optimizer=tf.keras.optimizers.Adam(),\n",
    "                metrics=[\"accuracy\"])\n",
    "\n",
    "model_3_history = model_3.fit(train_dataset,\n",
    "                              validation_data=val_dataset,\n",
    "                              validation_steps=int(len(val_dataset) * 0.1),\n",
    "                              epochs=5)"
   ]
  },
  {
   "cell_type": "code",
   "execution_count": 87,
   "id": "3d4305d7-6724-415b-88b8-aa3f1025172a",
   "metadata": {},
   "outputs": [],
   "source": [
    "tf.keras.backend.clear_session()\n",
    "\n",
    "inputs = layers.Input(shape=INPUT_SHAPE, dtype=tf.float32)\n",
    "x = data_augmentation(inputs)\n",
    "x = layers.Conv2D(8, 3, activation=\"relu\")(x)\n",
    "x = layers.Conv2D(8, 3, activation=\"relu\")(x)\n",
    "x = layers.MaxPool2D(2)(x)\n",
    "x = layers.Conv2D(8, 3, activation=\"relu\")(x)\n",
    "x = layers.Conv2D(8, 3, activation=\"relu\")(x)\n",
    "x = layers.MaxPool2D(2)(x)\n",
    "x = layers.Flatten()(x)\n",
    "outputs = layers.Dense(4, activation=\"softmax\")(x)\n",
    "\n",
    "model_4 = tf.keras.Model(inputs, outputs, name=\"model_4\")\n",
    "\n",
    "model_4_init_weights = model_4.get_weights()"
   ]
  },
  {
   "cell_type": "code",
   "execution_count": 88,
   "id": "3a306335-6060-4613-a9b4-da2d33428258",
   "metadata": {},
   "outputs": [
    {
     "name": "stdout",
     "output_type": "stream",
     "text": [
      "Model: \"model_4\"\n",
      "_________________________________________________________________\n",
      " Layer (type)                Output Shape              Param #   \n",
      "=================================================================\n",
      " input_1 (InputLayer)        [(None, 224, 224, 3)]     0         \n",
      "                                                                 \n",
      " data_augmentation_layer (Se  (None, 224, 224, 3)      0         \n",
      " quential)                                                       \n",
      "                                                                 \n",
      " conv2d (Conv2D)             (None, 222, 222, 8)       224       \n",
      "                                                                 \n",
      " conv2d_1 (Conv2D)           (None, 220, 220, 8)       584       \n",
      "                                                                 \n",
      " max_pooling2d (MaxPooling2D  (None, 110, 110, 8)      0         \n",
      " )                                                               \n",
      "                                                                 \n",
      " conv2d_2 (Conv2D)           (None, 108, 108, 8)       584       \n",
      "                                                                 \n",
      " conv2d_3 (Conv2D)           (None, 106, 106, 8)       584       \n",
      "                                                                 \n",
      " max_pooling2d_1 (MaxPooling  (None, 53, 53, 8)        0         \n",
      " 2D)                                                             \n",
      "                                                                 \n",
      " flatten (Flatten)           (None, 22472)             0         \n",
      "                                                                 \n",
      " dense (Dense)               (None, 4)                 89892     \n",
      "                                                                 \n",
      "=================================================================\n",
      "Total params: 91,868\n",
      "Trainable params: 91,868\n",
      "Non-trainable params: 0\n",
      "_________________________________________________________________\n"
     ]
    }
   ],
   "source": [
    "model_4.summary()"
   ]
  },
  {
   "cell_type": "code",
   "execution_count": 90,
   "id": "80706884-ce5e-4eef-af5b-f470d6c3e70c",
   "metadata": {},
   "outputs": [
    {
     "name": "stdout",
     "output_type": "stream",
     "text": [
      "Epoch 1/5\n",
      "46/46 [==============================] - 28s 583ms/step - loss: 1.2748 - accuracy: 0.3674 - val_loss: 1.2453 - val_accuracy: 0.3438\n",
      "Epoch 2/5\n",
      "46/46 [==============================] - 26s 569ms/step - loss: 1.2348 - accuracy: 0.3620 - val_loss: 1.2165 - val_accuracy: 0.4062\n",
      "Epoch 3/5\n",
      "46/46 [==============================] - 26s 568ms/step - loss: 1.2186 - accuracy: 0.3846 - val_loss: 1.1488 - val_accuracy: 0.4375\n",
      "Epoch 4/5\n",
      "46/46 [==============================] - 28s 595ms/step - loss: 1.1935 - accuracy: 0.4176 - val_loss: 1.1377 - val_accuracy: 0.5000\n",
      "Epoch 5/5\n",
      "46/46 [==============================] - 28s 597ms/step - loss: 1.1714 - accuracy: 0.4663 - val_loss: 1.1057 - val_accuracy: 0.5312\n"
     ]
    }
   ],
   "source": [
    "model_4.compile(loss=tf.keras.losses.CategoricalCrossentropy(),\n",
    "                optimizer=tf.keras.optimizers.Adam(),\n",
    "                metrics=[\"accuracy\"])\n",
    "\n",
    "model_4_history = model_4.fit(train_dataset,\n",
    "                              validation_data=val_dataset,\n",
    "                              validation_steps=int(len(val_dataset) * 0.1),\n",
    "                              epochs=5)"
   ]
  },
  {
   "cell_type": "code",
   "execution_count": 91,
   "id": "493e1646-8376-48c8-9011-e71ab0abf196",
   "metadata": {},
   "outputs": [
    {
     "name": "stdout",
     "output_type": "stream",
     "text": [
      "46/46 [==============================] - 25s 541ms/step - loss: 1.1449 - accuracy: 0.4863\n",
      "12/12 [==============================] - 7s 531ms/step - loss: 1.1402 - accuracy: 0.4932\n"
     ]
    },
    {
     "data": {
      "text/plain": [
       "([1.1449439525604248, 0.4862637221813202],\n",
       " [1.1401708126068115, 0.4931506812572479])"
      ]
     },
     "execution_count": 91,
     "metadata": {},
     "output_type": "execute_result"
    }
   ],
   "source": [
    "model_4.evaluate(train_dataset), model_4.evaluate(val_dataset)"
   ]
  },
  {
   "cell_type": "code",
   "execution_count": 128,
   "id": "467e5b5a-d01c-45af-bec8-fab01ed4ecfa",
   "metadata": {},
   "outputs": [],
   "source": [
    "tf.keras.backend.clear_session()\n",
    "\n",
    "inputs = layers.Input(shape=INPUT_SHAPE, dtype=tf.float32)\n",
    "x = data_augmentation(inputs, training=True)\n",
    "x = layers.Conv2D(64, 3, activation=\"relu\")(x)\n",
    "x = layers.MaxPool2D(2)(x)\n",
    "x = layers.Conv2D(64, 3, activation=\"relu\")(x)\n",
    "x = layers.MaxPool2D(2)(x)\n",
    "x = layers.Conv2D(128, 3, activation=\"relu\")(x)\n",
    "x = layers.MaxPool2D(2)(x)\n",
    "x = layers.Conv2D(128, 3, activation=\"relu\")(x)\n",
    "x = layers.MaxPool2D(2)(x)\n",
    "x = layers.Flatten()(x)\n",
    "x = layers.Dropout(0.5)(x)\n",
    "x = layers.Dense(512, activation=\"relu\")(x)\n",
    "outputs = layers.Dense(4, activation=\"softmax\")(x)\n",
    "\n",
    "model_5 = tf.keras.Model(inputs, outputs, name=\"model_5\")"
   ]
  },
  {
   "cell_type": "code",
   "execution_count": 129,
   "id": "033c60a3-a0a5-4d93-8605-b28ce99a7ddb",
   "metadata": {},
   "outputs": [
    {
     "name": "stdout",
     "output_type": "stream",
     "text": [
      "Model: \"model_5\"\n",
      "_________________________________________________________________\n",
      " Layer (type)                Output Shape              Param #   \n",
      "=================================================================\n",
      " input_1 (InputLayer)        [(None, 128, 128, 3)]     0         \n",
      "                                                                 \n",
      " data_augmentation_layer (Se  (None, 128, 128, 3)      0         \n",
      " quential)                                                       \n",
      "                                                                 \n",
      " conv2d (Conv2D)             (None, 126, 126, 64)      1792      \n",
      "                                                                 \n",
      " max_pooling2d (MaxPooling2D  (None, 63, 63, 64)       0         \n",
      " )                                                               \n",
      "                                                                 \n",
      " conv2d_1 (Conv2D)           (None, 61, 61, 64)        36928     \n",
      "                                                                 \n",
      " max_pooling2d_1 (MaxPooling  (None, 30, 30, 64)       0         \n",
      " 2D)                                                             \n",
      "                                                                 \n",
      " conv2d_2 (Conv2D)           (None, 28, 28, 128)       73856     \n",
      "                                                                 \n",
      " max_pooling2d_2 (MaxPooling  (None, 14, 14, 128)      0         \n",
      " 2D)                                                             \n",
      "                                                                 \n",
      " conv2d_3 (Conv2D)           (None, 12, 12, 128)       147584    \n",
      "                                                                 \n",
      " max_pooling2d_3 (MaxPooling  (None, 6, 6, 128)        0         \n",
      " 2D)                                                             \n",
      "                                                                 \n",
      " flatten (Flatten)           (None, 4608)              0         \n",
      "                                                                 \n",
      " dropout (Dropout)           (None, 4608)              0         \n",
      "                                                                 \n",
      " dense (Dense)               (None, 512)               2359808   \n",
      "                                                                 \n",
      " dense_1 (Dense)             (None, 4)                 2052      \n",
      "                                                                 \n",
      "=================================================================\n",
      "Total params: 2,622,020\n",
      "Trainable params: 2,622,020\n",
      "Non-trainable params: 0\n",
      "_________________________________________________________________\n"
     ]
    }
   ],
   "source": [
    "model_5.summary()"
   ]
  },
  {
   "cell_type": "code",
   "execution_count": null,
   "id": "e45f1108-3ae6-4951-9e12-a8f68bccb878",
   "metadata": {
    "scrolled": true
   },
   "outputs": [],
   "source": [
    "model_5.compile(loss='categorical_crossentropy', \n",
    "                optimizer='rmsprop', \n",
    "                metrics=['accuracy'])"
   ]
  },
  {
   "cell_type": "code",
   "execution_count": 132,
   "id": "83f3c8ba-7001-4726-bfcc-1c397eb60c67",
   "metadata": {},
   "outputs": [
    {
     "name": "stdout",
     "output_type": "stream",
     "text": [
      "Epoch 1/50\n",
      "46/46 [==============================] - 32s 673ms/step - loss: 1.3674 - accuracy: 0.3194 - val_loss: 1.3022 - val_accuracy: 0.2740\n",
      "Epoch 2/50\n",
      "46/46 [==============================] - 31s 679ms/step - loss: 1.2654 - accuracy: 0.3537 - val_loss: 1.3476 - val_accuracy: 0.3836\n",
      "Epoch 3/50\n",
      "46/46 [==============================] - 32s 686ms/step - loss: 1.1932 - accuracy: 0.4457 - val_loss: 1.1900 - val_accuracy: 0.5068\n",
      "Epoch 4/50\n",
      "46/46 [==============================] - 31s 683ms/step - loss: 1.1074 - accuracy: 0.5275 - val_loss: 0.9054 - val_accuracy: 0.6630\n",
      "Epoch 5/50\n",
      "46/46 [==============================] - 32s 685ms/step - loss: 0.9030 - accuracy: 0.6435 - val_loss: 0.9628 - val_accuracy: 0.5863\n",
      "Epoch 6/50\n",
      "46/46 [==============================] - 31s 676ms/step - loss: 0.8170 - accuracy: 0.6552 - val_loss: 0.7480 - val_accuracy: 0.6767\n",
      "Epoch 7/50\n",
      "46/46 [==============================] - 31s 675ms/step - loss: 0.7555 - accuracy: 0.6909 - val_loss: 1.0459 - val_accuracy: 0.6274\n",
      "Epoch 8/50\n",
      "46/46 [==============================] - 32s 694ms/step - loss: 0.7054 - accuracy: 0.7246 - val_loss: 0.9299 - val_accuracy: 0.6575\n",
      "Epoch 9/50\n",
      "46/46 [==============================] - 32s 698ms/step - loss: 0.6826 - accuracy: 0.7287 - val_loss: 0.9277 - val_accuracy: 0.6027\n",
      "Epoch 10/50\n",
      "46/46 [==============================] - 31s 681ms/step - loss: 0.6585 - accuracy: 0.7514 - val_loss: 0.6887 - val_accuracy: 0.6932\n",
      "Epoch 11/50\n",
      "46/46 [==============================] - 31s 679ms/step - loss: 0.6099 - accuracy: 0.7740 - val_loss: 0.6842 - val_accuracy: 0.6630\n",
      "Epoch 12/50\n",
      "46/46 [==============================] - 31s 677ms/step - loss: 0.6018 - accuracy: 0.7589 - val_loss: 1.0327 - val_accuracy: 0.5534\n",
      "Epoch 13/50\n",
      "46/46 [==============================] - 33s 722ms/step - loss: 0.5660 - accuracy: 0.7933 - val_loss: 0.6314 - val_accuracy: 0.7589\n",
      "Epoch 14/50\n",
      "46/46 [==============================] - 33s 715ms/step - loss: 0.5521 - accuracy: 0.7933 - val_loss: 0.8551 - val_accuracy: 0.6082\n",
      "Epoch 15/50\n",
      "46/46 [==============================] - 33s 718ms/step - loss: 0.5309 - accuracy: 0.8152 - val_loss: 1.1468 - val_accuracy: 0.5726\n",
      "Epoch 16/50\n",
      "46/46 [==============================] - 33s 713ms/step - loss: 0.5364 - accuracy: 0.8084 - val_loss: 0.8208 - val_accuracy: 0.6411\n",
      "Epoch 17/50\n",
      "46/46 [==============================] - 33s 721ms/step - loss: 0.4871 - accuracy: 0.8310 - val_loss: 1.9862 - val_accuracy: 0.5644\n",
      "Epoch 18/50\n",
      "46/46 [==============================] - 33s 718ms/step - loss: 0.4988 - accuracy: 0.8324 - val_loss: 0.9031 - val_accuracy: 0.6274\n"
     ]
    }
   ],
   "source": [
    "model_5_history = model_5.fit(train_dataset,\n",
    "                              validation_data=val_dataset,\n",
    "                              epochs=50,\n",
    "                              callbacks=[tensorboard(model_5.name), \n",
    "                                         early_stopping, \n",
    "                                         checkpoint])"
   ]
  },
  {
   "cell_type": "code",
   "execution_count": 133,
   "id": "cb14037e-0f53-4c64-a490-79218ae492f6",
   "metadata": {},
   "outputs": [
    {
     "name": "stdout",
     "output_type": "stream",
     "text": [
      "46/46 [==============================] - 26s 569ms/step - loss: 0.8454 - accuracy: 0.6435\n",
      "12/12 [==============================] - 7s 541ms/step - loss: 0.9018 - accuracy: 0.6384\n"
     ]
    },
    {
     "data": {
      "text/plain": [
       "([0.8454076051712036, 0.6435439586639404],\n",
       " [0.9017753601074219, 0.6383561491966248])"
      ]
     },
     "execution_count": 133,
     "metadata": {},
     "output_type": "execute_result"
    }
   ],
   "source": [
    "model_5.evaluate(train_dataset), model_5.evaluate(val_dataset)"
   ]
  },
  {
   "cell_type": "code",
   "execution_count": 134,
   "id": "6a167e20-b111-4fe6-8eee-343f3b46d623",
   "metadata": {},
   "outputs": [
    {
     "data": {
      "text/html": [
       "\n",
       "      <iframe id=\"tensorboard-frame-1b4916fcc38345bf\" width=\"100%\" height=\"800\" frameborder=\"0\">\n",
       "      </iframe>\n",
       "      <script>\n",
       "        (function() {\n",
       "          const frame = document.getElementById(\"tensorboard-frame-1b4916fcc38345bf\");\n",
       "          const url = new URL(\"/\", window.location);\n",
       "          const port = 8085;\n",
       "          if (port) {\n",
       "            url.port = port;\n",
       "          }\n",
       "          frame.src = url;\n",
       "        })();\n",
       "      </script>\n",
       "    "
      ],
      "text/plain": [
       "<IPython.core.display.HTML object>"
      ]
     },
     "metadata": {},
     "output_type": "display_data"
    }
   ],
   "source": [
    "%load_ext tensorboard\n",
    "%tensorboard --logdir model_logs/plant_pathology --port 8085"
   ]
  },
  {
   "cell_type": "code",
   "execution_count": 135,
   "id": "5fd04efb-ae01-4e98-9923-e6a6d91ffb5c",
   "metadata": {},
   "outputs": [
    {
     "name": "stdout",
     "output_type": "stream",
     "text": [
      "46/46 [==============================] - 26s 536ms/step - loss: 0.5818 - accuracy: 0.7871\n",
      "12/12 [==============================] - 7s 531ms/step - loss: 0.6140 - accuracy: 0.7699\n"
     ]
    },
    {
     "data": {
      "text/plain": [
       "([0.5817788243293762, 0.7870879173278809],\n",
       " [0.6140056848526001, 0.7698630094528198])"
      ]
     },
     "execution_count": 135,
     "metadata": {},
     "output_type": "execute_result"
    }
   ],
   "source": [
    "model_5_loaded = tf.keras.models.load_model(\"plant_pathology_model_5.h5\")\n",
    "model_5_loaded.evaluate(train_dataset), model_5_loaded.evaluate(val_dataset)"
   ]
  },
  {
   "cell_type": "code",
   "execution_count": 23,
   "id": "c500ff98-bf75-4a68-99cb-26e51a30b89a",
   "metadata": {},
   "outputs": [],
   "source": [
    "tf.keras.backend.clear_session()\n",
    "\n",
    "inputs = layers.Input(shape=INPUT_SHAPE, dtype=tf.float32)\n",
    "x = data_augmentation(inputs, training=True)\n",
    "x = layers.Conv2D(64, 3, activation=\"relu\")(x)\n",
    "x = layers.MaxPool2D(2)(x)\n",
    "x = layers.Conv2D(64, 3, activation=\"relu\")(x)\n",
    "x = layers.MaxPool2D(2)(x)\n",
    "x = layers.Conv2D(128, 3, activation=\"relu\")(x)\n",
    "x = layers.MaxPool2D(2)(x)\n",
    "x = layers.Conv2D(128, 3, activation=\"relu\")(x)\n",
    "x = layers.MaxPool2D(2)(x)\n",
    "x = layers.Flatten()(x)\n",
    "x = layers.Dropout(0.5)(x)\n",
    "x = layers.Dense(256, activation=\"relu\")(x)\n",
    "outputs = layers.Dense(4, activation=\"softmax\")(x)\n",
    "\n",
    "model_6 = tf.keras.Model(inputs, outputs, name=\"model_6\")"
   ]
  },
  {
   "cell_type": "code",
   "execution_count": 24,
   "id": "b71209b0-d689-4dbc-a640-7f5f3474eb1d",
   "metadata": {},
   "outputs": [
    {
     "name": "stdout",
     "output_type": "stream",
     "text": [
      "Model: \"model_6\"\n",
      "_________________________________________________________________\n",
      " Layer (type)                Output Shape              Param #   \n",
      "=================================================================\n",
      " input_1 (InputLayer)        [(None, 128, 128, 3)]     0         \n",
      "                                                                 \n",
      " data_augmentation_layer (Se  (None, 128, 128, 3)      0         \n",
      " quential)                                                       \n",
      "                                                                 \n",
      " conv2d (Conv2D)             (None, 126, 126, 64)      1792      \n",
      "                                                                 \n",
      " max_pooling2d (MaxPooling2D  (None, 63, 63, 64)       0         \n",
      " )                                                               \n",
      "                                                                 \n",
      " conv2d_1 (Conv2D)           (None, 61, 61, 64)        36928     \n",
      "                                                                 \n",
      " max_pooling2d_1 (MaxPooling  (None, 30, 30, 64)       0         \n",
      " 2D)                                                             \n",
      "                                                                 \n",
      " conv2d_2 (Conv2D)           (None, 28, 28, 128)       73856     \n",
      "                                                                 \n",
      " max_pooling2d_2 (MaxPooling  (None, 14, 14, 128)      0         \n",
      " 2D)                                                             \n",
      "                                                                 \n",
      " conv2d_3 (Conv2D)           (None, 12, 12, 128)       147584    \n",
      "                                                                 \n",
      " max_pooling2d_3 (MaxPooling  (None, 6, 6, 128)        0         \n",
      " 2D)                                                             \n",
      "                                                                 \n",
      " flatten (Flatten)           (None, 4608)              0         \n",
      "                                                                 \n",
      " dropout (Dropout)           (None, 4608)              0         \n",
      "                                                                 \n",
      " dense (Dense)               (None, 256)               1179904   \n",
      "                                                                 \n",
      " dense_1 (Dense)             (None, 4)                 1028      \n",
      "                                                                 \n",
      "=================================================================\n",
      "Total params: 1,441,092\n",
      "Trainable params: 1,441,092\n",
      "Non-trainable params: 0\n",
      "_________________________________________________________________\n"
     ]
    }
   ],
   "source": [
    "model_6.summary()"
   ]
  },
  {
   "cell_type": "code",
   "execution_count": 26,
   "id": "8ba62fa4-e019-4514-b2f9-02254674b901",
   "metadata": {},
   "outputs": [],
   "source": [
    "model_6.compile(loss='categorical_crossentropy', \n",
    "                optimizer='rmsprop', \n",
    "                metrics=['accuracy'])"
   ]
  },
  {
   "cell_type": "code",
   "execution_count": 32,
   "id": "3c071e6e-f7fd-4f93-ac69-9f103c18f9db",
   "metadata": {},
   "outputs": [],
   "source": [
    "import datetime\n",
    "\n",
    "def tensorboard(model_name):\n",
    "    return tf.keras.callbacks.TensorBoard(os.path.join(\"model_logs/plant_pathology\", model_name, datetime.datetime.now().strftime(\"%Y%m%d-%H%M%S\")))\n",
    "    \n",
    "early_stopping = tf.keras.callbacks.EarlyStopping(patience=5)\n",
    "\n",
    "checkpoint = tf.keras.callbacks.ModelCheckpoint(\"h5_models/plant_pathology_model_7.h5\", save_best_only=True)"
   ]
  },
  {
   "cell_type": "code",
   "execution_count": 29,
   "id": "339149f5-f893-4f75-b4a3-06d20155928a",
   "metadata": {},
   "outputs": [
    {
     "name": "stdout",
     "output_type": "stream",
     "text": [
      "Epoch 1/50\n",
      "46/46 [==============================] - 47s 818ms/step - loss: 1.3251 - accuracy: 0.3187 - val_loss: 1.3396 - val_accuracy: 0.2740\n",
      "Epoch 2/50\n",
      "46/46 [==============================] - 37s 812ms/step - loss: 1.2607 - accuracy: 0.3365 - val_loss: 1.2813 - val_accuracy: 0.2740\n",
      "Epoch 3/50\n",
      "46/46 [==============================] - 38s 817ms/step - loss: 1.2500 - accuracy: 0.3523 - val_loss: 1.2512 - val_accuracy: 0.3781\n",
      "Epoch 4/50\n",
      "46/46 [==============================] - 37s 807ms/step - loss: 1.1900 - accuracy: 0.4554 - val_loss: 1.5773 - val_accuracy: 0.3616\n",
      "Epoch 5/50\n",
      "46/46 [==============================] - 38s 814ms/step - loss: 0.9851 - accuracy: 0.5982 - val_loss: 1.1316 - val_accuracy: 0.5123\n",
      "Epoch 6/50\n",
      "46/46 [==============================] - 38s 815ms/step - loss: 0.8482 - accuracy: 0.6593 - val_loss: 0.9663 - val_accuracy: 0.5589\n",
      "Epoch 7/50\n",
      "46/46 [==============================] - 37s 812ms/step - loss: 0.7968 - accuracy: 0.6786 - val_loss: 0.6887 - val_accuracy: 0.7205\n",
      "Epoch 8/50\n",
      "46/46 [==============================] - 38s 816ms/step - loss: 0.7317 - accuracy: 0.7019 - val_loss: 0.7560 - val_accuracy: 0.6932\n",
      "Epoch 9/50\n",
      "46/46 [==============================] - 38s 814ms/step - loss: 0.7070 - accuracy: 0.7170 - val_loss: 0.6719 - val_accuracy: 0.6822\n",
      "Epoch 10/50\n",
      "46/46 [==============================] - 38s 821ms/step - loss: 0.6891 - accuracy: 0.7356 - val_loss: 0.7802 - val_accuracy: 0.6521\n",
      "Epoch 11/50\n",
      "46/46 [==============================] - 38s 816ms/step - loss: 0.6509 - accuracy: 0.7555 - val_loss: 0.6143 - val_accuracy: 0.7589\n",
      "Epoch 12/50\n",
      "46/46 [==============================] - 39s 856ms/step - loss: 0.6192 - accuracy: 0.7809 - val_loss: 0.7034 - val_accuracy: 0.6986\n",
      "Epoch 13/50\n",
      "46/46 [==============================] - 40s 873ms/step - loss: 0.5636 - accuracy: 0.7933 - val_loss: 1.7656 - val_accuracy: 0.5973\n",
      "Epoch 14/50\n",
      "46/46 [==============================] - 40s 868ms/step - loss: 0.5690 - accuracy: 0.7974 - val_loss: 0.7522 - val_accuracy: 0.6521\n",
      "Epoch 15/50\n",
      "46/46 [==============================] - 40s 868ms/step - loss: 0.5268 - accuracy: 0.8139 - val_loss: 0.8239 - val_accuracy: 0.6411\n",
      "Epoch 16/50\n",
      "46/46 [==============================] - 40s 870ms/step - loss: 0.5252 - accuracy: 0.8111 - val_loss: 0.8163 - val_accuracy: 0.6712\n"
     ]
    }
   ],
   "source": [
    "model_6_history = model_6.fit(train_dataset,\n",
    "                              validation_data=val_dataset,\n",
    "                              epochs=50,\n",
    "                              callbacks=[tensorboard(model_6.name), \n",
    "                                         early_stopping, \n",
    "                                         checkpoint])"
   ]
  },
  {
   "cell_type": "code",
   "execution_count": 30,
   "id": "de68d3f4-9a96-4742-9135-246e64c6050a",
   "metadata": {},
   "outputs": [],
   "source": [
    "tf.keras.backend.clear_session()\n",
    "\n",
    "inputs = layers.Input(shape=INPUT_SHAPE, dtype=tf.float32)\n",
    "x = data_augmentation(inputs, training=True)\n",
    "x = layers.Conv2D(128, 3, activation=\"relu\")(x)\n",
    "x = layers.MaxPool2D(2)(x)\n",
    "x = layers.Conv2D(128, 3, activation=\"relu\")(x)\n",
    "x = layers.MaxPool2D(2)(x)\n",
    "x = layers.Conv2D(128, 3, activation=\"relu\")(x)\n",
    "x = layers.MaxPool2D(2)(x)\n",
    "x = layers.Conv2D(128, 3, activation=\"relu\")(x)\n",
    "x = layers.MaxPool2D(2)(x)\n",
    "x = layers.Flatten()(x)\n",
    "x = layers.Dropout(0.5)(x)\n",
    "x = layers.Dense(256, activation=\"relu\")(x)\n",
    "outputs = layers.Dense(4, activation=\"softmax\")(x)\n",
    "\n",
    "model_7 = tf.keras.Model(inputs, outputs, name=\"model_7\")"
   ]
  },
  {
   "cell_type": "code",
   "execution_count": 31,
   "id": "9f608f77-29cf-4d9a-abe1-b8b52e304786",
   "metadata": {},
   "outputs": [
    {
     "name": "stdout",
     "output_type": "stream",
     "text": [
      "Model: \"model_7\"\n",
      "_________________________________________________________________\n",
      " Layer (type)                Output Shape              Param #   \n",
      "=================================================================\n",
      " input_1 (InputLayer)        [(None, 128, 128, 3)]     0         \n",
      "                                                                 \n",
      " data_augmentation_layer (Se  (None, 128, 128, 3)      0         \n",
      " quential)                                                       \n",
      "                                                                 \n",
      " conv2d (Conv2D)             (None, 126, 126, 128)     3584      \n",
      "                                                                 \n",
      " max_pooling2d (MaxPooling2D  (None, 63, 63, 128)      0         \n",
      " )                                                               \n",
      "                                                                 \n",
      " conv2d_1 (Conv2D)           (None, 61, 61, 128)       147584    \n",
      "                                                                 \n",
      " max_pooling2d_1 (MaxPooling  (None, 30, 30, 128)      0         \n",
      " 2D)                                                             \n",
      "                                                                 \n",
      " conv2d_2 (Conv2D)           (None, 28, 28, 128)       147584    \n",
      "                                                                 \n",
      " max_pooling2d_2 (MaxPooling  (None, 14, 14, 128)      0         \n",
      " 2D)                                                             \n",
      "                                                                 \n",
      " conv2d_3 (Conv2D)           (None, 12, 12, 128)       147584    \n",
      "                                                                 \n",
      " max_pooling2d_3 (MaxPooling  (None, 6, 6, 128)        0         \n",
      " 2D)                                                             \n",
      "                                                                 \n",
      " flatten (Flatten)           (None, 4608)              0         \n",
      "                                                                 \n",
      " dropout (Dropout)           (None, 4608)              0         \n",
      "                                                                 \n",
      " dense (Dense)               (None, 256)               1179904   \n",
      "                                                                 \n",
      " dense_1 (Dense)             (None, 4)                 1028      \n",
      "                                                                 \n",
      "=================================================================\n",
      "Total params: 1,627,268\n",
      "Trainable params: 1,627,268\n",
      "Non-trainable params: 0\n",
      "_________________________________________________________________\n"
     ]
    }
   ],
   "source": [
    "model_7.summary()"
   ]
  },
  {
   "cell_type": "code",
   "execution_count": 34,
   "id": "92107b41-cbe9-42f9-b739-9a6a71593994",
   "metadata": {
    "scrolled": true
   },
   "outputs": [
    {
     "name": "stdout",
     "output_type": "stream",
     "text": [
      "Epoch 1/50\n",
      "46/46 [==============================] - 34s 666ms/step - loss: 1.4628 - accuracy: 0.3262 - val_loss: 1.3845 - val_accuracy: 0.2740\n",
      "Epoch 2/50\n",
      "46/46 [==============================] - 31s 669ms/step - loss: 1.2699 - accuracy: 0.3427 - val_loss: 1.2817 - val_accuracy: 0.2740\n",
      "Epoch 3/50\n",
      "46/46 [==============================] - 31s 659ms/step - loss: 1.2576 - accuracy: 0.3599 - val_loss: 1.2136 - val_accuracy: 0.4438\n",
      "Epoch 4/50\n",
      "46/46 [==============================] - 33s 721ms/step - loss: 1.2122 - accuracy: 0.4093 - val_loss: 1.3825 - val_accuracy: 0.4027\n",
      "Epoch 5/50\n",
      "46/46 [==============================] - 34s 740ms/step - loss: 1.1022 - accuracy: 0.5185 - val_loss: 1.0023 - val_accuracy: 0.6137\n",
      "Epoch 6/50\n",
      "46/46 [==============================] - 34s 737ms/step - loss: 1.0252 - accuracy: 0.5900 - val_loss: 1.2591 - val_accuracy: 0.5288\n",
      "Epoch 7/50\n",
      "46/46 [==============================] - 33s 720ms/step - loss: 0.8744 - accuracy: 0.6593 - val_loss: 0.7995 - val_accuracy: 0.6493\n",
      "Epoch 8/50\n",
      "46/46 [==============================] - 34s 740ms/step - loss: 0.8316 - accuracy: 0.6593 - val_loss: 1.2873 - val_accuracy: 0.5589\n",
      "Epoch 9/50\n",
      "46/46 [==============================] - 33s 724ms/step - loss: 0.7684 - accuracy: 0.6868 - val_loss: 0.6612 - val_accuracy: 0.7425\n",
      "Epoch 10/50\n",
      "46/46 [==============================] - 34s 741ms/step - loss: 0.7297 - accuracy: 0.7143 - val_loss: 1.6308 - val_accuracy: 0.5726\n",
      "Epoch 11/50\n",
      "46/46 [==============================] - 33s 710ms/step - loss: 0.6644 - accuracy: 0.7500 - val_loss: 0.7098 - val_accuracy: 0.6630\n",
      "Epoch 12/50\n",
      "46/46 [==============================] - 33s 724ms/step - loss: 0.6830 - accuracy: 0.7486 - val_loss: 0.6108 - val_accuracy: 0.7589\n",
      "Epoch 13/50\n",
      "46/46 [==============================] - 34s 734ms/step - loss: 0.6092 - accuracy: 0.7802 - val_loss: 0.5615 - val_accuracy: 0.7726\n",
      "Epoch 14/50\n",
      "46/46 [==============================] - 33s 708ms/step - loss: 0.5970 - accuracy: 0.7988 - val_loss: 0.9983 - val_accuracy: 0.6247\n",
      "Epoch 15/50\n",
      "46/46 [==============================] - 33s 706ms/step - loss: 0.5492 - accuracy: 0.8104 - val_loss: 1.7379 - val_accuracy: 0.5233\n",
      "Epoch 16/50\n",
      "46/46 [==============================] - 33s 715ms/step - loss: 0.5423 - accuracy: 0.8125 - val_loss: 0.4033 - val_accuracy: 0.8795\n",
      "Epoch 17/50\n",
      "46/46 [==============================] - 33s 712ms/step - loss: 0.5467 - accuracy: 0.8104 - val_loss: 0.5862 - val_accuracy: 0.8055\n",
      "Epoch 18/50\n",
      "46/46 [==============================] - 33s 725ms/step - loss: 0.5409 - accuracy: 0.8098 - val_loss: 0.9874 - val_accuracy: 0.6329\n",
      "Epoch 19/50\n",
      "46/46 [==============================] - 33s 711ms/step - loss: 0.4873 - accuracy: 0.8365 - val_loss: 0.9204 - val_accuracy: 0.7014\n",
      "Epoch 20/50\n",
      "46/46 [==============================] - 33s 710ms/step - loss: 0.5093 - accuracy: 0.8304 - val_loss: 0.5339 - val_accuracy: 0.8164\n",
      "Epoch 21/50\n",
      "46/46 [==============================] - 32s 700ms/step - loss: 0.4435 - accuracy: 0.8448 - val_loss: 0.4739 - val_accuracy: 0.8493\n"
     ]
    }
   ],
   "source": [
    "model_7.compile(loss='categorical_crossentropy', \n",
    "                optimizer='rmsprop', \n",
    "                metrics=['accuracy'])\n",
    "\n",
    "model_7_history = model_7.fit(train_dataset,\n",
    "                              validation_data=val_dataset,\n",
    "                              epochs=50,\n",
    "                              callbacks=[tensorboard(model_7.name), \n",
    "                                         early_stopping, \n",
    "                                         checkpoint])"
   ]
  },
  {
   "cell_type": "code",
   "execution_count": null,
   "id": "6fe05774-bcf2-4a2a-8dd6-c9b4e33324d9",
   "metadata": {},
   "outputs": [],
   "source": []
  }
 ],
 "metadata": {
  "kernelspec": {
   "display_name": "mldl",
   "language": "python",
   "name": "mldl"
  },
  "language_info": {
   "codemirror_mode": {
    "name": "ipython",
    "version": 3
   },
   "file_extension": ".py",
   "mimetype": "text/x-python",
   "name": "python",
   "nbconvert_exporter": "python",
   "pygments_lexer": "ipython3",
   "version": "3.9.2"
  }
 },
 "nbformat": 4,
 "nbformat_minor": 5
}
