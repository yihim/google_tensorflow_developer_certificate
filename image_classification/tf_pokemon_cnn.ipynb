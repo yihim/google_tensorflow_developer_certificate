{
 "cells": [
  {
   "cell_type": "code",
   "execution_count": 1,
   "id": "922e3d1c-0d1e-40d8-8218-d8c7371fbc30",
   "metadata": {},
   "outputs": [],
   "source": [
    "import tensorflow as tf"
   ]
  },
  {
   "cell_type": "code",
   "execution_count": 2,
   "id": "00e7df86-3457-4185-bc7b-a0d1342ba2ad",
   "metadata": {},
   "outputs": [],
   "source": [
    "import pandas as pd\n",
    "import numpy as np\n",
    "import matplotlib.pyplot as plt\n",
    "from tensorflow.keras import layers\n",
    "import os\n",
    "import datetime\n",
    "import shutil"
   ]
  },
  {
   "cell_type": "code",
   "execution_count": 3,
   "id": "873036b7-944c-45b2-804d-869a3034ec48",
   "metadata": {},
   "outputs": [
    {
     "data": {
      "text/html": [
       "<div>\n",
       "<style scoped>\n",
       "    .dataframe tbody tr th:only-of-type {\n",
       "        vertical-align: middle;\n",
       "    }\n",
       "\n",
       "    .dataframe tbody tr th {\n",
       "        vertical-align: top;\n",
       "    }\n",
       "\n",
       "    .dataframe thead th {\n",
       "        text-align: right;\n",
       "    }\n",
       "</style>\n",
       "<table border=\"1\" class=\"dataframe\">\n",
       "  <thead>\n",
       "    <tr style=\"text-align: right;\">\n",
       "      <th></th>\n",
       "      <th>Name</th>\n",
       "      <th>Type1</th>\n",
       "      <th>Type2</th>\n",
       "    </tr>\n",
       "  </thead>\n",
       "  <tbody>\n",
       "    <tr>\n",
       "      <th>0</th>\n",
       "      <td>bulbasaur</td>\n",
       "      <td>Grass</td>\n",
       "      <td>Poison</td>\n",
       "    </tr>\n",
       "    <tr>\n",
       "      <th>1</th>\n",
       "      <td>ivysaur</td>\n",
       "      <td>Grass</td>\n",
       "      <td>Poison</td>\n",
       "    </tr>\n",
       "    <tr>\n",
       "      <th>2</th>\n",
       "      <td>venusaur</td>\n",
       "      <td>Grass</td>\n",
       "      <td>Poison</td>\n",
       "    </tr>\n",
       "    <tr>\n",
       "      <th>3</th>\n",
       "      <td>charmander</td>\n",
       "      <td>Fire</td>\n",
       "      <td>NaN</td>\n",
       "    </tr>\n",
       "    <tr>\n",
       "      <th>4</th>\n",
       "      <td>charmeleon</td>\n",
       "      <td>Fire</td>\n",
       "      <td>NaN</td>\n",
       "    </tr>\n",
       "  </tbody>\n",
       "</table>\n",
       "</div>"
      ],
      "text/plain": [
       "         Name  Type1   Type2\n",
       "0   bulbasaur  Grass  Poison\n",
       "1     ivysaur  Grass  Poison\n",
       "2    venusaur  Grass  Poison\n",
       "3  charmander   Fire     NaN\n",
       "4  charmeleon   Fire     NaN"
      ]
     },
     "execution_count": 3,
     "metadata": {},
     "output_type": "execute_result"
    }
   ],
   "source": [
    "train_data = pd.read_csv(\"dataset/image_classification/pokemon/pokemon.csv\")\n",
    "train_data.head()"
   ]
  },
  {
   "cell_type": "code",
   "execution_count": 4,
   "id": "97679508-0809-40dc-9bc3-b509be3d0592",
   "metadata": {},
   "outputs": [
    {
     "data": {
      "text/plain": [
       "Name       0\n",
       "Type1      0\n",
       "Type2    404\n",
       "dtype: int64"
      ]
     },
     "execution_count": 4,
     "metadata": {},
     "output_type": "execute_result"
    }
   ],
   "source": [
    "train_data.isna().sum()"
   ]
  },
  {
   "cell_type": "code",
   "execution_count": 5,
   "id": "9440a923-e838-4fd1-8c43-785f91da2137",
   "metadata": {},
   "outputs": [],
   "source": [
    "train_data.drop(\"Type2\", axis = 1, inplace=True)"
   ]
  },
  {
   "cell_type": "code",
   "execution_count": 6,
   "id": "4a2a64f2-5bf2-438d-bd2a-bde7cd6976c7",
   "metadata": {},
   "outputs": [
    {
     "data": {
      "text/plain": [
       "Type1\n",
       "Water    114\n",
       "Grass     78\n",
       "Fire      53\n",
       "Name: count, dtype: int64"
      ]
     },
     "execution_count": 6,
     "metadata": {},
     "output_type": "execute_result"
    }
   ],
   "source": [
    "types_to_keep = [\"Grass\", \"Fire\", \"Water\"]\n",
    "train_data = train_data[train_data[\"Type1\"].isin(types_to_keep)]\n",
    "train_data[\"Type1\"].value_counts()"
   ]
  },
  {
   "cell_type": "code",
   "execution_count": 7,
   "id": "290675ff-7bac-4d4e-9b1f-8cf22b765617",
   "metadata": {},
   "outputs": [
    {
     "data": {
      "text/html": [
       "<div>\n",
       "<style scoped>\n",
       "    .dataframe tbody tr th:only-of-type {\n",
       "        vertical-align: middle;\n",
       "    }\n",
       "\n",
       "    .dataframe tbody tr th {\n",
       "        vertical-align: top;\n",
       "    }\n",
       "\n",
       "    .dataframe thead th {\n",
       "        text-align: right;\n",
       "    }\n",
       "</style>\n",
       "<table border=\"1\" class=\"dataframe\">\n",
       "  <thead>\n",
       "    <tr style=\"text-align: right;\">\n",
       "      <th></th>\n",
       "      <th>Name</th>\n",
       "      <th>Type1</th>\n",
       "    </tr>\n",
       "  </thead>\n",
       "  <tbody>\n",
       "    <tr>\n",
       "      <th>0</th>\n",
       "      <td>bulbasaur</td>\n",
       "      <td>Grass</td>\n",
       "    </tr>\n",
       "    <tr>\n",
       "      <th>1</th>\n",
       "      <td>ivysaur</td>\n",
       "      <td>Grass</td>\n",
       "    </tr>\n",
       "    <tr>\n",
       "      <th>2</th>\n",
       "      <td>venusaur</td>\n",
       "      <td>Grass</td>\n",
       "    </tr>\n",
       "    <tr>\n",
       "      <th>3</th>\n",
       "      <td>charmander</td>\n",
       "      <td>Fire</td>\n",
       "    </tr>\n",
       "    <tr>\n",
       "      <th>4</th>\n",
       "      <td>charmeleon</td>\n",
       "      <td>Fire</td>\n",
       "    </tr>\n",
       "  </tbody>\n",
       "</table>\n",
       "</div>"
      ],
      "text/plain": [
       "         Name  Type1\n",
       "0   bulbasaur  Grass\n",
       "1     ivysaur  Grass\n",
       "2    venusaur  Grass\n",
       "3  charmander   Fire\n",
       "4  charmeleon   Fire"
      ]
     },
     "execution_count": 7,
     "metadata": {},
     "output_type": "execute_result"
    }
   ],
   "source": [
    "train_data.head()"
   ]
  },
  {
   "cell_type": "code",
   "execution_count": 8,
   "id": "67adc9ac-d390-4230-85c9-b1ad9ebf138b",
   "metadata": {},
   "outputs": [],
   "source": [
    "class_name = train_data.Type1.unique()"
   ]
  },
  {
   "cell_type": "code",
   "execution_count": 9,
   "id": "92e98a91-d306-4ea2-8b8d-7857fa421107",
   "metadata": {},
   "outputs": [
    {
     "data": {
      "text/plain": [
       "3"
      ]
     },
     "execution_count": 9,
     "metadata": {},
     "output_type": "execute_result"
    }
   ],
   "source": [
    "len(class_name)"
   ]
  },
  {
   "cell_type": "code",
   "execution_count": 10,
   "id": "30006561-c87f-4f0a-9c4e-a783573ff959",
   "metadata": {},
   "outputs": [],
   "source": [
    "img = train_data[\"Name\"].to_numpy()\n",
    "labels = np.array(pd.factorize(train_data[\"Type1\"])[0])"
   ]
  },
  {
   "cell_type": "code",
   "execution_count": 11,
   "id": "d85c0076-60c5-4010-b91f-33ae303566a8",
   "metadata": {},
   "outputs": [],
   "source": [
    "img_path = \"dataset/image_classification/pokemon/images/images/\""
   ]
  },
  {
   "cell_type": "code",
   "execution_count": 12,
   "id": "5f8947d9-e6d9-439e-83e1-15980ec33328",
   "metadata": {
    "scrolled": true
   },
   "outputs": [
    {
     "data": {
      "text/plain": [
       "['abomasnow.png',\n",
       " 'abra.png',\n",
       " 'absol.png',\n",
       " 'accelgor.png',\n",
       " 'aegislash-blade.png',\n",
       " 'aerodactyl.png',\n",
       " 'aggron.png',\n",
       " 'aipom.png',\n",
       " 'alakazam.png',\n",
       " 'alomomola.png',\n",
       " 'altaria.png',\n",
       " 'amaura.png',\n",
       " 'ambipom.png',\n",
       " 'amoonguss.png',\n",
       " 'ampharos.png',\n",
       " 'anorith.png',\n",
       " 'araquanid.jpg',\n",
       " 'arbok.png',\n",
       " 'arcanine.png',\n",
       " 'arceus.png',\n",
       " 'archen.png',\n",
       " 'archeops.png',\n",
       " 'ariados.png',\n",
       " 'armaldo.png',\n",
       " 'aromatisse.png',\n",
       " 'aron.png',\n",
       " 'articuno.png',\n",
       " 'audino.png',\n",
       " 'aurorus.png',\n",
       " 'avalugg.png',\n",
       " 'axew.png',\n",
       " 'azelf.png',\n",
       " 'azumarill.png',\n",
       " 'azurill.png',\n",
       " 'bagon.png',\n",
       " 'baltoy.png',\n",
       " 'banette.png',\n",
       " 'barbaracle.png',\n",
       " 'barboach.png',\n",
       " 'basculin-red-striped.png',\n",
       " 'bastiodon.png',\n",
       " 'bayleef.png',\n",
       " 'beartic.png',\n",
       " 'beautifly.png',\n",
       " 'beedrill.png',\n",
       " 'beheeyem.png',\n",
       " 'beldum.png',\n",
       " 'bellossom.png',\n",
       " 'bellsprout.png',\n",
       " 'bergmite.png',\n",
       " 'bewear.jpg',\n",
       " 'bibarel.png',\n",
       " 'bidoof.png',\n",
       " 'binacle.png',\n",
       " 'bisharp.png',\n",
       " 'blacephalon.jpg',\n",
       " 'blastoise.png',\n",
       " 'blaziken.png',\n",
       " 'blissey.png',\n",
       " 'blitzle.png',\n",
       " 'boldore.png',\n",
       " 'bonsly.png',\n",
       " 'bouffalant.png',\n",
       " 'bounsweet.jpg',\n",
       " 'braixen.png',\n",
       " 'braviary.png',\n",
       " 'breloom.png',\n",
       " 'brionne.jpg',\n",
       " 'bronzong.png',\n",
       " 'bronzor.png',\n",
       " 'bruxish.jpg',\n",
       " 'budew.png',\n",
       " 'buizel.png',\n",
       " 'bulbasaur.png',\n",
       " 'buneary.png',\n",
       " 'bunnelby.png',\n",
       " 'burmy.png',\n",
       " 'butterfree.png',\n",
       " 'buzzwole.jpg',\n",
       " 'cacnea.png',\n",
       " 'cacturne.png',\n",
       " 'camerupt.png',\n",
       " 'carbink.png',\n",
       " 'carnivine.png',\n",
       " 'carracosta.png',\n",
       " 'carvanha.png',\n",
       " 'cascoon.png',\n",
       " 'castform.png',\n",
       " 'caterpie.png',\n",
       " 'celebi.png',\n",
       " 'celesteela.jpg',\n",
       " 'chandelure.png',\n",
       " 'chansey.png',\n",
       " 'charizard.png',\n",
       " 'charjabug.jpg',\n",
       " 'charmander.png',\n",
       " 'charmeleon.png',\n",
       " 'chatot.png',\n",
       " 'cherrim.png',\n",
       " 'cherubi.png',\n",
       " 'chesnaught.png',\n",
       " 'chespin.png',\n",
       " 'chikorita.png',\n",
       " 'chimchar.png',\n",
       " 'chimecho.png',\n",
       " 'chinchou.png',\n",
       " 'chingling.png',\n",
       " 'cinccino.png',\n",
       " 'clamperl.png',\n",
       " 'clauncher.png',\n",
       " 'clawitzer.png',\n",
       " 'claydol.png',\n",
       " 'clefable.png',\n",
       " 'clefairy.png',\n",
       " 'cleffa.png',\n",
       " 'cloyster.png',\n",
       " 'cobalion.png',\n",
       " 'cofagrigus.png',\n",
       " 'combee.png',\n",
       " 'combusken.png',\n",
       " 'comfey.jpg',\n",
       " 'conkeldurr.png',\n",
       " 'corphish.png',\n",
       " 'corsola.png',\n",
       " 'cosmoem.jpg',\n",
       " 'cosmog.jpg',\n",
       " 'cottonee.png',\n",
       " 'crabominable.jpg',\n",
       " 'crabrawler.jpg',\n",
       " 'cradily.png',\n",
       " 'cranidos.png',\n",
       " 'crawdaunt.png',\n",
       " 'cresselia.png',\n",
       " 'croagunk.png',\n",
       " 'crobat.png',\n",
       " 'croconaw.png',\n",
       " 'crustle.png',\n",
       " 'cryogonal.png',\n",
       " 'cubchoo.png',\n",
       " 'cubone.png',\n",
       " 'cutiefly.jpg',\n",
       " 'cyndaquil.png',\n",
       " 'darkrai.png',\n",
       " 'darmanitan-standard.png',\n",
       " 'dartrix.jpg',\n",
       " 'darumaka.png',\n",
       " 'decidueye.jpg',\n",
       " 'dedenne.png',\n",
       " 'deerling.png',\n",
       " 'deino.png',\n",
       " 'delcatty.png',\n",
       " 'delibird.png',\n",
       " 'delphox.png',\n",
       " 'deoxys-normal.png',\n",
       " 'dewgong.png',\n",
       " 'dewott.png',\n",
       " 'dewpider.jpg',\n",
       " 'dhelmise.jpg',\n",
       " 'dialga.png',\n",
       " 'diancie.png',\n",
       " 'diggersby.png',\n",
       " 'diglett.png',\n",
       " 'ditto.png',\n",
       " 'dodrio.png',\n",
       " 'doduo.png',\n",
       " 'donphan.png',\n",
       " 'doublade.png',\n",
       " 'dragalge.png',\n",
       " 'dragonair.png',\n",
       " 'dragonite.png',\n",
       " 'drampa.jpg',\n",
       " 'drapion.png',\n",
       " 'dratini.png',\n",
       " 'drifblim.png',\n",
       " 'drifloon.png',\n",
       " 'drilbur.png',\n",
       " 'drowzee.png',\n",
       " 'druddigon.png',\n",
       " 'ducklett.png',\n",
       " 'dugtrio.png',\n",
       " 'dunsparce.png',\n",
       " 'duosion.png',\n",
       " 'durant.png',\n",
       " 'dusclops.png',\n",
       " 'dusknoir.png',\n",
       " 'duskull.png',\n",
       " 'dustox.png',\n",
       " 'dwebble.png',\n",
       " 'eelektrik.png',\n",
       " 'eelektross.png',\n",
       " 'eevee.png',\n",
       " 'ekans.png',\n",
       " 'electabuzz.png',\n",
       " 'electivire.png',\n",
       " 'electrike.png',\n",
       " 'electrode.png',\n",
       " 'elekid.png',\n",
       " 'elgyem.png',\n",
       " 'emboar.png',\n",
       " 'emolga.png',\n",
       " 'empoleon.png',\n",
       " 'entei.png',\n",
       " 'escavalier.png',\n",
       " 'espeon.png',\n",
       " 'espurr.png',\n",
       " 'excadrill.png',\n",
       " 'exeggcute.png',\n",
       " 'exeggutor.png',\n",
       " 'exploud.png',\n",
       " 'farfetchd.png',\n",
       " 'fearow.png',\n",
       " 'feebas.png',\n",
       " 'fennekin.png',\n",
       " 'feraligatr.png',\n",
       " 'ferroseed.png',\n",
       " 'ferrothorn.png',\n",
       " 'finneon.png',\n",
       " 'flaaffy.png',\n",
       " 'flabebe.png',\n",
       " 'flareon.png',\n",
       " 'fletchinder.png',\n",
       " 'fletchling.png',\n",
       " 'floatzel.png',\n",
       " 'floette.png',\n",
       " 'florges.png',\n",
       " 'flygon.png',\n",
       " 'fomantis.jpg',\n",
       " 'foongus.png',\n",
       " 'forretress.png',\n",
       " 'fraxure.png',\n",
       " 'frillish.png',\n",
       " 'froakie.png',\n",
       " 'frogadier.png',\n",
       " 'froslass.png',\n",
       " 'furfrou.png',\n",
       " 'furret.png',\n",
       " 'gabite.png',\n",
       " 'gallade.png',\n",
       " 'galvantula.png',\n",
       " 'garbodor.png',\n",
       " 'garchomp.png',\n",
       " 'gardevoir.png',\n",
       " 'gastly.png',\n",
       " 'gastrodon.png',\n",
       " 'genesect.png',\n",
       " 'gengar.png',\n",
       " 'geodude.png',\n",
       " 'gible.png',\n",
       " 'gigalith.png',\n",
       " 'girafarig.png',\n",
       " 'giratina-altered.png',\n",
       " 'glaceon.png',\n",
       " 'glalie.png',\n",
       " 'glameow.png',\n",
       " 'gligar.png',\n",
       " 'gliscor.png',\n",
       " 'gloom.png',\n",
       " 'gogoat.png',\n",
       " 'golbat.png',\n",
       " 'goldeen.png',\n",
       " 'golduck.png',\n",
       " 'golem.png',\n",
       " 'golett.png',\n",
       " 'golisopod.jpg',\n",
       " 'golurk.png',\n",
       " 'goodra.png',\n",
       " 'goomy.png',\n",
       " 'gorebyss.png',\n",
       " 'gothita.png',\n",
       " 'gothitelle.png',\n",
       " 'gothorita.png',\n",
       " 'gourgeist-average.png',\n",
       " 'granbull.png',\n",
       " 'graveler.png',\n",
       " 'greninja.png',\n",
       " 'grimer.png',\n",
       " 'grotle.png',\n",
       " 'groudon.png',\n",
       " 'grovyle.png',\n",
       " 'growlithe.png',\n",
       " 'grubbin.jpg',\n",
       " 'grumpig.png',\n",
       " 'gulpin.png',\n",
       " 'gumshoos.jpg',\n",
       " 'gurdurr.png',\n",
       " 'guzzlord.jpg',\n",
       " 'gyarados.png',\n",
       " 'hakamo-o.jpg',\n",
       " 'happiny.png',\n",
       " 'hariyama.png',\n",
       " 'haunter.png',\n",
       " 'hawlucha.png',\n",
       " 'haxorus.png',\n",
       " 'heatmor.png',\n",
       " 'heatran.png',\n",
       " 'heliolisk.png',\n",
       " 'helioptile.png',\n",
       " 'heracross.png',\n",
       " 'herdier.png',\n",
       " 'hippopotas.png',\n",
       " 'hippowdon.png',\n",
       " 'hitmonchan.png',\n",
       " 'hitmonlee.png',\n",
       " 'hitmontop.png',\n",
       " 'ho-oh.png',\n",
       " 'honchkrow.png',\n",
       " 'honedge.png',\n",
       " 'hoopa-confined.png',\n",
       " 'hoothoot.png',\n",
       " 'hoppip.png',\n",
       " 'horsea.png',\n",
       " 'houndoom.png',\n",
       " 'houndour.png',\n",
       " 'huntail.png',\n",
       " 'hydreigon.png',\n",
       " 'hypno.png',\n",
       " 'igglybuff.png',\n",
       " 'illumise.png',\n",
       " 'incineroar.jpg',\n",
       " 'infernape.png',\n",
       " 'inkay.png',\n",
       " 'ivysaur.png',\n",
       " 'jangmo-o.jpg',\n",
       " 'jellicent.png',\n",
       " 'jigglypuff.png',\n",
       " 'jirachi.png',\n",
       " 'jolteon.png',\n",
       " 'joltik.png',\n",
       " 'jumpluff.png',\n",
       " 'jynx.png',\n",
       " 'kabuto.png',\n",
       " 'kabutops.png',\n",
       " 'kadabra.png',\n",
       " 'kakuna.png',\n",
       " 'kangaskhan.png',\n",
       " 'karrablast.png',\n",
       " 'kartana.jpg',\n",
       " 'kecleon.png',\n",
       " 'keldeo-ordinary.png',\n",
       " 'kingdra.png',\n",
       " 'kingler.png',\n",
       " 'kirlia.png',\n",
       " 'klang.png',\n",
       " 'klefki.png',\n",
       " 'klink.png',\n",
       " 'klinklang.png',\n",
       " 'koffing.png',\n",
       " 'komala.jpg',\n",
       " 'kommo-o.jpg',\n",
       " 'krabby.png',\n",
       " 'kricketot.png',\n",
       " 'kricketune.png',\n",
       " 'krokorok.png',\n",
       " 'krookodile.png',\n",
       " 'kyogre.png',\n",
       " 'kyurem.png',\n",
       " 'lairon.png',\n",
       " 'lampent.png',\n",
       " 'landorus-incarnate.png',\n",
       " 'lanturn.png',\n",
       " 'lapras.png',\n",
       " 'larvesta.png',\n",
       " 'larvitar.png',\n",
       " 'latias.png',\n",
       " 'latios.png',\n",
       " 'leafeon.png',\n",
       " 'leavanny.png',\n",
       " 'ledian.png',\n",
       " 'ledyba.png',\n",
       " 'lickilicky.png',\n",
       " 'lickitung.png',\n",
       " 'liepard.png',\n",
       " 'lileep.png',\n",
       " 'lilligant.png',\n",
       " 'lillipup.png',\n",
       " 'linoone.png',\n",
       " 'litleo.png',\n",
       " 'litten.jpg',\n",
       " 'litwick.png',\n",
       " 'lombre.png',\n",
       " 'lopunny.png',\n",
       " 'lotad.png',\n",
       " 'loudred.png',\n",
       " 'lucario.png',\n",
       " 'ludicolo.png',\n",
       " 'lugia.png',\n",
       " 'lumineon.png',\n",
       " 'lunala.jpg',\n",
       " 'lunatone.png',\n",
       " 'lurantis.jpg',\n",
       " 'luvdisc.png',\n",
       " 'luxio.png',\n",
       " 'luxray.png',\n",
       " 'lycanroc-midday.jpg',\n",
       " 'machamp.png',\n",
       " 'machoke.png',\n",
       " 'machop.png',\n",
       " 'magby.png',\n",
       " 'magcargo.png',\n",
       " 'magearna.jpg',\n",
       " 'magikarp.png',\n",
       " 'magmar.png',\n",
       " 'magmortar.png',\n",
       " 'magnemite.png',\n",
       " 'magneton.png',\n",
       " 'magnezone.png',\n",
       " 'makuhita.png',\n",
       " 'malamar.png',\n",
       " 'mamoswine.png',\n",
       " 'manaphy.png',\n",
       " 'mandibuzz.png',\n",
       " 'manectric.png',\n",
       " 'mankey.png',\n",
       " 'mantine.png',\n",
       " 'mantyke.png',\n",
       " 'maractus.png',\n",
       " 'mareanie.jpg',\n",
       " 'mareep.png',\n",
       " 'marill.png',\n",
       " 'marowak.png',\n",
       " 'marshadow.jpg',\n",
       " 'marshtomp.png',\n",
       " 'masquerain.png',\n",
       " 'mawile.png',\n",
       " 'medicham.png',\n",
       " 'meditite.png',\n",
       " 'meganium.png',\n",
       " 'melmetal.jpg',\n",
       " 'meloetta-aria.png',\n",
       " 'meltan.jpg',\n",
       " 'meowstic-male.png',\n",
       " 'meowth.png',\n",
       " 'mesprit.png',\n",
       " 'metagross.png',\n",
       " 'metang.png',\n",
       " 'metapod.png',\n",
       " 'mew.png',\n",
       " 'mewtwo.png',\n",
       " 'mienfoo.png',\n",
       " 'mienshao.png',\n",
       " 'mightyena.png',\n",
       " 'milotic.png',\n",
       " 'miltank.png',\n",
       " 'mime-jr.png',\n",
       " 'mimikyu.jpg',\n",
       " 'minccino.png',\n",
       " 'minior-meteor.jpg',\n",
       " 'minun.png',\n",
       " 'misdreavus.png',\n",
       " 'mismagius.png',\n",
       " 'moltres.png',\n",
       " 'monferno.png',\n",
       " 'morelull.jpg',\n",
       " 'mothim.png',\n",
       " 'mr-mime.png',\n",
       " 'mudbray.jpg',\n",
       " 'mudkip.png',\n",
       " 'mudsdale.jpg',\n",
       " 'muk.png',\n",
       " 'munchlax.png',\n",
       " 'munna.png',\n",
       " 'murkrow.png',\n",
       " 'musharna.png',\n",
       " 'naganadel.jpg',\n",
       " 'natu.png',\n",
       " 'necrozma.jpg',\n",
       " 'nidoking.png',\n",
       " 'nidoqueen.png',\n",
       " 'nidoran-f.png',\n",
       " 'nidoran-m.png',\n",
       " 'nidorina.png',\n",
       " 'nidorino.png',\n",
       " 'nihilego.jpg',\n",
       " 'nincada.png',\n",
       " 'ninetales.png',\n",
       " 'ninjask.png',\n",
       " 'noctowl.png',\n",
       " 'noibat.png',\n",
       " 'noivern.png',\n",
       " 'nosepass.png',\n",
       " 'numel.png',\n",
       " 'nuzleaf.png',\n",
       " 'octillery.png',\n",
       " 'oddish.png',\n",
       " 'omanyte.png',\n",
       " 'omastar.png',\n",
       " 'onix.png',\n",
       " 'oranguru.jpg',\n",
       " 'oricorio-baile.jpg',\n",
       " 'oshawott.png',\n",
       " 'pachirisu.png',\n",
       " 'palkia.png',\n",
       " 'palossand.jpg',\n",
       " 'palpitoad.png',\n",
       " 'pancham.png',\n",
       " 'pangoro.png',\n",
       " 'panpour.png',\n",
       " 'pansage.png',\n",
       " 'pansear.png',\n",
       " 'paras.png',\n",
       " 'parasect.png',\n",
       " 'passimian.jpg',\n",
       " 'patrat.png',\n",
       " 'pawniard.png',\n",
       " 'pelipper.png',\n",
       " 'persian.png',\n",
       " 'petilil.png',\n",
       " 'phanpy.png',\n",
       " 'phantump.png',\n",
       " 'pheromosa.jpg',\n",
       " 'phione.png',\n",
       " 'pichu.png',\n",
       " 'pidgeot.png',\n",
       " 'pidgeotto.png',\n",
       " 'pidgey.png',\n",
       " 'pidove.png',\n",
       " 'pignite.png',\n",
       " 'pikachu.png',\n",
       " 'pikipek.jpg',\n",
       " 'piloswine.png',\n",
       " 'pineco.png',\n",
       " 'pinsir.png',\n",
       " 'piplup.png',\n",
       " 'plusle.png',\n",
       " 'poipole.jpg',\n",
       " 'politoed.png',\n",
       " 'poliwag.png',\n",
       " 'poliwhirl.png',\n",
       " 'poliwrath.png',\n",
       " 'ponyta.png',\n",
       " 'poochyena.png',\n",
       " 'popplio.jpg',\n",
       " 'porygon-z.png',\n",
       " 'porygon.png',\n",
       " 'porygon2.png',\n",
       " 'primarina.jpg',\n",
       " 'primeape.png',\n",
       " 'prinplup.png',\n",
       " 'probopass.png',\n",
       " 'psyduck.png',\n",
       " 'pumpkaboo-average.png',\n",
       " 'pupitar.png',\n",
       " 'purrloin.png',\n",
       " 'purugly.png',\n",
       " 'pyroar.png',\n",
       " 'pyukumuku.jpg',\n",
       " 'quagsire.png',\n",
       " 'quilava.png',\n",
       " 'quilladin.png',\n",
       " 'qwilfish.png',\n",
       " 'raichu.png',\n",
       " 'raikou.png',\n",
       " 'ralts.png',\n",
       " 'rampardos.png',\n",
       " 'rapidash.png',\n",
       " 'raticate.png',\n",
       " 'rattata.png',\n",
       " 'rayquaza.png',\n",
       " 'regice.png',\n",
       " 'regigigas.png',\n",
       " 'regirock.png',\n",
       " 'registeel.png',\n",
       " 'relicanth.png',\n",
       " 'remoraid.png',\n",
       " 'reshiram.png',\n",
       " 'reuniclus.png',\n",
       " 'rhydon.png',\n",
       " 'rhyhorn.png',\n",
       " 'rhyperior.png',\n",
       " 'ribombee.jpg',\n",
       " 'riolu.png',\n",
       " 'rockruff.jpg',\n",
       " 'roggenrola.png',\n",
       " 'roselia.png',\n",
       " 'roserade.png',\n",
       " 'rotom.png',\n",
       " 'rowlet.jpg',\n",
       " 'rufflet.png',\n",
       " 'sableye.png',\n",
       " 'salamence.png',\n",
       " 'salandit.jpg',\n",
       " 'salazzle.jpg',\n",
       " 'samurott.png',\n",
       " 'sandile.png',\n",
       " 'sandshrew.png',\n",
       " 'sandslash.png',\n",
       " 'sandygast.jpg',\n",
       " 'sawk.png',\n",
       " 'sawsbuck.png',\n",
       " 'scatterbug.png',\n",
       " 'sceptile.png',\n",
       " 'scizor.png',\n",
       " 'scolipede.png',\n",
       " 'scrafty.png',\n",
       " 'scraggy.png',\n",
       " 'scyther.png',\n",
       " 'seadra.png',\n",
       " 'seaking.png',\n",
       " 'sealeo.png',\n",
       " 'seedot.png',\n",
       " 'seel.png',\n",
       " 'seismitoad.png',\n",
       " 'sentret.png',\n",
       " 'serperior.png',\n",
       " 'servine.png',\n",
       " 'seviper.png',\n",
       " 'sewaddle.png',\n",
       " 'sharpedo.png',\n",
       " 'shaymin-land.png',\n",
       " 'shedinja.png',\n",
       " 'shelgon.png',\n",
       " 'shellder.png',\n",
       " 'shellos.png',\n",
       " 'shelmet.png',\n",
       " 'shieldon.png',\n",
       " 'shiftry.png',\n",
       " 'shiinotic.jpg',\n",
       " 'shinx.png',\n",
       " 'shroomish.png',\n",
       " 'shuckle.png',\n",
       " 'shuppet.png',\n",
       " 'sigilyph.png',\n",
       " 'silcoon.png',\n",
       " 'silvally.jpg',\n",
       " 'simipour.png',\n",
       " 'simisage.png',\n",
       " 'simisear.png',\n",
       " 'skarmory.png',\n",
       " 'skiddo.png',\n",
       " 'skiploom.png',\n",
       " 'skitty.png',\n",
       " 'skorupi.png',\n",
       " 'skrelp.png',\n",
       " 'skuntank.png',\n",
       " 'slaking.png',\n",
       " 'slakoth.png',\n",
       " 'sliggoo.png',\n",
       " 'slowbro.png',\n",
       " 'slowking.png',\n",
       " 'slowpoke.png',\n",
       " 'slugma.png',\n",
       " 'slurpuff.png',\n",
       " 'smeargle.png',\n",
       " 'smoochum.png',\n",
       " 'sneasel.png',\n",
       " 'snivy.png',\n",
       " 'snorlax.png',\n",
       " 'snorunt.png',\n",
       " 'snover.png',\n",
       " 'snubbull.png',\n",
       " 'solgaleo.jpg',\n",
       " 'solosis.png',\n",
       " 'solrock.png',\n",
       " 'spearow.png',\n",
       " 'spewpa.png',\n",
       " 'spheal.png',\n",
       " 'spinarak.png',\n",
       " 'spinda.png',\n",
       " 'spiritomb.png',\n",
       " 'spoink.png',\n",
       " 'spritzee.png',\n",
       " 'squirtle.png',\n",
       " 'stakataka.jpg',\n",
       " 'stantler.png',\n",
       " 'staraptor.png',\n",
       " 'staravia.png',\n",
       " 'starly.png',\n",
       " 'starmie.png',\n",
       " 'staryu.png',\n",
       " 'steelix.png',\n",
       " 'steenee.jpg',\n",
       " 'stoutland.png',\n",
       " 'stufful.jpg',\n",
       " 'stunfisk.png',\n",
       " 'stunky.png',\n",
       " 'sudowoodo.png',\n",
       " 'suicune.png',\n",
       " 'sunflora.png',\n",
       " 'sunkern.png',\n",
       " 'surskit.png',\n",
       " 'swablu.png',\n",
       " 'swadloon.png',\n",
       " 'swalot.png',\n",
       " 'swampert.png',\n",
       " 'swanna.png',\n",
       " 'swellow.png',\n",
       " 'swinub.png',\n",
       " 'swirlix.png',\n",
       " 'swoobat.png',\n",
       " 'sylveon.png',\n",
       " 'taillow.png',\n",
       " 'talonflame.png',\n",
       " 'tangela.png',\n",
       " 'tangrowth.png',\n",
       " 'tapu-bulu.jpg',\n",
       " 'tapu-fini.jpg',\n",
       " 'tapu-koko.jpg',\n",
       " 'tapu-lele.jpg',\n",
       " 'tauros.png',\n",
       " 'teddiursa.png',\n",
       " 'tentacool.png',\n",
       " 'tentacruel.png',\n",
       " 'tepig.png',\n",
       " 'terrakion.png',\n",
       " 'throh.png',\n",
       " 'thundurus-incarnate.png',\n",
       " 'timburr.png',\n",
       " 'tirtouga.png',\n",
       " 'togedemaru.jpg',\n",
       " 'togekiss.png',\n",
       " 'togepi.png',\n",
       " 'togetic.png',\n",
       " 'torchic.png',\n",
       " 'torkoal.png',\n",
       " 'tornadus-incarnate.png',\n",
       " 'torracat.jpg',\n",
       " 'torterra.png',\n",
       " 'totodile.png',\n",
       " 'toucannon.jpg',\n",
       " 'toxapex.jpg',\n",
       " 'toxicroak.png',\n",
       " 'tranquill.png',\n",
       " 'trapinch.png',\n",
       " 'treecko.png',\n",
       " 'trevenant.png',\n",
       " 'tropius.png',\n",
       " 'trubbish.png',\n",
       " 'trumbeak.jpg',\n",
       " 'tsareena.jpg',\n",
       " 'turtonator.jpg',\n",
       " 'turtwig.png',\n",
       " 'tympole.png',\n",
       " 'tynamo.png',\n",
       " 'type-null.jpg',\n",
       " 'typhlosion.png',\n",
       " 'tyranitar.png',\n",
       " 'tyrantrum.png',\n",
       " 'tyrogue.png',\n",
       " 'tyrunt.png',\n",
       " 'umbreon.png',\n",
       " 'unfezant.png',\n",
       " 'unown.png',\n",
       " 'ursaring.png',\n",
       " 'uxie.png',\n",
       " 'vanillish.png',\n",
       " 'vanillite.png',\n",
       " 'vanilluxe.png',\n",
       " 'vaporeon.png',\n",
       " 'venipede.png',\n",
       " 'venomoth.png',\n",
       " 'venonat.png',\n",
       " 'venusaur.png',\n",
       " 'vespiquen.png',\n",
       " 'vibrava.png',\n",
       " 'victini.png',\n",
       " 'victreebel.png',\n",
       " 'vigoroth.png',\n",
       " 'vikavolt.jpg',\n",
       " 'vileplume.png',\n",
       " 'virizion.png',\n",
       " 'vivillon.png',\n",
       " 'volbeat.png',\n",
       " 'volcanion.png',\n",
       " 'volcarona.png',\n",
       " 'voltorb.png',\n",
       " 'vullaby.png',\n",
       " 'vulpix.png',\n",
       " 'wailmer.png',\n",
       " 'wailord.png',\n",
       " 'walrein.png',\n",
       " 'wartortle.png',\n",
       " 'watchog.png',\n",
       " 'weavile.png',\n",
       " 'weedle.png',\n",
       " 'weepinbell.png',\n",
       " 'weezing.png',\n",
       " 'whimsicott.png',\n",
       " 'whirlipede.png',\n",
       " 'whiscash.png',\n",
       " 'whismur.png',\n",
       " 'wigglytuff.png',\n",
       " 'wimpod.jpg',\n",
       " 'wingull.png',\n",
       " 'wishiwashi-solo.jpg',\n",
       " 'wobbuffet.png',\n",
       " 'woobat.png',\n",
       " 'wooper.png',\n",
       " 'wormadam-plant.png',\n",
       " 'wurmple.png',\n",
       " 'wynaut.png',\n",
       " 'xatu.png',\n",
       " 'xerneas.png',\n",
       " 'xurkitree.jpg',\n",
       " 'yamask.png',\n",
       " 'yanma.png',\n",
       " 'yanmega.png',\n",
       " 'yungoos.jpg',\n",
       " 'yveltal.png',\n",
       " 'zangoose.png',\n",
       " 'zapdos.png',\n",
       " 'zebstrika.png',\n",
       " 'zekrom.png',\n",
       " 'zeraora.jpg',\n",
       " 'zigzagoon.png',\n",
       " 'zoroark.png',\n",
       " 'zorua.png',\n",
       " 'zubat.png',\n",
       " 'zweilous.png',\n",
       " 'zygarde-50.png']"
      ]
     },
     "execution_count": 12,
     "metadata": {},
     "output_type": "execute_result"
    }
   ],
   "source": [
    "filenames = os.listdir(img_path)\n",
    "filenames"
   ]
  },
  {
   "cell_type": "code",
   "execution_count": 13,
   "id": "0f0ac397-3caa-4764-8de2-bb48db6ce9bb",
   "metadata": {},
   "outputs": [
    {
     "data": {
      "text/plain": [
       "'abomasnow'"
      ]
     },
     "execution_count": 13,
     "metadata": {},
     "output_type": "execute_result"
    }
   ],
   "source": [
    "filenames[0].split(\".\")[0]"
   ]
  },
  {
   "cell_type": "code",
   "execution_count": 14,
   "id": "c2aeec9d-84bf-4e61-9105-98be4db34a0f",
   "metadata": {},
   "outputs": [],
   "source": [
    "img_filepath = []\n",
    "for i in img:\n",
    "    for filename in os.listdir(img_path):\n",
    "        if i == filename.split(\".\")[0]:\n",
    "            img_filepath.append(os.path.join(img_path, filename))"
   ]
  },
  {
   "cell_type": "code",
   "execution_count": 15,
   "id": "588431c4-9058-4fbb-a9ec-3db8d03d6cb0",
   "metadata": {},
   "outputs": [
    {
     "data": {
      "text/plain": [
       "'dataset/image_classification/pokemon/images/images/bulbasaur.png'"
      ]
     },
     "execution_count": 15,
     "metadata": {},
     "output_type": "execute_result"
    }
   ],
   "source": [
    "img_filepath[0]"
   ]
  },
  {
   "cell_type": "code",
   "execution_count": 16,
   "id": "9e719650-fa93-4a21-9444-21baaf33daf8",
   "metadata": {},
   "outputs": [
    {
     "data": {
      "text/plain": [
       "0"
      ]
     },
     "execution_count": 16,
     "metadata": {},
     "output_type": "execute_result"
    }
   ],
   "source": [
    "labels[0]"
   ]
  },
  {
   "cell_type": "code",
   "execution_count": 17,
   "id": "bea86e5e-098d-4412-8e19-cd5c3256c4bd",
   "metadata": {},
   "outputs": [],
   "source": [
    "labels_one_hot = tf.one_hot(labels, depth=len(class_name))"
   ]
  },
  {
   "cell_type": "code",
   "execution_count": 18,
   "id": "8152a527-8180-4c64-ad54-e7ad2c7be467",
   "metadata": {},
   "outputs": [
    {
     "data": {
      "text/plain": [
       "'Grass'"
      ]
     },
     "execution_count": 18,
     "metadata": {},
     "output_type": "execute_result"
    }
   ],
   "source": [
    "class_name[np.argmax(labels_one_hot[0])]"
   ]
  },
  {
   "cell_type": "code",
   "execution_count": 19,
   "id": "998ea070-e78a-48e1-b491-df2c74d66c45",
   "metadata": {},
   "outputs": [
    {
     "data": {
      "text/plain": [
       "(245, 245)"
      ]
     },
     "execution_count": 19,
     "metadata": {},
     "output_type": "execute_result"
    }
   ],
   "source": [
    "len(labels_one_hot), len(img_filepath)"
   ]
  },
  {
   "cell_type": "code",
   "execution_count": 20,
   "id": "cf8952a1-366a-4851-98a7-9488bcb2d57c",
   "metadata": {},
   "outputs": [
    {
     "data": {
      "text/plain": [
       "array([0, 0, 0], dtype=int64)"
      ]
     },
     "execution_count": 20,
     "metadata": {},
     "output_type": "execute_result"
    }
   ],
   "source": [
    "labels[:3]"
   ]
  },
  {
   "cell_type": "code",
   "execution_count": 21,
   "id": "6e4c7954-1eef-405c-8094-e8763c393812",
   "metadata": {},
   "outputs": [],
   "source": [
    "from sklearn.model_selection import train_test_split"
   ]
  },
  {
   "cell_type": "code",
   "execution_count": 22,
   "id": "cd37fb88-aafd-4328-958c-4890b18bd4f7",
   "metadata": {},
   "outputs": [],
   "source": [
    "train_img, val_img, train_label, val_label = train_test_split(img_filepath, \n",
    "                                                              labels, \n",
    "                                                              test_size=0.2, \n",
    "                                                              random_state=42)"
   ]
  },
  {
   "cell_type": "code",
   "execution_count": 23,
   "id": "6f45328c-a075-4001-a7d4-7deb9c5dd2c8",
   "metadata": {},
   "outputs": [
    {
     "data": {
      "text/plain": [
       "(196, 49, 196, 49)"
      ]
     },
     "execution_count": 23,
     "metadata": {},
     "output_type": "execute_result"
    }
   ],
   "source": [
    "len(train_img), len(val_img), len(train_label), len(val_label)"
   ]
  },
  {
   "cell_type": "code",
   "execution_count": 24,
   "id": "691876ea-de64-45a1-aa9c-fd6b591b6246",
   "metadata": {},
   "outputs": [
    {
     "data": {
      "text/plain": [
       "(<tf.Tensor: shape=(), dtype=int64, numpy=2>,\n",
       " <tf.Tensor: shape=(), dtype=int64, numpy=0>)"
      ]
     },
     "execution_count": 24,
     "metadata": {},
     "output_type": "execute_result"
    }
   ],
   "source": [
    "tf.reduce_max(train_label), tf.reduce_min(train_label)"
   ]
  },
  {
   "cell_type": "code",
   "execution_count": 26,
   "id": "813b2f2e-28f6-4266-854b-b032811723e1",
   "metadata": {
    "scrolled": true
   },
   "outputs": [
    {
     "data": {
      "text/plain": [
       "2    88\n",
       "0    67\n",
       "1    41\n",
       "Name: count, dtype: int64"
      ]
     },
     "execution_count": 26,
     "metadata": {},
     "output_type": "execute_result"
    }
   ],
   "source": [
    "pd.DataFrame(train_label).value_counts()"
   ]
  },
  {
   "cell_type": "code",
   "execution_count": 27,
   "id": "a92aea37-9331-4837-b6e5-f71d6a200be2",
   "metadata": {},
   "outputs": [
    {
     "data": {
      "text/plain": [
       "('dataset/image_classification/pokemon/images/images/grovyle.png', 'Grass')"
      ]
     },
     "execution_count": 27,
     "metadata": {},
     "output_type": "execute_result"
    }
   ],
   "source": [
    "img_filepath[88], class_name[labels[88]]"
   ]
  },
  {
   "cell_type": "code",
   "execution_count": 28,
   "id": "c6677974-3ef3-4d4d-80cd-5e67529c9e58",
   "metadata": {},
   "outputs": [],
   "source": [
    "img_shape = 104"
   ]
  },
  {
   "cell_type": "code",
   "execution_count": 29,
   "id": "0ba264d9-815a-4aef-aada-f2cf7a49e19f",
   "metadata": {},
   "outputs": [],
   "source": [
    "def load_preprocess_image(image_name, label):\n",
    "    image = tf.io.read_file(image_name)\n",
    "    \n",
    "    # Extract the file extension using tf.strings.split\n",
    "    file_extension = tf.strings.split(image_name, sep=\".\")[-1]\n",
    "\n",
    "    # Check the file extension\n",
    "    is_png = tf.math.equal(file_extension, \"png\")\n",
    "\n",
    "    # Decode the image based on the file extension\n",
    "    image = tf.cond(is_png,\n",
    "                    lambda: tf.image.decode_png(image, channels=3),\n",
    "                    lambda: tf.image.decode_jpeg(image, channels=3))\n",
    "    \n",
    "    image = tf.image.convert_image_dtype(image, dtype=tf.float32)\n",
    "    image = tf.image.resize(image, size=[img_shape, img_shape])\n",
    "    return image, label"
   ]
  },
  {
   "cell_type": "code",
   "execution_count": 30,
   "id": "a51d9413-984a-4085-8b33-2b1bbd6702a8",
   "metadata": {},
   "outputs": [],
   "source": [
    "img_augmentation = tf.keras.Sequential([\n",
    "    layers.RandomFlip(\"horizontal\"),\n",
    "    layers.RandomRotation(0.2),\n",
    "    layers.RandomZoom(0.2),\n",
    "    layers.RandomHeight(0.2),\n",
    "    layers.RandomWidth(0.2),\n",
    "    layers.Resizing(img_shape, img_shape)\n",
    "])"
   ]
  },
  {
   "cell_type": "code",
   "execution_count": 31,
   "id": "71dd0f46-3485-41b7-acaf-a1eafb0a16e9",
   "metadata": {},
   "outputs": [
    {
     "data": {
      "text/plain": [
       "'dataset/image_classification/pokemon/images/images/dewpider.jpg'"
      ]
     },
     "execution_count": 31,
     "metadata": {},
     "output_type": "execute_result"
    }
   ],
   "source": [
    "train_img[0]"
   ]
  },
  {
   "cell_type": "code",
   "execution_count": 32,
   "id": "95ca301e-1495-41e4-877d-bc3ec5e16d3e",
   "metadata": {
    "scrolled": true
   },
   "outputs": [
    {
     "data": {
      "text/plain": [
       "(<tf.Tensor: shape=(104, 104, 3), dtype=float32, numpy=\n",
       " array([[[0., 0., 0.],\n",
       "         [0., 0., 0.],\n",
       "         [0., 0., 0.],\n",
       "         ...,\n",
       "         [0., 0., 0.],\n",
       "         [0., 0., 0.],\n",
       "         [0., 0., 0.]],\n",
       " \n",
       "        [[0., 0., 0.],\n",
       "         [0., 0., 0.],\n",
       "         [0., 0., 0.],\n",
       "         ...,\n",
       "         [0., 0., 0.],\n",
       "         [0., 0., 0.],\n",
       "         [0., 0., 0.]],\n",
       " \n",
       "        [[0., 0., 0.],\n",
       "         [0., 0., 0.],\n",
       "         [0., 0., 0.],\n",
       "         ...,\n",
       "         [0., 0., 0.],\n",
       "         [0., 0., 0.],\n",
       "         [0., 0., 0.]],\n",
       " \n",
       "        ...,\n",
       " \n",
       "        [[0., 0., 0.],\n",
       "         [0., 0., 0.],\n",
       "         [0., 0., 0.],\n",
       "         ...,\n",
       "         [0., 0., 0.],\n",
       "         [0., 0., 0.],\n",
       "         [0., 0., 0.]],\n",
       " \n",
       "        [[0., 0., 0.],\n",
       "         [0., 0., 0.],\n",
       "         [0., 0., 0.],\n",
       "         ...,\n",
       "         [0., 0., 0.],\n",
       "         [0., 0., 0.],\n",
       "         [0., 0., 0.]],\n",
       " \n",
       "        [[0., 0., 0.],\n",
       "         [0., 0., 0.],\n",
       "         [0., 0., 0.],\n",
       "         ...,\n",
       "         [0., 0., 0.],\n",
       "         [0., 0., 0.],\n",
       "         [0., 0., 0.]]], dtype=float32)>,\n",
       " 0)"
      ]
     },
     "execution_count": 32,
     "metadata": {},
     "output_type": "execute_result"
    }
   ],
   "source": [
    "sample_img, sample_label = load_preprocess_image(train_img[15], train_label[15])\n",
    "sample_img, sample_label"
   ]
  },
  {
   "cell_type": "code",
   "execution_count": 33,
   "id": "6b057a4d-622e-41cd-b018-d22f420406df",
   "metadata": {
    "scrolled": true
   },
   "outputs": [
    {
     "data": {
      "text/plain": [
       "<tf.Tensor: shape=(104, 104, 3), dtype=float32, numpy=\n",
       "array([[[0., 0., 0.],\n",
       "        [0., 0., 0.],\n",
       "        [0., 0., 0.],\n",
       "        ...,\n",
       "        [0., 0., 0.],\n",
       "        [0., 0., 0.],\n",
       "        [0., 0., 0.]],\n",
       "\n",
       "       [[0., 0., 0.],\n",
       "        [0., 0., 0.],\n",
       "        [0., 0., 0.],\n",
       "        ...,\n",
       "        [0., 0., 0.],\n",
       "        [0., 0., 0.],\n",
       "        [0., 0., 0.]],\n",
       "\n",
       "       [[0., 0., 0.],\n",
       "        [0., 0., 0.],\n",
       "        [0., 0., 0.],\n",
       "        ...,\n",
       "        [0., 0., 0.],\n",
       "        [0., 0., 0.],\n",
       "        [0., 0., 0.]],\n",
       "\n",
       "       ...,\n",
       "\n",
       "       [[0., 0., 0.],\n",
       "        [0., 0., 0.],\n",
       "        [0., 0., 0.],\n",
       "        ...,\n",
       "        [0., 0., 0.],\n",
       "        [0., 0., 0.],\n",
       "        [0., 0., 0.]],\n",
       "\n",
       "       [[0., 0., 0.],\n",
       "        [0., 0., 0.],\n",
       "        [0., 0., 0.],\n",
       "        ...,\n",
       "        [0., 0., 0.],\n",
       "        [0., 0., 0.],\n",
       "        [0., 0., 0.]],\n",
       "\n",
       "       [[0., 0., 0.],\n",
       "        [0., 0., 0.],\n",
       "        [0., 0., 0.],\n",
       "        ...,\n",
       "        [0., 0., 0.],\n",
       "        [0., 0., 0.],\n",
       "        [0., 0., 0.]]], dtype=float32)>"
      ]
     },
     "execution_count": 33,
     "metadata": {},
     "output_type": "execute_result"
    }
   ],
   "source": [
    "sample_aug_img = tf.squeeze(img_augmentation(tf.expand_dims(sample_img, axis=0)))\n",
    "sample_aug_img"
   ]
  },
  {
   "cell_type": "code",
   "execution_count": 34,
   "id": "7410fe31-6a4e-4b84-b1b7-d891add978f3",
   "metadata": {
    "scrolled": true
   },
   "outputs": [
    {
     "data": {
      "text/plain": [
       "(-0.5, 103.5, 103.5, -0.5)"
      ]
     },
     "execution_count": 34,
     "metadata": {},
     "output_type": "execute_result"
    },
    {
     "data": {
      "image/png": "[encoded data removed]",
      "text/plain": [
       "<Figure size 1000x700 with 2 Axes>"
      ]
     },
     "metadata": {},
     "output_type": "display_data"
    }
   ],
   "source": [
    "plt.figure(figsize=(10,7))\n",
    "plt.subplot(2,1,1)\n",
    "plt.imshow(sample_img)\n",
    "plt.axis(False)\n",
    "plt.subplot(2,1,2)\n",
    "plt.imshow(sample_aug_img)\n",
    "plt.axis(False)"
   ]
  },
  {
   "cell_type": "code",
   "execution_count": 35,
   "id": "f603c80b-c080-4417-83b3-040aceb6a325",
   "metadata": {},
   "outputs": [],
   "source": [
    "# Callbacks\n",
    "early_stopping = tf.keras.callbacks.EarlyStopping(monitor=\"val_loss\", patience=5, restore_best_weights=True)\n",
    "\n",
    "def tensorboard(model_name):\n",
    "    return tf.keras.callbacks.TensorBoard(os.path.join(\"model_logs/pokemon/\", model_name, datetime.datetime.now().strftime(\"%Y%m%d-%H%M%S\")))\n",
    "    \n",
    "def checkpoint(model_name):\n",
    "    return tf.keras.callbacks.ModelCheckpoint(filepath=os.path.join(\"h5_models/pokemon/\", model_name + \".h5\"), save_best_only=True, monitor=\"val_loss\")"
   ]
  },
  {
   "cell_type": "code",
   "execution_count": 36,
   "id": "8c41144a-cdc3-4811-97a6-0aabe7f1047a",
   "metadata": {},
   "outputs": [],
   "source": [
    "train_dataset = tf.data.Dataset.from_tensor_slices((train_img, train_label)).map(map_func=load_preprocess_image, num_parallel_calls=tf.data.AUTOTUNE)\n",
    "train_dataset = train_dataset.batch(16).prefetch(tf.data.AUTOTUNE)\n",
    "\n",
    "val_dataset = tf.data.Dataset.from_tensor_slices((val_img, val_label)).map(map_func=load_preprocess_image, num_parallel_calls=tf.data.AUTOTUNE)\n",
    "val_dataset = val_dataset.batch(16).prefetch(tf.data.AUTOTUNE)"
   ]
  },
  {
   "cell_type": "code",
   "execution_count": 37,
   "id": "b97a7f4a-ab11-4c20-a453-c107103f0b98",
   "metadata": {},
   "outputs": [
    {
     "data": {
      "text/plain": [
       "<PrefetchDataset element_spec=(TensorSpec(shape=(None, 104, 104, 3), dtype=tf.float32, name=None), TensorSpec(shape=(None,), dtype=tf.int64, name=None))>"
      ]
     },
     "execution_count": 37,
     "metadata": {},
     "output_type": "execute_result"
    }
   ],
   "source": [
    "train_dataset"
   ]
  },
  {
   "cell_type": "code",
   "execution_count": 38,
   "id": "300e45e4-3c7b-4bd7-a953-57fba1793d18",
   "metadata": {},
   "outputs": [
    {
     "data": {
      "text/plain": [
       "<PrefetchDataset element_spec=(TensorSpec(shape=(None, 104, 104, 3), dtype=tf.float32, name=None), TensorSpec(shape=(None,), dtype=tf.int64, name=None))>"
      ]
     },
     "execution_count": 38,
     "metadata": {},
     "output_type": "execute_result"
    }
   ],
   "source": [
    "val_dataset"
   ]
  },
  {
   "cell_type": "code",
   "execution_count": 39,
   "id": "cf59e228-04d9-42bd-b25f-17021e8979ec",
   "metadata": {},
   "outputs": [],
   "source": [
    "INPUT_SHAPE = (104, 104, 3)"
   ]
  },
  {
   "cell_type": "code",
   "execution_count": 41,
   "id": "261624e2-542d-45c0-90e9-41372a3be43b",
   "metadata": {},
   "outputs": [
    {
     "name": "stdout",
     "output_type": "stream",
     "text": [
      "Epoch 1/50\n",
      "13/13 [==============================] - 2s 57ms/step - loss: 1.0901 - accuracy: 0.3929 - val_loss: 1.0023 - val_accuracy: 0.5918\n",
      "Epoch 2/50\n",
      "13/13 [==============================] - 0s 28ms/step - loss: 0.9965 - accuracy: 0.4745 - val_loss: 0.8099 - val_accuracy: 0.6327\n",
      "Epoch 3/50\n",
      "13/13 [==============================] - 0s 27ms/step - loss: 0.8905 - accuracy: 0.5255 - val_loss: 0.6944 - val_accuracy: 0.6531\n",
      "Epoch 4/50\n",
      "13/13 [==============================] - 0s 24ms/step - loss: 0.8262 - accuracy: 0.5408 - val_loss: 0.7606 - val_accuracy: 0.5714\n",
      "Epoch 5/50\n",
      "13/13 [==============================] - 0s 23ms/step - loss: 0.8204 - accuracy: 0.5510 - val_loss: 0.7376 - val_accuracy: 0.6327\n",
      "Epoch 6/50\n",
      "13/13 [==============================] - 0s 26ms/step - loss: 0.7824 - accuracy: 0.6173 - val_loss: 0.6610 - val_accuracy: 0.6735\n",
      "Epoch 7/50\n",
      "13/13 [==============================] - 0s 23ms/step - loss: 0.7166 - accuracy: 0.6837 - val_loss: 0.6901 - val_accuracy: 0.6735\n",
      "Epoch 8/50\n",
      "13/13 [==============================] - 0s 23ms/step - loss: 0.7224 - accuracy: 0.6837 - val_loss: 0.7590 - val_accuracy: 0.6531\n",
      "Epoch 9/50\n",
      "13/13 [==============================] - 0s 23ms/step - loss: 0.7164 - accuracy: 0.6735 - val_loss: 0.7296 - val_accuracy: 0.6939\n",
      "Epoch 10/50\n",
      "13/13 [==============================] - 0s 23ms/step - loss: 0.7065 - accuracy: 0.6633 - val_loss: 0.7302 - val_accuracy: 0.6939\n",
      "Epoch 11/50\n",
      "13/13 [==============================] - 0s 25ms/step - loss: 0.7011 - accuracy: 0.6888 - val_loss: 0.7114 - val_accuracy: 0.6327\n"
     ]
    }
   ],
   "source": [
    "tf.keras.backend.clear_session()\n",
    "\n",
    "inputs = layers.Input(shape=INPUT_SHAPE, dtype=tf.float32)\n",
    "x = img_augmentation(inputs, training=True)\n",
    "x = layers.Conv2D(10, 3, activation=\"relu\")(x)\n",
    "x = layers.Conv2D(10, 3, activation=\"relu\")(x)\n",
    "x = layers.MaxPool2D(2)(x)\n",
    "x = layers.Conv2D(10, 3, activation=\"relu\")(x)\n",
    "x = layers.Conv2D(10, 3, activation=\"relu\")(x)\n",
    "x = layers.MaxPool2D(2)(x)\n",
    "x = layers.Flatten()(x)\n",
    "outputs = layers.Dense(len(class_name), activation=\"softmax\")(x)\n",
    "\n",
    "model_1 = tf.keras.Model(inputs, outputs, name=\"model_1\")\n",
    "\n",
    "model_1_init_weights = model_1.get_weights()\n",
    "\n",
    "model_1.compile(loss=tf.keras.losses.SparseCategoricalCrossentropy(),\n",
    "                optimizer=tf.keras.optimizers.Adam(),\n",
    "                metrics=[\"accuracy\"])\n",
    "\n",
    "model_1_history = model_1.fit(train_dataset,\n",
    "                              validation_data=val_dataset,\n",
    "                              epochs=50,\n",
    "                              callbacks=[tensorboard(model_1.name),\n",
    "                                         checkpoint(model_1.name),\n",
    "                                         early_stopping])"
   ]
  },
  {
   "cell_type": "code",
   "execution_count": 42,
   "id": "aeb3099d-9974-40dd-99d6-66c63148b4eb",
   "metadata": {},
   "outputs": [
    {
     "name": "stdout",
     "output_type": "stream",
     "text": [
      "Epoch 1/50\n",
      "13/13 [==============================] - 2s 93ms/step - loss: 1.0719 - accuracy: 0.4643 - val_loss: 0.9609 - val_accuracy: 0.5306\n",
      "Epoch 2/50\n",
      "13/13 [==============================] - 1s 50ms/step - loss: 0.9446 - accuracy: 0.4694 - val_loss: 0.7402 - val_accuracy: 0.7551\n",
      "Epoch 3/50\n",
      "13/13 [==============================] - 1s 42ms/step - loss: 0.9364 - accuracy: 0.5306 - val_loss: 0.7870 - val_accuracy: 0.7143\n",
      "Epoch 4/50\n",
      "13/13 [==============================] - 1s 47ms/step - loss: 0.8630 - accuracy: 0.5663 - val_loss: 0.5769 - val_accuracy: 0.7347\n",
      "Epoch 5/50\n",
      "13/13 [==============================] - 1s 47ms/step - loss: 0.7881 - accuracy: 0.6327 - val_loss: 0.5738 - val_accuracy: 0.7143\n",
      "Epoch 6/50\n",
      "13/13 [==============================] - 1s 42ms/step - loss: 0.7430 - accuracy: 0.6582 - val_loss: 0.5934 - val_accuracy: 0.7959\n",
      "Epoch 7/50\n",
      "13/13 [==============================] - 1s 42ms/step - loss: 0.7182 - accuracy: 0.7194 - val_loss: 0.6261 - val_accuracy: 0.7143\n",
      "Epoch 8/50\n",
      "13/13 [==============================] - 1s 42ms/step - loss: 0.6049 - accuracy: 0.7653 - val_loss: 0.6186 - val_accuracy: 0.7959\n",
      "Epoch 9/50\n",
      "13/13 [==============================] - 1s 42ms/step - loss: 0.6297 - accuracy: 0.7449 - val_loss: 0.8558 - val_accuracy: 0.6122\n",
      "Epoch 10/50\n",
      "13/13 [==============================] - 1s 43ms/step - loss: 0.7784 - accuracy: 0.6122 - val_loss: 0.6748 - val_accuracy: 0.7143\n"
     ]
    }
   ],
   "source": [
    "tf.keras.backend.clear_session()\n",
    "\n",
    "inputs = layers.Input(shape=INPUT_SHAPE, dtype=tf.float32)\n",
    "x = img_augmentation(inputs, training=True)\n",
    "x = layers.Conv2D(128, 3, activation=\"relu\")(x)\n",
    "x = layers.MaxPool2D(2)(x)\n",
    "x = layers.Conv2D(128, 3, activation=\"relu\")(x)\n",
    "x = layers.MaxPool2D(2)(x)\n",
    "x = layers.Conv2D(128, 3, activation=\"relu\")(x)\n",
    "x = layers.MaxPool2D(2)(x)\n",
    "x = layers.Conv2D(128, 3, activation=\"relu\")(x)\n",
    "x = layers.MaxPool2D(2)(x)\n",
    "x = layers.Flatten()(x)\n",
    "x = layers.Dropout(0.5)(x)\n",
    "x = layers.Dense(256, activation=\"relu\")(x)\n",
    "outputs = layers.Dense(len(class_name), activation=\"softmax\")(x)\n",
    "\n",
    "model_2 = tf.keras.Model(inputs, outputs, name=\"model_2\")\n",
    "\n",
    "model_2_init_weights = model_1.get_weights()\n",
    "\n",
    "model_2.compile(loss=tf.keras.losses.SparseCategoricalCrossentropy(),\n",
    "                optimizer=tf.keras.optimizers.Adam(),\n",
    "                metrics=[\"accuracy\"])\n",
    "\n",
    "model_2_history = model_2.fit(train_dataset,\n",
    "                              validation_data=val_dataset,\n",
    "                              epochs=50,\n",
    "                              callbacks=[tensorboard(model_2.name),\n",
    "                                         checkpoint(model_2.name),\n",
    "                                         early_stopping])"
   ]
  },
  {
   "cell_type": "code",
   "execution_count": 43,
   "id": "873d271d-2ecd-4918-a801-d24b393d22e4",
   "metadata": {},
   "outputs": [
    {
     "name": "stdout",
     "output_type": "stream",
     "text": [
      "Model: \"model_1\"\n",
      "_________________________________________________________________\n",
      " Layer (type)                Output Shape              Param #   \n",
      "=================================================================\n",
      " input_1 (InputLayer)        [(None, 104, 104, 3)]     0         \n",
      "                                                                 \n",
      " sequential (Sequential)     (None, 104, 104, 3)       0         \n",
      "                                                                 \n",
      " conv2d (Conv2D)             (None, 102, 102, 10)      280       \n",
      "                                                                 \n",
      " conv2d_1 (Conv2D)           (None, 100, 100, 10)      910       \n",
      "                                                                 \n",
      " max_pooling2d (MaxPooling2D  (None, 50, 50, 10)       0         \n",
      " )                                                               \n",
      "                                                                 \n",
      " conv2d_2 (Conv2D)           (None, 48, 48, 10)        910       \n",
      "                                                                 \n",
      " conv2d_3 (Conv2D)           (None, 46, 46, 10)        910       \n",
      "                                                                 \n",
      " max_pooling2d_1 (MaxPooling  (None, 23, 23, 10)       0         \n",
      " 2D)                                                             \n",
      "                                                                 \n",
      " flatten (Flatten)           (None, 5290)              0         \n",
      "                                                                 \n",
      " dense (Dense)               (None, 3)                 15873     \n",
      "                                                                 \n",
      "=================================================================\n",
      "Total params: 18,883\n",
      "Trainable params: 18,883\n",
      "Non-trainable params: 0\n",
      "_________________________________________________________________\n"
     ]
    }
   ],
   "source": [
    "model_1.summary()"
   ]
  },
  {
   "cell_type": "code",
   "execution_count": 44,
   "id": "12901c3e-e0c1-4627-85ef-0e622164878d",
   "metadata": {},
   "outputs": [
    {
     "name": "stdout",
     "output_type": "stream",
     "text": [
      "Model: \"model_2\"\n",
      "_________________________________________________________________\n",
      " Layer (type)                Output Shape              Param #   \n",
      "=================================================================\n",
      " input_1 (InputLayer)        [(None, 104, 104, 3)]     0         \n",
      "                                                                 \n",
      " sequential (Sequential)     (None, 104, 104, 3)       0         \n",
      "                                                                 \n",
      " conv2d (Conv2D)             (None, 102, 102, 128)     3584      \n",
      "                                                                 \n",
      " max_pooling2d (MaxPooling2D  (None, 51, 51, 128)      0         \n",
      " )                                                               \n",
      "                                                                 \n",
      " conv2d_1 (Conv2D)           (None, 49, 49, 128)       147584    \n",
      "                                                                 \n",
      " max_pooling2d_1 (MaxPooling  (None, 24, 24, 128)      0         \n",
      " 2D)                                                             \n",
      "                                                                 \n",
      " conv2d_2 (Conv2D)           (None, 22, 22, 128)       147584    \n",
      "                                                                 \n",
      " max_pooling2d_2 (MaxPooling  (None, 11, 11, 128)      0         \n",
      " 2D)                                                             \n",
      "                                                                 \n",
      " conv2d_3 (Conv2D)           (None, 9, 9, 128)         147584    \n",
      "                                                                 \n",
      " max_pooling2d_3 (MaxPooling  (None, 4, 4, 128)        0         \n",
      " 2D)                                                             \n",
      "                                                                 \n",
      " flatten (Flatten)           (None, 2048)              0         \n",
      "                                                                 \n",
      " dropout (Dropout)           (None, 2048)              0         \n",
      "                                                                 \n",
      " dense (Dense)               (None, 256)               524544    \n",
      "                                                                 \n",
      " dense_1 (Dense)             (None, 3)                 771       \n",
      "                                                                 \n",
      "=================================================================\n",
      "Total params: 971,651\n",
      "Trainable params: 971,651\n",
      "Non-trainable params: 0\n",
      "_________________________________________________________________\n"
     ]
    }
   ],
   "source": [
    "model_2.summary()"
   ]
  },
  {
   "cell_type": "code",
   "execution_count": 45,
   "id": "00014e1a-f1e1-4937-a539-1d66bd6de026",
   "metadata": {},
   "outputs": [],
   "source": [
    "%load_ext tensorboard"
   ]
  },
  {
   "cell_type": "code",
   "execution_count": 46,
   "id": "e87bf6ae-20e7-41a8-a6ae-b2aa8e55a3b0",
   "metadata": {},
   "outputs": [
    {
     "data": {
      "text/html": [
       "\n",
       "      <iframe id=\"tensorboard-frame-c57538d35617d77f\" width=\"100%\" height=\"800\" frameborder=\"0\">\n",
       "      </iframe>\n",
       "      <script>\n",
       "        (function() {\n",
       "          const frame = document.getElementById(\"tensorboard-frame-c57538d35617d77f\");\n",
       "          const url = new URL(\"/\", window.location);\n",
       "          const port = 8082;\n",
       "          if (port) {\n",
       "            url.port = port;\n",
       "          }\n",
       "          frame.src = url;\n",
       "        })();\n",
       "      </script>\n",
       "    "
      ],
      "text/plain": [
       "<IPython.core.display.HTML object>"
      ]
     },
     "metadata": {},
     "output_type": "display_data"
    }
   ],
   "source": [
    "%tensorboard --logdir model_logs/pokemon --port 8082"
   ]
  },
  {
   "cell_type": "code",
   "execution_count": null,
   "id": "39c38205-8f35-43f7-a4fc-e6290fb21643",
   "metadata": {},
   "outputs": [],
   "source": []
  }
 ],
 "metadata": {
  "kernelspec": {
   "display_name": "mldl",
   "language": "python",
   "name": "mldl"
  },
  "language_info": {
   "codemirror_mode": {
    "name": "ipython",
    "version": 3
   },
   "file_extension": ".py",
   "mimetype": "text/x-python",
   "name": "python",
   "nbconvert_exporter": "python",
   "pygments_lexer": "ipython3",
   "version": "3.9.2"
  }
 },
 "nbformat": 4,
 "nbformat_minor": 5
}
