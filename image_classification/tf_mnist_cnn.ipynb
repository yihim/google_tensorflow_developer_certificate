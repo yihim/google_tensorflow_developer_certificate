{
 "cells": [
  {
   "cell_type": "code",
   "execution_count": 1,
   "id": "380ac409-6b38-4360-a64b-7a0605d5cd07",
   "metadata": {},
   "outputs": [],
   "source": [
    "# Import necessary packages"
   ]
  },
  {
   "cell_type": "code",
   "execution_count": 2,
   "id": "3f283d3e-2734-45dd-8533-2f1c4fcd1b47",
   "metadata": {},
   "outputs": [],
   "source": [
    "import tensorflow as tf\n",
    "import tensorflow_datasets as tfds\n",
    "import matplotlib.pyplot as plt\n",
    "import numpy as np\n",
    "import pandas as pd\n",
    "import matplotlib.image as pltimg"
   ]
  },
  {
   "cell_type": "code",
   "execution_count": 3,
   "id": "5a726db6-b13e-40db-9099-7f52a38ff8ed",
   "metadata": {},
   "outputs": [
    {
     "name": "stdout",
     "output_type": "stream",
     "text": [
      "2.8.0\n"
     ]
    }
   ],
   "source": [
    "print(tf.__version__)"
   ]
  },
  {
   "cell_type": "code",
   "execution_count": 4,
   "id": "d2503459-f5b9-480d-a493-a3d5029b0ab8",
   "metadata": {},
   "outputs": [
    {
     "name": "stdout",
     "output_type": "stream",
     "text": [
      "True\n"
     ]
    }
   ],
   "source": [
    "print(len(tf.config.list_physical_devices('GPU')) > 0)"
   ]
  },
  {
   "cell_type": "code",
   "execution_count": 5,
   "id": "8ff7bbc6-4913-406c-bf91-6f80370c0fa4",
   "metadata": {},
   "outputs": [],
   "source": [
    "gpus = tf.config.list_physical_devices('GPU')\n",
    "if gpus:\n",
    "    for gpu in gpus:\n",
    "        tf.config.experimental.set_memory_growth(gpu, True)"
   ]
  },
  {
   "cell_type": "code",
   "execution_count": 6,
   "id": "168150e9-86a1-4079-ba8f-9af66544330c",
   "metadata": {},
   "outputs": [
    {
     "data": {
      "text/plain": [
       "['abstract_reasoning',\n",
       " 'accentdb',\n",
       " 'aeslc',\n",
       " 'aflw2k3d',\n",
       " 'ag_news_subset',\n",
       " 'ai2_arc',\n",
       " 'ai2_arc_with_ir',\n",
       " 'amazon_us_reviews',\n",
       " 'anli',\n",
       " 'arc',\n",
       " 'bair_robot_pushing_small',\n",
       " 'bccd',\n",
       " 'beans',\n",
       " 'big_patent',\n",
       " 'bigearthnet',\n",
       " 'billsum',\n",
       " 'binarized_mnist',\n",
       " 'binary_alpha_digits',\n",
       " 'blimp',\n",
       " 'bool_q',\n",
       " 'c4',\n",
       " 'caltech101',\n",
       " 'caltech_birds2010',\n",
       " 'caltech_birds2011',\n",
       " 'cars196',\n",
       " 'cassava',\n",
       " 'cats_vs_dogs',\n",
       " 'celeb_a',\n",
       " 'celeb_a_hq',\n",
       " 'cfq',\n",
       " 'cherry_blossoms',\n",
       " 'chexpert',\n",
       " 'cifar10',\n",
       " 'cifar100',\n",
       " 'cifar10_1',\n",
       " 'cifar10_corrupted',\n",
       " 'citrus_leaves',\n",
       " 'cityscapes',\n",
       " 'civil_comments',\n",
       " 'clevr',\n",
       " 'clic',\n",
       " 'clinc_oos',\n",
       " 'cmaterdb',\n",
       " 'cnn_dailymail',\n",
       " 'coco',\n",
       " 'coco_captions',\n",
       " 'coil100',\n",
       " 'colorectal_histology',\n",
       " 'colorectal_histology_large',\n",
       " 'common_voice',\n",
       " 'coqa',\n",
       " 'cos_e',\n",
       " 'cosmos_qa',\n",
       " 'covid19',\n",
       " 'covid19sum',\n",
       " 'crema_d',\n",
       " 'curated_breast_imaging_ddsm',\n",
       " 'cycle_gan',\n",
       " 'd4rl_adroit_door',\n",
       " 'd4rl_adroit_hammer',\n",
       " 'd4rl_adroit_pen',\n",
       " 'd4rl_adroit_relocate',\n",
       " 'd4rl_mujoco_ant',\n",
       " 'd4rl_mujoco_halfcheetah',\n",
       " 'd4rl_mujoco_hopper',\n",
       " 'd4rl_mujoco_walker2d',\n",
       " 'dart',\n",
       " 'davis',\n",
       " 'deep_weeds',\n",
       " 'definite_pronoun_resolution',\n",
       " 'dementiabank',\n",
       " 'diabetic_retinopathy_detection',\n",
       " 'div2k',\n",
       " 'dmlab',\n",
       " 'doc_nli',\n",
       " 'dolphin_number_word',\n",
       " 'downsampled_imagenet',\n",
       " 'drop',\n",
       " 'dsprites',\n",
       " 'dtd',\n",
       " 'duke_ultrasound',\n",
       " 'e2e_cleaned',\n",
       " 'efron_morris75',\n",
       " 'emnist',\n",
       " 'eraser_multi_rc',\n",
       " 'esnli',\n",
       " 'eurosat',\n",
       " 'fashion_mnist',\n",
       " 'flic',\n",
       " 'flores',\n",
       " 'food101',\n",
       " 'forest_fires',\n",
       " 'fuss',\n",
       " 'gap',\n",
       " 'geirhos_conflict_stimuli',\n",
       " 'gem',\n",
       " 'genomics_ood',\n",
       " 'german_credit_numeric',\n",
       " 'gigaword',\n",
       " 'glue',\n",
       " 'goemotions',\n",
       " 'gpt3',\n",
       " 'gref',\n",
       " 'groove',\n",
       " 'gtzan',\n",
       " 'gtzan_music_speech',\n",
       " 'hellaswag',\n",
       " 'higgs',\n",
       " 'horses_or_humans',\n",
       " 'howell',\n",
       " 'i_naturalist2017',\n",
       " 'imagenet2012',\n",
       " 'imagenet2012_corrupted',\n",
       " 'imagenet2012_multilabel',\n",
       " 'imagenet2012_real',\n",
       " 'imagenet2012_subset',\n",
       " 'imagenet_a',\n",
       " 'imagenet_r',\n",
       " 'imagenet_resized',\n",
       " 'imagenet_v2',\n",
       " 'imagenette',\n",
       " 'imagewang',\n",
       " 'imdb_reviews',\n",
       " 'irc_disentanglement',\n",
       " 'iris',\n",
       " 'kddcup99',\n",
       " 'kitti',\n",
       " 'kmnist',\n",
       " 'lambada',\n",
       " 'lfw',\n",
       " 'librispeech',\n",
       " 'librispeech_lm',\n",
       " 'libritts',\n",
       " 'ljspeech',\n",
       " 'lm1b',\n",
       " 'lost_and_found',\n",
       " 'lsun',\n",
       " 'lvis',\n",
       " 'malaria',\n",
       " 'math_dataset',\n",
       " 'mctaco',\n",
       " 'mlqa',\n",
       " 'mnist',\n",
       " 'mnist_corrupted',\n",
       " 'movie_lens',\n",
       " 'movie_rationales',\n",
       " 'movielens',\n",
       " 'moving_mnist',\n",
       " 'multi_news',\n",
       " 'multi_nli',\n",
       " 'multi_nli_mismatch',\n",
       " 'natural_questions',\n",
       " 'natural_questions_open',\n",
       " 'newsroom',\n",
       " 'nsynth',\n",
       " 'nyu_depth_v2',\n",
       " 'ogbg_molpcba',\n",
       " 'omniglot',\n",
       " 'open_images_challenge2019_detection',\n",
       " 'open_images_v4',\n",
       " 'openbookqa',\n",
       " 'opinion_abstracts',\n",
       " 'opinosis',\n",
       " 'opus',\n",
       " 'oxford_flowers102',\n",
       " 'oxford_iiit_pet',\n",
       " 'para_crawl',\n",
       " 'patch_camelyon',\n",
       " 'paws_wiki',\n",
       " 'paws_x_wiki',\n",
       " 'pet_finder',\n",
       " 'pg19',\n",
       " 'piqa',\n",
       " 'places365_small',\n",
       " 'plant_leaves',\n",
       " 'plant_village',\n",
       " 'plantae_k',\n",
       " 'protein_net',\n",
       " 'qa4mre',\n",
       " 'qasc',\n",
       " 'quac',\n",
       " 'quickdraw_bitmap',\n",
       " 'race',\n",
       " 'radon',\n",
       " 'reddit',\n",
       " 'reddit_disentanglement',\n",
       " 'reddit_tifu',\n",
       " 'ref_coco',\n",
       " 'resisc45',\n",
       " 'rlu_atari',\n",
       " 'rlu_dmlab_explore_object_rewards_few',\n",
       " 'rlu_dmlab_explore_object_rewards_many',\n",
       " 'rlu_dmlab_rooms_select_nonmatching_object',\n",
       " 'rlu_dmlab_rooms_watermaze',\n",
       " 'rlu_dmlab_seekavoid_arena01',\n",
       " 'robonet',\n",
       " 'rock_paper_scissors',\n",
       " 'rock_you',\n",
       " 's3o4d',\n",
       " 'salient_span_wikipedia',\n",
       " 'samsum',\n",
       " 'savee',\n",
       " 'scan',\n",
       " 'scene_parse150',\n",
       " 'schema_guided_dialogue',\n",
       " 'scicite',\n",
       " 'scientific_papers',\n",
       " 'sentiment140',\n",
       " 'shapes3d',\n",
       " 'siscore',\n",
       " 'smallnorb',\n",
       " 'snli',\n",
       " 'so2sat',\n",
       " 'speech_commands',\n",
       " 'spoken_digit',\n",
       " 'squad',\n",
       " 'stanford_dogs',\n",
       " 'stanford_online_products',\n",
       " 'star_cfq',\n",
       " 'starcraft_video',\n",
       " 'stl10',\n",
       " 'story_cloze',\n",
       " 'summscreen',\n",
       " 'sun397',\n",
       " 'super_glue',\n",
       " 'svhn_cropped',\n",
       " 'symmetric_solids',\n",
       " 'tao',\n",
       " 'ted_hrlr_translate',\n",
       " 'ted_multi_translate',\n",
       " 'tedlium',\n",
       " 'tf_flowers',\n",
       " 'the300w_lp',\n",
       " 'tiny_shakespeare',\n",
       " 'titanic',\n",
       " 'trec',\n",
       " 'trivia_qa',\n",
       " 'tydi_qa',\n",
       " 'uc_merced',\n",
       " 'ucf101',\n",
       " 'vctk',\n",
       " 'visual_domain_decathlon',\n",
       " 'voc',\n",
       " 'voxceleb',\n",
       " 'voxforge',\n",
       " 'waymo_open_dataset',\n",
       " 'web_nlg',\n",
       " 'web_questions',\n",
       " 'wider_face',\n",
       " 'wiki40b',\n",
       " 'wiki_bio',\n",
       " 'wiki_table_questions',\n",
       " 'wiki_table_text',\n",
       " 'wikiann',\n",
       " 'wikihow',\n",
       " 'wikipedia',\n",
       " 'wikipedia_toxicity_subtypes',\n",
       " 'wine_quality',\n",
       " 'winogrande',\n",
       " 'wmt13_translate',\n",
       " 'wmt14_translate',\n",
       " 'wmt15_translate',\n",
       " 'wmt16_translate',\n",
       " 'wmt17_translate',\n",
       " 'wmt18_translate',\n",
       " 'wmt19_translate',\n",
       " 'wmt_t2t_translate',\n",
       " 'wmt_translate',\n",
       " 'wordnet',\n",
       " 'wsc273',\n",
       " 'xnli',\n",
       " 'xquad',\n",
       " 'xsum',\n",
       " 'xtreme_pawsx',\n",
       " 'xtreme_xnli',\n",
       " 'yelp_polarity_reviews',\n",
       " 'yes_no',\n",
       " 'youtube_vis']"
      ]
     },
     "execution_count": 6,
     "metadata": {},
     "output_type": "execute_result"
    }
   ],
   "source": [
    "datasets_list = tfds.list_builders()\n",
    "datasets_list"
   ]
  },
  {
   "cell_type": "code",
   "execution_count": 7,
   "id": "95e82056-1a7f-4cb6-be95-5ff5844d521a",
   "metadata": {},
   "outputs": [],
   "source": [
    "(training_data, testing_data), ds_info = tfds.load(name=\"mnist\",\n",
    "                                             as_supervised=True,\n",
    "                                             with_info=True,\n",
    "                                             shuffle_files=False,\n",
    "                                             split=[\"train\", \"test\"])"
   ]
  },
  {
   "cell_type": "code",
   "execution_count": 8,
   "id": "616a5989-f2ab-4671-b451-df9aa5c91963",
   "metadata": {},
   "outputs": [
    {
     "data": {
      "text/plain": [
       "(60000, 10000)"
      ]
     },
     "execution_count": 8,
     "metadata": {},
     "output_type": "execute_result"
    }
   ],
   "source": [
    "len(training_data), len(testing_data)"
   ]
  },
  {
   "cell_type": "code",
   "execution_count": 9,
   "id": "27667f91-264a-4b8d-a5a8-37ead9e03961",
   "metadata": {},
   "outputs": [
    {
     "data": {
      "text/plain": [
       "<TakeDataset element_spec=(TensorSpec(shape=(28, 28, 1), dtype=tf.uint8, name=None), TensorSpec(shape=(), dtype=tf.int64, name=None))>"
      ]
     },
     "execution_count": 9,
     "metadata": {},
     "output_type": "execute_result"
    }
   ],
   "source": [
    "sample_train_data = training_data.take(1)\n",
    "sample_train_data"
   ]
  },
  {
   "cell_type": "code",
   "execution_count": 10,
   "id": "4d919e12-9b33-4712-aa0d-19f12d5a4ae2",
   "metadata": {},
   "outputs": [
    {
     "data": {
      "text/plain": [
       "1"
      ]
     },
     "execution_count": 10,
     "metadata": {},
     "output_type": "execute_result"
    }
   ],
   "source": [
    "len(sample_train_data)"
   ]
  },
  {
   "cell_type": "code",
   "execution_count": 11,
   "id": "fc0aa677-b00a-4c24-814a-e5eac9ec26eb",
   "metadata": {},
   "outputs": [
    {
     "data": {
      "text/plain": [
       "FeaturesDict({\n",
       "    'image': Image(shape=(28, 28, 1), dtype=tf.uint8),\n",
       "    'label': ClassLabel(shape=(), dtype=tf.int64, num_classes=10),\n",
       "})"
      ]
     },
     "execution_count": 11,
     "metadata": {},
     "output_type": "execute_result"
    }
   ],
   "source": [
    "ds_info.features"
   ]
  },
  {
   "cell_type": "code",
   "execution_count": 12,
   "id": "e75e6c82-df79-4633-b315-ba8e082e5481",
   "metadata": {},
   "outputs": [
    {
     "data": {
      "text/plain": [
       "['0', '1', '2', '3', '4', '5', '6', '7', '8', '9']"
      ]
     },
     "execution_count": 12,
     "metadata": {},
     "output_type": "execute_result"
    }
   ],
   "source": [
    "class_names = ds_info.features[\"label\"].names\n",
    "class_names"
   ]
  },
  {
   "cell_type": "code",
   "execution_count": 13,
   "id": "bf6c6c42-752d-42cc-9e07-f948e6dc7531",
   "metadata": {
    "scrolled": true
   },
   "outputs": [
    {
     "name": "stdout",
     "output_type": "stream",
     "text": [
      "Image shape: (28, 28, 1)\n",
      "Image datatype: <dtype: 'uint8'>\n",
      "Target class: 4\n",
      "Class name: 4\n"
     ]
    }
   ],
   "source": [
    "for image, label in sample_train_data:\n",
    "    print(f\"Image shape: {image.shape}\\nImage datatype: {image.dtype}\\nTarget class: {label}\\nClass name: {class_names[label.numpy()]}\")"
   ]
  },
  {
   "cell_type": "code",
   "execution_count": 14,
   "id": "3ae02d2e-ebfc-42b0-ae98-ae3e51bb39b6",
   "metadata": {},
   "outputs": [
    {
     "data": {
      "text/plain": [
       "(-0.5, 27.5, 27.5, -0.5)"
      ]
     },
     "execution_count": 14,
     "metadata": {},
     "output_type": "execute_result"
    },
    {
     "data": {
      "image/png": "[encoded data removed]",
      "text/plain": [
       "<Figure size 640x480 with 1 Axes>"
      ]
     },
     "metadata": {},
     "output_type": "display_data"
    }
   ],
   "source": [
    "plt.imshow(image)\n",
    "plt.title(class_names[label.numpy()])\n",
    "plt.axis(False)"
   ]
  },
  {
   "cell_type": "code",
   "execution_count": 15,
   "id": "7d354919-c853-4da4-954b-a48cfd4e3e23",
   "metadata": {},
   "outputs": [
    {
     "data": {
      "text/plain": [
       "(<tf.Tensor: shape=(), dtype=uint8, numpy=0>,\n",
       " <tf.Tensor: shape=(), dtype=uint8, numpy=255>)"
      ]
     },
     "execution_count": 15,
     "metadata": {},
     "output_type": "execute_result"
    }
   ],
   "source": [
    "tf.reduce_min(image), tf.reduce_max(image)"
   ]
  },
  {
   "cell_type": "code",
   "execution_count": 16,
   "id": "93e5a262-834c-4a88-955b-018832fe2a05",
   "metadata": {},
   "outputs": [],
   "source": [
    "# Preprocess the image\n",
    "def preprocess_image(image, label):\n",
    "    img = tf.cast(image, dtype=tf.float32)\n",
    "    img = img/255.\n",
    "    return img, label"
   ]
  },
  {
   "cell_type": "code",
   "execution_count": 17,
   "id": "4f2379a5-cf5d-4a7c-951e-1413febfa101",
   "metadata": {},
   "outputs": [
    {
     "name": "stdout",
     "output_type": "stream",
     "text": [
      "<dtype: 'float32'>\n"
     ]
    }
   ],
   "source": [
    "image, label = preprocess_image(image, label)\n",
    "print(image.dtype)"
   ]
  },
  {
   "cell_type": "code",
   "execution_count": 18,
   "id": "175e39b7-acf7-4318-8db5-985c2726d1e3",
   "metadata": {},
   "outputs": [
    {
     "data": {
      "text/plain": [
       "(60000, 12000)"
      ]
     },
     "execution_count": 18,
     "metadata": {},
     "output_type": "execute_result"
    }
   ],
   "source": [
    "# Splitting into train and valid using train data\n",
    "val_percent = 0.2\n",
    "num_train_examples = ds_info.splits[\"train\"].num_examples\n",
    "num_val_examples = int(val_percent * num_train_examples)\n",
    "num_train_examples, num_val_examples"
   ]
  },
  {
   "cell_type": "code",
   "execution_count": 19,
   "id": "6d0ec5e8-7176-4f8a-a7d5-e78e0a35ddee",
   "metadata": {},
   "outputs": [
    {
     "data": {
      "text/plain": [
       "(48000, 12000)"
      ]
     },
     "execution_count": 19,
     "metadata": {},
     "output_type": "execute_result"
    }
   ],
   "source": [
    "train_data = training_data.take(num_train_examples - num_val_examples)\n",
    "val_data = training_data.skip(num_train_examples - num_val_examples)\n",
    "len(train_data), len(val_data)"
   ]
  },
  {
   "cell_type": "code",
   "execution_count": 20,
   "id": "6cbd3b4f-a5b9-4aec-863e-0de1e7ff3fb9",
   "metadata": {},
   "outputs": [],
   "source": [
    "def create_performant_dataset(dataset, func, batch_size, train=True):\n",
    "    dataset = dataset.map(map_func=func, num_parallel_calls=tf.data.AUTOTUNE)\n",
    "    if train:\n",
    "        dataset = dataset.shuffle(buffer_size=1000).batch(batch_size=batch_size).prefetch(buffer_size=tf.data.AUTOTUNE)\n",
    "    else:\n",
    "        dataset = dataset.batch(batch_size=batch_size).prefetch(buffer_size=tf.data.AUTOTUNE)\n",
    "    return dataset"
   ]
  },
  {
   "cell_type": "code",
   "execution_count": 21,
   "id": "3a20518c-ad3f-4d59-be9b-98eabb429962",
   "metadata": {},
   "outputs": [
    {
     "data": {
      "text/plain": [
       "(750, 188, 157)"
      ]
     },
     "execution_count": 21,
     "metadata": {},
     "output_type": "execute_result"
    }
   ],
   "source": [
    "train_data = create_performant_dataset(dataset=train_data,\n",
    "                                       func=preprocess_image,\n",
    "                                       batch_size=64)\n",
    "\n",
    "val_data = create_performant_dataset(dataset=val_data,\n",
    "                                     func=preprocess_image,\n",
    "                                     batch_size=64)\n",
    "\n",
    "test_data = create_performant_dataset(dataset=testing_data,\n",
    "                                      func=preprocess_image,\n",
    "                                      batch_size=64,\n",
    "                                      train=False)\n",
    "\n",
    "len(train_data), len(val_data), len(test_data)"
   ]
  },
  {
   "cell_type": "code",
   "execution_count": 22,
   "id": "1be9ee5b-f00d-46e4-85f7-1b2671c7ed6f",
   "metadata": {},
   "outputs": [
    {
     "data": {
      "text/plain": [
       "(<PrefetchDataset element_spec=(TensorSpec(shape=(None, 28, 28, 1), dtype=tf.float32, name=None), TensorSpec(shape=(None,), dtype=tf.int64, name=None))>,\n",
       " <PrefetchDataset element_spec=(TensorSpec(shape=(None, 28, 28, 1), dtype=tf.float32, name=None), TensorSpec(shape=(None,), dtype=tf.int64, name=None))>,\n",
       " <PrefetchDataset element_spec=(TensorSpec(shape=(None, 28, 28, 1), dtype=tf.float32, name=None), TensorSpec(shape=(None,), dtype=tf.int64, name=None))>)"
      ]
     },
     "execution_count": 22,
     "metadata": {},
     "output_type": "execute_result"
    }
   ],
   "source": [
    "train_data, val_data, test_data"
   ]
  },
  {
   "cell_type": "code",
   "execution_count": 23,
   "id": "cbf07b39-b673-4795-95b4-fb8afed5122f",
   "metadata": {},
   "outputs": [],
   "source": [
    "sample_64_images = []\n",
    "sample_64_labels = []\n",
    "for i in train_data.take(1).unbatch().as_numpy_iterator():\n",
    "    img, label = i\n",
    "    sample_64_images.append(img)\n",
    "    sample_64_labels.append(label)"
   ]
  },
  {
   "cell_type": "code",
   "execution_count": 24,
   "id": "393fafe2-690c-4d99-974b-913548eefe3b",
   "metadata": {},
   "outputs": [
    {
     "data": {
      "text/plain": [
       "(64, 64)"
      ]
     },
     "execution_count": 24,
     "metadata": {},
     "output_type": "execute_result"
    }
   ],
   "source": [
    "len(sample_64_images), len(sample_64_labels)"
   ]
  },
  {
   "cell_type": "code",
   "execution_count": 25,
   "id": "0e17b00e-8f52-4346-a749-25198f964cbc",
   "metadata": {},
   "outputs": [
    {
     "data": {
      "text/plain": [
       "array([[[0.        ],\n",
       "        [0.        ],\n",
       "        [0.        ],\n",
       "        [0.        ],\n",
       "        [0.        ],\n",
       "        [0.        ],\n",
       "        [0.        ],\n",
       "        [0.        ],\n",
       "        [0.        ],\n",
       "        [0.        ],\n",
       "        [0.        ],\n",
       "        [0.        ],\n",
       "        [0.        ],\n",
       "        [0.        ],\n",
       "        [0.        ],\n",
       "        [0.        ],\n",
       "        [0.        ],\n",
       "        [0.        ],\n",
       "        [0.        ],\n",
       "        [0.        ],\n",
       "        [0.        ],\n",
       "        [0.        ],\n",
       "        [0.        ],\n",
       "        [0.        ],\n",
       "        [0.        ],\n",
       "        [0.        ],\n",
       "        [0.        ],\n",
       "        [0.        ]],\n",
       "\n",
       "       [[0.        ],\n",
       "        [0.        ],\n",
       "        [0.        ],\n",
       "        [0.        ],\n",
       "        [0.        ],\n",
       "        [0.        ],\n",
       "        [0.        ],\n",
       "        [0.        ],\n",
       "        [0.        ],\n",
       "        [0.        ],\n",
       "        [0.        ],\n",
       "        [0.        ],\n",
       "        [0.        ],\n",
       "        [0.        ],\n",
       "        [0.        ],\n",
       "        [0.        ],\n",
       "        [0.        ],\n",
       "        [0.        ],\n",
       "        [0.        ],\n",
       "        [0.        ],\n",
       "        [0.        ],\n",
       "        [0.        ],\n",
       "        [0.        ],\n",
       "        [0.        ],\n",
       "        [0.        ],\n",
       "        [0.        ],\n",
       "        [0.        ],\n",
       "        [0.        ]],\n",
       "\n",
       "       [[0.        ],\n",
       "        [0.        ],\n",
       "        [0.        ],\n",
       "        [0.        ],\n",
       "        [0.        ],\n",
       "        [0.        ],\n",
       "        [0.        ],\n",
       "        [0.        ],\n",
       "        [0.        ],\n",
       "        [0.        ],\n",
       "        [0.        ],\n",
       "        [0.        ],\n",
       "        [0.        ],\n",
       "        [0.        ],\n",
       "        [0.        ],\n",
       "        [0.        ],\n",
       "        [0.        ],\n",
       "        [0.        ],\n",
       "        [0.        ],\n",
       "        [0.        ],\n",
       "        [0.        ],\n",
       "        [0.        ],\n",
       "        [0.        ],\n",
       "        [0.        ],\n",
       "        [0.        ],\n",
       "        [0.        ],\n",
       "        [0.        ],\n",
       "        [0.        ]],\n",
       "\n",
       "       [[0.        ],\n",
       "        [0.        ],\n",
       "        [0.        ],\n",
       "        [0.        ],\n",
       "        [0.        ],\n",
       "        [0.        ],\n",
       "        [0.        ],\n",
       "        [0.        ],\n",
       "        [0.        ],\n",
       "        [0.        ],\n",
       "        [0.        ],\n",
       "        [0.        ],\n",
       "        [0.        ],\n",
       "        [0.        ],\n",
       "        [0.        ],\n",
       "        [0.        ],\n",
       "        [0.        ],\n",
       "        [0.        ],\n",
       "        [0.        ],\n",
       "        [0.        ],\n",
       "        [0.        ],\n",
       "        [0.        ],\n",
       "        [0.        ],\n",
       "        [0.        ],\n",
       "        [0.        ],\n",
       "        [0.        ],\n",
       "        [0.        ],\n",
       "        [0.        ]],\n",
       "\n",
       "       [[0.        ],\n",
       "        [0.        ],\n",
       "        [0.        ],\n",
       "        [0.        ],\n",
       "        [0.        ],\n",
       "        [0.        ],\n",
       "        [0.        ],\n",
       "        [0.        ],\n",
       "        [0.        ],\n",
       "        [0.        ],\n",
       "        [0.        ],\n",
       "        [0.        ],\n",
       "        [0.        ],\n",
       "        [0.        ],\n",
       "        [0.        ],\n",
       "        [0.        ],\n",
       "        [0.        ],\n",
       "        [0.        ],\n",
       "        [0.        ],\n",
       "        [0.        ],\n",
       "        [0.        ],\n",
       "        [0.        ],\n",
       "        [0.        ],\n",
       "        [0.        ],\n",
       "        [0.        ],\n",
       "        [0.        ],\n",
       "        [0.        ],\n",
       "        [0.        ]],\n",
       "\n",
       "       [[0.        ],\n",
       "        [0.        ],\n",
       "        [0.        ],\n",
       "        [0.        ],\n",
       "        [0.        ],\n",
       "        [0.        ],\n",
       "        [0.        ],\n",
       "        [0.        ],\n",
       "        [0.        ],\n",
       "        [0.        ],\n",
       "        [0.        ],\n",
       "        [0.        ],\n",
       "        [0.        ],\n",
       "        [0.        ],\n",
       "        [0.23529412],\n",
       "        [0.8627451 ],\n",
       "        [0.70980394],\n",
       "        [0.        ],\n",
       "        [0.        ],\n",
       "        [0.        ],\n",
       "        [0.        ],\n",
       "        [0.        ],\n",
       "        [0.        ],\n",
       "        [0.        ],\n",
       "        [0.        ],\n",
       "        [0.        ],\n",
       "        [0.        ],\n",
       "        [0.        ]],\n",
       "\n",
       "       [[0.        ],\n",
       "        [0.        ],\n",
       "        [0.        ],\n",
       "        [0.        ],\n",
       "        [0.        ],\n",
       "        [0.        ],\n",
       "        [0.        ],\n",
       "        [0.        ],\n",
       "        [0.        ],\n",
       "        [0.        ],\n",
       "        [0.        ],\n",
       "        [0.        ],\n",
       "        [0.        ],\n",
       "        [0.        ],\n",
       "        [0.37254903],\n",
       "        [0.99607843],\n",
       "        [0.84705883],\n",
       "        [0.        ],\n",
       "        [0.        ],\n",
       "        [0.        ],\n",
       "        [0.        ],\n",
       "        [0.        ],\n",
       "        [0.        ],\n",
       "        [0.        ],\n",
       "        [0.        ],\n",
       "        [0.        ],\n",
       "        [0.        ],\n",
       "        [0.        ]],\n",
       "\n",
       "       [[0.        ],\n",
       "        [0.        ],\n",
       "        [0.        ],\n",
       "        [0.        ],\n",
       "        [0.        ],\n",
       "        [0.        ],\n",
       "        [0.        ],\n",
       "        [0.        ],\n",
       "        [0.        ],\n",
       "        [0.        ],\n",
       "        [0.        ],\n",
       "        [0.        ],\n",
       "        [0.        ],\n",
       "        [0.        ],\n",
       "        [0.65882355],\n",
       "        [0.99607843],\n",
       "        [0.84705883],\n",
       "        [0.        ],\n",
       "        [0.        ],\n",
       "        [0.        ],\n",
       "        [0.        ],\n",
       "        [0.        ],\n",
       "        [0.        ],\n",
       "        [0.        ],\n",
       "        [0.        ],\n",
       "        [0.        ],\n",
       "        [0.        ],\n",
       "        [0.        ]],\n",
       "\n",
       "       [[0.        ],\n",
       "        [0.        ],\n",
       "        [0.        ],\n",
       "        [0.        ],\n",
       "        [0.        ],\n",
       "        [0.        ],\n",
       "        [0.        ],\n",
       "        [0.        ],\n",
       "        [0.        ],\n",
       "        [0.        ],\n",
       "        [0.        ],\n",
       "        [0.        ],\n",
       "        [0.        ],\n",
       "        [0.        ],\n",
       "        [0.7372549 ],\n",
       "        [0.99607843],\n",
       "        [0.84705883],\n",
       "        [0.        ],\n",
       "        [0.        ],\n",
       "        [0.        ],\n",
       "        [0.        ],\n",
       "        [0.        ],\n",
       "        [0.        ],\n",
       "        [0.        ],\n",
       "        [0.        ],\n",
       "        [0.        ],\n",
       "        [0.        ],\n",
       "        [0.        ]],\n",
       "\n",
       "       [[0.        ],\n",
       "        [0.        ],\n",
       "        [0.        ],\n",
       "        [0.        ],\n",
       "        [0.        ],\n",
       "        [0.        ],\n",
       "        [0.        ],\n",
       "        [0.        ],\n",
       "        [0.        ],\n",
       "        [0.        ],\n",
       "        [0.        ],\n",
       "        [0.        ],\n",
       "        [0.        ],\n",
       "        [0.02352941],\n",
       "        [0.7882353 ],\n",
       "        [0.99607843],\n",
       "        [0.6392157 ],\n",
       "        [0.        ],\n",
       "        [0.        ],\n",
       "        [0.        ],\n",
       "        [0.        ],\n",
       "        [0.        ],\n",
       "        [0.        ],\n",
       "        [0.        ],\n",
       "        [0.        ],\n",
       "        [0.        ],\n",
       "        [0.        ],\n",
       "        [0.        ]],\n",
       "\n",
       "       [[0.        ],\n",
       "        [0.        ],\n",
       "        [0.        ],\n",
       "        [0.        ],\n",
       "        [0.        ],\n",
       "        [0.        ],\n",
       "        [0.        ],\n",
       "        [0.        ],\n",
       "        [0.        ],\n",
       "        [0.        ],\n",
       "        [0.        ],\n",
       "        [0.        ],\n",
       "        [0.        ],\n",
       "        [0.11372549],\n",
       "        [0.99607843],\n",
       "        [0.99607843],\n",
       "        [0.47843137],\n",
       "        [0.        ],\n",
       "        [0.        ],\n",
       "        [0.        ],\n",
       "        [0.        ],\n",
       "        [0.        ],\n",
       "        [0.        ],\n",
       "        [0.        ],\n",
       "        [0.        ],\n",
       "        [0.        ],\n",
       "        [0.        ],\n",
       "        [0.        ]],\n",
       "\n",
       "       [[0.        ],\n",
       "        [0.        ],\n",
       "        [0.        ],\n",
       "        [0.        ],\n",
       "        [0.        ],\n",
       "        [0.        ],\n",
       "        [0.        ],\n",
       "        [0.        ],\n",
       "        [0.        ],\n",
       "        [0.        ],\n",
       "        [0.        ],\n",
       "        [0.        ],\n",
       "        [0.        ],\n",
       "        [0.3764706 ],\n",
       "        [0.99607843],\n",
       "        [0.99607843],\n",
       "        [0.35686275],\n",
       "        [0.        ],\n",
       "        [0.        ],\n",
       "        [0.        ],\n",
       "        [0.        ],\n",
       "        [0.        ],\n",
       "        [0.        ],\n",
       "        [0.        ],\n",
       "        [0.        ],\n",
       "        [0.        ],\n",
       "        [0.        ],\n",
       "        [0.        ]],\n",
       "\n",
       "       [[0.        ],\n",
       "        [0.        ],\n",
       "        [0.        ],\n",
       "        [0.        ],\n",
       "        [0.        ],\n",
       "        [0.        ],\n",
       "        [0.        ],\n",
       "        [0.        ],\n",
       "        [0.        ],\n",
       "        [0.        ],\n",
       "        [0.        ],\n",
       "        [0.        ],\n",
       "        [0.        ],\n",
       "        [0.48235294],\n",
       "        [0.99607843],\n",
       "        [0.9411765 ],\n",
       "        [0.08627451],\n",
       "        [0.        ],\n",
       "        [0.        ],\n",
       "        [0.        ],\n",
       "        [0.        ],\n",
       "        [0.        ],\n",
       "        [0.        ],\n",
       "        [0.        ],\n",
       "        [0.        ],\n",
       "        [0.        ],\n",
       "        [0.        ],\n",
       "        [0.        ]],\n",
       "\n",
       "       [[0.        ],\n",
       "        [0.        ],\n",
       "        [0.        ],\n",
       "        [0.        ],\n",
       "        [0.        ],\n",
       "        [0.        ],\n",
       "        [0.        ],\n",
       "        [0.        ],\n",
       "        [0.        ],\n",
       "        [0.        ],\n",
       "        [0.        ],\n",
       "        [0.        ],\n",
       "        [0.        ],\n",
       "        [0.65882355],\n",
       "        [0.99607843],\n",
       "        [0.7372549 ],\n",
       "        [0.        ],\n",
       "        [0.        ],\n",
       "        [0.        ],\n",
       "        [0.        ],\n",
       "        [0.        ],\n",
       "        [0.        ],\n",
       "        [0.        ],\n",
       "        [0.        ],\n",
       "        [0.        ],\n",
       "        [0.        ],\n",
       "        [0.        ],\n",
       "        [0.        ]],\n",
       "\n",
       "       [[0.        ],\n",
       "        [0.        ],\n",
       "        [0.        ],\n",
       "        [0.        ],\n",
       "        [0.        ],\n",
       "        [0.        ],\n",
       "        [0.        ],\n",
       "        [0.        ],\n",
       "        [0.        ],\n",
       "        [0.        ],\n",
       "        [0.        ],\n",
       "        [0.        ],\n",
       "        [0.        ],\n",
       "        [0.8509804 ],\n",
       "        [0.99607843],\n",
       "        [0.7372549 ],\n",
       "        [0.        ],\n",
       "        [0.        ],\n",
       "        [0.        ],\n",
       "        [0.        ],\n",
       "        [0.        ],\n",
       "        [0.        ],\n",
       "        [0.        ],\n",
       "        [0.        ],\n",
       "        [0.        ],\n",
       "        [0.        ],\n",
       "        [0.        ],\n",
       "        [0.        ]],\n",
       "\n",
       "       [[0.        ],\n",
       "        [0.        ],\n",
       "        [0.        ],\n",
       "        [0.        ],\n",
       "        [0.        ],\n",
       "        [0.        ],\n",
       "        [0.        ],\n",
       "        [0.        ],\n",
       "        [0.        ],\n",
       "        [0.        ],\n",
       "        [0.        ],\n",
       "        [0.        ],\n",
       "        [0.        ],\n",
       "        [0.85490197],\n",
       "        [1.        ],\n",
       "        [0.7411765 ],\n",
       "        [0.        ],\n",
       "        [0.        ],\n",
       "        [0.        ],\n",
       "        [0.        ],\n",
       "        [0.        ],\n",
       "        [0.        ],\n",
       "        [0.        ],\n",
       "        [0.        ],\n",
       "        [0.        ],\n",
       "        [0.        ],\n",
       "        [0.        ],\n",
       "        [0.        ]],\n",
       "\n",
       "       [[0.        ],\n",
       "        [0.        ],\n",
       "        [0.        ],\n",
       "        [0.        ],\n",
       "        [0.        ],\n",
       "        [0.        ],\n",
       "        [0.        ],\n",
       "        [0.        ],\n",
       "        [0.        ],\n",
       "        [0.        ],\n",
       "        [0.        ],\n",
       "        [0.        ],\n",
       "        [0.03529412],\n",
       "        [0.87058824],\n",
       "        [0.99607843],\n",
       "        [0.4117647 ],\n",
       "        [0.        ],\n",
       "        [0.        ],\n",
       "        [0.        ],\n",
       "        [0.        ],\n",
       "        [0.        ],\n",
       "        [0.        ],\n",
       "        [0.        ],\n",
       "        [0.        ],\n",
       "        [0.        ],\n",
       "        [0.        ],\n",
       "        [0.        ],\n",
       "        [0.        ]],\n",
       "\n",
       "       [[0.        ],\n",
       "        [0.        ],\n",
       "        [0.        ],\n",
       "        [0.        ],\n",
       "        [0.        ],\n",
       "        [0.        ],\n",
       "        [0.        ],\n",
       "        [0.        ],\n",
       "        [0.        ],\n",
       "        [0.        ],\n",
       "        [0.        ],\n",
       "        [0.        ],\n",
       "        [0.22352941],\n",
       "        [0.99607843],\n",
       "        [0.99607843],\n",
       "        [0.35686275],\n",
       "        [0.        ],\n",
       "        [0.        ],\n",
       "        [0.        ],\n",
       "        [0.        ],\n",
       "        [0.        ],\n",
       "        [0.        ],\n",
       "        [0.        ],\n",
       "        [0.        ],\n",
       "        [0.        ],\n",
       "        [0.        ],\n",
       "        [0.        ],\n",
       "        [0.        ]],\n",
       "\n",
       "       [[0.        ],\n",
       "        [0.        ],\n",
       "        [0.        ],\n",
       "        [0.        ],\n",
       "        [0.        ],\n",
       "        [0.        ],\n",
       "        [0.        ],\n",
       "        [0.        ],\n",
       "        [0.        ],\n",
       "        [0.        ],\n",
       "        [0.        ],\n",
       "        [0.        ],\n",
       "        [0.22352941],\n",
       "        [0.99607843],\n",
       "        [0.99607843],\n",
       "        [0.2509804 ],\n",
       "        [0.        ],\n",
       "        [0.        ],\n",
       "        [0.        ],\n",
       "        [0.        ],\n",
       "        [0.        ],\n",
       "        [0.        ],\n",
       "        [0.        ],\n",
       "        [0.        ],\n",
       "        [0.        ],\n",
       "        [0.        ],\n",
       "        [0.        ],\n",
       "        [0.        ]],\n",
       "\n",
       "       [[0.        ],\n",
       "        [0.        ],\n",
       "        [0.        ],\n",
       "        [0.        ],\n",
       "        [0.        ],\n",
       "        [0.        ],\n",
       "        [0.        ],\n",
       "        [0.        ],\n",
       "        [0.        ],\n",
       "        [0.        ],\n",
       "        [0.        ],\n",
       "        [0.        ],\n",
       "        [0.22352941],\n",
       "        [0.99607843],\n",
       "        [0.99607843],\n",
       "        [0.02745098],\n",
       "        [0.        ],\n",
       "        [0.        ],\n",
       "        [0.        ],\n",
       "        [0.        ],\n",
       "        [0.        ],\n",
       "        [0.        ],\n",
       "        [0.        ],\n",
       "        [0.        ],\n",
       "        [0.        ],\n",
       "        [0.        ],\n",
       "        [0.        ],\n",
       "        [0.        ]],\n",
       "\n",
       "       [[0.        ],\n",
       "        [0.        ],\n",
       "        [0.        ],\n",
       "        [0.        ],\n",
       "        [0.        ],\n",
       "        [0.        ],\n",
       "        [0.        ],\n",
       "        [0.        ],\n",
       "        [0.        ],\n",
       "        [0.        ],\n",
       "        [0.        ],\n",
       "        [0.        ],\n",
       "        [0.22352941],\n",
       "        [0.99607843],\n",
       "        [0.99607843],\n",
       "        [0.        ],\n",
       "        [0.        ],\n",
       "        [0.        ],\n",
       "        [0.        ],\n",
       "        [0.        ],\n",
       "        [0.        ],\n",
       "        [0.        ],\n",
       "        [0.        ],\n",
       "        [0.        ],\n",
       "        [0.        ],\n",
       "        [0.        ],\n",
       "        [0.        ],\n",
       "        [0.        ]],\n",
       "\n",
       "       [[0.        ],\n",
       "        [0.        ],\n",
       "        [0.        ],\n",
       "        [0.        ],\n",
       "        [0.        ],\n",
       "        [0.        ],\n",
       "        [0.        ],\n",
       "        [0.        ],\n",
       "        [0.        ],\n",
       "        [0.        ],\n",
       "        [0.        ],\n",
       "        [0.        ],\n",
       "        [0.22352941],\n",
       "        [0.99607843],\n",
       "        [0.87058824],\n",
       "        [0.        ],\n",
       "        [0.        ],\n",
       "        [0.        ],\n",
       "        [0.        ],\n",
       "        [0.        ],\n",
       "        [0.        ],\n",
       "        [0.        ],\n",
       "        [0.        ],\n",
       "        [0.        ],\n",
       "        [0.        ],\n",
       "        [0.        ],\n",
       "        [0.        ],\n",
       "        [0.        ]],\n",
       "\n",
       "       [[0.        ],\n",
       "        [0.        ],\n",
       "        [0.        ],\n",
       "        [0.        ],\n",
       "        [0.        ],\n",
       "        [0.        ],\n",
       "        [0.        ],\n",
       "        [0.        ],\n",
       "        [0.        ],\n",
       "        [0.        ],\n",
       "        [0.        ],\n",
       "        [0.        ],\n",
       "        [0.22352941],\n",
       "        [0.99607843],\n",
       "        [0.5411765 ],\n",
       "        [0.        ],\n",
       "        [0.        ],\n",
       "        [0.        ],\n",
       "        [0.        ],\n",
       "        [0.        ],\n",
       "        [0.        ],\n",
       "        [0.        ],\n",
       "        [0.        ],\n",
       "        [0.        ],\n",
       "        [0.        ],\n",
       "        [0.        ],\n",
       "        [0.        ],\n",
       "        [0.        ]],\n",
       "\n",
       "       [[0.        ],\n",
       "        [0.        ],\n",
       "        [0.        ],\n",
       "        [0.        ],\n",
       "        [0.        ],\n",
       "        [0.        ],\n",
       "        [0.        ],\n",
       "        [0.        ],\n",
       "        [0.        ],\n",
       "        [0.        ],\n",
       "        [0.        ],\n",
       "        [0.        ],\n",
       "        [0.22352941],\n",
       "        [0.98039216],\n",
       "        [0.22745098],\n",
       "        [0.        ],\n",
       "        [0.        ],\n",
       "        [0.        ],\n",
       "        [0.        ],\n",
       "        [0.        ],\n",
       "        [0.        ],\n",
       "        [0.        ],\n",
       "        [0.        ],\n",
       "        [0.        ],\n",
       "        [0.        ],\n",
       "        [0.        ],\n",
       "        [0.        ],\n",
       "        [0.        ]],\n",
       "\n",
       "       [[0.        ],\n",
       "        [0.        ],\n",
       "        [0.        ],\n",
       "        [0.        ],\n",
       "        [0.        ],\n",
       "        [0.        ],\n",
       "        [0.        ],\n",
       "        [0.        ],\n",
       "        [0.        ],\n",
       "        [0.        ],\n",
       "        [0.        ],\n",
       "        [0.        ],\n",
       "        [0.14117648],\n",
       "        [0.6901961 ],\n",
       "        [0.        ],\n",
       "        [0.        ],\n",
       "        [0.        ],\n",
       "        [0.        ],\n",
       "        [0.        ],\n",
       "        [0.        ],\n",
       "        [0.        ],\n",
       "        [0.        ],\n",
       "        [0.        ],\n",
       "        [0.        ],\n",
       "        [0.        ],\n",
       "        [0.        ],\n",
       "        [0.        ],\n",
       "        [0.        ]],\n",
       "\n",
       "       [[0.        ],\n",
       "        [0.        ],\n",
       "        [0.        ],\n",
       "        [0.        ],\n",
       "        [0.        ],\n",
       "        [0.        ],\n",
       "        [0.        ],\n",
       "        [0.        ],\n",
       "        [0.        ],\n",
       "        [0.        ],\n",
       "        [0.        ],\n",
       "        [0.        ],\n",
       "        [0.        ],\n",
       "        [0.        ],\n",
       "        [0.        ],\n",
       "        [0.        ],\n",
       "        [0.        ],\n",
       "        [0.        ],\n",
       "        [0.        ],\n",
       "        [0.        ],\n",
       "        [0.        ],\n",
       "        [0.        ],\n",
       "        [0.        ],\n",
       "        [0.        ],\n",
       "        [0.        ],\n",
       "        [0.        ],\n",
       "        [0.        ],\n",
       "        [0.        ]],\n",
       "\n",
       "       [[0.        ],\n",
       "        [0.        ],\n",
       "        [0.        ],\n",
       "        [0.        ],\n",
       "        [0.        ],\n",
       "        [0.        ],\n",
       "        [0.        ],\n",
       "        [0.        ],\n",
       "        [0.        ],\n",
       "        [0.        ],\n",
       "        [0.        ],\n",
       "        [0.        ],\n",
       "        [0.        ],\n",
       "        [0.        ],\n",
       "        [0.        ],\n",
       "        [0.        ],\n",
       "        [0.        ],\n",
       "        [0.        ],\n",
       "        [0.        ],\n",
       "        [0.        ],\n",
       "        [0.        ],\n",
       "        [0.        ],\n",
       "        [0.        ],\n",
       "        [0.        ],\n",
       "        [0.        ],\n",
       "        [0.        ],\n",
       "        [0.        ],\n",
       "        [0.        ]],\n",
       "\n",
       "       [[0.        ],\n",
       "        [0.        ],\n",
       "        [0.        ],\n",
       "        [0.        ],\n",
       "        [0.        ],\n",
       "        [0.        ],\n",
       "        [0.        ],\n",
       "        [0.        ],\n",
       "        [0.        ],\n",
       "        [0.        ],\n",
       "        [0.        ],\n",
       "        [0.        ],\n",
       "        [0.        ],\n",
       "        [0.        ],\n",
       "        [0.        ],\n",
       "        [0.        ],\n",
       "        [0.        ],\n",
       "        [0.        ],\n",
       "        [0.        ],\n",
       "        [0.        ],\n",
       "        [0.        ],\n",
       "        [0.        ],\n",
       "        [0.        ],\n",
       "        [0.        ],\n",
       "        [0.        ],\n",
       "        [0.        ],\n",
       "        [0.        ],\n",
       "        [0.        ]]], dtype=float32)"
      ]
     },
     "execution_count": 25,
     "metadata": {},
     "output_type": "execute_result"
    }
   ],
   "source": [
    "sample_64_images[0]"
   ]
  },
  {
   "cell_type": "code",
   "execution_count": 26,
   "id": "819d29cb-cd5f-4a3c-ada3-36c12f14c385",
   "metadata": {},
   "outputs": [],
   "source": [
    "import random\n",
    "def view_random_sample_images(img, label):\n",
    "    random_num = random.randint(0, len(img))\n",
    "    random_img = img[random_num]\n",
    "    random_label = label[random_num]\n",
    "\n",
    "    plt.figure(figsize=(10, 7))\n",
    "    plt.imshow(random_img)\n",
    "    plt.title(class_names[random_label])\n",
    "    plt.axis(False)"
   ]
  },
  {
   "cell_type": "code",
   "execution_count": 27,
   "id": "94faf4a9-3f12-4c26-904a-4af8f5b729ad",
   "metadata": {},
   "outputs": [
    {
     "data": {
      "image/png": "[encoded data removed]",
      "text/plain": [
       "<Figure size 1000x700 with 1 Axes>"
      ]
     },
     "metadata": {},
     "output_type": "display_data"
    }
   ],
   "source": [
    "view_random_sample_images(img=sample_64_images,\n",
    "                          label=sample_64_labels)"
   ]
  },
  {
   "cell_type": "code",
   "execution_count": 28,
   "id": "f0ac46df-13d6-46d3-81f3-1ad72e634e4b",
   "metadata": {},
   "outputs": [],
   "source": [
    "# Creating callbacks\n",
    "import os\n",
    "import datetime\n",
    "\n",
    "CHECKPOINT_PATH = \"model_experiments_mnist_cnn\"\n",
    "TENSORBOARD_PATH = \"model_logs_mnist_cnn\"\n",
    "\n",
    "early_stopping = tf.keras.callbacks.EarlyStopping(monitor=\"val_loss\", patience=5, restore_best_weights=True)\n",
    "\n",
    "reduce_lr = tf.keras.callbacks.ReduceLROnPlateau(monitor=\"val_loss\", patience=3)\n",
    "\n",
    "lr_scheduler = tf.keras.callbacks.LearningRateScheduler(lambda epoch: 1e-5 * 10 ** (epoch/2), verbose=1)\n",
    "\n",
    "def checkpoint_callback(model_name):\n",
    "    return tf.keras.callbacks.ModelCheckpoint(filepath=os.path.join(CHECKPOINT_PATH, model_name), \n",
    "                                              save_best_only=True, \n",
    "                                              monitor=\"val_loss\", \n",
    "                                              verbose=1)\n",
    "\n",
    "def tensorboard_callback(model_name):\n",
    "    log_dir = TENSORBOARD_PATH + \"/\" + model_name + \"/\" + datetime.datetime.now().strftime(\"%Y%m%d-%H%M%S\")\n",
    "    return tf.keras.callbacks.TensorBoard(log_dir)"
   ]
  },
  {
   "cell_type": "code",
   "execution_count": 29,
   "id": "f40207f7-2826-4355-9a8d-0198a2ed28a7",
   "metadata": {},
   "outputs": [],
   "source": [
    "INPUT_SHAPE = (28, 28, 1)\n",
    "inputs = tf.keras.layers.Input(shape=INPUT_SHAPE, dtype=tf.float32)\n",
    "x = tf.keras.layers.Conv2D(filters=10,\n",
    "                           kernel_size=3,\n",
    "                           activation=\"relu\")(inputs)\n",
    "x = tf.keras.layers.Conv2D(10, 3, activation=\"relu\")(x)\n",
    "x = tf.keras.layers.MaxPool2D(pool_size=2,\n",
    "                              padding=\"valid\")(x)\n",
    "x = tf.keras.layers.Conv2D(10, 3, activation=\"relu\")(x)\n",
    "x = tf.keras.layers.Conv2D(10, 3, activation=\"relu\")(x)\n",
    "x = tf.keras.layers.MaxPool2D(2)(x)\n",
    "x = tf.keras.layers.Flatten()(x)\n",
    "outputs= tf.keras.layers.Dense(len(class_names), activation=\"softmax\")(x)\n",
    "\n",
    "model_1 = tf.keras.Model(inputs, outputs, name=\"model_1\")"
   ]
  },
  {
   "cell_type": "code",
   "execution_count": 30,
   "id": "f5c8474b-2027-40ab-9753-28625099d9a1",
   "metadata": {},
   "outputs": [
    {
     "name": "stdout",
     "output_type": "stream",
     "text": [
      "Model: \"model_1\"\n",
      "_________________________________________________________________\n",
      " Layer (type)                Output Shape              Param #   \n",
      "=================================================================\n",
      " input_1 (InputLayer)        [(None, 28, 28, 1)]       0         \n",
      "                                                                 \n",
      " conv2d (Conv2D)             (None, 26, 26, 10)        100       \n",
      "                                                                 \n",
      " conv2d_1 (Conv2D)           (None, 24, 24, 10)        910       \n",
      "                                                                 \n",
      " max_pooling2d (MaxPooling2D  (None, 12, 12, 10)       0         \n",
      " )                                                               \n",
      "                                                                 \n",
      " conv2d_2 (Conv2D)           (None, 10, 10, 10)        910       \n",
      "                                                                 \n",
      " conv2d_3 (Conv2D)           (None, 8, 8, 10)          910       \n",
      "                                                                 \n",
      " max_pooling2d_1 (MaxPooling  (None, 4, 4, 10)         0         \n",
      " 2D)                                                             \n",
      "                                                                 \n",
      " flatten (Flatten)           (None, 160)               0         \n",
      "                                                                 \n",
      " dense (Dense)               (None, 10)                1610      \n",
      "                                                                 \n",
      "=================================================================\n",
      "Total params: 4,440\n",
      "Trainable params: 4,440\n",
      "Non-trainable params: 0\n",
      "_________________________________________________________________\n"
     ]
    }
   ],
   "source": [
    "model_1.summary()"
   ]
  },
  {
   "cell_type": "code",
   "execution_count": 31,
   "id": "581a8c7d-cdb9-451b-ae73-abd7c78a92be",
   "metadata": {},
   "outputs": [
    {
     "data": {
      "image/png": "[encoded data removed]",
      "text/plain": [
       "<IPython.core.display.Image object>"
      ]
     },
     "execution_count": 31,
     "metadata": {},
     "output_type": "execute_result"
    }
   ],
   "source": [
    "tf.keras.utils.plot_model(model_1, show_shapes=True)"
   ]
  },
  {
   "cell_type": "code",
   "execution_count": 32,
   "id": "f8fab6e5-e8f5-406d-a03a-1c8aa141a926",
   "metadata": {
    "scrolled": true
   },
   "outputs": [
    {
     "name": "stdout",
     "output_type": "stream",
     "text": [
      "\n",
      "Epoch 1: LearningRateScheduler setting learning rate to 1e-05.\n",
      "Epoch 1/15\n",
      "750/750 [==============================] - 25s 14ms/step - loss: 2.2844 - accuracy: 0.1671 - val_loss: 2.2625 - val_accuracy: 0.1914 - lr: 1.0000e-05\n",
      "\n",
      "Epoch 2: LearningRateScheduler setting learning rate to 3.1622776601683795e-05.\n",
      "Epoch 2/15\n",
      "750/750 [==============================] - 9s 12ms/step - loss: 1.9163 - accuracy: 0.3970 - val_loss: 1.2806 - val_accuracy: 0.6286 - lr: 3.1623e-05\n",
      "\n",
      "Epoch 3: LearningRateScheduler setting learning rate to 0.0001.\n",
      "Epoch 3/15\n",
      "750/750 [==============================] - 8s 11ms/step - loss: 0.6438 - accuracy: 0.8018 - val_loss: 0.4480 - val_accuracy: 0.8592 - lr: 1.0000e-04\n",
      "\n",
      "Epoch 4: LearningRateScheduler setting learning rate to 0.00031622776601683794.\n",
      "Epoch 4/15\n",
      "750/750 [==============================] - 7s 10ms/step - loss: 0.3328 - accuracy: 0.8974 - val_loss: 0.2693 - val_accuracy: 0.9218 - lr: 3.1623e-04\n",
      "\n",
      "Epoch 5: LearningRateScheduler setting learning rate to 0.001.\n",
      "Epoch 5/15\n",
      "750/750 [==============================] - 6s 8ms/step - loss: 0.1963 - accuracy: 0.9385 - val_loss: 0.1502 - val_accuracy: 0.9553 - lr: 0.0010\n",
      "\n",
      "Epoch 6: LearningRateScheduler setting learning rate to 0.00316227766016838.\n",
      "Epoch 6/15\n",
      "750/750 [==============================] - 7s 9ms/step - loss: 0.1416 - accuracy: 0.9566 - val_loss: 0.1105 - val_accuracy: 0.9667 - lr: 0.0032\n",
      "\n",
      "Epoch 7: LearningRateScheduler setting learning rate to 0.01.\n",
      "Epoch 7/15\n",
      "750/750 [==============================] - 6s 8ms/step - loss: 0.1194 - accuracy: 0.9636 - val_loss: 0.0847 - val_accuracy: 0.9732 - lr: 0.0100\n",
      "\n",
      "Epoch 8: LearningRateScheduler setting learning rate to 0.0316227766016838.\n",
      "Epoch 8/15\n",
      "750/750 [==============================] - 6s 8ms/step - loss: 0.1894 - accuracy: 0.9449 - val_loss: 0.1444 - val_accuracy: 0.9593 - lr: 0.0316\n",
      "\n",
      "Epoch 9: LearningRateScheduler setting learning rate to 0.1.\n",
      "Epoch 9/15\n",
      "750/750 [==============================] - 8s 11ms/step - loss: 2.2357 - accuracy: 0.1410 - val_loss: 2.3193 - val_accuracy: 0.0983 - lr: 0.1000\n",
      "\n",
      "Epoch 10: LearningRateScheduler setting learning rate to 0.31622776601683794.\n",
      "Epoch 10/15\n",
      "750/750 [==============================] - 8s 10ms/step - loss: 2.3311 - accuracy: 0.1007 - val_loss: 2.3253 - val_accuracy: 0.1025 - lr: 0.3162\n",
      "\n",
      "Epoch 11: LearningRateScheduler setting learning rate to 1.0.\n",
      "Epoch 11/15\n",
      "750/750 [==============================] - 7s 9ms/step - loss: 2.3914 - accuracy: 0.1017 - val_loss: 2.3666 - val_accuracy: 0.0997 - lr: 1.0000\n",
      "\n",
      "Epoch 12: LearningRateScheduler setting learning rate to 3.1622776601683795.\n",
      "Epoch 12/15\n",
      "750/750 [==============================] - 7s 9ms/step - loss: 2.5393 - accuracy: 0.1010 - val_loss: 2.4729 - val_accuracy: 0.0974 - lr: 3.1623\n",
      "\n",
      "Epoch 13: LearningRateScheduler setting learning rate to 10.0.\n",
      "Epoch 13/15\n",
      "750/750 [==============================] - 7s 10ms/step - loss: 4.3025 - accuracy: 0.0967 - val_loss: 2.6463 - val_accuracy: 0.0983 - lr: 10.0000\n",
      "\n",
      "Epoch 14: LearningRateScheduler setting learning rate to 31.6227766016838.\n",
      "Epoch 14/15\n",
      "750/750 [==============================] - 7s 9ms/step - loss: 24.6073 - accuracy: 0.1010 - val_loss: 8.4979 - val_accuracy: 0.0997 - lr: 31.6228\n",
      "\n",
      "Epoch 15: LearningRateScheduler setting learning rate to 100.00000000000001.\n",
      "Epoch 15/15\n",
      "750/750 [==============================] - 7s 9ms/step - loss: 71.5911 - accuracy: 0.1019 - val_loss: 62.6118 - val_accuracy: 0.0983 - lr: 100.0000\n"
     ]
    }
   ],
   "source": [
    "model_1.compile(loss=tf.keras.losses.SparseCategoricalCrossentropy(),\n",
    "                optimizer=tf.keras.optimizers.Adam(),\n",
    "                metrics=[\"accuracy\"])\n",
    "\n",
    "model_1_history = model_1.fit(train_data,\n",
    "                              validation_data=val_data,\n",
    "                              steps_per_epoch=len(train_data),\n",
    "                              validation_steps=len(val_data),\n",
    "                              epochs=15,\n",
    "                              callbacks=[lr_scheduler])"
   ]
  },
  {
   "cell_type": "code",
   "execution_count": 33,
   "id": "e0ba4985-3265-4de8-9636-d01216f7afbb",
   "metadata": {},
   "outputs": [
    {
     "data": {
      "text/plain": [
       "<Axes: >"
      ]
     },
     "execution_count": 33,
     "metadata": {},
     "output_type": "execute_result"
    },
    {
     "data": {
      "image/png": "[encoded data removed]",
      "text/plain": [
       "<Figure size 640x480 with 1 Axes>"
      ]
     },
     "metadata": {},
     "output_type": "display_data"
    }
   ],
   "source": [
    "pd.DataFrame(model_1_history.history).plot()"
   ]
  },
  {
   "cell_type": "code",
   "execution_count": 34,
   "id": "a7e4b513-6244-49e8-b390-bbd59666b4ee",
   "metadata": {},
   "outputs": [
    {
     "data": {
      "text/plain": [
       "[<matplotlib.lines.Line2D at 0x139c68ddf40>]"
      ]
     },
     "execution_count": 34,
     "metadata": {},
     "output_type": "execute_result"
    },
    {
     "data": {
      "image/png": "[encoded data removed]",
      "text/plain": [
       "<Figure size 1000x700 with 1 Axes>"
      ]
     },
     "metadata": {},
     "output_type": "display_data"
    }
   ],
   "source": [
    "lrs = 1e-5 * 10 ** (tf.range(15)/2)\n",
    "plt.figure(figsize=(10,7))\n",
    "plt.semilogx(lrs, model_1_history.history[\"val_accuracy\"])"
   ]
  },
  {
   "cell_type": "code",
   "execution_count": 35,
   "id": "71c3bd62-df2f-4696-8387-0c985fd4b7a6",
   "metadata": {},
   "outputs": [
    {
     "data": {
      "text/plain": [
       "0.0001"
      ]
     },
     "execution_count": 35,
     "metadata": {},
     "output_type": "execute_result"
    }
   ],
   "source": [
    "10**-4"
   ]
  },
  {
   "cell_type": "code",
   "execution_count": 36,
   "id": "bb07ab21-a94b-44f5-b487-dd35f779dd2e",
   "metadata": {},
   "outputs": [
    {
     "name": "stderr",
     "output_type": "stream",
     "text": [
      "C:\\Users\\yihim\\anaconda3\\envs\\mldl\\lib\\site-packages\\keras\\optimizer_v2\\adam.py:105: UserWarning: The `lr` argument is deprecated, use `learning_rate` instead.\n",
      "  super(Adam, self).__init__(name, **kwargs)\n"
     ]
    }
   ],
   "source": [
    "from tensorflow.keras import layers\n",
    "inputs = layers.Input(shape=INPUT_SHAPE, dtype=tf.float32)\n",
    "x = layers.Conv2D(filters=10, kernel_size=3, activation=\"relu\")(inputs)\n",
    "x = layers.Conv2D(10, 3, activation=\"relu\")(x)\n",
    "x = layers.MaxPool2D(2, padding=\"valid\")(x)\n",
    "x = layers.Conv2D(10, 3, activation=\"relu\")(x)\n",
    "x = layers.Conv2D(10, 3, activation=\"relu\")(x)\n",
    "x = layers.MaxPooling2D(2)(x)\n",
    "x = layers.Flatten()(x)\n",
    "outputs = layers.Dense(len(class_names), activation=\"softmax\")(x)\n",
    "\n",
    "model_2 = tf.keras.Model(inputs, outputs, name=\"model_2\")\n",
    "\n",
    "model_2.compile(loss=tf.keras.losses.SparseCategoricalCrossentropy(),\n",
    "                optimizer=tf.keras.optimizers.Adam(lr=0.0001),\n",
    "                metrics=\"accuracy\")"
   ]
  },
  {
   "cell_type": "code",
   "execution_count": 37,
   "id": "5b14c92f-749f-4d4c-ad33-0bb1b0ec5a46",
   "metadata": {},
   "outputs": [
    {
     "name": "stdout",
     "output_type": "stream",
     "text": [
      "Model: \"model_2\"\n",
      "_________________________________________________________________\n",
      " Layer (type)                Output Shape              Param #   \n",
      "=================================================================\n",
      " input_2 (InputLayer)        [(None, 28, 28, 1)]       0         \n",
      "                                                                 \n",
      " conv2d_4 (Conv2D)           (None, 26, 26, 10)        100       \n",
      "                                                                 \n",
      " conv2d_5 (Conv2D)           (None, 24, 24, 10)        910       \n",
      "                                                                 \n",
      " max_pooling2d_2 (MaxPooling  (None, 12, 12, 10)       0         \n",
      " 2D)                                                             \n",
      "                                                                 \n",
      " conv2d_6 (Conv2D)           (None, 10, 10, 10)        910       \n",
      "                                                                 \n",
      " conv2d_7 (Conv2D)           (None, 8, 8, 10)          910       \n",
      "                                                                 \n",
      " max_pooling2d_3 (MaxPooling  (None, 4, 4, 10)         0         \n",
      " 2D)                                                             \n",
      "                                                                 \n",
      " flatten_1 (Flatten)         (None, 160)               0         \n",
      "                                                                 \n",
      " dense_1 (Dense)             (None, 10)                1610      \n",
      "                                                                 \n",
      "=================================================================\n",
      "Total params: 4,440\n",
      "Trainable params: 4,440\n",
      "Non-trainable params: 0\n",
      "_________________________________________________________________\n"
     ]
    }
   ],
   "source": [
    "model_2.summary()"
   ]
  },
  {
   "cell_type": "code",
   "execution_count": 38,
   "id": "6cbe1782-fcc2-4bc6-a1a9-6d8114b6022d",
   "metadata": {
    "scrolled": true
   },
   "outputs": [
    {
     "name": "stdout",
     "output_type": "stream",
     "text": [
      "Epoch 1/15\n",
      "744/750 [============================>.] - ETA: 0s - loss: 1.4030 - accuracy: 0.5500\n",
      "Epoch 1: val_loss improved from inf to 0.52144, saving model to model_experiments\\model_2\n",
      "INFO:tensorflow:Assets written to: model_experiments\\model_2\\assets\n"
     ]
    },
    {
     "name": "stderr",
     "output_type": "stream",
     "text": [
      "INFO:tensorflow:Assets written to: model_experiments\\model_2\\assets\n"
     ]
    },
    {
     "name": "stdout",
     "output_type": "stream",
     "text": [
      "750/750 [==============================] - 9s 11ms/step - loss: 1.3954 - accuracy: 0.5526 - val_loss: 0.5214 - val_accuracy: 0.8418\n",
      "Epoch 2/15\n",
      "744/750 [============================>.] - ETA: 0s - loss: 0.4012 - accuracy: 0.8783\n",
      "Epoch 2: val_loss improved from 0.52144 to 0.33503, saving model to model_experiments\\model_2\n",
      "INFO:tensorflow:Assets written to: model_experiments\\model_2\\assets\n"
     ]
    },
    {
     "name": "stderr",
     "output_type": "stream",
     "text": [
      "INFO:tensorflow:Assets written to: model_experiments\\model_2\\assets\n"
     ]
    },
    {
     "name": "stdout",
     "output_type": "stream",
     "text": [
      "750/750 [==============================] - 8s 11ms/step - loss: 0.4008 - accuracy: 0.8785 - val_loss: 0.3350 - val_accuracy: 0.8968\n",
      "Epoch 3/15\n",
      "744/750 [============================>.] - ETA: 0s - loss: 0.2976 - accuracy: 0.9105\n",
      "Epoch 3: val_loss improved from 0.33503 to 0.27187, saving model to model_experiments\\model_2\n",
      "INFO:tensorflow:Assets written to: model_experiments\\model_2\\assets\n"
     ]
    },
    {
     "name": "stderr",
     "output_type": "stream",
     "text": [
      "INFO:tensorflow:Assets written to: model_experiments\\model_2\\assets\n"
     ]
    },
    {
     "name": "stdout",
     "output_type": "stream",
     "text": [
      "750/750 [==============================] - 8s 11ms/step - loss: 0.2981 - accuracy: 0.9104 - val_loss: 0.2719 - val_accuracy: 0.9185\n",
      "Epoch 4/15\n",
      "745/750 [============================>.] - ETA: 0s - loss: 0.2490 - accuracy: 0.9268\n",
      "Epoch 4: val_loss improved from 0.27187 to 0.23210, saving model to model_experiments\\model_2\n",
      "INFO:tensorflow:Assets written to: model_experiments\\model_2\\assets\n"
     ]
    },
    {
     "name": "stderr",
     "output_type": "stream",
     "text": [
      "INFO:tensorflow:Assets written to: model_experiments\\model_2\\assets\n"
     ]
    },
    {
     "name": "stdout",
     "output_type": "stream",
     "text": [
      "750/750 [==============================] - 8s 11ms/step - loss: 0.2489 - accuracy: 0.9269 - val_loss: 0.2321 - val_accuracy: 0.9323\n",
      "Epoch 5/15\n",
      "745/750 [============================>.] - ETA: 0s - loss: 0.2161 - accuracy: 0.9365\n",
      "Epoch 5: val_loss improved from 0.23210 to 0.20212, saving model to model_experiments\\model_2\n",
      "INFO:tensorflow:Assets written to: model_experiments\\model_2\\assets\n"
     ]
    },
    {
     "name": "stderr",
     "output_type": "stream",
     "text": [
      "INFO:tensorflow:Assets written to: model_experiments\\model_2\\assets\n"
     ]
    },
    {
     "name": "stdout",
     "output_type": "stream",
     "text": [
      "750/750 [==============================] - 8s 10ms/step - loss: 0.2162 - accuracy: 0.9364 - val_loss: 0.2021 - val_accuracy: 0.9427\n",
      "Epoch 6/15\n",
      "745/750 [============================>.] - ETA: 0s - loss: 0.1919 - accuracy: 0.9446\n",
      "Epoch 6: val_loss improved from 0.20212 to 0.18289, saving model to model_experiments\\model_2\n",
      "INFO:tensorflow:Assets written to: model_experiments\\model_2\\assets\n"
     ]
    },
    {
     "name": "stderr",
     "output_type": "stream",
     "text": [
      "INFO:tensorflow:Assets written to: model_experiments\\model_2\\assets\n"
     ]
    },
    {
     "name": "stdout",
     "output_type": "stream",
     "text": [
      "750/750 [==============================] - 8s 11ms/step - loss: 0.1924 - accuracy: 0.9445 - val_loss: 0.1829 - val_accuracy: 0.9486\n",
      "Epoch 7/15\n",
      "750/750 [==============================] - ETA: 0s - loss: 0.1739 - accuracy: 0.9500\n",
      "Epoch 7: val_loss improved from 0.18289 to 0.16714, saving model to model_experiments\\model_2\n",
      "INFO:tensorflow:Assets written to: model_experiments\\model_2\\assets\n"
     ]
    },
    {
     "name": "stderr",
     "output_type": "stream",
     "text": [
      "INFO:tensorflow:Assets written to: model_experiments\\model_2\\assets\n"
     ]
    },
    {
     "name": "stdout",
     "output_type": "stream",
     "text": [
      "750/750 [==============================] - 8s 10ms/step - loss: 0.1739 - accuracy: 0.9500 - val_loss: 0.1671 - val_accuracy: 0.9524\n",
      "Epoch 8/15\n",
      "747/750 [============================>.] - ETA: 0s - loss: 0.1582 - accuracy: 0.9541\n",
      "Epoch 8: val_loss improved from 0.16714 to 0.15401, saving model to model_experiments\\model_2\n",
      "INFO:tensorflow:Assets written to: model_experiments\\model_2\\assets\n"
     ]
    },
    {
     "name": "stderr",
     "output_type": "stream",
     "text": [
      "INFO:tensorflow:Assets written to: model_experiments\\model_2\\assets\n"
     ]
    },
    {
     "name": "stdout",
     "output_type": "stream",
     "text": [
      "750/750 [==============================] - 8s 11ms/step - loss: 0.1586 - accuracy: 0.9540 - val_loss: 0.1540 - val_accuracy: 0.9559\n",
      "Epoch 9/15\n",
      "749/750 [============================>.] - ETA: 0s - loss: 0.1471 - accuracy: 0.9567\n",
      "Epoch 9: val_loss improved from 0.15401 to 0.14473, saving model to model_experiments\\model_2\n",
      "INFO:tensorflow:Assets written to: model_experiments\\model_2\\assets\n"
     ]
    },
    {
     "name": "stderr",
     "output_type": "stream",
     "text": [
      "INFO:tensorflow:Assets written to: model_experiments\\model_2\\assets\n"
     ]
    },
    {
     "name": "stdout",
     "output_type": "stream",
     "text": [
      "750/750 [==============================] - 8s 10ms/step - loss: 0.1471 - accuracy: 0.9567 - val_loss: 0.1447 - val_accuracy: 0.9582\n",
      "Epoch 10/15\n",
      "750/750 [==============================] - ETA: 0s - loss: 0.1369 - accuracy: 0.9601\n",
      "Epoch 10: val_loss improved from 0.14473 to 0.13496, saving model to model_experiments\\model_2\n",
      "INFO:tensorflow:Assets written to: model_experiments\\model_2\\assets\n"
     ]
    },
    {
     "name": "stderr",
     "output_type": "stream",
     "text": [
      "INFO:tensorflow:Assets written to: model_experiments\\model_2\\assets\n"
     ]
    },
    {
     "name": "stdout",
     "output_type": "stream",
     "text": [
      "750/750 [==============================] - 8s 11ms/step - loss: 0.1369 - accuracy: 0.9601 - val_loss: 0.1350 - val_accuracy: 0.9611\n",
      "Epoch 11/15\n",
      "744/750 [============================>.] - ETA: 0s - loss: 0.1281 - accuracy: 0.9625\n",
      "Epoch 11: val_loss improved from 0.13496 to 0.12858, saving model to model_experiments\\model_2\n",
      "INFO:tensorflow:Assets written to: model_experiments\\model_2\\assets\n"
     ]
    },
    {
     "name": "stderr",
     "output_type": "stream",
     "text": [
      "INFO:tensorflow:Assets written to: model_experiments\\model_2\\assets\n"
     ]
    },
    {
     "name": "stdout",
     "output_type": "stream",
     "text": [
      "750/750 [==============================] - 8s 10ms/step - loss: 0.1284 - accuracy: 0.9624 - val_loss: 0.1286 - val_accuracy: 0.9635\n",
      "Epoch 12/15\n",
      "747/750 [============================>.] - ETA: 0s - loss: 0.1210 - accuracy: 0.9646\n",
      "Epoch 12: val_loss improved from 0.12858 to 0.12226, saving model to model_experiments\\model_2\n",
      "INFO:tensorflow:Assets written to: model_experiments\\model_2\\assets\n"
     ]
    },
    {
     "name": "stderr",
     "output_type": "stream",
     "text": [
      "INFO:tensorflow:Assets written to: model_experiments\\model_2\\assets\n"
     ]
    },
    {
     "name": "stdout",
     "output_type": "stream",
     "text": [
      "750/750 [==============================] - 8s 10ms/step - loss: 0.1210 - accuracy: 0.9646 - val_loss: 0.1223 - val_accuracy: 0.9649\n",
      "Epoch 13/15\n",
      "745/750 [============================>.] - ETA: 0s - loss: 0.1138 - accuracy: 0.9669\n",
      "Epoch 13: val_loss improved from 0.12226 to 0.11611, saving model to model_experiments\\model_2\n",
      "INFO:tensorflow:Assets written to: model_experiments\\model_2\\assets\n"
     ]
    },
    {
     "name": "stderr",
     "output_type": "stream",
     "text": [
      "INFO:tensorflow:Assets written to: model_experiments\\model_2\\assets\n"
     ]
    },
    {
     "name": "stdout",
     "output_type": "stream",
     "text": [
      "750/750 [==============================] - 8s 11ms/step - loss: 0.1141 - accuracy: 0.9669 - val_loss: 0.1161 - val_accuracy: 0.9663\n",
      "Epoch 14/15\n",
      "750/750 [==============================] - ETA: 0s - loss: 0.1082 - accuracy: 0.9690\n",
      "Epoch 14: val_loss improved from 0.11611 to 0.11359, saving model to model_experiments\\model_2\n",
      "INFO:tensorflow:Assets written to: model_experiments\\model_2\\assets\n"
     ]
    },
    {
     "name": "stderr",
     "output_type": "stream",
     "text": [
      "INFO:tensorflow:Assets written to: model_experiments\\model_2\\assets\n"
     ]
    },
    {
     "name": "stdout",
     "output_type": "stream",
     "text": [
      "750/750 [==============================] - 10s 14ms/step - loss: 0.1082 - accuracy: 0.9690 - val_loss: 0.1136 - val_accuracy: 0.9675\n",
      "Epoch 15/15\n",
      "749/750 [============================>.] - ETA: 0s - loss: 0.1034 - accuracy: 0.9701\n",
      "Epoch 15: val_loss improved from 0.11359 to 0.10598, saving model to model_experiments\\model_2\n",
      "INFO:tensorflow:Assets written to: model_experiments\\model_2\\assets\n"
     ]
    },
    {
     "name": "stderr",
     "output_type": "stream",
     "text": [
      "INFO:tensorflow:Assets written to: model_experiments\\model_2\\assets\n"
     ]
    },
    {
     "name": "stdout",
     "output_type": "stream",
     "text": [
      "750/750 [==============================] - 10s 13ms/step - loss: 0.1034 - accuracy: 0.9701 - val_loss: 0.1060 - val_accuracy: 0.9697\n"
     ]
    }
   ],
   "source": [
    "model_2_history = model_2.fit(train_data,\n",
    "                              validation_data=val_data,\n",
    "                              steps_per_epoch=len(train_data),\n",
    "                              validation_steps=len(val_data),\n",
    "                              epochs=15,\n",
    "                              callbacks=[tensorboard_callback(model_name=model_2.name),\n",
    "                                         checkpoint_callback(model_name=model_2.name),\n",
    "                                         early_stopping])"
   ]
  },
  {
   "cell_type": "code",
   "execution_count": 39,
   "id": "95831938-8717-408d-a69e-39974837e279",
   "metadata": {},
   "outputs": [],
   "source": [
    "%load_ext tensorboard"
   ]
  },
  {
   "cell_type": "code",
   "execution_count": 40,
   "id": "23e3d8b8-fbef-4164-a049-4b098b33b4e6",
   "metadata": {},
   "outputs": [
    {
     "data": {
      "text/plain": [
       "Reusing TensorBoard on port 8081 (pid 36652), started 1 day, 0:20:14 ago. (Use '!kill 36652' to kill it.)"
      ]
     },
     "metadata": {},
     "output_type": "display_data"
    },
    {
     "data": {
      "text/html": [
       "\n",
       "      <iframe id=\"tensorboard-frame-6bb80db4d64e51f7\" width=\"100%\" height=\"800\" frameborder=\"0\">\n",
       "      </iframe>\n",
       "      <script>\n",
       "        (function() {\n",
       "          const frame = document.getElementById(\"tensorboard-frame-6bb80db4d64e51f7\");\n",
       "          const url = new URL(\"/\", window.location);\n",
       "          const port = 8081;\n",
       "          if (port) {\n",
       "            url.port = port;\n",
       "          }\n",
       "          frame.src = url;\n",
       "        })();\n",
       "      </script>\n",
       "    "
      ],
      "text/plain": [
       "<IPython.core.display.HTML object>"
      ]
     },
     "metadata": {},
     "output_type": "display_data"
    }
   ],
   "source": [
    "%tensorboard --logdir model_logs --port 8081"
   ]
  },
  {
   "cell_type": "code",
   "execution_count": 41,
   "id": "44fa1923-ce01-4bc6-8ecc-42d053cc5e42",
   "metadata": {},
   "outputs": [
    {
     "name": "stdout",
     "output_type": "stream",
     "text": [
      "188/188 [==============================] - 1s 6ms/step - loss: 0.1060 - accuracy: 0.9697\n"
     ]
    },
    {
     "data": {
      "text/plain": [
       "[0.10598267614841461, 0.9696666598320007]"
      ]
     },
     "execution_count": 41,
     "metadata": {},
     "output_type": "execute_result"
    }
   ],
   "source": [
    "model_2.evaluate(val_data)"
   ]
  },
  {
   "cell_type": "code",
   "execution_count": 42,
   "id": "e3e7dc4c-4b89-47f8-a8f9-ba3a7133d110",
   "metadata": {},
   "outputs": [
    {
     "name": "stdout",
     "output_type": "stream",
     "text": [
      "157/157 [==============================] - 1s 7ms/step - loss: 0.0900 - accuracy: 0.9736\n"
     ]
    },
    {
     "data": {
      "text/plain": [
       "[0.09004519879817963, 0.9735999703407288]"
      ]
     },
     "execution_count": 42,
     "metadata": {},
     "output_type": "execute_result"
    }
   ],
   "source": [
    "model_2.evaluate(test_data)"
   ]
  },
  {
   "cell_type": "code",
   "execution_count": 43,
   "id": "f63721d0-3f2a-444d-b98b-ba467e82b5d6",
   "metadata": {},
   "outputs": [
    {
     "name": "stdout",
     "output_type": "stream",
     "text": [
      "188/188 [==============================] - 2s 9ms/step - loss: 0.1060 - accuracy: 0.9697\n"
     ]
    },
    {
     "data": {
      "text/plain": [
       "[0.105982705950737, 0.9696666598320007]"
      ]
     },
     "execution_count": 43,
     "metadata": {},
     "output_type": "execute_result"
    }
   ],
   "source": [
    "model_2_loaded = tf.keras.models.load_model(\"model_experiments/model_2\")\n",
    "model_2_loaded.evaluate(val_data)"
   ]
  },
  {
   "cell_type": "code",
   "execution_count": 44,
   "id": "8ff66714-129c-4e13-be6d-7513a2c7a033",
   "metadata": {},
   "outputs": [
    {
     "name": "stdout",
     "output_type": "stream",
     "text": [
      "157/157 [==============================] - 2s 9ms/step - loss: 0.0900 - accuracy: 0.9736\n"
     ]
    },
    {
     "data": {
      "text/plain": [
       "[0.09004519879817963, 0.9735999703407288]"
      ]
     },
     "execution_count": 44,
     "metadata": {},
     "output_type": "execute_result"
    }
   ],
   "source": [
    "model_2_loaded.evaluate(test_data)"
   ]
  },
  {
   "cell_type": "code",
   "execution_count": 45,
   "id": "b026d1d2-90da-40ec-95e9-420d9b6b47d7",
   "metadata": {},
   "outputs": [
    {
     "name": "stdout",
     "output_type": "stream",
     "text": [
      "750/750 [==============================] - 4s 6ms/step - loss: 0.0996 - accuracy: 0.9707\n"
     ]
    },
    {
     "data": {
      "text/plain": [
       "[0.09956666827201843, 0.9707499742507935]"
      ]
     },
     "execution_count": 45,
     "metadata": {},
     "output_type": "execute_result"
    }
   ],
   "source": [
    "model_2.evaluate(train_data)"
   ]
  },
  {
   "cell_type": "code",
   "execution_count": 46,
   "id": "a5e4d664-a70b-45bd-97a9-abd6939faa18",
   "metadata": {},
   "outputs": [
    {
     "name": "stdout",
     "output_type": "stream",
     "text": [
      "750/750 [==============================] - 4s 5ms/step - loss: 0.0996 - accuracy: 0.9707\n"
     ]
    },
    {
     "data": {
      "text/plain": [
       "[0.0995667353272438, 0.9707499742507935]"
      ]
     },
     "execution_count": 46,
     "metadata": {},
     "output_type": "execute_result"
    }
   ],
   "source": [
    "model_2_loaded.evaluate(train_data)"
   ]
  },
  {
   "cell_type": "code",
   "execution_count": 47,
   "id": "8a1e67e9-6c65-4c67-b125-40ad7778cc85",
   "metadata": {},
   "outputs": [],
   "source": [
    "# Use Bayesian Optimization to find the best hyperparameters\n",
    "\n",
    "# Create a function to create the CNN\n",
    "def create_cnn(learning_rate,\n",
    "               num_dense_layers,\n",
    "               num_dense_nodes,\n",
    "               activation,\n",
    "               padding):\n",
    "    \n",
    "    model = tf.keras.Sequential()\n",
    "    model.add(layers.Input(shape=(28, 28, 1)))\n",
    "    model.add(layers.Conv2D(10, 3, activation=activation, padding=padding))\n",
    "    model.add(layers.Conv2D(10, 3, activation=activation, padding=padding))\n",
    "    model.add(layers.MaxPooling2D(2))\n",
    "    model.add(layers.Conv2D(10, 3, activation=activation, padding=padding))\n",
    "    model.add(layers.Conv2D(10, 3, activation=activation, padding=padding))\n",
    "    model.add(layers.MaxPooling2D(2))\n",
    "    model.add(layers.Flatten())\n",
    "\n",
    "    for i in range(num_dense_layers):\n",
    "        model.add(layers.Dense(num_dense_nodes,\n",
    "                               activation=activation))\n",
    "\n",
    "    model.add(layers.Dense(len(class_names), activation=\"softmax\"))\n",
    "\n",
    "    optimizer = tf.keras.optimizers.Adam(learning_rate=learning_rate)\n",
    "\n",
    "    model.compile(loss=\"sparse_categorical_crossentropy\",\n",
    "                  optimizer=optimizer,\n",
    "                  metrics=[\"accuracy\"])\n",
    "\n",
    "    return model"
   ]
  },
  {
   "cell_type": "code",
   "execution_count": 48,
   "id": "bb3fedd6-11fb-45cd-aa8a-c417d20c0eb6",
   "metadata": {},
   "outputs": [],
   "source": [
    "from skopt.space import Real, Categorical, Integer\n",
    "from skopt.plots import plot_convergence, plot_objective, plot_evaluations\n",
    "from skopt.utils import use_named_args\n",
    "from skopt import gp_minimize"
   ]
  },
  {
   "cell_type": "code",
   "execution_count": 49,
   "id": "81879b6f-66fc-4590-81b2-00458ceb365b",
   "metadata": {},
   "outputs": [],
   "source": [
    "dim_learning_rate = Real(low=1e-6, high=1e-2, prior=\"log-uniform\", name=\"learning_rate\")\n",
    "dim_num_dense_layers = Integer(low=1, high=5, name=\"num_dense_layers\")\n",
    "dim_num_dense_nodes = Integer(low=8, high=51, name=\"num_dense_nodes\")\n",
    "dim_activation = Categorical(categories=['relu', 'tanh', 'linear', 'sigmoid'], name=\"activation\")\n",
    "dim_padding = Categorical(categories=['valid', 'same'], name=\"padding\")"
   ]
  },
  {
   "cell_type": "code",
   "execution_count": 50,
   "id": "fa8dce90-4e1f-42cc-a9ea-70a7966f0347",
   "metadata": {},
   "outputs": [],
   "source": [
    "param_grid = [dim_learning_rate,\n",
    "              dim_num_dense_layers,\n",
    "              dim_num_dense_nodes,\n",
    "              dim_activation,\n",
    "              dim_padding]"
   ]
  },
  {
   "cell_type": "code",
   "execution_count": 51,
   "id": "7b176f55-284e-4009-9f09-ece26651225b",
   "metadata": {},
   "outputs": [
    {
     "data": {
      "text/plain": [
       "list"
      ]
     },
     "execution_count": 51,
     "metadata": {},
     "output_type": "execute_result"
    }
   ],
   "source": [
    "type(param_grid)"
   ]
  },
  {
   "cell_type": "code",
   "execution_count": 52,
   "id": "b81c1285-8888-4eb0-ae3c-0a7534d61c1f",
   "metadata": {},
   "outputs": [],
   "source": [
    "best_model_path = \"cnn_model.h5\"\n",
    "best_accuracy = 0"
   ]
  },
  {
   "cell_type": "code",
   "execution_count": 53,
   "id": "bdcbd4dd-18b0-4f8d-b279-fd2c5e5e22d9",
   "metadata": {},
   "outputs": [],
   "source": [
    "@use_named_args(param_grid)\n",
    "def objective(learning_rate,\n",
    "              num_dense_layers,\n",
    "              num_dense_nodes,\n",
    "              activation,\n",
    "              padding):\n",
    "\n",
    "\n",
    "    print(\"learning_rate: %.6f\\nnum_dense_layers: %d\\nnum_dense_nodes: %d\\nactivation: %s\\npadding: %s\\n\" %(learning_rate, \n",
    "                                                                                                            num_dense_layers, \n",
    "                                                                                                            num_dense_nodes, \n",
    "                                                                                                            activation, \n",
    "                                                                                                            padding))\n",
    "    \n",
    "    model = create_cnn(learning_rate=learning_rate,\n",
    "                       num_dense_layers=num_dense_layers,\n",
    "                       num_dense_nodes=num_dense_nodes,\n",
    "                       activation=activation,\n",
    "                       padding=padding)\n",
    "\n",
    "    learning_rate_reduction = tf.keras.callbacks.ReduceLROnPlateau(monitor=\"val_accuracy\",\n",
    "                                                                   patience=2,\n",
    "                                                                   verbose=1,\n",
    "                                                                   factor=0.5,\n",
    "                                                                   min_lr=1e-4)\n",
    "\n",
    "    history = model.fit(train_data,\n",
    "                        epochs=3,\n",
    "                        batch_size=64,\n",
    "                        validation_data=val_data,\n",
    "                        callbacks=[learning_rate_reduction])\n",
    "\n",
    "    accuracy = history.history['val_accuracy'][-1]\n",
    "\n",
    "    print(f\"Accuracy: {accuracy * 100:.2f}%\\n\")\n",
    "    \n",
    "    global best_accuracy\n",
    "\n",
    "    if accuracy > best_accuracy:\n",
    "        model.save(best_model_path)\n",
    "        best_accuracy = accuracy\n",
    "\n",
    "    del model\n",
    "\n",
    "    return -accuracy"
   ]
  },
  {
   "cell_type": "code",
   "execution_count": 54,
   "id": "c1812d7a-70a9-47b1-8cbc-0527446d49c7",
   "metadata": {},
   "outputs": [
    {
     "name": "stdout",
     "output_type": "stream",
     "text": [
      "learning_rate: 0.001000\n",
      "num_dense_layers: 1\n",
      "num_dense_nodes: 16\n",
      "activation: relu\n",
      "padding: valid\n",
      "\n",
      "Epoch 1/3\n",
      "750/750 [==============================] - 10s 12ms/step - loss: 0.4921 - accuracy: 0.8410 - val_loss: 0.2085 - val_accuracy: 0.9383 - lr: 0.0010\n",
      "Epoch 2/3\n",
      "750/750 [==============================] - 9s 11ms/step - loss: 0.1570 - accuracy: 0.9527 - val_loss: 0.1233 - val_accuracy: 0.9648 - lr: 0.0010\n",
      "Epoch 3/3\n",
      "750/750 [==============================] - 8s 11ms/step - loss: 0.1093 - accuracy: 0.9668 - val_loss: 0.1180 - val_accuracy: 0.9636 - lr: 0.0010\n",
      "Accuracy: 96.36%\n",
      "\n"
     ]
    },
    {
     "data": {
      "text/plain": [
       "-0.9635833501815796"
      ]
     },
     "execution_count": 54,
     "metadata": {},
     "output_type": "execute_result"
    }
   ],
   "source": [
    "# Testing objective function\n",
    "default_parameters = [1e-3, 1, 16, 'relu', 'valid']\n",
    "objective(x=default_parameters)"
   ]
  },
  {
   "cell_type": "code",
   "execution_count": 55,
   "id": "e6bf7b38-bb59-4d29-a39e-228c606c009c",
   "metadata": {},
   "outputs": [
    {
     "name": "stdout",
     "output_type": "stream",
     "text": [
      "learning_rate: 0.001000\n",
      "num_dense_layers: 1\n",
      "num_dense_nodes: 16\n",
      "activation: relu\n",
      "padding: valid\n",
      "\n",
      "Epoch 1/3\n",
      "750/750 [==============================] - 10s 12ms/step - loss: 0.3869 - accuracy: 0.8800 - val_loss: 0.1640 - val_accuracy: 0.9493 - lr: 0.0010\n",
      "Epoch 2/3\n",
      "750/750 [==============================] - 8s 10ms/step - loss: 0.1274 - accuracy: 0.9610 - val_loss: 0.1170 - val_accuracy: 0.9659 - lr: 0.0010\n",
      "Epoch 3/3\n",
      "750/750 [==============================] - 8s 10ms/step - loss: 0.0934 - accuracy: 0.9719 - val_loss: 0.0841 - val_accuracy: 0.9738 - lr: 0.0010\n",
      "Accuracy: 97.38%\n",
      "\n",
      "learning_rate: 0.001535\n",
      "num_dense_layers: 2\n",
      "num_dense_nodes: 42\n",
      "activation: sigmoid\n",
      "padding: same\n",
      "\n",
      "Epoch 1/3\n",
      "750/750 [==============================] - 8s 10ms/step - loss: 1.7464 - accuracy: 0.3898 - val_loss: 0.5108 - val_accuracy: 0.8750 - lr: 0.0015\n",
      "Epoch 2/3\n",
      "750/750 [==============================] - 8s 10ms/step - loss: 0.3109 - accuracy: 0.9178 - val_loss: 0.2137 - val_accuracy: 0.9408 - lr: 0.0015\n",
      "Epoch 3/3\n",
      "750/750 [==============================] - 7s 9ms/step - loss: 0.1703 - accuracy: 0.9515 - val_loss: 0.1393 - val_accuracy: 0.9597 - lr: 0.0015\n",
      "Accuracy: 95.97%\n",
      "\n",
      "learning_rate: 0.000003\n",
      "num_dense_layers: 3\n",
      "num_dense_nodes: 22\n",
      "activation: linear\n",
      "padding: valid\n",
      "\n",
      "Epoch 1/3\n",
      "750/750 [==============================] - 8s 10ms/step - loss: 2.2968 - accuracy: 0.1671 - val_loss: 2.2600 - val_accuracy: 0.2008 - lr: 2.5113e-06\n",
      "Epoch 2/3\n",
      "750/750 [==============================] - 7s 9ms/step - loss: 2.2253 - accuracy: 0.2282 - val_loss: 2.1943 - val_accuracy: 0.2493 - lr: 2.5113e-06\n",
      "Epoch 3/3\n",
      "750/750 [==============================] - 8s 10ms/step - loss: 2.1579 - accuracy: 0.2707 - val_loss: 2.1238 - val_accuracy: 0.2887 - lr: 2.5113e-06\n",
      "Accuracy: 28.87%\n",
      "\n",
      "learning_rate: 0.000002\n",
      "num_dense_layers: 4\n",
      "num_dense_nodes: 48\n",
      "activation: linear\n",
      "padding: valid\n",
      "\n",
      "Epoch 1/3\n",
      "750/750 [==============================] - 8s 10ms/step - loss: 2.2808 - accuracy: 0.1789 - val_loss: 2.2562 - val_accuracy: 0.2051 - lr: 1.6813e-06\n",
      "Epoch 2/3\n",
      "750/750 [==============================] - 8s 11ms/step - loss: 2.2327 - accuracy: 0.2204 - val_loss: 2.2083 - val_accuracy: 0.2409 - lr: 1.6813e-06\n",
      "Epoch 3/3\n",
      "750/750 [==============================] - 8s 10ms/step - loss: 2.1812 - accuracy: 0.2574 - val_loss: 2.1517 - val_accuracy: 0.2739 - lr: 1.6813e-06\n",
      "Accuracy: 27.39%\n",
      "\n",
      "learning_rate: 0.000295\n",
      "num_dense_layers: 3\n",
      "num_dense_nodes: 8\n",
      "activation: linear\n",
      "padding: valid\n",
      "\n",
      "Epoch 1/3\n",
      "750/750 [==============================] - 11s 13ms/step - loss: 0.8924 - accuracy: 0.7081 - val_loss: 0.4410 - val_accuracy: 0.8682 - lr: 2.9507e-04\n",
      "Epoch 2/3\n",
      "750/750 [==============================] - 6s 8ms/step - loss: 0.3690 - accuracy: 0.8904 - val_loss: 0.3227 - val_accuracy: 0.9062 - lr: 2.9507e-04\n",
      "Epoch 3/3\n",
      "750/750 [==============================] - 8s 11ms/step - loss: 0.2853 - accuracy: 0.9155 - val_loss: 0.2646 - val_accuracy: 0.9222 - lr: 2.9507e-04\n",
      "Accuracy: 92.22%\n",
      "\n",
      "learning_rate: 0.000040\n",
      "num_dense_layers: 1\n",
      "num_dense_nodes: 50\n",
      "activation: relu\n",
      "padding: same\n",
      "\n",
      "Epoch 1/3\n",
      "750/750 [==============================] - 7s 9ms/step - loss: 1.5055 - accuracy: 0.5698 - val_loss: 0.5966 - val_accuracy: 0.8250 - lr: 3.9760e-05\n",
      "Epoch 2/3\n",
      "750/750 [==============================] - 7s 9ms/step - loss: 0.4619 - accuracy: 0.8633 - val_loss: 0.3856 - val_accuracy: 0.8845 - lr: 3.9760e-05\n",
      "Epoch 3/3\n",
      "750/750 [==============================] - 6s 8ms/step - loss: 0.3407 - accuracy: 0.8998 - val_loss: 0.3138 - val_accuracy: 0.9084 - lr: 3.9760e-05\n",
      "Accuracy: 90.84%\n",
      "\n",
      "learning_rate: 0.000298\n",
      "num_dense_layers: 3\n",
      "num_dense_nodes: 50\n",
      "activation: relu\n",
      "padding: valid\n",
      "\n",
      "Epoch 1/3\n",
      "750/750 [==============================] - 7s 9ms/step - loss: 0.6294 - accuracy: 0.7936 - val_loss: 0.2479 - val_accuracy: 0.9255 - lr: 2.9754e-04\n",
      "Epoch 2/3\n",
      "750/750 [==============================] - 6s 8ms/step - loss: 0.1901 - accuracy: 0.9433 - val_loss: 0.1639 - val_accuracy: 0.9496 - lr: 2.9754e-04\n",
      "Epoch 3/3\n",
      "750/750 [==============================] - 6s 8ms/step - loss: 0.1317 - accuracy: 0.9604 - val_loss: 0.1167 - val_accuracy: 0.9642 - lr: 2.9754e-04\n",
      "Accuracy: 96.42%\n",
      "\n",
      "learning_rate: 0.000526\n",
      "num_dense_layers: 3\n",
      "num_dense_nodes: 9\n",
      "activation: tanh\n",
      "padding: valid\n",
      "\n",
      "Epoch 1/3\n",
      "750/750 [==============================] - 7s 8ms/step - loss: 1.1038 - accuracy: 0.7750 - val_loss: 0.5036 - val_accuracy: 0.9262 - lr: 5.2630e-04\n",
      "Epoch 2/3\n",
      "750/750 [==============================] - 7s 9ms/step - loss: 0.3261 - accuracy: 0.9434 - val_loss: 0.2217 - val_accuracy: 0.9560 - lr: 5.2630e-04\n",
      "Epoch 3/3\n",
      "750/750 [==============================] - 7s 10ms/step - loss: 0.1839 - accuracy: 0.9605 - val_loss: 0.1569 - val_accuracy: 0.9638 - lr: 5.2630e-04\n",
      "Accuracy: 96.38%\n",
      "\n",
      "learning_rate: 0.000035\n",
      "num_dense_layers: 1\n",
      "num_dense_nodes: 18\n",
      "activation: relu\n",
      "padding: valid\n",
      "\n",
      "Epoch 1/3\n",
      "750/750 [==============================] - 7s 9ms/step - loss: 2.2379 - accuracy: 0.1926 - val_loss: 2.0252 - val_accuracy: 0.3688 - lr: 3.4807e-05\n",
      "Epoch 2/3\n",
      "750/750 [==============================] - 8s 10ms/step - loss: 1.4305 - accuracy: 0.5819 - val_loss: 0.9723 - val_accuracy: 0.7003 - lr: 3.4807e-05\n",
      "Epoch 3/3\n",
      "750/750 [==============================] - 7s 10ms/step - loss: 0.7521 - accuracy: 0.7716 - val_loss: 0.5956 - val_accuracy: 0.8209 - lr: 3.4807e-05\n",
      "Accuracy: 82.09%\n",
      "\n",
      "learning_rate: 0.000275\n",
      "num_dense_layers: 4\n",
      "num_dense_nodes: 15\n",
      "activation: relu\n",
      "padding: same\n",
      "\n",
      "Epoch 1/3\n",
      "750/750 [==============================] - 11s 14ms/step - loss: 0.9558 - accuracy: 0.6876 - val_loss: 0.3653 - val_accuracy: 0.8964 - lr: 2.7541e-04\n",
      "Epoch 2/3\n",
      "750/750 [==============================] - 10s 14ms/step - loss: 0.2734 - accuracy: 0.9199 - val_loss: 0.2123 - val_accuracy: 0.9389 - lr: 2.7541e-04\n",
      "Epoch 3/3\n",
      "750/750 [==============================] - 13s 17ms/step - loss: 0.1861 - accuracy: 0.9454 - val_loss: 0.1604 - val_accuracy: 0.9535 - lr: 2.7541e-04\n",
      "Accuracy: 95.35%\n",
      "\n",
      "learning_rate: 0.001051\n",
      "num_dense_layers: 3\n",
      "num_dense_nodes: 17\n",
      "activation: sigmoid\n",
      "padding: same\n",
      "\n",
      "Epoch 1/3\n",
      "750/750 [==============================] - 11s 13ms/step - loss: 2.3085 - accuracy: 0.1096 - val_loss: 2.3026 - val_accuracy: 0.1128 - lr: 0.0011\n",
      "Epoch 2/3\n",
      "750/750 [==============================] - 10s 13ms/step - loss: 2.3024 - accuracy: 0.1104 - val_loss: 2.3022 - val_accuracy: 0.1128 - lr: 0.0011\n",
      "Epoch 3/3\n",
      "749/750 [============================>.] - ETA: 0s - loss: 2.3022 - accuracy: 0.1108\n",
      "Epoch 3: ReduceLROnPlateau reducing learning rate to 0.0005253099952824414.\n",
      "750/750 [==============================] - 9s 12ms/step - loss: 2.3022 - accuracy: 0.1108 - val_loss: 2.3023 - val_accuracy: 0.1128 - lr: 0.0011\n",
      "Accuracy: 11.28%\n",
      "\n",
      "learning_rate: 0.010000\n",
      "num_dense_layers: 3\n",
      "num_dense_nodes: 51\n",
      "activation: linear\n",
      "padding: valid\n",
      "\n",
      "Epoch 1/3\n",
      "750/750 [==============================] - 12s 15ms/step - loss: 0.2952 - accuracy: 0.9106 - val_loss: 0.1946 - val_accuracy: 0.9382 - lr: 0.0100\n",
      "Epoch 2/3\n",
      "750/750 [==============================] - 10s 13ms/step - loss: 0.1952 - accuracy: 0.9407 - val_loss: 0.1206 - val_accuracy: 0.9638 - lr: 0.0100\n",
      "Epoch 3/3\n",
      "750/750 [==============================] - 10s 13ms/step - loss: 0.1816 - accuracy: 0.9461 - val_loss: 0.1591 - val_accuracy: 0.9508 - lr: 0.0100\n",
      "Accuracy: 95.08%\n",
      "\n",
      "learning_rate: 0.000004\n",
      "num_dense_layers: 2\n",
      "num_dense_nodes: 17\n",
      "activation: relu\n",
      "padding: same\n",
      "\n",
      "Epoch 1/3\n",
      "750/750 [==============================] - 13s 16ms/step - loss: 2.3014 - accuracy: 0.1056 - val_loss: 2.2999 - val_accuracy: 0.1180 - lr: 4.2664e-06\n",
      "Epoch 2/3\n",
      "750/750 [==============================] - 11s 15ms/step - loss: 2.2972 - accuracy: 0.1328 - val_loss: 2.2935 - val_accuracy: 0.1535 - lr: 4.2664e-06\n",
      "Epoch 3/3\n",
      "750/750 [==============================] - 10s 14ms/step - loss: 2.2870 - accuracy: 0.1582 - val_loss: 2.2780 - val_accuracy: 0.1730 - lr: 4.2664e-06\n",
      "Accuracy: 17.30%\n",
      "\n",
      "learning_rate: 0.005732\n",
      "num_dense_layers: 1\n",
      "num_dense_nodes: 12\n",
      "activation: relu\n",
      "padding: valid\n",
      "\n",
      "Epoch 1/3\n",
      "750/750 [==============================] - 11s 14ms/step - loss: 0.2372 - accuracy: 0.9238 - val_loss: 0.0881 - val_accuracy: 0.9737 - lr: 0.0057\n",
      "Epoch 2/3\n",
      "750/750 [==============================] - 11s 15ms/step - loss: 0.0881 - accuracy: 0.9736 - val_loss: 0.0643 - val_accuracy: 0.9799 - lr: 0.0057\n",
      "Epoch 3/3\n",
      "750/750 [==============================] - 9s 12ms/step - loss: 0.0707 - accuracy: 0.9789 - val_loss: 0.0887 - val_accuracy: 0.9726 - lr: 0.0057\n",
      "Accuracy: 97.26%\n",
      "\n",
      "learning_rate: 0.010000\n",
      "num_dense_layers: 2\n",
      "num_dense_nodes: 51\n",
      "activation: tanh\n",
      "padding: same\n",
      "\n",
      "Epoch 1/3\n",
      "750/750 [==============================] - 10s 12ms/step - loss: 0.2297 - accuracy: 0.9291 - val_loss: 0.1642 - val_accuracy: 0.9473 - lr: 0.0100\n",
      "Epoch 2/3\n",
      "750/750 [==============================] - 10s 13ms/step - loss: 0.1799 - accuracy: 0.9442 - val_loss: 0.1750 - val_accuracy: 0.9459 - lr: 0.0100\n",
      "Epoch 3/3\n",
      "749/750 [============================>.] - ETA: 0s - loss: 0.2171 - accuracy: 0.9342\n",
      "Epoch 3: ReduceLROnPlateau reducing learning rate to 0.004999999888241291.\n",
      "750/750 [==============================] - 9s 12ms/step - loss: 0.2171 - accuracy: 0.9342 - val_loss: 0.1925 - val_accuracy: 0.9424 - lr: 0.0100\n",
      "Accuracy: 94.24%\n",
      "\n",
      "learning_rate: 0.009042\n",
      "num_dense_layers: 2\n",
      "num_dense_nodes: 46\n",
      "activation: sigmoid\n",
      "padding: valid\n",
      "\n",
      "Epoch 1/3\n",
      "750/750 [==============================] - 11s 13ms/step - loss: 2.3055 - accuracy: 0.1097 - val_loss: 2.3026 - val_accuracy: 0.1128 - lr: 0.0090\n",
      "Epoch 2/3\n",
      "750/750 [==============================] - 9s 13ms/step - loss: 2.3022 - accuracy: 0.1099 - val_loss: 2.3028 - val_accuracy: 0.1128 - lr: 0.0090\n",
      "Epoch 3/3\n",
      "750/750 [==============================] - ETA: 0s - loss: 2.3022 - accuracy: 0.1096\n",
      "Epoch 3: ReduceLROnPlateau reducing learning rate to 0.004521195776760578.\n",
      "750/750 [==============================] - 9s 12ms/step - loss: 2.3022 - accuracy: 0.1096 - val_loss: 2.3020 - val_accuracy: 0.1128 - lr: 0.0090\n",
      "Accuracy: 11.28%\n",
      "\n",
      "learning_rate: 0.000002\n",
      "num_dense_layers: 4\n",
      "num_dense_nodes: 22\n",
      "activation: tanh\n",
      "padding: same\n",
      "\n",
      "Epoch 1/3\n",
      "750/750 [==============================] - 11s 14ms/step - loss: 2.3037 - accuracy: 0.0746 - val_loss: 2.2928 - val_accuracy: 0.0912 - lr: 1.8384e-06\n",
      "Epoch 2/3\n",
      "750/750 [==============================] - 11s 14ms/step - loss: 2.2800 - accuracy: 0.1206 - val_loss: 2.2690 - val_accuracy: 0.1575 - lr: 1.8384e-06\n",
      "Epoch 3/3\n",
      "750/750 [==============================] - 10s 13ms/step - loss: 2.2548 - accuracy: 0.1999 - val_loss: 2.2420 - val_accuracy: 0.2460 - lr: 1.8384e-06\n",
      "Accuracy: 24.60%\n",
      "\n",
      "learning_rate: 0.004969\n",
      "num_dense_layers: 4\n",
      "num_dense_nodes: 10\n",
      "activation: linear\n",
      "padding: same\n",
      "\n",
      "Epoch 1/3\n",
      "750/750 [==============================] - 11s 14ms/step - loss: 0.2400 - accuracy: 0.9253 - val_loss: 0.1206 - val_accuracy: 0.9653 - lr: 0.0050\n",
      "Epoch 2/3\n",
      "750/750 [==============================] - 10s 13ms/step - loss: 0.1155 - accuracy: 0.9647 - val_loss: 0.1178 - val_accuracy: 0.9650 - lr: 0.0050\n",
      "Epoch 3/3\n",
      "750/750 [==============================] - 9s 13ms/step - loss: 0.0952 - accuracy: 0.9710 - val_loss: 0.0869 - val_accuracy: 0.9742 - lr: 0.0050\n",
      "Accuracy: 97.42%\n",
      "\n",
      "learning_rate: 0.000176\n",
      "num_dense_layers: 2\n",
      "num_dense_nodes: 46\n",
      "activation: linear\n",
      "padding: same\n",
      "\n",
      "Epoch 1/3\n",
      "750/750 [==============================] - 10s 13ms/step - loss: 0.5343 - accuracy: 0.8370 - val_loss: 0.2305 - val_accuracy: 0.9319 - lr: 1.7556e-04\n",
      "Epoch 2/3\n",
      "750/750 [==============================] - 9s 11ms/step - loss: 0.1831 - accuracy: 0.9449 - val_loss: 0.1550 - val_accuracy: 0.9539 - lr: 1.7556e-04\n",
      "Epoch 3/3\n",
      "750/750 [==============================] - 10s 13ms/step - loss: 0.1277 - accuracy: 0.9617 - val_loss: 0.1200 - val_accuracy: 0.9647 - lr: 1.7556e-04\n",
      "Accuracy: 96.47%\n",
      "\n",
      "learning_rate: 0.000030\n",
      "num_dense_layers: 1\n",
      "num_dense_nodes: 41\n",
      "activation: relu\n",
      "padding: same\n",
      "\n",
      "Epoch 1/3\n",
      "750/750 [==============================] - 11s 14ms/step - loss: 1.8343 - accuracy: 0.4783 - val_loss: 0.8559 - val_accuracy: 0.7913 - lr: 2.9993e-05\n",
      "Epoch 2/3\n",
      "750/750 [==============================] - 8s 11ms/step - loss: 0.5607 - accuracy: 0.8435 - val_loss: 0.4516 - val_accuracy: 0.8727 - lr: 2.9993e-05\n",
      "Epoch 3/3\n",
      "750/750 [==============================] - 9s 12ms/step - loss: 0.4000 - accuracy: 0.8859 - val_loss: 0.3741 - val_accuracy: 0.8941 - lr: 2.9993e-05\n",
      "Accuracy: 89.41%\n",
      "\n",
      "learning_rate: 0.000155\n",
      "num_dense_layers: 3\n",
      "num_dense_nodes: 42\n",
      "activation: linear\n",
      "padding: valid\n",
      "\n",
      "Epoch 1/3\n",
      "750/750 [==============================] - 9s 12ms/step - loss: 0.6576 - accuracy: 0.7987 - val_loss: 0.3045 - val_accuracy: 0.9109 - lr: 1.5532e-04\n",
      "Epoch 2/3\n",
      "750/750 [==============================] - 9s 12ms/step - loss: 0.2483 - accuracy: 0.9262 - val_loss: 0.2133 - val_accuracy: 0.9374 - lr: 1.5532e-04\n",
      "Epoch 3/3\n",
      "750/750 [==============================] - 11s 14ms/step - loss: 0.1850 - accuracy: 0.9441 - val_loss: 0.1695 - val_accuracy: 0.9498 - lr: 1.5532e-04\n",
      "Accuracy: 94.98%\n",
      "\n",
      "learning_rate: 0.000417\n",
      "num_dense_layers: 1\n",
      "num_dense_nodes: 30\n",
      "activation: tanh\n",
      "padding: same\n",
      "\n",
      "Epoch 1/3\n",
      "750/750 [==============================] - 10s 12ms/step - loss: 0.5318 - accuracy: 0.8592 - val_loss: 0.2178 - val_accuracy: 0.9418 - lr: 4.1670e-04\n",
      "Epoch 2/3\n",
      "750/750 [==============================] - 10s 14ms/step - loss: 0.1596 - accuracy: 0.9565 - val_loss: 0.1270 - val_accuracy: 0.9665 - lr: 4.1670e-04\n",
      "Epoch 3/3\n",
      "750/750 [==============================] - 9s 12ms/step - loss: 0.1039 - accuracy: 0.9704 - val_loss: 0.0940 - val_accuracy: 0.9751 - lr: 4.1670e-04\n",
      "Accuracy: 97.51%\n",
      "\n",
      "learning_rate: 0.000001\n",
      "num_dense_layers: 1\n",
      "num_dense_nodes: 22\n",
      "activation: relu\n",
      "padding: same\n",
      "\n",
      "Epoch 1/3\n",
      "750/750 [==============================] - 10s 12ms/step - loss: 2.2950 - accuracy: 0.0973 - val_loss: 2.2917 - val_accuracy: 0.1075 - lr: 1.4328e-06\n",
      "Epoch 2/3\n",
      "750/750 [==============================] - 10s 13ms/step - loss: 2.2884 - accuracy: 0.1226 - val_loss: 2.2851 - val_accuracy: 0.1368 - lr: 1.4328e-06\n",
      "Epoch 3/3\n",
      "750/750 [==============================] - 9s 12ms/step - loss: 2.2817 - accuracy: 0.1444 - val_loss: 2.2784 - val_accuracy: 0.1509 - lr: 1.4328e-06\n",
      "Accuracy: 15.09%\n",
      "\n",
      "learning_rate: 0.000759\n",
      "num_dense_layers: 1\n",
      "num_dense_nodes: 8\n",
      "activation: linear\n",
      "padding: same\n",
      "\n",
      "Epoch 1/3\n",
      "750/750 [==============================] - 10s 12ms/step - loss: 0.4693 - accuracy: 0.8535 - val_loss: 0.2283 - val_accuracy: 0.9337 - lr: 7.5944e-04\n",
      "Epoch 2/3\n",
      "750/750 [==============================] - 10s 13ms/step - loss: 0.1747 - accuracy: 0.9490 - val_loss: 0.1592 - val_accuracy: 0.9528 - lr: 7.5944e-04\n",
      "Epoch 3/3\n",
      "750/750 [==============================] - 9s 12ms/step - loss: 0.1239 - accuracy: 0.9636 - val_loss: 0.1278 - val_accuracy: 0.9642 - lr: 7.5944e-04\n",
      "Accuracy: 96.42%\n",
      "\n",
      "learning_rate: 0.001881\n",
      "num_dense_layers: 4\n",
      "num_dense_nodes: 26\n",
      "activation: relu\n",
      "padding: same\n",
      "\n",
      "Epoch 1/3\n",
      "750/750 [==============================] - 11s 14ms/step - loss: 0.3772 - accuracy: 0.8794 - val_loss: 0.1162 - val_accuracy: 0.9668 - lr: 0.0019\n",
      "Epoch 2/3\n",
      "750/750 [==============================] - 10s 14ms/step - loss: 0.1017 - accuracy: 0.9705 - val_loss: 0.0993 - val_accuracy: 0.9688 - lr: 0.0019\n",
      "Epoch 3/3\n",
      "750/750 [==============================] - 10s 13ms/step - loss: 0.0751 - accuracy: 0.9778 - val_loss: 0.0689 - val_accuracy: 0.9795 - lr: 0.0019\n",
      "Accuracy: 97.95%\n",
      "\n",
      "learning_rate: 0.009581\n",
      "num_dense_layers: 5\n",
      "num_dense_nodes: 11\n",
      "activation: relu\n",
      "padding: same\n",
      "\n",
      "Epoch 1/3\n",
      "750/750 [==============================] - 12s 14ms/step - loss: 0.4610 - accuracy: 0.8480 - val_loss: 0.1667 - val_accuracy: 0.9571 - lr: 0.0096\n",
      "Epoch 2/3\n",
      "750/750 [==============================] - 10s 14ms/step - loss: 0.1561 - accuracy: 0.9585 - val_loss: 0.1392 - val_accuracy: 0.9635 - lr: 0.0096\n",
      "Epoch 3/3\n",
      "750/750 [==============================] - 10s 13ms/step - loss: 0.1346 - accuracy: 0.9651 - val_loss: 0.1637 - val_accuracy: 0.9592 - lr: 0.0096\n",
      "Accuracy: 95.92%\n",
      "\n",
      "learning_rate: 0.002658\n",
      "num_dense_layers: 4\n",
      "num_dense_nodes: 8\n",
      "activation: relu\n",
      "padding: same\n",
      "\n",
      "Epoch 1/3\n",
      "750/750 [==============================] - 11s 14ms/step - loss: 0.4723 - accuracy: 0.8474 - val_loss: 0.1793 - val_accuracy: 0.9498 - lr: 0.0027\n",
      "Epoch 2/3\n",
      "750/750 [==============================] - 10s 14ms/step - loss: 0.1394 - accuracy: 0.9596 - val_loss: 0.1130 - val_accuracy: 0.9678 - lr: 0.0027\n",
      "Epoch 3/3\n",
      "750/750 [==============================] - 10s 13ms/step - loss: 0.1012 - accuracy: 0.9704 - val_loss: 0.1181 - val_accuracy: 0.9681 - lr: 0.0027\n",
      "Accuracy: 96.81%\n",
      "\n",
      "learning_rate: 0.004970\n",
      "num_dense_layers: 4\n",
      "num_dense_nodes: 51\n",
      "activation: linear\n",
      "padding: same\n",
      "\n",
      "Epoch 1/3\n",
      "750/750 [==============================] - 13s 16ms/step - loss: 0.2215 - accuracy: 0.9324 - val_loss: 0.1324 - val_accuracy: 0.9597 - lr: 0.0050\n",
      "Epoch 2/3\n",
      "750/750 [==============================] - 11s 15ms/step - loss: 0.1286 - accuracy: 0.9606 - val_loss: 0.1140 - val_accuracy: 0.9648 - lr: 0.0050\n",
      "Epoch 3/3\n",
      "750/750 [==============================] - 11s 15ms/step - loss: 0.1232 - accuracy: 0.9617 - val_loss: 0.1311 - val_accuracy: 0.9577 - lr: 0.0050\n",
      "Accuracy: 95.77%\n",
      "\n",
      "learning_rate: 0.002568\n",
      "num_dense_layers: 4\n",
      "num_dense_nodes: 8\n",
      "activation: linear\n",
      "padding: same\n",
      "\n",
      "Epoch 1/3\n",
      "750/750 [==============================] - 11s 13ms/step - loss: 0.3352 - accuracy: 0.8918 - val_loss: 0.1386 - val_accuracy: 0.9594 - lr: 0.0026\n",
      "Epoch 2/3\n",
      "750/750 [==============================] - 10s 14ms/step - loss: 0.1174 - accuracy: 0.9647 - val_loss: 0.1168 - val_accuracy: 0.9653 - lr: 0.0026\n",
      "Epoch 3/3\n",
      "750/750 [==============================] - 10s 13ms/step - loss: 0.0901 - accuracy: 0.9728 - val_loss: 0.0916 - val_accuracy: 0.9742 - lr: 0.0026\n",
      "Accuracy: 97.42%\n",
      "\n",
      "learning_rate: 0.010000\n",
      "num_dense_layers: 4\n",
      "num_dense_nodes: 8\n",
      "activation: linear\n",
      "padding: same\n",
      "\n",
      "Epoch 1/3\n",
      "750/750 [==============================] - 10s 13ms/step - loss: 0.2702 - accuracy: 0.9141 - val_loss: 0.1556 - val_accuracy: 0.9517 - lr: 0.0100\n",
      "Epoch 2/3\n",
      "750/750 [==============================] - 10s 13ms/step - loss: 0.1378 - accuracy: 0.9575 - val_loss: 0.1748 - val_accuracy: 0.9454 - lr: 0.0100\n",
      "Epoch 3/3\n",
      "750/750 [==============================] - 10s 13ms/step - loss: 0.1277 - accuracy: 0.9624 - val_loss: 0.1105 - val_accuracy: 0.9662 - lr: 0.0100\n",
      "Accuracy: 96.62%\n",
      "\n"
     ]
    }
   ],
   "source": [
    "gp_ = gp_minimize(\n",
    "    objective,\n",
    "    param_grid,\n",
    "    x0=default_parameters,\n",
    "    acq_func='EI',\n",
    "    n_calls=30,\n",
    "    random_state=42\n",
    ")"
   ]
  },
  {
   "cell_type": "code",
   "execution_count": 56,
   "id": "b982fafd-ff2c-403a-8e5e-ad81b51ab9d5",
   "metadata": {},
   "outputs": [
    {
     "name": "stdout",
     "output_type": "stream",
     "text": [
      "Best score: -0.9794999957084656\n"
     ]
    }
   ],
   "source": [
    "print(\"Best score: %s\" % gp_.fun)"
   ]
  },
  {
   "cell_type": "code",
   "execution_count": 57,
   "id": "353ec2eb-49a1-4367-b110-bd194f6aecca",
   "metadata": {},
   "outputs": [
    {
     "name": "stdout",
     "output_type": "stream",
     "text": [
      "Best parameters:\n",
      "=========================\n",
      "- learning_rate: 0.001881\n",
      "- num_dense_layers: 4\n",
      "- num_dense_nodes: 26\n",
      "- activation: relu\n",
      "- padding: same\n"
     ]
    }
   ],
   "source": [
    "print(\"\"\"Best parameters:\n",
    "=========================\n",
    "- learning_rate: %.6f\n",
    "- num_dense_layers: %d\n",
    "- num_dense_nodes: %d\n",
    "- activation: %s\n",
    "- padding: %s\"\"\" % (gp_.x[0],\n",
    "                    gp_.x[1],\n",
    "                    gp_.x[2],\n",
    "                    gp_.x[3],\n",
    "                    gp_.x[4]))"
   ]
  },
  {
   "cell_type": "code",
   "execution_count": 58,
   "id": "87db2d01-e7d8-4775-a65c-020b5ddead99",
   "metadata": {
    "scrolled": true
   },
   "outputs": [
    {
     "name": "stdout",
     "output_type": "stream",
     "text": [
      "Epoch 1/15\n",
      "750/750 [==============================] - ETA: 0s - loss: 0.2546 - accuracy: 0.9205\n",
      "Epoch 1: val_loss improved from inf to 0.09774, saving model to model_experiments\\model_3\n",
      "INFO:tensorflow:Assets written to: model_experiments\\model_3\\assets\n"
     ]
    },
    {
     "name": "stderr",
     "output_type": "stream",
     "text": [
      "INFO:tensorflow:Assets written to: model_experiments\\model_3\\assets\n"
     ]
    },
    {
     "name": "stdout",
     "output_type": "stream",
     "text": [
      "750/750 [==============================] - 11s 13ms/step - loss: 0.2546 - accuracy: 0.9205 - val_loss: 0.0977 - val_accuracy: 0.9708\n",
      "Epoch 2/15\n",
      "748/750 [============================>.] - ETA: 0s - loss: 0.0727 - accuracy: 0.9784\n",
      "Epoch 2: val_loss improved from 0.09774 to 0.06546, saving model to model_experiments\\model_3\n",
      "INFO:tensorflow:Assets written to: model_experiments\\model_3\\assets\n"
     ]
    },
    {
     "name": "stderr",
     "output_type": "stream",
     "text": [
      "INFO:tensorflow:Assets written to: model_experiments\\model_3\\assets\n"
     ]
    },
    {
     "name": "stdout",
     "output_type": "stream",
     "text": [
      "750/750 [==============================] - 11s 14ms/step - loss: 0.0726 - accuracy: 0.9785 - val_loss: 0.0655 - val_accuracy: 0.9806\n",
      "Epoch 3/15\n",
      "746/750 [============================>.] - ETA: 0s - loss: 0.0533 - accuracy: 0.9835\n",
      "Epoch 3: val_loss improved from 0.06546 to 0.05671, saving model to model_experiments\\model_3\n",
      "INFO:tensorflow:Assets written to: model_experiments\\model_3\\assets\n"
     ]
    },
    {
     "name": "stderr",
     "output_type": "stream",
     "text": [
      "INFO:tensorflow:Assets written to: model_experiments\\model_3\\assets\n"
     ]
    },
    {
     "name": "stdout",
     "output_type": "stream",
     "text": [
      "750/750 [==============================] - 11s 14ms/step - loss: 0.0533 - accuracy: 0.9835 - val_loss: 0.0567 - val_accuracy: 0.9840\n",
      "Epoch 4/15\n",
      "748/750 [============================>.] - ETA: 0s - loss: 0.0427 - accuracy: 0.9864\n",
      "Epoch 4: val_loss improved from 0.05671 to 0.04770, saving model to model_experiments\\model_3\n",
      "INFO:tensorflow:Assets written to: model_experiments\\model_3\\assets\n"
     ]
    },
    {
     "name": "stderr",
     "output_type": "stream",
     "text": [
      "INFO:tensorflow:Assets written to: model_experiments\\model_3\\assets\n"
     ]
    },
    {
     "name": "stdout",
     "output_type": "stream",
     "text": [
      "750/750 [==============================] - 10s 13ms/step - loss: 0.0429 - accuracy: 0.9864 - val_loss: 0.0477 - val_accuracy: 0.9853\n",
      "Epoch 5/15\n",
      "748/750 [============================>.] - ETA: 0s - loss: 0.0381 - accuracy: 0.9881\n",
      "Epoch 5: val_loss did not improve from 0.04770\n",
      "750/750 [==============================] - 9s 12ms/step - loss: 0.0380 - accuracy: 0.9881 - val_loss: 0.0492 - val_accuracy: 0.9845\n",
      "Epoch 6/15\n",
      "750/750 [==============================] - ETA: 0s - loss: 0.0336 - accuracy: 0.9891\n",
      "Epoch 6: val_loss improved from 0.04770 to 0.04566, saving model to model_experiments\\model_3\n",
      "INFO:tensorflow:Assets written to: model_experiments\\model_3\\assets\n"
     ]
    },
    {
     "name": "stderr",
     "output_type": "stream",
     "text": [
      "INFO:tensorflow:Assets written to: model_experiments\\model_3\\assets\n"
     ]
    },
    {
     "name": "stdout",
     "output_type": "stream",
     "text": [
      "750/750 [==============================] - 10s 13ms/step - loss: 0.0336 - accuracy: 0.9891 - val_loss: 0.0457 - val_accuracy: 0.9865\n",
      "Epoch 7/15\n",
      "747/750 [============================>.] - ETA: 0s - loss: 0.0300 - accuracy: 0.9908\n",
      "Epoch 7: val_loss did not improve from 0.04566\n",
      "750/750 [==============================] - 10s 13ms/step - loss: 0.0299 - accuracy: 0.9908 - val_loss: 0.0534 - val_accuracy: 0.9845\n",
      "Epoch 8/15\n",
      "746/750 [============================>.] - ETA: 0s - loss: 0.0265 - accuracy: 0.9915\n",
      "Epoch 8: val_loss improved from 0.04566 to 0.04532, saving model to model_experiments\\model_3\n",
      "INFO:tensorflow:Assets written to: model_experiments\\model_3\\assets\n"
     ]
    },
    {
     "name": "stderr",
     "output_type": "stream",
     "text": [
      "INFO:tensorflow:Assets written to: model_experiments\\model_3\\assets\n"
     ]
    },
    {
     "name": "stdout",
     "output_type": "stream",
     "text": [
      "750/750 [==============================] - 10s 14ms/step - loss: 0.0265 - accuracy: 0.9915 - val_loss: 0.0453 - val_accuracy: 0.9874\n",
      "Epoch 9/15\n",
      "749/750 [============================>.] - ETA: 0s - loss: 0.0243 - accuracy: 0.9921\n",
      "Epoch 9: val_loss did not improve from 0.04532\n",
      "750/750 [==============================] - 9s 12ms/step - loss: 0.0243 - accuracy: 0.9921 - val_loss: 0.0574 - val_accuracy: 0.9839\n",
      "Epoch 10/15\n",
      "747/750 [============================>.] - ETA: 0s - loss: 0.0215 - accuracy: 0.9925\n",
      "Epoch 10: val_loss did not improve from 0.04532\n",
      "750/750 [==============================] - 10s 13ms/step - loss: 0.0215 - accuracy: 0.9925 - val_loss: 0.0547 - val_accuracy: 0.9848\n",
      "Epoch 11/15\n",
      "744/750 [============================>.] - ETA: 0s - loss: 0.0200 - accuracy: 0.9935\n",
      "Epoch 11: val_loss did not improve from 0.04532\n",
      "750/750 [==============================] - 9s 11ms/step - loss: 0.0199 - accuracy: 0.9935 - val_loss: 0.0578 - val_accuracy: 0.9853\n",
      "Epoch 12/15\n",
      "747/750 [============================>.] - ETA: 0s - loss: 0.0200 - accuracy: 0.9933\n",
      "Epoch 12: val_loss did not improve from 0.04532\n",
      "750/750 [==============================] - 9s 12ms/step - loss: 0.0200 - accuracy: 0.9933 - val_loss: 0.0636 - val_accuracy: 0.9838\n",
      "Epoch 13/15\n",
      "749/750 [============================>.] - ETA: 0s - loss: 0.0176 - accuracy: 0.9941\n",
      "Epoch 13: val_loss did not improve from 0.04532\n",
      "750/750 [==============================] - 9s 12ms/step - loss: 0.0176 - accuracy: 0.9941 - val_loss: 0.0562 - val_accuracy: 0.9870\n"
     ]
    }
   ],
   "source": [
    "inputs = layers.Input(shape=INPUT_SHAPE, dtype=tf.float32)\n",
    "x = layers.Conv2D(10, 3, activation=gp_.x[3], padding=gp_.x[4])(inputs)\n",
    "x = layers.Conv2D(10, 3, activation=gp_.x[3], padding=gp_.x[4])(x)\n",
    "x = layers.MaxPooling2D(2)(x)\n",
    "x = layers.Conv2D(10, 3, activation=gp_.x[3], padding=gp_.x[4])(x)\n",
    "x = layers.Conv2D(10, 3, activation=gp_.x[3], padding=gp_.x[4])(x)\n",
    "x = layers.MaxPooling2D(2)(x)\n",
    "x = layers.Flatten()(x)\n",
    "x = layers.Dense(gp_.x[2], activation=gp_.x[3])(x)\n",
    "outputs = layers.Dense(len(class_names), activation=\"softmax\")(x)\n",
    "\n",
    "model_3 = tf.keras.Model(inputs, outputs, name=\"model_3\")\n",
    "\n",
    "model_3.compile(loss=tf.keras.losses.SparseCategoricalCrossentropy(),\n",
    "                optimizer=tf.keras.optimizers.Adam(learning_rate=gp_.x[0]),\n",
    "                metrics=[\"accuracy\"])\n",
    "\n",
    "model_3_history = model_3.fit(train_data,\n",
    "                              validation_data=val_data,\n",
    "                              steps_per_epoch=len(train_data),\n",
    "                              validation_steps=len(val_data),\n",
    "                              epochs=15,\n",
    "                              callbacks=[tensorboard_callback(model_name=model_3.name),\n",
    "                                         checkpoint_callback(model_name=model_3.name),\n",
    "                                         early_stopping])"
   ]
  },
  {
   "cell_type": "code",
   "execution_count": 59,
   "id": "82443dfe-192d-408e-9e7b-aa024f81f3db",
   "metadata": {},
   "outputs": [
    {
     "data": {
      "text/plain": [
       "Reusing TensorBoard on port 8083 (pid 36620), started 22:40:53 ago. (Use '!kill 36620' to kill it.)"
      ]
     },
     "metadata": {},
     "output_type": "display_data"
    },
    {
     "data": {
      "text/html": [
       "\n",
       "      <iframe id=\"tensorboard-frame-e6d9b7ad3a605351\" width=\"100%\" height=\"800\" frameborder=\"0\">\n",
       "      </iframe>\n",
       "      <script>\n",
       "        (function() {\n",
       "          const frame = document.getElementById(\"tensorboard-frame-e6d9b7ad3a605351\");\n",
       "          const url = new URL(\"/\", window.location);\n",
       "          const port = 8083;\n",
       "          if (port) {\n",
       "            url.port = port;\n",
       "          }\n",
       "          frame.src = url;\n",
       "        })();\n",
       "      </script>\n",
       "    "
      ],
      "text/plain": [
       "<IPython.core.display.HTML object>"
      ]
     },
     "metadata": {},
     "output_type": "display_data"
    }
   ],
   "source": [
    "%tensorboard --logdir model_logs --port 8083"
   ]
  },
  {
   "cell_type": "code",
   "execution_count": 60,
   "id": "f431ccf4-0e60-42ce-a2a6-842758af6704",
   "metadata": {},
   "outputs": [
    {
     "name": "stdout",
     "output_type": "stream",
     "text": [
      "750/750 [==============================] - 5s 6ms/step - loss: 0.0170 - accuracy: 0.9942\n"
     ]
    },
    {
     "data": {
      "text/plain": [
       "[0.017041414976119995, 0.9942499995231628]"
      ]
     },
     "execution_count": 60,
     "metadata": {},
     "output_type": "execute_result"
    }
   ],
   "source": [
    "model_3.evaluate(train_data)"
   ]
  },
  {
   "cell_type": "code",
   "execution_count": 61,
   "id": "fa81cb56-856f-44a5-97be-b435fc7ecb8f",
   "metadata": {},
   "outputs": [
    {
     "name": "stdout",
     "output_type": "stream",
     "text": [
      "188/188 [==============================] - 1s 6ms/step - loss: 0.0453 - accuracy: 0.9874\n"
     ]
    },
    {
     "data": {
      "text/plain": [
       "[0.04531504958868027, 0.987416684627533]"
      ]
     },
     "execution_count": 61,
     "metadata": {},
     "output_type": "execute_result"
    }
   ],
   "source": [
    "model_3.evaluate(val_data)"
   ]
  },
  {
   "cell_type": "code",
   "execution_count": 62,
   "id": "d3a0e4f4-2da6-4b0e-b83a-ffc44092074e",
   "metadata": {},
   "outputs": [
    {
     "name": "stdout",
     "output_type": "stream",
     "text": [
      "157/157 [==============================] - 1s 6ms/step - loss: 0.0383 - accuracy: 0.9883\n"
     ]
    },
    {
     "data": {
      "text/plain": [
       "[0.038348156958818436, 0.9883000254631042]"
      ]
     },
     "execution_count": 62,
     "metadata": {},
     "output_type": "execute_result"
    }
   ],
   "source": [
    "model_3.evaluate(test_data)"
   ]
  },
  {
   "cell_type": "code",
   "execution_count": 63,
   "id": "6ea4af27-7579-484d-910d-0be83c5859d1",
   "metadata": {},
   "outputs": [
    {
     "name": "stdout",
     "output_type": "stream",
     "text": [
      "750/750 [==============================] - 5s 6ms/step - loss: 0.0170 - accuracy: 0.9942\n"
     ]
    },
    {
     "data": {
      "text/plain": [
       "[0.017041416838765144, 0.9942499995231628]"
      ]
     },
     "execution_count": 63,
     "metadata": {},
     "output_type": "execute_result"
    }
   ],
   "source": [
    "model_3_loaded = tf.keras.models.load_model(\"model_experiments/model_3\")\n",
    "model_3_loaded.evaluate(train_data)"
   ]
  },
  {
   "cell_type": "code",
   "execution_count": 64,
   "id": "d65ecfb3-3cb1-4552-ab10-4417fa25995d",
   "metadata": {},
   "outputs": [
    {
     "name": "stdout",
     "output_type": "stream",
     "text": [
      "188/188 [==============================] - 1s 6ms/step - loss: 0.0453 - accuracy: 0.9874\n"
     ]
    },
    {
     "data": {
      "text/plain": [
       "[0.045315057039260864, 0.987416684627533]"
      ]
     },
     "execution_count": 64,
     "metadata": {},
     "output_type": "execute_result"
    }
   ],
   "source": [
    "model_3_loaded.evaluate(val_data)"
   ]
  },
  {
   "cell_type": "code",
   "execution_count": 65,
   "id": "67893db2-1ce2-42ee-878a-3ef1c8fc8238",
   "metadata": {},
   "outputs": [
    {
     "name": "stdout",
     "output_type": "stream",
     "text": [
      "157/157 [==============================] - 1s 7ms/step - loss: 0.0383 - accuracy: 0.9883\n"
     ]
    },
    {
     "data": {
      "text/plain": [
       "[0.038348156958818436, 0.9883000254631042]"
      ]
     },
     "execution_count": 65,
     "metadata": {},
     "output_type": "execute_result"
    }
   ],
   "source": [
    "model_3_loaded.evaluate(test_data)"
   ]
  },
  {
   "cell_type": "code",
   "execution_count": 66,
   "id": "1c820eb6-666e-4cf8-9d7a-e4b7a4899c68",
   "metadata": {},
   "outputs": [
    {
     "name": "stdout",
     "output_type": "stream",
     "text": [
      "750/750 [==============================] - 5s 6ms/step - loss: 0.0996 - accuracy: 0.9707\n",
      "188/188 [==============================] - 1s 6ms/step - loss: 0.1060 - accuracy: 0.9697\n",
      "157/157 [==============================] - 1s 7ms/step - loss: 0.0900 - accuracy: 0.9736\n"
     ]
    },
    {
     "data": {
      "text/plain": [
       "([0.09956671297550201, 0.9707499742507935],\n",
       " [0.105982705950737, 0.9696666598320007],\n",
       " [0.09004519879817963, 0.9735999703407288])"
      ]
     },
     "execution_count": 66,
     "metadata": {},
     "output_type": "execute_result"
    }
   ],
   "source": [
    "model_2_loaded.evaluate(train_data), model_2_loaded.evaluate(val_data), model_2_loaded.evaluate(test_data)"
   ]
  },
  {
   "cell_type": "code",
   "execution_count": 67,
   "id": "7f342f6c-deaf-4ec8-bb5d-a3b6b5c7a683",
   "metadata": {},
   "outputs": [
    {
     "data": {
      "text/plain": [
       "<Axes: title={'center': 'Convergence plot'}, xlabel='Number of calls $n$', ylabel='$\\\\min f(x)$ after $n$ calls'>"
      ]
     },
     "execution_count": 67,
     "metadata": {},
     "output_type": "execute_result"
    },
    {
     "data": {
      "image/png": "[encoded data removed]",
      "text/plain": [
       "<Figure size 640x480 with 1 Axes>"
      ]
     },
     "metadata": {},
     "output_type": "display_data"
    }
   ],
   "source": [
    "plot_convergence(gp_)"
   ]
  },
  {
   "cell_type": "code",
   "execution_count": 68,
   "id": "788f9a7d-47f0-453d-a897-9a13a35b5858",
   "metadata": {},
   "outputs": [],
   "source": [
    "dim_names = ['learning_rate', 'num_dense_nodes', 'num_dense_layers']"
   ]
  },
  {
   "cell_type": "code",
   "execution_count": 70,
   "id": "867cf530-a188-4990-840f-99685c2c8122",
   "metadata": {},
   "outputs": [
    {
     "data": {
      "image/png": "[encoded data removed]",
      "text/plain": [
       "<Figure size 600x600 with 9 Axes>"
      ]
     },
     "metadata": {},
     "output_type": "display_data"
    },
    {
     "data": {
      "text/plain": [
       "<Figure size 1500x2000 with 0 Axes>"
      ]
     },
     "metadata": {},
     "output_type": "display_data"
    }
   ],
   "source": [
    "plot_objective(result=gp_, plot_dims=dim_names)\n",
    "plt.figure(figsize=(15, 20))\n",
    "plt.show()"
   ]
  },
  {
   "cell_type": "code",
   "execution_count": 71,
   "id": "7874f32a-7ed2-4ceb-96b1-d6745bb967ab",
   "metadata": {},
   "outputs": [
    {
     "data": {
      "image/png": "[encoded data removed]",
      "text/plain": [
       "<Figure size 600x600 with 9 Axes>"
      ]
     },
     "metadata": {},
     "output_type": "display_data"
    }
   ],
   "source": [
    "plot_evaluations(result=gp_, plot_dims=dim_names)\n",
    "plt.show()"
   ]
  },
  {
   "cell_type": "code",
   "execution_count": null,
   "id": "7abbb6ac-d101-4fa1-a619-494d2b0cb2db",
   "metadata": {},
   "outputs": [],
   "source": []
  }
 ],
 "metadata": {
  "kernelspec": {
   "display_name": "mldl",
   "language": "python",
   "name": "mldl"
  },
  "language_info": {
   "codemirror_mode": {
    "name": "ipython",
    "version": 3
   },
   "file_extension": ".py",
   "mimetype": "text/x-python",
   "name": "python",
   "nbconvert_exporter": "python",
   "pygments_lexer": "ipython3",
   "version": "3.9.2"
  }
 },
 "nbformat": 4,
 "nbformat_minor": 5
}
