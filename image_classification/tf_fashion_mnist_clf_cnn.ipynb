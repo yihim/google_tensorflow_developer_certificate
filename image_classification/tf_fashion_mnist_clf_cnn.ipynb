{
 "cells": [
  {
   "cell_type": "code",
   "execution_count": 1,
   "id": "5b14d353-2f25-4f49-892b-24aff66055e1",
   "metadata": {},
   "outputs": [],
   "source": [
    "import tensorflow as tf\n",
    "import tensorflow_datasets as tfds\n",
    "from tensorflow.keras import layers\n",
    "import matplotlib.pyplot as plt\n",
    "import numpy as np\n",
    "import pandas as pd"
   ]
  },
  {
   "cell_type": "code",
   "execution_count": 2,
   "id": "09e9bb1d-69f1-4d13-bbe5-0518665a0784",
   "metadata": {},
   "outputs": [
    {
     "name": "stdout",
     "output_type": "stream",
     "text": [
      "2.8.0\n"
     ]
    }
   ],
   "source": [
    "print(tf.__version__)"
   ]
  },
  {
   "cell_type": "code",
   "execution_count": 3,
   "id": "5e443ccd-e61e-4507-b35d-b78e7883d4ff",
   "metadata": {},
   "outputs": [],
   "source": [
    "gpus = tf.config.list_physical_devices('GPU')\n",
    "if gpus:\n",
    "    for gpu in gpus:\n",
    "        tf.config.experimental.set_memory_growth(gpu, True)"
   ]
  },
  {
   "cell_type": "code",
   "execution_count": 4,
   "id": "1b251832-0090-455d-89f3-f0ac89cefecd",
   "metadata": {},
   "outputs": [],
   "source": [
    "tf.keras.backend.clear_session()"
   ]
  },
  {
   "cell_type": "code",
   "execution_count": 5,
   "id": "4d33a98f-1e2c-4d9a-960f-f9212edb1b35",
   "metadata": {},
   "outputs": [
    {
     "data": {
      "text/plain": [
       "['abstract_reasoning',\n",
       " 'accentdb',\n",
       " 'aeslc',\n",
       " 'aflw2k3d',\n",
       " 'ag_news_subset',\n",
       " 'ai2_arc',\n",
       " 'ai2_arc_with_ir',\n",
       " 'amazon_us_reviews',\n",
       " 'anli',\n",
       " 'arc',\n",
       " 'bair_robot_pushing_small',\n",
       " 'bccd',\n",
       " 'beans',\n",
       " 'big_patent',\n",
       " 'bigearthnet',\n",
       " 'billsum',\n",
       " 'binarized_mnist',\n",
       " 'binary_alpha_digits',\n",
       " 'blimp',\n",
       " 'bool_q',\n",
       " 'c4',\n",
       " 'caltech101',\n",
       " 'caltech_birds2010',\n",
       " 'caltech_birds2011',\n",
       " 'cars196',\n",
       " 'cassava',\n",
       " 'cats_vs_dogs',\n",
       " 'celeb_a',\n",
       " 'celeb_a_hq',\n",
       " 'cfq',\n",
       " 'cherry_blossoms',\n",
       " 'chexpert',\n",
       " 'cifar10',\n",
       " 'cifar100',\n",
       " 'cifar10_1',\n",
       " 'cifar10_corrupted',\n",
       " 'citrus_leaves',\n",
       " 'cityscapes',\n",
       " 'civil_comments',\n",
       " 'clevr',\n",
       " 'clic',\n",
       " 'clinc_oos',\n",
       " 'cmaterdb',\n",
       " 'cnn_dailymail',\n",
       " 'coco',\n",
       " 'coco_captions',\n",
       " 'coil100',\n",
       " 'colorectal_histology',\n",
       " 'colorectal_histology_large',\n",
       " 'common_voice',\n",
       " 'coqa',\n",
       " 'cos_e',\n",
       " 'cosmos_qa',\n",
       " 'covid19',\n",
       " 'covid19sum',\n",
       " 'crema_d',\n",
       " 'curated_breast_imaging_ddsm',\n",
       " 'cycle_gan',\n",
       " 'd4rl_adroit_door',\n",
       " 'd4rl_adroit_hammer',\n",
       " 'd4rl_adroit_pen',\n",
       " 'd4rl_adroit_relocate',\n",
       " 'd4rl_mujoco_ant',\n",
       " 'd4rl_mujoco_halfcheetah',\n",
       " 'd4rl_mujoco_hopper',\n",
       " 'd4rl_mujoco_walker2d',\n",
       " 'dart',\n",
       " 'davis',\n",
       " 'deep_weeds',\n",
       " 'definite_pronoun_resolution',\n",
       " 'dementiabank',\n",
       " 'diabetic_retinopathy_detection',\n",
       " 'div2k',\n",
       " 'dmlab',\n",
       " 'doc_nli',\n",
       " 'dolphin_number_word',\n",
       " 'downsampled_imagenet',\n",
       " 'drop',\n",
       " 'dsprites',\n",
       " 'dtd',\n",
       " 'duke_ultrasound',\n",
       " 'e2e_cleaned',\n",
       " 'efron_morris75',\n",
       " 'emnist',\n",
       " 'eraser_multi_rc',\n",
       " 'esnli',\n",
       " 'eurosat',\n",
       " 'fashion_mnist',\n",
       " 'flic',\n",
       " 'flores',\n",
       " 'food101',\n",
       " 'forest_fires',\n",
       " 'fuss',\n",
       " 'gap',\n",
       " 'geirhos_conflict_stimuli',\n",
       " 'gem',\n",
       " 'genomics_ood',\n",
       " 'german_credit_numeric',\n",
       " 'gigaword',\n",
       " 'glue',\n",
       " 'goemotions',\n",
       " 'gpt3',\n",
       " 'gref',\n",
       " 'groove',\n",
       " 'gtzan',\n",
       " 'gtzan_music_speech',\n",
       " 'hellaswag',\n",
       " 'higgs',\n",
       " 'horses_or_humans',\n",
       " 'howell',\n",
       " 'i_naturalist2017',\n",
       " 'imagenet2012',\n",
       " 'imagenet2012_corrupted',\n",
       " 'imagenet2012_multilabel',\n",
       " 'imagenet2012_real',\n",
       " 'imagenet2012_subset',\n",
       " 'imagenet_a',\n",
       " 'imagenet_r',\n",
       " 'imagenet_resized',\n",
       " 'imagenet_v2',\n",
       " 'imagenette',\n",
       " 'imagewang',\n",
       " 'imdb_reviews',\n",
       " 'irc_disentanglement',\n",
       " 'iris',\n",
       " 'kddcup99',\n",
       " 'kitti',\n",
       " 'kmnist',\n",
       " 'lambada',\n",
       " 'lfw',\n",
       " 'librispeech',\n",
       " 'librispeech_lm',\n",
       " 'libritts',\n",
       " 'ljspeech',\n",
       " 'lm1b',\n",
       " 'lost_and_found',\n",
       " 'lsun',\n",
       " 'lvis',\n",
       " 'malaria',\n",
       " 'math_dataset',\n",
       " 'mctaco',\n",
       " 'mlqa',\n",
       " 'mnist',\n",
       " 'mnist_corrupted',\n",
       " 'movie_lens',\n",
       " 'movie_rationales',\n",
       " 'movielens',\n",
       " 'moving_mnist',\n",
       " 'multi_news',\n",
       " 'multi_nli',\n",
       " 'multi_nli_mismatch',\n",
       " 'natural_questions',\n",
       " 'natural_questions_open',\n",
       " 'newsroom',\n",
       " 'nsynth',\n",
       " 'nyu_depth_v2',\n",
       " 'ogbg_molpcba',\n",
       " 'omniglot',\n",
       " 'open_images_challenge2019_detection',\n",
       " 'open_images_v4',\n",
       " 'openbookqa',\n",
       " 'opinion_abstracts',\n",
       " 'opinosis',\n",
       " 'opus',\n",
       " 'oxford_flowers102',\n",
       " 'oxford_iiit_pet',\n",
       " 'para_crawl',\n",
       " 'patch_camelyon',\n",
       " 'paws_wiki',\n",
       " 'paws_x_wiki',\n",
       " 'pet_finder',\n",
       " 'pg19',\n",
       " 'piqa',\n",
       " 'places365_small',\n",
       " 'plant_leaves',\n",
       " 'plant_village',\n",
       " 'plantae_k',\n",
       " 'protein_net',\n",
       " 'qa4mre',\n",
       " 'qasc',\n",
       " 'quac',\n",
       " 'quickdraw_bitmap',\n",
       " 'race',\n",
       " 'radon',\n",
       " 'reddit',\n",
       " 'reddit_disentanglement',\n",
       " 'reddit_tifu',\n",
       " 'ref_coco',\n",
       " 'resisc45',\n",
       " 'rlu_atari',\n",
       " 'rlu_dmlab_explore_object_rewards_few',\n",
       " 'rlu_dmlab_explore_object_rewards_many',\n",
       " 'rlu_dmlab_rooms_select_nonmatching_object',\n",
       " 'rlu_dmlab_rooms_watermaze',\n",
       " 'rlu_dmlab_seekavoid_arena01',\n",
       " 'robonet',\n",
       " 'rock_paper_scissors',\n",
       " 'rock_you',\n",
       " 's3o4d',\n",
       " 'salient_span_wikipedia',\n",
       " 'samsum',\n",
       " 'savee',\n",
       " 'scan',\n",
       " 'scene_parse150',\n",
       " 'schema_guided_dialogue',\n",
       " 'scicite',\n",
       " 'scientific_papers',\n",
       " 'sentiment140',\n",
       " 'shapes3d',\n",
       " 'siscore',\n",
       " 'smallnorb',\n",
       " 'snli',\n",
       " 'so2sat',\n",
       " 'speech_commands',\n",
       " 'spoken_digit',\n",
       " 'squad',\n",
       " 'stanford_dogs',\n",
       " 'stanford_online_products',\n",
       " 'star_cfq',\n",
       " 'starcraft_video',\n",
       " 'stl10',\n",
       " 'story_cloze',\n",
       " 'summscreen',\n",
       " 'sun397',\n",
       " 'super_glue',\n",
       " 'svhn_cropped',\n",
       " 'symmetric_solids',\n",
       " 'tao',\n",
       " 'ted_hrlr_translate',\n",
       " 'ted_multi_translate',\n",
       " 'tedlium',\n",
       " 'tf_flowers',\n",
       " 'the300w_lp',\n",
       " 'tiny_shakespeare',\n",
       " 'titanic',\n",
       " 'trec',\n",
       " 'trivia_qa',\n",
       " 'tydi_qa',\n",
       " 'uc_merced',\n",
       " 'ucf101',\n",
       " 'vctk',\n",
       " 'visual_domain_decathlon',\n",
       " 'voc',\n",
       " 'voxceleb',\n",
       " 'voxforge',\n",
       " 'waymo_open_dataset',\n",
       " 'web_nlg',\n",
       " 'web_questions',\n",
       " 'wider_face',\n",
       " 'wiki40b',\n",
       " 'wiki_bio',\n",
       " 'wiki_table_questions',\n",
       " 'wiki_table_text',\n",
       " 'wikiann',\n",
       " 'wikihow',\n",
       " 'wikipedia',\n",
       " 'wikipedia_toxicity_subtypes',\n",
       " 'wine_quality',\n",
       " 'winogrande',\n",
       " 'wmt13_translate',\n",
       " 'wmt14_translate',\n",
       " 'wmt15_translate',\n",
       " 'wmt16_translate',\n",
       " 'wmt17_translate',\n",
       " 'wmt18_translate',\n",
       " 'wmt19_translate',\n",
       " 'wmt_t2t_translate',\n",
       " 'wmt_translate',\n",
       " 'wordnet',\n",
       " 'wsc273',\n",
       " 'xnli',\n",
       " 'xquad',\n",
       " 'xsum',\n",
       " 'xtreme_pawsx',\n",
       " 'xtreme_xnli',\n",
       " 'yelp_polarity_reviews',\n",
       " 'yes_no',\n",
       " 'youtube_vis']"
      ]
     },
     "execution_count": 5,
     "metadata": {},
     "output_type": "execute_result"
    }
   ],
   "source": [
    "dataset_lists = tfds.list_builders()\n",
    "dataset_lists"
   ]
  },
  {
   "cell_type": "code",
   "execution_count": 6,
   "id": "af151e39-2d60-48bf-996c-300a2ba78d54",
   "metadata": {},
   "outputs": [
    {
     "name": "stdout",
     "output_type": "stream",
     "text": [
      "True\n"
     ]
    }
   ],
   "source": [
    "print(\"fashion_mnist\" in dataset_lists)"
   ]
  },
  {
   "cell_type": "code",
   "execution_count": 7,
   "id": "070a882a-1ee6-42f7-9bd8-36963b2d5791",
   "metadata": {},
   "outputs": [],
   "source": [
    "(training_data, testing_data), metadata = tfds.load(\"fashion_mnist\",\n",
    "                               as_supervised=True,\n",
    "                               with_info=True,\n",
    "                               shuffle_files=False,\n",
    "                               split=[\"train\", \"test\"])"
   ]
  },
  {
   "cell_type": "code",
   "execution_count": 8,
   "id": "4499590f-8cdf-437c-9706-5b37c712e938",
   "metadata": {},
   "outputs": [
    {
     "data": {
      "text/plain": [
       "60000"
      ]
     },
     "execution_count": 8,
     "metadata": {},
     "output_type": "execute_result"
    }
   ],
   "source": [
    "num_examples = metadata.splits[\"train\"].num_examples\n",
    "num_examples"
   ]
  },
  {
   "cell_type": "code",
   "execution_count": 9,
   "id": "241e201d-c924-435a-877c-f0c3272f07ca",
   "metadata": {},
   "outputs": [],
   "source": [
    "split_size = int(0.8 * num_examples)\n",
    "train_data = training_data.take(split_size)\n",
    "val_data = training_data.skip(split_size)"
   ]
  },
  {
   "cell_type": "code",
   "execution_count": 10,
   "id": "224599ad-50bb-4002-ad7b-678aefdc6a40",
   "metadata": {},
   "outputs": [
    {
     "data": {
      "text/plain": [
       "(48000, 12000)"
      ]
     },
     "execution_count": 10,
     "metadata": {},
     "output_type": "execute_result"
    }
   ],
   "source": [
    "len(train_data), len(val_data)"
   ]
  },
  {
   "cell_type": "code",
   "execution_count": 11,
   "id": "e6888009-2b2b-4d4b-b7b0-3e4ed1c6f911",
   "metadata": {},
   "outputs": [],
   "source": [
    "sample_train_data = train_data.take(10)\n",
    "sample_10_images = []\n",
    "sample_10_labels = []\n",
    "for data in sample_train_data.as_numpy_iterator():\n",
    "    img, label = data\n",
    "    sample_10_images.append(img)\n",
    "    sample_10_labels.append(label)"
   ]
  },
  {
   "cell_type": "code",
   "execution_count": 12,
   "id": "6afac606-ae3d-433e-91ca-3137068a8433",
   "metadata": {},
   "outputs": [
    {
     "data": {
      "text/plain": [
       "(10, 10)"
      ]
     },
     "execution_count": 12,
     "metadata": {},
     "output_type": "execute_result"
    }
   ],
   "source": [
    "len(sample_10_images), len(sample_10_labels)"
   ]
  },
  {
   "cell_type": "code",
   "execution_count": 13,
   "id": "369f5644-c77f-4371-9646-94e1dad8ba35",
   "metadata": {},
   "outputs": [
    {
     "data": {
      "text/plain": [
       "['T-shirt/top',\n",
       " 'Trouser',\n",
       " 'Pullover',\n",
       " 'Dress',\n",
       " 'Coat',\n",
       " 'Sandal',\n",
       " 'Shirt',\n",
       " 'Sneaker',\n",
       " 'Bag',\n",
       " 'Ankle boot']"
      ]
     },
     "execution_count": 13,
     "metadata": {},
     "output_type": "execute_result"
    }
   ],
   "source": [
    "class_names = metadata.features[\"label\"].names\n",
    "class_names"
   ]
  },
  {
   "cell_type": "code",
   "execution_count": 14,
   "id": "8b8afc04-f52e-4c32-b0f6-142b15a57858",
   "metadata": {},
   "outputs": [
    {
     "data": {
      "text/plain": [
       "[2, 1, 8, 4, 1, 9, 2, 2, 0, 2]"
      ]
     },
     "execution_count": 14,
     "metadata": {},
     "output_type": "execute_result"
    }
   ],
   "source": [
    "sample_10_labels"
   ]
  },
  {
   "cell_type": "code",
   "execution_count": 15,
   "id": "f97efe05-eeb6-42d1-88f9-84557c6d1ead",
   "metadata": {},
   "outputs": [],
   "source": [
    "import random\n",
    "def view_random_train_images(images, labels):\n",
    "    random_num = random.randint(0, len(images)-1)\n",
    "    random_img = images[random_num]\n",
    "    random_label = labels[random_num]\n",
    "    random_class = class_names[random_label]\n",
    "    print(random_img.shape)\n",
    "    plt.figure(figsize=(10, 7))\n",
    "    plt.imshow(random_img)\n",
    "    plt.title(f\"Class name: {random_class}\")\n",
    "    plt.axis(False)"
   ]
  },
  {
   "cell_type": "code",
   "execution_count": 16,
   "id": "a07d6087-6b12-4664-be6b-d80eefa0df94",
   "metadata": {},
   "outputs": [
    {
     "name": "stdout",
     "output_type": "stream",
     "text": [
      "(28, 28, 1)\n"
     ]
    },
    {
     "data": {
      "image/png": "[encoded data removed]",
      "text/plain": [
       "<Figure size 1000x700 with 1 Axes>"
      ]
     },
     "metadata": {},
     "output_type": "display_data"
    }
   ],
   "source": [
    "view_random_train_images(sample_10_images, sample_10_labels)"
   ]
  },
  {
   "cell_type": "code",
   "execution_count": 17,
   "id": "a516d743-1e7a-472c-92c8-7f1137f6a6cf",
   "metadata": {},
   "outputs": [
    {
     "data": {
      "text/plain": [
       "(<tf.Tensor: shape=(), dtype=uint8, numpy=0>,\n",
       " <tf.Tensor: shape=(), dtype=uint8, numpy=255>)"
      ]
     },
     "execution_count": 17,
     "metadata": {},
     "output_type": "execute_result"
    }
   ],
   "source": [
    "tf.reduce_min(sample_10_images[0]), tf.reduce_max(sample_10_images[0])"
   ]
  },
  {
   "cell_type": "code",
   "execution_count": 165,
   "id": "6ef59005-560a-4498-85bb-3fc70b639cc9",
   "metadata": {},
   "outputs": [
    {
     "name": "stderr",
     "output_type": "stream",
     "text": [
      "C:\\Users\\yihim\\anaconda3\\envs\\mldl\\lib\\site-packages\\joblib\\_memmapping_reducer.py:598: UserWarning: Failed to delete temporary folder: C:\\Users\\yihim\\AppData\\Local\\Temp\\joblib_memmapping_folder_51412_4d7a5e81692e44c5a36f8a920cb73eba_2092e9671faf4704823b4ca42ab36eb1\n",
      "  warnings.warn(\"Failed to delete temporary folder: {}\"\n",
      "C:\\Users\\yihim\\anaconda3\\envs\\mldl\\lib\\site-packages\\joblib\\_memmapping_reducer.py:598: UserWarning: Failed to delete temporary folder: C:\\Users\\yihim\\AppData\\Local\\Temp\\joblib_memmapping_folder_51412_e81ca2086e0b477086f8d53552925ce5_f49ecf316d9a4168b3b4ca8992d9a07d\n",
      "  warnings.warn(\"Failed to delete temporary folder: {}\"\n",
      "C:\\Users\\yihim\\anaconda3\\envs\\mldl\\lib\\site-packages\\joblib\\_memmapping_reducer.py:598: UserWarning: Failed to delete temporary folder: C:\\Users\\yihim\\AppData\\Local\\Temp\\joblib_memmapping_folder_51412_4d7a5e81692e44c5a36f8a920cb73eba_85f1b0e0280b4a0195162361f183c5f3\n",
      "  warnings.warn(\"Failed to delete temporary folder: {}\"\n",
      "C:\\Users\\yihim\\anaconda3\\envs\\mldl\\lib\\site-packages\\joblib\\_memmapping_reducer.py:598: UserWarning: Failed to delete temporary folder: C:\\Users\\yihim\\AppData\\Local\\Temp\\joblib_memmapping_folder_51412_e278c9b5fad04bf9a8f9f394c0e3bc5f_f5df485fa3f74110bf735d79c374434e\n",
      "  warnings.warn(\"Failed to delete temporary folder: {}\"\n",
      "C:\\Users\\yihim\\anaconda3\\envs\\mldl\\lib\\site-packages\\joblib\\_memmapping_reducer.py:598: UserWarning: Failed to delete temporary folder: C:\\Users\\yihim\\AppData\\Local\\Temp\\joblib_memmapping_folder_51412_4d7a5e81692e44c5a36f8a920cb73eba_00b2aea2ab054d44bd177849ca4b4e61\n",
      "  warnings.warn(\"Failed to delete temporary folder: {}\"\n",
      "C:\\Users\\yihim\\anaconda3\\envs\\mldl\\lib\\site-packages\\joblib\\_memmapping_reducer.py:598: UserWarning: Failed to delete temporary folder: C:\\Users\\yihim\\AppData\\Local\\Temp\\joblib_memmapping_folder_51412_421e7884f5374fe9a68a642f85bac987_bdeabcd9cb5d4e3e88684156c4f9e196\n",
      "  warnings.warn(\"Failed to delete temporary folder: {}\"\n",
      "C:\\Users\\yihim\\anaconda3\\envs\\mldl\\lib\\site-packages\\joblib\\_memmapping_reducer.py:598: UserWarning: Failed to delete temporary folder: C:\\Users\\yihim\\AppData\\Local\\Temp\\joblib_memmapping_folder_51412_4d7a5e81692e44c5a36f8a920cb73eba_ebee42a6bc2b4d6db997cacae19968a2\n",
      "  warnings.warn(\"Failed to delete temporary folder: {}\"\n",
      "C:\\Users\\yihim\\anaconda3\\envs\\mldl\\lib\\site-packages\\joblib\\_memmapping_reducer.py:598: UserWarning: Failed to delete temporary folder: C:\\Users\\yihim\\AppData\\Local\\Temp\\joblib_memmapping_folder_51412_d5da105be9dc47b9bc217df13426eafc_52ef6f4afb6449f8848e2c7f022808ba\n",
      "  warnings.warn(\"Failed to delete temporary folder: {}\"\n",
      "C:\\Users\\yihim\\anaconda3\\envs\\mldl\\lib\\site-packages\\joblib\\_memmapping_reducer.py:598: UserWarning: Failed to delete temporary folder: C:\\Users\\yihim\\AppData\\Local\\Temp\\joblib_memmapping_folder_51412_4d7a5e81692e44c5a36f8a920cb73eba_a28f7817d0604d2b94a2feb93c08451a\n",
      "  warnings.warn(\"Failed to delete temporary folder: {}\"\n",
      "C:\\Users\\yihim\\anaconda3\\envs\\mldl\\lib\\site-packages\\joblib\\_memmapping_reducer.py:598: UserWarning: Failed to delete temporary folder: C:\\Users\\yihim\\AppData\\Local\\Temp\\joblib_memmapping_folder_51412_a79186837cd84af1947502701b912efa_9aad3eb930cf433d9624f2238d6de5d3\n",
      "  warnings.warn(\"Failed to delete temporary folder: {}\"\n",
      "C:\\Users\\yihim\\anaconda3\\envs\\mldl\\lib\\site-packages\\joblib\\_memmapping_reducer.py:598: UserWarning: Failed to delete temporary folder: C:\\Users\\yihim\\AppData\\Local\\Temp\\joblib_memmapping_folder_51412_4d7a5e81692e44c5a36f8a920cb73eba_ed3d0b8b735345de8a8c2238ce5005f4\n",
      "  warnings.warn(\"Failed to delete temporary folder: {}\"\n",
      "C:\\Users\\yihim\\anaconda3\\envs\\mldl\\lib\\site-packages\\joblib\\_memmapping_reducer.py:598: UserWarning: Failed to delete temporary folder: C:\\Users\\yihim\\AppData\\Local\\Temp\\joblib_memmapping_folder_51412_23558e6cf2d748d2b4dc4b4974bf7726_5326997c38894ab2b9290857f6ca8fac\n",
      "  warnings.warn(\"Failed to delete temporary folder: {}\"\n",
      "C:\\Users\\yihim\\anaconda3\\envs\\mldl\\lib\\site-packages\\joblib\\_memmapping_reducer.py:598: UserWarning: Failed to delete temporary folder: C:\\Users\\yihim\\AppData\\Local\\Temp\\joblib_memmapping_folder_51412_4d7a5e81692e44c5a36f8a920cb73eba_efcce12003af4da88918dd3ddb2af631\n",
      "  warnings.warn(\"Failed to delete temporary folder: {}\"\n",
      "C:\\Users\\yihim\\anaconda3\\envs\\mldl\\lib\\site-packages\\joblib\\_memmapping_reducer.py:598: UserWarning: Failed to delete temporary folder: C:\\Users\\yihim\\AppData\\Local\\Temp\\joblib_memmapping_folder_51412_1aae9fa187464ca3b960de8e1948d6ad_335830cb14c14491801feabcf40e6ab7\n",
      "  warnings.warn(\"Failed to delete temporary folder: {}\"\n",
      "C:\\Users\\yihim\\anaconda3\\envs\\mldl\\lib\\site-packages\\joblib\\_memmapping_reducer.py:598: UserWarning: Failed to delete temporary folder: C:\\Users\\yihim\\AppData\\Local\\Temp\\joblib_memmapping_folder_51412_4d7a5e81692e44c5a36f8a920cb73eba_f35e1d225c8348b88b697b4dabe9f601\n",
      "  warnings.warn(\"Failed to delete temporary folder: {}\"\n",
      "C:\\Users\\yihim\\anaconda3\\envs\\mldl\\lib\\site-packages\\joblib\\_memmapping_reducer.py:598: UserWarning: Failed to delete temporary folder: C:\\Users\\yihim\\AppData\\Local\\Temp\\joblib_memmapping_folder_51412_48d0c85572d748abb4fc4d9d820a0ce4_a10fbf247ce94063a770f1c23a559eb0\n",
      "  warnings.warn(\"Failed to delete temporary folder: {}\"\n",
      "C:\\Users\\yihim\\anaconda3\\envs\\mldl\\lib\\site-packages\\joblib\\_memmapping_reducer.py:598: UserWarning: Failed to delete temporary folder: C:\\Users\\yihim\\AppData\\Local\\Temp\\joblib_memmapping_folder_51412_4d7a5e81692e44c5a36f8a920cb73eba_e5960501b3c84f6090c4e26c0981f849\n",
      "  warnings.warn(\"Failed to delete temporary folder: {}\"\n",
      "C:\\Users\\yihim\\anaconda3\\envs\\mldl\\lib\\site-packages\\joblib\\_memmapping_reducer.py:598: UserWarning: Failed to delete temporary folder: C:\\Users\\yihim\\AppData\\Local\\Temp\\joblib_memmapping_folder_51412_f8ae942c3296438fb45465c3bd4f4db3_d526526b31984d988cccd492609a8bc1\n",
      "  warnings.warn(\"Failed to delete temporary folder: {}\"\n",
      "C:\\Users\\yihim\\anaconda3\\envs\\mldl\\lib\\site-packages\\joblib\\_memmapping_reducer.py:598: UserWarning: Failed to delete temporary folder: C:\\Users\\yihim\\AppData\\Local\\Temp\\joblib_memmapping_folder_51412_4d7a5e81692e44c5a36f8a920cb73eba_60635615a49548469dcb0462ad6e7f1c\n",
      "  warnings.warn(\"Failed to delete temporary folder: {}\"\n"
     ]
    }
   ],
   "source": [
    "# Callbacks\n",
    "import datetime\n",
    "import os\n",
    "\n",
    "CHECKPOINT_PATH = \"model_experiments_fashion_mnist\"\n",
    "LOGS_PATH = \"model_logs_fashion_mnist\"\n",
    "\n",
    "early_stopping = tf.keras.callbacks.EarlyStopping(monitor=\"val_loss\", patience=3, restore_best_weights=True, verbose=1)\n",
    "\n",
    "reduce_lr = tf.keras.callbacks.ReduceLROnPlateau(monitor=\"val_loss\", patience=2, factor=0.1, verbose=1, min_lr=1e-6)\n",
    "\n",
    "lr_scheduler = tf.keras.callbacks.LearningRateScheduler(lambda epoch: 1e-3 * 10 ** (epoch/10), verbose=1)\n",
    "\n",
    "def tensorboard(model_name):\n",
    "    return tf.keras.callbacks.TensorBoard(os.path.join(LOGS_PATH, model_name, datetime.datetime.now().strftime(\"%Y%m%d-%H%M%S\")))\n",
    "\n",
    "def checkpoint(model_name):\n",
    "    return tf.keras.callbacks.ModelCheckpoint(filepath=os.path.join(CHECKPOINT_PATH, model_name), monitor=\"val_loss\", save_best_only=True, verbose=1)"
   ]
  },
  {
   "cell_type": "code",
   "execution_count": 19,
   "id": "702e6462-3f27-465e-99ff-da5d7c249a31",
   "metadata": {},
   "outputs": [],
   "source": [
    "# Classification\n",
    "model_1 = tf.keras.Sequential([\n",
    "    layers.Input(shape=(28, 28, 1)),\n",
    "    layers.Flatten(),\n",
    "    layers.Dense(128, activation=\"relu\"),\n",
    "    layers.Dense(128, activation=\"relu\"),\n",
    "    layers.Dense(len(class_names), activation=\"softmax\")\n",
    "], name=\"model_1_clf\")\n",
    "\n",
    "model_1.compile(loss=\"sparse_categorical_crossentropy\",\n",
    "                optimizer=tf.keras.optimizers.Adam(),\n",
    "                metrics=[\"accuracy\"])"
   ]
  },
  {
   "cell_type": "code",
   "execution_count": 20,
   "id": "605f2491-cf98-48f4-88ce-a9974dbf96ec",
   "metadata": {},
   "outputs": [],
   "source": [
    "def preprocess_data(image, label):\n",
    "    image = tf.cast(image, dtype=tf.float32)\n",
    "    image = image/255.\n",
    "    return image, label"
   ]
  },
  {
   "cell_type": "code",
   "execution_count": 21,
   "id": "55a9573c-1ae7-4fec-bf80-6a58e536a17f",
   "metadata": {},
   "outputs": [],
   "source": [
    "train_data = train_data.map(map_func=preprocess_data).batch(64).prefetch(tf.data.AUTOTUNE)\n",
    "val_data = val_data.map(map_func=preprocess_data).batch(64).prefetch(tf.data.AUTOTUNE)\n",
    "test_data = testing_data.map(map_func=preprocess_data).batch(64).prefetch(tf.data.AUTOTUNE)"
   ]
  },
  {
   "cell_type": "code",
   "execution_count": 22,
   "id": "546f3171-eb33-4d6b-80c5-c209be811b77",
   "metadata": {},
   "outputs": [
    {
     "name": "stdout",
     "output_type": "stream",
     "text": [
      "Epoch 1/20\n",
      "748/750 [============================>.] - ETA: 0s - loss: 0.5194 - accuracy: 0.8156\n",
      "Epoch 1: val_loss improved from inf to 0.40156, saving model to model_experiments\\model_1_clf\n",
      "INFO:tensorflow:Assets written to: model_experiments\\model_1_clf\\assets\n"
     ]
    },
    {
     "name": "stderr",
     "output_type": "stream",
     "text": [
      "INFO:tensorflow:Assets written to: model_experiments\\model_1_clf\\assets\n"
     ]
    },
    {
     "name": "stdout",
     "output_type": "stream",
     "text": [
      "750/750 [==============================] - 6s 8ms/step - loss: 0.5192 - accuracy: 0.8157 - val_loss: 0.4016 - val_accuracy: 0.8531 - lr: 0.0010\n",
      "Epoch 2/20\n",
      "744/750 [============================>.] - ETA: 0s - loss: 0.3797 - accuracy: 0.8623\n",
      "Epoch 2: val_loss improved from 0.40156 to 0.35748, saving model to model_experiments\\model_1_clf\n",
      "INFO:tensorflow:Assets written to: model_experiments\\model_1_clf\\assets\n"
     ]
    },
    {
     "name": "stderr",
     "output_type": "stream",
     "text": [
      "INFO:tensorflow:Assets written to: model_experiments\\model_1_clf\\assets\n"
     ]
    },
    {
     "name": "stdout",
     "output_type": "stream",
     "text": [
      "750/750 [==============================] - 4s 5ms/step - loss: 0.3795 - accuracy: 0.8623 - val_loss: 0.3575 - val_accuracy: 0.8695 - lr: 0.0010\n",
      "Epoch 3/20\n",
      "739/750 [============================>.] - ETA: 0s - loss: 0.3393 - accuracy: 0.8764\n",
      "Epoch 3: val_loss improved from 0.35748 to 0.33075, saving model to model_experiments\\model_1_clf\n",
      "INFO:tensorflow:Assets written to: model_experiments\\model_1_clf\\assets\n"
     ]
    },
    {
     "name": "stderr",
     "output_type": "stream",
     "text": [
      "INFO:tensorflow:Assets written to: model_experiments\\model_1_clf\\assets\n"
     ]
    },
    {
     "name": "stdout",
     "output_type": "stream",
     "text": [
      "750/750 [==============================] - 5s 6ms/step - loss: 0.3392 - accuracy: 0.8764 - val_loss: 0.3308 - val_accuracy: 0.8776 - lr: 0.0010\n",
      "Epoch 4/20\n",
      "749/750 [============================>.] - ETA: 0s - loss: 0.3142 - accuracy: 0.8849\n",
      "Epoch 4: val_loss improved from 0.33075 to 0.32483, saving model to model_experiments\\model_1_clf\n",
      "INFO:tensorflow:Assets written to: model_experiments\\model_1_clf\\assets\n"
     ]
    },
    {
     "name": "stderr",
     "output_type": "stream",
     "text": [
      "INFO:tensorflow:Assets written to: model_experiments\\model_1_clf\\assets\n"
     ]
    },
    {
     "name": "stdout",
     "output_type": "stream",
     "text": [
      "750/750 [==============================] - 5s 6ms/step - loss: 0.3143 - accuracy: 0.8849 - val_loss: 0.3248 - val_accuracy: 0.8788 - lr: 0.0010\n",
      "Epoch 5/20\n",
      "743/750 [============================>.] - ETA: 0s - loss: 0.2931 - accuracy: 0.8932\n",
      "Epoch 5: val_loss improved from 0.32483 to 0.31724, saving model to model_experiments\\model_1_clf\n",
      "INFO:tensorflow:Assets written to: model_experiments\\model_1_clf\\assets\n"
     ]
    },
    {
     "name": "stderr",
     "output_type": "stream",
     "text": [
      "INFO:tensorflow:Assets written to: model_experiments\\model_1_clf\\assets\n"
     ]
    },
    {
     "name": "stdout",
     "output_type": "stream",
     "text": [
      "750/750 [==============================] - 5s 7ms/step - loss: 0.2932 - accuracy: 0.8931 - val_loss: 0.3172 - val_accuracy: 0.8831 - lr: 0.0010\n",
      "Epoch 6/20\n",
      "741/750 [============================>.] - ETA: 0s - loss: 0.2754 - accuracy: 0.8990\n",
      "Epoch 6: val_loss improved from 0.31724 to 0.31353, saving model to model_experiments\\model_1_clf\n",
      "INFO:tensorflow:Assets written to: model_experiments\\model_1_clf\\assets\n"
     ]
    },
    {
     "name": "stderr",
     "output_type": "stream",
     "text": [
      "INFO:tensorflow:Assets written to: model_experiments\\model_1_clf\\assets\n"
     ]
    },
    {
     "name": "stdout",
     "output_type": "stream",
     "text": [
      "750/750 [==============================] - 4s 5ms/step - loss: 0.2756 - accuracy: 0.8989 - val_loss: 0.3135 - val_accuracy: 0.8865 - lr: 0.0010\n",
      "Epoch 7/20\n",
      "738/750 [============================>.] - ETA: 0s - loss: 0.2645 - accuracy: 0.9022\n",
      "Epoch 7: val_loss improved from 0.31353 to 0.30930, saving model to model_experiments\\model_1_clf\n",
      "INFO:tensorflow:Assets written to: model_experiments\\model_1_clf\\assets\n"
     ]
    },
    {
     "name": "stderr",
     "output_type": "stream",
     "text": [
      "INFO:tensorflow:Assets written to: model_experiments\\model_1_clf\\assets\n"
     ]
    },
    {
     "name": "stdout",
     "output_type": "stream",
     "text": [
      "750/750 [==============================] - 4s 5ms/step - loss: 0.2642 - accuracy: 0.9022 - val_loss: 0.3093 - val_accuracy: 0.8892 - lr: 0.0010\n",
      "Epoch 8/20\n",
      "740/750 [============================>.] - ETA: 0s - loss: 0.2509 - accuracy: 0.9063\n",
      "Epoch 8: val_loss improved from 0.30930 to 0.30094, saving model to model_experiments\\model_1_clf\n",
      "INFO:tensorflow:Assets written to: model_experiments\\model_1_clf\\assets\n"
     ]
    },
    {
     "name": "stderr",
     "output_type": "stream",
     "text": [
      "INFO:tensorflow:Assets written to: model_experiments\\model_1_clf\\assets\n"
     ]
    },
    {
     "name": "stdout",
     "output_type": "stream",
     "text": [
      "750/750 [==============================] - 4s 6ms/step - loss: 0.2511 - accuracy: 0.9060 - val_loss: 0.3009 - val_accuracy: 0.8939 - lr: 0.0010\n",
      "Epoch 9/20\n",
      "743/750 [============================>.] - ETA: 0s - loss: 0.2390 - accuracy: 0.9117\n",
      "Epoch 9: val_loss did not improve from 0.30094\n",
      "750/750 [==============================] - 4s 5ms/step - loss: 0.2393 - accuracy: 0.9114 - val_loss: 0.3106 - val_accuracy: 0.8925 - lr: 0.0010\n",
      "Epoch 10/20\n",
      "744/750 [============================>.] - ETA: 0s - loss: 0.2303 - accuracy: 0.9142\n",
      "Epoch 10: val_loss did not improve from 0.30094\n",
      "\n",
      "Epoch 10: ReduceLROnPlateau reducing learning rate to 0.00010000000474974513.\n",
      "750/750 [==============================] - 4s 6ms/step - loss: 0.2305 - accuracy: 0.9141 - val_loss: 0.3113 - val_accuracy: 0.8921 - lr: 0.0010\n",
      "Epoch 11/20\n",
      "745/750 [============================>.] - ETA: 0s - loss: 0.2003 - accuracy: 0.9254\n",
      "Epoch 11: val_loss improved from 0.30094 to 0.27754, saving model to model_experiments\\model_1_clf\n",
      "INFO:tensorflow:Assets written to: model_experiments\\model_1_clf\\assets\n"
     ]
    },
    {
     "name": "stderr",
     "output_type": "stream",
     "text": [
      "INFO:tensorflow:Assets written to: model_experiments\\model_1_clf\\assets\n"
     ]
    },
    {
     "name": "stdout",
     "output_type": "stream",
     "text": [
      "750/750 [==============================] - 5s 6ms/step - loss: 0.2001 - accuracy: 0.9255 - val_loss: 0.2775 - val_accuracy: 0.9013 - lr: 1.0000e-04\n",
      "Epoch 12/20\n",
      "747/750 [============================>.] - ETA: 0s - loss: 0.1901 - accuracy: 0.9292\n",
      "Epoch 12: val_loss improved from 0.27754 to 0.27743, saving model to model_experiments\\model_1_clf\n",
      "INFO:tensorflow:Assets written to: model_experiments\\model_1_clf\\assets\n"
     ]
    },
    {
     "name": "stderr",
     "output_type": "stream",
     "text": [
      "INFO:tensorflow:Assets written to: model_experiments\\model_1_clf\\assets\n"
     ]
    },
    {
     "name": "stdout",
     "output_type": "stream",
     "text": [
      "750/750 [==============================] - 5s 6ms/step - loss: 0.1900 - accuracy: 0.9292 - val_loss: 0.2774 - val_accuracy: 0.9018 - lr: 1.0000e-04\n",
      "Epoch 13/20\n",
      "738/750 [============================>.] - ETA: 0s - loss: 0.1862 - accuracy: 0.9310\n",
      "Epoch 13: val_loss improved from 0.27743 to 0.27732, saving model to model_experiments\\model_1_clf\n",
      "INFO:tensorflow:Assets written to: model_experiments\\model_1_clf\\assets\n"
     ]
    },
    {
     "name": "stderr",
     "output_type": "stream",
     "text": [
      "INFO:tensorflow:Assets written to: model_experiments\\model_1_clf\\assets\n"
     ]
    },
    {
     "name": "stdout",
     "output_type": "stream",
     "text": [
      "750/750 [==============================] - 4s 6ms/step - loss: 0.1859 - accuracy: 0.9312 - val_loss: 0.2773 - val_accuracy: 0.9016 - lr: 1.0000e-04\n",
      "Epoch 14/20\n",
      "748/750 [============================>.] - ETA: 0s - loss: 0.1822 - accuracy: 0.9323\n",
      "Epoch 14: val_loss did not improve from 0.27732\n",
      "750/750 [==============================] - 4s 5ms/step - loss: 0.1823 - accuracy: 0.9324 - val_loss: 0.2780 - val_accuracy: 0.9021 - lr: 1.0000e-04\n",
      "Epoch 15/20\n",
      "739/750 [============================>.] - ETA: 0s - loss: 0.1792 - accuracy: 0.9335\n",
      "Epoch 15: val_loss did not improve from 0.27732\n",
      "\n",
      "Epoch 15: ReduceLROnPlateau reducing learning rate to 1.0000000474974514e-05.\n",
      "750/750 [==============================] - 4s 5ms/step - loss: 0.1790 - accuracy: 0.9336 - val_loss: 0.2786 - val_accuracy: 0.9022 - lr: 1.0000e-04\n",
      "Epoch 16/20\n",
      "746/750 [============================>.] - ETA: 0s - loss: 0.1747 - accuracy: 0.9357\n",
      "Epoch 16: val_loss improved from 0.27732 to 0.27159, saving model to model_experiments\\model_1_clf\n",
      "INFO:tensorflow:Assets written to: model_experiments\\model_1_clf\\assets\n"
     ]
    },
    {
     "name": "stderr",
     "output_type": "stream",
     "text": [
      "INFO:tensorflow:Assets written to: model_experiments\\model_1_clf\\assets\n"
     ]
    },
    {
     "name": "stdout",
     "output_type": "stream",
     "text": [
      "750/750 [==============================] - 5s 6ms/step - loss: 0.1747 - accuracy: 0.9356 - val_loss: 0.2716 - val_accuracy: 0.9033 - lr: 1.0000e-05\n",
      "Epoch 17/20\n",
      "747/750 [============================>.] - ETA: 0s - loss: 0.1728 - accuracy: 0.9365\n",
      "Epoch 17: val_loss improved from 0.27159 to 0.27138, saving model to model_experiments\\model_1_clf\n",
      "INFO:tensorflow:Assets written to: model_experiments\\model_1_clf\\assets\n"
     ]
    },
    {
     "name": "stderr",
     "output_type": "stream",
     "text": [
      "INFO:tensorflow:Assets written to: model_experiments\\model_1_clf\\assets\n"
     ]
    },
    {
     "name": "stdout",
     "output_type": "stream",
     "text": [
      "750/750 [==============================] - 4s 6ms/step - loss: 0.1728 - accuracy: 0.9364 - val_loss: 0.2714 - val_accuracy: 0.9028 - lr: 1.0000e-05\n",
      "Epoch 18/20\n",
      "740/750 [============================>.] - ETA: 0s - loss: 0.1721 - accuracy: 0.9367\n",
      "Epoch 18: val_loss improved from 0.27138 to 0.27128, saving model to model_experiments\\model_1_clf\n",
      "INFO:tensorflow:Assets written to: model_experiments\\model_1_clf\\assets\n"
     ]
    },
    {
     "name": "stderr",
     "output_type": "stream",
     "text": [
      "INFO:tensorflow:Assets written to: model_experiments\\model_1_clf\\assets\n"
     ]
    },
    {
     "name": "stdout",
     "output_type": "stream",
     "text": [
      "750/750 [==============================] - 4s 6ms/step - loss: 0.1722 - accuracy: 0.9366 - val_loss: 0.2713 - val_accuracy: 0.9028 - lr: 1.0000e-05\n",
      "Epoch 19/20\n",
      "749/750 [============================>.] - ETA: 0s - loss: 0.1716 - accuracy: 0.9369\n",
      "Epoch 19: val_loss did not improve from 0.27128\n",
      "750/750 [==============================] - 4s 5ms/step - loss: 0.1717 - accuracy: 0.9369 - val_loss: 0.2713 - val_accuracy: 0.9027 - lr: 1.0000e-05\n",
      "Epoch 20/20\n",
      "748/750 [============================>.] - ETA: 0s - loss: 0.1711 - accuracy: 0.9372\n",
      "Epoch 20: val_loss did not improve from 0.27128\n",
      "\n",
      "Epoch 20: ReduceLROnPlateau reducing learning rate to 1.0000000656873453e-06.\n",
      "750/750 [==============================] - 4s 5ms/step - loss: 0.1712 - accuracy: 0.9371 - val_loss: 0.2713 - val_accuracy: 0.9028 - lr: 1.0000e-05\n"
     ]
    }
   ],
   "source": [
    "model_1_history = model_1.fit(train_data,\n",
    "                              validation_data=val_data,\n",
    "                              epochs=20,\n",
    "                              steps_per_epoch=len(train_data),\n",
    "                              validation_steps=len(val_data),\n",
    "                              callbacks=[tensorboard(model_1.name),\n",
    "                                         checkpoint(model_1.name),\n",
    "                                         early_stopping,\n",
    "                                         reduce_lr])"
   ]
  },
  {
   "cell_type": "code",
   "execution_count": 23,
   "id": "9b9a1f1f-22e0-4dfc-ae81-307ef331e4a6",
   "metadata": {},
   "outputs": [],
   "source": [
    "%load_ext tensorboard"
   ]
  },
  {
   "cell_type": "code",
   "execution_count": 24,
   "id": "03e3f04f-cf0f-43c5-afcf-db17d0be3abf",
   "metadata": {},
   "outputs": [
    {
     "data": {
      "text/plain": [
       "Reusing TensorBoard on port 8087 (pid 36264), started 1:25:56 ago. (Use '!kill 36264' to kill it.)"
      ]
     },
     "metadata": {},
     "output_type": "display_data"
    },
    {
     "data": {
      "text/html": [
       "\n",
       "      <iframe id=\"tensorboard-frame-a60e81f71986b758\" width=\"100%\" height=\"800\" frameborder=\"0\">\n",
       "      </iframe>\n",
       "      <script>\n",
       "        (function() {\n",
       "          const frame = document.getElementById(\"tensorboard-frame-a60e81f71986b758\");\n",
       "          const url = new URL(\"/\", window.location);\n",
       "          const port = 8087;\n",
       "          if (port) {\n",
       "            url.port = port;\n",
       "          }\n",
       "          frame.src = url;\n",
       "        })();\n",
       "      </script>\n",
       "    "
      ],
      "text/plain": [
       "<IPython.core.display.HTML object>"
      ]
     },
     "metadata": {},
     "output_type": "display_data"
    }
   ],
   "source": [
    "%tensorboard --logdir model_logs --port 8087"
   ]
  },
  {
   "cell_type": "code",
   "execution_count": 25,
   "id": "9de83d74-403b-4b10-b8ba-504f7510ffea",
   "metadata": {},
   "outputs": [],
   "source": [
    "model_1_loaded = tf.keras.models.load_model(\"model_experiments/\" + model_1.name)"
   ]
  },
  {
   "cell_type": "code",
   "execution_count": 26,
   "id": "a74c63f2-5fc5-45ff-aed8-64ab04fa121a",
   "metadata": {},
   "outputs": [
    {
     "name": "stdout",
     "output_type": "stream",
     "text": [
      "750/750 [==============================] - 2s 3ms/step - loss: 0.1701 - accuracy: 0.9371\n",
      "188/188 [==============================] - 1s 3ms/step - loss: 0.2713 - accuracy: 0.9028\n",
      "157/157 [==============================] - 1s 4ms/step - loss: 0.3235 - accuracy: 0.8906\n"
     ]
    },
    {
     "data": {
      "text/plain": [
       "([0.17012448608875275, 0.9370625019073486],\n",
       " [0.27134352922439575, 0.9027500152587891],\n",
       " [0.32352811098098755, 0.8906000256538391])"
      ]
     },
     "execution_count": 26,
     "metadata": {},
     "output_type": "execute_result"
    }
   ],
   "source": [
    "model_1.evaluate(train_data), model_1.evaluate(val_data), model_1.evaluate(test_data)"
   ]
  },
  {
   "cell_type": "code",
   "execution_count": 27,
   "id": "13c8710d-aa49-4dc5-bd80-b035ed08cc8f",
   "metadata": {},
   "outputs": [
    {
     "name": "stdout",
     "output_type": "stream",
     "text": [
      "750/750 [==============================] - 3s 3ms/step - loss: 0.1710 - accuracy: 0.9367\n",
      "188/188 [==============================] - 1s 4ms/step - loss: 0.2713 - accuracy: 0.9028\n",
      "157/157 [==============================] - 1s 4ms/step - loss: 0.3235 - accuracy: 0.8901\n"
     ]
    },
    {
     "data": {
      "text/plain": [
       "([0.17098397016525269, 0.9367291927337646],\n",
       " [0.271278977394104, 0.9028333425521851],\n",
       " [0.3234505355358124, 0.8901000022888184])"
      ]
     },
     "execution_count": 27,
     "metadata": {},
     "output_type": "execute_result"
    }
   ],
   "source": [
    "model_1_loaded.evaluate(train_data), model_1_loaded.evaluate(val_data), model_1_loaded.evaluate(test_data)"
   ]
  },
  {
   "cell_type": "code",
   "execution_count": 28,
   "id": "64f60ccf-2e5f-4e45-8268-b4fa5d941041",
   "metadata": {},
   "outputs": [],
   "source": [
    "inputs = layers.Input(shape=(28, 28, 1))\n",
    "x = layers.Conv2D(10, 3, activation=\"relu\")(inputs)\n",
    "x = layers.Conv2D(10, 3, activation=\"relu\")(x)\n",
    "x = layers.MaxPooling2D(2)(x)\n",
    "x = layers.Conv2D(10, 3, activation=\"relu\")(x)\n",
    "x = layers.Conv2D(10, 3, activation=\"relu\")(x)\n",
    "x = layers.MaxPooling2D(2)(x)\n",
    "x = layers.Flatten()(x)\n",
    "outputs = layers.Dense(len(class_names), activation=\"softmax\")(x)\n",
    "\n",
    "model_2 = tf.keras.Model(inputs, outputs, name=\"model_2_cnn\")\n",
    "\n",
    "model_2.compile(loss=tf.keras.losses.SparseCategoricalCrossentropy(),\n",
    "                optimizer=tf.keras.optimizers.Adam(),\n",
    "                metrics=[\"accuracy\"])"
   ]
  },
  {
   "cell_type": "code",
   "execution_count": 29,
   "id": "5a56ec59-2d32-489f-8a9f-0c3d280d635d",
   "metadata": {},
   "outputs": [
    {
     "name": "stdout",
     "output_type": "stream",
     "text": [
      "Epoch 1/20\n",
      "743/750 [============================>.] - ETA: 0s - loss: 0.7738 - accuracy: 0.7128\n",
      "Epoch 1: val_loss improved from inf to 0.52752, saving model to model_experiments\\model_2_cnn\n",
      "INFO:tensorflow:Assets written to: model_experiments\\model_2_cnn\\assets\n"
     ]
    },
    {
     "name": "stderr",
     "output_type": "stream",
     "text": [
      "INFO:tensorflow:Assets written to: model_experiments\\model_2_cnn\\assets\n"
     ]
    },
    {
     "name": "stdout",
     "output_type": "stream",
     "text": [
      "750/750 [==============================] - 8s 9ms/step - loss: 0.7722 - accuracy: 0.7134 - val_loss: 0.5275 - val_accuracy: 0.8013 - lr: 0.0010\n",
      "Epoch 2/20\n",
      "745/750 [============================>.] - ETA: 0s - loss: 0.4980 - accuracy: 0.8136\n",
      "Epoch 2: val_loss improved from 0.52752 to 0.48099, saving model to model_experiments\\model_2_cnn\n",
      "INFO:tensorflow:Assets written to: model_experiments\\model_2_cnn\\assets\n"
     ]
    },
    {
     "name": "stderr",
     "output_type": "stream",
     "text": [
      "INFO:tensorflow:Assets written to: model_experiments\\model_2_cnn\\assets\n"
     ]
    },
    {
     "name": "stdout",
     "output_type": "stream",
     "text": [
      "750/750 [==============================] - 6s 8ms/step - loss: 0.4984 - accuracy: 0.8134 - val_loss: 0.4810 - val_accuracy: 0.8210 - lr: 0.0010\n",
      "Epoch 3/20\n",
      "749/750 [============================>.] - ETA: 0s - loss: 0.4474 - accuracy: 0.8355\n",
      "Epoch 3: val_loss improved from 0.48099 to 0.42282, saving model to model_experiments\\model_2_cnn\n",
      "INFO:tensorflow:Assets written to: model_experiments\\model_2_cnn\\assets\n"
     ]
    },
    {
     "name": "stderr",
     "output_type": "stream",
     "text": [
      "INFO:tensorflow:Assets written to: model_experiments\\model_2_cnn\\assets\n"
     ]
    },
    {
     "name": "stdout",
     "output_type": "stream",
     "text": [
      "750/750 [==============================] - 6s 8ms/step - loss: 0.4476 - accuracy: 0.8355 - val_loss: 0.4228 - val_accuracy: 0.8449 - lr: 0.0010\n",
      "Epoch 4/20\n",
      "747/750 [============================>.] - ETA: 0s - loss: 0.4111 - accuracy: 0.8504\n",
      "Epoch 4: val_loss improved from 0.42282 to 0.39056, saving model to model_experiments\\model_2_cnn\n",
      "INFO:tensorflow:Assets written to: model_experiments\\model_2_cnn\\assets\n"
     ]
    },
    {
     "name": "stderr",
     "output_type": "stream",
     "text": [
      "INFO:tensorflow:Assets written to: model_experiments\\model_2_cnn\\assets\n"
     ]
    },
    {
     "name": "stdout",
     "output_type": "stream",
     "text": [
      "750/750 [==============================] - 8s 10ms/step - loss: 0.4108 - accuracy: 0.8505 - val_loss: 0.3906 - val_accuracy: 0.8556 - lr: 0.0010\n",
      "Epoch 5/20\n",
      "746/750 [============================>.] - ETA: 0s - loss: 0.3825 - accuracy: 0.8612\n",
      "Epoch 5: val_loss improved from 0.39056 to 0.36483, saving model to model_experiments\\model_2_cnn\n",
      "INFO:tensorflow:Assets written to: model_experiments\\model_2_cnn\\assets\n"
     ]
    },
    {
     "name": "stderr",
     "output_type": "stream",
     "text": [
      "INFO:tensorflow:Assets written to: model_experiments\\model_2_cnn\\assets\n"
     ]
    },
    {
     "name": "stdout",
     "output_type": "stream",
     "text": [
      "750/750 [==============================] - 8s 10ms/step - loss: 0.3824 - accuracy: 0.8612 - val_loss: 0.3648 - val_accuracy: 0.8667 - lr: 0.0010\n",
      "Epoch 6/20\n",
      "749/750 [============================>.] - ETA: 0s - loss: 0.3618 - accuracy: 0.8698\n",
      "Epoch 6: val_loss improved from 0.36483 to 0.35189, saving model to model_experiments\\model_2_cnn\n",
      "INFO:tensorflow:Assets written to: model_experiments\\model_2_cnn\\assets\n"
     ]
    },
    {
     "name": "stderr",
     "output_type": "stream",
     "text": [
      "INFO:tensorflow:Assets written to: model_experiments\\model_2_cnn\\assets\n"
     ]
    },
    {
     "name": "stdout",
     "output_type": "stream",
     "text": [
      "750/750 [==============================] - 7s 9ms/step - loss: 0.3619 - accuracy: 0.8698 - val_loss: 0.3519 - val_accuracy: 0.8716 - lr: 0.0010\n",
      "Epoch 7/20\n",
      "747/750 [============================>.] - ETA: 0s - loss: 0.3471 - accuracy: 0.8754\n",
      "Epoch 7: val_loss improved from 0.35189 to 0.34149, saving model to model_experiments\\model_2_cnn\n",
      "INFO:tensorflow:Assets written to: model_experiments\\model_2_cnn\\assets\n"
     ]
    },
    {
     "name": "stderr",
     "output_type": "stream",
     "text": [
      "INFO:tensorflow:Assets written to: model_experiments\\model_2_cnn\\assets\n"
     ]
    },
    {
     "name": "stdout",
     "output_type": "stream",
     "text": [
      "750/750 [==============================] - 6s 8ms/step - loss: 0.3469 - accuracy: 0.8755 - val_loss: 0.3415 - val_accuracy: 0.8763 - lr: 0.0010\n",
      "Epoch 8/20\n",
      "745/750 [============================>.] - ETA: 0s - loss: 0.3347 - accuracy: 0.8794\n",
      "Epoch 8: val_loss improved from 0.34149 to 0.33047, saving model to model_experiments\\model_2_cnn\n",
      "INFO:tensorflow:Assets written to: model_experiments\\model_2_cnn\\assets\n"
     ]
    },
    {
     "name": "stderr",
     "output_type": "stream",
     "text": [
      "INFO:tensorflow:Assets written to: model_experiments\\model_2_cnn\\assets\n"
     ]
    },
    {
     "name": "stdout",
     "output_type": "stream",
     "text": [
      "750/750 [==============================] - 7s 9ms/step - loss: 0.3346 - accuracy: 0.8795 - val_loss: 0.3305 - val_accuracy: 0.8793 - lr: 0.0010\n",
      "Epoch 9/20\n",
      "744/750 [============================>.] - ETA: 0s - loss: 0.3236 - accuracy: 0.8838\n",
      "Epoch 9: val_loss improved from 0.33047 to 0.32358, saving model to model_experiments\\model_2_cnn\n",
      "INFO:tensorflow:Assets written to: model_experiments\\model_2_cnn\\assets\n"
     ]
    },
    {
     "name": "stderr",
     "output_type": "stream",
     "text": [
      "INFO:tensorflow:Assets written to: model_experiments\\model_2_cnn\\assets\n"
     ]
    },
    {
     "name": "stdout",
     "output_type": "stream",
     "text": [
      "750/750 [==============================] - 7s 9ms/step - loss: 0.3235 - accuracy: 0.8839 - val_loss: 0.3236 - val_accuracy: 0.8830 - lr: 0.0010\n",
      "Epoch 10/20\n",
      "746/750 [============================>.] - ETA: 0s - loss: 0.3139 - accuracy: 0.8871\n",
      "Epoch 10: val_loss improved from 0.32358 to 0.31921, saving model to model_experiments\\model_2_cnn\n",
      "INFO:tensorflow:Assets written to: model_experiments\\model_2_cnn\\assets\n"
     ]
    },
    {
     "name": "stderr",
     "output_type": "stream",
     "text": [
      "INFO:tensorflow:Assets written to: model_experiments\\model_2_cnn\\assets\n"
     ]
    },
    {
     "name": "stdout",
     "output_type": "stream",
     "text": [
      "750/750 [==============================] - 8s 11ms/step - loss: 0.3139 - accuracy: 0.8871 - val_loss: 0.3192 - val_accuracy: 0.8850 - lr: 0.0010\n",
      "Epoch 11/20\n",
      "745/750 [============================>.] - ETA: 0s - loss: 0.3066 - accuracy: 0.8898\n",
      "Epoch 11: val_loss improved from 0.31921 to 0.31640, saving model to model_experiments\\model_2_cnn\n",
      "INFO:tensorflow:Assets written to: model_experiments\\model_2_cnn\\assets\n"
     ]
    },
    {
     "name": "stderr",
     "output_type": "stream",
     "text": [
      "INFO:tensorflow:Assets written to: model_experiments\\model_2_cnn\\assets\n"
     ]
    },
    {
     "name": "stdout",
     "output_type": "stream",
     "text": [
      "750/750 [==============================] - 7s 9ms/step - loss: 0.3065 - accuracy: 0.8898 - val_loss: 0.3164 - val_accuracy: 0.8851 - lr: 0.0010\n",
      "Epoch 12/20\n",
      "750/750 [==============================] - ETA: 0s - loss: 0.2993 - accuracy: 0.8918\n",
      "Epoch 12: val_loss improved from 0.31640 to 0.31291, saving model to model_experiments\\model_2_cnn\n",
      "INFO:tensorflow:Assets written to: model_experiments\\model_2_cnn\\assets\n"
     ]
    },
    {
     "name": "stderr",
     "output_type": "stream",
     "text": [
      "INFO:tensorflow:Assets written to: model_experiments\\model_2_cnn\\assets\n"
     ]
    },
    {
     "name": "stdout",
     "output_type": "stream",
     "text": [
      "750/750 [==============================] - 7s 10ms/step - loss: 0.2993 - accuracy: 0.8918 - val_loss: 0.3129 - val_accuracy: 0.8849 - lr: 0.0010\n",
      "Epoch 13/20\n",
      "744/750 [============================>.] - ETA: 0s - loss: 0.2932 - accuracy: 0.8934\n",
      "Epoch 13: val_loss improved from 0.31291 to 0.30738, saving model to model_experiments\\model_2_cnn\n",
      "INFO:tensorflow:Assets written to: model_experiments\\model_2_cnn\\assets\n"
     ]
    },
    {
     "name": "stderr",
     "output_type": "stream",
     "text": [
      "INFO:tensorflow:Assets written to: model_experiments\\model_2_cnn\\assets\n"
     ]
    },
    {
     "name": "stdout",
     "output_type": "stream",
     "text": [
      "750/750 [==============================] - 7s 9ms/step - loss: 0.2932 - accuracy: 0.8934 - val_loss: 0.3074 - val_accuracy: 0.8863 - lr: 0.0010\n",
      "Epoch 14/20\n",
      "749/750 [============================>.] - ETA: 0s - loss: 0.2874 - accuracy: 0.8946\n",
      "Epoch 14: val_loss improved from 0.30738 to 0.30287, saving model to model_experiments\\model_2_cnn\n",
      "INFO:tensorflow:Assets written to: model_experiments\\model_2_cnn\\assets\n"
     ]
    },
    {
     "name": "stderr",
     "output_type": "stream",
     "text": [
      "INFO:tensorflow:Assets written to: model_experiments\\model_2_cnn\\assets\n"
     ]
    },
    {
     "name": "stdout",
     "output_type": "stream",
     "text": [
      "750/750 [==============================] - 8s 10ms/step - loss: 0.2876 - accuracy: 0.8946 - val_loss: 0.3029 - val_accuracy: 0.8888 - lr: 0.0010\n",
      "Epoch 15/20\n",
      "750/750 [==============================] - ETA: 0s - loss: 0.2826 - accuracy: 0.8964\n",
      "Epoch 15: val_loss improved from 0.30287 to 0.30078, saving model to model_experiments\\model_2_cnn\n",
      "INFO:tensorflow:Assets written to: model_experiments\\model_2_cnn\\assets\n"
     ]
    },
    {
     "name": "stderr",
     "output_type": "stream",
     "text": [
      "INFO:tensorflow:Assets written to: model_experiments\\model_2_cnn\\assets\n"
     ]
    },
    {
     "name": "stdout",
     "output_type": "stream",
     "text": [
      "750/750 [==============================] - 8s 11ms/step - loss: 0.2826 - accuracy: 0.8964 - val_loss: 0.3008 - val_accuracy: 0.8903 - lr: 0.0010\n",
      "Epoch 16/20\n",
      "745/750 [============================>.] - ETA: 0s - loss: 0.2780 - accuracy: 0.8980\n",
      "Epoch 16: val_loss improved from 0.30078 to 0.29812, saving model to model_experiments\\model_2_cnn\n",
      "INFO:tensorflow:Assets written to: model_experiments\\model_2_cnn\\assets\n"
     ]
    },
    {
     "name": "stderr",
     "output_type": "stream",
     "text": [
      "INFO:tensorflow:Assets written to: model_experiments\\model_2_cnn\\assets\n"
     ]
    },
    {
     "name": "stdout",
     "output_type": "stream",
     "text": [
      "750/750 [==============================] - 7s 9ms/step - loss: 0.2780 - accuracy: 0.8980 - val_loss: 0.2981 - val_accuracy: 0.8912 - lr: 0.0010\n",
      "Epoch 17/20\n",
      "743/750 [============================>.] - ETA: 0s - loss: 0.2741 - accuracy: 0.9002\n",
      "Epoch 17: val_loss improved from 0.29812 to 0.29608, saving model to model_experiments\\model_2_cnn\n",
      "INFO:tensorflow:Assets written to: model_experiments\\model_2_cnn\\assets\n"
     ]
    },
    {
     "name": "stderr",
     "output_type": "stream",
     "text": [
      "INFO:tensorflow:Assets written to: model_experiments\\model_2_cnn\\assets\n"
     ]
    },
    {
     "name": "stdout",
     "output_type": "stream",
     "text": [
      "750/750 [==============================] - 7s 9ms/step - loss: 0.2741 - accuracy: 0.9002 - val_loss: 0.2961 - val_accuracy: 0.8916 - lr: 0.0010\n",
      "Epoch 18/20\n",
      "743/750 [============================>.] - ETA: 0s - loss: 0.2703 - accuracy: 0.9016\n",
      "Epoch 18: val_loss did not improve from 0.29608\n",
      "750/750 [==============================] - 6s 8ms/step - loss: 0.2703 - accuracy: 0.9016 - val_loss: 0.2963 - val_accuracy: 0.8920 - lr: 0.0010\n",
      "Epoch 19/20\n",
      "745/750 [============================>.] - ETA: 0s - loss: 0.2665 - accuracy: 0.9028\n",
      "Epoch 19: val_loss improved from 0.29608 to 0.29195, saving model to model_experiments\\model_2_cnn\n",
      "INFO:tensorflow:Assets written to: model_experiments\\model_2_cnn\\assets\n"
     ]
    },
    {
     "name": "stderr",
     "output_type": "stream",
     "text": [
      "INFO:tensorflow:Assets written to: model_experiments\\model_2_cnn\\assets\n"
     ]
    },
    {
     "name": "stdout",
     "output_type": "stream",
     "text": [
      "750/750 [==============================] - 8s 10ms/step - loss: 0.2665 - accuracy: 0.9028 - val_loss: 0.2919 - val_accuracy: 0.8933 - lr: 0.0010\n",
      "Epoch 20/20\n",
      "744/750 [============================>.] - ETA: 0s - loss: 0.2631 - accuracy: 0.9038\n",
      "Epoch 20: val_loss improved from 0.29195 to 0.29161, saving model to model_experiments\\model_2_cnn\n",
      "INFO:tensorflow:Assets written to: model_experiments\\model_2_cnn\\assets\n"
     ]
    },
    {
     "name": "stderr",
     "output_type": "stream",
     "text": [
      "INFO:tensorflow:Assets written to: model_experiments\\model_2_cnn\\assets\n"
     ]
    },
    {
     "name": "stdout",
     "output_type": "stream",
     "text": [
      "750/750 [==============================] - 7s 9ms/step - loss: 0.2630 - accuracy: 0.9038 - val_loss: 0.2916 - val_accuracy: 0.8942 - lr: 0.0010\n"
     ]
    }
   ],
   "source": [
    "model_2_history = model_2.fit(train_data,\n",
    "                              validation_data=val_data,\n",
    "                              steps_per_epoch=len(train_data),\n",
    "                              validation_steps=len(val_data),\n",
    "                              epochs=20,\n",
    "                              callbacks=[tensorboard(model_2.name),\n",
    "                                         checkpoint(model_2.name),\n",
    "                                         reduce_lr,\n",
    "                                         early_stopping])"
   ]
  },
  {
   "cell_type": "code",
   "execution_count": 30,
   "id": "c655bfbc-028c-4d54-97f3-cb6a54d96268",
   "metadata": {},
   "outputs": [
    {
     "name": "stdout",
     "output_type": "stream",
     "text": [
      "750/750 [==============================] - 3s 4ms/step - loss: 0.2506 - accuracy: 0.9086\n",
      "188/188 [==============================] - 1s 4ms/step - loss: 0.2916 - accuracy: 0.8942\n",
      "157/157 [==============================] - 1s 5ms/step - loss: 0.3179 - accuracy: 0.8909\n"
     ]
    },
    {
     "data": {
      "text/plain": [
       "([0.2505747675895691, 0.9085833430290222],\n",
       " [0.2916082739830017, 0.8941666483879089],\n",
       " [0.31791818141937256, 0.8909000158309937])"
      ]
     },
     "execution_count": 30,
     "metadata": {},
     "output_type": "execute_result"
    }
   ],
   "source": [
    "model_2.evaluate(train_data), model_2.evaluate(val_data), model_2.evaluate(test_data)"
   ]
  },
  {
   "cell_type": "code",
   "execution_count": 31,
   "id": "1e2d7a22-70e1-40aa-920d-ac43176909dc",
   "metadata": {},
   "outputs": [],
   "source": [
    "model_2_loaded = tf.keras.models.load_model(\"model_experiments/\" + model_2.name)"
   ]
  },
  {
   "cell_type": "code",
   "execution_count": 32,
   "id": "29c8bfc2-41d5-4fc7-b50c-013d84867726",
   "metadata": {},
   "outputs": [
    {
     "name": "stdout",
     "output_type": "stream",
     "text": [
      "750/750 [==============================] - 4s 5ms/step - loss: 0.2506 - accuracy: 0.9086\n"
     ]
    },
    {
     "data": {
      "text/plain": [
       "[0.2505747675895691, 0.9085833430290222]"
      ]
     },
     "execution_count": 32,
     "metadata": {},
     "output_type": "execute_result"
    }
   ],
   "source": [
    "model_2_loaded.evaluate(train_data)"
   ]
  },
  {
   "cell_type": "code",
   "execution_count": 33,
   "id": "dae49b28-e89a-4521-857f-be27a9c83cc7",
   "metadata": {},
   "outputs": [
    {
     "data": {
      "text/plain": [
       "Reusing TensorBoard on port 8087 (pid 36264), started 1:28:35 ago. (Use '!kill 36264' to kill it.)"
      ]
     },
     "metadata": {},
     "output_type": "display_data"
    },
    {
     "data": {
      "text/html": [
       "\n",
       "      <iframe id=\"tensorboard-frame-a8f8bc8dcd434698\" width=\"100%\" height=\"800\" frameborder=\"0\">\n",
       "      </iframe>\n",
       "      <script>\n",
       "        (function() {\n",
       "          const frame = document.getElementById(\"tensorboard-frame-a8f8bc8dcd434698\");\n",
       "          const url = new URL(\"/\", window.location);\n",
       "          const port = 8087;\n",
       "          if (port) {\n",
       "            url.port = port;\n",
       "          }\n",
       "          frame.src = url;\n",
       "        })();\n",
       "      </script>\n",
       "    "
      ],
      "text/plain": [
       "<IPython.core.display.HTML object>"
      ]
     },
     "metadata": {},
     "output_type": "display_data"
    }
   ],
   "source": [
    "%tensorboard --logdir model_logs --port 8087"
   ]
  },
  {
   "cell_type": "code",
   "execution_count": 34,
   "id": "2d5b154a-9168-422b-b97b-6a6f349df593",
   "metadata": {},
   "outputs": [],
   "source": [
    "from skopt import gp_minimize\n",
    "from skopt.plots import plot_convergence, plot_evaluations, plot_objective\n",
    "from skopt.utils import use_named_args\n",
    "from skopt.space import Real, Integer, Categorical"
   ]
  },
  {
   "cell_type": "code",
   "execution_count": 106,
   "id": "7ce8617c-1c77-4ff5-921c-6852f45f5fe0",
   "metadata": {},
   "outputs": [],
   "source": [
    "def create_cnn(num_conv2d_filters,\n",
    "               num_conv2d_kernel,\n",
    "               num_dense_layers,\n",
    "               num_dense_nodes,\n",
    "               activation,\n",
    "               padding,\n",
    "               learning_rate):\n",
    "\n",
    "    print(f\"\\nnum_conv2d_filters: {num_conv2d_filters}\\nnum_conv2d_kernel: {num_conv2d_kernel}\\nnum_dense_layers: {num_dense_layers}\\nnum_dense_nodes: {num_dense_nodes}\\nactivation: {activation}\\npadding: {padding}\\nlearning_rate: {learning_rate:.6f}\\n\")\n",
    "\n",
    "    tf.keras.backend.clear_session()\n",
    "\n",
    "    model = tf.keras.Sequential()\n",
    "    model.add(layers.Input(shape=(28, 28, 1)))\n",
    "    model.add(layers.Conv2D(filters=num_conv2d_filters, kernel_size=(num_conv2d_kernel, num_conv2d_kernel), activation=activation, padding=padding))\n",
    "    model.add(layers.Conv2D(filters=num_conv2d_filters**2, kernel_size=(num_conv2d_kernel, num_conv2d_kernel), activation=activation, padding=padding))\n",
    "    model.add(layers.MaxPooling2D(pool_size=2))\n",
    "    model.add(layers.Conv2D(filters=num_conv2d_filters, kernel_size=(num_conv2d_kernel, num_conv2d_kernel), activation=activation, padding=padding))\n",
    "    model.add(layers.Conv2D(filters=num_conv2d_filters**2, kernel_size=(num_conv2d_kernel, num_conv2d_kernel), activation=activation, padding=padding))\n",
    "    model.add(layers.MaxPooling2D(pool_size=2))\n",
    "    model.add(layers.Flatten())\n",
    "    for layer in range(num_dense_layers):\n",
    "        model.add(layers.Dense(num_dense_nodes, activation=activation))\n",
    "    model.add(layers.Dense(len(class_names), activation=\"softmax\"))\n",
    "\n",
    "    optimizer = tf.keras.optimizers.Adam(learning_rate=learning_rate)\n",
    "    \n",
    "    model.compile(loss=\"sparse_categorical_crossentropy\",\n",
    "                  optimizer=optimizer,\n",
    "                  metrics=[\"accuracy\"])\n",
    "\n",
    "    return model"
   ]
  },
  {
   "cell_type": "code",
   "execution_count": 107,
   "id": "820a2c04-bd4d-49c1-8551-072079180696",
   "metadata": {},
   "outputs": [],
   "source": [
    "dim_num_conv2d_filters = Integer(low=3, high=10, name=\"num_conv2d_filters\")\n",
    "dim_num_conv2d_kernel = Integer(low=2, high=5, name=\"num_conv2d_kernel\")\n",
    "dim_num_dense_layers = Integer(low=2, high=5, name=\"num_dense_layers\")\n",
    "dim_num_dense_nodes = Integer(low=8, high=64, name=\"num_dense_nodes\")\n",
    "dim_activation = Categorical(categories=[\"relu\", \"sigmoid\", \"leaky_relu\"], name=\"activation\")\n",
    "dim_padding = Categorical(categories=[\"valid\", \"same\"], name=\"padding\")\n",
    "dim_learning_rate = Real(low=1e-5, high=1e-2, name=\"learning_rate\")"
   ]
  },
  {
   "cell_type": "code",
   "execution_count": 108,
   "id": "d43ead9c-ce3f-4817-8c76-e7f7d3ceb9cd",
   "metadata": {},
   "outputs": [],
   "source": [
    "param_grid = [dim_num_conv2d_filters,\n",
    "              dim_num_conv2d_kernel, \n",
    "              dim_num_dense_layers,\n",
    "              dim_num_dense_nodes,\n",
    "              dim_activation,\n",
    "              dim_padding,\n",
    "              dim_learning_rate]"
   ]
  },
  {
   "cell_type": "code",
   "execution_count": 109,
   "id": "99a04acc-2bc0-4dfa-bc1c-5da0038c80db",
   "metadata": {},
   "outputs": [],
   "source": [
    "best_model = \"bo_cnn_fashion_mnist.h5\"\n",
    "best_accuracy = 0"
   ]
  },
  {
   "cell_type": "code",
   "execution_count": 112,
   "id": "d95eee22-1e29-48a4-ad2f-87683ce3f303",
   "metadata": {},
   "outputs": [],
   "source": [
    "@use_named_args(param_grid)\n",
    "def objective(**params):\n",
    "\n",
    "    model = create_cnn(**params)\n",
    "\n",
    "    reduce_lr_bo = tf.keras.callbacks.ReduceLROnPlateau(monitor=\"val_accuracy\",\n",
    "                                                        patience=2,\n",
    "                                                        factor=0.1,\n",
    "                                                        min_lr=1e-5)\n",
    "\n",
    "    history = model.fit(train_data,\n",
    "                        validation_data=val_data,\n",
    "                        steps_per_epoch=len(train_data),\n",
    "                        validation_steps=len(val_data),\n",
    "                        epochs=3,\n",
    "                        callbacks=[reduce_lr_bo])\n",
    "\n",
    "    accuracy = history.history[\"val_accuracy\"][-1]\n",
    "\n",
    "    print(f\"\\nAccuracy: {np.abs(accuracy)*100:.2f}%\\n\")\n",
    "    global best_accuracy\n",
    "\n",
    "    if accuracy > best_accuracy:\n",
    "        model.save(best_model)\n",
    "        best_accuracy=accuracy\n",
    "\n",
    "    del model\n",
    "\n",
    "    return -accuracy"
   ]
  },
  {
   "cell_type": "code",
   "execution_count": 113,
   "id": "584f503d-0beb-42cb-b744-0a4337bfcfc6",
   "metadata": {},
   "outputs": [
    {
     "name": "stdout",
     "output_type": "stream",
     "text": [
      "\n",
      "num_conv2d_filters: 3\n",
      "num_conv2d_kernel: 2\n",
      "num_dense_layers: 2\n",
      "num_dense_nodes: 8\n",
      "activation: leaky_relu\n",
      "padding: same\n",
      "learning_rate: 0.010000\n",
      "\n",
      "Epoch 1/3\n",
      "750/750 [==============================] - 6s 8ms/step - loss: 0.5615 - accuracy: 0.7916 - val_loss: 0.4324 - val_accuracy: 0.8417 - lr: 0.0100\n",
      "Epoch 2/3\n",
      "750/750 [==============================] - 6s 7ms/step - loss: 0.3959 - accuracy: 0.8564 - val_loss: 0.3870 - val_accuracy: 0.8586 - lr: 0.0100\n",
      "Epoch 3/3\n",
      "750/750 [==============================] - 6s 8ms/step - loss: 0.3595 - accuracy: 0.8717 - val_loss: 0.3671 - val_accuracy: 0.8649 - lr: 0.0100\n",
      "\n",
      "Accuracy: 86.49%\n",
      "\n"
     ]
    },
    {
     "data": {
      "text/plain": [
       "-0.8649166822433472"
      ]
     },
     "execution_count": 113,
     "metadata": {},
     "output_type": "execute_result"
    }
   ],
   "source": [
    "initial_parameters = [3, 2, 2, 8, \"leaky_relu\", \"same\", 1e-2]\n",
    "objective(x=initial_parameters)"
   ]
  },
  {
   "cell_type": "code",
   "execution_count": 114,
   "id": "3f2745db-da36-4b84-ad10-740ad3f206ef",
   "metadata": {},
   "outputs": [
    {
     "name": "stdout",
     "output_type": "stream",
     "text": [
      "\n",
      "num_conv2d_filters: 3\n",
      "num_conv2d_kernel: 2\n",
      "num_dense_layers: 2\n",
      "num_dense_nodes: 8\n",
      "activation: leaky_relu\n",
      "padding: same\n",
      "learning_rate: 0.010000\n",
      "\n",
      "Epoch 1/3\n",
      "750/750 [==============================] - 7s 9ms/step - loss: 0.5616 - accuracy: 0.7950 - val_loss: 0.4320 - val_accuracy: 0.8417 - lr: 0.0100\n",
      "Epoch 2/3\n",
      "750/750 [==============================] - 7s 9ms/step - loss: 0.3897 - accuracy: 0.8610 - val_loss: 0.3720 - val_accuracy: 0.8626 - lr: 0.0100\n",
      "Epoch 3/3\n",
      "750/750 [==============================] - 6s 9ms/step - loss: 0.3541 - accuracy: 0.8732 - val_loss: 0.3331 - val_accuracy: 0.8776 - lr: 0.0100\n",
      "\n",
      "Accuracy: 87.76%\n",
      "\n",
      "\n",
      "num_conv2d_filters: 9\n",
      "num_conv2d_kernel: 3\n",
      "num_dense_layers: 4\n",
      "num_dense_nodes: 41\n",
      "activation: relu\n",
      "padding: same\n",
      "learning_rate: 0.004598\n",
      "\n",
      "Epoch 1/3\n",
      "750/750 [==============================] - 11s 13ms/step - loss: 0.4963 - accuracy: 0.8167 - val_loss: 0.3471 - val_accuracy: 0.8707 - lr: 0.0046\n",
      "Epoch 2/3\n",
      "750/750 [==============================] - 9s 12ms/step - loss: 0.3212 - accuracy: 0.8850 - val_loss: 0.3106 - val_accuracy: 0.8867 - lr: 0.0046\n",
      "Epoch 3/3\n",
      "750/750 [==============================] - 9s 12ms/step - loss: 0.2858 - accuracy: 0.8974 - val_loss: 0.2913 - val_accuracy: 0.8958 - lr: 0.0046\n",
      "\n",
      "Accuracy: 89.58%\n",
      "\n",
      "\n",
      "num_conv2d_filters: 5\n",
      "num_conv2d_kernel: 2\n",
      "num_dense_layers: 4\n",
      "num_dense_nodes: 11\n",
      "activation: relu\n",
      "padding: valid\n",
      "learning_rate: 0.000018\n",
      "\n",
      "Epoch 1/3\n",
      "750/750 [==============================] - 8s 10ms/step - loss: 2.2763 - accuracy: 0.2092 - val_loss: 2.2125 - val_accuracy: 0.2403 - lr: 1.7780e-05\n",
      "Epoch 2/3\n",
      "750/750 [==============================] - 8s 11ms/step - loss: 2.0337 - accuracy: 0.3036 - val_loss: 1.8539 - val_accuracy: 0.3541 - lr: 1.7780e-05\n",
      "Epoch 3/3\n",
      "750/750 [==============================] - 10s 14ms/step - loss: 1.7284 - accuracy: 0.4264 - val_loss: 1.6257 - val_accuracy: 0.5013 - lr: 1.7780e-05\n",
      "\n",
      "Accuracy: 50.13%\n",
      "\n",
      "\n",
      "num_conv2d_filters: 10\n",
      "num_conv2d_kernel: 4\n",
      "num_dense_layers: 4\n",
      "num_dense_nodes: 8\n",
      "activation: leaky_relu\n",
      "padding: valid\n",
      "learning_rate: 0.004005\n",
      "\n",
      "Epoch 1/3\n",
      "750/750 [==============================] - 9s 11ms/step - loss: 0.7611 - accuracy: 0.7100 - val_loss: 0.4729 - val_accuracy: 0.8227 - lr: 0.0040\n",
      "Epoch 2/3\n",
      "750/750 [==============================] - 8s 11ms/step - loss: 0.4692 - accuracy: 0.8261 - val_loss: 0.4162 - val_accuracy: 0.8440 - lr: 0.0040\n",
      "Epoch 3/3\n",
      "750/750 [==============================] - 8s 11ms/step - loss: 0.3978 - accuracy: 0.8550 - val_loss: 0.3858 - val_accuracy: 0.8655 - lr: 0.0040\n",
      "\n",
      "Accuracy: 86.55%\n",
      "\n",
      "\n",
      "num_conv2d_filters: 3\n",
      "num_conv2d_kernel: 5\n",
      "num_dense_layers: 3\n",
      "num_dense_nodes: 13\n",
      "activation: relu\n",
      "padding: same\n",
      "learning_rate: 0.009832\n",
      "\n",
      "Epoch 1/3\n",
      "750/750 [==============================] - 8s 10ms/step - loss: 0.6791 - accuracy: 0.7535 - val_loss: 0.4847 - val_accuracy: 0.8239 - lr: 0.0098\n",
      "Epoch 2/3\n",
      "750/750 [==============================] - 7s 9ms/step - loss: 0.4546 - accuracy: 0.8364 - val_loss: 0.4444 - val_accuracy: 0.8369 - lr: 0.0098\n",
      "Epoch 3/3\n",
      "750/750 [==============================] - 7s 10ms/step - loss: 0.4301 - accuracy: 0.8441 - val_loss: 0.4424 - val_accuracy: 0.8372 - lr: 0.0098\n",
      "\n",
      "Accuracy: 83.72%\n",
      "\n",
      "\n",
      "num_conv2d_filters: 6\n",
      "num_conv2d_kernel: 5\n",
      "num_dense_layers: 4\n",
      "num_dense_nodes: 33\n",
      "activation: leaky_relu\n",
      "padding: valid\n",
      "learning_rate: 0.005637\n",
      "\n",
      "Epoch 1/3\n",
      "750/750 [==============================] - 8s 9ms/step - loss: 0.6403 - accuracy: 0.7571 - val_loss: 0.4767 - val_accuracy: 0.8261 - lr: 0.0056\n",
      "Epoch 2/3\n",
      "750/750 [==============================] - 7s 10ms/step - loss: 0.4427 - accuracy: 0.8409 - val_loss: 0.4108 - val_accuracy: 0.8486 - lr: 0.0056\n",
      "Epoch 3/3\n",
      "750/750 [==============================] - 7s 9ms/step - loss: 0.3950 - accuracy: 0.8572 - val_loss: 0.3768 - val_accuracy: 0.8617 - lr: 0.0056\n",
      "\n",
      "Accuracy: 86.17%\n",
      "\n",
      "\n",
      "num_conv2d_filters: 6\n",
      "num_conv2d_kernel: 2\n",
      "num_dense_layers: 3\n",
      "num_dense_nodes: 21\n",
      "activation: relu\n",
      "padding: valid\n",
      "learning_rate: 0.008334\n",
      "\n",
      "Epoch 1/3\n",
      "750/750 [==============================] - 8s 9ms/step - loss: 0.6126 - accuracy: 0.7677 - val_loss: 0.4508 - val_accuracy: 0.8282 - lr: 0.0083\n",
      "Epoch 2/3\n",
      "750/750 [==============================] - 6s 9ms/step - loss: 0.4304 - accuracy: 0.8406 - val_loss: 0.4225 - val_accuracy: 0.8445 - lr: 0.0083\n",
      "Epoch 3/3\n",
      "750/750 [==============================] - 6s 8ms/step - loss: 0.3836 - accuracy: 0.8593 - val_loss: 0.3673 - val_accuracy: 0.8648 - lr: 0.0083\n",
      "\n",
      "Accuracy: 86.48%\n",
      "\n",
      "\n",
      "num_conv2d_filters: 4\n",
      "num_conv2d_kernel: 3\n",
      "num_dense_layers: 3\n",
      "num_dense_nodes: 50\n",
      "activation: relu\n",
      "padding: same\n",
      "learning_rate: 0.005681\n",
      "\n",
      "Epoch 1/3\n",
      "750/750 [==============================] - 9s 12ms/step - loss: 0.5071 - accuracy: 0.8123 - val_loss: 0.3644 - val_accuracy: 0.8608 - lr: 0.0057\n",
      "Epoch 2/3\n",
      "750/750 [==============================] - 7s 10ms/step - loss: 0.3402 - accuracy: 0.8751 - val_loss: 0.3146 - val_accuracy: 0.8818 - lr: 0.0057\n",
      "Epoch 3/3\n",
      "750/750 [==============================] - 8s 11ms/step - loss: 0.3056 - accuracy: 0.8884 - val_loss: 0.2945 - val_accuracy: 0.8868 - lr: 0.0057\n",
      "\n",
      "Accuracy: 88.68%\n",
      "\n",
      "\n",
      "num_conv2d_filters: 3\n",
      "num_conv2d_kernel: 5\n",
      "num_dense_layers: 3\n",
      "num_dense_nodes: 30\n",
      "activation: sigmoid\n",
      "padding: valid\n",
      "learning_rate: 0.003272\n",
      "\n",
      "Epoch 1/3\n",
      "750/750 [==============================] - 8s 10ms/step - loss: 2.3088 - accuracy: 0.0983 - val_loss: 2.3042 - val_accuracy: 0.1000 - lr: 0.0033\n",
      "Epoch 2/3\n",
      "750/750 [==============================] - 8s 10ms/step - loss: 2.3066 - accuracy: 0.0992 - val_loss: 2.3036 - val_accuracy: 0.0992 - lr: 0.0033\n",
      "Epoch 3/3\n",
      "750/750 [==============================] - 7s 9ms/step - loss: 2.3050 - accuracy: 0.0991 - val_loss: 2.3033 - val_accuracy: 0.0992 - lr: 0.0033\n",
      "\n",
      "Accuracy: 9.92%\n",
      "\n",
      "\n",
      "num_conv2d_filters: 7\n",
      "num_conv2d_kernel: 4\n",
      "num_dense_layers: 5\n",
      "num_dense_nodes: 55\n",
      "activation: relu\n",
      "padding: valid\n",
      "learning_rate: 0.005872\n",
      "\n",
      "Epoch 1/3\n",
      "750/750 [==============================] - 10s 12ms/step - loss: 0.7808 - accuracy: 0.7031 - val_loss: 0.5977 - val_accuracy: 0.7800 - lr: 0.0059\n",
      "Epoch 2/3\n",
      "750/750 [==============================] - 8s 11ms/step - loss: 0.5458 - accuracy: 0.7952 - val_loss: 0.5192 - val_accuracy: 0.8100 - lr: 0.0059\n",
      "Epoch 3/3\n",
      "750/750 [==============================] - 8s 11ms/step - loss: 0.5002 - accuracy: 0.8159 - val_loss: 0.5200 - val_accuracy: 0.8161 - lr: 0.0059\n",
      "\n",
      "Accuracy: 81.61%\n",
      "\n",
      "\n",
      "num_conv2d_filters: 10\n",
      "num_conv2d_kernel: 4\n",
      "num_dense_layers: 3\n",
      "num_dense_nodes: 25\n",
      "activation: leaky_relu\n",
      "padding: same\n",
      "learning_rate: 0.004240\n",
      "\n",
      "Epoch 1/3\n",
      "750/750 [==============================] - 14s 18ms/step - loss: 0.4650 - accuracy: 0.8340 - val_loss: 0.3247 - val_accuracy: 0.8839 - lr: 0.0042\n",
      "Epoch 2/3\n",
      "750/750 [==============================] - 14s 19ms/step - loss: 0.3117 - accuracy: 0.8875 - val_loss: 0.2906 - val_accuracy: 0.8917 - lr: 0.0042\n",
      "Epoch 3/3\n",
      "750/750 [==============================] - 15s 20ms/step - loss: 0.2858 - accuracy: 0.8952 - val_loss: 0.2847 - val_accuracy: 0.9006 - lr: 0.0042\n",
      "\n",
      "Accuracy: 90.06%\n",
      "\n",
      "\n",
      "num_conv2d_filters: 3\n",
      "num_conv2d_kernel: 5\n",
      "num_dense_layers: 2\n",
      "num_dense_nodes: 64\n",
      "activation: leaky_relu\n",
      "padding: same\n",
      "learning_rate: 0.000010\n",
      "\n",
      "Epoch 1/3\n",
      "750/750 [==============================] - 9s 11ms/step - loss: 2.2503 - accuracy: 0.1877 - val_loss: 2.1073 - val_accuracy: 0.2940 - lr: 1.0000e-05\n",
      "Epoch 2/3\n",
      "750/750 [==============================] - 8s 10ms/step - loss: 1.5933 - accuracy: 0.4731 - val_loss: 1.1294 - val_accuracy: 0.6232 - lr: 1.0000e-05\n",
      "Epoch 3/3\n",
      "750/750 [==============================] - 8s 11ms/step - loss: 1.0006 - accuracy: 0.6441 - val_loss: 0.9157 - val_accuracy: 0.6640 - lr: 1.0000e-05\n",
      "\n",
      "Accuracy: 66.40%\n",
      "\n",
      "\n",
      "num_conv2d_filters: 10\n",
      "num_conv2d_kernel: 2\n",
      "num_dense_layers: 2\n",
      "num_dense_nodes: 8\n",
      "activation: relu\n",
      "padding: same\n",
      "learning_rate: 0.006964\n",
      "\n",
      "Epoch 1/3\n",
      "750/750 [==============================] - 13s 16ms/step - loss: 0.6742 - accuracy: 0.7361 - val_loss: 0.4414 - val_accuracy: 0.8348 - lr: 0.0070\n",
      "Epoch 2/3\n",
      "750/750 [==============================] - 10s 14ms/step - loss: 0.4370 - accuracy: 0.8407 - val_loss: 0.4054 - val_accuracy: 0.8503 - lr: 0.0070\n",
      "Epoch 3/3\n",
      "750/750 [==============================] - 11s 14ms/step - loss: 0.3898 - accuracy: 0.8583 - val_loss: 0.3823 - val_accuracy: 0.8618 - lr: 0.0070\n",
      "\n",
      "Accuracy: 86.18%\n",
      "\n",
      "\n",
      "num_conv2d_filters: 10\n",
      "num_conv2d_kernel: 2\n",
      "num_dense_layers: 5\n",
      "num_dense_nodes: 8\n",
      "activation: relu\n",
      "padding: same\n",
      "learning_rate: 0.005527\n",
      "\n",
      "Epoch 1/3\n",
      "750/750 [==============================] - 12s 15ms/step - loss: 0.8083 - accuracy: 0.6862 - val_loss: 0.5325 - val_accuracy: 0.7949 - lr: 0.0055\n",
      "Epoch 2/3\n",
      "750/750 [==============================] - 11s 15ms/step - loss: 0.5163 - accuracy: 0.8045 - val_loss: 0.4526 - val_accuracy: 0.8284 - lr: 0.0055\n",
      "Epoch 3/3\n",
      "750/750 [==============================] - 11s 15ms/step - loss: 0.4654 - accuracy: 0.8253 - val_loss: 0.4659 - val_accuracy: 0.8149 - lr: 0.0055\n",
      "\n",
      "Accuracy: 81.49%\n",
      "\n",
      "\n",
      "num_conv2d_filters: 10\n",
      "num_conv2d_kernel: 2\n",
      "num_dense_layers: 2\n",
      "num_dense_nodes: 64\n",
      "activation: relu\n",
      "padding: same\n",
      "learning_rate: 0.006708\n",
      "\n",
      "Epoch 1/3\n",
      "750/750 [==============================] - 11s 14ms/step - loss: 0.4637 - accuracy: 0.8282 - val_loss: 0.3396 - val_accuracy: 0.8708 - lr: 0.0067\n",
      "Epoch 2/3\n",
      "750/750 [==============================] - 11s 14ms/step - loss: 0.3192 - accuracy: 0.8814 - val_loss: 0.3168 - val_accuracy: 0.8826 - lr: 0.0067\n",
      "Epoch 3/3\n",
      "750/750 [==============================] - 11s 14ms/step - loss: 0.2873 - accuracy: 0.8937 - val_loss: 0.3023 - val_accuracy: 0.8852 - lr: 0.0067\n",
      "\n",
      "Accuracy: 88.52%\n",
      "\n",
      "\n",
      "num_conv2d_filters: 3\n",
      "num_conv2d_kernel: 2\n",
      "num_dense_layers: 2\n",
      "num_dense_nodes: 64\n",
      "activation: relu\n",
      "padding: same\n",
      "learning_rate: 0.004407\n",
      "\n",
      "Epoch 1/3\n",
      "750/750 [==============================] - 9s 11ms/step - loss: 0.5230 - accuracy: 0.8072 - val_loss: 0.3954 - val_accuracy: 0.8522 - lr: 0.0044\n",
      "Epoch 2/3\n",
      "750/750 [==============================] - 8s 11ms/step - loss: 0.3447 - accuracy: 0.8737 - val_loss: 0.3438 - val_accuracy: 0.8699 - lr: 0.0044\n",
      "Epoch 3/3\n",
      "750/750 [==============================] - 9s 11ms/step - loss: 0.3055 - accuracy: 0.8877 - val_loss: 0.3095 - val_accuracy: 0.8849 - lr: 0.0044\n",
      "\n",
      "Accuracy: 88.49%\n",
      "\n",
      "\n",
      "num_conv2d_filters: 10\n",
      "num_conv2d_kernel: 2\n",
      "num_dense_layers: 2\n",
      "num_dense_nodes: 64\n",
      "activation: relu\n",
      "padding: same\n",
      "learning_rate: 0.005135\n",
      "\n",
      "Epoch 1/3\n",
      "750/750 [==============================] - 12s 15ms/step - loss: 0.4336 - accuracy: 0.8411 - val_loss: 0.2996 - val_accuracy: 0.8875 - lr: 0.0051\n",
      "Epoch 2/3\n",
      "750/750 [==============================] - 11s 15ms/step - loss: 0.2892 - accuracy: 0.8943 - val_loss: 0.2578 - val_accuracy: 0.9053 - lr: 0.0051\n",
      "Epoch 3/3\n",
      "750/750 [==============================] - 10s 14ms/step - loss: 0.2515 - accuracy: 0.9076 - val_loss: 0.2818 - val_accuracy: 0.9024 - lr: 0.0051\n",
      "\n",
      "Accuracy: 90.24%\n",
      "\n",
      "\n",
      "num_conv2d_filters: 10\n",
      "num_conv2d_kernel: 4\n",
      "num_dense_layers: 2\n",
      "num_dense_nodes: 64\n",
      "activation: relu\n",
      "padding: valid\n",
      "learning_rate: 0.005240\n",
      "\n",
      "Epoch 1/3\n",
      "750/750 [==============================] - 11s 14ms/step - loss: 0.6695 - accuracy: 0.7473 - val_loss: 0.4953 - val_accuracy: 0.8167 - lr: 0.0052\n",
      "Epoch 2/3\n",
      "750/750 [==============================] - 10s 14ms/step - loss: 0.4411 - accuracy: 0.8372 - val_loss: 0.3941 - val_accuracy: 0.8505 - lr: 0.0052\n",
      "Epoch 3/3\n",
      "750/750 [==============================] - 10s 14ms/step - loss: 0.3977 - accuracy: 0.8530 - val_loss: 0.3913 - val_accuracy: 0.8551 - lr: 0.0052\n",
      "\n",
      "Accuracy: 85.51%\n",
      "\n",
      "\n",
      "num_conv2d_filters: 3\n",
      "num_conv2d_kernel: 2\n",
      "num_dense_layers: 2\n",
      "num_dense_nodes: 64\n",
      "activation: relu\n",
      "padding: same\n",
      "learning_rate: 0.005177\n",
      "\n",
      "Epoch 1/3\n",
      "750/750 [==============================] - 10s 12ms/step - loss: 0.4897 - accuracy: 0.8209 - val_loss: 0.3957 - val_accuracy: 0.8538 - lr: 0.0052\n",
      "Epoch 2/3\n",
      "750/750 [==============================] - 9s 12ms/step - loss: 0.3329 - accuracy: 0.8785 - val_loss: 0.3201 - val_accuracy: 0.8812 - lr: 0.0052\n",
      "Epoch 3/3\n",
      "750/750 [==============================] - 9s 12ms/step - loss: 0.2951 - accuracy: 0.8911 - val_loss: 0.2878 - val_accuracy: 0.8957 - lr: 0.0052\n",
      "\n",
      "Accuracy: 89.57%\n",
      "\n",
      "\n",
      "num_conv2d_filters: 10\n",
      "num_conv2d_kernel: 5\n",
      "num_dense_layers: 2\n",
      "num_dense_nodes: 64\n",
      "activation: relu\n",
      "padding: same\n",
      "learning_rate: 0.004087\n",
      "\n",
      "Epoch 1/3\n",
      "750/750 [==============================] - 14s 18ms/step - loss: 0.4897 - accuracy: 0.8180 - val_loss: 0.3442 - val_accuracy: 0.8710 - lr: 0.0041\n",
      "Epoch 2/3\n",
      "750/750 [==============================] - 14s 18ms/step - loss: 0.3197 - accuracy: 0.8820 - val_loss: 0.3045 - val_accuracy: 0.8869 - lr: 0.0041\n",
      "Epoch 3/3\n",
      "750/750 [==============================] - 14s 19ms/step - loss: 0.2857 - accuracy: 0.8933 - val_loss: 0.2988 - val_accuracy: 0.8858 - lr: 0.0041\n",
      "\n",
      "Accuracy: 88.58%\n",
      "\n",
      "\n",
      "num_conv2d_filters: 10\n",
      "num_conv2d_kernel: 5\n",
      "num_dense_layers: 3\n",
      "num_dense_nodes: 64\n",
      "activation: relu\n",
      "padding: same\n",
      "learning_rate: 0.004814\n",
      "\n",
      "Epoch 1/3\n",
      "750/750 [==============================] - 15s 19ms/step - loss: 0.4899 - accuracy: 0.8179 - val_loss: 0.3296 - val_accuracy: 0.8714 - lr: 0.0048\n",
      "Epoch 2/3\n",
      "750/750 [==============================] - 15s 20ms/step - loss: 0.3378 - accuracy: 0.8749 - val_loss: 0.3013 - val_accuracy: 0.8859 - lr: 0.0048\n",
      "Epoch 3/3\n",
      "750/750 [==============================] - 15s 20ms/step - loss: 0.3026 - accuracy: 0.8898 - val_loss: 0.2913 - val_accuracy: 0.8947 - lr: 0.0048\n",
      "\n",
      "Accuracy: 89.47%\n",
      "\n",
      "\n",
      "num_conv2d_filters: 10\n",
      "num_conv2d_kernel: 2\n",
      "num_dense_layers: 2\n",
      "num_dense_nodes: 64\n",
      "activation: relu\n",
      "padding: same\n",
      "learning_rate: 0.005085\n",
      "\n",
      "Epoch 1/3\n",
      "750/750 [==============================] - 12s 15ms/step - loss: 0.4512 - accuracy: 0.8341 - val_loss: 0.3325 - val_accuracy: 0.8723 - lr: 0.0051\n",
      "Epoch 2/3\n",
      "750/750 [==============================] - 12s 15ms/step - loss: 0.2943 - accuracy: 0.8916 - val_loss: 0.2973 - val_accuracy: 0.8895 - lr: 0.0051\n",
      "Epoch 3/3\n",
      "750/750 [==============================] - 11s 15ms/step - loss: 0.2595 - accuracy: 0.9054 - val_loss: 0.3005 - val_accuracy: 0.8954 - lr: 0.0051\n",
      "\n",
      "Accuracy: 89.54%\n",
      "\n",
      "\n",
      "num_conv2d_filters: 10\n",
      "num_conv2d_kernel: 5\n",
      "num_dense_layers: 2\n",
      "num_dense_nodes: 41\n",
      "activation: relu\n",
      "padding: same\n",
      "learning_rate: 0.005072\n",
      "\n",
      "Epoch 1/3\n",
      "750/750 [==============================] - 16s 20ms/step - loss: 2.3034 - accuracy: 0.1010 - val_loss: 2.3030 - val_accuracy: 0.0954 - lr: 0.0051\n",
      "Epoch 2/3\n",
      "750/750 [==============================] - 16s 21ms/step - loss: 2.3031 - accuracy: 0.1002 - val_loss: 2.3030 - val_accuracy: 0.0954 - lr: 0.0051\n",
      "Epoch 3/3\n",
      "750/750 [==============================] - 14s 19ms/step - loss: 2.3031 - accuracy: 0.1004 - val_loss: 2.3030 - val_accuracy: 0.0954 - lr: 0.0051\n",
      "\n",
      "Accuracy: 9.54%\n",
      "\n",
      "\n",
      "num_conv2d_filters: 10\n",
      "num_conv2d_kernel: 4\n",
      "num_dense_layers: 3\n",
      "num_dense_nodes: 18\n",
      "activation: leaky_relu\n",
      "padding: same\n",
      "learning_rate: 0.000218\n",
      "\n",
      "Epoch 1/3\n",
      "750/750 [==============================] - 18s 24ms/step - loss: 0.8076 - accuracy: 0.7096 - val_loss: 0.5184 - val_accuracy: 0.8191 - lr: 2.1813e-04\n",
      "Epoch 2/3\n",
      "750/750 [==============================] - 16s 21ms/step - loss: 0.4841 - accuracy: 0.8272 - val_loss: 0.4279 - val_accuracy: 0.8465 - lr: 2.1813e-04\n",
      "Epoch 3/3\n",
      "750/750 [==============================] - 17s 22ms/step - loss: 0.4112 - accuracy: 0.8547 - val_loss: 0.3838 - val_accuracy: 0.8624 - lr: 2.1813e-04\n",
      "\n",
      "Accuracy: 86.24%\n",
      "\n",
      "\n",
      "num_conv2d_filters: 10\n",
      "num_conv2d_kernel: 3\n",
      "num_dense_layers: 4\n",
      "num_dense_nodes: 41\n",
      "activation: leaky_relu\n",
      "padding: valid\n",
      "learning_rate: 0.000157\n",
      "\n",
      "Epoch 1/3\n",
      "750/750 [==============================] - 11s 14ms/step - loss: 0.8716 - accuracy: 0.6719 - val_loss: 0.6128 - val_accuracy: 0.7651 - lr: 1.5693e-04\n",
      "Epoch 2/3\n",
      "750/750 [==============================] - 10s 13ms/step - loss: 0.5492 - accuracy: 0.7916 - val_loss: 0.5082 - val_accuracy: 0.8059 - lr: 1.5693e-04\n",
      "Epoch 3/3\n",
      "750/750 [==============================] - 10s 13ms/step - loss: 0.4859 - accuracy: 0.8180 - val_loss: 0.4597 - val_accuracy: 0.8303 - lr: 1.5693e-04\n",
      "\n",
      "Accuracy: 83.03%\n",
      "\n",
      "\n",
      "num_conv2d_filters: 3\n",
      "num_conv2d_kernel: 3\n",
      "num_dense_layers: 2\n",
      "num_dense_nodes: 45\n",
      "activation: relu\n",
      "padding: same\n",
      "learning_rate: 0.010000\n",
      "\n",
      "Epoch 1/3\n",
      "750/750 [==============================] - 10s 12ms/step - loss: 0.5075 - accuracy: 0.8144 - val_loss: 0.3934 - val_accuracy: 0.8534 - lr: 0.0100\n",
      "Epoch 2/3\n",
      "750/750 [==============================] - 6s 8ms/step - loss: 0.3696 - accuracy: 0.8648 - val_loss: 0.3386 - val_accuracy: 0.8727 - lr: 0.0100\n",
      "Epoch 3/3\n",
      "750/750 [==============================] - 6s 9ms/step - loss: 0.3463 - accuracy: 0.8737 - val_loss: 0.3149 - val_accuracy: 0.8827 - lr: 0.0100\n",
      "\n",
      "Accuracy: 88.27%\n",
      "\n",
      "\n",
      "num_conv2d_filters: 9\n",
      "num_conv2d_kernel: 2\n",
      "num_dense_layers: 4\n",
      "num_dense_nodes: 60\n",
      "activation: relu\n",
      "padding: same\n",
      "learning_rate: 0.000369\n",
      "\n",
      "Epoch 1/3\n",
      "750/750 [==============================] - 10s 12ms/step - loss: 0.6772 - accuracy: 0.7511 - val_loss: 0.4501 - val_accuracy: 0.8341 - lr: 3.6937e-04\n",
      "Epoch 2/3\n",
      "750/750 [==============================] - 10s 13ms/step - loss: 0.3921 - accuracy: 0.8590 - val_loss: 0.3730 - val_accuracy: 0.8612 - lr: 3.6937e-04\n",
      "Epoch 3/3\n",
      "750/750 [==============================] - 9s 13ms/step - loss: 0.3393 - accuracy: 0.8793 - val_loss: 0.3211 - val_accuracy: 0.8799 - lr: 3.6937e-04\n",
      "\n",
      "Accuracy: 87.99%\n",
      "\n",
      "\n",
      "num_conv2d_filters: 5\n",
      "num_conv2d_kernel: 5\n",
      "num_dense_layers: 4\n",
      "num_dense_nodes: 13\n",
      "activation: leaky_relu\n",
      "padding: valid\n",
      "learning_rate: 0.010000\n",
      "\n",
      "Epoch 1/3\n",
      "750/750 [==============================] - 8s 10ms/step - loss: 0.7152 - accuracy: 0.7274 - val_loss: 0.4882 - val_accuracy: 0.8226 - lr: 0.0100\n",
      "Epoch 2/3\n",
      "750/750 [==============================] - 7s 10ms/step - loss: 0.4990 - accuracy: 0.8166 - val_loss: 0.4405 - val_accuracy: 0.8384 - lr: 0.0100\n",
      "Epoch 3/3\n",
      "750/750 [==============================] - 8s 11ms/step - loss: 0.4588 - accuracy: 0.8358 - val_loss: 0.4512 - val_accuracy: 0.8317 - lr: 0.0100\n",
      "\n",
      "Accuracy: 83.17%\n",
      "\n",
      "\n",
      "num_conv2d_filters: 10\n",
      "num_conv2d_kernel: 2\n",
      "num_dense_layers: 2\n",
      "num_dense_nodes: 32\n",
      "activation: relu\n",
      "padding: same\n",
      "learning_rate: 0.010000\n",
      "\n",
      "Epoch 1/3\n",
      "750/750 [==============================] - 11s 14ms/step - loss: 0.5356 - accuracy: 0.8013 - val_loss: 0.3978 - val_accuracy: 0.8545 - lr: 0.0100\n",
      "Epoch 2/3\n",
      "750/750 [==============================] - 10s 13ms/step - loss: 0.3640 - accuracy: 0.8673 - val_loss: 0.3540 - val_accuracy: 0.8696 - lr: 0.0100\n",
      "Epoch 3/3\n",
      "750/750 [==============================] - 10s 13ms/step - loss: 0.3346 - accuracy: 0.8782 - val_loss: 0.3879 - val_accuracy: 0.8727 - lr: 0.0100\n",
      "\n",
      "Accuracy: 87.27%\n",
      "\n",
      "\n",
      "num_conv2d_filters: 10\n",
      "num_conv2d_kernel: 3\n",
      "num_dense_layers: 2\n",
      "num_dense_nodes: 11\n",
      "activation: relu\n",
      "padding: same\n",
      "learning_rate: 0.010000\n",
      "\n",
      "Epoch 1/3\n",
      "750/750 [==============================] - 11s 14ms/step - loss: 2.3040 - accuracy: 0.1004 - val_loss: 2.3032 - val_accuracy: 0.1007 - lr: 0.0100\n",
      "Epoch 2/3\n",
      "750/750 [==============================] - 10s 14ms/step - loss: 2.3035 - accuracy: 0.1012 - val_loss: 2.3032 - val_accuracy: 0.1007 - lr: 0.0100\n",
      "Epoch 3/3\n",
      "750/750 [==============================] - 10s 14ms/step - loss: 2.3035 - accuracy: 0.1011 - val_loss: 2.3032 - val_accuracy: 0.1007 - lr: 0.0100\n",
      "\n",
      "Accuracy: 10.07%\n",
      "\n"
     ]
    }
   ],
   "source": [
    "gp_ = gp_minimize(objective,\n",
    "                  param_grid,\n",
    "                  x0=initial_parameters,\n",
    "                  acq_func=\"EI\",\n",
    "                  n_jobs=-1,\n",
    "                  n_calls=30,\n",
    "                  random_state=42)"
   ]
  },
  {
   "cell_type": "code",
   "execution_count": 115,
   "id": "6562fe56-c133-40ab-8715-b237e65e3a8f",
   "metadata": {},
   "outputs": [
    {
     "name": "stdout",
     "output_type": "stream",
     "text": [
      "Best score: -0.9024166464805603\n"
     ]
    }
   ],
   "source": [
    "print(f\"Best score: {gp_.fun}\")"
   ]
  },
  {
   "cell_type": "code",
   "execution_count": 120,
   "id": "35d07f49-c516-4a14-8552-db702986a86a",
   "metadata": {},
   "outputs": [
    {
     "name": "stdout",
     "output_type": "stream",
     "text": [
      "Best parameters:\n",
      "num_conv2d_filters: 10\n",
      "num_conv2d_kernel: 2\n",
      "num_dense_layers: 2\n",
      "num_dense_nodes: 64\n",
      "activation: relu\n",
      "padding: same\n",
      "learning_rate: 0.0051348\n"
     ]
    }
   ],
   "source": [
    "print(\"Best parameters:\\nnum_conv2d_filters: %d\\nnum_conv2d_kernel: %d\\nnum_dense_layers: %d\\nnum_dense_nodes: %d\\nactivation: %s\\npadding: %s\\nlearning_rate: %.7f\" \n",
    "      % (gp_.x[0], gp_.x[1], gp_.x[2], gp_.x[3], gp_.x[4], gp_.x[5], gp_.x[6]))"
   ]
  },
  {
   "cell_type": "code",
   "execution_count": 122,
   "id": "4e9c0c35-df93-4a1c-b314-fadbd17bceec",
   "metadata": {},
   "outputs": [],
   "source": [
    "best_num_conv2d_filters, best_num_conv2d_kernel, best_num_dense_layers, best_num_dense_layers,best_activation,best_padding,best_learning_rate = gp_.x[0], gp_.x[1], gp_.x[2], gp_.x[3], gp_.x[4], gp_.x[5], gp_.x[6]"
   ]
  },
  {
   "cell_type": "code",
   "execution_count": 125,
   "id": "0d5e53d6-e1e6-46c4-ad4c-99b180550493",
   "metadata": {},
   "outputs": [],
   "source": [
    "inputs = layers.Input(shape=(28, 28, 1), dtype=tf.float32)\n",
    "x = layers.Conv2D(best_num_conv2d_filters, kernel_size=(best_num_conv2d_kernel, best_num_conv2d_kernel), activation=best_activation, padding=best_padding)(inputs)\n",
    "x = layers.Conv2D(best_num_conv2d_filters**2, kernel_size=(best_num_conv2d_kernel, best_num_conv2d_kernel), activation=best_activation, padding=best_padding)(x)\n",
    "x = layers.MaxPooling2D(2)(x)\n",
    "x = layers.Conv2D(best_num_conv2d_filters, kernel_size=(best_num_conv2d_kernel, best_num_conv2d_kernel), activation=best_activation, padding=best_padding)(x)\n",
    "x = layers.Conv2D(best_num_conv2d_filters**2, kernel_size=(best_num_conv2d_kernel, best_num_conv2d_kernel), activation=best_activation, padding=best_padding)(x)\n",
    "x = layers.MaxPooling2D(2)(x)\n",
    "x = layers.Flatten()(x)\n",
    "x = layers.Dense(64, activation=best_activation)(x)\n",
    "x = layers.Dense(64, activation=best_activation)(x)\n",
    "outputs = layers.Dense(10, activation=\"softmax\")(x)\n",
    "\n",
    "model_3 = tf.keras.Model(inputs, outputs, name=\"model_3_bo\")\n",
    "\n",
    "optimizer = tf.keras.optimizers.Adam(learning_rate=best_learning_rate)\n",
    "\n",
    "model_3.compile(loss=\"sparse_categorical_crossentropy\",\n",
    "                optimizer=optimizer,\n",
    "                metrics=[\"accuracy\"])"
   ]
  },
  {
   "cell_type": "code",
   "execution_count": 126,
   "id": "3609866b-2837-4209-b34d-99d478a793be",
   "metadata": {},
   "outputs": [
    {
     "name": "stdout",
     "output_type": "stream",
     "text": [
      "Model: \"model_3_bo\"\n",
      "_________________________________________________________________\n",
      " Layer (type)                Output Shape              Param #   \n",
      "=================================================================\n",
      " input_4 (InputLayer)        [(None, 28, 28, 1)]       0         \n",
      "                                                                 \n",
      " conv2d_6 (Conv2D)           (None, 28, 28, 10)        50        \n",
      "                                                                 \n",
      " conv2d_7 (Conv2D)           (None, 28, 28, 100)       4100      \n",
      "                                                                 \n",
      " max_pooling2d_2 (MaxPooling  (None, 14, 14, 100)      0         \n",
      " 2D)                                                             \n",
      "                                                                 \n",
      " conv2d_8 (Conv2D)           (None, 14, 14, 10)        4010      \n",
      "                                                                 \n",
      " conv2d_9 (Conv2D)           (None, 14, 14, 100)       4100      \n",
      "                                                                 \n",
      " max_pooling2d_3 (MaxPooling  (None, 7, 7, 100)        0         \n",
      " 2D)                                                             \n",
      "                                                                 \n",
      " flatten_1 (Flatten)         (None, 4900)              0         \n",
      "                                                                 \n",
      " dense_3 (Dense)             (None, 64)                313664    \n",
      "                                                                 \n",
      " dense_4 (Dense)             (None, 64)                4160      \n",
      "                                                                 \n",
      " dense_5 (Dense)             (None, 10)                650       \n",
      "                                                                 \n",
      "=================================================================\n",
      "Total params: 330,734\n",
      "Trainable params: 330,734\n",
      "Non-trainable params: 0\n",
      "_________________________________________________________________\n"
     ]
    }
   ],
   "source": [
    "model_3.summary()"
   ]
  },
  {
   "cell_type": "code",
   "execution_count": 127,
   "id": "4c5764c8-0789-439f-ae6b-dc41d0c68bc1",
   "metadata": {},
   "outputs": [
    {
     "name": "stdout",
     "output_type": "stream",
     "text": [
      "Epoch 1/20\n",
      "747/750 [============================>.] - ETA: 0s - loss: 0.4511 - accuracy: 0.8362\n",
      "Epoch 1: val_loss improved from inf to 0.29940, saving model to model_experiments\\model_3_bo\n",
      "INFO:tensorflow:Assets written to: model_experiments\\model_3_bo\\assets\n"
     ]
    },
    {
     "name": "stderr",
     "output_type": "stream",
     "text": [
      "INFO:tensorflow:Assets written to: model_experiments\\model_3_bo\\assets\n"
     ]
    },
    {
     "name": "stdout",
     "output_type": "stream",
     "text": [
      "750/750 [==============================] - 10s 13ms/step - loss: 0.4506 - accuracy: 0.8363 - val_loss: 0.2994 - val_accuracy: 0.8867 - lr: 0.0051\n",
      "Epoch 2/20\n",
      "746/750 [============================>.] - ETA: 0s - loss: 0.2912 - accuracy: 0.8936\n",
      "Epoch 2: val_loss improved from 0.29940 to 0.28969, saving model to model_experiments\\model_3_bo\n",
      "INFO:tensorflow:Assets written to: model_experiments\\model_3_bo\\assets\n"
     ]
    },
    {
     "name": "stderr",
     "output_type": "stream",
     "text": [
      "INFO:tensorflow:Assets written to: model_experiments\\model_3_bo\\assets\n"
     ]
    },
    {
     "name": "stdout",
     "output_type": "stream",
     "text": [
      "750/750 [==============================] - 9s 13ms/step - loss: 0.2913 - accuracy: 0.8935 - val_loss: 0.2897 - val_accuracy: 0.8982 - lr: 0.0051\n",
      "Epoch 3/20\n",
      "750/750 [==============================] - ETA: 0s - loss: 0.2547 - accuracy: 0.9077\n",
      "Epoch 3: val_loss did not improve from 0.28969\n",
      "750/750 [==============================] - 8s 11ms/step - loss: 0.2547 - accuracy: 0.9077 - val_loss: 0.2985 - val_accuracy: 0.8997 - lr: 0.0051\n",
      "Epoch 4/20\n",
      "749/750 [============================>.] - ETA: 0s - loss: 0.2344 - accuracy: 0.9131\n",
      "Epoch 4: val_loss did not improve from 0.28969\n",
      "\n",
      "Epoch 4: ReduceLROnPlateau reducing learning rate to 0.0005134778562933207.\n",
      "750/750 [==============================] - 8s 11ms/step - loss: 0.2344 - accuracy: 0.9130 - val_loss: 0.3009 - val_accuracy: 0.8946 - lr: 0.0051\n",
      "Epoch 5/20\n",
      "750/750 [==============================] - ETA: 0s - loss: 0.1697 - accuracy: 0.9372\n",
      "Epoch 5: val_loss improved from 0.28969 to 0.22584, saving model to model_experiments\\model_3_bo\n",
      "INFO:tensorflow:Assets written to: model_experiments\\model_3_bo\\assets\n"
     ]
    },
    {
     "name": "stderr",
     "output_type": "stream",
     "text": [
      "INFO:tensorflow:Assets written to: model_experiments\\model_3_bo\\assets\n"
     ]
    },
    {
     "name": "stdout",
     "output_type": "stream",
     "text": [
      "750/750 [==============================] - 10s 14ms/step - loss: 0.1697 - accuracy: 0.9372 - val_loss: 0.2258 - val_accuracy: 0.9202 - lr: 5.1348e-04\n",
      "Epoch 6/20\n",
      "746/750 [============================>.] - ETA: 0s - loss: 0.1468 - accuracy: 0.9456\n",
      "Epoch 6: val_loss did not improve from 0.22584\n",
      "750/750 [==============================] - 9s 12ms/step - loss: 0.1467 - accuracy: 0.9456 - val_loss: 0.2276 - val_accuracy: 0.9220 - lr: 5.1348e-04\n",
      "Epoch 7/20\n",
      "750/750 [==============================] - ETA: 0s - loss: 0.1341 - accuracy: 0.9512\n",
      "Epoch 7: val_loss did not improve from 0.22584\n",
      "\n",
      "Epoch 7: ReduceLROnPlateau reducing learning rate to 5.134778330102563e-05.\n",
      "750/750 [==============================] - 10s 13ms/step - loss: 0.1341 - accuracy: 0.9512 - val_loss: 0.2298 - val_accuracy: 0.9230 - lr: 5.1348e-04\n",
      "Epoch 8/20\n",
      "749/750 [============================>.] - ETA: 0s - loss: 0.1203 - accuracy: 0.9565\n",
      "Epoch 8: val_loss improved from 0.22584 to 0.22239, saving model to model_experiments\\model_3_bo\n",
      "INFO:tensorflow:Assets written to: model_experiments\\model_3_bo\\assets\n"
     ]
    },
    {
     "name": "stderr",
     "output_type": "stream",
     "text": [
      "INFO:tensorflow:Assets written to: model_experiments\\model_3_bo\\assets\n"
     ]
    },
    {
     "name": "stdout",
     "output_type": "stream",
     "text": [
      "750/750 [==============================] - 11s 15ms/step - loss: 0.1203 - accuracy: 0.9564 - val_loss: 0.2224 - val_accuracy: 0.9237 - lr: 5.1348e-05\n",
      "Epoch 9/20\n",
      "747/750 [============================>.] - ETA: 0s - loss: 0.1171 - accuracy: 0.9573\n",
      "Epoch 9: val_loss did not improve from 0.22239\n",
      "750/750 [==============================] - 11s 14ms/step - loss: 0.1172 - accuracy: 0.9573 - val_loss: 0.2225 - val_accuracy: 0.9233 - lr: 5.1348e-05\n",
      "Epoch 10/20\n",
      "747/750 [============================>.] - ETA: 0s - loss: 0.1153 - accuracy: 0.9580\n",
      "Epoch 10: val_loss did not improve from 0.22239\n",
      "\n",
      "Epoch 10: ReduceLROnPlateau reducing learning rate to 5.134778257342987e-06.\n",
      "750/750 [==============================] - 18s 24ms/step - loss: 0.1153 - accuracy: 0.9579 - val_loss: 0.2229 - val_accuracy: 0.9237 - lr: 5.1348e-05\n",
      "Epoch 11/20\n",
      "750/750 [==============================] - ETA: 0s - loss: 0.1132 - accuracy: 0.9589\n",
      "Epoch 11: val_loss did not improve from 0.22239\n",
      "Restoring model weights from the end of the best epoch: 8.\n",
      "750/750 [==============================] - 15s 20ms/step - loss: 0.1132 - accuracy: 0.9589 - val_loss: 0.2228 - val_accuracy: 0.9239 - lr: 5.1348e-06\n",
      "Epoch 11: early stopping\n"
     ]
    }
   ],
   "source": [
    "model_3_history = model_3.fit(train_data,\n",
    "                              validation_data=val_data,\n",
    "                              steps_per_epoch=len(train_data),\n",
    "                              validation_steps=len(val_data),\n",
    "                              epochs=20,\n",
    "                              callbacks=[tensorboard(model_3.name),\n",
    "                                         checkpoint(model_3.name),\n",
    "                                         early_stopping,\n",
    "                                         reduce_lr])"
   ]
  },
  {
   "cell_type": "code",
   "execution_count": 128,
   "id": "72f4304a-035f-450d-a1eb-9f692553910b",
   "metadata": {},
   "outputs": [
    {
     "name": "stdout",
     "output_type": "stream",
     "text": [
      "750/750 [==============================] - 5s 6ms/step - loss: 0.1170 - accuracy: 0.9571\n",
      "188/188 [==============================] - 1s 6ms/step - loss: 0.2224 - accuracy: 0.9237\n",
      "157/157 [==============================] - 1s 7ms/step - loss: 0.2574 - accuracy: 0.9144\n"
     ]
    },
    {
     "data": {
      "text/plain": [
       "([0.11698196083307266, 0.9571458101272583],\n",
       " [0.22238974273204803, 0.9237499833106995],\n",
       " [0.25741100311279297, 0.9143999814987183])"
      ]
     },
     "execution_count": 128,
     "metadata": {},
     "output_type": "execute_result"
    }
   ],
   "source": [
    "model_3.evaluate(train_data), model_3.evaluate(val_data), model_3.evaluate(test_data)"
   ]
  },
  {
   "cell_type": "code",
   "execution_count": 129,
   "id": "87ab3bcc-f838-42a4-88e0-2f39be6e8317",
   "metadata": {},
   "outputs": [
    {
     "name": "stdout",
     "output_type": "stream",
     "text": [
      "750/750 [==============================] - 5s 6ms/step - loss: 0.1170 - accuracy: 0.9571\n",
      "188/188 [==============================] - 1s 7ms/step - loss: 0.2224 - accuracy: 0.9237\n",
      "157/157 [==============================] - 1s 7ms/step - loss: 0.2574 - accuracy: 0.9144\n"
     ]
    },
    {
     "data": {
      "text/plain": [
       "([0.11698196083307266, 0.9571458101272583],\n",
       " [0.22238974273204803, 0.9237499833106995],\n",
       " [0.25741100311279297, 0.9143999814987183])"
      ]
     },
     "execution_count": 129,
     "metadata": {},
     "output_type": "execute_result"
    }
   ],
   "source": [
    "model_3_loaded = tf.keras.models.load_model(\"model_experiments/\" + model_3.name)\n",
    "model_3_loaded.evaluate(train_data), model_3_loaded.evaluate(val_data), model_3_loaded.evaluate(test_data)"
   ]
  },
  {
   "cell_type": "code",
   "execution_count": 130,
   "id": "c18089b4-9cb7-4581-8767-8ce80d21b334",
   "metadata": {},
   "outputs": [
    {
     "data": {
      "text/html": [
       "\n",
       "      <iframe id=\"tensorboard-frame-43dc3b8182773787\" width=\"100%\" height=\"800\" frameborder=\"0\">\n",
       "      </iframe>\n",
       "      <script>\n",
       "        (function() {\n",
       "          const frame = document.getElementById(\"tensorboard-frame-43dc3b8182773787\");\n",
       "          const url = new URL(\"/\", window.location);\n",
       "          const port = 8088;\n",
       "          if (port) {\n",
       "            url.port = port;\n",
       "          }\n",
       "          frame.src = url;\n",
       "        })();\n",
       "      </script>\n",
       "    "
      ],
      "text/plain": [
       "<IPython.core.display.HTML object>"
      ]
     },
     "metadata": {},
     "output_type": "display_data"
    }
   ],
   "source": [
    "%tensorboard --logdir model_logs --port 8088"
   ]
  },
  {
   "cell_type": "code",
   "execution_count": 162,
   "id": "8cb1c454-ee4e-4146-a166-b275143200c9",
   "metadata": {},
   "outputs": [],
   "source": [
    "tf.keras.backend.clear_session()\n",
    "\n",
    "inputs = layers.Input(shape=(28, 28, 1), dtype=tf.float32)\n",
    "x = layers.Conv2D(10, 3, activation=\"relu\")(inputs)\n",
    "x = layers.Conv2D(10, 3, activation=\"relu\")(x)\n",
    "x = layers.MaxPooling2D(2)(x)\n",
    "x = layers.Conv2D(10, 3, activation=\"relu\")(x)\n",
    "x = layers.Conv2D(10, 3, activation=\"relu\")(x)\n",
    "x = layers.MaxPooling2D(2)(x)\n",
    "x = layers.Flatten()(x)\n",
    "outputs = layers.Dense(len(class_names), activation=\"softmax\")(x)\n",
    "\n",
    "model_4 = tf.keras.Model(inputs, outputs, name=\"model_4_lr_scheduler\")\n",
    "\n",
    "model_4.compile(loss=tf.keras.losses.SparseCategoricalCrossentropy(),\n",
    "                optimizer=tf.keras.optimizers.Adam(learning_rate=0.005),\n",
    "                metrics=[\"accuracy\"])"
   ]
  },
  {
   "cell_type": "code",
   "execution_count": 163,
   "id": "4db69f8f-d930-40a5-bd22-4b8ddd9367c3",
   "metadata": {},
   "outputs": [
    {
     "name": "stdout",
     "output_type": "stream",
     "text": [
      "Epoch 1/20\n",
      "743/750 [============================>.] - ETA: 0s - loss: 0.5509 - accuracy: 0.7993\n",
      "Epoch 1: val_loss improved from inf to 0.42276, saving model to model_experiments\\model_4_lr_scheduler\n",
      "INFO:tensorflow:Assets written to: model_experiments\\model_4_lr_scheduler\\assets\n"
     ]
    },
    {
     "name": "stderr",
     "output_type": "stream",
     "text": [
      "INFO:tensorflow:Assets written to: model_experiments\\model_4_lr_scheduler\\assets\n"
     ]
    },
    {
     "name": "stdout",
     "output_type": "stream",
     "text": [
      "750/750 [==============================] - 8s 10ms/step - loss: 0.5499 - accuracy: 0.7996 - val_loss: 0.4228 - val_accuracy: 0.8419 - lr: 0.0050\n",
      "Epoch 2/20\n",
      "748/750 [============================>.] - ETA: 0s - loss: 0.3841 - accuracy: 0.8605\n",
      "Epoch 2: val_loss improved from 0.42276 to 0.35869, saving model to model_experiments\\model_4_lr_scheduler\n",
      "INFO:tensorflow:Assets written to: model_experiments\\model_4_lr_scheduler\\assets\n"
     ]
    },
    {
     "name": "stderr",
     "output_type": "stream",
     "text": [
      "INFO:tensorflow:Assets written to: model_experiments\\model_4_lr_scheduler\\assets\n"
     ]
    },
    {
     "name": "stdout",
     "output_type": "stream",
     "text": [
      "750/750 [==============================] - 7s 10ms/step - loss: 0.3843 - accuracy: 0.8605 - val_loss: 0.3587 - val_accuracy: 0.8663 - lr: 0.0050\n",
      "Epoch 3/20\n",
      "744/750 [============================>.] - ETA: 0s - loss: 0.3502 - accuracy: 0.8732\n",
      "Epoch 3: val_loss improved from 0.35869 to 0.35528, saving model to model_experiments\\model_4_lr_scheduler\n",
      "INFO:tensorflow:Assets written to: model_experiments\\model_4_lr_scheduler\\assets\n"
     ]
    },
    {
     "name": "stderr",
     "output_type": "stream",
     "text": [
      "INFO:tensorflow:Assets written to: model_experiments\\model_4_lr_scheduler\\assets\n"
     ]
    },
    {
     "name": "stdout",
     "output_type": "stream",
     "text": [
      "750/750 [==============================] - 8s 10ms/step - loss: 0.3502 - accuracy: 0.8730 - val_loss: 0.3553 - val_accuracy: 0.8702 - lr: 0.0050\n",
      "Epoch 4/20\n",
      "748/750 [============================>.] - ETA: 0s - loss: 0.3281 - accuracy: 0.8822\n",
      "Epoch 4: val_loss improved from 0.35528 to 0.33961, saving model to model_experiments\\model_4_lr_scheduler\n",
      "INFO:tensorflow:Assets written to: model_experiments\\model_4_lr_scheduler\\assets\n"
     ]
    },
    {
     "name": "stderr",
     "output_type": "stream",
     "text": [
      "INFO:tensorflow:Assets written to: model_experiments\\model_4_lr_scheduler\\assets\n"
     ]
    },
    {
     "name": "stdout",
     "output_type": "stream",
     "text": [
      "750/750 [==============================] - 10s 13ms/step - loss: 0.3284 - accuracy: 0.8821 - val_loss: 0.3396 - val_accuracy: 0.8765 - lr: 0.0050\n",
      "Epoch 5/20\n",
      "749/750 [============================>.] - ETA: 0s - loss: 0.3160 - accuracy: 0.8862\n",
      "Epoch 5: val_loss improved from 0.33961 to 0.31737, saving model to model_experiments\\model_4_lr_scheduler\n",
      "INFO:tensorflow:Assets written to: model_experiments\\model_4_lr_scheduler\\assets\n"
     ]
    },
    {
     "name": "stderr",
     "output_type": "stream",
     "text": [
      "INFO:tensorflow:Assets written to: model_experiments\\model_4_lr_scheduler\\assets\n"
     ]
    },
    {
     "name": "stdout",
     "output_type": "stream",
     "text": [
      "750/750 [==============================] - 8s 11ms/step - loss: 0.3162 - accuracy: 0.8861 - val_loss: 0.3174 - val_accuracy: 0.8848 - lr: 0.0050\n",
      "Epoch 6/20\n",
      "748/750 [============================>.] - ETA: 0s - loss: 0.3074 - accuracy: 0.8883\n",
      "Epoch 6: val_loss improved from 0.31737 to 0.30967, saving model to model_experiments\\model_4_lr_scheduler\n",
      "INFO:tensorflow:Assets written to: model_experiments\\model_4_lr_scheduler\\assets\n"
     ]
    },
    {
     "name": "stderr",
     "output_type": "stream",
     "text": [
      "INFO:tensorflow:Assets written to: model_experiments\\model_4_lr_scheduler\\assets\n"
     ]
    },
    {
     "name": "stdout",
     "output_type": "stream",
     "text": [
      "750/750 [==============================] - 9s 12ms/step - loss: 0.3077 - accuracy: 0.8883 - val_loss: 0.3097 - val_accuracy: 0.8878 - lr: 0.0050\n",
      "Epoch 7/20\n",
      "747/750 [============================>.] - ETA: 0s - loss: 0.3025 - accuracy: 0.8905\n",
      "Epoch 7: val_loss improved from 0.30967 to 0.30780, saving model to model_experiments\\model_4_lr_scheduler\n",
      "INFO:tensorflow:Assets written to: model_experiments\\model_4_lr_scheduler\\assets\n"
     ]
    },
    {
     "name": "stderr",
     "output_type": "stream",
     "text": [
      "INFO:tensorflow:Assets written to: model_experiments\\model_4_lr_scheduler\\assets\n"
     ]
    },
    {
     "name": "stdout",
     "output_type": "stream",
     "text": [
      "750/750 [==============================] - 11s 15ms/step - loss: 0.3025 - accuracy: 0.8904 - val_loss: 0.3078 - val_accuracy: 0.8880 - lr: 0.0050\n",
      "Epoch 8/20\n",
      "750/750 [==============================] - ETA: 0s - loss: 0.2996 - accuracy: 0.8911\n",
      "Epoch 8: val_loss did not improve from 0.30780\n",
      "750/750 [==============================] - 9s 12ms/step - loss: 0.2996 - accuracy: 0.8911 - val_loss: 0.3093 - val_accuracy: 0.8916 - lr: 0.0050\n",
      "Epoch 9/20\n",
      "748/750 [============================>.] - ETA: 0s - loss: 0.2940 - accuracy: 0.8919\n",
      "Epoch 9: val_loss improved from 0.30780 to 0.30619, saving model to model_experiments\\model_4_lr_scheduler\n",
      "INFO:tensorflow:Assets written to: model_experiments\\model_4_lr_scheduler\\assets\n"
     ]
    },
    {
     "name": "stderr",
     "output_type": "stream",
     "text": [
      "INFO:tensorflow:Assets written to: model_experiments\\model_4_lr_scheduler\\assets\n"
     ]
    },
    {
     "name": "stdout",
     "output_type": "stream",
     "text": [
      "750/750 [==============================] - 11s 14ms/step - loss: 0.2942 - accuracy: 0.8919 - val_loss: 0.3062 - val_accuracy: 0.8927 - lr: 0.0050\n",
      "Epoch 10/20\n",
      "750/750 [==============================] - ETA: 0s - loss: 0.2904 - accuracy: 0.8957\n",
      "Epoch 10: val_loss improved from 0.30619 to 0.30357, saving model to model_experiments\\model_4_lr_scheduler\n",
      "INFO:tensorflow:Assets written to: model_experiments\\model_4_lr_scheduler\\assets\n"
     ]
    },
    {
     "name": "stderr",
     "output_type": "stream",
     "text": [
      "INFO:tensorflow:Assets written to: model_experiments\\model_4_lr_scheduler\\assets\n"
     ]
    },
    {
     "name": "stdout",
     "output_type": "stream",
     "text": [
      "750/750 [==============================] - 9s 13ms/step - loss: 0.2904 - accuracy: 0.8957 - val_loss: 0.3036 - val_accuracy: 0.8907 - lr: 0.0050\n",
      "Epoch 11/20\n",
      "750/750 [==============================] - ETA: 0s - loss: 0.2868 - accuracy: 0.8963\n",
      "Epoch 11: val_loss improved from 0.30357 to 0.30291, saving model to model_experiments\\model_4_lr_scheduler\n",
      "INFO:tensorflow:Assets written to: model_experiments\\model_4_lr_scheduler\\assets\n"
     ]
    },
    {
     "name": "stderr",
     "output_type": "stream",
     "text": [
      "INFO:tensorflow:Assets written to: model_experiments\\model_4_lr_scheduler\\assets\n"
     ]
    },
    {
     "name": "stdout",
     "output_type": "stream",
     "text": [
      "750/750 [==============================] - 10s 13ms/step - loss: 0.2868 - accuracy: 0.8963 - val_loss: 0.3029 - val_accuracy: 0.8925 - lr: 0.0050\n",
      "Epoch 12/20\n",
      "750/750 [==============================] - ETA: 0s - loss: 0.2833 - accuracy: 0.8972\n",
      "Epoch 12: val_loss did not improve from 0.30291\n",
      "750/750 [==============================] - 8s 11ms/step - loss: 0.2833 - accuracy: 0.8972 - val_loss: 0.3102 - val_accuracy: 0.8934 - lr: 0.0050\n",
      "Epoch 13/20\n",
      "745/750 [============================>.] - ETA: 0s - loss: 0.2781 - accuracy: 0.8988\n",
      "Epoch 13: val_loss did not improve from 0.30291\n",
      "\n",
      "Epoch 13: ReduceLROnPlateau reducing learning rate to 0.0004999999888241291.\n",
      "750/750 [==============================] - 9s 12ms/step - loss: 0.2783 - accuracy: 0.8987 - val_loss: 0.3116 - val_accuracy: 0.8903 - lr: 0.0050\n",
      "Epoch 14/20\n",
      "747/750 [============================>.] - ETA: 0s - loss: 0.2389 - accuracy: 0.9135\n",
      "Epoch 14: val_loss improved from 0.30291 to 0.27458, saving model to model_experiments\\model_4_lr_scheduler\n",
      "INFO:tensorflow:Assets written to: model_experiments\\model_4_lr_scheduler\\assets\n"
     ]
    },
    {
     "name": "stderr",
     "output_type": "stream",
     "text": [
      "INFO:tensorflow:Assets written to: model_experiments\\model_4_lr_scheduler\\assets\n"
     ]
    },
    {
     "name": "stdout",
     "output_type": "stream",
     "text": [
      "750/750 [==============================] - 10s 14ms/step - loss: 0.2389 - accuracy: 0.9136 - val_loss: 0.2746 - val_accuracy: 0.9033 - lr: 5.0000e-04\n",
      "Epoch 15/20\n",
      "746/750 [============================>.] - ETA: 0s - loss: 0.2283 - accuracy: 0.9166\n",
      "Epoch 15: val_loss improved from 0.27458 to 0.27207, saving model to model_experiments\\model_4_lr_scheduler\n",
      "INFO:tensorflow:Assets written to: model_experiments\\model_4_lr_scheduler\\assets\n"
     ]
    },
    {
     "name": "stderr",
     "output_type": "stream",
     "text": [
      "INFO:tensorflow:Assets written to: model_experiments\\model_4_lr_scheduler\\assets\n"
     ]
    },
    {
     "name": "stdout",
     "output_type": "stream",
     "text": [
      "750/750 [==============================] - 10s 14ms/step - loss: 0.2283 - accuracy: 0.9166 - val_loss: 0.2721 - val_accuracy: 0.9046 - lr: 5.0000e-04\n",
      "Epoch 16/20\n",
      "749/750 [============================>.] - ETA: 0s - loss: 0.2237 - accuracy: 0.9185\n",
      "Epoch 16: val_loss improved from 0.27207 to 0.27102, saving model to model_experiments\\model_4_lr_scheduler\n",
      "INFO:tensorflow:Assets written to: model_experiments\\model_4_lr_scheduler\\assets\n"
     ]
    },
    {
     "name": "stderr",
     "output_type": "stream",
     "text": [
      "INFO:tensorflow:Assets written to: model_experiments\\model_4_lr_scheduler\\assets\n"
     ]
    },
    {
     "name": "stdout",
     "output_type": "stream",
     "text": [
      "750/750 [==============================] - 16s 21ms/step - loss: 0.2238 - accuracy: 0.9185 - val_loss: 0.2710 - val_accuracy: 0.9038 - lr: 5.0000e-04\n",
      "Epoch 17/20\n",
      "747/750 [============================>.] - ETA: 0s - loss: 0.2206 - accuracy: 0.9200\n",
      "Epoch 17: val_loss improved from 0.27102 to 0.27086, saving model to model_experiments\\model_4_lr_scheduler\n",
      "INFO:tensorflow:Assets written to: model_experiments\\model_4_lr_scheduler\\assets\n"
     ]
    },
    {
     "name": "stderr",
     "output_type": "stream",
     "text": [
      "INFO:tensorflow:Assets written to: model_experiments\\model_4_lr_scheduler\\assets\n"
     ]
    },
    {
     "name": "stdout",
     "output_type": "stream",
     "text": [
      "750/750 [==============================] - 13s 17ms/step - loss: 0.2206 - accuracy: 0.9200 - val_loss: 0.2709 - val_accuracy: 0.9045 - lr: 5.0000e-04\n",
      "Epoch 18/20\n",
      "748/750 [============================>.] - ETA: 0s - loss: 0.2182 - accuracy: 0.9211\n",
      "Epoch 18: val_loss improved from 0.27086 to 0.27065, saving model to model_experiments\\model_4_lr_scheduler\n",
      "INFO:tensorflow:Assets written to: model_experiments\\model_4_lr_scheduler\\assets\n"
     ]
    },
    {
     "name": "stderr",
     "output_type": "stream",
     "text": [
      "INFO:tensorflow:Assets written to: model_experiments\\model_4_lr_scheduler\\assets\n"
     ]
    },
    {
     "name": "stdout",
     "output_type": "stream",
     "text": [
      "750/750 [==============================] - 11s 15ms/step - loss: 0.2182 - accuracy: 0.9211 - val_loss: 0.2707 - val_accuracy: 0.9050 - lr: 5.0000e-04\n",
      "Epoch 19/20\n",
      "745/750 [============================>.] - ETA: 0s - loss: 0.2161 - accuracy: 0.9216\n",
      "Epoch 19: val_loss did not improve from 0.27065\n",
      "750/750 [==============================] - 10s 13ms/step - loss: 0.2161 - accuracy: 0.9216 - val_loss: 0.2707 - val_accuracy: 0.9053 - lr: 5.0000e-04\n",
      "Epoch 20/20\n",
      "749/750 [============================>.] - ETA: 0s - loss: 0.2142 - accuracy: 0.9224\n",
      "Epoch 20: val_loss did not improve from 0.27065\n",
      "\n",
      "Epoch 20: ReduceLROnPlateau reducing learning rate to 4.9999996554106475e-05.\n",
      "750/750 [==============================] - 14s 19ms/step - loss: 0.2143 - accuracy: 0.9224 - val_loss: 0.2710 - val_accuracy: 0.9062 - lr: 5.0000e-04\n"
     ]
    }
   ],
   "source": [
    "model_4_history = model_4.fit(train_data,\n",
    "                              validation_data=val_data,\n",
    "                              steps_per_epoch=len(train_data),\n",
    "                              validation_steps=len(val_data),\n",
    "                              epochs=20,\n",
    "                              callbacks=[tensorboard(model_4.name),\n",
    "                                         checkpoint(model_4.name),\n",
    "                                         early_stopping,\n",
    "                                         reduce_lr])"
   ]
  },
  {
   "cell_type": "code",
   "execution_count": 164,
   "id": "28d729bd-27ad-4345-86aa-713e476ba276",
   "metadata": {},
   "outputs": [
    {
     "data": {
      "text/html": [
       "\n",
       "      <iframe id=\"tensorboard-frame-3477cbca9159309f\" width=\"100%\" height=\"800\" frameborder=\"0\">\n",
       "      </iframe>\n",
       "      <script>\n",
       "        (function() {\n",
       "          const frame = document.getElementById(\"tensorboard-frame-3477cbca9159309f\");\n",
       "          const url = new URL(\"/\", window.location);\n",
       "          const port = 8089;\n",
       "          if (port) {\n",
       "            url.port = port;\n",
       "          }\n",
       "          frame.src = url;\n",
       "        })();\n",
       "      </script>\n",
       "    "
      ],
      "text/plain": [
       "<IPython.core.display.HTML object>"
      ]
     },
     "metadata": {},
     "output_type": "display_data"
    }
   ],
   "source": [
    "%tensorboard --logdir model_logs --port 8089"
   ]
  },
  {
   "cell_type": "code",
   "execution_count": 156,
   "id": "d1167f3d-7eb7-4ff9-8609-aa01a9a8eb3c",
   "metadata": {},
   "outputs": [
    {
     "data": {
      "text/plain": [
       "<Axes: >"
      ]
     },
     "execution_count": 156,
     "metadata": {},
     "output_type": "execute_result"
    },
    {
     "data": {
      "image/png": "[encoded data removed]",
      "text/plain": [
       "<Figure size 640x480 with 1 Axes>"
      ]
     },
     "metadata": {},
     "output_type": "display_data"
    }
   ],
   "source": [
    "pd.DataFrame(model_4_history.history).plot()"
   ]
  },
  {
   "cell_type": "code",
   "execution_count": 158,
   "id": "f7502e68-49b8-41ea-a5c5-3ab68f459e70",
   "metadata": {},
   "outputs": [
    {
     "data": {
      "text/plain": [
       "<tf.Tensor: shape=(20,), dtype=float64, numpy=\n",
       "array([0.001     , 0.00125893, 0.00158489, 0.00199526, 0.00251189,\n",
       "       0.00316228, 0.00398107, 0.00501187, 0.00630957, 0.00794328,\n",
       "       0.01      , 0.01258925, 0.01584893, 0.01995262, 0.02511886,\n",
       "       0.03162278, 0.03981072, 0.05011872, 0.06309573, 0.07943282])>"
      ]
     },
     "execution_count": 158,
     "metadata": {},
     "output_type": "execute_result"
    }
   ],
   "source": [
    "lrs = 1e-3 * 10 ** (tf.range(20)/10)\n",
    "lrs"
   ]
  },
  {
   "cell_type": "code",
   "execution_count": 160,
   "id": "87301331-1f73-46b8-b7b5-eb0d3c716be6",
   "metadata": {},
   "outputs": [
    {
     "data": {
      "text/plain": [
       "[<matplotlib.lines.Line2D at 0x1fc24f43ac0>]"
      ]
     },
     "execution_count": 160,
     "metadata": {},
     "output_type": "execute_result"
    },
    {
     "data": {
      "image/png": "[encoded data removed]",
      "text/plain": [
       "<Figure size 1000x700 with 1 Axes>"
      ]
     },
     "metadata": {},
     "output_type": "display_data"
    }
   ],
   "source": [
    "plt.figure(figsize=(10, 7))\n",
    "plt.semilogx(lrs, model_4_history.history[\"val_accuracy\"])"
   ]
  },
  {
   "cell_type": "code",
   "execution_count": null,
   "id": "49ea4a77-68ce-4939-a535-dc53d9340be8",
   "metadata": {},
   "outputs": [],
   "source": []
  }
 ],
 "metadata": {
  "kernelspec": {
   "display_name": "mldl",
   "language": "python",
   "name": "mldl"
  },
  "language_info": {
   "codemirror_mode": {
    "name": "ipython",
    "version": 3
   },
   "file_extension": ".py",
   "mimetype": "text/x-python",
   "name": "python",
   "nbconvert_exporter": "python",
   "pygments_lexer": "ipython3",
   "version": "3.9.2"
  }
 },
 "nbformat": 4,
 "nbformat_minor": 5
}
